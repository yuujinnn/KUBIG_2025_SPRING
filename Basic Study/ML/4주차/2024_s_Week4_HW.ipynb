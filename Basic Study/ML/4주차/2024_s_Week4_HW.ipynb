{
 "cells": [
  {
   "cell_type": "markdown",
   "metadata": {
    "id": "VUOtHxoTJ_3m"
   },
   "source": [
    "# Week4 (Regression) 과제\n",
    "## Boston Housing Data 분석\n",
    "### 데이터 소개\n",
    "- **CRIM**: Per capita crime rate by town.\n",
    "- **ZN**: Proportion of residential land zoned for lots over 25,000 square feet.\n",
    "- **INDUS**: Proportion of non-retail business acres per town.\n",
    "- **CHAS**: Charles River dummy variable (= 1 if tract bounds river; 0 otherwise).\n",
    "- **NOX**: Nitric oxide concentration (parts per 10 million).\n",
    "- **RM**: Average number of rooms per dwelling.\n",
    "- **AGE**: Proportion of owner-occupied units built prior to 1940.\n",
    "- **DIS**: Weighted distances to five Boston employment centers.\n",
    "- **RAD**: Index of accessibility to radial highways.\n",
    "- **TAX**: Full-value property tax rate per $10,000.\n",
    "- **PTRATIO**: Pupil-teacher ratio by town.\n",
    "- **B**: 1000(Bk - 0.63)^2 where Bk is the proportion of Black residents by town.\n",
    "- **LSTAT**: Percentage of lower status of the population.\n",
    "\n",
    "Target Variable:\n",
    "- **MEDV**: Median value of owner-occupied homes in $1000s."
   ]
  },
  {
   "cell_type": "code",
   "execution_count": 1,
   "metadata": {
    "colab": {
     "base_uri": "https://localhost:8080/"
    },
    "executionInfo": {
     "elapsed": 81675,
     "status": "ok",
     "timestamp": 1721829587081,
     "user": {
      "displayName": "Insu Shin",
      "userId": "15408006383984625639"
     },
     "user_tz": -540
    },
    "id": "Sl3EFuKDH2GA",
    "outputId": "afa1ca36-4fdd-47af-a760-a9d60b9fdea0"
   },
   "outputs": [
    {
     "name": "stdout",
     "output_type": "stream",
     "text": [
      "Mounted at /content/drive\n"
     ]
    }
   ],
   "source": [
    "# 코랩 환경: 구글 드라이브를 코랩에 연동\n",
    "from google.colab import drive\n",
    "drive.mount('/content/drive')"
   ]
  },
  {
   "cell_type": "code",
   "execution_count": null,
   "metadata": {
    "id": "-lBSY4r9CDtt"
   },
   "outputs": [],
   "source": [
    "import numpy as np\n",
    "import pandas as pd\n",
    "import matplotlib.pyplot as plt\n",
    "import seaborn as sns\n",
    "import sys\n",
    "from sklearn import metrics\n",
    "from sklearn.model_selection import train_test_split\n",
    "from sklearn.linear_model import LinearRegression\n",
    "from sklearn.preprocessing import StandardScaler\n",
    "\n",
    "%matplotlib inline\n",
    "\n",
    "import warnings\n",
    "warnings.filterwarnings('ignore')"
   ]
  },
  {
   "cell_type": "code",
   "execution_count": null,
   "metadata": {
    "id": "2-QOO3jcDS8B"
   },
   "outputs": [],
   "source": [
    "# housing.xls가 포함된 경로를 저장해봅시다.\n",
    "PATH = ''"
   ]
  },
  {
   "cell_type": "code",
   "execution_count": null,
   "metadata": {
    "id": "DFJsmgkjJcFg"
   },
   "outputs": [],
   "source": [
    "# 본인 구글 드라이브에 업로드한 housing.xls 파일의 주소를 넣어주세요!\n",
    "house = pd.read_excel(PATH+'housing.xls')"
   ]
  },
  {
   "cell_type": "markdown",
   "metadata": {
    "id": "bdXgUxJvG50B"
   },
   "source": [
    "# Q1: `head`, `info`, `describe`, `shape` 함수를 실행해봅시다.\n",
    "\n",
    "과제2 참고"
   ]
  },
  {
   "cell_type": "code",
   "execution_count": null,
   "metadata": {
    "id": "0SAlhptkHJ-9"
   },
   "outputs": [],
   "source": [
    "# .head()\n",
    "\n",
    "# .info()\n",
    "\n",
    "# .describe()\n",
    "\n",
    "# .shape"
   ]
  },
  {
   "cell_type": "markdown",
   "metadata": {
    "id": "-l7XE5LzGf7A"
   },
   "source": [
    "# Q2: 각 변수의 결측치 (NaN 또는 Null)의 개수를 구해봅시다.\n",
    "\n",
    "과제2 참고"
   ]
  },
  {
   "cell_type": "code",
   "execution_count": null,
   "metadata": {
    "id": "px-pCZ6rGucJ"
   },
   "outputs": [],
   "source": [
    "# NaN의 개수 구하기\n"
   ]
  },
  {
   "cell_type": "markdown",
   "metadata": {
    "id": "td0BcyjZKn8n"
   },
   "source": [
    "# Q3: 각 변수별로 히스토그램을 그리고, Scatterplot Matrix를 그려봅시다\n",
    "\n",
    "과제2 참고"
   ]
  },
  {
   "cell_type": "code",
   "execution_count": null,
   "metadata": {
    "id": "4Wgj0aHeKuB-"
   },
   "outputs": [],
   "source": [
    "# Histogram\n"
   ]
  },
  {
   "cell_type": "code",
   "execution_count": null,
   "metadata": {
    "id": "Rac8lYTFKvWS"
   },
   "outputs": [],
   "source": [
    "# Scatterplot Matrix\n"
   ]
  },
  {
   "cell_type": "markdown",
   "metadata": {},
   "source": [
    "## Q3-1. 다중공선성(multicolinearity)을 확인하기 위해 VIF를 추가로 확인해봅시다."
   ]
  },
  {
   "cell_type": "code",
   "execution_count": null,
   "metadata": {},
   "outputs": [],
   "source": [
    "# 그대로 실행하기 !!\n",
    "from statsmodels.stats.outliers_influence import variance_inflation_factor\n",
    "\n",
    "vif = pd.DataFrame()\n",
    "vif['VIF Factor'] = [variance_inflation_factor(house.values, i) for i in range(house.shape[1])]\n",
    "vif['features'] = house.columns\n",
    "vif "
   ]
  },
  {
   "cell_type": "markdown",
   "metadata": {},
   "source": [
    "## Q3-2. \n",
    "VIF가 높은 변수가 하나씩 줄어들면 다른 변수들의 VIF에도 영향을 미치기 때문에 변수들을 한 번에 다 제거하기보다는 하나씩 제거하면서 확인해 나아가는 것이 바람직합니다! 여러 차례 VIF를 확인해보면서 변수를 제거해보세요!"
   ]
  },
  {
   "cell_type": "code",
   "execution_count": null,
   "metadata": {},
   "outputs": [],
   "source": [
    "vif = pd.DataFrame()\n",
    "x_data = house.drop( '###' ,axis=1) # VIF 높은 변수 기입\n",
    "vif[\"VIF Factor\"] = [variance_inflation_factor(x_data.values, i) for i in range(x_data.shape[1])]\n",
    "vif[\"features\"] = x_data.columns\n",
    "vif"
   ]
  },
  {
   "cell_type": "markdown",
   "metadata": {},
   "source": [
    "**house 데이터셋에 변수 제거를 적용하지 않고 우선 진행하세요! 추후에 MSE 비교를 통해 변수 제거를 확실히 해봅시다.**"
   ]
  },
  {
   "cell_type": "markdown",
   "metadata": {
    "id": "0OdgMOBaLOD8"
   },
   "source": [
    "# Q4: 데이터를 `X_train`, `X_test`, `y_train`, `y_test` 로 split해 봅시다\n",
    "\n",
    "split 비율은 자유롭게 정해보시기 바랍니다."
   ]
  },
  {
   "cell_type": "code",
   "execution_count": null,
   "metadata": {
    "id": "GIyCIY_BLqw6"
   },
   "outputs": [],
   "source": [
    "# train_test_split\n"
   ]
  },
  {
   "cell_type": "markdown",
   "metadata": {
    "id": "OHIsP8U_L-05"
   },
   "source": [
    "# Q5: `StandardScaler`로 표준화를 해봅시다\n",
    "\n",
    "CRIM, ZN, INDUS, NOX, RM, AGE, DIS, TAX, PTRATIO, B, LSTAT 변수들만 `StandardScaler`을 해봅시다. (이들 중 다중공선성으로 인해 제거한 변수들이 있다면 제외하고 진행해주세요.)\n",
    "\n",
    "`X_train`은 `fit_transform`, `X_test`는 `transform`을 이용하는 것에 유의합시다!"
   ]
  },
  {
   "cell_type": "code",
   "execution_count": null,
   "metadata": {
    "id": "wJQUw64dMmuX"
   },
   "outputs": [],
   "source": [
    "# StandardScaler\n"
   ]
  },
  {
   "cell_type": "markdown",
   "metadata": {
    "id": "BPE4kX-DNwf3"
   },
   "source": [
    "# Q6: 5-fold Cross-Validation으로 `LinearRegression`을 적합해봅시다.\n",
    "\n",
    "각 fold마다 적합 후 MSE, MAE, RMSE, $R^2$를 구하고, coefficient과 intercept를 `print` 해보세요."
   ]
  },
  {
   "cell_type": "code",
   "execution_count": null,
   "metadata": {
    "id": "tUt5yaNfNv6b"
   },
   "outputs": [],
   "source": [
    "# KFold, cross_val_score, cross_validation 이용\n"
   ]
  },
  {
   "cell_type": "markdown",
   "metadata": {},
   "source": [
    "### Q6-1: 다중공선성이 높았던 변수를 제거한 후 다시 train_test_split, scaler, 5-fold CV 과정으로 `LinearRegression`을 적합한 후 Q6에서 구한 평균 MSE(or MAE, RMSE, $R^2$)와 비교해보세요."
   ]
  },
  {
   "cell_type": "code",
   "execution_count": null,
   "metadata": {},
   "outputs": [],
   "source": [
    "# 다중공선성을 불러일으키는 변수 제거\n",
    "house_new = house.drop(['###'], axis=1) # VIF 높은 변수들 기입"
   ]
  },
  {
   "cell_type": "code",
   "execution_count": null,
   "metadata": {},
   "outputs": [],
   "source": [
    "# train_test_split\n",
    "\n",
    "\n",
    "# StandardScaler\n",
    "\n",
    "\n",
    "# KFold, cross_val_score, cross_validation 이용\n"
   ]
  },
  {
   "cell_type": "markdown",
   "metadata": {
    "id": "y7ChBncIn0lA"
   },
   "source": [
    "# Q7: `GridSearchCV`를 이용하여 `Lasso`를 적합해봅시다.\n",
    "\n",
    "찾아야 하는 최적 파라미터는\n",
    "\n",
    "- `alpha`: 0.01, 0.1, 1, 10 중에서 찾기\n",
    "- `fit_intercept`: `True`, `False`에서 찾기\n",
    "\n",
    "https://scikit-learn.org/stable/modules/model_evaluation.html#scoring-parameter\n",
    "\n",
    "위 링크를 참조하여 `GridSearCV`의 `scoring`을 3가지 이상 사용해보세요"
   ]
  },
  {
   "cell_type": "code",
   "execution_count": null,
   "metadata": {
    "id": "kH7iFSYXox1p"
   },
   "outputs": [],
   "source": [
    "from sklearn.model_selection import GridSearchCV\n",
    "from sklearn.linear_model import Lasso\n",
    "\n",
    "# param_grid\n",
    "\n"
   ]
  },
  {
   "cell_type": "markdown",
   "metadata": {
    "id": "ZCfmgomzp8pP"
   },
   "source": [
    "# Q8(Optional): BONUS! `RandomizedSearchCV`를 이용하여 `Ridge`를 적합해 봅시다.\n",
    "\n",
    "CV를 이용한 hyperparameter tuning의 또다른 방법은 `RandomizedSearchCV`입니다.\n",
    "Tuning해야 하는 모수가 많을 경우 이 방법이 빠르다는 장점이 있습니다.\n",
    "\n",
    "https://scikit-learn.org/stable/modules/generated/sklearn.model_selection.RandomizedSearchCV.html#\n",
    "\n",
    "위 링크를 참조하거나 구글링을 하여 `Ridge`를 적합해보세요.\n",
    "\n",
    "`n_iter`와, 파라미터 공간을 자유롭게 조정해보세요."
   ]
  },
  {
   "cell_type": "code",
   "execution_count": null,
   "metadata": {
    "id": "MkmRnFxvp8O7"
   },
   "outputs": [],
   "source": []
  }
 ],
 "metadata": {
  "colab": {
   "authorship_tag": "ABX9TyMOaBy9mTwlnGrDDMmV07Sp",
   "provenance": []
  },
  "kernelspec": {
   "display_name": "Python 3",
   "name": "python3"
  },
  "language_info": {
   "name": "python"
  }
 },
 "nbformat": 4,
 "nbformat_minor": 0
}
