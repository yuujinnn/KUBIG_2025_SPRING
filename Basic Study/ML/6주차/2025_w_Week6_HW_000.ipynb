{
 "cells": [
  {
   "cell_type": "markdown",
   "metadata": {
    "id": "VUOtHxoTJ_3m"
   },
   "source": [
    "# `make_regression`을 이용한 PCA Regression\n",
    "\n",
    "https://scikit-learn.org/stable/modules/generated/sklearn.datasets.make_regression.html\n",
    "\n",
    "scikit-learn에서는 `make_regression` 함수를 이용하여 회귀분석을 연습하기 위한 데이터셋을 만들 수 있다. 이를 이용해서 Principal Component Regression을 연습하는 과제를 진행해보자.\n",
    "\n"
   ]
  },
  {
   "cell_type": "markdown",
   "metadata": {
    "id": "6aMAHIY1oRmQ"
   },
   "source": [
    "# 패키지 불러오기"
   ]
  },
  {
   "cell_type": "code",
   "execution_count": null,
   "metadata": {
    "id": "-lBSY4r9CDtt"
   },
   "outputs": [],
   "source": [
    "import numpy as np\n",
    "import pandas as pd\n",
    "from sklearn.datasets import make_regression"
   ]
  },
  {
   "cell_type": "markdown",
   "metadata": {
    "id": "FeqkNrULoXWZ"
   },
   "source": [
    "# Q1 `make_regression` 함수로 데이터 생성해보자\n",
    "\n",
    "독립변수는 X1부터 X10까지, 종속변수는 Y를 생성하자. 표본 크기는 1000으로 설정하고, `noise`, `random_state`, `bias`등의 변수는 자유롭게 설정해보자."
   ]
  },
  {
   "cell_type": "code",
   "execution_count": null,
   "metadata": {
    "id": "1i1RCq_goWgy"
   },
   "outputs": [],
   "source": [
    "# make_regression로 데이터 생성\n"
   ]
  },
  {
   "cell_type": "markdown",
   "metadata": {
    "id": "krZXJF3WpAFj"
   },
   "source": [
    "# Q2 EDA를 해보자\n",
    "\n",
    "각 변수별 히스토그램, scatterplot matrix, correlation matrix, 요약통계량(descriptive statistics)를 그려보자\n"
   ]
  },
  {
   "cell_type": "code",
   "execution_count": null,
   "metadata": {
    "id": "Sl3EFuKDH2GA"
   },
   "outputs": [],
   "source": [
    "# 히스토그램\n",
    "\n",
    "# Scatterplot matrix\n",
    "\n",
    "# Correlation matrix\n",
    "\n",
    "# 요약 통계량\n"
   ]
  },
  {
   "cell_type": "markdown",
   "metadata": {
    "id": "R8r4DupvpaPf"
   },
   "source": [
    "# Q3 `StandardScaler` 로 scaling을 해보자\n",
    "\n",
    "X 변수들에 대해 `StandarScaler`를 이용하여 표준화를 해보자.\n",
    "PCA를 하기 전에 스케일링을 한다는 점을 유의하자."
   ]
  },
  {
   "cell_type": "code",
   "execution_count": null,
   "metadata": {
    "id": "2-QOO3jcDS8B"
   },
   "outputs": [],
   "source": [
    "from sklearn.preprocessing import StandardScaler\n",
    "\n",
    "# 스케일링하기\n"
   ]
  },
  {
   "cell_type": "markdown",
   "metadata": {
    "id": "CdvUFIx5pzpm"
   },
   "source": [
    "# Q4 `PCA`를 해보자\n",
    "\n",
    "`PCA` 함수를 이용하여 PCA를 해보자. 또 다음을 해보자.\n",
    "\n",
    "- PC1 부터 PC10 까지 Scree plot을 그려보자\n",
    "- PC1과 PC2를 가지고 scatterplot을 그려보자."
   ]
  },
  {
   "cell_type": "code",
   "execution_count": null,
   "metadata": {
    "id": "P_BhgqUVnXnE"
   },
   "outputs": [],
   "source": [
    "from sklearn.decomposition import PCA\n",
    "\n",
    "# PCA 계산하기\n",
    "pca = PCA()\n",
    "\n",
    "# Scree plot 그리기\n",
    "\n",
    "# PC1 와 PC2 산점도 그리기\n"
   ]
  },
  {
   "cell_type": "markdown",
   "metadata": {
    "id": "t0Ymcxv5qVVH"
   },
   "source": [
    "# Q5 `train_test_split`을 해보자\n",
    "\n",
    "Train set과 Test set을 6:4 비율로 나눠보자"
   ]
  },
  {
   "cell_type": "code",
   "execution_count": null,
   "metadata": {
    "id": "axbBFtDVndGu"
   },
   "outputs": [],
   "source": [
    "from sklearn.model_selection import train_test_split\n",
    "\n",
    "# train set과 test set 나누기\n"
   ]
  },
  {
   "cell_type": "markdown",
   "metadata": {
    "id": "5yw1tAVTqmSk"
   },
   "source": [
    "#  Q6 Principal Component Regression을 진행해보자.\n",
    "\n",
    "Q5에서 만든 데이터로부터 다음의 과정으로 문제를 풀어보자.\n",
    "- Y를 종속변수(`y_train`), `X_train`의 PC1을 종속변수로 하여 Linear Regression을 적합한다.\n",
    "- `y_pred`과 `y_train`을 비교하여 train error의 MSE를 구한다.\n",
    "- Principal component을 하나 늘려 Linear regression을 적합한다. 즉 Y에 대해 PC1, PC2으로 Linear Regression을 적합한다.\n",
    "- 마찬가지로 train error의 MSE를 구한다.\n",
    "- PC10까지 같은 과정을 반복하고, MSE를 비교한다.\n",
    "\n"
   ]
  },
  {
   "cell_type": "code",
   "execution_count": null,
   "metadata": {
    "id": "PXFX5vDnngxv"
   },
   "outputs": [],
   "source": [
    "from sklearn.linear_model import LinearRegression\n",
    "from sklearn.metrics import mean_squared_error\n",
    "\n",
    "# train MSE 저장\n",
    "mse_train = []\n",
    "\n",
    "# 회귀모형 적합\n",
    "\n"
   ]
  },
  {
   "cell_type": "markdown",
   "metadata": {
    "id": "zIX5Mtz-r6yZ"
   },
   "source": [
    "# Q7 Test error을 계산해보자.\n",
    "\n",
    "위 과정에서 적합한 모형을 바탕으로 `y_test`을 추정하고 `y_test`와의 MSE를 계산하여 test error을 구해보자."
   ]
  },
  {
   "cell_type": "code",
   "execution_count": null,
   "metadata": {
    "id": "7AUYKgxBniUt"
   },
   "outputs": [],
   "source": [
    "# test MSE 저장\n",
    "mse_test = []\n"
   ]
  },
  {
   "cell_type": "markdown",
   "metadata": {},
   "source": [
    "# Bonus: MNIST 데이터로 PCA와 T-SNE 시각화 비교\n",
    "\n",
    "데이터 로드"
   ]
  },
  {
   "cell_type": "code",
   "execution_count": null,
   "metadata": {},
   "outputs": [],
   "source": [
    "import tensorflow as tf\n",
    "from tensorflow.keras.datasets import mnist\n",
    "import matplotlib.pyplot as plt\n",
    "import numpy as np\n",
    "\n",
    "(x_train, y_train), (x_test, y_test) = mnist.load_data()\n",
    "x_train = x_train.astype('float32') / 255\n",
    "x_test = x_test.astype('float32') / 255\n",
    "x_train = x_train.reshape((len(x_train), np.prod(x_train.shape[1:])))\n",
    "x_test = x_test.reshape((len(x_test), np.prod(x_test.shape[1:])))\n",
    "print(x_train.shape)\n",
    "print(x_test.shape)"
   ]
  },
  {
   "cell_type": "markdown",
   "metadata": {},
   "source": [
    "이미지로 보여주는 함수 정의 (가로로 10개의 이미지가 하나의 군집)"
   ]
  },
  {
   "cell_type": "code",
   "execution_count": null,
   "metadata": {},
   "outputs": [],
   "source": [
    "import matplotlib.pyplot as plt\n",
    "\n",
    "# 가로로 10개의 이미지가 하나의 군집\n",
    "def viz_img(y_pred):\n",
    "    n = 10\n",
    "    fig = plt.figure(1)\n",
    "    box_index = 1\n",
    "    for cluster in range(10):\n",
    "        result = np.where(y_pred == cluster)\n",
    "        for i in np.random.choice(result[0].tolist(), n, replace=False):\n",
    "            ax = fig.add_subplot(n, n, box_index)\n",
    "            plt.imshow(x_train[i].reshape(28, 28))\n",
    "            plt.gray()\n",
    "            ax.get_xaxis().set_visible(False)\n",
    "            ax.get_yaxis().set_visible(False)\n",
    "            box_index += 1\n",
    "    plt.show()"
   ]
  },
  {
   "cell_type": "markdown",
   "metadata": {},
   "source": [
    "### PCA"
   ]
  },
  {
   "cell_type": "code",
   "execution_count": null,
   "metadata": {},
   "outputs": [],
   "source": [
    "from sklearn.decomposition import PCA\n",
    "pca = PCA(n_components=30).fit(x_train)\n",
    "reduced_X = pca.transform(x_train)\n",
    "\n",
    "from sklearn.cluster import KMeans\n",
    "from sklearn.metrics import accuracy_score\n",
    "\n",
    "model = KMeans(init='k-means++', n_clusters=10)\n",
    "model.fit(reduced_X)\n",
    "y_pred = model.labels_\n",
    "\n",
    "viz_img(y_pred)"
   ]
  },
  {
   "cell_type": "markdown",
   "metadata": {},
   "source": [
    "시각화를 위해 주성분 개수를 2개로 설정한 후 시각화를 진행해보세요."
   ]
  },
  {
   "cell_type": "code",
   "execution_count": null,
   "metadata": {},
   "outputs": [],
   "source": [
    "pca = ###\n",
    "reduced_X = pca.transform(x_train)\n",
    "df = pd.DataFrame({'Column1': reduced_X[:,0], 'Column2': reduced_X[:,1]})\n",
    "df['y_train'] = pd.Series(y_train, index=df.index)\n",
    "\n",
    "plt.scatter(df['Column1'], df['Column2'], c=df['y_train'], cmap='tab10', alpha=0.7)\n",
    "plt.show()"
   ]
  },
  {
   "cell_type": "markdown",
   "metadata": {},
   "source": [
    "### T-SNE (그냥 실행해주세요!)"
   ]
  },
  {
   "cell_type": "code",
   "execution_count": null,
   "metadata": {},
   "outputs": [],
   "source": [
    "from sklearn.manifold import TSNE\n",
    "\n",
    "model = TSNE(n_components=2, learning_rate=100)\n",
    "transformed = model.fit_transform(x_train) # 좀 오래걸림(30분)\n",
    "dataset = pd.DataFrame({'Column1': transformed[:,0], 'Column2': transformed[:,1]})\n",
    "dataset['y_train'] = pd.Series(y_train, index=dataset.index)\n",
    "\n",
    "plt.scatter(dataset['Column1'], dataset['Column2'], c=dataset['y_train'], cmap='tab10', alpha=0.7)\n",
    "plt.show()"
   ]
  }
 ],
 "metadata": {
  "colab": {
   "authorship_tag": "ABX9TyNJ81QXiHD657TLDoPhzXI4",
   "provenance": []
  },
  "kernelspec": {
   "display_name": "base",
   "language": "python",
   "name": "python3"
  },
  "language_info": {
   "codemirror_mode": {
    "name": "ipython",
    "version": 3
   },
   "file_extension": ".py",
   "mimetype": "text/x-python",
   "name": "python",
   "nbconvert_exporter": "python",
   "pygments_lexer": "ipython3",
   "version": "3.11.3"
  }
 },
 "nbformat": 4,
 "nbformat_minor": 0
}
