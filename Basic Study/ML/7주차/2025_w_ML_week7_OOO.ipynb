{
 "cells": [
  {
   "cell_type": "code",
   "execution_count": 3,
   "metadata": {},
   "outputs": [],
   "source": [
    "import numpy as np\n",
    "import pandas as pd\n",
    "import matplotlib.pyplot as plt\n",
    "import seaborn as sns\n",
    "from sklearn.cluster import KMeans, AgglomerativeClustering\n",
    "from sklearn.mixture import GaussianMixture\n",
    "from sklearn.metrics import silhouette_score\n",
    "from scipy.cluster.hierarchy import dendrogram, linkage\n",
    "from sklearn.datasets import make_blobs"
   ]
  },
  {
   "cell_type": "markdown",
   "metadata": {},
   "source": [
    "## 1. 데이터 생성"
   ]
  },
  {
   "cell_type": "markdown",
   "metadata": {},
   "source": [
    "### `make_blobs` 가 받는 argument 각각의 의미를 알아보세요."
   ]
  },
  {
   "cell_type": "markdown",
   "metadata": {},
   "source": []
  },
  {
   "cell_type": "code",
   "execution_count": 4,
   "metadata": {},
   "outputs": [],
   "source": [
    "np.random.seed(42)\n",
    "X, y = make_blobs(n_samples=300, centers=4, cluster_std=1.0, random_state=42)"
   ]
  },
  {
   "cell_type": "markdown",
   "metadata": {},
   "source": [
    "## 2. K-means 클러스터링\n",
    "K-means 알고리즘을 사용하여 데이터셋을 4개의 클러스터로 나누어 봅시다."
   ]
  },
  {
   "cell_type": "code",
   "execution_count": null,
   "metadata": {},
   "outputs": [],
   "source": [
    "kmeans = KMeans(n_clusters=4, random_state=42)\n",
    "kmeans_labels = kmeans.fit_predict(X)"
   ]
  },
  {
   "cell_type": "markdown",
   "metadata": {},
   "source": [
    "### 클러스터가 더 퍼져 있으면 K-means 결과는 어떻게 달라질까요? 결과를 해석해보세요."
   ]
  },
  {
   "cell_type": "code",
   "execution_count": null,
   "metadata": {},
   "outputs": [],
   "source": [
    "X_varied, y_varied = make_blobs(n_samples=300, centers=4, cluster_std=2.0, random_state=42)\n",
    "kmeans_varied = KMeans(n_clusters=4, random_state=42)\n",
    "kmeans_varied_labels = kmeans_varied.fit_predict(X_varied)"
   ]
  },
  {
   "cell_type": "code",
   "execution_count": null,
   "metadata": {},
   "outputs": [],
   "source": [
    "plt.figure(figsize=(12, 5))\n",
    "plt.subplot(1, 2, 1)\n",
    "plt.scatter(X[:, 0], X[:, 1], c=kmeans_labels, cmap='viridis')\n",
    "plt.title('Cluster_std=1.0')\n",
    "plt.subplot(1, 2, 2)\n",
    "plt.scatter(X_varied[:, 0], X_varied[:, 1], c=kmeans_varied_labels, cmap='viridis')\n",
    "plt.title('Cluster_std=2.0')\n",
    "plt.show()"
   ]
  },
  {
   "cell_type": "markdown",
   "metadata": {},
   "source": [
    "## 3. 계층적 클러스터링\n",
    "계층적 클러스터링을 사용하여 데이터를 4개의 클러스터로 그룹화해봅시다"
   ]
  },
  {
   "cell_type": "code",
   "execution_count": 8,
   "metadata": {},
   "outputs": [],
   "source": [
    "hierarchical = AgglomerativeClustering(n_clusters=4)\n",
    "hierarchical_labels = hierarchical.fit_predict(X)"
   ]
  },
  {
   "cell_type": "markdown",
   "metadata": {},
   "source": [
    "## 실습 2: Hierarchical Clustering linkage 방법 비교\n",
    "### 서로 다른 linkage 방법(single, complete, average)에 따라 클러스터링 결과가 어떻게 달라지나요?"
   ]
  },
  {
   "cell_type": "markdown",
   "metadata": {},
   "source": []
  },
  {
   "cell_type": "code",
   "execution_count": null,
   "metadata": {},
   "outputs": [],
   "source": [
    "for method in ['single', 'complete', 'average']:\n",
    "    plt.figure(figsize=(10, 5))\n",
    "    Z = linkage(X, method=method)\n",
    "    dendrogram(Z)\n",
    "    plt.title(f'Dendrogram ({method} linkage)')\n",
    "    plt.xlabel('Data Points')\n",
    "    plt.ylabel('Euclidean Distance')\n",
    "    plt.show()"
   ]
  },
  {
   "cell_type": "markdown",
   "metadata": {},
   "source": [
    "## 4. GMM (Gaussian Mixture Model)\n",
    "GMM을 사용하여 데이터를 4개의 클러스터로 분류해봅시다"
   ]
  },
  {
   "cell_type": "code",
   "execution_count": 10,
   "metadata": {},
   "outputs": [],
   "source": [
    "gmm = GaussianMixture(n_components=4, random_state=42)\n",
    "gmm_labels = gmm.fit_predict(X)"
   ]
  },
  {
   "cell_type": "markdown",
   "metadata": {},
   "source": [
    "### GMM에서 가우시안 개수를 조정하면 클러스터링 결과는 어떻게 달라질까요?"
   ]
  },
  {
   "cell_type": "code",
   "execution_count": null,
   "metadata": {},
   "outputs": [],
   "source": [
    "for n in [3, 4, 5]:\n",
    "    gmm_test = GaussianMixture(n_components=n, random_state=42)\n",
    "    gmm_test_labels = gmm_test.fit_predict(X)\n",
    "    plt.scatter(X[:, 0], X[:, 1], c=gmm_test_labels, cmap='viridis')\n",
    "    plt.title(f'GMM with {n} components')\n",
    "    plt.show()"
   ]
  },
  {
   "cell_type": "markdown",
   "metadata": {},
   "source": [
    "## 5-1. Silhouette Score"
   ]
  },
  {
   "cell_type": "markdown",
   "metadata": {},
   "source": [
    "클러스터의 수를 결정하는 데 쓰이는 method를 각각 설명해주세요."
   ]
  },
  {
   "cell_type": "markdown",
   "metadata": {},
   "source": []
  },
  {
   "cell_type": "code",
   "execution_count": 16,
   "metadata": {},
   "outputs": [],
   "source": [
    "kmeans_silhouette = silhouette_score(X, kmeans_labels)\n",
    "hierarchical_silhouette = silhouette_score(X, hierarchical_labels)\n",
    "gmm_silhouette = silhouette_score(X, gmm_labels)"
   ]
  },
  {
   "cell_type": "markdown",
   "metadata": {},
   "source": [
    "### Silhouette Score를 기준으로 보면, 가장 적절한 클러스터 개수는 몇 개일까요?"
   ]
  },
  {
   "cell_type": "markdown",
   "metadata": {},
   "source": []
  },
  {
   "cell_type": "code",
   "execution_count": 18,
   "metadata": {},
   "outputs": [],
   "source": [
    "silhouette_scores = {}\n",
    "k_values = range(2, 10)\n",
    "for k in k_values:\n",
    "    kmeans_test = KMeans(n_clusters=k, random_state=42)\n",
    "    labels = kmeans_test.fit_predict(X)\n",
    "    silhouette_scores[k] = silhouette_score(X, labels)"
   ]
  },
  {
   "cell_type": "code",
   "execution_count": null,
   "metadata": {},
   "outputs": [],
   "source": [
    "plt.plot(list(silhouette_scores.keys()), list(silhouette_scores.values()), marker='o')\n",
    "plt.xlabel('Number of Clusters')\n",
    "plt.ylabel('Silhouette Score')\n",
    "plt.title('Optimal Cluster Number using Silhouette Score')\n",
    "plt.show()"
   ]
  },
  {
   "cell_type": "markdown",
   "metadata": {},
   "source": [
    "## 5-2. Elbow Method"
   ]
  },
  {
   "cell_type": "code",
   "execution_count": 21,
   "metadata": {},
   "outputs": [],
   "source": [
    "wcss = []\n",
    "k_values = range(1, 11)\n",
    "for k in k_values:\n",
    "    km = KMeans(n_clusters=k, random_state=42)\n",
    "    km.fit(X)\n",
    "    wcss.append(km.inertia_)"
   ]
  },
  {
   "cell_type": "markdown",
   "metadata": {},
   "source": [
    "### Elbow Method를 기준으로 보면, 'elbow point'는 몇 개의 클러스터를 선택해야 한다고 말하나요?"
   ]
  },
  {
   "cell_type": "code",
   "execution_count": null,
   "metadata": {},
   "outputs": [],
   "source": [
    "plt.figure(figsize=(8, 5))\n",
    "plt.plot(k_values, wcss, marker='o', linestyle='--')\n",
    "plt.xlabel('Number of Clusters')\n",
    "plt.ylabel('WCSS')\n",
    "plt.title('Elbow Method for Optimal K')\n",
    "plt.show()"
   ]
  }
 ],
 "metadata": {
  "kernelspec": {
   "display_name": "Python 3",
   "language": "python",
   "name": "python3"
  },
  "language_info": {
   "codemirror_mode": {
    "name": "ipython",
    "version": 3
   },
   "file_extension": ".py",
   "mimetype": "text/x-python",
   "name": "python",
   "nbconvert_exporter": "python",
   "pygments_lexer": "ipython3",
   "version": "3.12.6"
  }
 },
 "nbformat": 4,
 "nbformat_minor": 2
}
