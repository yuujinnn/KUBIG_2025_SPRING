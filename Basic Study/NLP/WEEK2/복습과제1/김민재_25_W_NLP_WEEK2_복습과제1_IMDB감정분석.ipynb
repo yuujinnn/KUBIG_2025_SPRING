{
  "cells": [
    {
      "cell_type": "markdown",
      "metadata": {
        "id": "oDoKDVWfAs6g"
      },
      "source": [
        "# 1. IMDB intro\n",
        "\n",
        "IMDB는 영화에 대한 여러 정보를 제공하는 웹사이트입니다. 이 웹사이트에서 작성된 리뷰들은 감정분석에서 사용되는 대표적인 데이터셋으로 유명하죠.\n",
        "\n",
        "이번 과제에서는 Kaggle의 Bag of Words Meets Bags of Popcorn이라는 **감성분석** 튜토리얼을 진행해볼 것입니다.\n",
        "\n",
        "참고: https://www.kaggle.com/competitions/word2vec-nlp-tutorial/overview\n",
        "\n",
        "지난 예습과제에서는 한국어 데이터를 만져보았다면, 이번 데이터는 영어 데이터입니다. 두 언어 간 차이로 인해 전처리 과정에서도 미묘한 차이가 존재합니다.\n",
        "\n",
        "주어지는 데이터셋은 train set과 test set 모두 25,000개의 긍정 부정 리뷰로 구성되어 있으며, 긍정인 경우엔 label이 1이고, 부정인 경우엔 label이 0입니다."
      ]
    },
    {
      "cell_type": "markdown",
      "metadata": {
        "id": "UffzIYPZCSpE"
      },
      "source": [
        "# 2. Load Files\n",
        "\n",
        "구글 드라이브에 다운받은 파일을 저장하고, 파일을 불러온다."
      ]
    },
    {
      "cell_type": "code",
      "execution_count": 1,
      "metadata": {
        "id": "bd2qHQ4RZZgw",
        "colab": {
          "base_uri": "https://localhost:8080/"
        },
        "outputId": "4f7ff249-a755-4378-d5cd-7b03565ebc7d"
      },
      "outputs": [
        {
          "output_type": "stream",
          "name": "stdout",
          "text": [
            "Mounted at /content/drive\n"
          ]
        }
      ],
      "source": [
        "from google.colab import drive\n",
        "drive.mount('/content/drive')"
      ]
    },
    {
      "cell_type": "code",
      "execution_count": 2,
      "metadata": {
        "id": "2kMlmKUyZ331",
        "colab": {
          "base_uri": "https://localhost:8080/"
        },
        "outputId": "82c8964e-f53d-4550-bad2-1bf16f264572"
      },
      "outputs": [
        {
          "output_type": "stream",
          "name": "stderr",
          "text": [
            "[nltk_data] Downloading package stopwords to /root/nltk_data...\n",
            "[nltk_data]   Unzipping corpora/stopwords.zip.\n",
            "[nltk_data] Downloading package wordnet to /root/nltk_data...\n",
            "[nltk_data] Downloading package omw-1.4 to /root/nltk_data...\n"
          ]
        }
      ],
      "source": [
        "import pandas as pd\n",
        "from bs4 import BeautifulSoup\n",
        "from nltk.stem import WordNetLemmatizer\n",
        "import re\n",
        "import nltk\n",
        "from nltk.corpus import stopwords\n",
        "nltk.download('stopwords')\n",
        "from nltk.stem import PorterStemmer\n",
        "nltk.download('wordnet')\n",
        "nltk.download('omw-1.4')\n",
        "from nltk.stem import WordNetLemmatizer\n",
        "import matplotlib as plt"
      ]
    },
    {
      "cell_type": "code",
      "execution_count": 4,
      "metadata": {
        "id": "D1EijdrtZ8ee"
      },
      "outputs": [],
      "source": [
        "train = pd.read_csv('/content/drive/MyDrive/NLP_basicstudy/IMDB/labeledTrainData.tsv', header=0, delimiter='\\t', quoting=3)\n",
        "test = pd.read_csv('/content/drive/MyDrive/NLP_basicstudy/IMDB/testData.tsv', header=0, delimiter='\\t', quoting=3)\n",
        "submit = pd.read_csv('/content/drive/MyDrive/NLP_basicstudy/IMDB/sampleSubmission.csv')"
      ]
    },
    {
      "cell_type": "markdown",
      "metadata": {
        "id": "2vzS781TdzZ_"
      },
      "source": [
        "\n",
        "\n",
        "---\n",
        "\n"
      ]
    },
    {
      "cell_type": "markdown",
      "metadata": {
        "id": "SyaLQ2WQdVdu"
      },
      "source": [
        "# 3. 간략한 데이터 탐색"
      ]
    },
    {
      "cell_type": "code",
      "execution_count": 5,
      "metadata": {
        "id": "6yhXqCqtaPrb",
        "colab": {
          "base_uri": "https://localhost:8080/"
        },
        "outputId": "cc35db77-dc5b-4422-fdb5-39b08ddd72c8"
      },
      "outputs": [
        {
          "output_type": "stream",
          "name": "stdout",
          "text": [
            "<class 'pandas.core.frame.DataFrame'>\n",
            "RangeIndex: 25000 entries, 0 to 24999\n",
            "Data columns (total 3 columns):\n",
            " #   Column     Non-Null Count  Dtype \n",
            "---  ------     --------------  ----- \n",
            " 0   id         25000 non-null  object\n",
            " 1   sentiment  25000 non-null  int64 \n",
            " 2   review     25000 non-null  object\n",
            "dtypes: int64(1), object(2)\n",
            "memory usage: 586.1+ KB\n"
          ]
        }
      ],
      "source": [
        "train.info()"
      ]
    },
    {
      "cell_type": "code",
      "execution_count": 6,
      "metadata": {
        "id": "fXrzdlRKc3nc",
        "colab": {
          "base_uri": "https://localhost:8080/",
          "height": 206
        },
        "outputId": "2ac0133b-1024-46ce-e1e7-d98e883d8b0c"
      },
      "outputs": [
        {
          "output_type": "execute_result",
          "data": {
            "text/plain": [
              "         id  sentiment                                             review\n",
              "0  \"5814_8\"          1  \"With all this stuff going down at the moment ...\n",
              "1  \"2381_9\"          1  \"\\\"The Classic War of the Worlds\\\" by Timothy ...\n",
              "2  \"7759_3\"          0  \"The film starts with a manager (Nicholas Bell...\n",
              "3  \"3630_4\"          0  \"It must be assumed that those who praised thi...\n",
              "4  \"9495_8\"          1  \"Superbly trashy and wondrously unpretentious ..."
            ],
            "text/html": [
              "\n",
              "  <div id=\"df-ec787189-d453-405c-885b-d9c57c37efcb\" class=\"colab-df-container\">\n",
              "    <div>\n",
              "<style scoped>\n",
              "    .dataframe tbody tr th:only-of-type {\n",
              "        vertical-align: middle;\n",
              "    }\n",
              "\n",
              "    .dataframe tbody tr th {\n",
              "        vertical-align: top;\n",
              "    }\n",
              "\n",
              "    .dataframe thead th {\n",
              "        text-align: right;\n",
              "    }\n",
              "</style>\n",
              "<table border=\"1\" class=\"dataframe\">\n",
              "  <thead>\n",
              "    <tr style=\"text-align: right;\">\n",
              "      <th></th>\n",
              "      <th>id</th>\n",
              "      <th>sentiment</th>\n",
              "      <th>review</th>\n",
              "    </tr>\n",
              "  </thead>\n",
              "  <tbody>\n",
              "    <tr>\n",
              "      <th>0</th>\n",
              "      <td>\"5814_8\"</td>\n",
              "      <td>1</td>\n",
              "      <td>\"With all this stuff going down at the moment ...</td>\n",
              "    </tr>\n",
              "    <tr>\n",
              "      <th>1</th>\n",
              "      <td>\"2381_9\"</td>\n",
              "      <td>1</td>\n",
              "      <td>\"\\\"The Classic War of the Worlds\\\" by Timothy ...</td>\n",
              "    </tr>\n",
              "    <tr>\n",
              "      <th>2</th>\n",
              "      <td>\"7759_3\"</td>\n",
              "      <td>0</td>\n",
              "      <td>\"The film starts with a manager (Nicholas Bell...</td>\n",
              "    </tr>\n",
              "    <tr>\n",
              "      <th>3</th>\n",
              "      <td>\"3630_4\"</td>\n",
              "      <td>0</td>\n",
              "      <td>\"It must be assumed that those who praised thi...</td>\n",
              "    </tr>\n",
              "    <tr>\n",
              "      <th>4</th>\n",
              "      <td>\"9495_8\"</td>\n",
              "      <td>1</td>\n",
              "      <td>\"Superbly trashy and wondrously unpretentious ...</td>\n",
              "    </tr>\n",
              "  </tbody>\n",
              "</table>\n",
              "</div>\n",
              "    <div class=\"colab-df-buttons\">\n",
              "\n",
              "  <div class=\"colab-df-container\">\n",
              "    <button class=\"colab-df-convert\" onclick=\"convertToInteractive('df-ec787189-d453-405c-885b-d9c57c37efcb')\"\n",
              "            title=\"Convert this dataframe to an interactive table.\"\n",
              "            style=\"display:none;\">\n",
              "\n",
              "  <svg xmlns=\"http://www.w3.org/2000/svg\" height=\"24px\" viewBox=\"0 -960 960 960\">\n",
              "    <path d=\"M120-120v-720h720v720H120Zm60-500h600v-160H180v160Zm220 220h160v-160H400v160Zm0 220h160v-160H400v160ZM180-400h160v-160H180v160Zm440 0h160v-160H620v160ZM180-180h160v-160H180v160Zm440 0h160v-160H620v160Z\"/>\n",
              "  </svg>\n",
              "    </button>\n",
              "\n",
              "  <style>\n",
              "    .colab-df-container {\n",
              "      display:flex;\n",
              "      gap: 12px;\n",
              "    }\n",
              "\n",
              "    .colab-df-convert {\n",
              "      background-color: #E8F0FE;\n",
              "      border: none;\n",
              "      border-radius: 50%;\n",
              "      cursor: pointer;\n",
              "      display: none;\n",
              "      fill: #1967D2;\n",
              "      height: 32px;\n",
              "      padding: 0 0 0 0;\n",
              "      width: 32px;\n",
              "    }\n",
              "\n",
              "    .colab-df-convert:hover {\n",
              "      background-color: #E2EBFA;\n",
              "      box-shadow: 0px 1px 2px rgba(60, 64, 67, 0.3), 0px 1px 3px 1px rgba(60, 64, 67, 0.15);\n",
              "      fill: #174EA6;\n",
              "    }\n",
              "\n",
              "    .colab-df-buttons div {\n",
              "      margin-bottom: 4px;\n",
              "    }\n",
              "\n",
              "    [theme=dark] .colab-df-convert {\n",
              "      background-color: #3B4455;\n",
              "      fill: #D2E3FC;\n",
              "    }\n",
              "\n",
              "    [theme=dark] .colab-df-convert:hover {\n",
              "      background-color: #434B5C;\n",
              "      box-shadow: 0px 1px 3px 1px rgba(0, 0, 0, 0.15);\n",
              "      filter: drop-shadow(0px 1px 2px rgba(0, 0, 0, 0.3));\n",
              "      fill: #FFFFFF;\n",
              "    }\n",
              "  </style>\n",
              "\n",
              "    <script>\n",
              "      const buttonEl =\n",
              "        document.querySelector('#df-ec787189-d453-405c-885b-d9c57c37efcb button.colab-df-convert');\n",
              "      buttonEl.style.display =\n",
              "        google.colab.kernel.accessAllowed ? 'block' : 'none';\n",
              "\n",
              "      async function convertToInteractive(key) {\n",
              "        const element = document.querySelector('#df-ec787189-d453-405c-885b-d9c57c37efcb');\n",
              "        const dataTable =\n",
              "          await google.colab.kernel.invokeFunction('convertToInteractive',\n",
              "                                                    [key], {});\n",
              "        if (!dataTable) return;\n",
              "\n",
              "        const docLinkHtml = 'Like what you see? Visit the ' +\n",
              "          '<a target=\"_blank\" href=https://colab.research.google.com/notebooks/data_table.ipynb>data table notebook</a>'\n",
              "          + ' to learn more about interactive tables.';\n",
              "        element.innerHTML = '';\n",
              "        dataTable['output_type'] = 'display_data';\n",
              "        await google.colab.output.renderOutput(dataTable, element);\n",
              "        const docLink = document.createElement('div');\n",
              "        docLink.innerHTML = docLinkHtml;\n",
              "        element.appendChild(docLink);\n",
              "      }\n",
              "    </script>\n",
              "  </div>\n",
              "\n",
              "\n",
              "<div id=\"df-7cdbf485-0b25-4ab9-85c7-a7c554149f04\">\n",
              "  <button class=\"colab-df-quickchart\" onclick=\"quickchart('df-7cdbf485-0b25-4ab9-85c7-a7c554149f04')\"\n",
              "            title=\"Suggest charts\"\n",
              "            style=\"display:none;\">\n",
              "\n",
              "<svg xmlns=\"http://www.w3.org/2000/svg\" height=\"24px\"viewBox=\"0 0 24 24\"\n",
              "     width=\"24px\">\n",
              "    <g>\n",
              "        <path d=\"M19 3H5c-1.1 0-2 .9-2 2v14c0 1.1.9 2 2 2h14c1.1 0 2-.9 2-2V5c0-1.1-.9-2-2-2zM9 17H7v-7h2v7zm4 0h-2V7h2v10zm4 0h-2v-4h2v4z\"/>\n",
              "    </g>\n",
              "</svg>\n",
              "  </button>\n",
              "\n",
              "<style>\n",
              "  .colab-df-quickchart {\n",
              "      --bg-color: #E8F0FE;\n",
              "      --fill-color: #1967D2;\n",
              "      --hover-bg-color: #E2EBFA;\n",
              "      --hover-fill-color: #174EA6;\n",
              "      --disabled-fill-color: #AAA;\n",
              "      --disabled-bg-color: #DDD;\n",
              "  }\n",
              "\n",
              "  [theme=dark] .colab-df-quickchart {\n",
              "      --bg-color: #3B4455;\n",
              "      --fill-color: #D2E3FC;\n",
              "      --hover-bg-color: #434B5C;\n",
              "      --hover-fill-color: #FFFFFF;\n",
              "      --disabled-bg-color: #3B4455;\n",
              "      --disabled-fill-color: #666;\n",
              "  }\n",
              "\n",
              "  .colab-df-quickchart {\n",
              "    background-color: var(--bg-color);\n",
              "    border: none;\n",
              "    border-radius: 50%;\n",
              "    cursor: pointer;\n",
              "    display: none;\n",
              "    fill: var(--fill-color);\n",
              "    height: 32px;\n",
              "    padding: 0;\n",
              "    width: 32px;\n",
              "  }\n",
              "\n",
              "  .colab-df-quickchart:hover {\n",
              "    background-color: var(--hover-bg-color);\n",
              "    box-shadow: 0 1px 2px rgba(60, 64, 67, 0.3), 0 1px 3px 1px rgba(60, 64, 67, 0.15);\n",
              "    fill: var(--button-hover-fill-color);\n",
              "  }\n",
              "\n",
              "  .colab-df-quickchart-complete:disabled,\n",
              "  .colab-df-quickchart-complete:disabled:hover {\n",
              "    background-color: var(--disabled-bg-color);\n",
              "    fill: var(--disabled-fill-color);\n",
              "    box-shadow: none;\n",
              "  }\n",
              "\n",
              "  .colab-df-spinner {\n",
              "    border: 2px solid var(--fill-color);\n",
              "    border-color: transparent;\n",
              "    border-bottom-color: var(--fill-color);\n",
              "    animation:\n",
              "      spin 1s steps(1) infinite;\n",
              "  }\n",
              "\n",
              "  @keyframes spin {\n",
              "    0% {\n",
              "      border-color: transparent;\n",
              "      border-bottom-color: var(--fill-color);\n",
              "      border-left-color: var(--fill-color);\n",
              "    }\n",
              "    20% {\n",
              "      border-color: transparent;\n",
              "      border-left-color: var(--fill-color);\n",
              "      border-top-color: var(--fill-color);\n",
              "    }\n",
              "    30% {\n",
              "      border-color: transparent;\n",
              "      border-left-color: var(--fill-color);\n",
              "      border-top-color: var(--fill-color);\n",
              "      border-right-color: var(--fill-color);\n",
              "    }\n",
              "    40% {\n",
              "      border-color: transparent;\n",
              "      border-right-color: var(--fill-color);\n",
              "      border-top-color: var(--fill-color);\n",
              "    }\n",
              "    60% {\n",
              "      border-color: transparent;\n",
              "      border-right-color: var(--fill-color);\n",
              "    }\n",
              "    80% {\n",
              "      border-color: transparent;\n",
              "      border-right-color: var(--fill-color);\n",
              "      border-bottom-color: var(--fill-color);\n",
              "    }\n",
              "    90% {\n",
              "      border-color: transparent;\n",
              "      border-bottom-color: var(--fill-color);\n",
              "    }\n",
              "  }\n",
              "</style>\n",
              "\n",
              "  <script>\n",
              "    async function quickchart(key) {\n",
              "      const quickchartButtonEl =\n",
              "        document.querySelector('#' + key + ' button');\n",
              "      quickchartButtonEl.disabled = true;  // To prevent multiple clicks.\n",
              "      quickchartButtonEl.classList.add('colab-df-spinner');\n",
              "      try {\n",
              "        const charts = await google.colab.kernel.invokeFunction(\n",
              "            'suggestCharts', [key], {});\n",
              "      } catch (error) {\n",
              "        console.error('Error during call to suggestCharts:', error);\n",
              "      }\n",
              "      quickchartButtonEl.classList.remove('colab-df-spinner');\n",
              "      quickchartButtonEl.classList.add('colab-df-quickchart-complete');\n",
              "    }\n",
              "    (() => {\n",
              "      let quickchartButtonEl =\n",
              "        document.querySelector('#df-7cdbf485-0b25-4ab9-85c7-a7c554149f04 button');\n",
              "      quickchartButtonEl.style.display =\n",
              "        google.colab.kernel.accessAllowed ? 'block' : 'none';\n",
              "    })();\n",
              "  </script>\n",
              "</div>\n",
              "\n",
              "    </div>\n",
              "  </div>\n"
            ],
            "application/vnd.google.colaboratory.intrinsic+json": {
              "type": "dataframe",
              "variable_name": "train",
              "summary": "{\n  \"name\": \"train\",\n  \"rows\": 25000,\n  \"fields\": [\n    {\n      \"column\": \"id\",\n      \"properties\": {\n        \"dtype\": \"string\",\n        \"num_unique_values\": 25000,\n        \"samples\": [\n          \"\\\"2570_3\\\"\",\n          \"\\\"4897_8\\\"\",\n          \"\\\"8485_3\\\"\"\n        ],\n        \"semantic_type\": \"\",\n        \"description\": \"\"\n      }\n    },\n    {\n      \"column\": \"sentiment\",\n      \"properties\": {\n        \"dtype\": \"number\",\n        \"std\": 0,\n        \"min\": 0,\n        \"max\": 1,\n        \"num_unique_values\": 2,\n        \"samples\": [\n          0,\n          1\n        ],\n        \"semantic_type\": \"\",\n        \"description\": \"\"\n      }\n    },\n    {\n      \"column\": \"review\",\n      \"properties\": {\n        \"dtype\": \"string\",\n        \"num_unique_values\": 24904,\n        \"samples\": [\n          \"\\\"This is not my favorite WIP (\\\\\\\"Women in Prison\\\\\\\"), but it is one of the most famous films in the sub-genre. It is was produced by Roger Corman, who at this point had already produced a few WIPs. It is obvious that the film tries to play with the established formula. The movie takes place in an USA prison, not in a \\\\\\\"banana republic\\\\\\\" like most WIP films. I'm not sure if that was a wise move, but it is an acceptable change of pace. Writer-director Demme really gets into his job, always digging for new ways to present a familiar scenario. In fact, he is a little too ambitious for his own good. The filmmaker creates a few surreal dream sequences that are borderline pretentious but it is fun to see how hard he tries to put this film above your average chicks-in-chains flick. But do not worry, Demme still operates within the parameters of the sub-genre. There is plenty of nudity and violence, something that will satisfy hardcore fans. The film is a little slow, but it is very entertaining. The cast is good. Roberta Collins is a WIP veteran, so she does not need an introduction, and Barbara Steel is a hoot as the wheelchair-bound crazy warden. Pam Grier is sorely missed, though.\\\"\",\n          \"\\\"In 1972, after his wife left to go her own way, Elvis Presley began dating Linda Thompson. Miss Thompson, a good-humored, long haired, lovely, statuesque beauty queen, is charted to fill a void in Elvis' life. When Elvis' divorce became final, Linda was already in place as the legendary performer's live-in girlfriend and travel companion until 1976.<br /><br />This is a gaudy look at their love affair and companionship. Linda whole-heartedly tending to her lover's needs and desires. And even putting up with his swallowing medications by the handful and introducing her to her own love affair with valium. At times this movie is harsh and dark of heart; a very unattractive look at the 'King' and his queen.<br /><br />Don Johnson is absolutely awful as Elvis. Over acting to the hilt is not attractive. Stephanie Zimbalist lacks the classiness of Linda, but does the job pretty well. Supporting cast includes: John Crawford, Ruta Lee, and Rick Lenz. Watching this twice is more than enough for me, but don't let this review stop you from checking it out. For most Elvis fans that I have conferred with, this is not a favored presentation.\\\"\"\n        ],\n        \"semantic_type\": \"\",\n        \"description\": \"\"\n      }\n    }\n  ]\n}"
            }
          },
          "metadata": {},
          "execution_count": 6
        }
      ],
      "source": [
        "train.head()"
      ]
    },
    {
      "cell_type": "code",
      "execution_count": 7,
      "metadata": {
        "id": "MpJQn9BCcndl",
        "colab": {
          "base_uri": "https://localhost:8080/"
        },
        "outputId": "12a2a9ce-d436-4c2f-ddc6-7fb5e5231b2a"
      },
      "outputs": [
        {
          "output_type": "stream",
          "name": "stdout",
          "text": [
            "<class 'pandas.core.frame.DataFrame'>\n",
            "RangeIndex: 25000 entries, 0 to 24999\n",
            "Data columns (total 2 columns):\n",
            " #   Column  Non-Null Count  Dtype \n",
            "---  ------  --------------  ----- \n",
            " 0   id      25000 non-null  object\n",
            " 1   review  25000 non-null  object\n",
            "dtypes: object(2)\n",
            "memory usage: 390.8+ KB\n"
          ]
        }
      ],
      "source": [
        "test.info()"
      ]
    },
    {
      "cell_type": "code",
      "execution_count": 8,
      "metadata": {
        "id": "cx2rvox8dHNa",
        "colab": {
          "base_uri": "https://localhost:8080/",
          "height": 206
        },
        "outputId": "83cbd3e6-73a5-4e18-9385-c6d27979ac82"
      },
      "outputs": [
        {
          "output_type": "execute_result",
          "data": {
            "text/plain": [
              "           id                                             review\n",
              "0  \"12311_10\"  \"Naturally in a film who's main themes are of ...\n",
              "1    \"8348_2\"  \"This movie is a disaster within a disaster fi...\n",
              "2    \"5828_4\"  \"All in all, this is a movie for kids. We saw ...\n",
              "3    \"7186_2\"  \"Afraid of the Dark left me with the impressio...\n",
              "4   \"12128_7\"  \"A very accurate depiction of small time mob l..."
            ],
            "text/html": [
              "\n",
              "  <div id=\"df-e6849a6f-4cef-4ca5-b6aa-24b0fe5d2bfb\" class=\"colab-df-container\">\n",
              "    <div>\n",
              "<style scoped>\n",
              "    .dataframe tbody tr th:only-of-type {\n",
              "        vertical-align: middle;\n",
              "    }\n",
              "\n",
              "    .dataframe tbody tr th {\n",
              "        vertical-align: top;\n",
              "    }\n",
              "\n",
              "    .dataframe thead th {\n",
              "        text-align: right;\n",
              "    }\n",
              "</style>\n",
              "<table border=\"1\" class=\"dataframe\">\n",
              "  <thead>\n",
              "    <tr style=\"text-align: right;\">\n",
              "      <th></th>\n",
              "      <th>id</th>\n",
              "      <th>review</th>\n",
              "    </tr>\n",
              "  </thead>\n",
              "  <tbody>\n",
              "    <tr>\n",
              "      <th>0</th>\n",
              "      <td>\"12311_10\"</td>\n",
              "      <td>\"Naturally in a film who's main themes are of ...</td>\n",
              "    </tr>\n",
              "    <tr>\n",
              "      <th>1</th>\n",
              "      <td>\"8348_2\"</td>\n",
              "      <td>\"This movie is a disaster within a disaster fi...</td>\n",
              "    </tr>\n",
              "    <tr>\n",
              "      <th>2</th>\n",
              "      <td>\"5828_4\"</td>\n",
              "      <td>\"All in all, this is a movie for kids. We saw ...</td>\n",
              "    </tr>\n",
              "    <tr>\n",
              "      <th>3</th>\n",
              "      <td>\"7186_2\"</td>\n",
              "      <td>\"Afraid of the Dark left me with the impressio...</td>\n",
              "    </tr>\n",
              "    <tr>\n",
              "      <th>4</th>\n",
              "      <td>\"12128_7\"</td>\n",
              "      <td>\"A very accurate depiction of small time mob l...</td>\n",
              "    </tr>\n",
              "  </tbody>\n",
              "</table>\n",
              "</div>\n",
              "    <div class=\"colab-df-buttons\">\n",
              "\n",
              "  <div class=\"colab-df-container\">\n",
              "    <button class=\"colab-df-convert\" onclick=\"convertToInteractive('df-e6849a6f-4cef-4ca5-b6aa-24b0fe5d2bfb')\"\n",
              "            title=\"Convert this dataframe to an interactive table.\"\n",
              "            style=\"display:none;\">\n",
              "\n",
              "  <svg xmlns=\"http://www.w3.org/2000/svg\" height=\"24px\" viewBox=\"0 -960 960 960\">\n",
              "    <path d=\"M120-120v-720h720v720H120Zm60-500h600v-160H180v160Zm220 220h160v-160H400v160Zm0 220h160v-160H400v160ZM180-400h160v-160H180v160Zm440 0h160v-160H620v160ZM180-180h160v-160H180v160Zm440 0h160v-160H620v160Z\"/>\n",
              "  </svg>\n",
              "    </button>\n",
              "\n",
              "  <style>\n",
              "    .colab-df-container {\n",
              "      display:flex;\n",
              "      gap: 12px;\n",
              "    }\n",
              "\n",
              "    .colab-df-convert {\n",
              "      background-color: #E8F0FE;\n",
              "      border: none;\n",
              "      border-radius: 50%;\n",
              "      cursor: pointer;\n",
              "      display: none;\n",
              "      fill: #1967D2;\n",
              "      height: 32px;\n",
              "      padding: 0 0 0 0;\n",
              "      width: 32px;\n",
              "    }\n",
              "\n",
              "    .colab-df-convert:hover {\n",
              "      background-color: #E2EBFA;\n",
              "      box-shadow: 0px 1px 2px rgba(60, 64, 67, 0.3), 0px 1px 3px 1px rgba(60, 64, 67, 0.15);\n",
              "      fill: #174EA6;\n",
              "    }\n",
              "\n",
              "    .colab-df-buttons div {\n",
              "      margin-bottom: 4px;\n",
              "    }\n",
              "\n",
              "    [theme=dark] .colab-df-convert {\n",
              "      background-color: #3B4455;\n",
              "      fill: #D2E3FC;\n",
              "    }\n",
              "\n",
              "    [theme=dark] .colab-df-convert:hover {\n",
              "      background-color: #434B5C;\n",
              "      box-shadow: 0px 1px 3px 1px rgba(0, 0, 0, 0.15);\n",
              "      filter: drop-shadow(0px 1px 2px rgba(0, 0, 0, 0.3));\n",
              "      fill: #FFFFFF;\n",
              "    }\n",
              "  </style>\n",
              "\n",
              "    <script>\n",
              "      const buttonEl =\n",
              "        document.querySelector('#df-e6849a6f-4cef-4ca5-b6aa-24b0fe5d2bfb button.colab-df-convert');\n",
              "      buttonEl.style.display =\n",
              "        google.colab.kernel.accessAllowed ? 'block' : 'none';\n",
              "\n",
              "      async function convertToInteractive(key) {\n",
              "        const element = document.querySelector('#df-e6849a6f-4cef-4ca5-b6aa-24b0fe5d2bfb');\n",
              "        const dataTable =\n",
              "          await google.colab.kernel.invokeFunction('convertToInteractive',\n",
              "                                                    [key], {});\n",
              "        if (!dataTable) return;\n",
              "\n",
              "        const docLinkHtml = 'Like what you see? Visit the ' +\n",
              "          '<a target=\"_blank\" href=https://colab.research.google.com/notebooks/data_table.ipynb>data table notebook</a>'\n",
              "          + ' to learn more about interactive tables.';\n",
              "        element.innerHTML = '';\n",
              "        dataTable['output_type'] = 'display_data';\n",
              "        await google.colab.output.renderOutput(dataTable, element);\n",
              "        const docLink = document.createElement('div');\n",
              "        docLink.innerHTML = docLinkHtml;\n",
              "        element.appendChild(docLink);\n",
              "      }\n",
              "    </script>\n",
              "  </div>\n",
              "\n",
              "\n",
              "<div id=\"df-57df033c-53a2-4660-a1d2-f932f51749c1\">\n",
              "  <button class=\"colab-df-quickchart\" onclick=\"quickchart('df-57df033c-53a2-4660-a1d2-f932f51749c1')\"\n",
              "            title=\"Suggest charts\"\n",
              "            style=\"display:none;\">\n",
              "\n",
              "<svg xmlns=\"http://www.w3.org/2000/svg\" height=\"24px\"viewBox=\"0 0 24 24\"\n",
              "     width=\"24px\">\n",
              "    <g>\n",
              "        <path d=\"M19 3H5c-1.1 0-2 .9-2 2v14c0 1.1.9 2 2 2h14c1.1 0 2-.9 2-2V5c0-1.1-.9-2-2-2zM9 17H7v-7h2v7zm4 0h-2V7h2v10zm4 0h-2v-4h2v4z\"/>\n",
              "    </g>\n",
              "</svg>\n",
              "  </button>\n",
              "\n",
              "<style>\n",
              "  .colab-df-quickchart {\n",
              "      --bg-color: #E8F0FE;\n",
              "      --fill-color: #1967D2;\n",
              "      --hover-bg-color: #E2EBFA;\n",
              "      --hover-fill-color: #174EA6;\n",
              "      --disabled-fill-color: #AAA;\n",
              "      --disabled-bg-color: #DDD;\n",
              "  }\n",
              "\n",
              "  [theme=dark] .colab-df-quickchart {\n",
              "      --bg-color: #3B4455;\n",
              "      --fill-color: #D2E3FC;\n",
              "      --hover-bg-color: #434B5C;\n",
              "      --hover-fill-color: #FFFFFF;\n",
              "      --disabled-bg-color: #3B4455;\n",
              "      --disabled-fill-color: #666;\n",
              "  }\n",
              "\n",
              "  .colab-df-quickchart {\n",
              "    background-color: var(--bg-color);\n",
              "    border: none;\n",
              "    border-radius: 50%;\n",
              "    cursor: pointer;\n",
              "    display: none;\n",
              "    fill: var(--fill-color);\n",
              "    height: 32px;\n",
              "    padding: 0;\n",
              "    width: 32px;\n",
              "  }\n",
              "\n",
              "  .colab-df-quickchart:hover {\n",
              "    background-color: var(--hover-bg-color);\n",
              "    box-shadow: 0 1px 2px rgba(60, 64, 67, 0.3), 0 1px 3px 1px rgba(60, 64, 67, 0.15);\n",
              "    fill: var(--button-hover-fill-color);\n",
              "  }\n",
              "\n",
              "  .colab-df-quickchart-complete:disabled,\n",
              "  .colab-df-quickchart-complete:disabled:hover {\n",
              "    background-color: var(--disabled-bg-color);\n",
              "    fill: var(--disabled-fill-color);\n",
              "    box-shadow: none;\n",
              "  }\n",
              "\n",
              "  .colab-df-spinner {\n",
              "    border: 2px solid var(--fill-color);\n",
              "    border-color: transparent;\n",
              "    border-bottom-color: var(--fill-color);\n",
              "    animation:\n",
              "      spin 1s steps(1) infinite;\n",
              "  }\n",
              "\n",
              "  @keyframes spin {\n",
              "    0% {\n",
              "      border-color: transparent;\n",
              "      border-bottom-color: var(--fill-color);\n",
              "      border-left-color: var(--fill-color);\n",
              "    }\n",
              "    20% {\n",
              "      border-color: transparent;\n",
              "      border-left-color: var(--fill-color);\n",
              "      border-top-color: var(--fill-color);\n",
              "    }\n",
              "    30% {\n",
              "      border-color: transparent;\n",
              "      border-left-color: var(--fill-color);\n",
              "      border-top-color: var(--fill-color);\n",
              "      border-right-color: var(--fill-color);\n",
              "    }\n",
              "    40% {\n",
              "      border-color: transparent;\n",
              "      border-right-color: var(--fill-color);\n",
              "      border-top-color: var(--fill-color);\n",
              "    }\n",
              "    60% {\n",
              "      border-color: transparent;\n",
              "      border-right-color: var(--fill-color);\n",
              "    }\n",
              "    80% {\n",
              "      border-color: transparent;\n",
              "      border-right-color: var(--fill-color);\n",
              "      border-bottom-color: var(--fill-color);\n",
              "    }\n",
              "    90% {\n",
              "      border-color: transparent;\n",
              "      border-bottom-color: var(--fill-color);\n",
              "    }\n",
              "  }\n",
              "</style>\n",
              "\n",
              "  <script>\n",
              "    async function quickchart(key) {\n",
              "      const quickchartButtonEl =\n",
              "        document.querySelector('#' + key + ' button');\n",
              "      quickchartButtonEl.disabled = true;  // To prevent multiple clicks.\n",
              "      quickchartButtonEl.classList.add('colab-df-spinner');\n",
              "      try {\n",
              "        const charts = await google.colab.kernel.invokeFunction(\n",
              "            'suggestCharts', [key], {});\n",
              "      } catch (error) {\n",
              "        console.error('Error during call to suggestCharts:', error);\n",
              "      }\n",
              "      quickchartButtonEl.classList.remove('colab-df-spinner');\n",
              "      quickchartButtonEl.classList.add('colab-df-quickchart-complete');\n",
              "    }\n",
              "    (() => {\n",
              "      let quickchartButtonEl =\n",
              "        document.querySelector('#df-57df033c-53a2-4660-a1d2-f932f51749c1 button');\n",
              "      quickchartButtonEl.style.display =\n",
              "        google.colab.kernel.accessAllowed ? 'block' : 'none';\n",
              "    })();\n",
              "  </script>\n",
              "</div>\n",
              "\n",
              "    </div>\n",
              "  </div>\n"
            ],
            "application/vnd.google.colaboratory.intrinsic+json": {
              "type": "dataframe",
              "variable_name": "test",
              "summary": "{\n  \"name\": \"test\",\n  \"rows\": 25000,\n  \"fields\": [\n    {\n      \"column\": \"id\",\n      \"properties\": {\n        \"dtype\": \"string\",\n        \"num_unique_values\": 25000,\n        \"samples\": [\n          \"\\\"10610_7\\\"\",\n          \"\\\"10557_8\\\"\",\n          \"\\\"3118_9\\\"\"\n        ],\n        \"semantic_type\": \"\",\n        \"description\": \"\"\n      }\n    },\n    {\n      \"column\": \"review\",\n      \"properties\": {\n        \"dtype\": \"string\",\n        \"num_unique_values\": 24801,\n        \"samples\": [\n          \"\\\"(Spoilers more than likely... nothing really important you couldn't have figured out yourselves) Yeah, it's really weird. I rented it at a Blockbuster for the reason it had absolutely NO description of the movie on the back of the box, only a list of the bands that had songs in it. But after that, I had a dikens of a time finding it, even here on IMDB. I kept confusing it with \\\\\\\"Night of the Demons,\\\\\\\" but, you know, they're basically the same thing. <br /><br />The parts I loved most about this movie was the whole thing in the garage. That black gym guy was hilarious the way he screamed ALL the time. Even when screaming wasn't really necessary, he'd let out a \\\\\\\"LISTEN UP NOW!! BLOCK THE DOOR WITH CARS!!!!\\\\\\\" and so, they'd run cars head on into other cars. But, then he got balls and shafted by a zombie with a broom stick I believe it was. The other part that kinda caught my attention was the part with the crash outside the building with the guys that they girl didn't want to come over... To what significant aspect of the movie did that give us? What was it? Why was it there? Why did the movie end with a guy breaking the TV's in a studio? I saw that there was a zombie running towards the screen, but he was kinda far away. I mean, he could have just turned the TV off. Yes, this movie was shot on a whim and yes, I hated it. Good day...\\\"\",\n          \"\\\"\\\\\\\"Classe tous risques\\\\\\\" feels like the granddaddy of \\\\\\\"The Sopranos\\\\\\\" in mixing the criminal and the domestic, and of the buddy film to feel as contemporary as \\\\\\\"Reservoir Dogs.\\\\\\\"<br /><br />Even as these gangsters are affectionately entangled with wives, children, lovers and parents, they are coldly ruthless, and we are constantly reminded they are, no matter what warm situation we also see them in. They can tousle a kid's hair - and then shoot a threat in cold blood. The key is loyalty, and the male camaraderie is beautifully conveyed, without ethnic or class stereotypes, even as their web of past obligations and pay backs narrows into suspicion and paranoia, as the old gang is in various stages of parole, retirement, out on bail or into new, less profitable ventures. An intense accusation is of sending a stranger to perform an old escape scenario. It is a high point of emotion when a wife is told off that she's not the one the gangster is friends with, while virtually the only time we hear music on the soundtrack is when he recalls his wife.<br /><br />Streetscapes in Italy and France are marvelously used, in blinding daylight to dark water and highways, from the opening set up of a pair of brazen robbers -- who are traveling with one's wife and two kids. Rugged, craggy Lino Ventura captures the screen immediately as the criminal dad. And the second thug is clearly a casually avuncular presence in their lives, as they smoothly coordinate the theft and escape, in cars, buses, on boats and motorcycles, in easy tandem. This is not the clich\\u00e9 crusty old guy softened with the big-eyed orphan; these are their jobs and their families and they intersect in horrific ways.<br /><br />The film pulls no punches in unexpectedly killing off characters, directly and as collateral damage, and challenging our sympathy for them, right through to the unsentimental end, which is probably why there was never an American remake. <br /><br />It seems so fresh that it's not until Jean-Paul Belmondo enters almost a third of the way into the film, looking so insouciant as a young punk, that one realizes that this is from 1960. Sultry Sandra Milo has smart and terrific chemistry with him, from an ambulance to an elevator to a hospital bed.<br /><br />While the Film Forum was showing a new 35 mm print with newly translated subtitles, it was not pristine. The program notes explained that the title refers to a kind of insurance policy and is pun on \\\\\\\"tourist class.\\\\\\\"\\\"\",\n          \"\\\"*Warning: 1 tiny inconsequential spoiler* You're right. This was no Bridges of Madison County. As soon as the lonely woman and Richard Gere checked into the big empty hotel, it was a foregone conclusion something kind of fun would happen. The question is: how will it come about? The answer is some stupid connect-the-dots story not worth sitting through. In one supposed bonding experience, they get drunk and clean out the cupboard of old cans.(That was my spoiler.) And the next day they put them back. LOL It wasn't compelling AT ALL. I'm an old married lady like the one in the movie and MY friendships are more interesting than HER romance with Richard Gere. LOL . . . It did have that advantage. You walk away and go, oh brother . . . even I could have written something more believable than that. I guess my life isn't quite as dull as I thought it was if I can scoff at a romance with Richard Gere. LOL! And that friend inherited that totally contemporary, probably computer-generated mansion, resting half in the ocean, from her GRANDMOTHER who built it AFTER THE CIVIL WAR??? Maybe her grandmother is Oprah and this was WAY after the Civil War? And yes, WHERE WAS THE EMAIL? What alternative universe do these people live in? I never want to see another movie that pretends we don't have email, and facebook,and texting. And OK, maybe these people have a horrible aversion to delivering news over the phone, but don't ask me to believe anyone in this age of instant communication that someone just drops into your life without calling first.\\\"\"\n        ],\n        \"semantic_type\": \"\",\n        \"description\": \"\"\n      }\n    }\n  ]\n}"
            }
          },
          "metadata": {},
          "execution_count": 8
        }
      ],
      "source": [
        "test.head()"
      ]
    },
    {
      "cell_type": "markdown",
      "metadata": {
        "id": "QpNrm1q0d-tj"
      },
      "source": [
        "긍정, 부정 label은 각각 12,500개로 동일하다는 것을 알 수 있습니다."
      ]
    },
    {
      "cell_type": "code",
      "execution_count": 9,
      "metadata": {
        "id": "G0lrO8hqd6jm",
        "colab": {
          "base_uri": "https://localhost:8080/",
          "height": 178
        },
        "outputId": "a8052165-5cb9-40f6-c5fb-c1309cb213ac"
      },
      "outputs": [
        {
          "output_type": "execute_result",
          "data": {
            "text/plain": [
              "sentiment\n",
              "1    12500\n",
              "0    12500\n",
              "Name: count, dtype: int64"
            ],
            "text/html": [
              "<div>\n",
              "<style scoped>\n",
              "    .dataframe tbody tr th:only-of-type {\n",
              "        vertical-align: middle;\n",
              "    }\n",
              "\n",
              "    .dataframe tbody tr th {\n",
              "        vertical-align: top;\n",
              "    }\n",
              "\n",
              "    .dataframe thead th {\n",
              "        text-align: right;\n",
              "    }\n",
              "</style>\n",
              "<table border=\"1\" class=\"dataframe\">\n",
              "  <thead>\n",
              "    <tr style=\"text-align: right;\">\n",
              "      <th></th>\n",
              "      <th>count</th>\n",
              "    </tr>\n",
              "    <tr>\n",
              "      <th>sentiment</th>\n",
              "      <th></th>\n",
              "    </tr>\n",
              "  </thead>\n",
              "  <tbody>\n",
              "    <tr>\n",
              "      <th>1</th>\n",
              "      <td>12500</td>\n",
              "    </tr>\n",
              "    <tr>\n",
              "      <th>0</th>\n",
              "      <td>12500</td>\n",
              "    </tr>\n",
              "  </tbody>\n",
              "</table>\n",
              "</div><br><label><b>dtype:</b> int64</label>"
            ]
          },
          "metadata": {},
          "execution_count": 9
        }
      ],
      "source": [
        "train['sentiment'].value_counts()"
      ]
    },
    {
      "cell_type": "markdown",
      "metadata": {
        "id": "6yE8JhkfmRnx"
      },
      "source": [
        "# 4. Text Preprocessing"
      ]
    },
    {
      "cell_type": "markdown",
      "metadata": {
        "id": "nJC79JF7mcvF"
      },
      "source": [
        "## 4-1. html 태그 제거\n",
        "첫번째 review를 보면 특이점이 있습니다. 바로 `<br>`이라는 html 줄바꿈 태그가 보인다는 점입니다. 첫번째 review뿐만 아니라 다른 review들에도 이러한 태그가 존재할 가능성이 있습니다. 따라서 `BeautifulSoup`를 이용하여 분석에 방해가 되는 태그들은 지워주도록 합시다."
      ]
    },
    {
      "cell_type": "code",
      "execution_count": 10,
      "metadata": {
        "id": "lLjWY6fwkLrE",
        "colab": {
          "base_uri": "https://localhost:8080/",
          "height": 447
        },
        "outputId": "ed26efdc-96f2-43c5-e5af-e5c4a54f2c11"
      },
      "outputs": [
        {
          "output_type": "execute_result",
          "data": {
            "text/plain": [
              "'\"With all this stuff going down at the moment with MJ i\\'ve started listening to his music, watching the odd documentary here and there, watched The Wiz and watched Moonwalker again. Maybe i just want to get a certain insight into this guy who i thought was really cool in the eighties just to maybe make up my mind whether he is guilty or innocent. Moonwalker is part biography, part feature film which i remember going to see at the cinema when it was originally released. Some of it has subtle messages about MJ\\'s feeling towards the press and also the obvious message of drugs are bad m\\'kay.<br /><br />Visually impressive but of course this is all about Michael Jackson so unless you remotely like MJ in anyway then you are going to hate this and find it boring. Some may call MJ an egotist for consenting to the making of this movie BUT MJ and most of his fans would say that he made it for the fans which if true is really nice of him.<br /><br />The actual feature film bit when it finally starts is only on for 20 minutes or so excluding the Smooth Criminal sequence and Joe Pesci is convincing as a psychopathic all powerful drug lord. Why he wants MJ dead so bad is beyond me. Because MJ overheard his plans? Nah, Joe Pesci\\'s character ranted that he wanted people to know it is he who is supplying drugs etc so i dunno, maybe he just hates MJ\\'s music.<br /><br />Lots of cool things in this like MJ turning into a car and a robot and the whole Speed Demon sequence. Also, the director must have had the patience of a saint when it came to filming the kiddy Bad sequence as usually directors hate working with one kid let alone a whole bunch of them performing a complex dance scene.<br /><br />Bottom line, this movie is for people who like MJ on one level or another (which i think is most people). If not, then stay away. It does try and give off a wholesome message and ironically MJ\\'s bestest buddy in this movie is a girl! Michael Jackson is truly one of the most talented people ever to grace this planet but is he guilty? Well, with all the attention i\\'ve gave this subject....hmmm well i don\\'t know because people can be different behind closed doors, i know this for a fact. He is either an extremely nice but stupid guy or one of the most sickest liars. I hope he is not the latter.\"'"
            ],
            "application/vnd.google.colaboratory.intrinsic+json": {
              "type": "string"
            }
          },
          "metadata": {},
          "execution_count": 10
        }
      ],
      "source": [
        "train[\"review\"][0]"
      ]
    },
    {
      "cell_type": "code",
      "execution_count": 11,
      "metadata": {
        "id": "B3a1O8DqmuKY"
      },
      "outputs": [],
      "source": [
        "from bs4 import BeautifulSoup"
      ]
    },
    {
      "cell_type": "markdown",
      "metadata": {
        "id": "XZNH8Hz4oL0Y"
      },
      "source": [
        "위 리뷰를 soup 객체로 바꿔주면, html 태그를 제외하고 text만 온전히 추출하는 작업이 가능합니다. 이 기능을 해주는 것이 `get_text()`입니다. 첫번째 리뷰를 하나의 예시로 들어봅시다. 윗문장이 제거 전, 아래문장이 제거 후입니다.\n"
      ]
    },
    {
      "cell_type": "code",
      "execution_count": 12,
      "metadata": {
        "id": "rVCCMUyan9-j",
        "colab": {
          "base_uri": "https://localhost:8080/"
        },
        "outputId": "0e794b08-51e6-4fcf-b4ed-b84272e1b013"
      },
      "outputs": [
        {
          "output_type": "stream",
          "name": "stdout",
          "text": [
            "before deleting: \"With all this stuff going down at the moment with MJ i've started listening to his music, watching the odd documentary here and there, watched The Wiz and watched Moonwalker again. Maybe i just want to get a certain insight into this guy who i thought was really cool in the eighties just to maybe make up my mind whether he is guilty or innocent. Moonwalker is part biography, part feature film which i remember going to see at the cinema when it was originally released. Some of it has subtle messages about MJ's feeling towards the press and also the obvious message of drugs are bad m'kay.<br /><br />Visually impressive but of course this is all about Michael Jackson so unless you remotely like MJ in anyway then you are going to hate this and find it boring. Some may call MJ an egotist for consenting to the making of this movie BUT MJ and most of his fans would say that he made it for the fans which if true is really nice of him.<br /><br />The actual feature film bit when it finally starts is only on for 20 minutes or so excluding the Smooth Criminal sequence and Joe Pesci is convincing as a psychopathic all powerful drug lord. Why he wants MJ dead so bad is beyond me. Because MJ overheard his plans? Nah, Joe Pesci's character ranted that he wanted people to know it is he who is supplying drugs etc so i dunno, maybe he just hates MJ's music.<br /><br />Lots of cool things in this like MJ turning into a car and a robot and the whole Speed Demon sequence. Also, the director must have had the patience of a saint when it came to filming the kiddy Bad sequence as usually directors hate working with one kid let alone a whole bunch of them performing a complex dance scene.<br /><br />Bottom line, this movie is for people who like MJ on one level or another (which i think is most people). If not, then stay away. It does try and give off a wholesome message and ironically MJ's bestest buddy in this movie is a girl! Michael Jackson is truly one of the most talented people ever to grace this planet but is he guilty? Well, with all the attention i've gave this subject....hmmm well i don't know because people can be different behind closed doors, i know this for a fact. He is either an extremely nice but stupid guy or one of the most sickest liars. I hope he is not the latter.\"\n",
            "after deleting: \"With all this stuff going down at the moment with MJ i've started listening to his music, watching the odd documentary here and there, watched The Wiz and watched Moonwalker again. Maybe i just want to get a certain insight into this guy who i thought was really cool in the eighties just to maybe make up my mind whether he is guilty or innocent. Moonwalker is part biography, part feature film which i remember going to see at the cinema when it was originally released. Some of it has subtle messages about MJ's feeling towards the press and also the obvious message of drugs are bad m'kay.Visually impressive but of course this is all about Michael Jackson so unless you remotely like MJ in anyway then you are going to hate this and find it boring. Some may call MJ an egotist for consenting to the making of this movie BUT MJ and most of his fans would say that he made it for the fans which if true is really nice of him.The actual feature film bit when it finally starts is only on for 20 minutes or so excluding the Smooth Criminal sequence and Joe Pesci is convincing as a psychopathic all powerful drug lord. Why he wants MJ dead so bad is beyond me. Because MJ overheard his plans? Nah, Joe Pesci's character ranted that he wanted people to know it is he who is supplying drugs etc so i dunno, maybe he just hates MJ's music.Lots of cool things in this like MJ turning into a car and a robot and the whole Speed Demon sequence. Also, the director must have had the patience of a saint when it came to filming the kiddy Bad sequence as usually directors hate working with one kid let alone a whole bunch of them performing a complex dance scene.Bottom line, this movie is for people who like MJ on one level or another (which i think is most people). If not, then stay away. It does try and give off a wholesome message and ironically MJ's bestest buddy in this movie is a girl! Michael Jackson is truly one of the most talented people ever to grace this planet but is he guilty? Well, with all the attention i've gave this subject....hmmm well i don't know because people can be different behind closed doors, i know this for a fact. He is either an extremely nice but stupid guy or one of the most sickest liars. I hope he is not the latter.\"\n"
          ]
        }
      ],
      "source": [
        "example1 = BeautifulSoup(train[\"review\"][0])\n",
        "example1 = example1.get_text()\n",
        "print(\"before deleting:\", train['review'][0])\n",
        "print(\"after deleting:\", example1)"
      ]
    },
    {
      "cell_type": "markdown",
      "metadata": {
        "id": "yla2iSdpp90f"
      },
      "source": [
        "## 4-2. 정규표현식(re)으로 알파벳만 남기기\n",
        "\n",
        "html 태그는 제거했지만, 각종 특수문자가 아직도 남아있습니다. 이는 분석에 불필요한 정보입니다. 알파벳만 남기고 싶다면 정규표현식(regular expression)을 사용하면 됩니다.\n",
        "\n",
        "'알파벳이 아닌 것'을 '공백'으로 대체하면 될 것입니다. 이러한 기능을 가진 함수는 `re.sub(대체할 패턴, 대체 이후, 대체할 범위)`입니다.\n"
      ]
    },
    {
      "cell_type": "markdown",
      "metadata": {
        "id": "vx8JafBlnO0V"
      },
      "source": [
        "### **Q1) 아래 letters_only를 통해 example1에서 알파벳을 제외한 나머지 글자를 알파벳만 남길수 있도록 공백으로 대체하세요**"
      ]
    },
    {
      "cell_type": "code",
      "execution_count": 30,
      "metadata": {
        "id": "7E8ESp11rTQq"
      },
      "outputs": [],
      "source": [
        "import re\n",
        "'''\n",
        "문제 1: 아래 letters_only를 통해 example1에서 알파벳을 제외한 나머지 글자를 알파벳만 남길수 있도록 공백으로 대체하세요.\n",
        "'''\n",
        "letters_only = re.sub('[^a-zA-Z]', '', example1) ## 코드 채우기 문제입니다.\n"
      ]
    },
    {
      "cell_type": "code",
      "execution_count": 31,
      "metadata": {
        "id": "6wzM3VELMrHF",
        "colab": {
          "base_uri": "https://localhost:8080/",
          "height": 214
        },
        "outputId": "4a67acfb-2e6f-47c9-fdad-0c0d88109f9a"
      },
      "outputs": [
        {
          "output_type": "execute_result",
          "data": {
            "text/plain": [
              "'\"With all this stuff going down at the moment with MJ i\\'ve started listening to his music, watching the odd documentary here and there, watched The Wiz and watched Moonwalker again. Maybe i just want to get a certain insight into this guy who i thought was really cool in the eighties just to maybe make up my mind whether he is guilty or innocent. Moonwalker is part biography, part feature film which i remember going to see at the cinema when it was originally released. Some of it has subtle messages about MJ\\'s feeling towards the press and also the obvious message of drugs are bad m\\'kay.<br /><br />Visually impressive but of course this is all about Michael Jackson so unless you remotely like MJ in anyway then you are going to hate this and find it boring. Some may call MJ an egotist for consenting to the making of this movie BUT MJ and most of his fans would say that he made it for the fans which if true is really nice of him.<br /><br />The actual feature film bit when it finally starts is only on for 20 minutes or so excluding the Smooth Criminal sequence and Joe Pesci is convincing as a psychopathic all powerful drug lord. Why he wants MJ dead so bad is beyond me. Because MJ overheard his plans? Nah, Joe Pesci\\'s character ranted that he wanted people to know it is he who is supplying drugs etc so i dunno, maybe he just hates MJ\\'s music.<br /><br />Lots of cool things in this like MJ turning into a car and a robot and the whole Speed Demon sequence. Also, the director must have had the patience of a saint when it came to filming the kiddy Bad sequence as usually directors hate working with one kid let alone a whole bunch of them performing a complex dance scene.<br /><br />Bottom line, this movie is for people who like MJ on one level or another (which i think is most people). If not, then stay away. It does try and give off a wholesome message and ironically MJ\\'s bestest buddy in this movie is a girl! Michael Jackson is truly one of the most talented people ever to grace this planet but is he guilty? Well, with all the attention i\\'ve gave this subject....hmmm well i don\\'t know because people can be different behind closed doors, i know this for a fact. He is either an extremely nice but stupid guy or one of the most sickest liars. I hope he is not the latter.\"'"
            ],
            "application/vnd.google.colaboratory.intrinsic+json": {
              "type": "string"
            }
          },
          "metadata": {},
          "execution_count": 31
        }
      ],
      "source": [
        "train['review'][0]"
      ]
    },
    {
      "cell_type": "code",
      "execution_count": 32,
      "metadata": {
        "id": "6ASeh-cdwfFd",
        "colab": {
          "base_uri": "https://localhost:8080/",
          "height": 214
        },
        "outputId": "f6252464-3cef-47e1-f4c5-0953b17d7517"
      },
      "outputs": [
        {
          "output_type": "execute_result",
          "data": {
            "text/plain": [
              "'WithallthisstuffgoingdownatthemomentwithMJivestartedlisteningtohismusicwatchingtheodddocumentaryhereandtherewatchedTheWizandwatchedMoonwalkeragainMaybeijustwanttogetacertaininsightintothisguywhoithoughtwasreallycoolintheeightiesjusttomaybemakeupmymindwhetherheisguiltyorinnocentMoonwalkerispartbiographypartfeaturefilmwhichiremembergoingtoseeatthecinemawhenitwasoriginallyreleasedSomeofithassubtlemessagesaboutMJsfeelingtowardsthepressandalsotheobviousmessageofdrugsarebadmkayVisuallyimpressivebutofcoursethisisallaboutMichaelJacksonsounlessyouremotelylikeMJinanywaythenyouaregoingtohatethisandfinditboringSomemaycallMJanegotistforconsentingtothemakingofthismovieBUTMJandmostofhisfanswouldsaythathemadeitforthefanswhichiftrueisreallyniceofhimTheactualfeaturefilmbitwhenitfinallystartsisonlyonforminutesorsoexcludingtheSmoothCriminalsequenceandJoePesciisconvincingasapsychopathicallpowerfuldruglordWhyhewantsMJdeadsobadisbeyondmeBecauseMJoverheardhisplansNahJoePescischaracterrantedthathewantedpeopletoknowitishewhoissupplyingdrugsetcsoidunnomaybehejusthatesMJsmusicLotsofcoolthingsinthislikeMJturningintoacarandarobotandthewholeSpeedDemonsequenceAlsothedirectormusthavehadthepatienceofasaintwhenitcametofilmingthekiddyBadsequenceasusuallydirectorshateworkingwithonekidletaloneawholebunchofthemperformingacomplexdancesceneBottomlinethismovieisforpeoplewholikeMJononeleveloranotherwhichithinkismostpeopleIfnotthenstayawayItdoestryandgiveoffawholesomemessageandironicallyMJsbestestbuddyinthismovieisagirlMichaelJacksonistrulyoneofthemosttalentedpeopleevertogracethisplanetbutisheguiltyWellwithalltheattentionivegavethissubjecthmmmwellidontknowbecausepeoplecanbedifferentbehindcloseddoorsiknowthisforafactHeiseitheranextremelynicebutstupidguyoroneofthemostsickestliarsIhopeheisnotthelatter'"
            ],
            "application/vnd.google.colaboratory.intrinsic+json": {
              "type": "string"
            }
          },
          "metadata": {},
          "execution_count": 32
        }
      ],
      "source": [
        "letters_only"
      ]
    },
    {
      "cell_type": "markdown",
      "metadata": {
        "id": "t-4ko6icut8K"
      },
      "source": [
        "## 4-3. 토큰화(Tokenizing)\n",
        "\n",
        "토큰(token)은 의미를 갖는 최소 분석 단위입니다. **토큰화(tokenizing)** 는 corpus 덩어리를 작은 토큰 단위로 쪼개어주는 작업입니다. 영어에서는 대체로 띄어쓰기를 기준으로 토큰화를 합니다.\n",
        "\n",
        "즉 아래처럼 `split()` 함수를 써주기만 하면 띄어쓰기(단어) 단위로 토큰화가 진행될 것입니다. 아래 예시를 통해 하나의 문장에서 437개의 단어로 토큰화된 것을 확인할 수 있습니다.\n",
        "\n",
        "`lower_case` 함수로 소문자로 변환하는 이유는 무엇일까요? 대문자와 소문자는 다른 단어로 구분되기에 이를 그대로 두면 복잡성을 야기할 수 있습니다. 따라서 단어집합 크기를 최대한 줄이기 위해 대소문자를 통합하는 것입니다.\n",
        "\n",
        "물론 무작정 소문자로 통합하는 것도 지양해야하는 것이, 미국을 뜻하는 US와 우리를 뜻하는 us는 엄밀히 다르기 때문입니다."
      ]
    },
    {
      "cell_type": "code",
      "execution_count": 22,
      "metadata": {
        "id": "t5t8blL9vYjK",
        "colab": {
          "base_uri": "https://localhost:8080/"
        },
        "outputId": "54500f6d-d8fa-4e98-f295-20fc96593af3"
      },
      "outputs": [
        {
          "output_type": "stream",
          "name": "stdout",
          "text": [
            "토큰화 이후 생성된 토큰(단어) 개수:  424\n"
          ]
        }
      ],
      "source": [
        "lower_case = letters_only.lower()\n",
        "token_words = lower_case.split()\n",
        "print(\"토큰화 이후 생성된 토큰(단어) 개수: \",len(token_words))"
      ]
    },
    {
      "cell_type": "markdown",
      "metadata": {
        "id": "ka2YcU-jxjmM"
      },
      "source": [
        "참고) nltk와 케라스에서 토큰화를 수행해주는 도구들을 제공합니다. 이 도구들은 아포스트로피가 들어간 단어들을 지혜롭게 토큰화해줍니다. 본 과제에서는 앞서 정규표현식으로 아포스트로피를 모두 제거했기에 굳이 아래 도구들을 사용하지 않고 `split()`로만 토큰화를 수행했습니다."
      ]
    },
    {
      "cell_type": "code",
      "execution_count": null,
      "metadata": {
        "id": "IUehvA5owQjT"
      },
      "outputs": [],
      "source": [
        "# from nltk.tokenize import word_tokenize\n",
        "# word_tokenize(lower_case)\n",
        "# from nltk.tokenize import WordPunctTokenizer\n",
        "# WordPunctTokenizer().tokenize(lower_case)\n",
        "# from tensorflow.keras.preprocessing.text import text_to_word_sequence\n",
        "# text_to_word_sequence(lower_case)"
      ]
    },
    {
      "cell_type": "markdown",
      "metadata": {
        "id": "ehpETGMay9Ih"
      },
      "source": [
        "## 4-4. 불용어(Stopword) 제거\n",
        "\n",
        "단어를 기준으로 토큰화를 완료했습니다. 이제 이 단어들 중에서 무의미한 것들을 제거하는 작업이 필요합니다. 예컨대 I, we, you, our 등 굉장히 자주 등장하지만 분석에서 크게 중요하지 않은 단어들을 무의미한 단어로 볼 수 있습니다.\n",
        "\n",
        "이처럼 무의미한 단어들을 **불용어(Stopword)** 라고 부릅니다.\n",
        "\n",
        "`nltk`에서는 영어의 불용어들을 제공해줍니다. 내장된 불용어의 개수는 179개입니다. 예시 리뷰에서 이 불용어들을 제거해주고 나니 437개였던 토큰이 219개로 확 줄어들었습니다."
      ]
    },
    {
      "cell_type": "code",
      "execution_count": 23,
      "metadata": {
        "id": "Hl8DY4Bvy8Y4",
        "colab": {
          "base_uri": "https://localhost:8080/"
        },
        "outputId": "1ce66674-34a8-4861-f6da-88878cf31c7b"
      },
      "outputs": [
        {
          "output_type": "stream",
          "name": "stderr",
          "text": [
            "[nltk_data] Downloading package stopwords to /root/nltk_data...\n",
            "[nltk_data]   Package stopwords is already up-to-date!\n"
          ]
        },
        {
          "output_type": "execute_result",
          "data": {
            "text/plain": [
              "True"
            ]
          },
          "metadata": {},
          "execution_count": 23
        }
      ],
      "source": [
        "import nltk\n",
        "nltk.download(\"stopwords\")"
      ]
    },
    {
      "cell_type": "code",
      "execution_count": 24,
      "metadata": {
        "id": "SSW8hVvE0vKD",
        "colab": {
          "base_uri": "https://localhost:8080/"
        },
        "outputId": "1e85b933-8752-4205-fca1-363727406f97"
      },
      "outputs": [
        {
          "output_type": "stream",
          "name": "stdout",
          "text": [
            "nltk에 내장된 불용어 개수:  179\n",
            "불용어 예시:  ['i', 'me', 'my', 'myself', 'we', 'our', 'ours', 'ourselves', 'you', \"you're\"]\n",
            "예시 review에서 불용어 제거하고 남은 토큰 개수:  219\n"
          ]
        }
      ],
      "source": [
        "from nltk.corpus import stopwords\n",
        "stopwords_list = stopwords.words('english')\n",
        "print(\"nltk에 내장된 불용어 개수: \", len(stopwords_list))\n",
        "print(\"불용어 예시: \", stopwords_list[:10])\n",
        "non_stopwords = [w for w in token_words if not w in stopwords_list]\n",
        "print(\"예시 review에서 불용어 제거하고 남은 토큰 개수: \",len(non_stopwords))"
      ]
    },
    {
      "cell_type": "markdown",
      "metadata": {
        "id": "JEMKx3zy8jy-"
      },
      "source": [
        "## 4-5. 어간 추출(Stemming)\n",
        "\n",
        "nltk에선 단어에서 어간을 추출해주는 도구를 제공합니다. 하지만 이 어간 추출의 작업은 정확히 어간만 추출하는 것이 아니라 정해진 규칙에 따라 임의로 어미를 떼어놓는 작업이기에 100% 정확하게 어간만 추출하지는 못합니다.\n",
        "\n",
        "nltk의 포터 알고리즘의 규칙은 다음과 같습니다.\n",
        "- ALIZE → AL\n",
        "- ANCE → 제거\n",
        "- ICAL → IC\n",
        "\n",
        "이라는 규칙에 따라 어간을 추출합니다.\n",
        "\n",
        "예시를 들어보면, 아래와 같은 어간 추출을 합니다.\n",
        "\n",
        "- formalize → formal\n",
        "- allowance → allow\n",
        "- electricical → electric\n",
        "\n",
        "출처: 딥러닝을 이용한 자연어 처리 입문 위키독스(https://wikidocs.net/21707)"
      ]
    },
    {
      "cell_type": "code",
      "execution_count": 25,
      "metadata": {
        "id": "qu-L6rueGhEq"
      },
      "outputs": [],
      "source": [
        "from nltk.stem import PorterStemmer\n",
        "porter_stemmer = PorterStemmer()\n",
        "stemmed_words = [porter_stemmer.stem(w) for w in non_stopwords]"
      ]
    },
    {
      "cell_type": "markdown",
      "metadata": {
        "id": "VbeDGzdNKdlm"
      },
      "source": [
        "## 4-6. 표제어 추출(Lemmatization)\n",
        "\n",
        "표제어 추출도 어간 추출과 마찬가지의 역할을 수행한다. 이 둘은 본질적인 차이를 갖는데, Stemming은 단어 그 자체만을 고려하지만 Lemmatization은 그 단어가 문장 속에서 어떤 품사(Part-of-speech)로 쓰였는지까지 판단한다는 점이다. 따라서 Lemmatization이 보다 복잡한 처리 과정을 거칠 수밖에 없다.\n",
        "\n",
        "kaggle의 다른 여러 코드들을 참고한 결과 stemming을 하는 것보다 lemmatization을 하는 것이 더 나은 결과를 도출하는 것 같아서 lemmatization만 수행하도록 하겠다."
      ]
    },
    {
      "cell_type": "code",
      "execution_count": 26,
      "metadata": {
        "id": "TK3b8y0oKkqC",
        "colab": {
          "base_uri": "https://localhost:8080/"
        },
        "outputId": "7c83a225-f301-4665-aa45-cac0495e560e"
      },
      "outputs": [
        {
          "output_type": "stream",
          "name": "stderr",
          "text": [
            "[nltk_data] Downloading package wordnet to /root/nltk_data...\n",
            "[nltk_data]   Package wordnet is already up-to-date!\n",
            "[nltk_data] Downloading package omw-1.4 to /root/nltk_data...\n",
            "[nltk_data]   Package omw-1.4 is already up-to-date!\n"
          ]
        }
      ],
      "source": [
        "nltk.download('wordnet')\n",
        "nltk.download('omw-1.4')\n",
        "from nltk.stem import WordNetLemmatizer\n",
        "wordnet_lemmatizer = WordNetLemmatizer()"
      ]
    },
    {
      "cell_type": "code",
      "execution_count": 27,
      "metadata": {
        "id": "0qCfMoC6KnEY"
      },
      "outputs": [],
      "source": [
        "lemmatized_words = [wordnet_lemmatizer.lemmatize(w) for w in non_stopwords]\n",
        "lemmatized_words = [wordnet_lemmatizer.lemmatize(w,\"v\") for w in lemmatized_words]"
      ]
    },
    {
      "cell_type": "code",
      "execution_count": 28,
      "metadata": {
        "id": "zEQZI4gePAsv",
        "colab": {
          "base_uri": "https://localhost:8080/"
        },
        "outputId": "47512ad1-48f4-4b53-dbf9-0fcce85405c7"
      },
      "outputs": [
        {
          "output_type": "stream",
          "name": "stdout",
          "text": [
            "['thought', 'really', 'cool', 'eighties', 'maybe', 'make', 'mind', 'whether', 'guilty', 'innocent', 'moonwalker', 'part', 'biography', 'part', 'feature', 'film', 'remember', 'going', 'see']\n",
            "['thought', 'realli', 'cool', 'eighti', 'mayb', 'make', 'mind', 'whether', 'guilti', 'innoc', 'moonwalk', 'part', 'biographi', 'part', 'featur', 'film', 'rememb', 'go', 'see']\n",
            "['think', 'really', 'cool', 'eighty', 'maybe', 'make', 'mind', 'whether', 'guilty', 'innocent', 'moonwalker', 'part', 'biography', 'part', 'feature', 'film', 'remember', 'go', 'see']\n"
          ]
        }
      ],
      "source": [
        "print(non_stopwords[21:40]) # none\n",
        "print(stemmed_words[21:40]) # stemming\n",
        "print(lemmatized_words[21:40]) # lemmatization"
      ]
    },
    {
      "cell_type": "markdown",
      "metadata": {
        "id": "4INa9uVeJUKp"
      },
      "source": [
        "## 4-7. 하나의 함수로 표현\n",
        "\n",
        "앞선 6가지의 전처리 과정을 하나의 함수로 통합합니다."
      ]
    },
    {
      "cell_type": "code",
      "execution_count": 33,
      "metadata": {
        "id": "cODLO1bYJZuG"
      },
      "outputs": [],
      "source": [
        "stopwords_list = set(stopwords.words('english'))\n",
        "wordnet_lemmatizer = WordNetLemmatizer()\n",
        "\n",
        "def review_to_words(raw_review):\n",
        "  except_tag = BeautifulSoup(raw_review).get_text() # html 태그 제거\n",
        "  letters_only = re.sub(\"[^a-zA-Z]\", \" \", except_tag) # 알파벳만 남기기\n",
        "  token_words = letters_only.lower().split() # 소문자로 통합하고 단어 단위로 토큰화\n",
        "  non_stopwords = [w for w in token_words if not w in stopwords_list] # 불용어 삭제\n",
        "  lemmatized_words = [wordnet_lemmatizer.lemmatize(w) for w in non_stopwords]\n",
        "  lemmatized_words = [wordnet_lemmatizer.lemmatize(w,\"v\") for w in lemmatized_words] # Lemmatization\n",
        "  words = \" \".join(lemmatized_words)\n",
        "  return words"
      ]
    },
    {
      "cell_type": "markdown",
      "metadata": {
        "id": "MwRxSjIlHBAG"
      },
      "source": [
        "\n",
        "\n",
        "---\n",
        "\n"
      ]
    },
    {
      "cell_type": "markdown",
      "metadata": {
        "id": "BvvzASbwoXeM"
      },
      "source": [
        "# 5. BoW(Bag of Words) 형태로 변환\n",
        "\n",
        "Bag of words는 단어의 출현 빈도에 집중하여 텍스트를 수치화하는 표현 방식입니다.\n",
        "\n",
        "예를 들어 아래처럼 두 개의 노래 구절이 있는 경우\n",
        "\n",
        "```python\n",
        "lyric1 = \"but I don't want to stay in the middle\"\n",
        "lyric2 = \"like you a little don't want no riddle\"\n",
        "```\n",
        "\n",
        "아래 같은 단어 모음이 만들어지고\n",
        "\n",
        "```python\n",
        "vocab = [\"but\", \"I\", \"don't\", \"want\", \"to\", \"stay\", \"in\", \"the\", \"middle\", \"like\", \"you\", \"a\", \"little\", \"no\", \"riddle\"]\n",
        "```\n",
        "\n",
        "아래처럼 단어들을 빈도로 수치화할 수 있습니다.\n",
        "\n",
        "```python\n",
        "lyric1 = [1, 1, 1, 1, 1, 1, 1, 1, 1, 0, 0, 0, 0, 0, 0]\n",
        "lyric2 = [0, 0, 1, 1, 0, 0, 0, 0, 0, 1, 1, 1, 1, 1, 1]\n",
        "```"
      ]
    },
    {
      "cell_type": "markdown",
      "metadata": {
        "id": "PbX8-8DVbnMs"
      },
      "source": [
        "![image.png](attachment:image.png)"
      ]
    },
    {
      "cell_type": "markdown",
      "metadata": {
        "id": "6pLyt4Ymtjmc"
      },
      "source": [
        "위 같은 작업을 사이킷런의 `CountVectorizer`가 수행해줍니다."
      ]
    },
    {
      "cell_type": "code",
      "execution_count": 34,
      "metadata": {
        "id": "C9QVEe77tb2H",
        "colab": {
          "base_uri": "https://localhost:8080/"
        },
        "outputId": "3a7bdfa3-b8bf-42e0-a2d2-0b307e77c909"
      },
      "outputs": [
        {
          "output_type": "stream",
          "name": "stderr",
          "text": [
            "<ipython-input-33-4620c86a40d2>:5: MarkupResemblesLocatorWarning: The input looks more like a filename than markup. You may want to open this file and pass the filehandle into Beautiful Soup.\n",
            "  except_tag = BeautifulSoup(raw_review).get_text() # html 태그 제거\n"
          ]
        },
        {
          "output_type": "stream",
          "name": "stdout",
          "text": [
            "Review 5000 of 25000\n",
            "Review 10000 of 25000\n",
            "Review 15000 of 25000\n",
            "Review 20000 of 25000\n",
            "Review 25000 of 25000\n"
          ]
        }
      ],
      "source": [
        "num_reviews = train['review'].size\n",
        "\n",
        "clean_train_reviews = []\n",
        "for i in range(0, num_reviews):\n",
        "     if (i + 1) % 5000 == 0 :  #실행이 잘되는지 확인하기 위해 5000개 실행될때마다 확인문구\n",
        "         print('Review {} of {}'.format(i+1, num_reviews))\n",
        "     clean_train_reviews.append(review_to_words(train['review'][i]))"
      ]
    },
    {
      "cell_type": "markdown",
      "metadata": {
        "id": "1L1ZdBaSuv49"
      },
      "source": [
        "`clean_train_reviews`에는 25,000개의 전처리된 리뷰들이 담겨있습니다. 이것을 `CountVectorizer에` input으로 넣어주면 BoW가 완성됩니다."
      ]
    },
    {
      "cell_type": "code",
      "execution_count": 35,
      "metadata": {
        "id": "mtQUnI7brh02"
      },
      "outputs": [],
      "source": [
        "from sklearn.feature_extraction.text import CountVectorizer\n",
        "\n",
        "vectorizer = CountVectorizer(analyzer = 'word', # 학습 단위\n",
        "                             tokenizer = None,\n",
        "                             preprocessor = None,\n",
        "                             stop_words = None,\n",
        "                             min_df = 2, # 토큰이 나타날 최소 문서 개수\n",
        "                             ngram_range=(1, 2), # 단어의 묶음 개수\n",
        "                             max_features = 4000) # 토큰의 최대 개수, 즉 컬럼의 최대 개수"
      ]
    },
    {
      "cell_type": "markdown",
      "metadata": {
        "id": "LXXL0_g0nI74"
      },
      "source": [
        "# 6. TfidfVectorizer\n",
        "\n",
        "이번엔 `CounterVectorizer`보다 한 단계 나아간 `TidfVectorizer`에 대해 살펴볼 것입니다.\n",
        "\n",
        "`TidfVectorizer()`는 TF-IDF(단어빈도*문서빈도역수)를 학습시키는 함수입니다. 단어빈도란 특정 단어가 한 문서 내에서 출현한 빈도이고, 문서빈도는 특정 단어가 출현한 전체 문서의 개수입니다.\n",
        "\n",
        "왜 두 빈도를 모두 알아야 할까요? 예컨대 정관사 a, the는 영어에서 굉장히 많이 쓰입니다. 하지만 출현빈도에 비해 그렇게 중요치 않은 단어입니다. 이처럼 단어빈도는 높아도 중요도가 낮은 단어들을 걸러주기 위해 이 단어가 출현한 문서의 빈도도 카운트해줄 필요가 있다는 얘기입니다.\n",
        "\n",
        "![image.png](attachment:image.png)"
      ]
    },
    {
      "cell_type": "code",
      "execution_count": 36,
      "metadata": {
        "id": "pn7y54v8mUg5"
      },
      "outputs": [],
      "source": [
        "from sklearn.feature_extraction.text import TfidfVectorizer\n",
        "\n",
        "vectorizer = TfidfVectorizer(min_df = 4, # 토큰이 나타날 최소 문서 개수\n",
        "                             analyzer = 'word', # 학습 단위\n",
        "                             ngram_range = (1, 2), # 단어의 묶음 개수\n",
        "                             max_features = 1000) # 토큰의 최대 개수, 즉 컬럼의 최대 개수"
      ]
    },
    {
      "cell_type": "code",
      "execution_count": 37,
      "metadata": {
        "colab": {
          "base_uri": "https://localhost:8080/"
        },
        "id": "MsMFVIEltX51",
        "outputId": "0f00a067-1adc-4c94-e269-41cb504d3279"
      },
      "outputs": [
        {
          "output_type": "execute_result",
          "data": {
            "text/plain": [
              "(25000, 1000)"
            ]
          },
          "metadata": {},
          "execution_count": 37
        }
      ],
      "source": [
        "train_data_features = vectorizer.fit_transform(clean_train_reviews)\n",
        "train_data_features.shape"
      ]
    },
    {
      "cell_type": "markdown",
      "metadata": {
        "id": "wbZo0RbS6ENh"
      },
      "source": [
        "`TfidfVectorizer`의 `get_feature_names_out()` 메서드로 토큰 이름들을 추출할 수 있습니다.\n",
        "\n",
        "cf) scikit-learn 0.24.0 이상에선 `get_feature_names_out()`, 미만에선 `get_feature_names()`"
      ]
    },
    {
      "cell_type": "code",
      "execution_count": 38,
      "metadata": {
        "colab": {
          "base_uri": "https://localhost:8080/"
        },
        "id": "9w0zzKjOwFSx",
        "outputId": "572325f5-789e-4d01-f176-89744e31ea1d"
      },
      "outputs": [
        {
          "output_type": "execute_result",
          "data": {
            "text/plain": [
              "array(['ability', 'able', 'absolutely', 'accent', 'accept', 'across',\n",
              "       'act', 'action', 'actor', 'actress'], dtype=object)"
            ]
          },
          "metadata": {},
          "execution_count": 38
        }
      ],
      "source": [
        "vocab = vectorizer.get_feature_names_out()\n",
        "vocab[:10]"
      ]
    },
    {
      "cell_type": "markdown",
      "metadata": {
        "id": "BFkVZ2WPguny"
      },
      "source": [
        "# 7. Modeling\n",
        "\n",
        "baseline 코드로 제시된 트리 계열 알고리즘으로 학습을 시켜봅니다.\n",
        "\n",
        "원하시는 경우 성능 향상을 위해 새롭게 코드를 짜보셔도 좋습니다!"
      ]
    },
    {
      "cell_type": "code",
      "execution_count": 39,
      "metadata": {
        "id": "0I6uMDC1-4uV",
        "colab": {
          "base_uri": "https://localhost:8080/"
        },
        "outputId": "804e780e-7e03-4178-97b6-69a9eb38a444"
      },
      "outputs": [
        {
          "output_type": "stream",
          "name": "stderr",
          "text": [
            "/usr/local/lib/python3.11/dist-packages/dask/dataframe/__init__.py:42: FutureWarning: \n",
            "Dask dataframe query planning is disabled because dask-expr is not installed.\n",
            "\n",
            "You can install it with `pip install dask[dataframe]` or `conda install dask`.\n",
            "This will raise in a future version.\n",
            "\n",
            "  warnings.warn(msg, FutureWarning)\n"
          ]
        }
      ],
      "source": [
        "from sklearn.ensemble import RandomForestClassifier\n",
        "from lightgbm import LGBMClassifier\n",
        "from xgboost import XGBClassifier\n",
        "from sklearn.model_selection import train_test_split\n",
        "from sklearn.metrics import roc_auc_score\n",
        "from sklearn.ensemble import StackingClassifier\n",
        "from sklearn.linear_model import LogisticRegression\n",
        "\n",
        "x = train_data_features\n",
        "y = train['sentiment']\n",
        "\n",
        "x_train, x_val, y_train, y_val = train_test_split(x, y, test_size=0.3, random_state=42)\n",
        "\n",
        "# 트리 알고리즘 3개를 사용\n",
        "rf = RandomForestClassifier(n_estimators = 200,\n",
        "                            n_jobs = -1,\n",
        "                            random_state=42,\n",
        "                            max_depth=20)\n",
        "\n",
        "xgb = XGBClassifier(n_estimators=200,\n",
        "                    max_depth=10,\n",
        "                    learning_rate=0.05,\n",
        "                    objective='binary:logistic')\n",
        "\n",
        "lgbm = LGBMClassifier(n_estimators=200,\n",
        "                    max_depth=10,\n",
        "                    metric='binary_logloss')"
      ]
    },
    {
      "cell_type": "code",
      "execution_count": 40,
      "metadata": {
        "id": "iE_m3SMip9En"
      },
      "outputs": [],
      "source": [
        "xgb.fit(x_train, y_train)\n",
        "y_pred_xgb = xgb.predict_proba(x_val)"
      ]
    },
    {
      "cell_type": "code",
      "execution_count": 41,
      "metadata": {
        "id": "JCfRiWkXrpsI",
        "colab": {
          "base_uri": "https://localhost:8080/"
        },
        "outputId": "2de44152-b11a-431c-c1ea-3d651772e7cd"
      },
      "outputs": [
        {
          "output_type": "stream",
          "name": "stderr",
          "text": [
            "/usr/local/lib/python3.11/dist-packages/sklearn/utils/deprecation.py:151: FutureWarning: 'force_all_finite' was renamed to 'ensure_all_finite' in 1.6 and will be removed in 1.8.\n",
            "  warnings.warn(\n"
          ]
        },
        {
          "output_type": "stream",
          "name": "stdout",
          "text": [
            "[LightGBM] [Info] Number of positive: 8738, number of negative: 8762\n",
            "[LightGBM] [Info] Auto-choosing row-wise multi-threading, the overhead of testing was 0.175915 seconds.\n",
            "You can set `force_row_wise=true` to remove the overhead.\n",
            "And if memory is not enough, you can set `force_col_wise=true`.\n",
            "[LightGBM] [Info] Total Bins 197828\n",
            "[LightGBM] [Info] Number of data points in the train set: 17500, number of used features: 1000\n",
            "[LightGBM] [Info] [binary:BoostFromScore]: pavg=0.499314 -> initscore=-0.002743\n",
            "[LightGBM] [Info] Start training from score -0.002743\n"
          ]
        },
        {
          "output_type": "stream",
          "name": "stderr",
          "text": [
            "/usr/local/lib/python3.11/dist-packages/sklearn/utils/deprecation.py:151: FutureWarning: 'force_all_finite' was renamed to 'ensure_all_finite' in 1.6 and will be removed in 1.8.\n",
            "  warnings.warn(\n"
          ]
        }
      ],
      "source": [
        "lgbm.fit(x_train, y_train)\n",
        "y_pred_lgbm = lgbm.predict_proba(x_val)"
      ]
    },
    {
      "cell_type": "code",
      "execution_count": 42,
      "metadata": {
        "id": "OpZtFdbgAmws"
      },
      "outputs": [],
      "source": [
        "rf.fit(x_train, y_train)\n",
        "y_pred_rf = rf.predict_proba(x_val)"
      ]
    },
    {
      "cell_type": "markdown",
      "metadata": {
        "id": "DkI594sPjY_2"
      },
      "source": [
        "학습된 모델들의 `roc_auc_score`는 아래처럼 구할 수 있다."
      ]
    },
    {
      "cell_type": "code",
      "execution_count": 43,
      "metadata": {
        "id": "cVenoNaUjImr",
        "colab": {
          "base_uri": "https://localhost:8080/"
        },
        "outputId": "b35e2b99-77fd-4d1b-8a59-11d6b6d97913"
      },
      "outputs": [
        {
          "output_type": "stream",
          "name": "stdout",
          "text": [
            "Random Forest AUC Score : 0.9058620760276586\n",
            "XGBoost AUC Score : 0.9158306758838988\n",
            "LGBM AUC Score : 0.9256037892939135\n"
          ]
        }
      ],
      "source": [
        "print('Random Forest AUC Score :', roc_auc_score(y_val, y_pred_rf[:,1]))\n",
        "print('XGBoost AUC Score :', roc_auc_score(y_val, y_pred_xgb[:,1]))\n",
        "print('LGBM AUC Score :', roc_auc_score(y_val, y_pred_lgbm[:,1]))"
      ]
    },
    {
      "cell_type": "markdown",
      "metadata": {
        "id": "RHC6FPnYlAKF"
      },
      "source": [
        "# 8. test set 추론"
      ]
    },
    {
      "cell_type": "code",
      "execution_count": 44,
      "metadata": {
        "id": "bzw8CiDYCb3_",
        "colab": {
          "base_uri": "https://localhost:8080/"
        },
        "outputId": "0df00e28-23fa-437a-fecc-63e3dc444a8f"
      },
      "outputs": [
        {
          "output_type": "stream",
          "name": "stderr",
          "text": [
            "<ipython-input-33-4620c86a40d2>:5: MarkupResemblesLocatorWarning: The input looks more like a filename than markup. You may want to open this file and pass the filehandle into Beautiful Soup.\n",
            "  except_tag = BeautifulSoup(raw_review).get_text() # html 태그 제거\n"
          ]
        },
        {
          "output_type": "stream",
          "name": "stdout",
          "text": [
            "Review 5000 of 25000\n",
            "Review 10000 of 25000\n",
            "Review 15000 of 25000\n",
            "Review 20000 of 25000\n",
            "Review 25000 of 25000\n"
          ]
        }
      ],
      "source": [
        "num_reviews = test['review'].size\n",
        "\n",
        "clean_test_reviews = []\n",
        "for i in range(0, num_reviews):\n",
        "     if (i + 1) % 5000 == 0 :  #실행이 잘 되는지 확인하기 위해 5000개 실행될때마다 확인문구\n",
        "         print('Review {} of {}'.format(i+1, num_reviews))\n",
        "     clean_test_reviews.append(review_to_words(test['review'][i]))"
      ]
    },
    {
      "cell_type": "code",
      "execution_count": 45,
      "metadata": {
        "id": "7JlFQBI7Cr9F"
      },
      "outputs": [],
      "source": [
        "test_data_features = vectorizer.fit_transform(clean_test_reviews)\n",
        "test_data_features = test_data_features.toarray()"
      ]
    },
    {
      "cell_type": "code",
      "execution_count": 46,
      "metadata": {
        "colab": {
          "base_uri": "https://localhost:8080/"
        },
        "id": "K6EihQRSC3Hv",
        "outputId": "4ddeabd0-066b-4dd8-840f-def84aafb49b"
      },
      "outputs": [
        {
          "output_type": "stream",
          "name": "stderr",
          "text": [
            "/usr/local/lib/python3.11/dist-packages/sklearn/utils/deprecation.py:151: FutureWarning: 'force_all_finite' was renamed to 'ensure_all_finite' in 1.6 and will be removed in 1.8.\n",
            "  warnings.warn(\n"
          ]
        }
      ],
      "source": [
        "# 3개 알고리즘 중 원하는 것으로 predict\n",
        "result = lgbm.predict(test_data_features)\n",
        "submit['sentiment'] = result"
      ]
    },
    {
      "cell_type": "code",
      "execution_count": 47,
      "metadata": {
        "colab": {
          "base_uri": "https://localhost:8080/",
          "height": 363
        },
        "id": "M6Esmi7uEhg3",
        "outputId": "d381d207-8c47-48be-f46c-f3b02e250d1b"
      },
      "outputs": [
        {
          "output_type": "execute_result",
          "data": {
            "text/plain": [
              "         id  sentiment\n",
              "0  12311_10          1\n",
              "1    8348_2          0\n",
              "2    5828_4          0\n",
              "3    7186_2          1\n",
              "4   12128_7          0\n",
              "5    2913_8          0\n",
              "6    4396_1          0\n",
              "7     395_2          0\n",
              "8   10616_1          0\n",
              "9    9074_9          1"
            ],
            "text/html": [
              "\n",
              "  <div id=\"df-03f37498-bd7f-48d1-aa9e-9bdb879f4fd5\" class=\"colab-df-container\">\n",
              "    <div>\n",
              "<style scoped>\n",
              "    .dataframe tbody tr th:only-of-type {\n",
              "        vertical-align: middle;\n",
              "    }\n",
              "\n",
              "    .dataframe tbody tr th {\n",
              "        vertical-align: top;\n",
              "    }\n",
              "\n",
              "    .dataframe thead th {\n",
              "        text-align: right;\n",
              "    }\n",
              "</style>\n",
              "<table border=\"1\" class=\"dataframe\">\n",
              "  <thead>\n",
              "    <tr style=\"text-align: right;\">\n",
              "      <th></th>\n",
              "      <th>id</th>\n",
              "      <th>sentiment</th>\n",
              "    </tr>\n",
              "  </thead>\n",
              "  <tbody>\n",
              "    <tr>\n",
              "      <th>0</th>\n",
              "      <td>12311_10</td>\n",
              "      <td>1</td>\n",
              "    </tr>\n",
              "    <tr>\n",
              "      <th>1</th>\n",
              "      <td>8348_2</td>\n",
              "      <td>0</td>\n",
              "    </tr>\n",
              "    <tr>\n",
              "      <th>2</th>\n",
              "      <td>5828_4</td>\n",
              "      <td>0</td>\n",
              "    </tr>\n",
              "    <tr>\n",
              "      <th>3</th>\n",
              "      <td>7186_2</td>\n",
              "      <td>1</td>\n",
              "    </tr>\n",
              "    <tr>\n",
              "      <th>4</th>\n",
              "      <td>12128_7</td>\n",
              "      <td>0</td>\n",
              "    </tr>\n",
              "    <tr>\n",
              "      <th>5</th>\n",
              "      <td>2913_8</td>\n",
              "      <td>0</td>\n",
              "    </tr>\n",
              "    <tr>\n",
              "      <th>6</th>\n",
              "      <td>4396_1</td>\n",
              "      <td>0</td>\n",
              "    </tr>\n",
              "    <tr>\n",
              "      <th>7</th>\n",
              "      <td>395_2</td>\n",
              "      <td>0</td>\n",
              "    </tr>\n",
              "    <tr>\n",
              "      <th>8</th>\n",
              "      <td>10616_1</td>\n",
              "      <td>0</td>\n",
              "    </tr>\n",
              "    <tr>\n",
              "      <th>9</th>\n",
              "      <td>9074_9</td>\n",
              "      <td>1</td>\n",
              "    </tr>\n",
              "  </tbody>\n",
              "</table>\n",
              "</div>\n",
              "    <div class=\"colab-df-buttons\">\n",
              "\n",
              "  <div class=\"colab-df-container\">\n",
              "    <button class=\"colab-df-convert\" onclick=\"convertToInteractive('df-03f37498-bd7f-48d1-aa9e-9bdb879f4fd5')\"\n",
              "            title=\"Convert this dataframe to an interactive table.\"\n",
              "            style=\"display:none;\">\n",
              "\n",
              "  <svg xmlns=\"http://www.w3.org/2000/svg\" height=\"24px\" viewBox=\"0 -960 960 960\">\n",
              "    <path d=\"M120-120v-720h720v720H120Zm60-500h600v-160H180v160Zm220 220h160v-160H400v160Zm0 220h160v-160H400v160ZM180-400h160v-160H180v160Zm440 0h160v-160H620v160ZM180-180h160v-160H180v160Zm440 0h160v-160H620v160Z\"/>\n",
              "  </svg>\n",
              "    </button>\n",
              "\n",
              "  <style>\n",
              "    .colab-df-container {\n",
              "      display:flex;\n",
              "      gap: 12px;\n",
              "    }\n",
              "\n",
              "    .colab-df-convert {\n",
              "      background-color: #E8F0FE;\n",
              "      border: none;\n",
              "      border-radius: 50%;\n",
              "      cursor: pointer;\n",
              "      display: none;\n",
              "      fill: #1967D2;\n",
              "      height: 32px;\n",
              "      padding: 0 0 0 0;\n",
              "      width: 32px;\n",
              "    }\n",
              "\n",
              "    .colab-df-convert:hover {\n",
              "      background-color: #E2EBFA;\n",
              "      box-shadow: 0px 1px 2px rgba(60, 64, 67, 0.3), 0px 1px 3px 1px rgba(60, 64, 67, 0.15);\n",
              "      fill: #174EA6;\n",
              "    }\n",
              "\n",
              "    .colab-df-buttons div {\n",
              "      margin-bottom: 4px;\n",
              "    }\n",
              "\n",
              "    [theme=dark] .colab-df-convert {\n",
              "      background-color: #3B4455;\n",
              "      fill: #D2E3FC;\n",
              "    }\n",
              "\n",
              "    [theme=dark] .colab-df-convert:hover {\n",
              "      background-color: #434B5C;\n",
              "      box-shadow: 0px 1px 3px 1px rgba(0, 0, 0, 0.15);\n",
              "      filter: drop-shadow(0px 1px 2px rgba(0, 0, 0, 0.3));\n",
              "      fill: #FFFFFF;\n",
              "    }\n",
              "  </style>\n",
              "\n",
              "    <script>\n",
              "      const buttonEl =\n",
              "        document.querySelector('#df-03f37498-bd7f-48d1-aa9e-9bdb879f4fd5 button.colab-df-convert');\n",
              "      buttonEl.style.display =\n",
              "        google.colab.kernel.accessAllowed ? 'block' : 'none';\n",
              "\n",
              "      async function convertToInteractive(key) {\n",
              "        const element = document.querySelector('#df-03f37498-bd7f-48d1-aa9e-9bdb879f4fd5');\n",
              "        const dataTable =\n",
              "          await google.colab.kernel.invokeFunction('convertToInteractive',\n",
              "                                                    [key], {});\n",
              "        if (!dataTable) return;\n",
              "\n",
              "        const docLinkHtml = 'Like what you see? Visit the ' +\n",
              "          '<a target=\"_blank\" href=https://colab.research.google.com/notebooks/data_table.ipynb>data table notebook</a>'\n",
              "          + ' to learn more about interactive tables.';\n",
              "        element.innerHTML = '';\n",
              "        dataTable['output_type'] = 'display_data';\n",
              "        await google.colab.output.renderOutput(dataTable, element);\n",
              "        const docLink = document.createElement('div');\n",
              "        docLink.innerHTML = docLinkHtml;\n",
              "        element.appendChild(docLink);\n",
              "      }\n",
              "    </script>\n",
              "  </div>\n",
              "\n",
              "\n",
              "<div id=\"df-c5b936bc-8e7c-4755-b1c3-38edcb66d708\">\n",
              "  <button class=\"colab-df-quickchart\" onclick=\"quickchart('df-c5b936bc-8e7c-4755-b1c3-38edcb66d708')\"\n",
              "            title=\"Suggest charts\"\n",
              "            style=\"display:none;\">\n",
              "\n",
              "<svg xmlns=\"http://www.w3.org/2000/svg\" height=\"24px\"viewBox=\"0 0 24 24\"\n",
              "     width=\"24px\">\n",
              "    <g>\n",
              "        <path d=\"M19 3H5c-1.1 0-2 .9-2 2v14c0 1.1.9 2 2 2h14c1.1 0 2-.9 2-2V5c0-1.1-.9-2-2-2zM9 17H7v-7h2v7zm4 0h-2V7h2v10zm4 0h-2v-4h2v4z\"/>\n",
              "    </g>\n",
              "</svg>\n",
              "  </button>\n",
              "\n",
              "<style>\n",
              "  .colab-df-quickchart {\n",
              "      --bg-color: #E8F0FE;\n",
              "      --fill-color: #1967D2;\n",
              "      --hover-bg-color: #E2EBFA;\n",
              "      --hover-fill-color: #174EA6;\n",
              "      --disabled-fill-color: #AAA;\n",
              "      --disabled-bg-color: #DDD;\n",
              "  }\n",
              "\n",
              "  [theme=dark] .colab-df-quickchart {\n",
              "      --bg-color: #3B4455;\n",
              "      --fill-color: #D2E3FC;\n",
              "      --hover-bg-color: #434B5C;\n",
              "      --hover-fill-color: #FFFFFF;\n",
              "      --disabled-bg-color: #3B4455;\n",
              "      --disabled-fill-color: #666;\n",
              "  }\n",
              "\n",
              "  .colab-df-quickchart {\n",
              "    background-color: var(--bg-color);\n",
              "    border: none;\n",
              "    border-radius: 50%;\n",
              "    cursor: pointer;\n",
              "    display: none;\n",
              "    fill: var(--fill-color);\n",
              "    height: 32px;\n",
              "    padding: 0;\n",
              "    width: 32px;\n",
              "  }\n",
              "\n",
              "  .colab-df-quickchart:hover {\n",
              "    background-color: var(--hover-bg-color);\n",
              "    box-shadow: 0 1px 2px rgba(60, 64, 67, 0.3), 0 1px 3px 1px rgba(60, 64, 67, 0.15);\n",
              "    fill: var(--button-hover-fill-color);\n",
              "  }\n",
              "\n",
              "  .colab-df-quickchart-complete:disabled,\n",
              "  .colab-df-quickchart-complete:disabled:hover {\n",
              "    background-color: var(--disabled-bg-color);\n",
              "    fill: var(--disabled-fill-color);\n",
              "    box-shadow: none;\n",
              "  }\n",
              "\n",
              "  .colab-df-spinner {\n",
              "    border: 2px solid var(--fill-color);\n",
              "    border-color: transparent;\n",
              "    border-bottom-color: var(--fill-color);\n",
              "    animation:\n",
              "      spin 1s steps(1) infinite;\n",
              "  }\n",
              "\n",
              "  @keyframes spin {\n",
              "    0% {\n",
              "      border-color: transparent;\n",
              "      border-bottom-color: var(--fill-color);\n",
              "      border-left-color: var(--fill-color);\n",
              "    }\n",
              "    20% {\n",
              "      border-color: transparent;\n",
              "      border-left-color: var(--fill-color);\n",
              "      border-top-color: var(--fill-color);\n",
              "    }\n",
              "    30% {\n",
              "      border-color: transparent;\n",
              "      border-left-color: var(--fill-color);\n",
              "      border-top-color: var(--fill-color);\n",
              "      border-right-color: var(--fill-color);\n",
              "    }\n",
              "    40% {\n",
              "      border-color: transparent;\n",
              "      border-right-color: var(--fill-color);\n",
              "      border-top-color: var(--fill-color);\n",
              "    }\n",
              "    60% {\n",
              "      border-color: transparent;\n",
              "      border-right-color: var(--fill-color);\n",
              "    }\n",
              "    80% {\n",
              "      border-color: transparent;\n",
              "      border-right-color: var(--fill-color);\n",
              "      border-bottom-color: var(--fill-color);\n",
              "    }\n",
              "    90% {\n",
              "      border-color: transparent;\n",
              "      border-bottom-color: var(--fill-color);\n",
              "    }\n",
              "  }\n",
              "</style>\n",
              "\n",
              "  <script>\n",
              "    async function quickchart(key) {\n",
              "      const quickchartButtonEl =\n",
              "        document.querySelector('#' + key + ' button');\n",
              "      quickchartButtonEl.disabled = true;  // To prevent multiple clicks.\n",
              "      quickchartButtonEl.classList.add('colab-df-spinner');\n",
              "      try {\n",
              "        const charts = await google.colab.kernel.invokeFunction(\n",
              "            'suggestCharts', [key], {});\n",
              "      } catch (error) {\n",
              "        console.error('Error during call to suggestCharts:', error);\n",
              "      }\n",
              "      quickchartButtonEl.classList.remove('colab-df-spinner');\n",
              "      quickchartButtonEl.classList.add('colab-df-quickchart-complete');\n",
              "    }\n",
              "    (() => {\n",
              "      let quickchartButtonEl =\n",
              "        document.querySelector('#df-c5b936bc-8e7c-4755-b1c3-38edcb66d708 button');\n",
              "      quickchartButtonEl.style.display =\n",
              "        google.colab.kernel.accessAllowed ? 'block' : 'none';\n",
              "    })();\n",
              "  </script>\n",
              "</div>\n",
              "\n",
              "    </div>\n",
              "  </div>\n"
            ],
            "application/vnd.google.colaboratory.intrinsic+json": {
              "type": "dataframe",
              "variable_name": "submit",
              "summary": "{\n  \"name\": \"submit\",\n  \"rows\": 25000,\n  \"fields\": [\n    {\n      \"column\": \"id\",\n      \"properties\": {\n        \"dtype\": \"string\",\n        \"num_unique_values\": 25000,\n        \"samples\": [\n          \"10610_7\",\n          \"10557_8\",\n          \"3118_9\"\n        ],\n        \"semantic_type\": \"\",\n        \"description\": \"\"\n      }\n    },\n    {\n      \"column\": \"sentiment\",\n      \"properties\": {\n        \"dtype\": \"number\",\n        \"std\": 0,\n        \"min\": 0,\n        \"max\": 1,\n        \"num_unique_values\": 2,\n        \"samples\": [\n          0,\n          1\n        ],\n        \"semantic_type\": \"\",\n        \"description\": \"\"\n      }\n    }\n  ]\n}"
            }
          },
          "metadata": {},
          "execution_count": 47
        }
      ],
      "source": [
        "submit.head(10)"
      ]
    },
    {
      "cell_type": "markdown",
      "metadata": {
        "id": "a7WcDGuZAk0A"
      },
      "source": [
        "원하시는 분은 직접 결과 제출도 해보세요!\n",
        "\n",
        "https://www.kaggle.com/competitions/word2vec-nlp-tutorial/submissions"
      ]
    },
    {
      "cell_type": "code",
      "execution_count": 48,
      "metadata": {
        "id": "SX8tyjL2Dlf1"
      },
      "outputs": [],
      "source": [
        "submit.to_csv(\"./submission_240117.csv\", index=False)"
      ]
    }
  ],
  "metadata": {
    "colab": {
      "provenance": []
    },
    "kernelspec": {
      "display_name": "Python 3",
      "name": "python3"
    },
    "language_info": {
      "name": "python"
    }
  },
  "nbformat": 4,
  "nbformat_minor": 0
}