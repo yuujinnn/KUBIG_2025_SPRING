{
  "cells": [
    {
      "cell_type": "markdown",
      "metadata": {
        "id": "oDoKDVWfAs6g"
      },
      "source": [
        "# 1. IMDB intro\n",
        "\n",
        "IMDB는 영화에 대한 여러 정보를 제공하는 웹사이트입니다. 이 웹사이트에서 작성된 리뷰들은 감정분석에서 사용되는 대표적인 데이터셋으로 유명하죠.\n",
        "\n",
        "이번 과제에서는 Kaggle의 Bag of Words Meets Bags of Popcorn이라는 **감성분석** 튜토리얼을 진행해볼 것입니다.\n",
        "\n",
        "참고: https://www.kaggle.com/competitions/word2vec-nlp-tutorial/overview\n",
        "\n",
        "지난 예습과제에서는 한국어 데이터를 만져보았다면, 이번 데이터는 영어 데이터입니다. 두 언어 간 차이로 인해 전처리 과정에서도 미묘한 차이가 존재합니다.\n",
        "\n",
        "주어지는 데이터셋은 train set과 test set 모두 25,000개의 긍정 부정 리뷰로 구성되어 있으며, 긍정인 경우엔 label이 1이고, 부정인 경우엔 label이 0입니다."
      ]
    },
    {
      "cell_type": "markdown",
      "metadata": {
        "id": "UffzIYPZCSpE"
      },
      "source": [
        "# 2. Load Files\n",
        "\n",
        "구글 드라이브에 다운받은 파일을 저장하고, 파일을 불러온다."
      ]
    },
    {
      "cell_type": "code",
      "execution_count": 1,
      "metadata": {
        "id": "bd2qHQ4RZZgw",
        "colab": {
          "base_uri": "https://localhost:8080/"
        },
        "outputId": "1d547c23-c06f-466b-8627-449db668193c"
      },
      "outputs": [
        {
          "output_type": "stream",
          "name": "stdout",
          "text": [
            "Mounted at /content/drive\n"
          ]
        }
      ],
      "source": [
        "from google.colab import drive\n",
        "drive.mount('/content/drive')"
      ]
    },
    {
      "cell_type": "code",
      "execution_count": 2,
      "metadata": {
        "id": "2kMlmKUyZ331",
        "colab": {
          "base_uri": "https://localhost:8080/"
        },
        "outputId": "b9a5576c-786c-4f20-b261-324e38069e04"
      },
      "outputs": [
        {
          "output_type": "stream",
          "name": "stderr",
          "text": [
            "[nltk_data] Downloading package stopwords to /root/nltk_data...\n",
            "[nltk_data]   Unzipping corpora/stopwords.zip.\n",
            "[nltk_data] Downloading package wordnet to /root/nltk_data...\n",
            "[nltk_data] Downloading package omw-1.4 to /root/nltk_data...\n"
          ]
        }
      ],
      "source": [
        "import pandas as pd\n",
        "from bs4 import BeautifulSoup\n",
        "from nltk.stem import WordNetLemmatizer\n",
        "import re\n",
        "import nltk\n",
        "from nltk.corpus import stopwords\n",
        "nltk.download('stopwords')\n",
        "from nltk.stem import PorterStemmer\n",
        "nltk.download('wordnet')\n",
        "nltk.download('omw-1.4')\n",
        "from nltk.stem import WordNetLemmatizer\n",
        "import matplotlib as plt"
      ]
    },
    {
      "cell_type": "code",
      "execution_count": 3,
      "metadata": {
        "id": "D1EijdrtZ8ee"
      },
      "outputs": [],
      "source": [
        "# header=0: 첫 번째 행(헤더)을 열 이름으로 사용\n",
        "# delimiter='\\t': 파일에서 탭(\\t)을 구분자로 사용하여 열을 나눔\n",
        "# quoting=3: CSV 파일에서 따옴표와 관련된 처리를 하지 않도록 설정 (즉, 내용을 그대로 읽어옴)\n",
        "train = pd.read_csv('/content/drive/MyDrive/NLP/WEEK2/복습과제1/labeledTrainData.tsv', header=0, delimiter='\\t', quoting=3)\n",
        "test = pd.read_csv('/content/drive/MyDrive/NLP/WEEK2/복습과제1/testData.tsv', header=0, delimiter='\\t', quoting=3)\n",
        "submit = pd.read_csv('/content/drive/MyDrive/NLP/WEEK2/복습과제1/sampleSubmission.csv')"
      ]
    },
    {
      "cell_type": "markdown",
      "metadata": {
        "id": "2vzS781TdzZ_"
      },
      "source": [
        "\n",
        "\n",
        "---\n",
        "\n"
      ]
    },
    {
      "cell_type": "markdown",
      "metadata": {
        "id": "SyaLQ2WQdVdu"
      },
      "source": [
        "# 3. 간략한 데이터 탐색"
      ]
    },
    {
      "cell_type": "code",
      "execution_count": 4,
      "metadata": {
        "id": "6yhXqCqtaPrb",
        "colab": {
          "base_uri": "https://localhost:8080/"
        },
        "outputId": "ef13e69a-fa9c-4ce3-bbcd-2b3f7a43cd15"
      },
      "outputs": [
        {
          "output_type": "stream",
          "name": "stdout",
          "text": [
            "<class 'pandas.core.frame.DataFrame'>\n",
            "RangeIndex: 25000 entries, 0 to 24999\n",
            "Data columns (total 3 columns):\n",
            " #   Column     Non-Null Count  Dtype \n",
            "---  ------     --------------  ----- \n",
            " 0   id         25000 non-null  object\n",
            " 1   sentiment  25000 non-null  int64 \n",
            " 2   review     25000 non-null  object\n",
            "dtypes: int64(1), object(2)\n",
            "memory usage: 586.1+ KB\n"
          ]
        }
      ],
      "source": [
        "train.info()"
      ]
    },
    {
      "cell_type": "code",
      "execution_count": 5,
      "metadata": {
        "id": "fXrzdlRKc3nc",
        "colab": {
          "base_uri": "https://localhost:8080/",
          "height": 1316
        },
        "outputId": "c61a8fa7-4cc2-4e94-c8ef-d1bc63d24c8f"
      },
      "outputs": [
        {
          "output_type": "execute_result",
          "data": {
            "text/plain": [
              "         id  sentiment                                             review\n",
              "0  \"5814_8\"          1  \"With all this stuff going down at the moment ...\n",
              "1  \"2381_9\"          1  \"\\\"The Classic War of the Worlds\\\" by Timothy ...\n",
              "2  \"7759_3\"          0  \"The film starts with a manager (Nicholas Bell...\n",
              "3  \"3630_4\"          0  \"It must be assumed that those who praised thi...\n",
              "4  \"9495_8\"          1  \"Superbly trashy and wondrously unpretentious ..."
            ],
            "text/html": [
              "\n",
              "  <div id=\"df-eedadea7-7746-4c2a-be28-adfcb1ede43c\" class=\"colab-df-container\">\n",
              "    <div>\n",
              "<style scoped>\n",
              "    .dataframe tbody tr th:only-of-type {\n",
              "        vertical-align: middle;\n",
              "    }\n",
              "\n",
              "    .dataframe tbody tr th {\n",
              "        vertical-align: top;\n",
              "    }\n",
              "\n",
              "    .dataframe thead th {\n",
              "        text-align: right;\n",
              "    }\n",
              "</style>\n",
              "<table border=\"1\" class=\"dataframe\">\n",
              "  <thead>\n",
              "    <tr style=\"text-align: right;\">\n",
              "      <th></th>\n",
              "      <th>id</th>\n",
              "      <th>sentiment</th>\n",
              "      <th>review</th>\n",
              "    </tr>\n",
              "  </thead>\n",
              "  <tbody>\n",
              "    <tr>\n",
              "      <th>0</th>\n",
              "      <td>\"5814_8\"</td>\n",
              "      <td>1</td>\n",
              "      <td>\"With all this stuff going down at the moment ...</td>\n",
              "    </tr>\n",
              "    <tr>\n",
              "      <th>1</th>\n",
              "      <td>\"2381_9\"</td>\n",
              "      <td>1</td>\n",
              "      <td>\"\\\"The Classic War of the Worlds\\\" by Timothy ...</td>\n",
              "    </tr>\n",
              "    <tr>\n",
              "      <th>2</th>\n",
              "      <td>\"7759_3\"</td>\n",
              "      <td>0</td>\n",
              "      <td>\"The film starts with a manager (Nicholas Bell...</td>\n",
              "    </tr>\n",
              "    <tr>\n",
              "      <th>3</th>\n",
              "      <td>\"3630_4\"</td>\n",
              "      <td>0</td>\n",
              "      <td>\"It must be assumed that those who praised thi...</td>\n",
              "    </tr>\n",
              "    <tr>\n",
              "      <th>4</th>\n",
              "      <td>\"9495_8\"</td>\n",
              "      <td>1</td>\n",
              "      <td>\"Superbly trashy and wondrously unpretentious ...</td>\n",
              "    </tr>\n",
              "  </tbody>\n",
              "</table>\n",
              "</div>\n",
              "    <div class=\"colab-df-buttons\">\n",
              "\n",
              "  <div class=\"colab-df-container\">\n",
              "    <button class=\"colab-df-convert\" onclick=\"convertToInteractive('df-eedadea7-7746-4c2a-be28-adfcb1ede43c')\"\n",
              "            title=\"Convert this dataframe to an interactive table.\"\n",
              "            style=\"display:none;\">\n",
              "\n",
              "  <svg xmlns=\"http://www.w3.org/2000/svg\" height=\"24px\" viewBox=\"0 -960 960 960\">\n",
              "    <path d=\"M120-120v-720h720v720H120Zm60-500h600v-160H180v160Zm220 220h160v-160H400v160Zm0 220h160v-160H400v160ZM180-400h160v-160H180v160Zm440 0h160v-160H620v160ZM180-180h160v-160H180v160Zm440 0h160v-160H620v160Z\"/>\n",
              "  </svg>\n",
              "    </button>\n",
              "\n",
              "  <style>\n",
              "    .colab-df-container {\n",
              "      display:flex;\n",
              "      gap: 12px;\n",
              "    }\n",
              "\n",
              "    .colab-df-convert {\n",
              "      background-color: #E8F0FE;\n",
              "      border: none;\n",
              "      border-radius: 50%;\n",
              "      cursor: pointer;\n",
              "      display: none;\n",
              "      fill: #1967D2;\n",
              "      height: 32px;\n",
              "      padding: 0 0 0 0;\n",
              "      width: 32px;\n",
              "    }\n",
              "\n",
              "    .colab-df-convert:hover {\n",
              "      background-color: #E2EBFA;\n",
              "      box-shadow: 0px 1px 2px rgba(60, 64, 67, 0.3), 0px 1px 3px 1px rgba(60, 64, 67, 0.15);\n",
              "      fill: #174EA6;\n",
              "    }\n",
              "\n",
              "    .colab-df-buttons div {\n",
              "      margin-bottom: 4px;\n",
              "    }\n",
              "\n",
              "    [theme=dark] .colab-df-convert {\n",
              "      background-color: #3B4455;\n",
              "      fill: #D2E3FC;\n",
              "    }\n",
              "\n",
              "    [theme=dark] .colab-df-convert:hover {\n",
              "      background-color: #434B5C;\n",
              "      box-shadow: 0px 1px 3px 1px rgba(0, 0, 0, 0.15);\n",
              "      filter: drop-shadow(0px 1px 2px rgba(0, 0, 0, 0.3));\n",
              "      fill: #FFFFFF;\n",
              "    }\n",
              "  </style>\n",
              "\n",
              "    <script>\n",
              "      const buttonEl =\n",
              "        document.querySelector('#df-eedadea7-7746-4c2a-be28-adfcb1ede43c button.colab-df-convert');\n",
              "      buttonEl.style.display =\n",
              "        google.colab.kernel.accessAllowed ? 'block' : 'none';\n",
              "\n",
              "      async function convertToInteractive(key) {\n",
              "        const element = document.querySelector('#df-eedadea7-7746-4c2a-be28-adfcb1ede43c');\n",
              "        const dataTable =\n",
              "          await google.colab.kernel.invokeFunction('convertToInteractive',\n",
              "                                                    [key], {});\n",
              "        if (!dataTable) return;\n",
              "\n",
              "        const docLinkHtml = 'Like what you see? Visit the ' +\n",
              "          '<a target=\"_blank\" href=https://colab.research.google.com/notebooks/data_table.ipynb>data table notebook</a>'\n",
              "          + ' to learn more about interactive tables.';\n",
              "        element.innerHTML = '';\n",
              "        dataTable['output_type'] = 'display_data';\n",
              "        await google.colab.output.renderOutput(dataTable, element);\n",
              "        const docLink = document.createElement('div');\n",
              "        docLink.innerHTML = docLinkHtml;\n",
              "        element.appendChild(docLink);\n",
              "      }\n",
              "    </script>\n",
              "  </div>\n",
              "\n",
              "\n",
              "<div id=\"df-d2b3adbc-88f7-49af-bee2-8be092c214d7\">\n",
              "  <button class=\"colab-df-quickchart\" onclick=\"quickchart('df-d2b3adbc-88f7-49af-bee2-8be092c214d7')\"\n",
              "            title=\"Suggest charts\"\n",
              "            style=\"display:none;\">\n",
              "\n",
              "<svg xmlns=\"http://www.w3.org/2000/svg\" height=\"24px\"viewBox=\"0 0 24 24\"\n",
              "     width=\"24px\">\n",
              "    <g>\n",
              "        <path d=\"M19 3H5c-1.1 0-2 .9-2 2v14c0 1.1.9 2 2 2h14c1.1 0 2-.9 2-2V5c0-1.1-.9-2-2-2zM9 17H7v-7h2v7zm4 0h-2V7h2v10zm4 0h-2v-4h2v4z\"/>\n",
              "    </g>\n",
              "</svg>\n",
              "  </button>\n",
              "\n",
              "<style>\n",
              "  .colab-df-quickchart {\n",
              "      --bg-color: #E8F0FE;\n",
              "      --fill-color: #1967D2;\n",
              "      --hover-bg-color: #E2EBFA;\n",
              "      --hover-fill-color: #174EA6;\n",
              "      --disabled-fill-color: #AAA;\n",
              "      --disabled-bg-color: #DDD;\n",
              "  }\n",
              "\n",
              "  [theme=dark] .colab-df-quickchart {\n",
              "      --bg-color: #3B4455;\n",
              "      --fill-color: #D2E3FC;\n",
              "      --hover-bg-color: #434B5C;\n",
              "      --hover-fill-color: #FFFFFF;\n",
              "      --disabled-bg-color: #3B4455;\n",
              "      --disabled-fill-color: #666;\n",
              "  }\n",
              "\n",
              "  .colab-df-quickchart {\n",
              "    background-color: var(--bg-color);\n",
              "    border: none;\n",
              "    border-radius: 50%;\n",
              "    cursor: pointer;\n",
              "    display: none;\n",
              "    fill: var(--fill-color);\n",
              "    height: 32px;\n",
              "    padding: 0;\n",
              "    width: 32px;\n",
              "  }\n",
              "\n",
              "  .colab-df-quickchart:hover {\n",
              "    background-color: var(--hover-bg-color);\n",
              "    box-shadow: 0 1px 2px rgba(60, 64, 67, 0.3), 0 1px 3px 1px rgba(60, 64, 67, 0.15);\n",
              "    fill: var(--button-hover-fill-color);\n",
              "  }\n",
              "\n",
              "  .colab-df-quickchart-complete:disabled,\n",
              "  .colab-df-quickchart-complete:disabled:hover {\n",
              "    background-color: var(--disabled-bg-color);\n",
              "    fill: var(--disabled-fill-color);\n",
              "    box-shadow: none;\n",
              "  }\n",
              "\n",
              "  .colab-df-spinner {\n",
              "    border: 2px solid var(--fill-color);\n",
              "    border-color: transparent;\n",
              "    border-bottom-color: var(--fill-color);\n",
              "    animation:\n",
              "      spin 1s steps(1) infinite;\n",
              "  }\n",
              "\n",
              "  @keyframes spin {\n",
              "    0% {\n",
              "      border-color: transparent;\n",
              "      border-bottom-color: var(--fill-color);\n",
              "      border-left-color: var(--fill-color);\n",
              "    }\n",
              "    20% {\n",
              "      border-color: transparent;\n",
              "      border-left-color: var(--fill-color);\n",
              "      border-top-color: var(--fill-color);\n",
              "    }\n",
              "    30% {\n",
              "      border-color: transparent;\n",
              "      border-left-color: var(--fill-color);\n",
              "      border-top-color: var(--fill-color);\n",
              "      border-right-color: var(--fill-color);\n",
              "    }\n",
              "    40% {\n",
              "      border-color: transparent;\n",
              "      border-right-color: var(--fill-color);\n",
              "      border-top-color: var(--fill-color);\n",
              "    }\n",
              "    60% {\n",
              "      border-color: transparent;\n",
              "      border-right-color: var(--fill-color);\n",
              "    }\n",
              "    80% {\n",
              "      border-color: transparent;\n",
              "      border-right-color: var(--fill-color);\n",
              "      border-bottom-color: var(--fill-color);\n",
              "    }\n",
              "    90% {\n",
              "      border-color: transparent;\n",
              "      border-bottom-color: var(--fill-color);\n",
              "    }\n",
              "  }\n",
              "</style>\n",
              "\n",
              "  <script>\n",
              "    async function quickchart(key) {\n",
              "      const quickchartButtonEl =\n",
              "        document.querySelector('#' + key + ' button');\n",
              "      quickchartButtonEl.disabled = true;  // To prevent multiple clicks.\n",
              "      quickchartButtonEl.classList.add('colab-df-spinner');\n",
              "      try {\n",
              "        const charts = await google.colab.kernel.invokeFunction(\n",
              "            'suggestCharts', [key], {});\n",
              "      } catch (error) {\n",
              "        console.error('Error during call to suggestCharts:', error);\n",
              "      }\n",
              "      quickchartButtonEl.classList.remove('colab-df-spinner');\n",
              "      quickchartButtonEl.classList.add('colab-df-quickchart-complete');\n",
              "    }\n",
              "    (() => {\n",
              "      let quickchartButtonEl =\n",
              "        document.querySelector('#df-d2b3adbc-88f7-49af-bee2-8be092c214d7 button');\n",
              "      quickchartButtonEl.style.display =\n",
              "        google.colab.kernel.accessAllowed ? 'block' : 'none';\n",
              "    })();\n",
              "  </script>\n",
              "</div>\n",
              "\n",
              "    </div>\n",
              "  </div>\n"
            ],
            "application/vnd.google.colaboratory.intrinsic+json": {
              "type": "dataframe",
              "variable_name": "train",
              "summary": "{\n  \"name\": \"train\",\n  \"rows\": 25000,\n  \"fields\": [\n    {\n      \"column\": \"id\",\n      \"properties\": {\n        \"dtype\": \"string\",\n        \"num_unique_values\": 25000,\n        \"samples\": [\n          \"\\\"2570_3\\\"\",\n          \"\\\"4897_8\\\"\",\n          \"\\\"8485_3\\\"\"\n        ],\n        \"semantic_type\": \"\",\n        \"description\": \"\"\n      }\n    },\n    {\n      \"column\": \"sentiment\",\n      \"properties\": {\n        \"dtype\": \"number\",\n        \"std\": 0,\n        \"min\": 0,\n        \"max\": 1,\n        \"num_unique_values\": 2,\n        \"samples\": [\n          0,\n          1\n        ],\n        \"semantic_type\": \"\",\n        \"description\": \"\"\n      }\n    },\n    {\n      \"column\": \"review\",\n      \"properties\": {\n        \"dtype\": \"string\",\n        \"num_unique_values\": 24904,\n        \"samples\": [\n          \"\\\"This is not my favorite WIP (\\\\\\\"Women in Prison\\\\\\\"), but it is one of the most famous films in the sub-genre. It is was produced by Roger Corman, who at this point had already produced a few WIPs. It is obvious that the film tries to play with the established formula. The movie takes place in an USA prison, not in a \\\\\\\"banana republic\\\\\\\" like most WIP films. I'm not sure if that was a wise move, but it is an acceptable change of pace. Writer-director Demme really gets into his job, always digging for new ways to present a familiar scenario. In fact, he is a little too ambitious for his own good. The filmmaker creates a few surreal dream sequences that are borderline pretentious but it is fun to see how hard he tries to put this film above your average chicks-in-chains flick. But do not worry, Demme still operates within the parameters of the sub-genre. There is plenty of nudity and violence, something that will satisfy hardcore fans. The film is a little slow, but it is very entertaining. The cast is good. Roberta Collins is a WIP veteran, so she does not need an introduction, and Barbara Steel is a hoot as the wheelchair-bound crazy warden. Pam Grier is sorely missed, though.\\\"\",\n          \"\\\"In 1972, after his wife left to go her own way, Elvis Presley began dating Linda Thompson. Miss Thompson, a good-humored, long haired, lovely, statuesque beauty queen, is charted to fill a void in Elvis' life. When Elvis' divorce became final, Linda was already in place as the legendary performer's live-in girlfriend and travel companion until 1976.<br /><br />This is a gaudy look at their love affair and companionship. Linda whole-heartedly tending to her lover's needs and desires. And even putting up with his swallowing medications by the handful and introducing her to her own love affair with valium. At times this movie is harsh and dark of heart; a very unattractive look at the 'King' and his queen.<br /><br />Don Johnson is absolutely awful as Elvis. Over acting to the hilt is not attractive. Stephanie Zimbalist lacks the classiness of Linda, but does the job pretty well. Supporting cast includes: John Crawford, Ruta Lee, and Rick Lenz. Watching this twice is more than enough for me, but don't let this review stop you from checking it out. For most Elvis fans that I have conferred with, this is not a favored presentation.\\\"\"\n        ],\n        \"semantic_type\": \"\",\n        \"description\": \"\"\n      }\n    }\n  ]\n}"
            }
          },
          "metadata": {},
          "execution_count": 5
        }
      ],
      "source": [
        "train.head()"
      ]
    },
    {
      "cell_type": "code",
      "execution_count": 6,
      "metadata": {
        "id": "MpJQn9BCcndl",
        "colab": {
          "base_uri": "https://localhost:8080/"
        },
        "outputId": "d6805c02-305c-4f35-cd76-f7dff1c9689e"
      },
      "outputs": [
        {
          "output_type": "stream",
          "name": "stdout",
          "text": [
            "<class 'pandas.core.frame.DataFrame'>\n",
            "RangeIndex: 25000 entries, 0 to 24999\n",
            "Data columns (total 2 columns):\n",
            " #   Column  Non-Null Count  Dtype \n",
            "---  ------  --------------  ----- \n",
            " 0   id      25000 non-null  object\n",
            " 1   review  25000 non-null  object\n",
            "dtypes: object(2)\n",
            "memory usage: 390.8+ KB\n"
          ]
        }
      ],
      "source": [
        "test.info()"
      ]
    },
    {
      "cell_type": "code",
      "execution_count": 7,
      "metadata": {
        "id": "cx2rvox8dHNa",
        "colab": {
          "base_uri": "https://localhost:8080/",
          "height": 206
        },
        "outputId": "0498dc93-3111-4e1d-a03f-5f28e2853ff0"
      },
      "outputs": [
        {
          "output_type": "execute_result",
          "data": {
            "text/plain": [
              "           id                                             review\n",
              "0  \"12311_10\"  \"Naturally in a film who's main themes are of ...\n",
              "1    \"8348_2\"  \"This movie is a disaster within a disaster fi...\n",
              "2    \"5828_4\"  \"All in all, this is a movie for kids. We saw ...\n",
              "3    \"7186_2\"  \"Afraid of the Dark left me with the impressio...\n",
              "4   \"12128_7\"  \"A very accurate depiction of small time mob l..."
            ],
            "text/html": [
              "\n",
              "  <div id=\"df-2bcfba69-4825-44d9-8261-94f245a2ce11\" class=\"colab-df-container\">\n",
              "    <div>\n",
              "<style scoped>\n",
              "    .dataframe tbody tr th:only-of-type {\n",
              "        vertical-align: middle;\n",
              "    }\n",
              "\n",
              "    .dataframe tbody tr th {\n",
              "        vertical-align: top;\n",
              "    }\n",
              "\n",
              "    .dataframe thead th {\n",
              "        text-align: right;\n",
              "    }\n",
              "</style>\n",
              "<table border=\"1\" class=\"dataframe\">\n",
              "  <thead>\n",
              "    <tr style=\"text-align: right;\">\n",
              "      <th></th>\n",
              "      <th>id</th>\n",
              "      <th>review</th>\n",
              "    </tr>\n",
              "  </thead>\n",
              "  <tbody>\n",
              "    <tr>\n",
              "      <th>0</th>\n",
              "      <td>\"12311_10\"</td>\n",
              "      <td>\"Naturally in a film who's main themes are of ...</td>\n",
              "    </tr>\n",
              "    <tr>\n",
              "      <th>1</th>\n",
              "      <td>\"8348_2\"</td>\n",
              "      <td>\"This movie is a disaster within a disaster fi...</td>\n",
              "    </tr>\n",
              "    <tr>\n",
              "      <th>2</th>\n",
              "      <td>\"5828_4\"</td>\n",
              "      <td>\"All in all, this is a movie for kids. We saw ...</td>\n",
              "    </tr>\n",
              "    <tr>\n",
              "      <th>3</th>\n",
              "      <td>\"7186_2\"</td>\n",
              "      <td>\"Afraid of the Dark left me with the impressio...</td>\n",
              "    </tr>\n",
              "    <tr>\n",
              "      <th>4</th>\n",
              "      <td>\"12128_7\"</td>\n",
              "      <td>\"A very accurate depiction of small time mob l...</td>\n",
              "    </tr>\n",
              "  </tbody>\n",
              "</table>\n",
              "</div>\n",
              "    <div class=\"colab-df-buttons\">\n",
              "\n",
              "  <div class=\"colab-df-container\">\n",
              "    <button class=\"colab-df-convert\" onclick=\"convertToInteractive('df-2bcfba69-4825-44d9-8261-94f245a2ce11')\"\n",
              "            title=\"Convert this dataframe to an interactive table.\"\n",
              "            style=\"display:none;\">\n",
              "\n",
              "  <svg xmlns=\"http://www.w3.org/2000/svg\" height=\"24px\" viewBox=\"0 -960 960 960\">\n",
              "    <path d=\"M120-120v-720h720v720H120Zm60-500h600v-160H180v160Zm220 220h160v-160H400v160Zm0 220h160v-160H400v160ZM180-400h160v-160H180v160Zm440 0h160v-160H620v160ZM180-180h160v-160H180v160Zm440 0h160v-160H620v160Z\"/>\n",
              "  </svg>\n",
              "    </button>\n",
              "\n",
              "  <style>\n",
              "    .colab-df-container {\n",
              "      display:flex;\n",
              "      gap: 12px;\n",
              "    }\n",
              "\n",
              "    .colab-df-convert {\n",
              "      background-color: #E8F0FE;\n",
              "      border: none;\n",
              "      border-radius: 50%;\n",
              "      cursor: pointer;\n",
              "      display: none;\n",
              "      fill: #1967D2;\n",
              "      height: 32px;\n",
              "      padding: 0 0 0 0;\n",
              "      width: 32px;\n",
              "    }\n",
              "\n",
              "    .colab-df-convert:hover {\n",
              "      background-color: #E2EBFA;\n",
              "      box-shadow: 0px 1px 2px rgba(60, 64, 67, 0.3), 0px 1px 3px 1px rgba(60, 64, 67, 0.15);\n",
              "      fill: #174EA6;\n",
              "    }\n",
              "\n",
              "    .colab-df-buttons div {\n",
              "      margin-bottom: 4px;\n",
              "    }\n",
              "\n",
              "    [theme=dark] .colab-df-convert {\n",
              "      background-color: #3B4455;\n",
              "      fill: #D2E3FC;\n",
              "    }\n",
              "\n",
              "    [theme=dark] .colab-df-convert:hover {\n",
              "      background-color: #434B5C;\n",
              "      box-shadow: 0px 1px 3px 1px rgba(0, 0, 0, 0.15);\n",
              "      filter: drop-shadow(0px 1px 2px rgba(0, 0, 0, 0.3));\n",
              "      fill: #FFFFFF;\n",
              "    }\n",
              "  </style>\n",
              "\n",
              "    <script>\n",
              "      const buttonEl =\n",
              "        document.querySelector('#df-2bcfba69-4825-44d9-8261-94f245a2ce11 button.colab-df-convert');\n",
              "      buttonEl.style.display =\n",
              "        google.colab.kernel.accessAllowed ? 'block' : 'none';\n",
              "\n",
              "      async function convertToInteractive(key) {\n",
              "        const element = document.querySelector('#df-2bcfba69-4825-44d9-8261-94f245a2ce11');\n",
              "        const dataTable =\n",
              "          await google.colab.kernel.invokeFunction('convertToInteractive',\n",
              "                                                    [key], {});\n",
              "        if (!dataTable) return;\n",
              "\n",
              "        const docLinkHtml = 'Like what you see? Visit the ' +\n",
              "          '<a target=\"_blank\" href=https://colab.research.google.com/notebooks/data_table.ipynb>data table notebook</a>'\n",
              "          + ' to learn more about interactive tables.';\n",
              "        element.innerHTML = '';\n",
              "        dataTable['output_type'] = 'display_data';\n",
              "        await google.colab.output.renderOutput(dataTable, element);\n",
              "        const docLink = document.createElement('div');\n",
              "        docLink.innerHTML = docLinkHtml;\n",
              "        element.appendChild(docLink);\n",
              "      }\n",
              "    </script>\n",
              "  </div>\n",
              "\n",
              "\n",
              "<div id=\"df-ede32fd7-dae9-46c7-baa1-d2fff5ea03e1\">\n",
              "  <button class=\"colab-df-quickchart\" onclick=\"quickchart('df-ede32fd7-dae9-46c7-baa1-d2fff5ea03e1')\"\n",
              "            title=\"Suggest charts\"\n",
              "            style=\"display:none;\">\n",
              "\n",
              "<svg xmlns=\"http://www.w3.org/2000/svg\" height=\"24px\"viewBox=\"0 0 24 24\"\n",
              "     width=\"24px\">\n",
              "    <g>\n",
              "        <path d=\"M19 3H5c-1.1 0-2 .9-2 2v14c0 1.1.9 2 2 2h14c1.1 0 2-.9 2-2V5c0-1.1-.9-2-2-2zM9 17H7v-7h2v7zm4 0h-2V7h2v10zm4 0h-2v-4h2v4z\"/>\n",
              "    </g>\n",
              "</svg>\n",
              "  </button>\n",
              "\n",
              "<style>\n",
              "  .colab-df-quickchart {\n",
              "      --bg-color: #E8F0FE;\n",
              "      --fill-color: #1967D2;\n",
              "      --hover-bg-color: #E2EBFA;\n",
              "      --hover-fill-color: #174EA6;\n",
              "      --disabled-fill-color: #AAA;\n",
              "      --disabled-bg-color: #DDD;\n",
              "  }\n",
              "\n",
              "  [theme=dark] .colab-df-quickchart {\n",
              "      --bg-color: #3B4455;\n",
              "      --fill-color: #D2E3FC;\n",
              "      --hover-bg-color: #434B5C;\n",
              "      --hover-fill-color: #FFFFFF;\n",
              "      --disabled-bg-color: #3B4455;\n",
              "      --disabled-fill-color: #666;\n",
              "  }\n",
              "\n",
              "  .colab-df-quickchart {\n",
              "    background-color: var(--bg-color);\n",
              "    border: none;\n",
              "    border-radius: 50%;\n",
              "    cursor: pointer;\n",
              "    display: none;\n",
              "    fill: var(--fill-color);\n",
              "    height: 32px;\n",
              "    padding: 0;\n",
              "    width: 32px;\n",
              "  }\n",
              "\n",
              "  .colab-df-quickchart:hover {\n",
              "    background-color: var(--hover-bg-color);\n",
              "    box-shadow: 0 1px 2px rgba(60, 64, 67, 0.3), 0 1px 3px 1px rgba(60, 64, 67, 0.15);\n",
              "    fill: var(--button-hover-fill-color);\n",
              "  }\n",
              "\n",
              "  .colab-df-quickchart-complete:disabled,\n",
              "  .colab-df-quickchart-complete:disabled:hover {\n",
              "    background-color: var(--disabled-bg-color);\n",
              "    fill: var(--disabled-fill-color);\n",
              "    box-shadow: none;\n",
              "  }\n",
              "\n",
              "  .colab-df-spinner {\n",
              "    border: 2px solid var(--fill-color);\n",
              "    border-color: transparent;\n",
              "    border-bottom-color: var(--fill-color);\n",
              "    animation:\n",
              "      spin 1s steps(1) infinite;\n",
              "  }\n",
              "\n",
              "  @keyframes spin {\n",
              "    0% {\n",
              "      border-color: transparent;\n",
              "      border-bottom-color: var(--fill-color);\n",
              "      border-left-color: var(--fill-color);\n",
              "    }\n",
              "    20% {\n",
              "      border-color: transparent;\n",
              "      border-left-color: var(--fill-color);\n",
              "      border-top-color: var(--fill-color);\n",
              "    }\n",
              "    30% {\n",
              "      border-color: transparent;\n",
              "      border-left-color: var(--fill-color);\n",
              "      border-top-color: var(--fill-color);\n",
              "      border-right-color: var(--fill-color);\n",
              "    }\n",
              "    40% {\n",
              "      border-color: transparent;\n",
              "      border-right-color: var(--fill-color);\n",
              "      border-top-color: var(--fill-color);\n",
              "    }\n",
              "    60% {\n",
              "      border-color: transparent;\n",
              "      border-right-color: var(--fill-color);\n",
              "    }\n",
              "    80% {\n",
              "      border-color: transparent;\n",
              "      border-right-color: var(--fill-color);\n",
              "      border-bottom-color: var(--fill-color);\n",
              "    }\n",
              "    90% {\n",
              "      border-color: transparent;\n",
              "      border-bottom-color: var(--fill-color);\n",
              "    }\n",
              "  }\n",
              "</style>\n",
              "\n",
              "  <script>\n",
              "    async function quickchart(key) {\n",
              "      const quickchartButtonEl =\n",
              "        document.querySelector('#' + key + ' button');\n",
              "      quickchartButtonEl.disabled = true;  // To prevent multiple clicks.\n",
              "      quickchartButtonEl.classList.add('colab-df-spinner');\n",
              "      try {\n",
              "        const charts = await google.colab.kernel.invokeFunction(\n",
              "            'suggestCharts', [key], {});\n",
              "      } catch (error) {\n",
              "        console.error('Error during call to suggestCharts:', error);\n",
              "      }\n",
              "      quickchartButtonEl.classList.remove('colab-df-spinner');\n",
              "      quickchartButtonEl.classList.add('colab-df-quickchart-complete');\n",
              "    }\n",
              "    (() => {\n",
              "      let quickchartButtonEl =\n",
              "        document.querySelector('#df-ede32fd7-dae9-46c7-baa1-d2fff5ea03e1 button');\n",
              "      quickchartButtonEl.style.display =\n",
              "        google.colab.kernel.accessAllowed ? 'block' : 'none';\n",
              "    })();\n",
              "  </script>\n",
              "</div>\n",
              "\n",
              "    </div>\n",
              "  </div>\n"
            ],
            "application/vnd.google.colaboratory.intrinsic+json": {
              "type": "dataframe",
              "variable_name": "test",
              "summary": "{\n  \"name\": \"test\",\n  \"rows\": 25000,\n  \"fields\": [\n    {\n      \"column\": \"id\",\n      \"properties\": {\n        \"dtype\": \"string\",\n        \"num_unique_values\": 25000,\n        \"samples\": [\n          \"\\\"10610_7\\\"\",\n          \"\\\"10557_8\\\"\",\n          \"\\\"3118_9\\\"\"\n        ],\n        \"semantic_type\": \"\",\n        \"description\": \"\"\n      }\n    },\n    {\n      \"column\": \"review\",\n      \"properties\": {\n        \"dtype\": \"string\",\n        \"num_unique_values\": 24801,\n        \"samples\": [\n          \"\\\"(Spoilers more than likely... nothing really important you couldn't have figured out yourselves) Yeah, it's really weird. I rented it at a Blockbuster for the reason it had absolutely NO description of the movie on the back of the box, only a list of the bands that had songs in it. But after that, I had a dikens of a time finding it, even here on IMDB. I kept confusing it with \\\\\\\"Night of the Demons,\\\\\\\" but, you know, they're basically the same thing. <br /><br />The parts I loved most about this movie was the whole thing in the garage. That black gym guy was hilarious the way he screamed ALL the time. Even when screaming wasn't really necessary, he'd let out a \\\\\\\"LISTEN UP NOW!! BLOCK THE DOOR WITH CARS!!!!\\\\\\\" and so, they'd run cars head on into other cars. But, then he got balls and shafted by a zombie with a broom stick I believe it was. The other part that kinda caught my attention was the part with the crash outside the building with the guys that they girl didn't want to come over... To what significant aspect of the movie did that give us? What was it? Why was it there? Why did the movie end with a guy breaking the TV's in a studio? I saw that there was a zombie running towards the screen, but he was kinda far away. I mean, he could have just turned the TV off. Yes, this movie was shot on a whim and yes, I hated it. Good day...\\\"\",\n          \"\\\"\\\\\\\"Classe tous risques\\\\\\\" feels like the granddaddy of \\\\\\\"The Sopranos\\\\\\\" in mixing the criminal and the domestic, and of the buddy film to feel as contemporary as \\\\\\\"Reservoir Dogs.\\\\\\\"<br /><br />Even as these gangsters are affectionately entangled with wives, children, lovers and parents, they are coldly ruthless, and we are constantly reminded they are, no matter what warm situation we also see them in. They can tousle a kid's hair - and then shoot a threat in cold blood. The key is loyalty, and the male camaraderie is beautifully conveyed, without ethnic or class stereotypes, even as their web of past obligations and pay backs narrows into suspicion and paranoia, as the old gang is in various stages of parole, retirement, out on bail or into new, less profitable ventures. An intense accusation is of sending a stranger to perform an old escape scenario. It is a high point of emotion when a wife is told off that she's not the one the gangster is friends with, while virtually the only time we hear music on the soundtrack is when he recalls his wife.<br /><br />Streetscapes in Italy and France are marvelously used, in blinding daylight to dark water and highways, from the opening set up of a pair of brazen robbers -- who are traveling with one's wife and two kids. Rugged, craggy Lino Ventura captures the screen immediately as the criminal dad. And the second thug is clearly a casually avuncular presence in their lives, as they smoothly coordinate the theft and escape, in cars, buses, on boats and motorcycles, in easy tandem. This is not the clich\\u00e9 crusty old guy softened with the big-eyed orphan; these are their jobs and their families and they intersect in horrific ways.<br /><br />The film pulls no punches in unexpectedly killing off characters, directly and as collateral damage, and challenging our sympathy for them, right through to the unsentimental end, which is probably why there was never an American remake. <br /><br />It seems so fresh that it's not until Jean-Paul Belmondo enters almost a third of the way into the film, looking so insouciant as a young punk, that one realizes that this is from 1960. Sultry Sandra Milo has smart and terrific chemistry with him, from an ambulance to an elevator to a hospital bed.<br /><br />While the Film Forum was showing a new 35 mm print with newly translated subtitles, it was not pristine. The program notes explained that the title refers to a kind of insurance policy and is pun on \\\\\\\"tourist class.\\\\\\\"\\\"\",\n          \"\\\"*Warning: 1 tiny inconsequential spoiler* You're right. This was no Bridges of Madison County. As soon as the lonely woman and Richard Gere checked into the big empty hotel, it was a foregone conclusion something kind of fun would happen. The question is: how will it come about? The answer is some stupid connect-the-dots story not worth sitting through. In one supposed bonding experience, they get drunk and clean out the cupboard of old cans.(That was my spoiler.) And the next day they put them back. LOL It wasn't compelling AT ALL. I'm an old married lady like the one in the movie and MY friendships are more interesting than HER romance with Richard Gere. LOL . . . It did have that advantage. You walk away and go, oh brother . . . even I could have written something more believable than that. I guess my life isn't quite as dull as I thought it was if I can scoff at a romance with Richard Gere. LOL! And that friend inherited that totally contemporary, probably computer-generated mansion, resting half in the ocean, from her GRANDMOTHER who built it AFTER THE CIVIL WAR??? Maybe her grandmother is Oprah and this was WAY after the Civil War? And yes, WHERE WAS THE EMAIL? What alternative universe do these people live in? I never want to see another movie that pretends we don't have email, and facebook,and texting. And OK, maybe these people have a horrible aversion to delivering news over the phone, but don't ask me to believe anyone in this age of instant communication that someone just drops into your life without calling first.\\\"\"\n        ],\n        \"semantic_type\": \"\",\n        \"description\": \"\"\n      }\n    }\n  ]\n}"
            }
          },
          "metadata": {},
          "execution_count": 7
        }
      ],
      "source": [
        "test.head()"
      ]
    },
    {
      "cell_type": "markdown",
      "metadata": {
        "id": "QpNrm1q0d-tj"
      },
      "source": [
        "긍정, 부정 label은 각각 12,500개로 동일하다는 것을 알 수 있습니다."
      ]
    },
    {
      "cell_type": "code",
      "execution_count": 8,
      "metadata": {
        "id": "G0lrO8hqd6jm",
        "colab": {
          "base_uri": "https://localhost:8080/",
          "height": 178
        },
        "outputId": "19b9feb7-fdb4-405b-eb4a-d71cea7b1117"
      },
      "outputs": [
        {
          "output_type": "execute_result",
          "data": {
            "text/plain": [
              "sentiment\n",
              "1    12500\n",
              "0    12500\n",
              "Name: count, dtype: int64"
            ],
            "text/html": [
              "<div>\n",
              "<style scoped>\n",
              "    .dataframe tbody tr th:only-of-type {\n",
              "        vertical-align: middle;\n",
              "    }\n",
              "\n",
              "    .dataframe tbody tr th {\n",
              "        vertical-align: top;\n",
              "    }\n",
              "\n",
              "    .dataframe thead th {\n",
              "        text-align: right;\n",
              "    }\n",
              "</style>\n",
              "<table border=\"1\" class=\"dataframe\">\n",
              "  <thead>\n",
              "    <tr style=\"text-align: right;\">\n",
              "      <th></th>\n",
              "      <th>count</th>\n",
              "    </tr>\n",
              "    <tr>\n",
              "      <th>sentiment</th>\n",
              "      <th></th>\n",
              "    </tr>\n",
              "  </thead>\n",
              "  <tbody>\n",
              "    <tr>\n",
              "      <th>1</th>\n",
              "      <td>12500</td>\n",
              "    </tr>\n",
              "    <tr>\n",
              "      <th>0</th>\n",
              "      <td>12500</td>\n",
              "    </tr>\n",
              "  </tbody>\n",
              "</table>\n",
              "</div><br><label><b>dtype:</b> int64</label>"
            ]
          },
          "metadata": {},
          "execution_count": 8
        }
      ],
      "source": [
        "train['sentiment'].value_counts()"
      ]
    },
    {
      "cell_type": "markdown",
      "metadata": {
        "id": "6yE8JhkfmRnx"
      },
      "source": [
        "# 4. Text Preprocessing"
      ]
    },
    {
      "cell_type": "markdown",
      "metadata": {
        "id": "nJC79JF7mcvF"
      },
      "source": [
        "## 4-1. html 태그 제거\n",
        "첫번째 review를 보면 특이점이 있습니다. 바로 `<br>`이라는 html 줄바꿈 태그가 보인다는 점입니다. 첫번째 review뿐만 아니라 다른 review들에도 이러한 태그가 존재할 가능성이 있습니다. 따라서 `BeautifulSoup`를 이용하여 분석에 방해가 되는 태그들은 지워주도록 합시다."
      ]
    },
    {
      "cell_type": "code",
      "execution_count": 9,
      "metadata": {
        "id": "lLjWY6fwkLrE",
        "colab": {
          "base_uri": "https://localhost:8080/",
          "height": 143
        },
        "outputId": "bef8679a-c85d-4457-b435-bae6fdbfb7a8"
      },
      "outputs": [
        {
          "output_type": "execute_result",
          "data": {
            "text/plain": [
              "'\"With all this stuff going down at the moment with MJ i\\'ve started listening to his music, watching the odd documentary here and there, watched The Wiz and watched Moonwalker again. Maybe i just want to get a certain insight into this guy who i thought was really cool in the eighties just to maybe make up my mind whether he is guilty or innocent. Moonwalker is part biography, part feature film which i remember going to see at the cinema when it was originally released. Some of it has subtle messages about MJ\\'s feeling towards the press and also the obvious message of drugs are bad m\\'kay.<br /><br />Visually impressive but of course this is all about Michael Jackson so unless you remotely like MJ in anyway then you are going to hate this and find it boring. Some may call MJ an egotist for consenting to the making of this movie BUT MJ and most of his fans would say that he made it for the fans which if true is really nice of him.<br /><br />The actual feature film bit when it finally starts is only on for 20 minutes or so excluding the Smooth Criminal sequence and Joe Pesci is convincing as a psychopathic all powerful drug lord. Why he wants MJ dead so bad is beyond me. Because MJ overheard his plans? Nah, Joe Pesci\\'s character ranted that he wanted people to know it is he who is supplying drugs etc so i dunno, maybe he just hates MJ\\'s music.<br /><br />Lots of cool things in this like MJ turning into a car and a robot and the whole Speed Demon sequence. Also, the director must have had the patience of a saint when it came to filming the kiddy Bad sequence as usually directors hate working with one kid let alone a whole bunch of them performing a complex dance scene.<br /><br />Bottom line, this movie is for people who like MJ on one level or another (which i think is most people). If not, then stay away. It does try and give off a wholesome message and ironically MJ\\'s bestest buddy in this movie is a girl! Michael Jackson is truly one of the most talented people ever to grace this planet but is he guilty? Well, with all the attention i\\'ve gave this subject....hmmm well i don\\'t know because people can be different behind closed doors, i know this for a fact. He is either an extremely nice but stupid guy or one of the most sickest liars. I hope he is not the latter.\"'"
            ],
            "application/vnd.google.colaboratory.intrinsic+json": {
              "type": "string"
            }
          },
          "metadata": {},
          "execution_count": 9
        }
      ],
      "source": [
        "train[\"review\"][0]"
      ]
    },
    {
      "cell_type": "code",
      "execution_count": 11,
      "metadata": {
        "id": "B3a1O8DqmuKY"
      },
      "outputs": [],
      "source": [
        "# HTML, XML 같은 문서 구조를 파싱하고 조작할 수 있도록 해주는 라이브러리\n",
        "# BeautifulSoup은 웹 스크래핑(web scraping)이나 데이터 정리 작업에서 주로 사용\n",
        "from bs4 import BeautifulSoup"
      ]
    },
    {
      "cell_type": "markdown",
      "metadata": {
        "id": "XZNH8Hz4oL0Y"
      },
      "source": [
        "위 리뷰를 soup 객체로 바꿔주면, html 태그를 제외하고 text만 온전히 추출하는 작업이 가능합니다. 이 기능을 해주는 것이 `get_text()`입니다. 첫번째 리뷰를 하나의 예시로 들어봅시다. 윗문장이 제거 전, 아래문장이 제거 후입니다.\n"
      ]
    },
    {
      "cell_type": "code",
      "execution_count": 13,
      "metadata": {
        "id": "rVCCMUyan9-j",
        "colab": {
          "base_uri": "https://localhost:8080/"
        },
        "outputId": "6b11bd43-cedc-4772-c227-2da60fa2b290"
      },
      "outputs": [
        {
          "output_type": "stream",
          "name": "stdout",
          "text": [
            "before deleting: \"With all this stuff going down at the moment with MJ i've started listening to his music, watching the odd documentary here and there, watched The Wiz and watched Moonwalker again. Maybe i just want to get a certain insight into this guy who i thought was really cool in the eighties just to maybe make up my mind whether he is guilty or innocent. Moonwalker is part biography, part feature film which i remember going to see at the cinema when it was originally released. Some of it has subtle messages about MJ's feeling towards the press and also the obvious message of drugs are bad m'kay.<br /><br />Visually impressive but of course this is all about Michael Jackson so unless you remotely like MJ in anyway then you are going to hate this and find it boring. Some may call MJ an egotist for consenting to the making of this movie BUT MJ and most of his fans would say that he made it for the fans which if true is really nice of him.<br /><br />The actual feature film bit when it finally starts is only on for 20 minutes or so excluding the Smooth Criminal sequence and Joe Pesci is convincing as a psychopathic all powerful drug lord. Why he wants MJ dead so bad is beyond me. Because MJ overheard his plans? Nah, Joe Pesci's character ranted that he wanted people to know it is he who is supplying drugs etc so i dunno, maybe he just hates MJ's music.<br /><br />Lots of cool things in this like MJ turning into a car and a robot and the whole Speed Demon sequence. Also, the director must have had the patience of a saint when it came to filming the kiddy Bad sequence as usually directors hate working with one kid let alone a whole bunch of them performing a complex dance scene.<br /><br />Bottom line, this movie is for people who like MJ on one level or another (which i think is most people). If not, then stay away. It does try and give off a wholesome message and ironically MJ's bestest buddy in this movie is a girl! Michael Jackson is truly one of the most talented people ever to grace this planet but is he guilty? Well, with all the attention i've gave this subject....hmmm well i don't know because people can be different behind closed doors, i know this for a fact. He is either an extremely nice but stupid guy or one of the most sickest liars. I hope he is not the latter.\"\n",
            "after deleting: \"With all this stuff going down at the moment with MJ i've started listening to his music, watching the odd documentary here and there, watched The Wiz and watched Moonwalker again. Maybe i just want to get a certain insight into this guy who i thought was really cool in the eighties just to maybe make up my mind whether he is guilty or innocent. Moonwalker is part biography, part feature film which i remember going to see at the cinema when it was originally released. Some of it has subtle messages about MJ's feeling towards the press and also the obvious message of drugs are bad m'kay.Visually impressive but of course this is all about Michael Jackson so unless you remotely like MJ in anyway then you are going to hate this and find it boring. Some may call MJ an egotist for consenting to the making of this movie BUT MJ and most of his fans would say that he made it for the fans which if true is really nice of him.The actual feature film bit when it finally starts is only on for 20 minutes or so excluding the Smooth Criminal sequence and Joe Pesci is convincing as a psychopathic all powerful drug lord. Why he wants MJ dead so bad is beyond me. Because MJ overheard his plans? Nah, Joe Pesci's character ranted that he wanted people to know it is he who is supplying drugs etc so i dunno, maybe he just hates MJ's music.Lots of cool things in this like MJ turning into a car and a robot and the whole Speed Demon sequence. Also, the director must have had the patience of a saint when it came to filming the kiddy Bad sequence as usually directors hate working with one kid let alone a whole bunch of them performing a complex dance scene.Bottom line, this movie is for people who like MJ on one level or another (which i think is most people). If not, then stay away. It does try and give off a wholesome message and ironically MJ's bestest buddy in this movie is a girl! Michael Jackson is truly one of the most talented people ever to grace this planet but is he guilty? Well, with all the attention i've gave this subject....hmmm well i don't know because people can be different behind closed doors, i know this for a fact. He is either an extremely nice but stupid guy or one of the most sickest liars. I hope he is not the latter.\"\n"
          ]
        }
      ],
      "source": [
        "# BeautifulSoup(train[\"review\"][0]): 가져온 HTML 문자열을 BeautifulSoup 객체로 변환\n",
        "example1 = BeautifulSoup(train[\"review\"][0])\n",
        "\n",
        "# .get_text(): BeautifulSoup 객체에서 HTML 태그를 제거하고 순수한 텍스트만 반환\n",
        "example1 = example1.get_text()\n",
        "\n",
        "print(\"before deleting:\", train['review'][0])\n",
        "print(\"after deleting:\", example1)"
      ]
    },
    {
      "cell_type": "markdown",
      "metadata": {
        "id": "yla2iSdpp90f"
      },
      "source": [
        "## 4-2. 정규표현식(re)으로 알파벳만 남기기\n",
        "\n",
        "html 태그는 제거했지만, 각종 특수문자가 아직도 남아있습니다. 이는 분석에 불필요한 정보입니다. 알파벳만 남기고 싶다면 정규표현식(regular expression)을 사용하면 됩니다.\n",
        "\n",
        "'알파벳이 아닌 것'을 '공백'으로 대체하면 될 것입니다. 이러한 기능을 가진 함수는 `re.sub(대체할 패턴, 대체 이후, 대체할 범위)`입니다.\n"
      ]
    },
    {
      "cell_type": "markdown",
      "metadata": {
        "id": "vx8JafBlnO0V"
      },
      "source": [
        "### **Q1) 아래 letters_only를 통해 example1에서 알파벳을 제외한 나머지 글자를 알파벳만 남길수 있도록 공백으로 대체하세요**"
      ]
    },
    {
      "cell_type": "code",
      "execution_count": 14,
      "metadata": {
        "id": "7E8ESp11rTQq"
      },
      "outputs": [],
      "source": [
        "import re\n",
        "'''\n",
        "문제 1: 아래 letters_only를 통해 example1에서 알파벳을 제외한 나머지 글자를 알파벳만 남길수 있도록 공백으로 대체하세요.\n",
        "'''\n",
        "# 알파벳이 아닌 모든 문자를 공백으로 대체\n",
        "letters_only = re.sub('[^a-zA-Z]', ' ', example1) # '<Fill in this code>' ## 코드 채우기 문제입니다."
      ]
    },
    {
      "cell_type": "code",
      "execution_count": 15,
      "metadata": {
        "id": "6wzM3VELMrHF",
        "colab": {
          "base_uri": "https://localhost:8080/",
          "height": 143
        },
        "outputId": "c76c43a1-8cb7-4fe6-adb3-4921cf4ce7a0"
      },
      "outputs": [
        {
          "output_type": "execute_result",
          "data": {
            "text/plain": [
              "'\"With all this stuff going down at the moment with MJ i\\'ve started listening to his music, watching the odd documentary here and there, watched The Wiz and watched Moonwalker again. Maybe i just want to get a certain insight into this guy who i thought was really cool in the eighties just to maybe make up my mind whether he is guilty or innocent. Moonwalker is part biography, part feature film which i remember going to see at the cinema when it was originally released. Some of it has subtle messages about MJ\\'s feeling towards the press and also the obvious message of drugs are bad m\\'kay.<br /><br />Visually impressive but of course this is all about Michael Jackson so unless you remotely like MJ in anyway then you are going to hate this and find it boring. Some may call MJ an egotist for consenting to the making of this movie BUT MJ and most of his fans would say that he made it for the fans which if true is really nice of him.<br /><br />The actual feature film bit when it finally starts is only on for 20 minutes or so excluding the Smooth Criminal sequence and Joe Pesci is convincing as a psychopathic all powerful drug lord. Why he wants MJ dead so bad is beyond me. Because MJ overheard his plans? Nah, Joe Pesci\\'s character ranted that he wanted people to know it is he who is supplying drugs etc so i dunno, maybe he just hates MJ\\'s music.<br /><br />Lots of cool things in this like MJ turning into a car and a robot and the whole Speed Demon sequence. Also, the director must have had the patience of a saint when it came to filming the kiddy Bad sequence as usually directors hate working with one kid let alone a whole bunch of them performing a complex dance scene.<br /><br />Bottom line, this movie is for people who like MJ on one level or another (which i think is most people). If not, then stay away. It does try and give off a wholesome message and ironically MJ\\'s bestest buddy in this movie is a girl! Michael Jackson is truly one of the most talented people ever to grace this planet but is he guilty? Well, with all the attention i\\'ve gave this subject....hmmm well i don\\'t know because people can be different behind closed doors, i know this for a fact. He is either an extremely nice but stupid guy or one of the most sickest liars. I hope he is not the latter.\"'"
            ],
            "application/vnd.google.colaboratory.intrinsic+json": {
              "type": "string"
            }
          },
          "metadata": {},
          "execution_count": 15
        }
      ],
      "source": [
        "train['review'][0]"
      ]
    },
    {
      "cell_type": "code",
      "execution_count": 16,
      "metadata": {
        "id": "6ASeh-cdwfFd",
        "colab": {
          "base_uri": "https://localhost:8080/",
          "height": 143
        },
        "outputId": "76f79160-ea46-442d-f606-2066671619c9"
      },
      "outputs": [
        {
          "output_type": "execute_result",
          "data": {
            "text/plain": [
              "' With all this stuff going down at the moment with MJ i ve started listening to his music  watching the odd documentary here and there  watched The Wiz and watched Moonwalker again  Maybe i just want to get a certain insight into this guy who i thought was really cool in the eighties just to maybe make up my mind whether he is guilty or innocent  Moonwalker is part biography  part feature film which i remember going to see at the cinema when it was originally released  Some of it has subtle messages about MJ s feeling towards the press and also the obvious message of drugs are bad m kay Visually impressive but of course this is all about Michael Jackson so unless you remotely like MJ in anyway then you are going to hate this and find it boring  Some may call MJ an egotist for consenting to the making of this movie BUT MJ and most of his fans would say that he made it for the fans which if true is really nice of him The actual feature film bit when it finally starts is only on for    minutes or so excluding the Smooth Criminal sequence and Joe Pesci is convincing as a psychopathic all powerful drug lord  Why he wants MJ dead so bad is beyond me  Because MJ overheard his plans  Nah  Joe Pesci s character ranted that he wanted people to know it is he who is supplying drugs etc so i dunno  maybe he just hates MJ s music Lots of cool things in this like MJ turning into a car and a robot and the whole Speed Demon sequence  Also  the director must have had the patience of a saint when it came to filming the kiddy Bad sequence as usually directors hate working with one kid let alone a whole bunch of them performing a complex dance scene Bottom line  this movie is for people who like MJ on one level or another  which i think is most people   If not  then stay away  It does try and give off a wholesome message and ironically MJ s bestest buddy in this movie is a girl  Michael Jackson is truly one of the most talented people ever to grace this planet but is he guilty  Well  with all the attention i ve gave this subject    hmmm well i don t know because people can be different behind closed doors  i know this for a fact  He is either an extremely nice but stupid guy or one of the most sickest liars  I hope he is not the latter  '"
            ],
            "application/vnd.google.colaboratory.intrinsic+json": {
              "type": "string"
            }
          },
          "metadata": {},
          "execution_count": 16
        }
      ],
      "source": [
        "letters_only"
      ]
    },
    {
      "cell_type": "markdown",
      "metadata": {
        "id": "t-4ko6icut8K"
      },
      "source": [
        "## 4-3. 토큰화(Tokenizing)\n",
        "\n",
        "토큰(token)은 의미를 갖는 최소 분석 단위입니다. **토큰화(tokenizing)** 는 corpus 덩어리를 작은 토큰 단위로 쪼개어주는 작업입니다. 영어에서는 대체로 띄어쓰기를 기준으로 토큰화를 합니다.\n",
        "\n",
        "즉 아래처럼 `split()` 함수를 써주기만 하면 띄어쓰기(단어) 단위로 토큰화가 진행될 것입니다. 아래 예시를 통해 하나의 문장에서 437개의 단어로 토큰화된 것을 확인할 수 있습니다.\n",
        "\n",
        "`lower_case` 함수로 소문자로 변환하는 이유는 무엇일까요? 대문자와 소문자는 다른 단어로 구분되기에 이를 그대로 두면 복잡성을 야기할 수 있습니다. 따라서 단어집합 크기를 최대한 줄이기 위해 대소문자를 통합하는 것입니다.\n",
        "\n",
        "물론 무작정 소문자로 통합하는 것도 지양해야하는 것이, 미국을 뜻하는 US와 우리를 뜻하는 us는 엄밀히 다르기 때문입니다."
      ]
    },
    {
      "cell_type": "code",
      "execution_count": 17,
      "metadata": {
        "id": "t5t8blL9vYjK",
        "colab": {
          "base_uri": "https://localhost:8080/"
        },
        "outputId": "c1ca12a5-cb5d-4977-a9b2-4299d527cf8d"
      },
      "outputs": [
        {
          "output_type": "stream",
          "name": "stdout",
          "text": [
            "토큰화 이후 생성된 토큰(단어) 개수:  437\n"
          ]
        }
      ],
      "source": [
        "# .lower(): 문자열의 모든 문자를 소문자로 변환\n",
        "# .split(): 공백(기본값)을 기준으로 문자열을 나누어 리스트 형태로 반환\n",
        "lower_case = letters_only.lower()\n",
        "token_words = lower_case.split()\n",
        "print(\"토큰화 이후 생성된 토큰(단어) 개수: \",len(token_words))"
      ]
    },
    {
      "cell_type": "markdown",
      "metadata": {
        "id": "ka2YcU-jxjmM"
      },
      "source": [
        "참고) nltk와 케라스에서 토큰화를 수행해주는 도구들을 제공합니다. 이 도구들은 아포스트로피가 들어간 단어들을 지혜롭게 토큰화해줍니다. 본 과제에서는 앞서 정규표현식으로 아포스트로피를 모두 제거했기에 굳이 아래 도구들을 사용하지 않고 `split()`로만 토큰화를 수행했습니다."
      ]
    },
    {
      "cell_type": "code",
      "execution_count": null,
      "metadata": {
        "id": "IUehvA5owQjT"
      },
      "outputs": [],
      "source": [
        "# from nltk.tokenize import word_tokenize\n",
        "# word_tokenize(lower_case)\n",
        "# from nltk.tokenize import WordPunctTokenizer\n",
        "# WordPunctTokenizer().tokenize(lower_case)\n",
        "# from tensorflow.keras.preprocessing.text import text_to_word_sequence\n",
        "# text_to_word_sequence(lower_case)"
      ]
    },
    {
      "cell_type": "markdown",
      "metadata": {
        "id": "ehpETGMay9Ih"
      },
      "source": [
        "## 4-4. 불용어(Stopword) 제거\n",
        "\n",
        "단어를 기준으로 토큰화를 완료했습니다. 이제 이 단어들 중에서 무의미한 것들을 제거하는 작업이 필요합니다. 예컨대 I, we, you, our 등 굉장히 자주 등장하지만 분석에서 크게 중요하지 않은 단어들을 무의미한 단어로 볼 수 있습니다.\n",
        "\n",
        "이처럼 무의미한 단어들을 **불용어(Stopword)** 라고 부릅니다.\n",
        "\n",
        "`nltk`에서는 영어의 불용어들을 제공해줍니다. 내장된 불용어의 개수는 179개입니다. 예시 리뷰에서 이 불용어들을 제거해주고 나니 437개였던 토큰이 219개로 확 줄어들었습니다."
      ]
    },
    {
      "cell_type": "code",
      "execution_count": 19,
      "metadata": {
        "id": "Hl8DY4Bvy8Y4",
        "colab": {
          "base_uri": "https://localhost:8080/"
        },
        "outputId": "c5128f15-3306-4878-e33d-c90c0b9cac0b"
      },
      "outputs": [
        {
          "output_type": "stream",
          "name": "stderr",
          "text": [
            "[nltk_data] Downloading package stopwords to /root/nltk_data...\n",
            "[nltk_data]   Package stopwords is already up-to-date!\n"
          ]
        },
        {
          "output_type": "execute_result",
          "data": {
            "text/plain": [
              "True"
            ]
          },
          "metadata": {},
          "execution_count": 19
        }
      ],
      "source": [
        "# NLTK(Natural Language Toolkit) 라이브러리를 사용하여 영어 불용어(stopwords) 데이터를 다운로드\n",
        "\n",
        "import nltk\n",
        "nltk.download(\"stopwords\")"
      ]
    },
    {
      "cell_type": "code",
      "execution_count": 21,
      "metadata": {
        "id": "SSW8hVvE0vKD",
        "colab": {
          "base_uri": "https://localhost:8080/"
        },
        "outputId": "320437ba-4773-42d7-b6b6-e6cc6e07fb93"
      },
      "outputs": [
        {
          "output_type": "stream",
          "name": "stdout",
          "text": [
            "nltk에 내장된 불용어 개수:  179\n",
            "불용어 예시:  ['i', 'me', 'my', 'myself', 'we', 'our', 'ours', 'ourselves', 'you', \"you're\"]\n",
            "예시 review에서 불용어 제거하고 남은 토큰 개수:  219\n"
          ]
        }
      ],
      "source": [
        "from nltk.corpus import stopwords\n",
        "\n",
        "stopwords_list = stopwords.words('english')\n",
        "print(\"nltk에 내장된 불용어 개수: \", len(stopwords_list))\n",
        "print(\"불용어 예시: \", stopwords_list[:10])\n",
        "\n",
        "non_stopwords = [w for w in token_words if not w in stopwords_list]\n",
        "print(\"예시 review에서 불용어 제거하고 남은 토큰 개수: \",len(non_stopwords))"
      ]
    },
    {
      "cell_type": "markdown",
      "metadata": {
        "id": "JEMKx3zy8jy-"
      },
      "source": [
        "## 4-5. 어간 추출(Stemming)\n",
        "\n",
        "nltk에선 단어에서 어간을 추출해주는 도구를 제공합니다. 하지만 이 어간 추출의 작업은 정확히 어간만 추출하는 것이 아니라 정해진 규칙에 따라 임의로 어미를 떼어놓는 작업이기에 100% 정확하게 어간만 추출하지는 못합니다.\n",
        "\n",
        "nltk의 포터 알고리즘의 규칙은 다음과 같습니다.\n",
        "- ALIZE → AL\n",
        "- ANCE → 제거\n",
        "- ICAL → IC\n",
        "\n",
        "이라는 규칙에 따라 어간을 추출합니다.\n",
        "\n",
        "예시를 들어보면, 아래와 같은 어간 추출을 합니다.\n",
        "\n",
        "- formalize → formal\n",
        "- allowance → allow\n",
        "- electricical → electric\n",
        "\n",
        "출처: 딥러닝을 이용한 자연어 처리 입문 위키독스(https://wikidocs.net/21707)"
      ]
    },
    {
      "cell_type": "code",
      "execution_count": 23,
      "metadata": {
        "id": "qu-L6rueGhEq"
      },
      "outputs": [],
      "source": [
        "# NLTK의 Porter Stemmer를 사용하여 텍스트 데이터에 포함된 단어들을 어간 추출(stemming)\n",
        "from nltk.stem import PorterStemmer\n",
        "\n",
        "# PorterStemmer 객체를 생성 -> 이 객체를 사용하여 단어의 어간을 추출\n",
        "porter_stemmer = PorterStemmer()\n",
        "\n",
        "# porter_stemmer.stem(w)를 각 단어 w에 적용 -> 어간 추출\n",
        "stemmed_words = [porter_stemmer.stem(w) for w in non_stopwords]"
      ]
    },
    {
      "cell_type": "markdown",
      "metadata": {
        "id": "VbeDGzdNKdlm"
      },
      "source": [
        "## 4-6. 표제어 추출(Lemmatization)\n",
        "\n",
        "표제어 추출도 어간 추출과 마찬가지의 역할을 수행한다. 이 둘은 본질적인 차이를 갖는데, Stemming은 단어 그 자체만을 고려하지만 Lemmatization은 그 단어가 문장 속에서 어떤 품사(Part-of-speech)로 쓰였는지까지 판단한다는 점이다. 따라서 Lemmatization이 보다 복잡한 처리 과정을 거칠 수밖에 없다.\n",
        "\n",
        "kaggle의 다른 여러 코드들을 참고한 결과 stemming을 하는 것보다 lemmatization을 하는 것이 더 나은 결과를 도출하는 것 같아서 lemmatization만 수행하도록 하겠다."
      ]
    },
    {
      "cell_type": "code",
      "execution_count": 25,
      "metadata": {
        "id": "TK3b8y0oKkqC",
        "colab": {
          "base_uri": "https://localhost:8080/"
        },
        "outputId": "83e1455c-a05c-473c-ca38-bdafac15cce2"
      },
      "outputs": [
        {
          "output_type": "stream",
          "name": "stderr",
          "text": [
            "[nltk_data] Downloading package wordnet to /root/nltk_data...\n",
            "[nltk_data]   Package wordnet is already up-to-date!\n",
            "[nltk_data] Downloading package omw-1.4 to /root/nltk_data...\n",
            "[nltk_data]   Package omw-1.4 is already up-to-date!\n"
          ]
        }
      ],
      "source": [
        "# WordNet 데이터셋을 다운로드 -> 영어 어휘의 대규모 데이터베이스. 단어 간의 동의어(synonyms), 반의어(antonyms), 하위어(hyponyms) 관계를 포함.\n",
        "nltk.download('wordnet')\n",
        "\n",
        "# WordNet 데이터와 연결된 다국어 워드넷(Open Multilingual WordNet) 리소스를 다운로드\n",
        "nltk.download('omw-1.4')\n",
        "\n",
        "from nltk.stem import WordNetLemmatizer\n",
        "# WordNetLemmatizer: NLTK에서 제공하는 표제어 추출 도구 -> 단어의 문법적 품사(Pos: Part of Speech)를 고려하여 원형(표제어)으로 변환\n",
        "# WordNetLemmatizer 객체를 생성\n",
        "wordnet_lemmatizer = WordNetLemmatizer()"
      ]
    },
    {
      "cell_type": "code",
      "execution_count": 31,
      "metadata": {
        "id": "0qCfMoC6KnEY"
      },
      "outputs": [],
      "source": [
        "# 품사(Pos)를 지정하지 않았기 때문에 기본값인 명사(noun)로 처리\n",
        "lemmatized_words = [wordnet_lemmatizer.lemmatize(w) for w in non_stopwords]\n",
        "\n",
        "# 품사를 동사(verb)로 지정하여 처리\n",
        "lemmatized_words = [wordnet_lemmatizer.lemmatize(w,\"v\") for w in lemmatized_words]"
      ]
    },
    {
      "cell_type": "code",
      "execution_count": 32,
      "metadata": {
        "id": "zEQZI4gePAsv",
        "colab": {
          "base_uri": "https://localhost:8080/"
        },
        "outputId": "df0ee76a-b510-4740-dd06-00d3c5d06d8d"
      },
      "outputs": [
        {
          "output_type": "stream",
          "name": "stdout",
          "text": [
            "['really', 'cool', 'eighties', 'maybe', 'make', 'mind', 'whether', 'guilty', 'innocent', 'moonwalker', 'part', 'biography', 'part', 'feature', 'film', 'remember', 'going', 'see', 'cinema']\n",
            "['realli', 'cool', 'eighti', 'mayb', 'make', 'mind', 'whether', 'guilti', 'innoc', 'moonwalk', 'part', 'biographi', 'part', 'featur', 'film', 'rememb', 'go', 'see', 'cinema']\n",
            "['really', 'cool', 'eighty', 'maybe', 'make', 'mind', 'whether', 'guilty', 'innocent', 'moonwalker', 'part', 'biography', 'part', 'feature', 'film', 'remember', 'go', 'see', 'cinema']\n"
          ]
        }
      ],
      "source": [
        "print(non_stopwords[21:40]) # none\n",
        "print(stemmed_words[21:40]) # stemming\n",
        "print(lemmatized_words[21:40]) # lemmatization"
      ]
    },
    {
      "cell_type": "markdown",
      "metadata": {
        "id": "4INa9uVeJUKp"
      },
      "source": [
        "## 4-7. 하나의 함수로 표현\n",
        "\n",
        "앞선 6가지의 전처리 과정을 하나의 함수로 통합합니다."
      ]
    },
    {
      "cell_type": "code",
      "execution_count": 33,
      "metadata": {
        "id": "cODLO1bYJZuG"
      },
      "outputs": [],
      "source": [
        "stopwords_list = set(stopwords.words('english'))\n",
        "wordnet_lemmatizer = WordNetLemmatizer()\n",
        "\n",
        "def review_to_words(raw_review):\n",
        "  except_tag = BeautifulSoup(raw_review).get_text() # html 태그 제거\n",
        "  letters_only = re.sub(\"[^a-zA-Z]\", \" \", except_tag) # 알파벳만 남기기\n",
        "  token_words = letters_only.lower().split() # 소문자로 통합하고 단어 단위로 토큰화\n",
        "  non_stopwords = [w for w in token_words if not w in stopwords_list] # 불용어 삭제\n",
        "  lemmatized_words = [wordnet_lemmatizer.lemmatize(w) for w in non_stopwords]\n",
        "  lemmatized_words = [wordnet_lemmatizer.lemmatize(w,\"v\") for w in lemmatized_words] # Lemmatization\n",
        "  words = \" \".join(lemmatized_words)\n",
        "  return words"
      ]
    },
    {
      "cell_type": "markdown",
      "metadata": {
        "id": "MwRxSjIlHBAG"
      },
      "source": [
        "\n",
        "\n",
        "---\n",
        "\n"
      ]
    },
    {
      "cell_type": "markdown",
      "metadata": {
        "id": "BvvzASbwoXeM"
      },
      "source": [
        "# 5. BoW(Bag of Words) 형태로 변환\n",
        "\n",
        "Bag of words는 단어의 출현 빈도에 집중하여 텍스트를 수치화하는 표현 방식입니다.\n",
        "\n",
        "예를 들어 아래처럼 두 개의 노래 구절이 있는 경우\n",
        "\n",
        "```python\n",
        "lyric1 = \"but I don't want to stay in the middle\"\n",
        "lyric2 = \"like you a little don't want no riddle\"\n",
        "```\n",
        "\n",
        "아래 같은 단어 모음이 만들어지고\n",
        "\n",
        "```python\n",
        "vocab = [\"but\", \"I\", \"don't\", \"want\", \"to\", \"stay\", \"in\", \"the\", \"middle\", \"like\", \"you\", \"a\", \"little\", \"no\", \"riddle\"]\n",
        "```\n",
        "\n",
        "아래처럼 단어들을 빈도로 수치화할 수 있습니다.\n",
        "\n",
        "```python\n",
        "lyric1 = [1, 1, 1, 1, 1, 1, 1, 1, 1, 0, 0, 0, 0, 0, 0]\n",
        "lyric2 = [0, 0, 1, 1, 0, 0, 0, 0, 0, 1, 1, 1, 1, 1, 1]\n",
        "```"
      ]
    },
    {
      "cell_type": "markdown",
      "metadata": {
        "id": "ovsOgbtoA4vg"
      },
      "source": [
        "![image.png](attachment:image.png)"
      ]
    },
    {
      "cell_type": "markdown",
      "metadata": {
        "id": "6pLyt4Ymtjmc"
      },
      "source": [
        "위 같은 작업을 사이킷런의 `CountVectorizer`가 수행해줍니다."
      ]
    },
    {
      "cell_type": "code",
      "execution_count": 34,
      "metadata": {
        "id": "C9QVEe77tb2H",
        "colab": {
          "base_uri": "https://localhost:8080/"
        },
        "outputId": "b61a4399-0057-4c51-8a5a-2858cfa8c7a6"
      },
      "outputs": [
        {
          "output_type": "stream",
          "name": "stderr",
          "text": [
            "<ipython-input-33-4620c86a40d2>:5: MarkupResemblesLocatorWarning: The input looks more like a filename than markup. You may want to open this file and pass the filehandle into Beautiful Soup.\n",
            "  except_tag = BeautifulSoup(raw_review).get_text() # html 태그 제거\n"
          ]
        },
        {
          "output_type": "stream",
          "name": "stdout",
          "text": [
            "Review 5000 of 25000\n",
            "Review 10000 of 25000\n",
            "Review 15000 of 25000\n",
            "Review 20000 of 25000\n",
            "Review 25000 of 25000\n"
          ]
        }
      ],
      "source": [
        "num_reviews = train['review'].size\n",
        "\n",
        "clean_train_reviews = []\n",
        "for i in range(0, num_reviews):\n",
        "     if (i + 1) % 5000 == 0 :  #실행이 잘되는지 확인하기 위해 5000개 실행될때마다 확인문구\n",
        "         print('Review {} of {}'.format(i+1, num_reviews))\n",
        "    # review_to_words는 위에서 한걸 모두 합한 함수\n",
        "     clean_train_reviews.append(review_to_words(train['review'][i]))"
      ]
    },
    {
      "cell_type": "markdown",
      "metadata": {
        "id": "1L1ZdBaSuv49"
      },
      "source": [
        "`clean_train_reviews`에는 25,000개의 전처리된 리뷰들이 담겨있습니다. 이것을 `CountVectorizer에` input으로 넣어주면 BoW가 완성됩니다."
      ]
    },
    {
      "cell_type": "code",
      "execution_count": 35,
      "metadata": {
        "id": "mtQUnI7brh02"
      },
      "outputs": [],
      "source": [
        "from sklearn.feature_extraction.text import CountVectorizer\n",
        "\n",
        "vectorizer = CountVectorizer(analyzer = 'word', # 학습 단위 - 단어\n",
        "                             tokenizer = None,\n",
        "                             preprocessor = None, # 텍스트 전처리 함수 -> None: 기본 전처리 방법을 사용(소문자 변환, 공백 제거 등)\n",
        "                             stop_words = None,\n",
        "                             min_df = 2, # 토큰이 나타날 최소 문서 개수 -> 2개 이상의 문서에서 등장하는 단어만 특징으로 고려\n",
        "                             ngram_range=(1, 2), # 단어의 묶음 개수 -> 단어 단위 1-그램과 2-그램을 모두 고려\n",
        "                             # 예: \"I love programming\" → 1-그램: ['I', 'love', 'programming'], 2-그램: ['I love', 'love programming']\n",
        "                             max_features = 4000) # 토큰의 최대 개수, 즉 컬럼의 최대 개수 (feature로 사용할 단어의 최대 개수)"
      ]
    },
    {
      "cell_type": "markdown",
      "metadata": {
        "id": "LXXL0_g0nI74"
      },
      "source": [
        "# 6. TfidfVectorizer\n",
        "\n",
        "이번엔 `CounterVectorizer`보다 한 단계 나아간 `TidfVectorizer`에 대해 살펴볼 것입니다.\n",
        "\n",
        "`TidfVectorizer()`는 TF-IDF(단어빈도*문서빈도역수)를 학습시키는 함수입니다. 단어빈도란 특정 단어가 한 문서 내에서 출현한 빈도이고, 문서빈도는 특정 단어가 출현한 전체 문서의 개수입니다.\n",
        "\n",
        "왜 두 빈도를 모두 알아야 할까요? 예컨대 정관사 a, the는 영어에서 굉장히 많이 쓰입니다. 하지만 출현빈도에 비해 그렇게 중요치 않은 단어입니다. 이처럼 단어빈도는 높아도 중요도가 낮은 단어들을 걸러주기 위해 이 단어가 출현한 문서의 빈도도 카운트해줄 필요가 있다는 얘기입니다.\n",
        "\n",
        "![image.png](attachment:image.png)"
      ]
    },
    {
      "cell_type": "code",
      "execution_count": 36,
      "metadata": {
        "id": "pn7y54v8mUg5"
      },
      "outputs": [],
      "source": [
        "from sklearn.feature_extraction.text import TfidfVectorizer\n",
        "\n",
        "vectorizer = TfidfVectorizer(min_df = 4, # 토큰이 나타날 최소 문서 개수\n",
        "                             analyzer = 'word', # 학습 단위\n",
        "                             ngram_range = (1, 2), # 단어의 묶음 개수\n",
        "                             max_features = 1000) # 토큰의 최대 개수, 즉 컬럼의 최대 개수"
      ]
    },
    {
      "cell_type": "code",
      "execution_count": 37,
      "metadata": {
        "colab": {
          "base_uri": "https://localhost:8080/"
        },
        "id": "MsMFVIEltX51",
        "outputId": "3075d2bd-1e1a-449f-9796-5b1fd3a82075"
      },
      "outputs": [
        {
          "output_type": "execute_result",
          "data": {
            "text/plain": [
              "(25000, 1000)"
            ]
          },
          "metadata": {},
          "execution_count": 37
        }
      ],
      "source": [
        "# 훈련 데이터(clean_train_reviews)를 feature 벡터로 변환\n",
        "train_data_features = vectorizer.fit_transform(clean_train_reviews)\n",
        "train_data_features.shape"
      ]
    },
    {
      "cell_type": "markdown",
      "metadata": {
        "id": "wbZo0RbS6ENh"
      },
      "source": [
        "`TfidfVectorizer`의 `get_feature_names_out()` 메서드로 토큰 이름들을 추출할 수 있습니다.\n",
        "\n",
        "cf) scikit-learn 0.24.0 이상에선 `get_feature_names_out()`, 미만에선 `get_feature_names()`"
      ]
    },
    {
      "cell_type": "code",
      "execution_count": 39,
      "metadata": {
        "colab": {
          "base_uri": "https://localhost:8080/"
        },
        "id": "9w0zzKjOwFSx",
        "outputId": "c012c7d8-6763-4a38-8bca-f57bca543067"
      },
      "outputs": [
        {
          "output_type": "execute_result",
          "data": {
            "text/plain": [
              "array(['ability', 'able', 'absolutely', 'accent', 'accept', 'across',\n",
              "       'act', 'action', 'actor', 'actress'], dtype=object)"
            ]
          },
          "metadata": {},
          "execution_count": 39
        }
      ],
      "source": [
        "# 어휘 집합(vocabulary) 가져오기\n",
        "vocab = vectorizer.get_feature_names_out()\n",
        "vocab[:10]"
      ]
    },
    {
      "cell_type": "markdown",
      "metadata": {
        "id": "BFkVZ2WPguny"
      },
      "source": [
        "# 7. Modeling\n",
        "\n",
        "baseline 코드로 제시된 트리 계열 알고리즘으로 학습을 시켜봅니다.\n",
        "\n",
        "원하시는 경우 성능 향상을 위해 새롭게 코드를 짜보셔도 좋습니다!"
      ]
    },
    {
      "cell_type": "code",
      "execution_count": 40,
      "metadata": {
        "id": "0I6uMDC1-4uV",
        "colab": {
          "base_uri": "https://localhost:8080/"
        },
        "outputId": "82ad7257-ac49-4e51-cc6d-409a0e1aa8a0"
      },
      "outputs": [
        {
          "output_type": "stream",
          "name": "stderr",
          "text": [
            "/usr/local/lib/python3.11/dist-packages/dask/dataframe/__init__.py:42: FutureWarning: \n",
            "Dask dataframe query planning is disabled because dask-expr is not installed.\n",
            "\n",
            "You can install it with `pip install dask[dataframe]` or `conda install dask`.\n",
            "This will raise in a future version.\n",
            "\n",
            "  warnings.warn(msg, FutureWarning)\n"
          ]
        }
      ],
      "source": [
        "from sklearn.ensemble import RandomForestClassifier\n",
        "from lightgbm import LGBMClassifier\n",
        "from xgboost import XGBClassifier\n",
        "from sklearn.model_selection import train_test_split\n",
        "from sklearn.metrics import roc_auc_score\n",
        "from sklearn.ensemble import StackingClassifier\n",
        "from sklearn.linear_model import LogisticRegression\n",
        "\n",
        "# train_data_features는 TfidfVectorizer를 통해 변환된 feature 벡터\n",
        "x = train_data_features\n",
        "# 감정(label)을 나타내는 타겟 변수\n",
        "y = train['sentiment']\n",
        "\n",
        "x_train, x_val, y_train, y_val = train_test_split(x, y, test_size=0.3, random_state=42)\n",
        "\n",
        "# 트리 알고리즘 3개를 사용\n",
        "# 다수의 결정 트리를 결합하여 예측 (배깅 방식)\n",
        "rf = RandomForestClassifier(n_estimators = 200,\n",
        "                            n_jobs = -1,\n",
        "                            random_state=42,\n",
        "                            max_depth=20)\n",
        "\n",
        "\n",
        "# XGBoost는 Gradient Boosting 방식의 앙상블 학습 기법으로, 여러 개의 약한 예측기(주로 결정 트리)를 결합\n",
        "# XGBoost는 레벨 중심 학습(level-wise learning) 방식을 사용\n",
        "\n",
        "# 리프 중심 학습 (Leaf-wise): 트리 분할 과정에서, 각 트리의 리프 노드를 기준으로 분할을 진행\n",
        "# 레벨 중심 학습 (Level-wise): 레벨 중심 학습은 트리의 모든 노드를 동일한 깊이로 분할\n",
        "xgb = XGBClassifier(n_estimators=200,\n",
        "                    max_depth=10,\n",
        "                    learning_rate=0.05,\n",
        "                    objective='binary:logistic')\n",
        "\n",
        "\n",
        "# LightGBM은 Gradient Boosting 알고리즘의 변형으로, 대규모 데이터셋을 처리하는 데 최적화 -> 리프 중심의 트리 분할 방식\n",
        "lgbm = LGBMClassifier(n_estimators=200,\n",
        "                    max_depth=10,\n",
        "                    metric='binary_logloss')"
      ]
    },
    {
      "cell_type": "code",
      "execution_count": 41,
      "metadata": {
        "id": "iE_m3SMip9En"
      },
      "outputs": [],
      "source": [
        "xgb.fit(x_train, y_train)\n",
        "y_pred_xgb = xgb.predict_proba(x_val)"
      ]
    },
    {
      "cell_type": "code",
      "execution_count": 42,
      "metadata": {
        "id": "JCfRiWkXrpsI",
        "colab": {
          "base_uri": "https://localhost:8080/"
        },
        "outputId": "3157f45d-be4b-42e9-e343-1b9568dc299c"
      },
      "outputs": [
        {
          "output_type": "stream",
          "name": "stderr",
          "text": [
            "/usr/local/lib/python3.11/dist-packages/sklearn/utils/deprecation.py:151: FutureWarning: 'force_all_finite' was renamed to 'ensure_all_finite' in 1.6 and will be removed in 1.8.\n",
            "  warnings.warn(\n"
          ]
        },
        {
          "output_type": "stream",
          "name": "stdout",
          "text": [
            "[LightGBM] [Info] Number of positive: 8738, number of negative: 8762\n",
            "[LightGBM] [Info] Auto-choosing col-wise multi-threading, the overhead of testing was 0.270096 seconds.\n",
            "You can set `force_col_wise=true` to remove the overhead.\n",
            "[LightGBM] [Info] Total Bins 197828\n",
            "[LightGBM] [Info] Number of data points in the train set: 17500, number of used features: 1000\n",
            "[LightGBM] [Info] [binary:BoostFromScore]: pavg=0.499314 -> initscore=-0.002743\n",
            "[LightGBM] [Info] Start training from score -0.002743\n"
          ]
        },
        {
          "output_type": "stream",
          "name": "stderr",
          "text": [
            "/usr/local/lib/python3.11/dist-packages/sklearn/utils/deprecation.py:151: FutureWarning: 'force_all_finite' was renamed to 'ensure_all_finite' in 1.6 and will be removed in 1.8.\n",
            "  warnings.warn(\n"
          ]
        }
      ],
      "source": [
        "lgbm.fit(x_train, y_train)\n",
        "y_pred_lgbm = lgbm.predict_proba(x_val)"
      ]
    },
    {
      "cell_type": "code",
      "execution_count": 43,
      "metadata": {
        "id": "OpZtFdbgAmws"
      },
      "outputs": [],
      "source": [
        "rf.fit(x_train, y_train)\n",
        "y_pred_rf = rf.predict_proba(x_val)"
      ]
    },
    {
      "cell_type": "markdown",
      "metadata": {
        "id": "DkI594sPjY_2"
      },
      "source": [
        "학습된 모델들의 `roc_auc_score`는 아래처럼 구할 수 있다."
      ]
    },
    {
      "cell_type": "code",
      "execution_count": 44,
      "metadata": {
        "id": "cVenoNaUjImr",
        "colab": {
          "base_uri": "https://localhost:8080/"
        },
        "outputId": "e32c7191-9f7f-4d58-ec9a-2e0a6a977a37"
      },
      "outputs": [
        {
          "output_type": "stream",
          "name": "stdout",
          "text": [
            "Random Forest AUC Score : 0.9058620760276586\n",
            "XGBoost AUC Score : 0.9158306758838988\n",
            "LGBM AUC Score : 0.9256037892939135\n"
          ]
        }
      ],
      "source": [
        "print('Random Forest AUC Score :', roc_auc_score(y_val, y_pred_rf[:,1]))\n",
        "print('XGBoost AUC Score :', roc_auc_score(y_val, y_pred_xgb[:,1]))\n",
        "print('LGBM AUC Score :', roc_auc_score(y_val, y_pred_lgbm[:,1]))"
      ]
    },
    {
      "cell_type": "markdown",
      "metadata": {
        "id": "RHC6FPnYlAKF"
      },
      "source": [
        "# 8. test set 추론"
      ]
    },
    {
      "cell_type": "code",
      "execution_count": 45,
      "metadata": {
        "id": "bzw8CiDYCb3_",
        "colab": {
          "base_uri": "https://localhost:8080/"
        },
        "outputId": "cd0a3993-5683-4a70-b0d2-d3e92ca87f0a"
      },
      "outputs": [
        {
          "output_type": "stream",
          "name": "stderr",
          "text": [
            "<ipython-input-33-4620c86a40d2>:5: MarkupResemblesLocatorWarning: The input looks more like a filename than markup. You may want to open this file and pass the filehandle into Beautiful Soup.\n",
            "  except_tag = BeautifulSoup(raw_review).get_text() # html 태그 제거\n"
          ]
        },
        {
          "output_type": "stream",
          "name": "stdout",
          "text": [
            "Review 5000 of 25000\n",
            "Review 10000 of 25000\n",
            "Review 15000 of 25000\n",
            "Review 20000 of 25000\n",
            "Review 25000 of 25000\n"
          ]
        }
      ],
      "source": [
        "num_reviews = test['review'].size\n",
        "\n",
        "clean_test_reviews = []\n",
        "for i in range(0, num_reviews):\n",
        "     if (i + 1) % 5000 == 0 :  #실행이 잘 되는지 확인하기 위해 5000개 실행될때마다 확인문구\n",
        "         print('Review {} of {}'.format(i+1, num_reviews))\n",
        "     clean_test_reviews.append(review_to_words(test['review'][i]))"
      ]
    },
    {
      "cell_type": "code",
      "execution_count": 46,
      "metadata": {
        "id": "7JlFQBI7Cr9F"
      },
      "outputs": [],
      "source": [
        "test_data_features = vectorizer.fit_transform(clean_test_reviews)\n",
        "test_data_features = test_data_features.toarray()"
      ]
    },
    {
      "cell_type": "code",
      "execution_count": 47,
      "metadata": {
        "colab": {
          "base_uri": "https://localhost:8080/"
        },
        "id": "K6EihQRSC3Hv",
        "outputId": "b77d24f2-f09a-412d-dc03-3d20c96512b7"
      },
      "outputs": [
        {
          "output_type": "stream",
          "name": "stderr",
          "text": [
            "/usr/local/lib/python3.11/dist-packages/sklearn/utils/deprecation.py:151: FutureWarning: 'force_all_finite' was renamed to 'ensure_all_finite' in 1.6 and will be removed in 1.8.\n",
            "  warnings.warn(\n"
          ]
        }
      ],
      "source": [
        "# 3개 알고리즘 중 원하는 것으로 predict\n",
        "# lgbm 성능이 가장 좋다.\n",
        "result = lgbm.predict(test_data_features)\n",
        "submit['sentiment'] = result"
      ]
    },
    {
      "cell_type": "code",
      "execution_count": 48,
      "metadata": {
        "colab": {
          "base_uri": "https://localhost:8080/",
          "height": 363
        },
        "id": "M6Esmi7uEhg3",
        "outputId": "5d7716f1-ac90-47cc-ea8a-5f052f2d9d11"
      },
      "outputs": [
        {
          "output_type": "execute_result",
          "data": {
            "text/plain": [
              "         id  sentiment\n",
              "0  12311_10          1\n",
              "1    8348_2          0\n",
              "2    5828_4          0\n",
              "3    7186_2          1\n",
              "4   12128_7          0\n",
              "5    2913_8          0\n",
              "6    4396_1          0\n",
              "7     395_2          0\n",
              "8   10616_1          0\n",
              "9    9074_9          1"
            ],
            "text/html": [
              "\n",
              "  <div id=\"df-928db7cc-4ae8-46ac-a0e5-bed44d05a7ef\" class=\"colab-df-container\">\n",
              "    <div>\n",
              "<style scoped>\n",
              "    .dataframe tbody tr th:only-of-type {\n",
              "        vertical-align: middle;\n",
              "    }\n",
              "\n",
              "    .dataframe tbody tr th {\n",
              "        vertical-align: top;\n",
              "    }\n",
              "\n",
              "    .dataframe thead th {\n",
              "        text-align: right;\n",
              "    }\n",
              "</style>\n",
              "<table border=\"1\" class=\"dataframe\">\n",
              "  <thead>\n",
              "    <tr style=\"text-align: right;\">\n",
              "      <th></th>\n",
              "      <th>id</th>\n",
              "      <th>sentiment</th>\n",
              "    </tr>\n",
              "  </thead>\n",
              "  <tbody>\n",
              "    <tr>\n",
              "      <th>0</th>\n",
              "      <td>12311_10</td>\n",
              "      <td>1</td>\n",
              "    </tr>\n",
              "    <tr>\n",
              "      <th>1</th>\n",
              "      <td>8348_2</td>\n",
              "      <td>0</td>\n",
              "    </tr>\n",
              "    <tr>\n",
              "      <th>2</th>\n",
              "      <td>5828_4</td>\n",
              "      <td>0</td>\n",
              "    </tr>\n",
              "    <tr>\n",
              "      <th>3</th>\n",
              "      <td>7186_2</td>\n",
              "      <td>1</td>\n",
              "    </tr>\n",
              "    <tr>\n",
              "      <th>4</th>\n",
              "      <td>12128_7</td>\n",
              "      <td>0</td>\n",
              "    </tr>\n",
              "    <tr>\n",
              "      <th>5</th>\n",
              "      <td>2913_8</td>\n",
              "      <td>0</td>\n",
              "    </tr>\n",
              "    <tr>\n",
              "      <th>6</th>\n",
              "      <td>4396_1</td>\n",
              "      <td>0</td>\n",
              "    </tr>\n",
              "    <tr>\n",
              "      <th>7</th>\n",
              "      <td>395_2</td>\n",
              "      <td>0</td>\n",
              "    </tr>\n",
              "    <tr>\n",
              "      <th>8</th>\n",
              "      <td>10616_1</td>\n",
              "      <td>0</td>\n",
              "    </tr>\n",
              "    <tr>\n",
              "      <th>9</th>\n",
              "      <td>9074_9</td>\n",
              "      <td>1</td>\n",
              "    </tr>\n",
              "  </tbody>\n",
              "</table>\n",
              "</div>\n",
              "    <div class=\"colab-df-buttons\">\n",
              "\n",
              "  <div class=\"colab-df-container\">\n",
              "    <button class=\"colab-df-convert\" onclick=\"convertToInteractive('df-928db7cc-4ae8-46ac-a0e5-bed44d05a7ef')\"\n",
              "            title=\"Convert this dataframe to an interactive table.\"\n",
              "            style=\"display:none;\">\n",
              "\n",
              "  <svg xmlns=\"http://www.w3.org/2000/svg\" height=\"24px\" viewBox=\"0 -960 960 960\">\n",
              "    <path d=\"M120-120v-720h720v720H120Zm60-500h600v-160H180v160Zm220 220h160v-160H400v160Zm0 220h160v-160H400v160ZM180-400h160v-160H180v160Zm440 0h160v-160H620v160ZM180-180h160v-160H180v160Zm440 0h160v-160H620v160Z\"/>\n",
              "  </svg>\n",
              "    </button>\n",
              "\n",
              "  <style>\n",
              "    .colab-df-container {\n",
              "      display:flex;\n",
              "      gap: 12px;\n",
              "    }\n",
              "\n",
              "    .colab-df-convert {\n",
              "      background-color: #E8F0FE;\n",
              "      border: none;\n",
              "      border-radius: 50%;\n",
              "      cursor: pointer;\n",
              "      display: none;\n",
              "      fill: #1967D2;\n",
              "      height: 32px;\n",
              "      padding: 0 0 0 0;\n",
              "      width: 32px;\n",
              "    }\n",
              "\n",
              "    .colab-df-convert:hover {\n",
              "      background-color: #E2EBFA;\n",
              "      box-shadow: 0px 1px 2px rgba(60, 64, 67, 0.3), 0px 1px 3px 1px rgba(60, 64, 67, 0.15);\n",
              "      fill: #174EA6;\n",
              "    }\n",
              "\n",
              "    .colab-df-buttons div {\n",
              "      margin-bottom: 4px;\n",
              "    }\n",
              "\n",
              "    [theme=dark] .colab-df-convert {\n",
              "      background-color: #3B4455;\n",
              "      fill: #D2E3FC;\n",
              "    }\n",
              "\n",
              "    [theme=dark] .colab-df-convert:hover {\n",
              "      background-color: #434B5C;\n",
              "      box-shadow: 0px 1px 3px 1px rgba(0, 0, 0, 0.15);\n",
              "      filter: drop-shadow(0px 1px 2px rgba(0, 0, 0, 0.3));\n",
              "      fill: #FFFFFF;\n",
              "    }\n",
              "  </style>\n",
              "\n",
              "    <script>\n",
              "      const buttonEl =\n",
              "        document.querySelector('#df-928db7cc-4ae8-46ac-a0e5-bed44d05a7ef button.colab-df-convert');\n",
              "      buttonEl.style.display =\n",
              "        google.colab.kernel.accessAllowed ? 'block' : 'none';\n",
              "\n",
              "      async function convertToInteractive(key) {\n",
              "        const element = document.querySelector('#df-928db7cc-4ae8-46ac-a0e5-bed44d05a7ef');\n",
              "        const dataTable =\n",
              "          await google.colab.kernel.invokeFunction('convertToInteractive',\n",
              "                                                    [key], {});\n",
              "        if (!dataTable) return;\n",
              "\n",
              "        const docLinkHtml = 'Like what you see? Visit the ' +\n",
              "          '<a target=\"_blank\" href=https://colab.research.google.com/notebooks/data_table.ipynb>data table notebook</a>'\n",
              "          + ' to learn more about interactive tables.';\n",
              "        element.innerHTML = '';\n",
              "        dataTable['output_type'] = 'display_data';\n",
              "        await google.colab.output.renderOutput(dataTable, element);\n",
              "        const docLink = document.createElement('div');\n",
              "        docLink.innerHTML = docLinkHtml;\n",
              "        element.appendChild(docLink);\n",
              "      }\n",
              "    </script>\n",
              "  </div>\n",
              "\n",
              "\n",
              "<div id=\"df-6f9a24a9-d31b-4bbd-bf0f-2ffdfd71010f\">\n",
              "  <button class=\"colab-df-quickchart\" onclick=\"quickchart('df-6f9a24a9-d31b-4bbd-bf0f-2ffdfd71010f')\"\n",
              "            title=\"Suggest charts\"\n",
              "            style=\"display:none;\">\n",
              "\n",
              "<svg xmlns=\"http://www.w3.org/2000/svg\" height=\"24px\"viewBox=\"0 0 24 24\"\n",
              "     width=\"24px\">\n",
              "    <g>\n",
              "        <path d=\"M19 3H5c-1.1 0-2 .9-2 2v14c0 1.1.9 2 2 2h14c1.1 0 2-.9 2-2V5c0-1.1-.9-2-2-2zM9 17H7v-7h2v7zm4 0h-2V7h2v10zm4 0h-2v-4h2v4z\"/>\n",
              "    </g>\n",
              "</svg>\n",
              "  </button>\n",
              "\n",
              "<style>\n",
              "  .colab-df-quickchart {\n",
              "      --bg-color: #E8F0FE;\n",
              "      --fill-color: #1967D2;\n",
              "      --hover-bg-color: #E2EBFA;\n",
              "      --hover-fill-color: #174EA6;\n",
              "      --disabled-fill-color: #AAA;\n",
              "      --disabled-bg-color: #DDD;\n",
              "  }\n",
              "\n",
              "  [theme=dark] .colab-df-quickchart {\n",
              "      --bg-color: #3B4455;\n",
              "      --fill-color: #D2E3FC;\n",
              "      --hover-bg-color: #434B5C;\n",
              "      --hover-fill-color: #FFFFFF;\n",
              "      --disabled-bg-color: #3B4455;\n",
              "      --disabled-fill-color: #666;\n",
              "  }\n",
              "\n",
              "  .colab-df-quickchart {\n",
              "    background-color: var(--bg-color);\n",
              "    border: none;\n",
              "    border-radius: 50%;\n",
              "    cursor: pointer;\n",
              "    display: none;\n",
              "    fill: var(--fill-color);\n",
              "    height: 32px;\n",
              "    padding: 0;\n",
              "    width: 32px;\n",
              "  }\n",
              "\n",
              "  .colab-df-quickchart:hover {\n",
              "    background-color: var(--hover-bg-color);\n",
              "    box-shadow: 0 1px 2px rgba(60, 64, 67, 0.3), 0 1px 3px 1px rgba(60, 64, 67, 0.15);\n",
              "    fill: var(--button-hover-fill-color);\n",
              "  }\n",
              "\n",
              "  .colab-df-quickchart-complete:disabled,\n",
              "  .colab-df-quickchart-complete:disabled:hover {\n",
              "    background-color: var(--disabled-bg-color);\n",
              "    fill: var(--disabled-fill-color);\n",
              "    box-shadow: none;\n",
              "  }\n",
              "\n",
              "  .colab-df-spinner {\n",
              "    border: 2px solid var(--fill-color);\n",
              "    border-color: transparent;\n",
              "    border-bottom-color: var(--fill-color);\n",
              "    animation:\n",
              "      spin 1s steps(1) infinite;\n",
              "  }\n",
              "\n",
              "  @keyframes spin {\n",
              "    0% {\n",
              "      border-color: transparent;\n",
              "      border-bottom-color: var(--fill-color);\n",
              "      border-left-color: var(--fill-color);\n",
              "    }\n",
              "    20% {\n",
              "      border-color: transparent;\n",
              "      border-left-color: var(--fill-color);\n",
              "      border-top-color: var(--fill-color);\n",
              "    }\n",
              "    30% {\n",
              "      border-color: transparent;\n",
              "      border-left-color: var(--fill-color);\n",
              "      border-top-color: var(--fill-color);\n",
              "      border-right-color: var(--fill-color);\n",
              "    }\n",
              "    40% {\n",
              "      border-color: transparent;\n",
              "      border-right-color: var(--fill-color);\n",
              "      border-top-color: var(--fill-color);\n",
              "    }\n",
              "    60% {\n",
              "      border-color: transparent;\n",
              "      border-right-color: var(--fill-color);\n",
              "    }\n",
              "    80% {\n",
              "      border-color: transparent;\n",
              "      border-right-color: var(--fill-color);\n",
              "      border-bottom-color: var(--fill-color);\n",
              "    }\n",
              "    90% {\n",
              "      border-color: transparent;\n",
              "      border-bottom-color: var(--fill-color);\n",
              "    }\n",
              "  }\n",
              "</style>\n",
              "\n",
              "  <script>\n",
              "    async function quickchart(key) {\n",
              "      const quickchartButtonEl =\n",
              "        document.querySelector('#' + key + ' button');\n",
              "      quickchartButtonEl.disabled = true;  // To prevent multiple clicks.\n",
              "      quickchartButtonEl.classList.add('colab-df-spinner');\n",
              "      try {\n",
              "        const charts = await google.colab.kernel.invokeFunction(\n",
              "            'suggestCharts', [key], {});\n",
              "      } catch (error) {\n",
              "        console.error('Error during call to suggestCharts:', error);\n",
              "      }\n",
              "      quickchartButtonEl.classList.remove('colab-df-spinner');\n",
              "      quickchartButtonEl.classList.add('colab-df-quickchart-complete');\n",
              "    }\n",
              "    (() => {\n",
              "      let quickchartButtonEl =\n",
              "        document.querySelector('#df-6f9a24a9-d31b-4bbd-bf0f-2ffdfd71010f button');\n",
              "      quickchartButtonEl.style.display =\n",
              "        google.colab.kernel.accessAllowed ? 'block' : 'none';\n",
              "    })();\n",
              "  </script>\n",
              "</div>\n",
              "\n",
              "    </div>\n",
              "  </div>\n"
            ],
            "application/vnd.google.colaboratory.intrinsic+json": {
              "type": "dataframe",
              "variable_name": "submit",
              "summary": "{\n  \"name\": \"submit\",\n  \"rows\": 25000,\n  \"fields\": [\n    {\n      \"column\": \"id\",\n      \"properties\": {\n        \"dtype\": \"string\",\n        \"num_unique_values\": 25000,\n        \"samples\": [\n          \"10610_7\",\n          \"10557_8\",\n          \"3118_9\"\n        ],\n        \"semantic_type\": \"\",\n        \"description\": \"\"\n      }\n    },\n    {\n      \"column\": \"sentiment\",\n      \"properties\": {\n        \"dtype\": \"number\",\n        \"std\": 0,\n        \"min\": 0,\n        \"max\": 1,\n        \"num_unique_values\": 2,\n        \"samples\": [\n          0,\n          1\n        ],\n        \"semantic_type\": \"\",\n        \"description\": \"\"\n      }\n    }\n  ]\n}"
            }
          },
          "metadata": {},
          "execution_count": 48
        }
      ],
      "source": [
        "submit.head(10)"
      ]
    },
    {
      "cell_type": "markdown",
      "metadata": {
        "id": "a7WcDGuZAk0A"
      },
      "source": [
        "원하시는 분은 직접 결과 제출도 해보세요!\n",
        "\n",
        "https://www.kaggle.com/competitions/word2vec-nlp-tutorial/submissions"
      ]
    },
    {
      "cell_type": "code",
      "execution_count": 49,
      "metadata": {
        "id": "SX8tyjL2Dlf1"
      },
      "outputs": [],
      "source": [
        "submit.to_csv(\"./submission_240122.csv\", index=False)"
      ]
    },
    {
      "cell_type": "markdown",
      "source": [
        "![image.png](data:image/png;base64,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)"
      ],
      "metadata": {
        "id": "6Ze8YipkLJP3"
      }
    },
    {
      "cell_type": "code",
      "source": [],
      "metadata": {
        "id": "nGG7mQcuKXNl"
      },
      "execution_count": null,
      "outputs": []
    }
  ],
  "metadata": {
    "colab": {
      "provenance": []
    },
    "kernelspec": {
      "display_name": "Python 3",
      "name": "python3"
    },
    "language_info": {
      "name": "python"
    }
  },
  "nbformat": 4,
  "nbformat_minor": 0
}