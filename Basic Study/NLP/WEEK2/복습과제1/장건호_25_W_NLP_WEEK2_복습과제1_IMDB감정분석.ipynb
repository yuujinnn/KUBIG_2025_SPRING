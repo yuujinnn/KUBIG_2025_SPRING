{
  "cells": [
    {
      "cell_type": "markdown",
      "metadata": {
        "id": "oDoKDVWfAs6g"
      },
      "source": [
        "# 1. IMDB intro\n",
        "\n",
        "IMDB는 영화에 대한 여러 정보를 제공하는 웹사이트입니다. 이 웹사이트에서 작성된 리뷰들은 감정분석에서 사용되는 대표적인 데이터셋으로 유명하죠.\n",
        "\n",
        "이번 과제에서는 Kaggle의 Bag of Words Meets Bags of Popcorn이라는 **감성분석** 튜토리얼을 진행해볼 것입니다.\n",
        "\n",
        "참고: https://www.kaggle.com/competitions/word2vec-nlp-tutorial/overview\n",
        "\n",
        "지난 예습과제에서는 한국어 데이터를 만져보았다면, 이번 데이터는 영어 데이터입니다. 두 언어 간 차이로 인해 전처리 과정에서도 미묘한 차이가 존재합니다.\n",
        "\n",
        "주어지는 데이터셋은 train set과 test set 모두 25,000개의 긍정 부정 리뷰로 구성되어 있으며, 긍정인 경우엔 label이 1이고, 부정인 경우엔 label이 0입니다."
      ]
    },
    {
      "cell_type": "markdown",
      "metadata": {
        "id": "UffzIYPZCSpE"
      },
      "source": [
        "# 2. Load Files\n",
        "\n",
        "구글 드라이브에 다운받은 파일을 저장하고, 파일을 불러온다."
      ]
    },
    {
      "cell_type": "code",
      "execution_count": 2,
      "metadata": {
        "id": "bd2qHQ4RZZgw",
        "colab": {
          "base_uri": "https://localhost:8080/"
        },
        "outputId": "93339016-7436-4643-e518-74934021a711"
      },
      "outputs": [
        {
          "output_type": "stream",
          "name": "stdout",
          "text": [
            "Mounted at /content/drive\n"
          ]
        }
      ],
      "source": [
        "from google.colab import drive\n",
        "drive.mount('/content/drive')"
      ]
    },
    {
      "cell_type": "code",
      "execution_count": 3,
      "metadata": {
        "id": "2kMlmKUyZ331",
        "colab": {
          "base_uri": "https://localhost:8080/"
        },
        "outputId": "91e625bb-7296-4ba3-8205-9a1e04125809"
      },
      "outputs": [
        {
          "output_type": "stream",
          "name": "stderr",
          "text": [
            "[nltk_data] Downloading package stopwords to /root/nltk_data...\n",
            "[nltk_data]   Unzipping corpora/stopwords.zip.\n",
            "[nltk_data] Downloading package wordnet to /root/nltk_data...\n",
            "[nltk_data] Downloading package omw-1.4 to /root/nltk_data...\n"
          ]
        }
      ],
      "source": [
        "import pandas as pd\n",
        "from bs4 import BeautifulSoup\n",
        "from nltk.stem import WordNetLemmatizer\n",
        "import re\n",
        "import nltk\n",
        "from nltk.corpus import stopwords\n",
        "nltk.download('stopwords')\n",
        "from nltk.stem import PorterStemmer\n",
        "nltk.download('wordnet')\n",
        "nltk.download('omw-1.4')\n",
        "from nltk.stem import WordNetLemmatizer\n",
        "import matplotlib as plt"
      ]
    },
    {
      "cell_type": "code",
      "execution_count": 4,
      "metadata": {
        "id": "D1EijdrtZ8ee"
      },
      "outputs": [],
      "source": [
        "train = pd.read_csv('/content/drive/MyDrive/KUBIG25/WEEK2/labeledTrainData.tsv', header=0, delimiter='\\t', quoting=3)\n",
        "test = pd.read_csv('/content/drive/MyDrive/KUBIG25/WEEK2/testData.tsv', header=0, delimiter='\\t', quoting=3)\n",
        "submit = pd.read_csv('/content/drive/MyDrive/KUBIG25/WEEK2/sampleSubmission.csv')"
      ]
    },
    {
      "cell_type": "markdown",
      "metadata": {
        "id": "2vzS781TdzZ_"
      },
      "source": [
        "\n",
        "\n",
        "---\n",
        "\n"
      ]
    },
    {
      "cell_type": "markdown",
      "metadata": {
        "id": "SyaLQ2WQdVdu"
      },
      "source": [
        "# 3. 간략한 데이터 탐색"
      ]
    },
    {
      "cell_type": "code",
      "execution_count": 5,
      "metadata": {
        "id": "6yhXqCqtaPrb",
        "colab": {
          "base_uri": "https://localhost:8080/"
        },
        "outputId": "25bfbad8-369b-4c7f-ee5a-642faa409016"
      },
      "outputs": [
        {
          "output_type": "stream",
          "name": "stdout",
          "text": [
            "<class 'pandas.core.frame.DataFrame'>\n",
            "RangeIndex: 25000 entries, 0 to 24999\n",
            "Data columns (total 3 columns):\n",
            " #   Column     Non-Null Count  Dtype \n",
            "---  ------     --------------  ----- \n",
            " 0   id         25000 non-null  object\n",
            " 1   sentiment  25000 non-null  int64 \n",
            " 2   review     25000 non-null  object\n",
            "dtypes: int64(1), object(2)\n",
            "memory usage: 586.1+ KB\n"
          ]
        }
      ],
      "source": [
        "train.info()"
      ]
    },
    {
      "cell_type": "code",
      "execution_count": 7,
      "metadata": {
        "id": "fXrzdlRKc3nc",
        "colab": {
          "base_uri": "https://localhost:8080/",
          "height": 206
        },
        "outputId": "660edc0d-bdd3-45fd-929d-060e59fb807b"
      },
      "outputs": [
        {
          "output_type": "execute_result",
          "data": {
            "text/plain": [
              "         id  sentiment                                             review\n",
              "0  \"5814_8\"          1  \"With all this stuff going down at the moment ...\n",
              "1  \"2381_9\"          1  \"\\\"The Classic War of the Worlds\\\" by Timothy ...\n",
              "2  \"7759_3\"          0  \"The film starts with a manager (Nicholas Bell...\n",
              "3  \"3630_4\"          0  \"It must be assumed that those who praised thi...\n",
              "4  \"9495_8\"          1  \"Superbly trashy and wondrously unpretentious ..."
            ],
            "text/html": [
              "\n",
              "  <div id=\"df-76619cb2-a662-48ce-b969-c029684fcec0\" class=\"colab-df-container\">\n",
              "    <div>\n",
              "<style scoped>\n",
              "    .dataframe tbody tr th:only-of-type {\n",
              "        vertical-align: middle;\n",
              "    }\n",
              "\n",
              "    .dataframe tbody tr th {\n",
              "        vertical-align: top;\n",
              "    }\n",
              "\n",
              "    .dataframe thead th {\n",
              "        text-align: right;\n",
              "    }\n",
              "</style>\n",
              "<table border=\"1\" class=\"dataframe\">\n",
              "  <thead>\n",
              "    <tr style=\"text-align: right;\">\n",
              "      <th></th>\n",
              "      <th>id</th>\n",
              "      <th>sentiment</th>\n",
              "      <th>review</th>\n",
              "    </tr>\n",
              "  </thead>\n",
              "  <tbody>\n",
              "    <tr>\n",
              "      <th>0</th>\n",
              "      <td>\"5814_8\"</td>\n",
              "      <td>1</td>\n",
              "      <td>\"With all this stuff going down at the moment ...</td>\n",
              "    </tr>\n",
              "    <tr>\n",
              "      <th>1</th>\n",
              "      <td>\"2381_9\"</td>\n",
              "      <td>1</td>\n",
              "      <td>\"\\\"The Classic War of the Worlds\\\" by Timothy ...</td>\n",
              "    </tr>\n",
              "    <tr>\n",
              "      <th>2</th>\n",
              "      <td>\"7759_3\"</td>\n",
              "      <td>0</td>\n",
              "      <td>\"The film starts with a manager (Nicholas Bell...</td>\n",
              "    </tr>\n",
              "    <tr>\n",
              "      <th>3</th>\n",
              "      <td>\"3630_4\"</td>\n",
              "      <td>0</td>\n",
              "      <td>\"It must be assumed that those who praised thi...</td>\n",
              "    </tr>\n",
              "    <tr>\n",
              "      <th>4</th>\n",
              "      <td>\"9495_8\"</td>\n",
              "      <td>1</td>\n",
              "      <td>\"Superbly trashy and wondrously unpretentious ...</td>\n",
              "    </tr>\n",
              "  </tbody>\n",
              "</table>\n",
              "</div>\n",
              "    <div class=\"colab-df-buttons\">\n",
              "\n",
              "  <div class=\"colab-df-container\">\n",
              "    <button class=\"colab-df-convert\" onclick=\"convertToInteractive('df-76619cb2-a662-48ce-b969-c029684fcec0')\"\n",
              "            title=\"Convert this dataframe to an interactive table.\"\n",
              "            style=\"display:none;\">\n",
              "\n",
              "  <svg xmlns=\"http://www.w3.org/2000/svg\" height=\"24px\" viewBox=\"0 -960 960 960\">\n",
              "    <path d=\"M120-120v-720h720v720H120Zm60-500h600v-160H180v160Zm220 220h160v-160H400v160Zm0 220h160v-160H400v160ZM180-400h160v-160H180v160Zm440 0h160v-160H620v160ZM180-180h160v-160H180v160Zm440 0h160v-160H620v160Z\"/>\n",
              "  </svg>\n",
              "    </button>\n",
              "\n",
              "  <style>\n",
              "    .colab-df-container {\n",
              "      display:flex;\n",
              "      gap: 12px;\n",
              "    }\n",
              "\n",
              "    .colab-df-convert {\n",
              "      background-color: #E8F0FE;\n",
              "      border: none;\n",
              "      border-radius: 50%;\n",
              "      cursor: pointer;\n",
              "      display: none;\n",
              "      fill: #1967D2;\n",
              "      height: 32px;\n",
              "      padding: 0 0 0 0;\n",
              "      width: 32px;\n",
              "    }\n",
              "\n",
              "    .colab-df-convert:hover {\n",
              "      background-color: #E2EBFA;\n",
              "      box-shadow: 0px 1px 2px rgba(60, 64, 67, 0.3), 0px 1px 3px 1px rgba(60, 64, 67, 0.15);\n",
              "      fill: #174EA6;\n",
              "    }\n",
              "\n",
              "    .colab-df-buttons div {\n",
              "      margin-bottom: 4px;\n",
              "    }\n",
              "\n",
              "    [theme=dark] .colab-df-convert {\n",
              "      background-color: #3B4455;\n",
              "      fill: #D2E3FC;\n",
              "    }\n",
              "\n",
              "    [theme=dark] .colab-df-convert:hover {\n",
              "      background-color: #434B5C;\n",
              "      box-shadow: 0px 1px 3px 1px rgba(0, 0, 0, 0.15);\n",
              "      filter: drop-shadow(0px 1px 2px rgba(0, 0, 0, 0.3));\n",
              "      fill: #FFFFFF;\n",
              "    }\n",
              "  </style>\n",
              "\n",
              "    <script>\n",
              "      const buttonEl =\n",
              "        document.querySelector('#df-76619cb2-a662-48ce-b969-c029684fcec0 button.colab-df-convert');\n",
              "      buttonEl.style.display =\n",
              "        google.colab.kernel.accessAllowed ? 'block' : 'none';\n",
              "\n",
              "      async function convertToInteractive(key) {\n",
              "        const element = document.querySelector('#df-76619cb2-a662-48ce-b969-c029684fcec0');\n",
              "        const dataTable =\n",
              "          await google.colab.kernel.invokeFunction('convertToInteractive',\n",
              "                                                    [key], {});\n",
              "        if (!dataTable) return;\n",
              "\n",
              "        const docLinkHtml = 'Like what you see? Visit the ' +\n",
              "          '<a target=\"_blank\" href=https://colab.research.google.com/notebooks/data_table.ipynb>data table notebook</a>'\n",
              "          + ' to learn more about interactive tables.';\n",
              "        element.innerHTML = '';\n",
              "        dataTable['output_type'] = 'display_data';\n",
              "        await google.colab.output.renderOutput(dataTable, element);\n",
              "        const docLink = document.createElement('div');\n",
              "        docLink.innerHTML = docLinkHtml;\n",
              "        element.appendChild(docLink);\n",
              "      }\n",
              "    </script>\n",
              "  </div>\n",
              "\n",
              "\n",
              "<div id=\"df-a7fb773f-ad4d-4502-9080-57c21fe70492\">\n",
              "  <button class=\"colab-df-quickchart\" onclick=\"quickchart('df-a7fb773f-ad4d-4502-9080-57c21fe70492')\"\n",
              "            title=\"Suggest charts\"\n",
              "            style=\"display:none;\">\n",
              "\n",
              "<svg xmlns=\"http://www.w3.org/2000/svg\" height=\"24px\"viewBox=\"0 0 24 24\"\n",
              "     width=\"24px\">\n",
              "    <g>\n",
              "        <path d=\"M19 3H5c-1.1 0-2 .9-2 2v14c0 1.1.9 2 2 2h14c1.1 0 2-.9 2-2V5c0-1.1-.9-2-2-2zM9 17H7v-7h2v7zm4 0h-2V7h2v10zm4 0h-2v-4h2v4z\"/>\n",
              "    </g>\n",
              "</svg>\n",
              "  </button>\n",
              "\n",
              "<style>\n",
              "  .colab-df-quickchart {\n",
              "      --bg-color: #E8F0FE;\n",
              "      --fill-color: #1967D2;\n",
              "      --hover-bg-color: #E2EBFA;\n",
              "      --hover-fill-color: #174EA6;\n",
              "      --disabled-fill-color: #AAA;\n",
              "      --disabled-bg-color: #DDD;\n",
              "  }\n",
              "\n",
              "  [theme=dark] .colab-df-quickchart {\n",
              "      --bg-color: #3B4455;\n",
              "      --fill-color: #D2E3FC;\n",
              "      --hover-bg-color: #434B5C;\n",
              "      --hover-fill-color: #FFFFFF;\n",
              "      --disabled-bg-color: #3B4455;\n",
              "      --disabled-fill-color: #666;\n",
              "  }\n",
              "\n",
              "  .colab-df-quickchart {\n",
              "    background-color: var(--bg-color);\n",
              "    border: none;\n",
              "    border-radius: 50%;\n",
              "    cursor: pointer;\n",
              "    display: none;\n",
              "    fill: var(--fill-color);\n",
              "    height: 32px;\n",
              "    padding: 0;\n",
              "    width: 32px;\n",
              "  }\n",
              "\n",
              "  .colab-df-quickchart:hover {\n",
              "    background-color: var(--hover-bg-color);\n",
              "    box-shadow: 0 1px 2px rgba(60, 64, 67, 0.3), 0 1px 3px 1px rgba(60, 64, 67, 0.15);\n",
              "    fill: var(--button-hover-fill-color);\n",
              "  }\n",
              "\n",
              "  .colab-df-quickchart-complete:disabled,\n",
              "  .colab-df-quickchart-complete:disabled:hover {\n",
              "    background-color: var(--disabled-bg-color);\n",
              "    fill: var(--disabled-fill-color);\n",
              "    box-shadow: none;\n",
              "  }\n",
              "\n",
              "  .colab-df-spinner {\n",
              "    border: 2px solid var(--fill-color);\n",
              "    border-color: transparent;\n",
              "    border-bottom-color: var(--fill-color);\n",
              "    animation:\n",
              "      spin 1s steps(1) infinite;\n",
              "  }\n",
              "\n",
              "  @keyframes spin {\n",
              "    0% {\n",
              "      border-color: transparent;\n",
              "      border-bottom-color: var(--fill-color);\n",
              "      border-left-color: var(--fill-color);\n",
              "    }\n",
              "    20% {\n",
              "      border-color: transparent;\n",
              "      border-left-color: var(--fill-color);\n",
              "      border-top-color: var(--fill-color);\n",
              "    }\n",
              "    30% {\n",
              "      border-color: transparent;\n",
              "      border-left-color: var(--fill-color);\n",
              "      border-top-color: var(--fill-color);\n",
              "      border-right-color: var(--fill-color);\n",
              "    }\n",
              "    40% {\n",
              "      border-color: transparent;\n",
              "      border-right-color: var(--fill-color);\n",
              "      border-top-color: var(--fill-color);\n",
              "    }\n",
              "    60% {\n",
              "      border-color: transparent;\n",
              "      border-right-color: var(--fill-color);\n",
              "    }\n",
              "    80% {\n",
              "      border-color: transparent;\n",
              "      border-right-color: var(--fill-color);\n",
              "      border-bottom-color: var(--fill-color);\n",
              "    }\n",
              "    90% {\n",
              "      border-color: transparent;\n",
              "      border-bottom-color: var(--fill-color);\n",
              "    }\n",
              "  }\n",
              "</style>\n",
              "\n",
              "  <script>\n",
              "    async function quickchart(key) {\n",
              "      const quickchartButtonEl =\n",
              "        document.querySelector('#' + key + ' button');\n",
              "      quickchartButtonEl.disabled = true;  // To prevent multiple clicks.\n",
              "      quickchartButtonEl.classList.add('colab-df-spinner');\n",
              "      try {\n",
              "        const charts = await google.colab.kernel.invokeFunction(\n",
              "            'suggestCharts', [key], {});\n",
              "      } catch (error) {\n",
              "        console.error('Error during call to suggestCharts:', error);\n",
              "      }\n",
              "      quickchartButtonEl.classList.remove('colab-df-spinner');\n",
              "      quickchartButtonEl.classList.add('colab-df-quickchart-complete');\n",
              "    }\n",
              "    (() => {\n",
              "      let quickchartButtonEl =\n",
              "        document.querySelector('#df-a7fb773f-ad4d-4502-9080-57c21fe70492 button');\n",
              "      quickchartButtonEl.style.display =\n",
              "        google.colab.kernel.accessAllowed ? 'block' : 'none';\n",
              "    })();\n",
              "  </script>\n",
              "</div>\n",
              "\n",
              "    </div>\n",
              "  </div>\n"
            ],
            "application/vnd.google.colaboratory.intrinsic+json": {
              "type": "dataframe",
              "variable_name": "train",
              "summary": "{\n  \"name\": \"train\",\n  \"rows\": 25000,\n  \"fields\": [\n    {\n      \"column\": \"id\",\n      \"properties\": {\n        \"dtype\": \"string\",\n        \"num_unique_values\": 25000,\n        \"samples\": [\n          \"\\\"2570_3\\\"\",\n          \"\\\"4897_8\\\"\",\n          \"\\\"8485_3\\\"\"\n        ],\n        \"semantic_type\": \"\",\n        \"description\": \"\"\n      }\n    },\n    {\n      \"column\": \"sentiment\",\n      \"properties\": {\n        \"dtype\": \"number\",\n        \"std\": 0,\n        \"min\": 0,\n        \"max\": 1,\n        \"num_unique_values\": 2,\n        \"samples\": [\n          0,\n          1\n        ],\n        \"semantic_type\": \"\",\n        \"description\": \"\"\n      }\n    },\n    {\n      \"column\": \"review\",\n      \"properties\": {\n        \"dtype\": \"string\",\n        \"num_unique_values\": 24904,\n        \"samples\": [\n          \"\\\"This is not my favorite WIP (\\\\\\\"Women in Prison\\\\\\\"), but it is one of the most famous films in the sub-genre. It is was produced by Roger Corman, who at this point had already produced a few WIPs. It is obvious that the film tries to play with the established formula. The movie takes place in an USA prison, not in a \\\\\\\"banana republic\\\\\\\" like most WIP films. I'm not sure if that was a wise move, but it is an acceptable change of pace. Writer-director Demme really gets into his job, always digging for new ways to present a familiar scenario. In fact, he is a little too ambitious for his own good. The filmmaker creates a few surreal dream sequences that are borderline pretentious but it is fun to see how hard he tries to put this film above your average chicks-in-chains flick. But do not worry, Demme still operates within the parameters of the sub-genre. There is plenty of nudity and violence, something that will satisfy hardcore fans. The film is a little slow, but it is very entertaining. The cast is good. Roberta Collins is a WIP veteran, so she does not need an introduction, and Barbara Steel is a hoot as the wheelchair-bound crazy warden. Pam Grier is sorely missed, though.\\\"\",\n          \"\\\"In 1972, after his wife left to go her own way, Elvis Presley began dating Linda Thompson. Miss Thompson, a good-humored, long haired, lovely, statuesque beauty queen, is charted to fill a void in Elvis' life. When Elvis' divorce became final, Linda was already in place as the legendary performer's live-in girlfriend and travel companion until 1976.<br /><br />This is a gaudy look at their love affair and companionship. Linda whole-heartedly tending to her lover's needs and desires. And even putting up with his swallowing medications by the handful and introducing her to her own love affair with valium. At times this movie is harsh and dark of heart; a very unattractive look at the 'King' and his queen.<br /><br />Don Johnson is absolutely awful as Elvis. Over acting to the hilt is not attractive. Stephanie Zimbalist lacks the classiness of Linda, but does the job pretty well. Supporting cast includes: John Crawford, Ruta Lee, and Rick Lenz. Watching this twice is more than enough for me, but don't let this review stop you from checking it out. For most Elvis fans that I have conferred with, this is not a favored presentation.\\\"\"\n        ],\n        \"semantic_type\": \"\",\n        \"description\": \"\"\n      }\n    }\n  ]\n}"
            }
          },
          "metadata": {},
          "execution_count": 7
        }
      ],
      "source": [
        "train.head()"
      ]
    },
    {
      "cell_type": "code",
      "execution_count": 8,
      "metadata": {
        "id": "MpJQn9BCcndl",
        "colab": {
          "base_uri": "https://localhost:8080/"
        },
        "outputId": "51bd18e1-d73a-4893-c6a6-12e18903ed3b"
      },
      "outputs": [
        {
          "output_type": "stream",
          "name": "stdout",
          "text": [
            "<class 'pandas.core.frame.DataFrame'>\n",
            "RangeIndex: 25000 entries, 0 to 24999\n",
            "Data columns (total 2 columns):\n",
            " #   Column  Non-Null Count  Dtype \n",
            "---  ------  --------------  ----- \n",
            " 0   id      25000 non-null  object\n",
            " 1   review  25000 non-null  object\n",
            "dtypes: object(2)\n",
            "memory usage: 390.8+ KB\n"
          ]
        }
      ],
      "source": [
        "test.info()"
      ]
    },
    {
      "cell_type": "code",
      "execution_count": 9,
      "metadata": {
        "id": "cx2rvox8dHNa",
        "colab": {
          "base_uri": "https://localhost:8080/",
          "height": 206
        },
        "outputId": "1aa93048-5773-43e5-a648-e1cc5783545c"
      },
      "outputs": [
        {
          "output_type": "execute_result",
          "data": {
            "text/plain": [
              "           id                                             review\n",
              "0  \"12311_10\"  \"Naturally in a film who's main themes are of ...\n",
              "1    \"8348_2\"  \"This movie is a disaster within a disaster fi...\n",
              "2    \"5828_4\"  \"All in all, this is a movie for kids. We saw ...\n",
              "3    \"7186_2\"  \"Afraid of the Dark left me with the impressio...\n",
              "4   \"12128_7\"  \"A very accurate depiction of small time mob l..."
            ],
            "text/html": [
              "\n",
              "  <div id=\"df-23212bde-61f3-4df0-af55-7a34520cae23\" class=\"colab-df-container\">\n",
              "    <div>\n",
              "<style scoped>\n",
              "    .dataframe tbody tr th:only-of-type {\n",
              "        vertical-align: middle;\n",
              "    }\n",
              "\n",
              "    .dataframe tbody tr th {\n",
              "        vertical-align: top;\n",
              "    }\n",
              "\n",
              "    .dataframe thead th {\n",
              "        text-align: right;\n",
              "    }\n",
              "</style>\n",
              "<table border=\"1\" class=\"dataframe\">\n",
              "  <thead>\n",
              "    <tr style=\"text-align: right;\">\n",
              "      <th></th>\n",
              "      <th>id</th>\n",
              "      <th>review</th>\n",
              "    </tr>\n",
              "  </thead>\n",
              "  <tbody>\n",
              "    <tr>\n",
              "      <th>0</th>\n",
              "      <td>\"12311_10\"</td>\n",
              "      <td>\"Naturally in a film who's main themes are of ...</td>\n",
              "    </tr>\n",
              "    <tr>\n",
              "      <th>1</th>\n",
              "      <td>\"8348_2\"</td>\n",
              "      <td>\"This movie is a disaster within a disaster fi...</td>\n",
              "    </tr>\n",
              "    <tr>\n",
              "      <th>2</th>\n",
              "      <td>\"5828_4\"</td>\n",
              "      <td>\"All in all, this is a movie for kids. We saw ...</td>\n",
              "    </tr>\n",
              "    <tr>\n",
              "      <th>3</th>\n",
              "      <td>\"7186_2\"</td>\n",
              "      <td>\"Afraid of the Dark left me with the impressio...</td>\n",
              "    </tr>\n",
              "    <tr>\n",
              "      <th>4</th>\n",
              "      <td>\"12128_7\"</td>\n",
              "      <td>\"A very accurate depiction of small time mob l...</td>\n",
              "    </tr>\n",
              "  </tbody>\n",
              "</table>\n",
              "</div>\n",
              "    <div class=\"colab-df-buttons\">\n",
              "\n",
              "  <div class=\"colab-df-container\">\n",
              "    <button class=\"colab-df-convert\" onclick=\"convertToInteractive('df-23212bde-61f3-4df0-af55-7a34520cae23')\"\n",
              "            title=\"Convert this dataframe to an interactive table.\"\n",
              "            style=\"display:none;\">\n",
              "\n",
              "  <svg xmlns=\"http://www.w3.org/2000/svg\" height=\"24px\" viewBox=\"0 -960 960 960\">\n",
              "    <path d=\"M120-120v-720h720v720H120Zm60-500h600v-160H180v160Zm220 220h160v-160H400v160Zm0 220h160v-160H400v160ZM180-400h160v-160H180v160Zm440 0h160v-160H620v160ZM180-180h160v-160H180v160Zm440 0h160v-160H620v160Z\"/>\n",
              "  </svg>\n",
              "    </button>\n",
              "\n",
              "  <style>\n",
              "    .colab-df-container {\n",
              "      display:flex;\n",
              "      gap: 12px;\n",
              "    }\n",
              "\n",
              "    .colab-df-convert {\n",
              "      background-color: #E8F0FE;\n",
              "      border: none;\n",
              "      border-radius: 50%;\n",
              "      cursor: pointer;\n",
              "      display: none;\n",
              "      fill: #1967D2;\n",
              "      height: 32px;\n",
              "      padding: 0 0 0 0;\n",
              "      width: 32px;\n",
              "    }\n",
              "\n",
              "    .colab-df-convert:hover {\n",
              "      background-color: #E2EBFA;\n",
              "      box-shadow: 0px 1px 2px rgba(60, 64, 67, 0.3), 0px 1px 3px 1px rgba(60, 64, 67, 0.15);\n",
              "      fill: #174EA6;\n",
              "    }\n",
              "\n",
              "    .colab-df-buttons div {\n",
              "      margin-bottom: 4px;\n",
              "    }\n",
              "\n",
              "    [theme=dark] .colab-df-convert {\n",
              "      background-color: #3B4455;\n",
              "      fill: #D2E3FC;\n",
              "    }\n",
              "\n",
              "    [theme=dark] .colab-df-convert:hover {\n",
              "      background-color: #434B5C;\n",
              "      box-shadow: 0px 1px 3px 1px rgba(0, 0, 0, 0.15);\n",
              "      filter: drop-shadow(0px 1px 2px rgba(0, 0, 0, 0.3));\n",
              "      fill: #FFFFFF;\n",
              "    }\n",
              "  </style>\n",
              "\n",
              "    <script>\n",
              "      const buttonEl =\n",
              "        document.querySelector('#df-23212bde-61f3-4df0-af55-7a34520cae23 button.colab-df-convert');\n",
              "      buttonEl.style.display =\n",
              "        google.colab.kernel.accessAllowed ? 'block' : 'none';\n",
              "\n",
              "      async function convertToInteractive(key) {\n",
              "        const element = document.querySelector('#df-23212bde-61f3-4df0-af55-7a34520cae23');\n",
              "        const dataTable =\n",
              "          await google.colab.kernel.invokeFunction('convertToInteractive',\n",
              "                                                    [key], {});\n",
              "        if (!dataTable) return;\n",
              "\n",
              "        const docLinkHtml = 'Like what you see? Visit the ' +\n",
              "          '<a target=\"_blank\" href=https://colab.research.google.com/notebooks/data_table.ipynb>data table notebook</a>'\n",
              "          + ' to learn more about interactive tables.';\n",
              "        element.innerHTML = '';\n",
              "        dataTable['output_type'] = 'display_data';\n",
              "        await google.colab.output.renderOutput(dataTable, element);\n",
              "        const docLink = document.createElement('div');\n",
              "        docLink.innerHTML = docLinkHtml;\n",
              "        element.appendChild(docLink);\n",
              "      }\n",
              "    </script>\n",
              "  </div>\n",
              "\n",
              "\n",
              "<div id=\"df-c728a0a6-70f4-4c98-b0d1-728ded81f99f\">\n",
              "  <button class=\"colab-df-quickchart\" onclick=\"quickchart('df-c728a0a6-70f4-4c98-b0d1-728ded81f99f')\"\n",
              "            title=\"Suggest charts\"\n",
              "            style=\"display:none;\">\n",
              "\n",
              "<svg xmlns=\"http://www.w3.org/2000/svg\" height=\"24px\"viewBox=\"0 0 24 24\"\n",
              "     width=\"24px\">\n",
              "    <g>\n",
              "        <path d=\"M19 3H5c-1.1 0-2 .9-2 2v14c0 1.1.9 2 2 2h14c1.1 0 2-.9 2-2V5c0-1.1-.9-2-2-2zM9 17H7v-7h2v7zm4 0h-2V7h2v10zm4 0h-2v-4h2v4z\"/>\n",
              "    </g>\n",
              "</svg>\n",
              "  </button>\n",
              "\n",
              "<style>\n",
              "  .colab-df-quickchart {\n",
              "      --bg-color: #E8F0FE;\n",
              "      --fill-color: #1967D2;\n",
              "      --hover-bg-color: #E2EBFA;\n",
              "      --hover-fill-color: #174EA6;\n",
              "      --disabled-fill-color: #AAA;\n",
              "      --disabled-bg-color: #DDD;\n",
              "  }\n",
              "\n",
              "  [theme=dark] .colab-df-quickchart {\n",
              "      --bg-color: #3B4455;\n",
              "      --fill-color: #D2E3FC;\n",
              "      --hover-bg-color: #434B5C;\n",
              "      --hover-fill-color: #FFFFFF;\n",
              "      --disabled-bg-color: #3B4455;\n",
              "      --disabled-fill-color: #666;\n",
              "  }\n",
              "\n",
              "  .colab-df-quickchart {\n",
              "    background-color: var(--bg-color);\n",
              "    border: none;\n",
              "    border-radius: 50%;\n",
              "    cursor: pointer;\n",
              "    display: none;\n",
              "    fill: var(--fill-color);\n",
              "    height: 32px;\n",
              "    padding: 0;\n",
              "    width: 32px;\n",
              "  }\n",
              "\n",
              "  .colab-df-quickchart:hover {\n",
              "    background-color: var(--hover-bg-color);\n",
              "    box-shadow: 0 1px 2px rgba(60, 64, 67, 0.3), 0 1px 3px 1px rgba(60, 64, 67, 0.15);\n",
              "    fill: var(--button-hover-fill-color);\n",
              "  }\n",
              "\n",
              "  .colab-df-quickchart-complete:disabled,\n",
              "  .colab-df-quickchart-complete:disabled:hover {\n",
              "    background-color: var(--disabled-bg-color);\n",
              "    fill: var(--disabled-fill-color);\n",
              "    box-shadow: none;\n",
              "  }\n",
              "\n",
              "  .colab-df-spinner {\n",
              "    border: 2px solid var(--fill-color);\n",
              "    border-color: transparent;\n",
              "    border-bottom-color: var(--fill-color);\n",
              "    animation:\n",
              "      spin 1s steps(1) infinite;\n",
              "  }\n",
              "\n",
              "  @keyframes spin {\n",
              "    0% {\n",
              "      border-color: transparent;\n",
              "      border-bottom-color: var(--fill-color);\n",
              "      border-left-color: var(--fill-color);\n",
              "    }\n",
              "    20% {\n",
              "      border-color: transparent;\n",
              "      border-left-color: var(--fill-color);\n",
              "      border-top-color: var(--fill-color);\n",
              "    }\n",
              "    30% {\n",
              "      border-color: transparent;\n",
              "      border-left-color: var(--fill-color);\n",
              "      border-top-color: var(--fill-color);\n",
              "      border-right-color: var(--fill-color);\n",
              "    }\n",
              "    40% {\n",
              "      border-color: transparent;\n",
              "      border-right-color: var(--fill-color);\n",
              "      border-top-color: var(--fill-color);\n",
              "    }\n",
              "    60% {\n",
              "      border-color: transparent;\n",
              "      border-right-color: var(--fill-color);\n",
              "    }\n",
              "    80% {\n",
              "      border-color: transparent;\n",
              "      border-right-color: var(--fill-color);\n",
              "      border-bottom-color: var(--fill-color);\n",
              "    }\n",
              "    90% {\n",
              "      border-color: transparent;\n",
              "      border-bottom-color: var(--fill-color);\n",
              "    }\n",
              "  }\n",
              "</style>\n",
              "\n",
              "  <script>\n",
              "    async function quickchart(key) {\n",
              "      const quickchartButtonEl =\n",
              "        document.querySelector('#' + key + ' button');\n",
              "      quickchartButtonEl.disabled = true;  // To prevent multiple clicks.\n",
              "      quickchartButtonEl.classList.add('colab-df-spinner');\n",
              "      try {\n",
              "        const charts = await google.colab.kernel.invokeFunction(\n",
              "            'suggestCharts', [key], {});\n",
              "      } catch (error) {\n",
              "        console.error('Error during call to suggestCharts:', error);\n",
              "      }\n",
              "      quickchartButtonEl.classList.remove('colab-df-spinner');\n",
              "      quickchartButtonEl.classList.add('colab-df-quickchart-complete');\n",
              "    }\n",
              "    (() => {\n",
              "      let quickchartButtonEl =\n",
              "        document.querySelector('#df-c728a0a6-70f4-4c98-b0d1-728ded81f99f button');\n",
              "      quickchartButtonEl.style.display =\n",
              "        google.colab.kernel.accessAllowed ? 'block' : 'none';\n",
              "    })();\n",
              "  </script>\n",
              "</div>\n",
              "\n",
              "    </div>\n",
              "  </div>\n"
            ],
            "application/vnd.google.colaboratory.intrinsic+json": {
              "type": "dataframe",
              "variable_name": "test",
              "summary": "{\n  \"name\": \"test\",\n  \"rows\": 25000,\n  \"fields\": [\n    {\n      \"column\": \"id\",\n      \"properties\": {\n        \"dtype\": \"string\",\n        \"num_unique_values\": 25000,\n        \"samples\": [\n          \"\\\"10610_7\\\"\",\n          \"\\\"10557_8\\\"\",\n          \"\\\"3118_9\\\"\"\n        ],\n        \"semantic_type\": \"\",\n        \"description\": \"\"\n      }\n    },\n    {\n      \"column\": \"review\",\n      \"properties\": {\n        \"dtype\": \"string\",\n        \"num_unique_values\": 24801,\n        \"samples\": [\n          \"\\\"(Spoilers more than likely... nothing really important you couldn't have figured out yourselves) Yeah, it's really weird. I rented it at a Blockbuster for the reason it had absolutely NO description of the movie on the back of the box, only a list of the bands that had songs in it. But after that, I had a dikens of a time finding it, even here on IMDB. I kept confusing it with \\\\\\\"Night of the Demons,\\\\\\\" but, you know, they're basically the same thing. <br /><br />The parts I loved most about this movie was the whole thing in the garage. That black gym guy was hilarious the way he screamed ALL the time. Even when screaming wasn't really necessary, he'd let out a \\\\\\\"LISTEN UP NOW!! BLOCK THE DOOR WITH CARS!!!!\\\\\\\" and so, they'd run cars head on into other cars. But, then he got balls and shafted by a zombie with a broom stick I believe it was. The other part that kinda caught my attention was the part with the crash outside the building with the guys that they girl didn't want to come over... To what significant aspect of the movie did that give us? What was it? Why was it there? Why did the movie end with a guy breaking the TV's in a studio? I saw that there was a zombie running towards the screen, but he was kinda far away. I mean, he could have just turned the TV off. Yes, this movie was shot on a whim and yes, I hated it. Good day...\\\"\",\n          \"\\\"\\\\\\\"Classe tous risques\\\\\\\" feels like the granddaddy of \\\\\\\"The Sopranos\\\\\\\" in mixing the criminal and the domestic, and of the buddy film to feel as contemporary as \\\\\\\"Reservoir Dogs.\\\\\\\"<br /><br />Even as these gangsters are affectionately entangled with wives, children, lovers and parents, they are coldly ruthless, and we are constantly reminded they are, no matter what warm situation we also see them in. They can tousle a kid's hair - and then shoot a threat in cold blood. The key is loyalty, and the male camaraderie is beautifully conveyed, without ethnic or class stereotypes, even as their web of past obligations and pay backs narrows into suspicion and paranoia, as the old gang is in various stages of parole, retirement, out on bail or into new, less profitable ventures. An intense accusation is of sending a stranger to perform an old escape scenario. It is a high point of emotion when a wife is told off that she's not the one the gangster is friends with, while virtually the only time we hear music on the soundtrack is when he recalls his wife.<br /><br />Streetscapes in Italy and France are marvelously used, in blinding daylight to dark water and highways, from the opening set up of a pair of brazen robbers -- who are traveling with one's wife and two kids. Rugged, craggy Lino Ventura captures the screen immediately as the criminal dad. And the second thug is clearly a casually avuncular presence in their lives, as they smoothly coordinate the theft and escape, in cars, buses, on boats and motorcycles, in easy tandem. This is not the clich\\u00e9 crusty old guy softened with the big-eyed orphan; these are their jobs and their families and they intersect in horrific ways.<br /><br />The film pulls no punches in unexpectedly killing off characters, directly and as collateral damage, and challenging our sympathy for them, right through to the unsentimental end, which is probably why there was never an American remake. <br /><br />It seems so fresh that it's not until Jean-Paul Belmondo enters almost a third of the way into the film, looking so insouciant as a young punk, that one realizes that this is from 1960. Sultry Sandra Milo has smart and terrific chemistry with him, from an ambulance to an elevator to a hospital bed.<br /><br />While the Film Forum was showing a new 35 mm print with newly translated subtitles, it was not pristine. The program notes explained that the title refers to a kind of insurance policy and is pun on \\\\\\\"tourist class.\\\\\\\"\\\"\",\n          \"\\\"*Warning: 1 tiny inconsequential spoiler* You're right. This was no Bridges of Madison County. As soon as the lonely woman and Richard Gere checked into the big empty hotel, it was a foregone conclusion something kind of fun would happen. The question is: how will it come about? The answer is some stupid connect-the-dots story not worth sitting through. In one supposed bonding experience, they get drunk and clean out the cupboard of old cans.(That was my spoiler.) And the next day they put them back. LOL It wasn't compelling AT ALL. I'm an old married lady like the one in the movie and MY friendships are more interesting than HER romance with Richard Gere. LOL . . . It did have that advantage. You walk away and go, oh brother . . . even I could have written something more believable than that. I guess my life isn't quite as dull as I thought it was if I can scoff at a romance with Richard Gere. LOL! And that friend inherited that totally contemporary, probably computer-generated mansion, resting half in the ocean, from her GRANDMOTHER who built it AFTER THE CIVIL WAR??? Maybe her grandmother is Oprah and this was WAY after the Civil War? And yes, WHERE WAS THE EMAIL? What alternative universe do these people live in? I never want to see another movie that pretends we don't have email, and facebook,and texting. And OK, maybe these people have a horrible aversion to delivering news over the phone, but don't ask me to believe anyone in this age of instant communication that someone just drops into your life without calling first.\\\"\"\n        ],\n        \"semantic_type\": \"\",\n        \"description\": \"\"\n      }\n    }\n  ]\n}"
            }
          },
          "metadata": {},
          "execution_count": 9
        }
      ],
      "source": [
        "test.head()"
      ]
    },
    {
      "cell_type": "markdown",
      "metadata": {
        "id": "QpNrm1q0d-tj"
      },
      "source": [
        "긍정, 부정 label은 각각 12,500개로 동일하다는 것을 알 수 있습니다."
      ]
    },
    {
      "cell_type": "code",
      "execution_count": 10,
      "metadata": {
        "id": "G0lrO8hqd6jm",
        "colab": {
          "base_uri": "https://localhost:8080/",
          "height": 178
        },
        "outputId": "1fe46034-8b98-4355-898a-f5fe9828125c"
      },
      "outputs": [
        {
          "output_type": "execute_result",
          "data": {
            "text/plain": [
              "sentiment\n",
              "1    12500\n",
              "0    12500\n",
              "Name: count, dtype: int64"
            ],
            "text/html": [
              "<div>\n",
              "<style scoped>\n",
              "    .dataframe tbody tr th:only-of-type {\n",
              "        vertical-align: middle;\n",
              "    }\n",
              "\n",
              "    .dataframe tbody tr th {\n",
              "        vertical-align: top;\n",
              "    }\n",
              "\n",
              "    .dataframe thead th {\n",
              "        text-align: right;\n",
              "    }\n",
              "</style>\n",
              "<table border=\"1\" class=\"dataframe\">\n",
              "  <thead>\n",
              "    <tr style=\"text-align: right;\">\n",
              "      <th></th>\n",
              "      <th>count</th>\n",
              "    </tr>\n",
              "    <tr>\n",
              "      <th>sentiment</th>\n",
              "      <th></th>\n",
              "    </tr>\n",
              "  </thead>\n",
              "  <tbody>\n",
              "    <tr>\n",
              "      <th>1</th>\n",
              "      <td>12500</td>\n",
              "    </tr>\n",
              "    <tr>\n",
              "      <th>0</th>\n",
              "      <td>12500</td>\n",
              "    </tr>\n",
              "  </tbody>\n",
              "</table>\n",
              "</div><br><label><b>dtype:</b> int64</label>"
            ]
          },
          "metadata": {},
          "execution_count": 10
        }
      ],
      "source": [
        "train['sentiment'].value_counts()"
      ]
    },
    {
      "cell_type": "markdown",
      "metadata": {
        "id": "6yE8JhkfmRnx"
      },
      "source": [
        "# 4. Text Preprocessing"
      ]
    },
    {
      "cell_type": "markdown",
      "metadata": {
        "id": "nJC79JF7mcvF"
      },
      "source": [
        "## 4-1. html 태그 제거\n",
        "첫번째 review를 보면 특이점이 있습니다. 바로 `<br>`이라는 html 줄바꿈 태그가 보인다는 점입니다. 첫번째 review뿐만 아니라 다른 review들에도 이러한 태그가 존재할 가능성이 있습니다. 따라서 `BeautifulSoup`를 이용하여 분석에 방해가 되는 태그들은 지워주도록 합시다."
      ]
    },
    {
      "cell_type": "code",
      "execution_count": 6,
      "metadata": {
        "id": "lLjWY6fwkLrE",
        "colab": {
          "base_uri": "https://localhost:8080/",
          "height": 109
        },
        "outputId": "8a170805-8d16-45ae-dcda-f3fbd1801ab0"
      },
      "outputs": [
        {
          "output_type": "execute_result",
          "data": {
            "text/plain": [
              "'\"With all this stuff going down at the moment with MJ i\\'ve started listening to his music, watching the odd documentary here and there, watched The Wiz and watched Moonwalker again. Maybe i just want to get a certain insight into this guy who i thought was really cool in the eighties just to maybe make up my mind whether he is guilty or innocent. Moonwalker is part biography, part feature film which i remember going to see at the cinema when it was originally released. Some of it has subtle messages about MJ\\'s feeling towards the press and also the obvious message of drugs are bad m\\'kay.<br /><br />Visually impressive but of course this is all about Michael Jackson so unless you remotely like MJ in anyway then you are going to hate this and find it boring. Some may call MJ an egotist for consenting to the making of this movie BUT MJ and most of his fans would say that he made it for the fans which if true is really nice of him.<br /><br />The actual feature film bit when it finally starts is only on for 20 minutes or so excluding the Smooth Criminal sequence and Joe Pesci is convincing as a psychopathic all powerful drug lord. Why he wants MJ dead so bad is beyond me. Because MJ overheard his plans? Nah, Joe Pesci\\'s character ranted that he wanted people to know it is he who is supplying drugs etc so i dunno, maybe he just hates MJ\\'s music.<br /><br />Lots of cool things in this like MJ turning into a car and a robot and the whole Speed Demon sequence. Also, the director must have had the patience of a saint when it came to filming the kiddy Bad sequence as usually directors hate working with one kid let alone a whole bunch of them performing a complex dance scene.<br /><br />Bottom line, this movie is for people who like MJ on one level or another (which i think is most people). If not, then stay away. It does try and give off a wholesome message and ironically MJ\\'s bestest buddy in this movie is a girl! Michael Jackson is truly one of the most talented people ever to grace this planet but is he guilty? Well, with all the attention i\\'ve gave this subject....hmmm well i don\\'t know because people can be different behind closed doors, i know this for a fact. He is either an extremely nice but stupid guy or one of the most sickest liars. I hope he is not the latter.\"'"
            ],
            "application/vnd.google.colaboratory.intrinsic+json": {
              "type": "string"
            }
          },
          "metadata": {},
          "execution_count": 6
        }
      ],
      "source": [
        "train[\"review\"][0]"
      ]
    },
    {
      "cell_type": "code",
      "execution_count": 7,
      "metadata": {
        "id": "B3a1O8DqmuKY"
      },
      "outputs": [],
      "source": [
        "from bs4 import BeautifulSoup"
      ]
    },
    {
      "cell_type": "markdown",
      "metadata": {
        "id": "XZNH8Hz4oL0Y"
      },
      "source": [
        "위 리뷰를 soup 객체로 바꿔주면, html 태그를 제외하고 text만 온전히 추출하는 작업이 가능합니다. 이 기능을 해주는 것이 `get_text()`입니다. 첫번째 리뷰를 하나의 예시로 들어봅시다. 윗문장이 제거 전, 아래문장이 제거 후입니다.\n"
      ]
    },
    {
      "cell_type": "code",
      "execution_count": 8,
      "metadata": {
        "id": "rVCCMUyan9-j",
        "colab": {
          "base_uri": "https://localhost:8080/"
        },
        "outputId": "a99e18f2-988d-4346-b3f7-26581fe2d373"
      },
      "outputs": [
        {
          "output_type": "stream",
          "name": "stdout",
          "text": [
            "before deleting: \"With all this stuff going down at the moment with MJ i've started listening to his music, watching the odd documentary here and there, watched The Wiz and watched Moonwalker again. Maybe i just want to get a certain insight into this guy who i thought was really cool in the eighties just to maybe make up my mind whether he is guilty or innocent. Moonwalker is part biography, part feature film which i remember going to see at the cinema when it was originally released. Some of it has subtle messages about MJ's feeling towards the press and also the obvious message of drugs are bad m'kay.<br /><br />Visually impressive but of course this is all about Michael Jackson so unless you remotely like MJ in anyway then you are going to hate this and find it boring. Some may call MJ an egotist for consenting to the making of this movie BUT MJ and most of his fans would say that he made it for the fans which if true is really nice of him.<br /><br />The actual feature film bit when it finally starts is only on for 20 minutes or so excluding the Smooth Criminal sequence and Joe Pesci is convincing as a psychopathic all powerful drug lord. Why he wants MJ dead so bad is beyond me. Because MJ overheard his plans? Nah, Joe Pesci's character ranted that he wanted people to know it is he who is supplying drugs etc so i dunno, maybe he just hates MJ's music.<br /><br />Lots of cool things in this like MJ turning into a car and a robot and the whole Speed Demon sequence. Also, the director must have had the patience of a saint when it came to filming the kiddy Bad sequence as usually directors hate working with one kid let alone a whole bunch of them performing a complex dance scene.<br /><br />Bottom line, this movie is for people who like MJ on one level or another (which i think is most people). If not, then stay away. It does try and give off a wholesome message and ironically MJ's bestest buddy in this movie is a girl! Michael Jackson is truly one of the most talented people ever to grace this planet but is he guilty? Well, with all the attention i've gave this subject....hmmm well i don't know because people can be different behind closed doors, i know this for a fact. He is either an extremely nice but stupid guy or one of the most sickest liars. I hope he is not the latter.\"\n",
            "after deleting: \"With all this stuff going down at the moment with MJ i've started listening to his music, watching the odd documentary here and there, watched The Wiz and watched Moonwalker again. Maybe i just want to get a certain insight into this guy who i thought was really cool in the eighties just to maybe make up my mind whether he is guilty or innocent. Moonwalker is part biography, part feature film which i remember going to see at the cinema when it was originally released. Some of it has subtle messages about MJ's feeling towards the press and also the obvious message of drugs are bad m'kay.Visually impressive but of course this is all about Michael Jackson so unless you remotely like MJ in anyway then you are going to hate this and find it boring. Some may call MJ an egotist for consenting to the making of this movie BUT MJ and most of his fans would say that he made it for the fans which if true is really nice of him.The actual feature film bit when it finally starts is only on for 20 minutes or so excluding the Smooth Criminal sequence and Joe Pesci is convincing as a psychopathic all powerful drug lord. Why he wants MJ dead so bad is beyond me. Because MJ overheard his plans? Nah, Joe Pesci's character ranted that he wanted people to know it is he who is supplying drugs etc so i dunno, maybe he just hates MJ's music.Lots of cool things in this like MJ turning into a car and a robot and the whole Speed Demon sequence. Also, the director must have had the patience of a saint when it came to filming the kiddy Bad sequence as usually directors hate working with one kid let alone a whole bunch of them performing a complex dance scene.Bottom line, this movie is for people who like MJ on one level or another (which i think is most people). If not, then stay away. It does try and give off a wholesome message and ironically MJ's bestest buddy in this movie is a girl! Michael Jackson is truly one of the most talented people ever to grace this planet but is he guilty? Well, with all the attention i've gave this subject....hmmm well i don't know because people can be different behind closed doors, i know this for a fact. He is either an extremely nice but stupid guy or one of the most sickest liars. I hope he is not the latter.\"\n"
          ]
        }
      ],
      "source": [
        "example1 = BeautifulSoup(train[\"review\"][0])\n",
        "example1 = example1.get_text()\n",
        "print(\"before deleting:\", train['review'][0])\n",
        "print(\"after deleting:\", example1)"
      ]
    },
    {
      "cell_type": "markdown",
      "metadata": {
        "id": "yla2iSdpp90f"
      },
      "source": [
        "## 4-2. 정규표현식(re)으로 알파벳만 남기기\n",
        "\n",
        "html 태그는 제거했지만, 각종 특수문자가 아직도 남아있습니다. 이는 분석에 불필요한 정보입니다. 알파벳만 남기고 싶다면 정규표현식(regular expression)을 사용하면 됩니다.\n",
        "\n",
        "'알파벳이 아닌 것'을 '공백'으로 대체하면 될 것입니다. 이러한 기능을 가진 함수는 `re.sub(대체할 패턴, 대체 이후, 대체할 범위)`입니다.\n"
      ]
    },
    {
      "cell_type": "markdown",
      "metadata": {
        "id": "vx8JafBlnO0V"
      },
      "source": [
        "### **Q1) 아래 letters_only를 통해 example1에서 알파벳을 제외한 나머지 글자를 알파벳만 남길수 있도록 공백으로 대체하세요**"
      ]
    },
    {
      "cell_type": "code",
      "execution_count": 9,
      "metadata": {
        "id": "7E8ESp11rTQq"
      },
      "outputs": [],
      "source": [
        "import re\n",
        "'''\n",
        "문제 1: 아래 letters_only를 통해 example1에서 알파벳을 제외한 나머지 글자를 알파벳만 남길수 있도록 공백으로 대체하세요.\n",
        "'''\n",
        "letters_only = re.sub(r'[^a-zA-Z]', ' ', example1) ## 코드 채우기 문제입니다."
      ]
    },
    {
      "cell_type": "code",
      "execution_count": 10,
      "metadata": {
        "id": "6wzM3VELMrHF",
        "colab": {
          "base_uri": "https://localhost:8080/",
          "height": 109
        },
        "outputId": "8322d58c-aebe-4673-9bab-52c2b96574a9"
      },
      "outputs": [
        {
          "output_type": "execute_result",
          "data": {
            "text/plain": [
              "'\"With all this stuff going down at the moment with MJ i\\'ve started listening to his music, watching the odd documentary here and there, watched The Wiz and watched Moonwalker again. Maybe i just want to get a certain insight into this guy who i thought was really cool in the eighties just to maybe make up my mind whether he is guilty or innocent. Moonwalker is part biography, part feature film which i remember going to see at the cinema when it was originally released. Some of it has subtle messages about MJ\\'s feeling towards the press and also the obvious message of drugs are bad m\\'kay.<br /><br />Visually impressive but of course this is all about Michael Jackson so unless you remotely like MJ in anyway then you are going to hate this and find it boring. Some may call MJ an egotist for consenting to the making of this movie BUT MJ and most of his fans would say that he made it for the fans which if true is really nice of him.<br /><br />The actual feature film bit when it finally starts is only on for 20 minutes or so excluding the Smooth Criminal sequence and Joe Pesci is convincing as a psychopathic all powerful drug lord. Why he wants MJ dead so bad is beyond me. Because MJ overheard his plans? Nah, Joe Pesci\\'s character ranted that he wanted people to know it is he who is supplying drugs etc so i dunno, maybe he just hates MJ\\'s music.<br /><br />Lots of cool things in this like MJ turning into a car and a robot and the whole Speed Demon sequence. Also, the director must have had the patience of a saint when it came to filming the kiddy Bad sequence as usually directors hate working with one kid let alone a whole bunch of them performing a complex dance scene.<br /><br />Bottom line, this movie is for people who like MJ on one level or another (which i think is most people). If not, then stay away. It does try and give off a wholesome message and ironically MJ\\'s bestest buddy in this movie is a girl! Michael Jackson is truly one of the most talented people ever to grace this planet but is he guilty? Well, with all the attention i\\'ve gave this subject....hmmm well i don\\'t know because people can be different behind closed doors, i know this for a fact. He is either an extremely nice but stupid guy or one of the most sickest liars. I hope he is not the latter.\"'"
            ],
            "application/vnd.google.colaboratory.intrinsic+json": {
              "type": "string"
            }
          },
          "metadata": {},
          "execution_count": 10
        }
      ],
      "source": [
        "train['review'][0]"
      ]
    },
    {
      "cell_type": "code",
      "execution_count": 11,
      "metadata": {
        "id": "6ASeh-cdwfFd",
        "colab": {
          "base_uri": "https://localhost:8080/",
          "height": 109
        },
        "outputId": "1895b6a4-3376-46bf-c313-ce723bf89aed"
      },
      "outputs": [
        {
          "output_type": "execute_result",
          "data": {
            "text/plain": [
              "' With all this stuff going down at the moment with MJ i ve started listening to his music  watching the odd documentary here and there  watched The Wiz and watched Moonwalker again  Maybe i just want to get a certain insight into this guy who i thought was really cool in the eighties just to maybe make up my mind whether he is guilty or innocent  Moonwalker is part biography  part feature film which i remember going to see at the cinema when it was originally released  Some of it has subtle messages about MJ s feeling towards the press and also the obvious message of drugs are bad m kay Visually impressive but of course this is all about Michael Jackson so unless you remotely like MJ in anyway then you are going to hate this and find it boring  Some may call MJ an egotist for consenting to the making of this movie BUT MJ and most of his fans would say that he made it for the fans which if true is really nice of him The actual feature film bit when it finally starts is only on for    minutes or so excluding the Smooth Criminal sequence and Joe Pesci is convincing as a psychopathic all powerful drug lord  Why he wants MJ dead so bad is beyond me  Because MJ overheard his plans  Nah  Joe Pesci s character ranted that he wanted people to know it is he who is supplying drugs etc so i dunno  maybe he just hates MJ s music Lots of cool things in this like MJ turning into a car and a robot and the whole Speed Demon sequence  Also  the director must have had the patience of a saint when it came to filming the kiddy Bad sequence as usually directors hate working with one kid let alone a whole bunch of them performing a complex dance scene Bottom line  this movie is for people who like MJ on one level or another  which i think is most people   If not  then stay away  It does try and give off a wholesome message and ironically MJ s bestest buddy in this movie is a girl  Michael Jackson is truly one of the most talented people ever to grace this planet but is he guilty  Well  with all the attention i ve gave this subject    hmmm well i don t know because people can be different behind closed doors  i know this for a fact  He is either an extremely nice but stupid guy or one of the most sickest liars  I hope he is not the latter  '"
            ],
            "application/vnd.google.colaboratory.intrinsic+json": {
              "type": "string"
            }
          },
          "metadata": {},
          "execution_count": 11
        }
      ],
      "source": [
        "letters_only"
      ]
    },
    {
      "cell_type": "markdown",
      "metadata": {
        "id": "t-4ko6icut8K"
      },
      "source": [
        "## 4-3. 토큰화(Tokenizing)\n",
        "\n",
        "토큰(token)은 의미를 갖는 최소 분석 단위입니다. **토큰화(tokenizing)** 는 corpus 덩어리를 작은 토큰 단위로 쪼개어주는 작업입니다. 영어에서는 대체로 띄어쓰기를 기준으로 토큰화를 합니다.\n",
        "\n",
        "즉 아래처럼 `split()` 함수를 써주기만 하면 띄어쓰기(단어) 단위로 토큰화가 진행될 것입니다. 아래 예시를 통해 하나의 문장에서 437개의 단어로 토큰화된 것을 확인할 수 있습니다.\n",
        "\n",
        "`lower_case` 함수로 소문자로 변환하는 이유는 무엇일까요? 대문자와 소문자는 다른 단어로 구분되기에 이를 그대로 두면 복잡성을 야기할 수 있습니다. 따라서 단어집합 크기를 최대한 줄이기 위해 대소문자를 통합하는 것입니다.\n",
        "\n",
        "물론 무작정 소문자로 통합하는 것도 지양해야하는 것이, 미국을 뜻하는 US와 우리를 뜻하는 us는 엄밀히 다르기 때문입니다."
      ]
    },
    {
      "cell_type": "code",
      "execution_count": 12,
      "metadata": {
        "id": "t5t8blL9vYjK",
        "colab": {
          "base_uri": "https://localhost:8080/"
        },
        "outputId": "48b53cf9-156d-4bba-89e6-e5f5f780c592"
      },
      "outputs": [
        {
          "output_type": "stream",
          "name": "stdout",
          "text": [
            "토큰화 이후 생성된 토큰(단어) 개수:  437\n"
          ]
        }
      ],
      "source": [
        "lower_case = letters_only.lower()\n",
        "token_words = lower_case.split()\n",
        "print(\"토큰화 이후 생성된 토큰(단어) 개수: \",len(token_words))"
      ]
    },
    {
      "cell_type": "markdown",
      "metadata": {
        "id": "ka2YcU-jxjmM"
      },
      "source": [
        "참고) nltk와 케라스에서 토큰화를 수행해주는 도구들을 제공합니다. 이 도구들은 아포스트로피가 들어간 단어들을 지혜롭게 토큰화해줍니다. 본 과제에서는 앞서 정규표현식으로 아포스트로피를 모두 제거했기에 굳이 아래 도구들을 사용하지 않고 `split()`로만 토큰화를 수행했습니다."
      ]
    },
    {
      "cell_type": "code",
      "execution_count": null,
      "metadata": {
        "id": "IUehvA5owQjT"
      },
      "outputs": [],
      "source": [
        "# from nltk.tokenize import word_tokenize\n",
        "# word_tokenize(lower_case)\n",
        "# from nltk.tokenize import WordPunctTokenizer\n",
        "# WordPunctTokenizer().tokenize(lower_case)\n",
        "# from tensorflow.keras.preprocessing.text import text_to_word_sequence\n",
        "# text_to_word_sequence(lower_case)"
      ]
    },
    {
      "cell_type": "markdown",
      "metadata": {
        "id": "ehpETGMay9Ih"
      },
      "source": [
        "## 4-4. 불용어(Stopword) 제거\n",
        "\n",
        "단어를 기준으로 토큰화를 완료했습니다. 이제 이 단어들 중에서 무의미한 것들을 제거하는 작업이 필요합니다. 예컨대 I, we, you, our 등 굉장히 자주 등장하지만 분석에서 크게 중요하지 않은 단어들을 무의미한 단어로 볼 수 있습니다.\n",
        "\n",
        "이처럼 무의미한 단어들을 **불용어(Stopword)** 라고 부릅니다.\n",
        "\n",
        "`nltk`에서는 영어의 불용어들을 제공해줍니다. 내장된 불용어의 개수는 179개입니다. 예시 리뷰에서 이 불용어들을 제거해주고 나니 437개였던 토큰이 219개로 확 줄어들었습니다."
      ]
    },
    {
      "cell_type": "code",
      "execution_count": 13,
      "metadata": {
        "id": "Hl8DY4Bvy8Y4",
        "colab": {
          "base_uri": "https://localhost:8080/"
        },
        "outputId": "c8683c04-d715-462b-993b-ac8d91638c7e"
      },
      "outputs": [
        {
          "output_type": "stream",
          "name": "stderr",
          "text": [
            "[nltk_data] Downloading package stopwords to /root/nltk_data...\n",
            "[nltk_data]   Package stopwords is already up-to-date!\n"
          ]
        },
        {
          "output_type": "execute_result",
          "data": {
            "text/plain": [
              "True"
            ]
          },
          "metadata": {},
          "execution_count": 13
        }
      ],
      "source": [
        "import nltk\n",
        "nltk.download(\"stopwords\")"
      ]
    },
    {
      "cell_type": "code",
      "execution_count": 14,
      "metadata": {
        "id": "SSW8hVvE0vKD",
        "colab": {
          "base_uri": "https://localhost:8080/"
        },
        "outputId": "aaf83c4c-9431-4b06-eb6d-02897d42dcd0"
      },
      "outputs": [
        {
          "output_type": "stream",
          "name": "stdout",
          "text": [
            "nltk에 내장된 불용어 개수:  179\n",
            "불용어 예시:  ['i', 'me', 'my', 'myself', 'we', 'our', 'ours', 'ourselves', 'you', \"you're\"]\n",
            "예시 review에서 불용어 제거하고 남은 토큰 개수:  219\n"
          ]
        }
      ],
      "source": [
        "from nltk.corpus import stopwords\n",
        "stopwords_list = stopwords.words('english')\n",
        "print(\"nltk에 내장된 불용어 개수: \", len(stopwords_list))\n",
        "print(\"불용어 예시: \", stopwords_list[:10])\n",
        "non_stopwords = [w for w in token_words if not w in stopwords_list]\n",
        "print(\"예시 review에서 불용어 제거하고 남은 토큰 개수: \",len(non_stopwords))"
      ]
    },
    {
      "cell_type": "markdown",
      "metadata": {
        "id": "JEMKx3zy8jy-"
      },
      "source": [
        "## 4-5. 어간 추출(Stemming)\n",
        "\n",
        "nltk에선 단어에서 어간을 추출해주는 도구를 제공합니다. 하지만 이 어간 추출의 작업은 정확히 어간만 추출하는 것이 아니라 정해진 규칙에 따라 임의로 어미를 떼어놓는 작업이기에 100% 정확하게 어간만 추출하지는 못합니다.\n",
        "\n",
        "nltk의 포터 알고리즘의 규칙은 다음과 같습니다.\n",
        "- ALIZE → AL\n",
        "- ANCE → 제거\n",
        "- ICAL → IC\n",
        "\n",
        "이라는 규칙에 따라 어간을 추출합니다.\n",
        "\n",
        "예시를 들어보면, 아래와 같은 어간 추출을 합니다.\n",
        "\n",
        "- formalize → formal\n",
        "- allowance → allow\n",
        "- electricical → electric\n",
        "\n",
        "출처: 딥러닝을 이용한 자연어 처리 입문 위키독스(https://wikidocs.net/21707)"
      ]
    },
    {
      "cell_type": "code",
      "execution_count": 15,
      "metadata": {
        "id": "qu-L6rueGhEq"
      },
      "outputs": [],
      "source": [
        "from nltk.stem import PorterStemmer\n",
        "porter_stemmer = PorterStemmer()\n",
        "stemmed_words = [porter_stemmer.stem(w) for w in non_stopwords]"
      ]
    },
    {
      "cell_type": "markdown",
      "metadata": {
        "id": "VbeDGzdNKdlm"
      },
      "source": [
        "## 4-6. 표제어 추출(Lemmatization)\n",
        "\n",
        "표제어 추출도 어간 추출과 마찬가지의 역할을 수행한다. 이 둘은 본질적인 차이를 갖는데, Stemming은 단어 그 자체만을 고려하지만 Lemmatization은 그 단어가 문장 속에서 어떤 품사(Part-of-speech)로 쓰였는지까지 판단한다는 점이다. 따라서 Lemmatization이 보다 복잡한 처리 과정을 거칠 수밖에 없다.\n",
        "\n",
        "kaggle의 다른 여러 코드들을 참고한 결과 stemming을 하는 것보다 lemmatization을 하는 것이 더 나은 결과를 도출하는 것 같아서 lemmatization만 수행하도록 하겠다."
      ]
    },
    {
      "cell_type": "code",
      "execution_count": 16,
      "metadata": {
        "id": "TK3b8y0oKkqC",
        "colab": {
          "base_uri": "https://localhost:8080/"
        },
        "outputId": "8141790d-113f-4ee1-b645-a4871a2da9c4"
      },
      "outputs": [
        {
          "output_type": "stream",
          "name": "stderr",
          "text": [
            "[nltk_data] Downloading package wordnet to /root/nltk_data...\n",
            "[nltk_data]   Package wordnet is already up-to-date!\n",
            "[nltk_data] Downloading package omw-1.4 to /root/nltk_data...\n",
            "[nltk_data]   Package omw-1.4 is already up-to-date!\n"
          ]
        }
      ],
      "source": [
        "nltk.download('wordnet')\n",
        "nltk.download('omw-1.4')\n",
        "from nltk.stem import WordNetLemmatizer\n",
        "wordnet_lemmatizer = WordNetLemmatizer()"
      ]
    },
    {
      "cell_type": "code",
      "execution_count": 17,
      "metadata": {
        "id": "0qCfMoC6KnEY"
      },
      "outputs": [],
      "source": [
        "lemmatized_words = [wordnet_lemmatizer.lemmatize(w) for w in non_stopwords]\n",
        "lemmatized_words = [wordnet_lemmatizer.lemmatize(w,\"v\") for w in lemmatized_words]"
      ]
    },
    {
      "cell_type": "code",
      "execution_count": 18,
      "metadata": {
        "id": "zEQZI4gePAsv",
        "colab": {
          "base_uri": "https://localhost:8080/"
        },
        "outputId": "a16c23eb-1e02-41fc-fc8b-0816fe655c11"
      },
      "outputs": [
        {
          "output_type": "stream",
          "name": "stdout",
          "text": [
            "['really', 'cool', 'eighties', 'maybe', 'make', 'mind', 'whether', 'guilty', 'innocent', 'moonwalker', 'part', 'biography', 'part', 'feature', 'film', 'remember', 'going', 'see', 'cinema']\n",
            "['realli', 'cool', 'eighti', 'mayb', 'make', 'mind', 'whether', 'guilti', 'innoc', 'moonwalk', 'part', 'biographi', 'part', 'featur', 'film', 'rememb', 'go', 'see', 'cinema']\n",
            "['really', 'cool', 'eighty', 'maybe', 'make', 'mind', 'whether', 'guilty', 'innocent', 'moonwalker', 'part', 'biography', 'part', 'feature', 'film', 'remember', 'go', 'see', 'cinema']\n"
          ]
        }
      ],
      "source": [
        "print(non_stopwords[21:40]) # none\n",
        "print(stemmed_words[21:40]) # stemming\n",
        "print(lemmatized_words[21:40]) # lemmatization"
      ]
    },
    {
      "cell_type": "markdown",
      "metadata": {
        "id": "4INa9uVeJUKp"
      },
      "source": [
        "## 4-7. 하나의 함수로 표현\n",
        "\n",
        "앞선 6가지의 전처리 과정을 하나의 함수로 통합합니다."
      ]
    },
    {
      "cell_type": "code",
      "execution_count": 19,
      "metadata": {
        "id": "cODLO1bYJZuG"
      },
      "outputs": [],
      "source": [
        "stopwords_list = set(stopwords.words('english'))\n",
        "wordnet_lemmatizer = WordNetLemmatizer()\n",
        "\n",
        "def review_to_words(raw_review):\n",
        "  except_tag = BeautifulSoup(raw_review).get_text() # html 태그 제거\n",
        "  letters_only = re.sub(\"[^a-zA-Z]\", \" \", except_tag) # 알파벳만 남기기\n",
        "  token_words = letters_only.lower().split() # 소문자로 통합하고 단어 단위로 토큰화\n",
        "  non_stopwords = [w for w in token_words if not w in stopwords_list] # 불용어 삭제\n",
        "  lemmatized_words = [wordnet_lemmatizer.lemmatize(w) for w in non_stopwords]\n",
        "  lemmatized_words = [wordnet_lemmatizer.lemmatize(w,\"v\") for w in lemmatized_words] # Lemmatization\n",
        "  words = \" \".join(lemmatized_words)\n",
        "  return words"
      ]
    },
    {
      "cell_type": "markdown",
      "metadata": {
        "id": "MwRxSjIlHBAG"
      },
      "source": [
        "\n",
        "\n",
        "---\n",
        "\n"
      ]
    },
    {
      "cell_type": "markdown",
      "metadata": {
        "id": "BvvzASbwoXeM"
      },
      "source": [
        "# 5. BoW(Bag of Words) 형태로 변환\n",
        "\n",
        "Bag of words는 단어의 출현 빈도에 집중하여 텍스트를 수치화하는 표현 방식입니다.\n",
        "\n",
        "예를 들어 아래처럼 두 개의 노래 구절이 있는 경우\n",
        "\n",
        "```python\n",
        "lyric1 = \"but I don't want to stay in the middle\"\n",
        "lyric2 = \"like you a little don't want no riddle\"\n",
        "```\n",
        "\n",
        "아래 같은 단어 모음이 만들어지고\n",
        "\n",
        "```python\n",
        "vocab = [\"but\", \"I\", \"don't\", \"want\", \"to\", \"stay\", \"in\", \"the\", \"middle\", \"like\", \"you\", \"a\", \"little\", \"no\", \"riddle\"]\n",
        "```\n",
        "\n",
        "아래처럼 단어들을 빈도로 수치화할 수 있습니다.\n",
        "\n",
        "```python\n",
        "lyric1 = [1, 1, 1, 1, 1, 1, 1, 1, 1, 0, 0, 0, 0, 0, 0]\n",
        "lyric2 = [0, 0, 1, 1, 0, 0, 0, 0, 0, 1, 1, 1, 1, 1, 1]\n",
        "```"
      ]
    },
    {
      "cell_type": "markdown",
      "metadata": {
        "id": "D89lL4yjgwNP"
      },
      "source": [
        "![image.png](attachment:image.png)"
      ]
    },
    {
      "cell_type": "markdown",
      "metadata": {
        "id": "6pLyt4Ymtjmc"
      },
      "source": [
        "위 같은 작업을 사이킷런의 `CountVectorizer`가 수행해줍니다."
      ]
    },
    {
      "cell_type": "code",
      "execution_count": 20,
      "metadata": {
        "id": "C9QVEe77tb2H",
        "colab": {
          "base_uri": "https://localhost:8080/"
        },
        "outputId": "8a53efa2-659a-4f76-9363-4f04166c42ff"
      },
      "outputs": [
        {
          "output_type": "stream",
          "name": "stderr",
          "text": [
            "<ipython-input-19-4620c86a40d2>:5: MarkupResemblesLocatorWarning: The input looks more like a filename than markup. You may want to open this file and pass the filehandle into Beautiful Soup.\n",
            "  except_tag = BeautifulSoup(raw_review).get_text() # html 태그 제거\n"
          ]
        },
        {
          "output_type": "stream",
          "name": "stdout",
          "text": [
            "Review 5000 of 25000\n",
            "Review 10000 of 25000\n",
            "Review 15000 of 25000\n",
            "Review 20000 of 25000\n",
            "Review 25000 of 25000\n"
          ]
        }
      ],
      "source": [
        "num_reviews = train['review'].size\n",
        "\n",
        "clean_train_reviews = []\n",
        "for i in range(0, num_reviews):\n",
        "     if (i + 1) % 5000 == 0 :  #실행이 잘되는지 확인하기 위해 5000개 실행될때마다 확인문구\n",
        "         print('Review {} of {}'.format(i+1, num_reviews))\n",
        "     clean_train_reviews.append(review_to_words(train['review'][i]))"
      ]
    },
    {
      "cell_type": "markdown",
      "metadata": {
        "id": "1L1ZdBaSuv49"
      },
      "source": [
        "`clean_train_reviews`에는 25,000개의 전처리된 리뷰들이 담겨있습니다. 이것을 `CountVectorizer에` input으로 넣어주면 BoW가 완성됩니다."
      ]
    },
    {
      "cell_type": "code",
      "execution_count": 21,
      "metadata": {
        "id": "mtQUnI7brh02"
      },
      "outputs": [],
      "source": [
        "from sklearn.feature_extraction.text import CountVectorizer\n",
        "\n",
        "vectorizer = CountVectorizer(analyzer = 'word', # 학습 단위\n",
        "                             tokenizer = None,\n",
        "                             preprocessor = None,\n",
        "                             stop_words = None,\n",
        "                             min_df = 2, # 토큰이 나타날 최소 문서 개수\n",
        "                             ngram_range=(1, 2), # 단어의 묶음 개수\n",
        "                             max_features = 4000) # 토큰의 최대 개수, 즉 컬럼의 최대 개수"
      ]
    },
    {
      "cell_type": "markdown",
      "metadata": {
        "id": "LXXL0_g0nI74"
      },
      "source": [
        "# 6. TfidfVectorizer\n",
        "\n",
        "이번엔 `CounterVectorizer`보다 한 단계 나아간 `TidfVectorizer`에 대해 살펴볼 것입니다.\n",
        "\n",
        "`TidfVectorizer()`는 TF-IDF(단어빈도*문서빈도역수)를 학습시키는 함수입니다. 단어빈도란 특정 단어가 한 문서 내에서 출현한 빈도이고, 문서빈도는 특정 단어가 출현한 전체 문서의 개수입니다.\n",
        "\n",
        "왜 두 빈도를 모두 알아야 할까요? 예컨대 정관사 a, the는 영어에서 굉장히 많이 쓰입니다. 하지만 출현빈도에 비해 그렇게 중요치 않은 단어입니다. 이처럼 단어빈도는 높아도 중요도가 낮은 단어들을 걸러주기 위해 이 단어가 출현한 문서의 빈도도 카운트해줄 필요가 있다는 얘기입니다.\n",
        "\n",
        "![image.png](attachment:image.png)"
      ]
    },
    {
      "cell_type": "code",
      "execution_count": 22,
      "metadata": {
        "id": "pn7y54v8mUg5"
      },
      "outputs": [],
      "source": [
        "from sklearn.feature_extraction.text import TfidfVectorizer\n",
        "\n",
        "vectorizer = TfidfVectorizer(min_df = 4, # 토큰이 나타날 최소 문서 개수\n",
        "                             analyzer = 'word', # 학습 단위\n",
        "                             ngram_range = (1, 2), # 단어의 묶음 개수\n",
        "                             max_features = 1000) # 토큰의 최대 개수, 즉 컬럼의 최대 개수"
      ]
    },
    {
      "cell_type": "code",
      "execution_count": 23,
      "metadata": {
        "colab": {
          "base_uri": "https://localhost:8080/"
        },
        "id": "MsMFVIEltX51",
        "outputId": "4c68f747-9409-4f98-d4c9-c6f578c19fab"
      },
      "outputs": [
        {
          "output_type": "execute_result",
          "data": {
            "text/plain": [
              "(25000, 1000)"
            ]
          },
          "metadata": {},
          "execution_count": 23
        }
      ],
      "source": [
        "train_data_features = vectorizer.fit_transform(clean_train_reviews)\n",
        "train_data_features.shape"
      ]
    },
    {
      "cell_type": "markdown",
      "metadata": {
        "id": "wbZo0RbS6ENh"
      },
      "source": [
        "`TfidfVectorizer`의 `get_feature_names_out()` 메서드로 토큰 이름들을 추출할 수 있습니다.\n",
        "\n",
        "cf) scikit-learn 0.24.0 이상에선 `get_feature_names_out()`, 미만에선 `get_feature_names()`"
      ]
    },
    {
      "cell_type": "code",
      "execution_count": 24,
      "metadata": {
        "colab": {
          "base_uri": "https://localhost:8080/"
        },
        "id": "9w0zzKjOwFSx",
        "outputId": "0e3e4c17-cc20-41ab-bd96-8b33047365a7"
      },
      "outputs": [
        {
          "output_type": "execute_result",
          "data": {
            "text/plain": [
              "array(['ability', 'able', 'absolutely', 'accent', 'accept', 'across',\n",
              "       'act', 'action', 'actor', 'actress'], dtype=object)"
            ]
          },
          "metadata": {},
          "execution_count": 24
        }
      ],
      "source": [
        "vocab = vectorizer.get_feature_names_out()\n",
        "vocab[:10]"
      ]
    },
    {
      "cell_type": "markdown",
      "metadata": {
        "id": "BFkVZ2WPguny"
      },
      "source": [
        "# 7. Modeling\n",
        "\n",
        "baseline 코드로 제시된 트리 계열 알고리즘으로 학습을 시켜봅니다.\n",
        "\n",
        "원하시는 경우 성능 향상을 위해 새롭게 코드를 짜보셔도 좋습니다!"
      ]
    },
    {
      "cell_type": "code",
      "execution_count": 25,
      "metadata": {
        "id": "0I6uMDC1-4uV",
        "colab": {
          "base_uri": "https://localhost:8080/"
        },
        "outputId": "7d48537d-3353-440c-a390-608731c59b4b"
      },
      "outputs": [
        {
          "output_type": "stream",
          "name": "stderr",
          "text": [
            "/usr/local/lib/python3.11/dist-packages/dask/dataframe/__init__.py:42: FutureWarning: \n",
            "Dask dataframe query planning is disabled because dask-expr is not installed.\n",
            "\n",
            "You can install it with `pip install dask[dataframe]` or `conda install dask`.\n",
            "This will raise in a future version.\n",
            "\n",
            "  warnings.warn(msg, FutureWarning)\n"
          ]
        }
      ],
      "source": [
        "from sklearn.ensemble import RandomForestClassifier\n",
        "from lightgbm import LGBMClassifier\n",
        "from xgboost import XGBClassifier\n",
        "from sklearn.model_selection import train_test_split\n",
        "from sklearn.metrics import roc_auc_score\n",
        "from sklearn.ensemble import StackingClassifier\n",
        "from sklearn.linear_model import LogisticRegression\n",
        "\n",
        "x = train_data_features\n",
        "y = train['sentiment']\n",
        "\n",
        "x_train, x_val, y_train, y_val = train_test_split(x, y, test_size=0.3, random_state=42)\n",
        "\n",
        "# 트리 알고리즘 3개를 사용\n",
        "rf = RandomForestClassifier(n_estimators = 200,\n",
        "                            n_jobs = -1,\n",
        "                            random_state=42,\n",
        "                            max_depth=20)\n",
        "\n",
        "xgb = XGBClassifier(n_estimators=200,\n",
        "                    max_depth=10,\n",
        "                    learning_rate=0.05,\n",
        "                    objective='binary:logistic')\n",
        "\n",
        "lgbm = LGBMClassifier(n_estimators=200,\n",
        "                    max_depth=10,\n",
        "                    metric='binary_logloss')"
      ]
    },
    {
      "cell_type": "code",
      "execution_count": 26,
      "metadata": {
        "id": "iE_m3SMip9En"
      },
      "outputs": [],
      "source": [
        "xgb.fit(x_train, y_train)\n",
        "y_pred_xgb = xgb.predict_proba(x_val)"
      ]
    },
    {
      "cell_type": "code",
      "execution_count": 27,
      "metadata": {
        "id": "JCfRiWkXrpsI",
        "colab": {
          "base_uri": "https://localhost:8080/"
        },
        "outputId": "a219136d-2472-4c82-fe0c-4802f8c9fd6b"
      },
      "outputs": [
        {
          "output_type": "stream",
          "name": "stderr",
          "text": [
            "/usr/local/lib/python3.11/dist-packages/sklearn/utils/deprecation.py:151: FutureWarning: 'force_all_finite' was renamed to 'ensure_all_finite' in 1.6 and will be removed in 1.8.\n",
            "  warnings.warn(\n"
          ]
        },
        {
          "output_type": "stream",
          "name": "stdout",
          "text": [
            "[LightGBM] [Info] Number of positive: 8738, number of negative: 8762\n",
            "[LightGBM] [Info] Auto-choosing row-wise multi-threading, the overhead of testing was 0.222018 seconds.\n",
            "You can set `force_row_wise=true` to remove the overhead.\n",
            "And if memory is not enough, you can set `force_col_wise=true`.\n",
            "[LightGBM] [Info] Total Bins 197828\n",
            "[LightGBM] [Info] Number of data points in the train set: 17500, number of used features: 1000\n",
            "[LightGBM] [Info] [binary:BoostFromScore]: pavg=0.499314 -> initscore=-0.002743\n",
            "[LightGBM] [Info] Start training from score -0.002743\n"
          ]
        },
        {
          "output_type": "stream",
          "name": "stderr",
          "text": [
            "/usr/local/lib/python3.11/dist-packages/sklearn/utils/deprecation.py:151: FutureWarning: 'force_all_finite' was renamed to 'ensure_all_finite' in 1.6 and will be removed in 1.8.\n",
            "  warnings.warn(\n"
          ]
        }
      ],
      "source": [
        "lgbm.fit(x_train, y_train)\n",
        "y_pred_lgbm = lgbm.predict_proba(x_val)"
      ]
    },
    {
      "cell_type": "code",
      "execution_count": 28,
      "metadata": {
        "id": "OpZtFdbgAmws"
      },
      "outputs": [],
      "source": [
        "rf.fit(x_train, y_train)\n",
        "y_pred_rf = rf.predict_proba(x_val)"
      ]
    },
    {
      "cell_type": "markdown",
      "metadata": {
        "id": "DkI594sPjY_2"
      },
      "source": [
        "학습된 모델들의 `roc_auc_score`는 아래처럼 구할 수 있다."
      ]
    },
    {
      "cell_type": "code",
      "execution_count": 29,
      "metadata": {
        "id": "cVenoNaUjImr",
        "colab": {
          "base_uri": "https://localhost:8080/"
        },
        "outputId": "8edd8524-5cf2-4644-afb1-fccbff21ca6c"
      },
      "outputs": [
        {
          "output_type": "stream",
          "name": "stdout",
          "text": [
            "Random Forest AUC Score : 0.9058620760276586\n",
            "XGBoost AUC Score : 0.9158306758838988\n",
            "LGBM AUC Score : 0.9256037892939135\n"
          ]
        }
      ],
      "source": [
        "print('Random Forest AUC Score :', roc_auc_score(y_val, y_pred_rf[:,1]))\n",
        "print('XGBoost AUC Score :', roc_auc_score(y_val, y_pred_xgb[:,1]))\n",
        "print('LGBM AUC Score :', roc_auc_score(y_val, y_pred_lgbm[:,1]))"
      ]
    },
    {
      "cell_type": "markdown",
      "metadata": {
        "id": "RHC6FPnYlAKF"
      },
      "source": [
        "# 8. test set 추론"
      ]
    },
    {
      "cell_type": "code",
      "execution_count": 30,
      "metadata": {
        "id": "bzw8CiDYCb3_",
        "colab": {
          "base_uri": "https://localhost:8080/"
        },
        "outputId": "a99cac86-3dcd-4504-c03d-67e933361e7c"
      },
      "outputs": [
        {
          "output_type": "stream",
          "name": "stderr",
          "text": [
            "<ipython-input-19-4620c86a40d2>:5: MarkupResemblesLocatorWarning: The input looks more like a filename than markup. You may want to open this file and pass the filehandle into Beautiful Soup.\n",
            "  except_tag = BeautifulSoup(raw_review).get_text() # html 태그 제거\n"
          ]
        },
        {
          "output_type": "stream",
          "name": "stdout",
          "text": [
            "Review 5000 of 25000\n",
            "Review 10000 of 25000\n",
            "Review 15000 of 25000\n",
            "Review 20000 of 25000\n",
            "Review 25000 of 25000\n"
          ]
        }
      ],
      "source": [
        "num_reviews = test['review'].size\n",
        "\n",
        "clean_test_reviews = []\n",
        "for i in range(0, num_reviews):\n",
        "     if (i + 1) % 5000 == 0 :  #실행이 잘 되는지 확인하기 위해 5000개 실행될때마다 확인문구\n",
        "         print('Review {} of {}'.format(i+1, num_reviews))\n",
        "     clean_test_reviews.append(review_to_words(test['review'][i]))"
      ]
    },
    {
      "cell_type": "code",
      "execution_count": 31,
      "metadata": {
        "id": "7JlFQBI7Cr9F"
      },
      "outputs": [],
      "source": [
        "test_data_features = vectorizer.fit_transform(clean_test_reviews)\n",
        "test_data_features = test_data_features.toarray()"
      ]
    },
    {
      "cell_type": "code",
      "execution_count": 32,
      "metadata": {
        "colab": {
          "base_uri": "https://localhost:8080/"
        },
        "id": "K6EihQRSC3Hv",
        "outputId": "01e2a22f-37ec-45ce-cc7a-9462cd5284d6"
      },
      "outputs": [
        {
          "output_type": "stream",
          "name": "stderr",
          "text": [
            "/usr/local/lib/python3.11/dist-packages/sklearn/utils/deprecation.py:151: FutureWarning: 'force_all_finite' was renamed to 'ensure_all_finite' in 1.6 and will be removed in 1.8.\n",
            "  warnings.warn(\n"
          ]
        }
      ],
      "source": [
        "# 3개 알고리즘 중 원하는 것으로 predict\n",
        "result = lgbm.predict(test_data_features)\n",
        "submit['sentiment'] = result"
      ]
    },
    {
      "cell_type": "code",
      "execution_count": 33,
      "metadata": {
        "colab": {
          "base_uri": "https://localhost:8080/",
          "height": 363
        },
        "id": "M6Esmi7uEhg3",
        "outputId": "66dd18a3-418c-4352-f522-a23392f1e70b"
      },
      "outputs": [
        {
          "output_type": "execute_result",
          "data": {
            "text/plain": [
              "         id  sentiment\n",
              "0  12311_10          1\n",
              "1    8348_2          0\n",
              "2    5828_4          0\n",
              "3    7186_2          1\n",
              "4   12128_7          0\n",
              "5    2913_8          0\n",
              "6    4396_1          0\n",
              "7     395_2          0\n",
              "8   10616_1          0\n",
              "9    9074_9          1"
            ],
            "text/html": [
              "\n",
              "  <div id=\"df-9aad37be-cfd5-45c1-8e1b-3e41e31d388b\" class=\"colab-df-container\">\n",
              "    <div>\n",
              "<style scoped>\n",
              "    .dataframe tbody tr th:only-of-type {\n",
              "        vertical-align: middle;\n",
              "    }\n",
              "\n",
              "    .dataframe tbody tr th {\n",
              "        vertical-align: top;\n",
              "    }\n",
              "\n",
              "    .dataframe thead th {\n",
              "        text-align: right;\n",
              "    }\n",
              "</style>\n",
              "<table border=\"1\" class=\"dataframe\">\n",
              "  <thead>\n",
              "    <tr style=\"text-align: right;\">\n",
              "      <th></th>\n",
              "      <th>id</th>\n",
              "      <th>sentiment</th>\n",
              "    </tr>\n",
              "  </thead>\n",
              "  <tbody>\n",
              "    <tr>\n",
              "      <th>0</th>\n",
              "      <td>12311_10</td>\n",
              "      <td>1</td>\n",
              "    </tr>\n",
              "    <tr>\n",
              "      <th>1</th>\n",
              "      <td>8348_2</td>\n",
              "      <td>0</td>\n",
              "    </tr>\n",
              "    <tr>\n",
              "      <th>2</th>\n",
              "      <td>5828_4</td>\n",
              "      <td>0</td>\n",
              "    </tr>\n",
              "    <tr>\n",
              "      <th>3</th>\n",
              "      <td>7186_2</td>\n",
              "      <td>1</td>\n",
              "    </tr>\n",
              "    <tr>\n",
              "      <th>4</th>\n",
              "      <td>12128_7</td>\n",
              "      <td>0</td>\n",
              "    </tr>\n",
              "    <tr>\n",
              "      <th>5</th>\n",
              "      <td>2913_8</td>\n",
              "      <td>0</td>\n",
              "    </tr>\n",
              "    <tr>\n",
              "      <th>6</th>\n",
              "      <td>4396_1</td>\n",
              "      <td>0</td>\n",
              "    </tr>\n",
              "    <tr>\n",
              "      <th>7</th>\n",
              "      <td>395_2</td>\n",
              "      <td>0</td>\n",
              "    </tr>\n",
              "    <tr>\n",
              "      <th>8</th>\n",
              "      <td>10616_1</td>\n",
              "      <td>0</td>\n",
              "    </tr>\n",
              "    <tr>\n",
              "      <th>9</th>\n",
              "      <td>9074_9</td>\n",
              "      <td>1</td>\n",
              "    </tr>\n",
              "  </tbody>\n",
              "</table>\n",
              "</div>\n",
              "    <div class=\"colab-df-buttons\">\n",
              "\n",
              "  <div class=\"colab-df-container\">\n",
              "    <button class=\"colab-df-convert\" onclick=\"convertToInteractive('df-9aad37be-cfd5-45c1-8e1b-3e41e31d388b')\"\n",
              "            title=\"Convert this dataframe to an interactive table.\"\n",
              "            style=\"display:none;\">\n",
              "\n",
              "  <svg xmlns=\"http://www.w3.org/2000/svg\" height=\"24px\" viewBox=\"0 -960 960 960\">\n",
              "    <path d=\"M120-120v-720h720v720H120Zm60-500h600v-160H180v160Zm220 220h160v-160H400v160Zm0 220h160v-160H400v160ZM180-400h160v-160H180v160Zm440 0h160v-160H620v160ZM180-180h160v-160H180v160Zm440 0h160v-160H620v160Z\"/>\n",
              "  </svg>\n",
              "    </button>\n",
              "\n",
              "  <style>\n",
              "    .colab-df-container {\n",
              "      display:flex;\n",
              "      gap: 12px;\n",
              "    }\n",
              "\n",
              "    .colab-df-convert {\n",
              "      background-color: #E8F0FE;\n",
              "      border: none;\n",
              "      border-radius: 50%;\n",
              "      cursor: pointer;\n",
              "      display: none;\n",
              "      fill: #1967D2;\n",
              "      height: 32px;\n",
              "      padding: 0 0 0 0;\n",
              "      width: 32px;\n",
              "    }\n",
              "\n",
              "    .colab-df-convert:hover {\n",
              "      background-color: #E2EBFA;\n",
              "      box-shadow: 0px 1px 2px rgba(60, 64, 67, 0.3), 0px 1px 3px 1px rgba(60, 64, 67, 0.15);\n",
              "      fill: #174EA6;\n",
              "    }\n",
              "\n",
              "    .colab-df-buttons div {\n",
              "      margin-bottom: 4px;\n",
              "    }\n",
              "\n",
              "    [theme=dark] .colab-df-convert {\n",
              "      background-color: #3B4455;\n",
              "      fill: #D2E3FC;\n",
              "    }\n",
              "\n",
              "    [theme=dark] .colab-df-convert:hover {\n",
              "      background-color: #434B5C;\n",
              "      box-shadow: 0px 1px 3px 1px rgba(0, 0, 0, 0.15);\n",
              "      filter: drop-shadow(0px 1px 2px rgba(0, 0, 0, 0.3));\n",
              "      fill: #FFFFFF;\n",
              "    }\n",
              "  </style>\n",
              "\n",
              "    <script>\n",
              "      const buttonEl =\n",
              "        document.querySelector('#df-9aad37be-cfd5-45c1-8e1b-3e41e31d388b button.colab-df-convert');\n",
              "      buttonEl.style.display =\n",
              "        google.colab.kernel.accessAllowed ? 'block' : 'none';\n",
              "\n",
              "      async function convertToInteractive(key) {\n",
              "        const element = document.querySelector('#df-9aad37be-cfd5-45c1-8e1b-3e41e31d388b');\n",
              "        const dataTable =\n",
              "          await google.colab.kernel.invokeFunction('convertToInteractive',\n",
              "                                                    [key], {});\n",
              "        if (!dataTable) return;\n",
              "\n",
              "        const docLinkHtml = 'Like what you see? Visit the ' +\n",
              "          '<a target=\"_blank\" href=https://colab.research.google.com/notebooks/data_table.ipynb>data table notebook</a>'\n",
              "          + ' to learn more about interactive tables.';\n",
              "        element.innerHTML = '';\n",
              "        dataTable['output_type'] = 'display_data';\n",
              "        await google.colab.output.renderOutput(dataTable, element);\n",
              "        const docLink = document.createElement('div');\n",
              "        docLink.innerHTML = docLinkHtml;\n",
              "        element.appendChild(docLink);\n",
              "      }\n",
              "    </script>\n",
              "  </div>\n",
              "\n",
              "\n",
              "<div id=\"df-43420b96-89fa-4e18-bb6d-45dcab471a79\">\n",
              "  <button class=\"colab-df-quickchart\" onclick=\"quickchart('df-43420b96-89fa-4e18-bb6d-45dcab471a79')\"\n",
              "            title=\"Suggest charts\"\n",
              "            style=\"display:none;\">\n",
              "\n",
              "<svg xmlns=\"http://www.w3.org/2000/svg\" height=\"24px\"viewBox=\"0 0 24 24\"\n",
              "     width=\"24px\">\n",
              "    <g>\n",
              "        <path d=\"M19 3H5c-1.1 0-2 .9-2 2v14c0 1.1.9 2 2 2h14c1.1 0 2-.9 2-2V5c0-1.1-.9-2-2-2zM9 17H7v-7h2v7zm4 0h-2V7h2v10zm4 0h-2v-4h2v4z\"/>\n",
              "    </g>\n",
              "</svg>\n",
              "  </button>\n",
              "\n",
              "<style>\n",
              "  .colab-df-quickchart {\n",
              "      --bg-color: #E8F0FE;\n",
              "      --fill-color: #1967D2;\n",
              "      --hover-bg-color: #E2EBFA;\n",
              "      --hover-fill-color: #174EA6;\n",
              "      --disabled-fill-color: #AAA;\n",
              "      --disabled-bg-color: #DDD;\n",
              "  }\n",
              "\n",
              "  [theme=dark] .colab-df-quickchart {\n",
              "      --bg-color: #3B4455;\n",
              "      --fill-color: #D2E3FC;\n",
              "      --hover-bg-color: #434B5C;\n",
              "      --hover-fill-color: #FFFFFF;\n",
              "      --disabled-bg-color: #3B4455;\n",
              "      --disabled-fill-color: #666;\n",
              "  }\n",
              "\n",
              "  .colab-df-quickchart {\n",
              "    background-color: var(--bg-color);\n",
              "    border: none;\n",
              "    border-radius: 50%;\n",
              "    cursor: pointer;\n",
              "    display: none;\n",
              "    fill: var(--fill-color);\n",
              "    height: 32px;\n",
              "    padding: 0;\n",
              "    width: 32px;\n",
              "  }\n",
              "\n",
              "  .colab-df-quickchart:hover {\n",
              "    background-color: var(--hover-bg-color);\n",
              "    box-shadow: 0 1px 2px rgba(60, 64, 67, 0.3), 0 1px 3px 1px rgba(60, 64, 67, 0.15);\n",
              "    fill: var(--button-hover-fill-color);\n",
              "  }\n",
              "\n",
              "  .colab-df-quickchart-complete:disabled,\n",
              "  .colab-df-quickchart-complete:disabled:hover {\n",
              "    background-color: var(--disabled-bg-color);\n",
              "    fill: var(--disabled-fill-color);\n",
              "    box-shadow: none;\n",
              "  }\n",
              "\n",
              "  .colab-df-spinner {\n",
              "    border: 2px solid var(--fill-color);\n",
              "    border-color: transparent;\n",
              "    border-bottom-color: var(--fill-color);\n",
              "    animation:\n",
              "      spin 1s steps(1) infinite;\n",
              "  }\n",
              "\n",
              "  @keyframes spin {\n",
              "    0% {\n",
              "      border-color: transparent;\n",
              "      border-bottom-color: var(--fill-color);\n",
              "      border-left-color: var(--fill-color);\n",
              "    }\n",
              "    20% {\n",
              "      border-color: transparent;\n",
              "      border-left-color: var(--fill-color);\n",
              "      border-top-color: var(--fill-color);\n",
              "    }\n",
              "    30% {\n",
              "      border-color: transparent;\n",
              "      border-left-color: var(--fill-color);\n",
              "      border-top-color: var(--fill-color);\n",
              "      border-right-color: var(--fill-color);\n",
              "    }\n",
              "    40% {\n",
              "      border-color: transparent;\n",
              "      border-right-color: var(--fill-color);\n",
              "      border-top-color: var(--fill-color);\n",
              "    }\n",
              "    60% {\n",
              "      border-color: transparent;\n",
              "      border-right-color: var(--fill-color);\n",
              "    }\n",
              "    80% {\n",
              "      border-color: transparent;\n",
              "      border-right-color: var(--fill-color);\n",
              "      border-bottom-color: var(--fill-color);\n",
              "    }\n",
              "    90% {\n",
              "      border-color: transparent;\n",
              "      border-bottom-color: var(--fill-color);\n",
              "    }\n",
              "  }\n",
              "</style>\n",
              "\n",
              "  <script>\n",
              "    async function quickchart(key) {\n",
              "      const quickchartButtonEl =\n",
              "        document.querySelector('#' + key + ' button');\n",
              "      quickchartButtonEl.disabled = true;  // To prevent multiple clicks.\n",
              "      quickchartButtonEl.classList.add('colab-df-spinner');\n",
              "      try {\n",
              "        const charts = await google.colab.kernel.invokeFunction(\n",
              "            'suggestCharts', [key], {});\n",
              "      } catch (error) {\n",
              "        console.error('Error during call to suggestCharts:', error);\n",
              "      }\n",
              "      quickchartButtonEl.classList.remove('colab-df-spinner');\n",
              "      quickchartButtonEl.classList.add('colab-df-quickchart-complete');\n",
              "    }\n",
              "    (() => {\n",
              "      let quickchartButtonEl =\n",
              "        document.querySelector('#df-43420b96-89fa-4e18-bb6d-45dcab471a79 button');\n",
              "      quickchartButtonEl.style.display =\n",
              "        google.colab.kernel.accessAllowed ? 'block' : 'none';\n",
              "    })();\n",
              "  </script>\n",
              "</div>\n",
              "\n",
              "    </div>\n",
              "  </div>\n"
            ],
            "application/vnd.google.colaboratory.intrinsic+json": {
              "type": "dataframe",
              "variable_name": "submit",
              "summary": "{\n  \"name\": \"submit\",\n  \"rows\": 25000,\n  \"fields\": [\n    {\n      \"column\": \"id\",\n      \"properties\": {\n        \"dtype\": \"string\",\n        \"num_unique_values\": 25000,\n        \"samples\": [\n          \"10610_7\",\n          \"10557_8\",\n          \"3118_9\"\n        ],\n        \"semantic_type\": \"\",\n        \"description\": \"\"\n      }\n    },\n    {\n      \"column\": \"sentiment\",\n      \"properties\": {\n        \"dtype\": \"number\",\n        \"std\": 0,\n        \"min\": 0,\n        \"max\": 1,\n        \"num_unique_values\": 2,\n        \"samples\": [\n          0,\n          1\n        ],\n        \"semantic_type\": \"\",\n        \"description\": \"\"\n      }\n    }\n  ]\n}"
            }
          },
          "metadata": {},
          "execution_count": 33
        }
      ],
      "source": [
        "submit.head(10)"
      ]
    },
    {
      "cell_type": "markdown",
      "metadata": {
        "id": "a7WcDGuZAk0A"
      },
      "source": [
        "원하시는 분은 직접 결과 제출도 해보세요!\n",
        "\n",
        "https://www.kaggle.com/competitions/word2vec-nlp-tutorial/submissions"
      ]
    },
    {
      "cell_type": "code",
      "execution_count": 34,
      "metadata": {
        "id": "SX8tyjL2Dlf1"
      },
      "outputs": [],
      "source": [
        "submit.to_csv(\"./submission_240117.csv\", index=False)"
      ]
    },
    {
      "cell_type": "markdown",
      "source": [
        "![스크린샷 2025-01-20 023502.png](data:image/png;base64,iVBORw0KGgoAAAANSUhEUgAABMUAAAEYCAYAAABcNkE3AAAAAXNSR0IArs4c6QAAAARnQU1BAACxjwv8YQUAAAAJcEhZcwAADsMAAA7DAcdvqGQAAF+ISURBVHhe7d17XFRl4sfxr4GM1zG1cXUDzUS3Ba3UtoKfomQSmkrlSu1qtmKUl7LU2oguarshZWo3L0XaRlpeftaS/gwxA9OFLopbCtsmrBmUrpMYI14Gwfn9MTMwMwwIeHc+79eL1zLP85wz5zzn2Hq+Ps9zmthsNpsAAAAAAAAAH3KZZwEAAAAAAABwqSMUAwAAAAAAgM8hFAMAAAAAAIDPIRQDAAAAAACAzyEUAwAAAAAAgM8hFAMAAAAAAIDPIRQDAAAAAACAzyEUAwAAAAAAgM8hFAMAAAAAAIDPIRQDAAAAAACAzyEUAwAAAAAAgM8hFAMAAAAAAIDPIRQDAAAAAACAzyEUAwAAAAAAgM8hFAMAAAAAAIDPIRQDAAAAAACAzyEUAwAAAAAAgM8hFAMAAAAAAIDPIRQDAAAAAACAzyEUAwAAAAAAgM8hFAMAAAAAAIDPIRQDAAAAAACAzyEUOxMO5StzfYay91o9a84da7Gy12coM9/iWQMAAAAAAAAPTWw2m82zsCGs5nxlfviRsr636HhJqdSujTpcFaaBg6IU3s3g2fz0HClU9uZCOWOfoD5RCu3o0eZc279ao/snKrtSkkwauypbs27wbHSWVezQjP+JVarZ/jE8KVvL7zF5tgIAAAAAAIBD40Mxyw6lTJ+spE2OJMYL06AELZ47Xn2MnjWNtHeJhkUmK8/xMSZlt14e5NHmXNs0TV3j11Z9DE3I1LoHAt2anHUe/aI7U7Rn7kD3NgAAAAAAAKjSuOmTliwlRMfWGYhJknlTskZGJyu3wrPmEjLgfj3UzfG7aaDuve0cB2KS1GWE4qMcI8P8uin+D2GeLQAAAAAAAOCiUSPFcmeFa+Q71YGYocdwTX8wWkEGSdYipb8xX2nfVa+vFfRwmj6bGlL1udEuxJFikiSrLGarDG2NMvh71p071kNmWVuYZDzDs1YBAAAAAAAuNY0IxXZoxvWxSnUu7BUyVRv/PknBrmFQRaFevyNac/Mdn3tM1cb0SQqWpAqrLIcsckZmBmPNEMdqMcvibOBvlKmto0FtoZjLPg0tTDK2dO7Jhdv3GmR0BlhWi8wWq3uZC+shsywVjm1MRtXIm+pxPlID2nmotS/cWGUxu+y7tj6Q6/mq9nNycPtug1Em5wEfsch8tPY+q6GR5w4AAAAAAHC2NCIUy9KjV8crzfmxlvWrzFkLNTej2PGpt+5NGqVQ1RFsucic3l1xHzo+hCTos3XjFSTv2z7XIlkj45aowOXFj6ZBCVr84nj1aVtd5r5tiBIz03THN9N0+7S1Mlc62hh6K3HdKsV3k7R/rR79w5NKc32jZMeBSn43RXc7p0vKc79ezufQDqU8OU1zM4qrQiEnY68xeuHVBEV38UyIrCpan6yJicuU5/kySUOgoqfO0wtxvWWsCqPcr4nXdc1qOw5DoMJHP6nkx6PsI/1cuF2HO1O054UgrZx4rxJcp80aAhXz4iq9PNzLwv61fWed5w4AAAAAAHD2NWJNsTZq47pw/kfz9brLVEkn08BJSk5Kcvw4ArEz7bsl+uNY90BMVWuZTVOmZ6DkwrIpUbc/4hKISZJ1h5Lun6+8Q2s1sf8090BMkvZnKWHkNKXXsV83e5dpZHiskryEQpJk2blME2+NVUqha6lVmc9EKuIhL4GYJFmLlZ4cq1ufyKp6C+cpFS7RsBtrOQ5rsbKXTlbEsFnKrnOHZmU+4RGIyb592iPhmrjWY+NGnTsAAAAAAMC50YhQrLdi7nQZFVSZr7nRfXXdyMmauzxLefu9RSBnR9qcZOXJpPDho3T3PVEKdQ3rzGv16Kwsr4GMVKzUV1fLbAxR9D3DFe46WmnvMk28a6bSKw0K6jdcd0eFyOjnsqllrV5f4RwBVxer0ufMUq7zAPy66e6/pGrjF9nauHSSIjs6yivzlfTkMlVFTfkLNWN5dfBkGjhJi9Iy9eVnaUoe3a1qqqP5w+mam1PVrHZHspTwx2TlVYV/BgVHjdLd94xSdC+XDitcptF/Xlt70Ja7UDM+NMvQtreih4cp2OONounPzFdu1adGnjsAAAAAAMA50ohQTOozdYEe6uVaYpVlR4ZefyZew8J7qutv+2rk9CXK9Bxpdab5hSgxPVvLX0lSctICrfssRTEueZ3lw6X6u9fExSJLlwRt3JamRUnztHxjtpKjquuK9loU/Uq2Pkudp+TFafo6PUGhLsFY3r8Lqj/UqlB5zjmVkjQiQcmjwxRsMil44FQtfStB0VGjFJ8wT4umDpQzY7J+X6Ciqo1CFD9jqqJ7BcoUGKK7/5Kml+8LU8w9kzTr9bmKvaaqYa3y3pyllVV9YFTMomxtXGwfwbcoLVNLXQPOjHlKca4D52lvsYwJ6fp2+yoteiVVG7elK9H1HrDkavte54fGnTsAAAAAAMC50qhQTMbemr5mu9Yk1FyHSrIv5p77YbLiIvtq5PwdtY8+Ok1BD8y2r//lZByoF56uSrck5SjnG5ePLqLvH1P9cgB/o8L7uL4dc7hihrhENd1uU8xvXKrrxei+2P3W1Urdaa4euRYyXosWJynxgeGKDgusGgFmMLh2aL7S3s1SwRHnZ4OiZ6Tq5aSpGjt0oEJd10zzqljZWS6j2kImafptrhGUUZGPT1Kfqs/FSvu/WlIx4xglxrl0tn83xU8a7tIgX3lVWWHjzh0AAAAAAOBcaVwoJnuQ1OeBBfrsX7v0dXqqXk4YpfAenm8ytCr3tVj9cWl9phs2XB+3IMvOcG0ft/XLCgq9f7ehRd1RzCnfqHhKgYq+y+X4zBmaEROua67uqesiYjUxcb5Scwqr3+7odPMI3e0yeCtvabwG9+qurteHa/DYaUp6M6MBU1QLlLez+pPxd33sLyxw1TFMkT2qPxbtP+BaWy0wUEGefXJNaC1rxTXy3AEAAAAAAM6RxodiVQwy9ghTzANJWp6+Xd/+K1vrXhylYNfphrPnKbPCdRvfEBT3rpbHVa8DZmeVpXiH0lcs1IzR0bru+mgl5biMpWs5UMnvJVWvu+VkMatg61qlJE/WsPCeujF+tQoa2KdBnby8IVIG9wDw34Uu0zcbr1HnDgAAAAAAcI40OBSzFuYofX2G4ye/5iLpBpNCf5+k92b2ri6rLFTBj66N6mKVpWq64Ck0MBQ694wKfzpd3+5M1/K5CYofHqbgth4j1KyFShk73WXdL0ndRmlp9i59mZaiWQ+PUnRvk/ti/5LMmxL1x+Qd7oWnULSvxtWSZJXVtR9/063maLJGaeS5AwAAAAAAnAMNDsUsXy3SxIcmV/2k1rIEVX2ZzZ6JSKEK6rnPzK01X79o3rpBrmu89+wR6PLpPPEPVN87xyvxlVRt3L5Le/6VraWjXY6rMsvL2mcGGXsM1NipSVq0Jltf796tb9clKNxlSTDz57mnGNUVrFCXxfAtX3lpvz9Hmd9Vfwzq2MG19vQ16twBAAAAAADOrgaHYqawAS7rSBXr9UdmKdPsvjiU9btleuJVl1FMft0UfKXj9ys6uI1Eyp4/W+mHnJ+sKlj0pF73vgxYDZYVyUopdC3I0vNu3xulgb9zqT+XzFmaMTJSN17fXV1/G64k1/zOYFLkn0Yp2KXIKe+dsRoc0VfXXN1d19y7zG0kniFkvO4d4FJwSoEKH+gSQOUv1NwNrtMVLcqcs1C5VZ8DFXN7zXXaGqyR5w4AAAAAAHCuNDgUU5dRind9wWPhMsXd1FPXhUcqIiJSEX176proWcp0SXNMY+5VpHPdqpY3K+yG6jqZ12rijX11Y0Skbry+pwbPKVafG1xfKVmHynwlRffVsAmJSnhkrCJuilea2/fer2jXtyCeS6YOMpYUy2yRJItSx0br0TfX2qedfjhfcffOV9XLGv2iFH2z/ddgU2sVFFvsb2rcNku3j0xWqmO6auoz0Xp0bdU3KGhQ2CmnOoY+MMNl4X6L0iaGa/CERCUkJmpiTKTiPnTpsKhpij8DmVhjzx0AAAAAAOBcaXgoJqNiXlylh1ym5UmSZX+xioqLVXTIfdSY4YYEvfeUy/piMmns7ASFuq6RVWmRudgRooQlaPqtdb8Z0inm8QSFyqK8jNVauTZHRa5f3XGUXpjq+r3nWoimv+VynpWFSkueZp92On2hMvc725kUs3h2VXhnGDpbS++sXhDfvGOJZjimqs5YXmgPyySpV4KWPlyPBKvlQCW/59rfVhVkrNbKFauVvtNl1Fi3MVr+4nC5zM48DY07dwAAAAAAgHOlEaGYJGNvTV+zXeteHKM+nounOxi6hCn+9Ux9vWq8gl3fbihJ3cbrvVUJiu7iuq1BwaMX6Mt3Rp1y9FOVHuP13qpJbutsSQYFRSVoTXqSIs9MwtN43cZrzScLFN8v0OMtjLKvGdZ7jBZlZurlQa4HalTkC+la85fhCvV2/MZuik5Ypa/XeOnX2nQbr3VfrlJilJfjMAQqPG6BPls3w6MfT1Ojzh0AAAAAAODcaGKz2WyehQ1mtchsqR6mZTCaZKyZhHh3xCLzUcnY1ihDfUOeGqyymO1TDhv03edShVWWQ45pkTLU+3ytFrOqutZglOl0T87zOExGL6HVGeb5nfU8dwAAAAAAgLPlzIRiAAAAAAAAwEWkcdMnAQAAAAAAgIsYoRgAAAAAAAB8DqEYAAAAAAAAfA6hGAAAAAAAAHwOoRgAAAAAAAB8DqEYAAAAAAAAfA6hGAAAAAAAAHwOoRgAAAAAAAB8DqEYAAAAAAAAfA6hGAAAAAAAAHwOoRgAAAAAAAB8DqEYAAAAAAAAfA6hGAAAAAAAAHwOoRgAAAAAAAB8DqEYAAAAAAAAfA6hGAAAAAAAAHwOoRgAAAAAAAB8DqEYAAAAAAAAfA6hGAAAAAAAAHwOoRgAAAAAAAB8DqEYAAAAAAAAfA6hGAAAAAAAAHwOoRgAAAAAAAB8DqEYAAAAAAAAfA6hGAAAAAAAAHwOoRgAAAAAAAB8DqEYAAAAAAAAfA6hGAAAAAAAAHwOoRgAAAAAAAB8DqEYAAAAAAAAfA6hGAAAAAAAAHwOoRgAAAAAAAB8DqEYAAAAAAAAfA6hGAAAAAAAAHwOoRgAAAAAAAB8DqEYAAAAAAAAfA6hGAAAAAAAAHwOoRgAAAAAAAB8DqEYAAAAAAAAfA6hGAAAAAAAAHwOoRgAAAAAAAB8DqEYAAAAAAAAfE4Tm81m8yw8E06etMlaXq4TFRWqOFGpispKNfarmjRpIn8/P/k39VNTf38ZAgJ02WVNPJudVSdPnlTZkWM6ftyq41arTpyo0MmTJz2b+bzLLrtMTZv6q5nBoGbNDGrVsrkuu+zcZq8Xw7W6EPoJAAAAAABfdsZDsYqKCh09btWxY1bPqjOqeXODWjQzyN/f37PqjLKWl6u0tEyllsNq1bKFWrRoJkNAgJo29Zefn59nc59XWVmpEycqZC0v19Gjx1V25KjaGFurTZtWMgQEeDY/oy6ma3U++wkAAAAAAJzhUKzsyDEdOXrMs/isatmiuVq1bO5ZfEb8fPCQSksPq23bNmpjbHXBBSsXg8rKSpVaynToUKnatGmtK9q39WxyRlzs1+pc9RMAAAAAALA7I6FYRUWFLIeP6kRFhWfVOdHU31/G1i3O2Kgxa3m5/nvgoAyGAF3R7vKLLmC5EFVWVurnkl9ktZbrVx3an7HRUJfatTpb/QQAAAAAANyddih24kSFDpUebvR6YWdKkyZN1LZNazVtenrB2PHjVv2474CuaH+52hhbe1bjNJVaDuvng7/oyk4d1KyZwbO6QS7la3Um+wkAAAAAANR0WqFYRUWFSn45/4GYU5MmTdTu8taNHjFmLS9X8Y//VQdTO7Vu1dKzGmfI4bIjOmAuUeCVv2r0SChfuFZnop8AAAAAAIB3p/W6O8vhoxdMICZJNptNlsNHPYvr7b8HDuqK9pdfsiHLhaJ1q5a6ov3l+u+Bg55V9eYL1+pM9BMAAAAAAPCu0aFY2ZFj520NsbqcqKhQ2ZGGL/b/88FDMhgCLrlpeBeqNsbWMhgC9PPBQ55Vp+RL1+p0+gkAAAAAANSuUaFYRUXFOX/LZEMcOXpMFQ0I7Kzl5SotPawr2l3uWYWz6Ip2l6u09LCs5eWeVbXyxWvVmH4CAAAAAAB1a1QodvS41bPogtOQYywtLVPbtm0u+jcXXmz8/PzUtm0blZaWeVbVyhevVWP6CQAAAAAA1K3BC+2fPGmT+TSmcpUfPqjD5ZIUoNbtW8tt+fCKch0uPaxyZ135YR08XC75t1b7Ng1faNzUvq0uu6yJZ7GbkydPqnBPka6+KrDhQYvVoqLvcpVXFqTwa7vJeEktb2VV0fqFWrDVLP1mlGbd11unegei1WKWRUaZjKdqWa2yslL/+b5Y3boG6bLL6s5oG3WtrBaZLd4CUoOMJuMpz+lC0ZB+AgAAAABcWPJWJOrdbzwKTSEaMWKUwrtdLE+ml54GP12f3hSunXr1zqG6fehQ3T70Tr26zaN6/2o9NHSobh86R9sk6Ys59rYPrdZPHk3roz7HWnbkmFq1bFH/kMWhYEW8buzZV4P/NEtJ02N1Xa+eGvzXHFk8G16krOunKeKRDTp+VYh69wisV3iUPStcN87K8Syuk5+fn1q1bFGvdeAada22ztSNN4V7+ZmpbM+2F7CG9BMAAAAA4MJy4KvVWrk+T6VVJaXavSxZowf31LA3C93aXoiKlscrIm6ZijwrLnINDsVOa3H9r9O14bCkgABJh7Vhk2cqdmbV51iPH7eqRYtmnsV1y5+vuMQDuuP97fp2e6Y+y96ub9MnyfDOWD2x3tuopIvPgeJiaeg0vfzAGN0dZvKsPqNatGim4/WY7tqoayVJGq6l/9mtPW4/8xTp2ewCV99+AgAAAABcgAJHKDEpSclJSUpOWqA127dr49QQ5SXP0kqzZ+MLzJEDKjpw6T2PNjgUqzhR6VlUbzs/2aDDkiKnPqJISYfTPlL2qXOrRqvPsR63WmUIaNjUTEt+vopCRujeG4xVZYYek/T2+wt072/sn81ZC5XwWpZc72tz1kIlrMh3KbGqaP18PTo2WoPHTtPc/82Xxa0/Gli/vlhut6i1WJlvJmp0dKRGTkhW6jbXcWxWFWUtUcLYaEWMnKyk5Tsc+87XysREJf1fsfTNMiUkJur1LHNV+UrXw1e+ViYuVOZp/uE1BATouPXUf7gac61OzXFeO4qV/texGhyRrGyX61ewbZkeHRmpuOXF9ubWYqXPn6bR0dEa/ch8rfzOtU+976v2vm6Y+vYTAAAAAOBiYFDwiBEKVY5yXKdWVpiV/eY0jYyIVEREtEYnLlOul2lplu9WK2lstCIiIhURPVZJnpmAJO3PUcr02Ko2Cct3uM9w25qsiIh4pe41O55jHfva4HzQL1ZqXKRGLsyX/r3Qfkx/bdgMsQtZw0OxylMHTV5VbNOGjw9L+o163hipsBskVW7QhrPYl/U51hMnKtS0qb9ncZ2MISEKyl+ipP8tlNUl3DDdEFU1F/j4dxu0ckOhjldX28u+OuD4ZFXmM5GKmJWvoDunafqdQcqbF6Nbn8hy3KD1qE+MVMRfXepnRar/X3c49m/WyrhIPfG5SbFTnlR8f4ve/UO0ZjgG55lXxCviic9lunOaEseHyfK3WN36/A5JJvXsN1BhVxklU4gG9huoPkFGSQeUs2K1cvY5di85yjao4KhrWcM1beqvEydOnRI15lqdmv28kibcr3cVpelTByjIea2WTNcfn85V6JgnFXutQTqSpRmRkXp2Z5Bip0xT7FX5mnt7tB7d5PxPivd91d7XDVPffgIAAAAAXCQqrO5BVkWhUkaGa/TfflbfB59U4tRRMn01SyMHT1OmS5pl2TRNt0Yn6u+G2zQ94Und30/6+yOR6p+YVb2/wiUa1n+sUvb30f0JT2r6XVdo+8xY3TrdmStIsh5QUXGB3now1v4cmzBe0S0LlDIxxpEfmBQe96QeGhAodRqghxKeVGJMsHPrenvlldfU9erudf688sprnpuddQ0OxRq4Ln+1f2bap052CtcNge11Q5h9SNWGj7N06pW/Gqc+x3ry5MmGrVElSSFTtWbRbSp4JlrX9OqrwWMTlZLlHpCd0t5lmrvcpOnvpWj6nVGKvnOqlr4/T3cElqvUWs/61b31crpL/VuT1GzpfMewyzzl5Jh0x8NTFTM0StGjk/Te/72lh35r//pdX+XIdOck+7ZDxyj53XS9/WCIJJNCh0YpMtQoBd2s6KHVQd/Z4ufnp5MnT3oW19CoayVJytCjEZH2ZNz545FsB095V8ufHqPoO8MUVFU6Qi+vm6f4O6MU3cukouXzldpuqt57096nMVNT9H8zA5X21yXKq2Nftfd1w9S3nwAAAAAAF4EKi9IXLlOBX5Sib7YXmVc+qaS9w7UoPVWJo6MUfed4vfz3FMVY12rGEsfUrYoczZ2+VtbhC/RJiv35dOzTqfpk3nDp3zuUZ5Uks1KfTFbR0AX6ZHmCxg6NUswD87Ru8XBZP5ylFLdZYMUy3bvK/hw7dIwSVy5QfKBZqR9k2Uez9XNkBMZQRQ61Px831COPPKxHH5niWVzl0Uem6JFHHvYsPusaHIo11rZN9qmTrfv/j34j6dc3huvXkpT1sf5xmiONzgfTbTO0cecufblqtmIDi7Xq0WhdE5HoltzWxfpNrvJ63Kbobi6FXYYrcWqUggz1rO9kUOnWDKWvd/wUWWVSjnbkSVKowsLMSpk8VglvrlX2dxYZe4TI5HhDZs/fhcm8ZLJGJy5RWk6hLG27KbTj2Q2/zp8Q3Z3wpBJdfzyS7aCOXv5QBwYqqGpgmlW5ufkKvv02BbsMVjMNuE2he7OU7ZhdKS/78q2+BgAAAAB45Zx+GBGpiIhwXffbvpr4kRTzykxFt5Qkq7K37JCGjlB09WpNUsuBGnunUUVZOfaF7v/1uTItgRp7f5RcmxmHz9OXa6aqj0HSkc+Vs00acqd7G8Oge3WHsViZn7s8xCpE0f1cnmP9eyvsd1LNuZinp7Zg7HwFYmpMKNakSRPPolOr2KasjYclSYdX3a+bb7pJN9/7tv2NkpVZyth6dsaK1edYL7vsMlXWY5qlV/4GmXpFKT4pVRu3pWt6u9V6dH79psUdMBdL/oZa3+pYr3pLoXK2Zimr6sei7veMUu8OkmTS3e9s17ppvXV86wJNjOmra8LjtdLxUgvTPan6Om2q+hzZrNcfitF1PcMVt+L8vPGisrJSl1126lux8dcqUGFDoxTt+tPgZNusA/skg5/HFWnbwT6yrI7DOlN9Xd9+AgAAAABcgJzTDxOeVOIfekuVUuTsdL081Pl8ataBYkkr4mtMLRz5jqX6ufNAkYpklNE17fL08wEVSVoZ5zlNMVapFkkNmel2BnkGY+czEFNjQjH/xkxfc06dbP0bRd4xQiMcP7f1bC9Jyvwk86xMoazPsTZmnaa8FYlKWO421lDy76bw3xllsdhfsNqhU2CNucHmfdVJbNC1fWT8d54KXL+6wiLzfvsWp6y/OlRSH937nPPNFY6f55J0t3NmXqVBwb+fqpdT0/X1zu1KvjZLCUuyHJVWGbqN0vRXUrVx+y59Pbu3Mp9ZosyqL/PUQUGBHn9wzGa3Fwk0Vn3XCmvMtTpzAtW3j1F5/y5wL/5XrrL9AhV0hXuxu4b2tXf17ScAAAAAwAXIOf1waJSiJ85UYpiUuWCJ8lwfc/0kw+8X6Msvsmv+vDvGPijDr5nLBrXwkySD7n7dy36+yNZ7owM9tzhnnMHY+Q7E1KhQrOmpgyZP2ev+1z51csjjmv3kU0p0/Mx6YoR9CuXmj5R+0HOr01efY21mMMha3rBILthYqpUzn9TcHLM99Kqwyrxplp5YZlH0oDBJkqFbsIK+W6bX19vbWPMX6vkVLnMrrx+lsYFrNfclx5sIK6zKS7lXN8YkK7eiHvX9xuihtsuUNN/5JkOrilZM1nW9JivtkKT9yzTyt7FK+c4Ry1WaZS6WTC3a2OcWx/bUyDcLHaGdVQf2FUvtjGpTfYQeuin0Wilt4ULlHZFkNSt9/nzH2xVPj7W8XM0MtY2Jq9aYa2VnlcVsltntx9LgkaB97hqjoA/nK8n5Fs8j+Xr9L8tkGHO/Y6irN43pa+/q208AAAAAgAudSXcnTFLQ3oVK+l/ncJNAhfcLlPWrPB1oa5LJVP0js1kKcDwP/i5M0cpX+laPYSp712rumxkqOCIpMEyRgVZl55nd9mNqKx3YL53vR8tHHnn4vAdiakwo1tS/4SNVNmRIUmvdNqCXe0WPSN0WKEnbtHbzmU/F6nOszZoZdPSo6zsiT80wdLbWPB6otLhwXXN1d3Xt0VM3PpSl4MdX6YWhjjsrZLxefjhYmY/Y29z4vEHxU1wWV/cP0fT3F6hv1r26rod9H8Pe7aDk92aoj38D6jc56q/uqYjkYt29dLZi2krqOEYvJHVQ6u097UMkfxut1E4JWjyltySTxs5OUof3o+3Hf3VPDX6/gxIXT1Kf6iP0YFD00/MUY1moYb26q+v1scoZNFUxns0a4ejR42rW7NR/Ihtzrewy9OhN4brR7WdmwwO9XlO1ZlEfZd7b196nvWK1qlOS3nuqt2dLF43pa+/q208AAAAAgItAr/GaHiVlJ89W5hF7Uei9kxRevFDjHl2tgkNWyWpRwfpE/TEmRuNWOmaftRyu+PtMyp15v+bmFMtitcryXYYS7p+m1/+vSIaWkhSisZPCVLTofk3830JZjkhWS6HSn71Xw+66X6k/uh7IqTUztpH+vVmZ35lltjR0iMmFq4mtPq9odHHypE3mg4c8iy9IpvZtddllda8rdvLkSRXuKdLVVwU24s2GVlnMFlllkNFkrHX9r1OxWsyyyCiT0fse6lVfaZSprbd6+zGqhUlGL6OZ6t727KusrNR/vi9Wt65Bp1wv6/Su1Znk6FOjSbVcEq9Op68b0k8AAAAAgAtL5vTuivt3gj5bN94+BdJp7xINi0yWZWKaPnvcPpDG+t0yPfpgstL3OsInP6NC73td7z0dVr1ofoVFmcmxmrjUOStJMoZN0tuLpqpPVSOrCpZPU9xfM1RU1ShE8YveVWKYo9GmaeoaX6jEzDTFd3Fu5zhepWjP3IH2giP5en1crOZus0ohXs7jItXgUEySLGVHdOzYhZ0MNm9ukLGVlxTIiwPmEvn7+6ld24ZOaMPpKjlUqoqKSnUwtfOs8spXr1VD+wkAAAAAcHGzWsyyWA0ytjXKUNtEOKtFZotVhloGwtg5BvT4N26QhhurVVY/Q+3Hc5Fp1JCTFhfBFK6GHGObNq106FBpI99siMaqrKzUoUOlatOmlWdVrXzxWjWmnwAAAAAAFzeD0SSTqY5ATJIMRplMdQVikmSQ0WQ6/UBMkgyXTiCmxoZi/v7+atmiuWfxBaNli+byr8d6Yk6GgAC1adNaP5f84lmFs+jnkl/Upk1rGQICPKtq5YvXqjH9BAAAAAAA6taoUEySWrVsXq+F7M+1pv7+atWy4YHdFe3bymotV6nlsGcVzoJSy2FZreW6on1bz6pT8qVrdTr9BAAAAAAAatfoUEySjK1bqEmTuheyP5eaNGkiY+sWnsX19qsO7fXzwV90uMzx2gecFYfLjujng7/oVx3ae1bVmy9cqzPRTwAAAAAAwLtGLbTv6sSJCh0qPazT3M1pa9Kkidq2aa2mTU9v9Nrx41b9uO+Armh/udoYW3tW4zSVWg7r54O/6MpOHdSsAeu+eXMpX6sz2U8AAAAAAKCm0w7FJKmiokKWw0d1oqLCs+qcaOrvL2PrFg1aR6wu1vJy/ffAQRkMAbqi3eXy8/PzbIIGqqys1M8lv8hqLdevOrQ/Y+tjXWrX6mz1EwAAAAAAcHdGQjGnsiPHdOToMc/is6pli+aNWkOsPn4+eEilpYfVtm0btTG2uugDl/OhsrJSpZYyx9sTW5+1tbEu9mt1rvoJAAAAAADYndFQTI5RY0ePW3XsmNWz6oxq3tygFs0MZ2x0WG2s5eUqLS1TqeWwWrVsoRYtmskQEKCmTf0vuuDlXKisrNSJExWylpfr6NHjKjtyVG2MrdWmTauzPurpYrpW57OfAAAAAADAWQjFnE6etMlaXq4TFRWqOFGpisrKRq871qRJE/n7+cm/qZ+a+vvLEBCgyy47twv8nzx5UmVHjun4cauOW606caJCJ0+e9Gzm8y677DI1beqvZgaDmjUzqFXL5rrsstN6n0ODXQzX6kLoJwAAAAAAfNlZC8UAAAAAAACACxVDUwAAAAAAAOBzCMUAAAAAAADgcwjFAAAAAAAA4HMIxQAAAAAAAOBzCMUAAAAAAADgcwjFAAAAAAAA4HMIxQAAAAAAAOBzCMUAAAAAAADgcwjFAAAAAAAA4HMIxQAAAAAAAOBzCMUAAAAAAADgcwjFAAAAAAAA4HMIxQAAAAAAAOBzCMUAAAAAAADgcwjFAAAAAAAA4HMIxQAAAAAAAOBzCMUAAAAAAADgcwjFAAAAAAAA4HMIxQAAAAAAAOBzmthsNptnYV12F+71LAIAAAAAAAAuGN27dfEsqqHBoRgAAAAAAABwsWP6JAAAAAAAAHwOoRgAAAAAAAB8DqEYAAAAAAAAfA6hGAAAAAAAAHwOoRgAAAAAAAB8DqEYAAAAAAAAfA6hGAAAAAAAAHwOoRgAAAAAAAB8DqEYAAAAAAAAfA6hGAAAAAAAAHwOoRgAAAAAAAB8DqEYAAAAAAAAfA6hGAAAAAAAAHwOoRgAAAAAAAB8DqEYAAAAAAAAfA6hGAAAAAAAAHwOoRgAAAAAAAB8ThObzWbzLAQAAAAAABcuq6VYBbn5KjpkldVgkDEoRH17BMpo8GwJnEKFVZb/5Cq74GdZrQYZDK0VHNZHwW0v/ZuJUAwAAAAAgIvFoR1K+fNkJW0ye9ZIfiZFPr5AL8f1ltHfsxLwZFXR+mTFTV+mAqtnnWToMUYvv5Gg6C6XbjjG9EkAAAAAAC4ClpxZGnxjrJK2GjX2xTR99s9d2vOf3drzn136+rM0Jd9jVHZyrK4bMkvZFs+tARcVhVoZF6mIh5aptN8kLU3frm+/222/n3Zu18alkxRuWaaJkZGKW1HoufUl47yMFCvbsVrz3litXSVSQMf+in/iQQ24MsCzWU0/punPL0tT58Sok2ddQ+S/oZgpBYpfNUfD2nlW1ke+UkZO0e5xq/Ri43Zwlu3XB49P0b7fr9LkmzyqfkzTn6cu1/eOj+2vvkl9Bo/SfQM7K8DPo+1Z1bA+LC8tk1q1sh/jaV8/AAAAAGda7muxSt7i/NROPfoP0j2jR6lnbX9nP0N/r3d7Vmiokh364LU3tCKvRGreUQPGJip+UEfV4+n03CtcomHRycoLmaqNqyYpuJbBO9bvFmrk7fOVF5KgjWvGK/hSGTHm8Swb0DFEA2Im6L76XK9TZAn7Pnhc8zVdL97VShsfv0Ovd35VaQ+HeDY7hXLt2/SGklO3aN8xqX3oKE1+uI77/7yyKHN6tOI+lGIWpevl24yeDewqLEp/IloTP5RiUtL18qBa2l3Ezv1IsR2vafSsf6rnlFe1ePFiPR9zWClxj2mdl5GfNVSW6eeDZZ6lDfebUXop+UENbPTNGaI/JM3R5Mbv4CwrV/nBEh0s9yx39KG5u+IXL9bixYuV8PvOKkudoCGTV2ufZ9uzqiF9+IM+mDpFH/zo+Hja1w8AAADAmWYtLVHAoJlavHixFs+fosHapEfiXtOuSs+WDmfk7/UezwoNUblD8+NmKTdkil5ZvFiLn7lDZW/H6fEPSjxbXgDMWvlssvLajdGaNa6BmFWZs2I1I6t67puhxySte3+MTDuTNeN/6/OgfZHweJZ9fmx37VtYz+t1qiyh7KB+LiuX1EoDHp2j50c1NBCTSj54TGNWSPc8s1iLF7+q+K5f6qm67v/zadt8PfGhWeFJae6B2N5lGj12mYqcn/2Nip6bpuQws9IS5yu3orrppcJv5syZMz0Lz6Z9G9/Q5h6P6amoK9W8eXNdfnV/DbzeoBatuqp9S6kk+22tLuqi64Ka2zcoSNMLW/zV75p2UulOpWVJ14f+qLS3PtIn/ypVUI/uutwRC+9Om6uck1drX9obWvmPH3V5aKha/PCx3vFse9mPylmWJ8P/XKP2klRSoHXL39aHn2xX8cku6tGllez/yFCufVtWKHXlRmX+q1S/uqq72jsOa+8/3lN+i3D1cPwHvOzfH+udpR/pk9w98gu8RkFGxz9TlHyh1OU/6nLjTq1+6yN98q/j6tazq1p7/VcMl+/z2I+9X9rr8q8/0Bt//1T/On61el3tPE5JZQVal2o/hwPGQFV+/rEO9h6rAV1c9y97H/79qMImRqlH8+a6/NehChvRX03+/qzSm9+jW7o59li+XznL39Z7G7bqX4c66Dfd2inAGaHW2l9S+Y9btfqd1fq/zf/WL1d0UY8r7B1Wkv22Vn/fWn5fLtfbOVJIn0AdcOnDGud3qIN+06OdAlSinLcWa3XuHhXu+1Glhmt0XZcS9+tXR//X2K9nvwEAAAA4I4o/S9XXV4zSPTd3VHOjSVfddK2afPyicjuOVb+gAq17cYvKr/pJaYs/0L5fhavHFdXPZWXr5mr1f69R3y6OBy6Va9fyl7W1yQ367a/8XJ5BclyeT7w8KwQ1lypLtHv9Cr3190/1deFJBf22s/fnr+JPlZLdXdOeilJg8+Zq3q6r+oX3VouWrXSVyX4ctT3f1F3n5Vzb1dW+Hna+qUlzvlL4i+8p/jeuQ7+O6vtNH+n7Lrcr8mqXoWO/DlPQ7oVavM6gwePC1MFli4tWjWfZazXgV7uV9EGZhowI1YnTyBLKvk7TpxqomOvaqHRXujYfqt5Pfa/bP9fMVeWwBRrTp7maN2+lTteFK7xzgAwdAnV5U3ub2p5b66rz9izdvL73uFdWpT03QR9UTNKilwa53xsHv9IHmyvVf3gftasaQtVSPX9bqQ/eWqKi4Ac1zO3+u/id85Fi7Tt20t60N/RBfomcA5na9bpF3U32360FW5RV4JLg7svTup37qz+bVyv5jf26qm9v9dGnmjImSTnH7FU/7/xYC5KWal9IP93c/Es9NXWCnkstUc9+/dRlzxsaM/tTx3fuV+7HefpZzn8deEyftxmisXf11sHU6qS55IPHNCa1RH3uGq272mzVYy4p7887P1auY2hV2ZYkjX7iUymkt27uWqLU+DFasMNep7ICZaXN1bwPytSjb4ja5b+q2FnO43C3+604jXljrzr166eIjnu1IG6WNjvOzVqwRe/PfUkfHOuim0PaafdrY/RchmMvlTs0f8wU/d+xEN3cN1gHU1/S+w35BwG/zrpn1E3anPOl/XPlD1oxeYo+LA9WRL9+ap3zmEa/+IX9mOvoL+1Zrglxi7W3Y2/d3DdAuYlj9Od19jprwRal/DVJHxwL1s29OqmVRx9aC7bo/RdnasH+jrq5b4j06WMaPfsLlauVft0rVFc1D9BVvXqrZ6dW7tfvFP1fZ78BAAAAOKuqpzTuV+7Hr+mppDy179tbv2njLLP/vb5LR+mDtz+unr1S8rFS3i5R++AAqexTPf2Hx/SZQhTRr7f06WOKe7tA8vqsUKac2RM0a2crRfTrpx4lyzSmtlkxpk769Y9pSlmdrxLnI0LHEA0IcYx8qOP5ps46b+e6Z7kmTEnT4a79FNEvQJ8/EacXsuv/XFKwdYOKNFwxUZ5zJo2K/Msqzaoxrc2g6OHDpeINyrx0l4OS/KonTp5OluDKbT91Xmd3V3TsqI3LX1POD87r2kpdwm+SM+et67m1rrqaz9INuMe9qdiszAwpOHaEQj3ruo3X8lQvU25DRii2h5T+yWaPikuA7Zyz2n765FXblHuG2PpFxdgmPLHUllVsrar96Z1xtnHv7K1u/tnztn5/2WL/fe8y27hBz9uyK5yVVlvGE4NsU9YctNlsNlv2XwbZZmU667bYZg0cZ3vfuSvntlV1jt+LV9nGDXvelu08BKvV5vw1O2mQbcL7+xyfbDZr9WHav+szm81m2217855Rtte/qa6zbki09Xv477aDNsf3jlps+85ZefDvtinO7/ZUYXX5jsO2tY85v8PeL6MW765qenDNw1X9Yl2faOv32HrbYWdlxRbbrEHV27rZu8w2ztv3f/a8rd+4ZbafHMd/S+Kmqn6wVeTa5g172Lb2YF39ZbVlJQ6yPb626ihstn15tu177bWex29z60N7fdV1ttlstqPrbU8NdHynba/t/XEu19L1+p2i/z2/17XfAAAAAJw52X8ZZBu9OM928OBB28GDB23fr020jYh53pZ91Ob4O3yiLeOo6xYef68fNdr2puOv7gdXPWyLfim3qqX1qMvD2Dev2kY4nl1qPCvsXmobdc/S6ucv20HbmkkxtnnVu3JjLd5ke/3h0bZbBg6xRT+YaHvzk331eL7xUrd7qW3UsFdtO202L+dqtWUlDrE9tcHlHL56yRbtfGash0+nBduuuv0t2w+eFbYi2zvjBtrGLSvyrLDZvn/LdnvXYNsjn3hWXKT2LrONG5hoy3DcXweLc21v3j/ENs5x8U8nS3Ddtvp3L9fZ5Rm3hoqDtp2rZtjGDRlk6zdktG3KC6tsO6sucM3n1sO7c23fHbB6ravrmbah93gNdd0XW2bb+vefbfuHZ3md9+DF7ZyPFJMC1GnQw3rl/fXatOYlxffdp5S4KVrxg2e7WnTuoquq/rUhQD1DOutwmUsaXNeQQW9zea8cooeiCvT00KGKmfCUUjJ+ULmjXdg9D6v16jEadEecHnlxubabvSX5+7Vv//Xq06u6JOCaEHXf84N+cha0aqVWzt/bta+a8ldDaZ7WvfGUJsbGasjQWC34xr26VfPqFLydqWPV7wfN+9S9V2j1d/h1Vo/OVdX1U1kudWin9pIO7t+n8h2LNSY2VrGxsYr9w2xlHCtTWVld/bVf+/Z1Vp9rq45C6hiiPp2rj9n1+L3p3tnloJuHqmdXx3fW6dT9X1u/AQAAADiz9qbN1IQJEzRhwgQ9ldFR0xYnKqxqtllLtfI+80xSsAZGSRs3FUj6QRkf/6CoW3o76sp1MHu5npsSp9iRQzXkiY/lfayOpH37tK8kTU85n2ViJyiloEyHa3muCLjyFk1+dZk2bVilxfdfr5K34zRhxQ+neL7xUhfcXT3Lduv7qgNzPdf92revXNvfGOM4pljFzt6ksrIyVa8E1njWA8U6cMSz9FK1Q/Mc99eEqW9oX9RLevWeej78nipLqMHLdfZ4xnXj1049R83U0vWfaNPSRN3V7ks9FeccjVbzubVVcG91NznupwY80zb0Hm8Q6wEVFR84I/flxeKch2LlpSUqc2RLAa2C1WdUohKG7VdGVi2pWKVHEFVZ7jb1sOzY6V75Vurz8FJtWr9Ki6cMkjIe0+iF+faqrjF6cc0n+vidRN3Xda/m3/eUvI+U3K+DruXHylRmsgdM9VeglMmzlNt5nOa8s0ofr1+vhHDPNrXbV3LQ7bMz2Kufcm3euFU9+95U9daOTjFJWrVqVdXPx58slf2/NXX0l0q0z/0wGsT9mMsb8If6TPQ/AAAAgNPV/Z6Xqp4hlr36sAY04N+ku8fEqP26j7WrYJM+OBajYY5MrDxjlmKXl2nYE69q2Zr1+njBKHkuneym94Na5voss+ETPdvfs5H9uaGk+uFUXW4YpSeeGKKDGVscU9Hqer7xqDt2WOXqqPa1vjSgne5Kqj6mVWvWa8vS0V7fhOhNUHA3KT9PeQ1Z6PzbPOWpm4Kv8qy4mPXTs1XXdrGeHRVSPTjE0xnJEuq6B1yVq6ykrOqZNqBjiAbcP0Px3T/Vxm3ONh7PrW4a+Exb33vcmyuDFCwp77uGzKstVF6epG5BCvKsusid81Bs11txGv3iVpU5A5CSL7Qxu0y/7uj4r2VAgHbn59nrK0u0Ln2r6+bSD2l6Z4vj5i3bqvfXBSgsvJ7JsDcFafrzrDTt82ulTiG36A9R3VVSdlhSmXJfnqIF28oV0CZYfe66QwPaHVZZjTnHN2pAeL4+SHOGemXKWf2xFH5Tvf8DZ3dYZWXt1OPaYPu/KJRt1eaqPzx16xTeX603pWmzs1u2LNOaWjLGGo7tV+5bU/Rc3i0a63gPcqfw/tLHq5Tj/G9E2aeaP2W5dpXX1V+d1Te8lTI+2irnZnvfnqAhzrXI6mFv2rKq7yzLWqYP/Pqrr8ul9R70nan+BwAAAHBemQbp9q5btOKtLWo1ZJC6O4rLyg5LXXqrz5WtFCBpb9YW7fXYtOpZ4YabNWBHmj7Y4/hcWaDUhCRt9vZ2yrw3NHrMS9rsDCMqS5Sb8YVKOnVS+zqfb7zUrU5TTvjN6uv47K6z+oYHaN3q6vZlGXP1SGp+vZ+VgvvdpiCtVVpGfcfwWJW+dq0UeJsiu3nWXaLOeJbg5TrX+oxbpoxn7tCE1IKquvIfP9bGHR3VqZO8PrdunhWriat/8FpX5zNtQ+5xb/wHKDJKKlj1kfI862qT/5FWfSdF3zrAs+aid85DsT4PJmnYgSQNuW2oYmLv0KDYWdoZPkcJUfYxSp1iHtTYfa9pyNA7FBM7U2W/6ee+g66D1GPzBA2JjdWQkUnaNzpJ8cHuTRqka29FlC3XmOGxih05VDFvS0/cc5OkVurRr7tynrrD/l1DH1NO/wc17ErPHQRowJNz1DdrggbdEauYobFKLh2nOeMaelC9dde49loz+Q7FxsYqZsoOtb7Gs00tgsdpzuj9eu4Oe5/Gfdhafbt6NnL1qf4ceav6R96q/ndMUMqPg/TKMpdhzcHjNGfsISWPHKqY2FgNGblY+wb2V8+AuvpL6j4uSZPLXlXM0FjF3jFUcVmhen5S9eizU+k+qIs2xt+h2Ng7FDN7v+5LGuf4P8LOCosK0DsT7nAsqOnqTPU/AAAAgPOrnaKGddfmL1pp2JDqsKJd1Djd858kDRkZq9iRY7SgtLPLSDGPZ4Xmtyjh+VCtmzDU8Rw3RRlXDlHfGs9xkm54UHOG7Vdy7K0aMtK+hM1TeTfplSdvUcApnm9q1G0K1RzHdt50H5ek+FJH+5FDFfPGfg3uH1Jr+xp6jdHkMCl9VrJyPUaLGToEqkNL9zJtS9az66XwSWNqLqZ+iTobWUKN61zrM2473fXMdF2VMUWDbrtDsSOHalBcmlpPcn5HzefWeWWjlXBXZ691dT7TNuQe98qgmPvHyLR3oZJWeLyhz9BBQYEd5P46B7NWPr9QRaYxih/i+aKHi18Tm81m8yw8J8rLVFImtWrTyuWNJPVXXlai8oB2alXzbmycY2UqqQxQuxo7LFdZSbkC6nGc5WUlKvdrV8c8+XooL1PJsQC1a+N5HPVQXqaScm/n0FiOc29n/xcZN7X21ynqarEvNU5PaaaWju1Y+3eewhnpfwAAAAAXpPLSEpU3r/8zYHlpmdTq1M9xzqlval7Ls0Rdzzd11XlzOs9shUs0LDpZeSFTtXHVJAXXkk9Yv1uokbfPV15Igjau8fImQR/XqCyhIdf5WJlKjkmtanmmreu5ta46b+p/j3uyKHN6tOI+lGIWpevl2zzfXupQYVH6E9Ga+KEUk5Kul2u85fTid/5CMcBFdShW1/BVAAAAAPBdlpxZGjl2mQr8u2nsX+bp/qhuCjIaJFllKS7Ux29M04zlhbJ2G6Pla2Yo/NLLMHCmVBRq5QP3KiHLLNOgSXrh8fEKv9oog7+kIxYVfLVESYkLlbnfpMikd7X0nktzHi6hGC4I5Xu+0C71Vp+u3rJ0AAAAAIAk6dAOpfx5spI2eUx9kyQ/kyIfX6CX43rLyAgxnJJVReuTFTd9mQq8LFdn6DFGL7+RoOgutQxLvAQQigEAAAAAcJGxWopVkJuvokNWWQ0GGYNC1LdHoIyXbn6Bs6XCKst/cpVd8LOsVoMMhtYKDuuj4LaX/s1EKAYAAAAAAACfc87fPgkAAAAAAACcb4RiAAAAAAAA8DmEYgAAAAAAAPA5hGIAAAAAAADwOYRiAAAAAAAA8DmEYgAAAAAAAPA5hGIAAAAAAADwOYRiAAAAAAAA8DmEYgAAAAAAAPA5hGIAAAAAAADwOYRiAAAAAAAA8DmEYgAAAAAAAPA5hGIAAAAAAADwOYRiAAAAAAAA8DmEYgAAAAAAAPA5hGIAAAAAAADwOYRiAAAAAAAA8DlNbDabzbOwLrsL93oWAQAAAAAAABeM7t26eBbV0OBQDAAAAAAAALjYMX0SAAAAAAAAPodQDAAAAAAAAD6HUAwAAAAAAAA+h1AMAAAAAAAAPodQDAAAAAAAAD6HUAwAAAAAAAA+h1AMAAAAAAAAPodQDAAAAAAAAD6HUAwAAAAAAAA+h1AMAAAAAAAAPodQDAAAAAAAAD6HUAwAAAAAAAA+h1AMAAAAAAAAPodQDAAAAAAAAD6HUAwAAAAAAAA+h1AMAAAAAAAAPodQDAAAAAAAAD6HUAwAAAAAAAA+h1AMAAAAAAAAPodQDAAAAAAAAD6HUMzHWQ9ZZK3wLD1dVlnMFlk9iwEAAAAAAC4QTWw2m82zEBeCfK1MXKYdCtRtUycp0uRZf/rM/xuvG/+cJQ1doG9fj5LBs0Ej5f41XCOXmhX0cJo+mxriWX0OWFW0fqGSlnykPLNkuCpMsXGTNHZgYO3neGSHUp5frUJJunaMku/xOG5rsTLfWai3PshR0VGDgvqN0fTHx6hPW/dmzu9esNUseV67CotyVy7UqjyLpN66N2mUQvNXK2HZDo99VAuMmqqHBp6Fiw8AAAAAgI8jFLtgZenRq+OVphAlZqYpvotn/emzZiWqf9xqKW6Vvny6t2d1oxUtjVHEXwsV+WKmlv7+XAc6FmVOj1bch2bPCgXHrdK6p3t7DcZyZ4Vr5DuObe5M0Z65A6srLVlKiI7Xyv3VRZIkvxAlpqcpvpvjs7VQqQ/dqxmbnN/tcu0OZSnpDw8p5Tvn+LnhWvqfeYrcNE1d49c6ymoKTcjUugcCPYsBAAAAAMBpYvqkDzMMTNKX/9l9RgMxSQqKS9Oe/+w6D4GYpG3z9eiHZsk0XIu279ae/+zWt+lTFeonFSydqdS9nhtI2jlfj75jlgze4jIpd36iPRDrNVUb/7Vbe77brjUTQ6TKfCU9skRFkqRipcRGa8Ymi/o8PF6RbnvIUsKN8UopNCpm4igFu1b1m6kvv8j2+EnT9F726qDA89CHAAAAAAD4gAs+FLMe2aOtmQs0+bWRun7mzfr1E32qf2YO14DXntILmV9p95ELZwUr694MzZ0Qq4iISEVERGt04jLlHqquz/5rpCIiIhW3vNhlqxwlRUQqIiJZ2S6lkqQKs9Kfcexv5DSlbrO4VLpsZ9mhlAnRioiI1OAJq1VQIWl/hpLG2ssiRs5Sustop6Ll8fbyv+ZUF1qLlT5/skZG2I9x8NhEj+9r5PlVWJS7PFGjo2vfr3O7pK1WFa2f5TiGWD26fIcs9Vz3rOjfxWoTGKjwSdMU7ZjaaOgxSQ8NlaR85RV4bFBRqNefXKgihWj6y5MU6lGtiiylLjNL6q1Zb0xSsEGSv1F9piZorFFS/jKt2ulo236gEtdka83Um2X02I2uGqVFW7L1cmw395FqBqNMJpP7z97VSt0pqcskPRTlPajzvE4jJ8xX+l73PwN1XqedCzUsIlIRI5coz20rs1ZOsLefkXXh/JkCAAAAAOBMu2BDMcsPf9f0lwao63MjFZu+RB8W79GBY+XujY79qN3FH+uV9Ac14LkwdX0pWe//cNi9zbm2d4lG3jpZr2fkq9QUolCTWdtXzNLI6GnKdGRA1kPFKiou1oEjrhtadaC4WEXFBzwWqLcobVqMJq4tlo6YVbRjrWbEhmviemeg5NwuVwsmxmruVxaV7itWQUai4pIXKiFmslLz7GVFO5ZpYsws5ToDpiMHVFRcrKJDzm8sVkpspCa+lqG8IyaFhph04KvVmhEbrUc3Ob6vUedXrNQ/hmvkM6uVvdciyaKiras1I7avhr1Z6GxUtV3BsmmKeGi1Co6YVVS8Q2nPxOrW52tfd8tV0OgUffZZppbf5zrlsFhFhZIUqKBOLsWSCpZO09x8KfTxeXroGi8B1L92KLdSUo+BCu/oUu4fpoGDJKlYmV8VSwpU/Jspiu9dIw6TNFDJHycp2nX7Wpm1cv4ymSVFTxuvUH/PeklHsjQj0n6dci1We+CYsVATIyPrf516DVSkn/2eSHeGepK0f4NWZRSryBKm2/p56Q8AAAAAAC4RF14oduQbLV40WNcseE7vmxsWcFnNqzR9wQBdv+hdbXcLnM6dog0fKa9SCn48TV+vWaBFa7Zr3dPDFT0oSNaq8KkhilV01Ux9vS1bn23fpa9fjJJkVXrifGW7jZ7aodIB6fp2e7a+3r5AMUapaOl87fqTo2xXiu42SjIv06qtrtu52LtBaTsl9ZiqddtXadHiVfp6XYJiogYqyGp/m2Rjzs+6frZmbLNKIVO18Z/b9dln2/XtxgSF+kl5yU8q1WOtrsziUG381y59vX2Xvn59uOyHvVqZ7s3qreDNyUrKlxQ2SWNd18/fu0SPzsmXukzSC1ULg3k4UGSfHtnepDYeVcG/cezMeR28BVhOddW52rZQc3Mco8SGeAvYpLw3Zyl1v2QcvsB+X2Rv19cpw2WSWWl/tY/8OvV1ClH0iEBJxUpLz6/at3nTR8qVZLxzhMLre8wAAAAAAFyELqhQzPrDKo2a8yc99/3B6sLLWqtnt/F6/k9r9M+nc/TTC7lVP3ue3qjNf0rQI92ukcHlTA58P1/D50zR2z94D2nOpmZGe3RS8MESpeYUymyxKjhunhYlTVV0l8aMvAnU2PujZHQEFMbf32+ftmfJUa7b+lghirnNEewYQxQa6Cgb6igzDNRtg+y/Hq+s2shdC6M9+Cn8SG8tz1GB2SJrt/F6eXGSpg+1v7mxMeeXuSFDkhT94Hj79ENJ6jZe00dI0g5tyHJfFD90xIiqdsahI+zrc1Ued2tTX+a1k/XH5HzJNFxLF41S9QpdZq1MTFZepUlj50z1PiLLVetmNadEOlgrz9R9Vo9RYipU5gb7yDS3+2LQbH3yxXZ9mzlVofW8TqF/GK8+korWbnBMoTTr47Qd9n2POrPrzAEAAAAAcKG5YEIxS+ECDV+UrH8ccxRc1l6D/udVff6Xzcp4YLLG/barOrR2D10Mrdur+29j9cQD72nPX9bq3f/pVx1cHNuqpxaN0wuFDRttdrpMv5+h5EEmqXC1ZoyO1o3X91TX66M18c0dcl9Bq76CFej25kmTAgMlqVAF37uWnwGmUZqVNFAmFWrlM2M1+Ka+uqZ7Xw2esES5joNv+Pk5py5Khhbu18850qrUcqZCJXfmtZN1+yMZMpsGKvm9eYp0SbUsa2cqIUcy3ZOkxBtct/Lg18z+v8UHdMCjyrzPvmaawc97GNhg9RglJhWp4DtJMsro1sQgo8lYtV5Zva5Tx9sUc4Ok4o/sUyj3b1DaNkldRijadUQdAAAAAACXoAsjFPvpXf3+rSXaddLxuXk/PT9xnd4d0U+dvY6W8cL/Sg0a8aq+npyg/2nuKDv5rV5560Et/smj7dnk3013p2Tr239mat3SGXpoeJhMRwqVnhyriSvcR0TVzwFZXBaxl6yyVkiSUW085/OdAcH3pOjLXdv1WVqKZj08XOEmiwoykjVy4mqZ1ZjzM6mDc3kvj8XynaHS2VCwIt4lEEvR3W6zI4u18g376DXLhlka7FisPuIPC+0jptZPV0REvFKLJYX2Vrgk5ecq121Krlm78uzxUnA31/XLGqs+o8QkqYOCAuVyH9SiXtfJpLvvjaqaQmnOylCupD73j6n5wgEAAAAAAC4x5z8UO7lHryyb7xKIDdG7j7+qcZ0bN/rG0DlWqx9/VXe6BGPPLVui3c79n2UFWzOUOn++so8GKnTgGE1/JVXvTbMnMtlf2SepOUdIFeXlV4/a2blDuc7f3eQrbX31YvTa+ZFWfSfJ72aF/da13emzFuYoffl8zd1qVVCvgRo7dZ6WvztVwZKUk6Ndstbr/NwZ1KeP/Xwz12dUn29FvjKzLJKM6tvnTIRK1QpWxOuPiVm1BGJ2hg6BCgoMVIeWLoVWLyPWTAN12w2SlKGU5S4vBchZqNe3SfKLUvTNrhs0Uh2jxCz5WcquerNkiPr8TpIKlZ7hcl9YVivut30VEbdMRQ24ToZbYhTtJxVt3qDUrBxJYYqNqp5kCgAAAADApeq8h2I/ZDylF5xLiF12ixY8/rwGuQYVjdGynxY8/pLuDHB8PrhA92f86NHo7LB+NVszXluouHunKeXDDKV/OF9Jf7OHF9GDwiRJQb8Lk0mSZe1k9Y+ZrIQJMbru/iwZvWZDgbKsitHgCYlKSJyswbELVSTJNOZ+RZ9uP3kwWD9X0jML9fqEe/Xom2uVvn6t5j6/TAWSNDRa4TLU6/w8Bd0zVTEm+/mOjJuv1A+X6NFhsXp9r6SwBD1U1/TFBjKvn2YPxCTJmqcF4xyjwBw/ccsd63EtzdRnn3n8vBhl38nQufrssxSNDZQkk8bOdr4UIEYRY6cp4ZGx6j/WPqor9Mknz8B1MCv1RccosccnuY8S2zZL/YfFa/St05TuGKkWOclxPHNiNHj6EqUtT9bo6ERlWi3Sb/soqCHXqWWUYkdIyl+o1zdJGjpGd5CJAQAAAAB8wPkNxY59quc2f+v40Fp3jpyhO087YHBoeYtmxwypWmNp9+b5+tC5XtlZFPpwmpbGhcj4/VolTZ+sidMXKtMSqOi/pOvloY6j6Z2g95IGyuQnWXZmaOXnbTR28UzFeF1GqrcS35qhoG9Wa+WKDBVYDQq6c57+76mzsBB6yFStWzpeoS0LlZY8TRMfmqbXsywKipqhjXOjZKjv+XkyDtTLaQs0tpdRBVkLNWN6stK+k32/S10Xvz99x4sL7YGYJFnMKioudvs50Ji3knYbr/dWJSiyo1VFW9dq5docmf3t57wmzmuS2TA5CzV3m2OUmGcfmgIV5CepXQd1cHlJwXurEhTdRSr4MFmPPrNE2WaTIhNWad3j9lF5DblOkb8fY1+Lr1KKHjqg6s8MAAAAAACXsiY2m83mWXiuHNj0J12f8Y39Q+Cz+ufDd6iDZ6MGOPD5Am3qPFl/+LWz5KDef22wpjuWruobtVFrB7V32eJssspitsjqb5Spbe0xg/WIVYaWtddXs+9PRpOM9Wl+mqwWsyxWg4xtjTJ4Xd+qfudXwxGLzEdVx37rkqVHr45XmmexQ2hCptY9cAZCqjpYLWZZKht4zqfLapXVz+C1v6quk8si++4aeZ0AAACAc8y6N0upbyzVqq1Fssqk0DvvV+KkKAXV56+xFRbl/X2JXn//I+WZJVPICMU/Oanqzeu1tTNcFaZ7pyRo7A01RyhY8lcr5dXVSss3Sy2C1Oe2MZru7XgasE9XecsT9a5jZZPAqKl6aOCZHC6A2nCfcZ+5Oo+h2I9a/OJwPXdQklpr3J826/nTWCPrwOePKeLDT2Xxv1bPTv6bJjiDsX8lq+vfVskqSe2n6vM/36vO7pviopGvlYnLtMOz2IE/4AAAAMDFybIpUbdOWC1zpUdFHesEV6koVMrIaCXt9KwwKTLpXS29x7FxRaFS/hijpG011xIOvi9Va2aE2WdQSCpYGqthf91hf450ZRqo5FUpuruL43MD9ulm53xFxNiXxtE5+gd+cJ9xn9V0/qZPln6lTVVrifXTLb/xqG+AqkBMkiq+0XMf/l0HnJW/6aehzrM8uFX/KK3aDBedEN2dlKTkWn4IxAAAAICL0JEsPTvdEVT0mqTln2Xry/QkRZskmbOU8Ozq6iVSvMibf789qPDrprtfTNNnn6Vp1lCTJLMyn0nWSsfGRUunOUIFk6JfTNeXX2Rq+UT78iMF70y3L2kiSUcyNHe2PagInZiqz77wOJ45GVUhRr336aqiUK8/WR1U4BzhPoMX5y8U2/uN/uH8vWs/9WvkkbgFYpLUcao2T3SZhnnZ73RrV+eHr7Rtr/N3AAAAAMD5Zv10tdIsktRbs96YqvBAk0w9RmnRy461b3MWKjXfcyuHiiylvGlfLyd63iol/z5EQYEhGvvyW5p1zyjdPcoke9KRr1XL7Dsxjp6rRb/vJpMpUOGPv6VZN8j+8qu/OUKIr7KUXilJw/XQ1DAFmezHkzjeHkLo+yLHIIwG7NNFUeo0zc2X1GuUYhy7xNnHfQZvGhlFnb4Dh6rfBtnB1LXmekhHvtHWHzwvqzuvgdgj96q721kZ1N10ZdWnHw45h6cBAAAAAM637JwM+y+9blNkR5eK34UpUpJUrNxvahnD88/NyqyUpChF32JQUdYSJSUmKuHZDTKMSVByUpLuDpFUnKNMx1rTQ1zfxi6TwiMd09625ihPkgYmac9/dmvPf+Yp2mVdX0up48mzjVHN1MB9Ou1doomz8yWFaPq88Qp1rcNZxX0Gb85bKHb82OGq39s0b+1WpyNf6alX/qTYReP0Si3BWP0CMTujy/4PHDvuVgcAAAAAOF+sspQ4fg3upiDXKv9uCu5h/7XU4v25UAdL7c+ERoNyn41URFyyUlas1soVC5UwrK+GvVlob3fI4nh2DFG3qplEdsFXO4bRWEpV62o7hUv0xJvFkky6O36ETGrMPs1amZisvEopaOJsPdStxtAQnDXcZ/DOS4R0vh3U2289qLdLJZ38Vi94CcZOFYiVl59QyaFSFf/0X+3ZW6zyHrO1+YEPlR73nmZ0OalDv1hUXn7CZY8AAAAAgHPPrAP7PMucvL+B3VXRXkcYYVmr1G8GalH6dn39z0wtvc8+giYv+X77FLKD5trXVjrFd1i/W6hh0faQIThugWYNdIQMDdynZe1MJeRIMo3Ry1OZz3ZucZ/Bu/MWijVzGb1V6jJqTGqvcfe/qjubOz56BGN1BWInTlRo/39/VvFP/9XJkyfVtk1rBV3ZSd26dlbw1Z0V0q27bu5yhSoqK1X803+1/8DPhGMAAAAAcN4EKjjY8et+s8dC5wUq/LfjVy8P/5IU1M35ukCjxj6XpOgeRhmNgYp8aobGGiWpWJmfF0tduzmmkBWr2GOGXFXg4dfMvUKSZcd8jbx9vvIqJdM9KVrzdO/qpX8ask9Lhp59JsM+AuiFBPWp5XxwtnCfwbvzFop1aFu9ztcB8x73ReFa9tOCx2sGY099VHsgVmop096in2QwBKhrlyt1Rfu2atmyhfz9/dSkSRM1adJE/v5+atGiuUzt2+rqqwJlCGiqvUU/yWIpq/5uAAAAAMA5E/wbx2iWL3O0q8KlIn+Hsislyai+1wa6VLjoEOSYCmeSqepta5L8O8jkXDeqQtKV3RTsJ0kWbc91LNAkSbIqL9exuvqNvdXTpcayKVG3xi60j9y5L1WfJA20L8ju1JB9fpXuWOTdrJVxPdX16u7qenWkkhzN8pIj1fXqacp02QvOLO4z7jNvzlsopi7X6n+cv+/Zqq0n3au9BWNv/8N7IFZyqFS/lFoUeGVHtb3cqCZNmlTvpw5tL2+joMCOOlRq0aFfap3VCwAAAAA4S4JuG2EfCVO5VnNTCu0DJiosSn9jmX3amHGEbrve0Xh/jlLmL1H2fsfnXrcpposkFSp1YVbV86Jl0wKlfid70NEnUPIPU8wIe9SQt2Se0g/Z21m/W6LX19t/7zN0oH0NJ0mWDdN0a/xqmSul0ImrtGZGmHtQITV4nzi/uM/gTRObzWbzLDw3ftTiF4fruYOS1Frj/rRZz//Ws42kI1s1ec4UfXjMpcxjhNgvpRZd2elX8vf3c2lklaW4UNu/KZbFapXB0FpB1/ZRcKCxxpsuKyoq9OO+A7q8jVFtjK08agEAAAAAZ1PurHCNfMc+N8zQNlDGymKZLZJkUkxKul4eZJRUrJSYSCXtlNQrQZ+ljVeQJMumabo1fq3Mjm07tLToQLHFHnqEJenL5aPsgcH+1RrdP9E+KsjPKFMnyeJs1ytBG9eMV7C/pOIlGhaR7P42PzfDtfQ/8+xvLKzvPr0qVsow+yie0IRMrXugllFKOGO4z7jPPJ2/kWK6Unf1vdbx+2G9/cnfdcCjheRlxJjHGmLmn0v0qw5XuAVilm1LFBfeU9dFxCjuocl6dPo0TXwoXsMi+uqa8HilbKsabyZJ8vf31686tJf55xKdOOE6jhIAAAAAcLb1mZGuNQlRCjJI1kOOoMIYorGL0hxBhSSZFBxqHw9jCu0m5yw246B5+mTpJIV3Mch6qFhFxRZZ/YwKHb1AX77jCCokqeMoLd+yQGN7GaVKi8zFFlllUFBUgta86xIqVDo3qIf67hMXBO4zeDqPI8UkHftU9z/3mNaflKTWunPUOi24oXoBfjdHtmp66h5NeLD6LZP7//uzDIYAtb3cefNalD0rVqPfKZShxxjNmjNeQ3oEymiQZLWo6LsNeuvxWUr9zqrg+1JrDE089ItFVmu5Ov7qCpdSAAAAAMC5Yj1klsXPKJPRc46PndVilaGWOh2xyHxUMppqzhByY7XIbJGMbY2nfPNgvZ2NfeKs4T6DznsoJumH9D/q5sxv7R8ChuithOc1tKVnq5rKy0+o+Kf/qmuXK6vWECt4M0aDk/MV+ni61kzsVsvNaVXBolgNnpOv0IR0rXvA+RYJu/98X6zAX/9KAQFN3coBAAAAAABw6TiP0yftOkc9ryfaOz6Uf6z75zylTUc8Gnlx5OhRGVu3rF5Uf/9qzZiTL9OdKXrPNRArXqa4iHilVr2kwaDgie9q6Z0m5c2ZpZXOhfMcjK1bquzIUfdCAAAAAAAAXFLOeyimy7rqkTFT1dN5JMc+1r1zpujtH6weDd0dPXpcLZo3q/qc9+5CZStKzz3n8frSSqsOFB+Q1W2+rlGRz81UtHK04F3Hu0kdmjcz6Oix425lDVZZol2rZ2pibKxiY+P0yGsfa2+ZZ6Oz7QstiH1NuZ7F3pSXqaSs3LMUAAAAAADgknX+QzFJ+vW9+t/7x7sEY1v11KJhuvejrfqhlnXvy0+cUEBAgONToTI3FUtDYxRdj6mXkqSWUYoZKhVtylKBS7HBYNCJEydcShqo8getmBCrp3K6aGzSYi2e/5gGly3XmDFJynF9g+ZZd0IHzYftb6M4lS9eVczLX3qWAgAAAAAAXLIujFBMkrHbZK2dmKD/cb5l8uRBbfrHFN38zABF/e1dffivPTpwuDriqaw8KT8/5+EXqeA7KTQ0pKrenVVWL+lQaGiI9F2BilzK/PwuU2XlSZeShinf9IYWVI7T4nnjFBbcTu2uDNGwJ5fqr6GfKmX1D9XtftyqFa/N1Qsvvq11/y6p3kHJF0p96wvt3blaC16cq5Ss/VLlfuWmvqYXXnxNK76onu9Zkv22UrN/0N51b+uFF+cqZV2B6hqQVvbvj5Xy4ly98Npy5fzoGBlWkKYXPsyX8tL0wotp2u1oW+vxNUCN49u0X27j0cr3Kyf1tepjd4zm27fpNS3IqO6r3R/MVcoW5zGUa9fyuVrnmmQCAAAAAAA00AUTikmSoXOsVj/+Nz17lXORMUknD2vXv+Zr8t9G6vq/hunXT/TRr5/oo3q/H+CKbuppKtTceycrzWP9sLNh+5dfaMCoUerkVhqgAc9/oqVjO9s/7lmuCXGLtbdjb93cN0C5iWP053WO0KesQFlps7VgU3v16ddZJW89polT5yqn3Y2K6CtlPPWYUhyBkLVgi95/caYW7O+om/uGSJ8+ptGzv3APnhzKtiRp9F92qH2/foroWqKUuCla8YOkNt11c3A7qV2wbu7bXe3lOL4paTrctZ8i+gXo8yfi9EK2t73WzVqwRe/PfUkfHOuim0PaafdrY/RchmM/lT9oxeQ4Lfixo27u21utv0zUqMc/VomkTu2kdSu2aJ8kaYfWrd6iD1ZvUYkkVX6pD97eK7Vz+yoAAAAAAIAGuaBCMUlSy2s1YeJGfTv5Wf3B1NqztsqximMuI7qCFNxDystzXx9MktRyoJLT5ilaGXo0xj0Yy8vLl3oEK8ilufsItIbb+x8poJVzWqc35dr81tu64uHFemLULRowaLSefWGUvn9juXY5m7SL0eRHb1FY+CiNjQrQrg4xmjzsJoUNeljxA/crZ1v1SZTdEKcX7x+iAYOGKP75B9UrY7kyagzsKtD7C/M1bGai7gq/SWHDHtZL9wfonQ92SKYQDejVUeoUqgGDQtRO5dr81nL9+sHnFT/sJoWFj9Zfn+6vrBX2wMpTWcGn2ugyes1T66gpmjrqFg0YNk4JY0O0+Uv7NM3yTW9oweUPa/GTozRg0C2657kk3bXvDb2zQ9K1/RRl/kLbSyT9+0vldOmvqP1favsxSd/sUE7IIIUTigEAAAAAgNPQ+PTnLDN2vkNzH9usPc+u0aro8bozsKs6NK8Om4pK98laNSeymyIHBUrr05Tu7c2VHYdrkTMY+9NC+xpiRzKUtl4KGjRQwS5Ny8vLFdC0qUtJw7TvIMltUX9P+7VvX2f1ubZVdVFwd/Us263vnamTX4DqitVUXj1qq3tnx+gzSWoeqp5dy1RWYw7lfu3bX6IPEmMVG2v/mbC8QGVl3jprv/btK9f2N8ZUtY2dvUllZWVe1yfbuTpJz63c4TUwk6RWLtesnalj1e8H9+9T916hqu6FYPUMLdP3e0okv966+aZ8ff5Fufbt2KFON47T4PA85WyTdn+5RZ1u6M1AMQAAAAAAcFou2FDMydCyq/pFTtaCh9fonzM/108v5OqnF3IV1r2Pjh2vjmlC752kcGXo2WezZHHbg0PH4Vr03iqtWTVJwbIo89mZSleYJt/rvg7Z0WPH1aJF9VstG6pnSGflbN1aYwrj7tQJemS5c52sEu076FJ57LDK1VHtG5H0lLsFcOU6XCMQc+qtae+s0qpVjp+/r9eWp/t5NnJop7uSXNquWa8tS0d7TAm1C3vyE22ZN6RRIdW+EtdOKFdZmdTeZN9T3xtvUs4/t2rXP8sVdkM79ex7o3blf6ztX7RS1ECXIBAAAAAAAKARLvhQrDatWraQ5fCR6rXFOo7SrMdDZP4wXn9cVOh1VJO69VYfo1UFi+5V3IdmhT4+Q3dXD16SzWaT5fARtWzRwnWrBuk06kEN3PaSnl5d4AisylWy7Q3NXi6F9e8sqbP6hrdSxkdbqxbF37s6TTnhN6uv+67qZW/aMuU4dlSWtUwf+PVX3xqZ0Y0aEL5D77ss9L/77af0wiaXaY9V4Vpn9Q0P0LrV1cdXljFXj6Tm1wj6Tken8P5qvSlNm51fsme13t9xkwbcYP8Y0L+fwnYsVcrem+znc0Nv9charg/KHJ8BAAAAAABOw0UbigUENFWL5s30S+nhqrLgB97V8vu6KW9OtK6LnqWVO4tlcaZjVouKdq7WjOi+GjwnX8H3peq9B7pVbStJv5QeVovmzRQQ0Pjpk2p+k55Y/Jg6fTxFg269Vf0jh2rU3B8U9dJLuscR5nQfl6TJZa8qZmisYu8YqrhNoZrz5C11T5msRfdBXbQx/g7Fxt6hmNn7dV/SOHX3bKQADXjyefXdNEGD7rB/54Ssjhp8kyMR7B2hYd8kacgdSdp8zH588aWO4xs5VDFv7Nfg/iGNOr5aBY/TnHFHNG/kUMXE3qFBEzap7/NPaoDz7aPNb9LNHffr8E032s+n+U262bRfGjTIy/kBAAAAAAA0TBNbvV/jeOE5caJCe4t+UuCVHdXMUB3ZWLYt0aNTkpXpbf33jgOV+Opcxd9gdCs+bi1X8Y/71SXo12ra1N+trtEqy1VeGaCA2tKkY2UqqQxQuzoX5q/dvtQ4PaWZWjq2o8pKyhXQrtWpg6tjZSpTK7Vyhk91KS9TSXnjj69eKstVVlrPYwcAAAAAADhDLupQTJJKLWX6pdSiKzv9Sv7+fi41VlmKC7X9m2JZrFYZDK0VdG0fBQcaZXBpJUkVFZX6cd9/dXkbo9oYXRbAv8BVh2LMJwQAAAAAAGiIiz4Uk6SSQ6U6XHZEv+pwhduIsfo4bi3Xfw/8rNatWqpd2zae1Re08j1faJd6q0/Xhp0zAAAAAACAr7skQjE5RoyZfy5R+3aX6/I2rdWkSRPPJm5sNpt+KT2sgyW/yHRFu4tqhBgAAAAAAABOzyUTismxxtjBkl909NhxGVu3VPNmBhkMBvn52d8nUFl5UuXl5Tpy7LgOHz6iFi2aqd3lbU5vYX0AAAAAAABcdC6pUMypvPyEjhw5qiPHjuvEiROqrDwpSfLzu0wBTZuqRYvmatmiOWEYAAAAAACAj7okQzEAAAAAAACgLvZ5hQAAAAAAAIAPIRQDAAAAAACAzyEUAwAAAAAAgM8hFAMAAAAAAIDPIRQDAAAAAACAzyEUAwAAAAAAgM8hFAMAAAAAAIDPIRQDAAAAAACAzyEUAwAAAAAAgM8hFAMAAAAAAIDPIRQDAAAAAACAzyEUAwAAAAAAgM8hFAMAAAAAAIDPIRQDAAAAAACAzyEUAwAAAAAAgM9pYrPZbJ6FddlduNezCAAAAAAAALhgdO/WxbOohgaHYgAAAAAAAMDFjumTAAAAAAAA8DmEYgAAAAAAAPA5hGIAAAAAAADwOYRiAAAAAAAA8DmEYgAAAAAAAPA5hGIAAAAAAADwOf8Pi3Z3kun2q0IAAAAASUVORK5CYII=)"
      ],
      "metadata": {
        "id": "3F0pbM3roaaA"
      }
    }
  ],
  "metadata": {
    "colab": {
      "provenance": []
    },
    "kernelspec": {
      "display_name": "Python 3",
      "name": "python3"
    },
    "language_info": {
      "name": "python"
    }
  },
  "nbformat": 4,
  "nbformat_minor": 0
}