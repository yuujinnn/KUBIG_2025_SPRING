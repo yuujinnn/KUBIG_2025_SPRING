{
  "cells": [
    {
      "cell_type": "code",
      "execution_count": null,
      "metadata": {
        "id": "wFGqc9yOuKEi"
      },
      "outputs": [],
      "source": [
        "# Colab에 Mecab 설치\n",
        "!git clone https://github.com/SOMJANG/Mecab-ko-for-Google-Colab.git\n",
        "%cd Mecab-ko-for-Google-Colab\n",
        "!bash install_mecab-ko_on_colab190912.sh"
      ]
    },
    {
      "cell_type": "code",
      "execution_count": null,
      "metadata": {
        "id": "GbP19ZYGpU59"
      },
      "outputs": [],
      "source": [
        "# 위의 코드가 작동하지 않을 때 대안 코드 1 실행\n",
        "!pip install konlpy\n",
        "!pip install mecab-python\n",
        "!bash <(curl -s https://raw.githubusercontent.com/konlpy/konlpy/master/scripts/mecab.sh)"
      ]
    },
    {
      "cell_type": "code",
      "execution_count": null,
      "metadata": {
        "id": "dB_bh1mUue11"
      },
      "outputs": [],
      "source": [
        "from konlpy.tag import Mecab\n",
        "mecab = Mecab()\n",
        "#NameError: name 'Tagger' is not defined 오류 발생 시 런타임을 재실행 해주세요."
      ]
    },
    {
      "cell_type": "code",
      "execution_count": null,
      "metadata": {
        "id": "ev1dx8jzvoIq",
        "colab": {
          "base_uri": "https://localhost:8080/"
        },
        "outputId": "f19ddadc-6f50-427c-b2a4-b363bbe0d4bd"
      },
      "outputs": [
        {
          "output_type": "stream",
          "name": "stdout",
          "text": [
            "Collecting hgtk\n",
            "  Downloading hgtk-0.2.1-py2.py3-none-any.whl.metadata (5.4 kB)\n",
            "Downloading hgtk-0.2.1-py2.py3-none-any.whl (12 kB)\n",
            "Installing collected packages: hgtk\n",
            "Successfully installed hgtk-0.2.1\n"
          ]
        }
      ],
      "source": [
        "# 한글 자모 단위 처리 패키지 설치\n",
        "!pip install hgtk"
      ]
    },
    {
      "cell_type": "code",
      "execution_count": null,
      "metadata": {
        "id": "NiWJSRkBwBvz"
      },
      "outputs": [],
      "source": [
        "# fasttext 설치\n",
        "!git clone https://github.com/facebookresearch/fastText.git\n",
        "%cd fastText\n",
        "!make\n",
        "!pip install ."
      ]
    },
    {
      "cell_type": "code",
      "execution_count": null,
      "metadata": {
        "id": "L68t-IBUqaIN",
        "colab": {
          "base_uri": "https://localhost:8080/"
        },
        "outputId": "7c47ecf8-4f17-42fd-f9f5-992318169fc7"
      },
      "outputs": [
        {
          "output_type": "stream",
          "name": "stdout",
          "text": [
            "Requirement already satisfied: hgtk in /usr/local/lib/python3.11/dist-packages (0.2.1)\n"
          ]
        }
      ],
      "source": [
        "#hgtk 설치\n",
        "!pip install hgtk"
      ]
    },
    {
      "cell_type": "markdown",
      "metadata": {
        "id": "u0FmhT3awOEm"
      },
      "source": [
        "## 1. 데이터 로드"
      ]
    },
    {
      "cell_type": "code",
      "execution_count": null,
      "metadata": {
        "id": "XFB3ropAwNnp"
      },
      "outputs": [],
      "source": [
        "import re\n",
        "import pandas as pd\n",
        "import urllib.request\n",
        "from tqdm import tqdm\n",
        "import hgtk"
      ]
    },
    {
      "cell_type": "code",
      "execution_count": null,
      "metadata": {
        "colab": {
          "base_uri": "https://localhost:8080/"
        },
        "id": "Fq8kmo_uwT1C",
        "outputId": "4f231f7d-41ce-4c87-c6a7-20a58af4b0b0"
      },
      "outputs": [
        {
          "output_type": "execute_result",
          "data": {
            "text/plain": [
              "('ratings_total.txt', <http.client.HTTPMessage at 0x789a4ab99850>)"
            ]
          },
          "metadata": {},
          "execution_count": 6
        }
      ],
      "source": [
        "# 네이버 쇼핑 리뷰\n",
        "urllib.request.urlretrieve(\"https://raw.githubusercontent.com/bab2min/corpus/master/sentiment/naver_shopping.txt\", filename=\"ratings_total.txt\")"
      ]
    },
    {
      "cell_type": "code",
      "execution_count": null,
      "metadata": {
        "colab": {
          "base_uri": "https://localhost:8080/"
        },
        "id": "zB88TfbcwVmx",
        "outputId": "081e02b5-e005-494b-aea7-0a5338e5f903"
      },
      "outputs": [
        {
          "output_type": "stream",
          "name": "stdout",
          "text": [
            "전체 리뷰 개수 : 200000\n"
          ]
        }
      ],
      "source": [
        "total_data = pd.read_table('ratings_total.txt', names=['ratings', 'reviews'])\n",
        "print('전체 리뷰 개수 :',len(total_data)) # 전체 리뷰 개수 출력"
      ]
    },
    {
      "cell_type": "code",
      "execution_count": null,
      "metadata": {
        "colab": {
          "base_uri": "https://localhost:8080/",
          "height": 206
        },
        "id": "IMzrtayFwXfy",
        "outputId": "2445fd6f-7c62-4dcf-e636-88c59422ebee"
      },
      "outputs": [
        {
          "output_type": "execute_result",
          "data": {
            "text/plain": [
              "   ratings                                            reviews\n",
              "0        5                                            배공빠르고 굿\n",
              "1        2                      택배가 엉망이네용 저희집 밑에층에 말도없이 놔두고가고\n",
              "2        5  아주좋아요 바지 정말 좋아서2개 더 구매했어요 이가격에 대박입니다. 바느질이 조금 ...\n",
              "3        2  선물용으로 빨리 받아서 전달했어야 하는 상품이었는데 머그컵만 와서 당황했습니다. 전...\n",
              "4        5                  민트색상 예뻐요. 옆 손잡이는 거는 용도로도 사용되네요 ㅎㅎ"
            ],
            "text/html": [
              "\n",
              "  <div id=\"df-7ec1855e-2b91-4e9e-a7e6-f0186b6b09e9\" class=\"colab-df-container\">\n",
              "    <div>\n",
              "<style scoped>\n",
              "    .dataframe tbody tr th:only-of-type {\n",
              "        vertical-align: middle;\n",
              "    }\n",
              "\n",
              "    .dataframe tbody tr th {\n",
              "        vertical-align: top;\n",
              "    }\n",
              "\n",
              "    .dataframe thead th {\n",
              "        text-align: right;\n",
              "    }\n",
              "</style>\n",
              "<table border=\"1\" class=\"dataframe\">\n",
              "  <thead>\n",
              "    <tr style=\"text-align: right;\">\n",
              "      <th></th>\n",
              "      <th>ratings</th>\n",
              "      <th>reviews</th>\n",
              "    </tr>\n",
              "  </thead>\n",
              "  <tbody>\n",
              "    <tr>\n",
              "      <th>0</th>\n",
              "      <td>5</td>\n",
              "      <td>배공빠르고 굿</td>\n",
              "    </tr>\n",
              "    <tr>\n",
              "      <th>1</th>\n",
              "      <td>2</td>\n",
              "      <td>택배가 엉망이네용 저희집 밑에층에 말도없이 놔두고가고</td>\n",
              "    </tr>\n",
              "    <tr>\n",
              "      <th>2</th>\n",
              "      <td>5</td>\n",
              "      <td>아주좋아요 바지 정말 좋아서2개 더 구매했어요 이가격에 대박입니다. 바느질이 조금 ...</td>\n",
              "    </tr>\n",
              "    <tr>\n",
              "      <th>3</th>\n",
              "      <td>2</td>\n",
              "      <td>선물용으로 빨리 받아서 전달했어야 하는 상품이었는데 머그컵만 와서 당황했습니다. 전...</td>\n",
              "    </tr>\n",
              "    <tr>\n",
              "      <th>4</th>\n",
              "      <td>5</td>\n",
              "      <td>민트색상 예뻐요. 옆 손잡이는 거는 용도로도 사용되네요 ㅎㅎ</td>\n",
              "    </tr>\n",
              "  </tbody>\n",
              "</table>\n",
              "</div>\n",
              "    <div class=\"colab-df-buttons\">\n",
              "\n",
              "  <div class=\"colab-df-container\">\n",
              "    <button class=\"colab-df-convert\" onclick=\"convertToInteractive('df-7ec1855e-2b91-4e9e-a7e6-f0186b6b09e9')\"\n",
              "            title=\"Convert this dataframe to an interactive table.\"\n",
              "            style=\"display:none;\">\n",
              "\n",
              "  <svg xmlns=\"http://www.w3.org/2000/svg\" height=\"24px\" viewBox=\"0 -960 960 960\">\n",
              "    <path d=\"M120-120v-720h720v720H120Zm60-500h600v-160H180v160Zm220 220h160v-160H400v160Zm0 220h160v-160H400v160ZM180-400h160v-160H180v160Zm440 0h160v-160H620v160ZM180-180h160v-160H180v160Zm440 0h160v-160H620v160Z\"/>\n",
              "  </svg>\n",
              "    </button>\n",
              "\n",
              "  <style>\n",
              "    .colab-df-container {\n",
              "      display:flex;\n",
              "      gap: 12px;\n",
              "    }\n",
              "\n",
              "    .colab-df-convert {\n",
              "      background-color: #E8F0FE;\n",
              "      border: none;\n",
              "      border-radius: 50%;\n",
              "      cursor: pointer;\n",
              "      display: none;\n",
              "      fill: #1967D2;\n",
              "      height: 32px;\n",
              "      padding: 0 0 0 0;\n",
              "      width: 32px;\n",
              "    }\n",
              "\n",
              "    .colab-df-convert:hover {\n",
              "      background-color: #E2EBFA;\n",
              "      box-shadow: 0px 1px 2px rgba(60, 64, 67, 0.3), 0px 1px 3px 1px rgba(60, 64, 67, 0.15);\n",
              "      fill: #174EA6;\n",
              "    }\n",
              "\n",
              "    .colab-df-buttons div {\n",
              "      margin-bottom: 4px;\n",
              "    }\n",
              "\n",
              "    [theme=dark] .colab-df-convert {\n",
              "      background-color: #3B4455;\n",
              "      fill: #D2E3FC;\n",
              "    }\n",
              "\n",
              "    [theme=dark] .colab-df-convert:hover {\n",
              "      background-color: #434B5C;\n",
              "      box-shadow: 0px 1px 3px 1px rgba(0, 0, 0, 0.15);\n",
              "      filter: drop-shadow(0px 1px 2px rgba(0, 0, 0, 0.3));\n",
              "      fill: #FFFFFF;\n",
              "    }\n",
              "  </style>\n",
              "\n",
              "    <script>\n",
              "      const buttonEl =\n",
              "        document.querySelector('#df-7ec1855e-2b91-4e9e-a7e6-f0186b6b09e9 button.colab-df-convert');\n",
              "      buttonEl.style.display =\n",
              "        google.colab.kernel.accessAllowed ? 'block' : 'none';\n",
              "\n",
              "      async function convertToInteractive(key) {\n",
              "        const element = document.querySelector('#df-7ec1855e-2b91-4e9e-a7e6-f0186b6b09e9');\n",
              "        const dataTable =\n",
              "          await google.colab.kernel.invokeFunction('convertToInteractive',\n",
              "                                                    [key], {});\n",
              "        if (!dataTable) return;\n",
              "\n",
              "        const docLinkHtml = 'Like what you see? Visit the ' +\n",
              "          '<a target=\"_blank\" href=https://colab.research.google.com/notebooks/data_table.ipynb>data table notebook</a>'\n",
              "          + ' to learn more about interactive tables.';\n",
              "        element.innerHTML = '';\n",
              "        dataTable['output_type'] = 'display_data';\n",
              "        await google.colab.output.renderOutput(dataTable, element);\n",
              "        const docLink = document.createElement('div');\n",
              "        docLink.innerHTML = docLinkHtml;\n",
              "        element.appendChild(docLink);\n",
              "      }\n",
              "    </script>\n",
              "  </div>\n",
              "\n",
              "\n",
              "<div id=\"df-cb20fe24-3211-49fc-bdc6-8142b13819c7\">\n",
              "  <button class=\"colab-df-quickchart\" onclick=\"quickchart('df-cb20fe24-3211-49fc-bdc6-8142b13819c7')\"\n",
              "            title=\"Suggest charts\"\n",
              "            style=\"display:none;\">\n",
              "\n",
              "<svg xmlns=\"http://www.w3.org/2000/svg\" height=\"24px\"viewBox=\"0 0 24 24\"\n",
              "     width=\"24px\">\n",
              "    <g>\n",
              "        <path d=\"M19 3H5c-1.1 0-2 .9-2 2v14c0 1.1.9 2 2 2h14c1.1 0 2-.9 2-2V5c0-1.1-.9-2-2-2zM9 17H7v-7h2v7zm4 0h-2V7h2v10zm4 0h-2v-4h2v4z\"/>\n",
              "    </g>\n",
              "</svg>\n",
              "  </button>\n",
              "\n",
              "<style>\n",
              "  .colab-df-quickchart {\n",
              "      --bg-color: #E8F0FE;\n",
              "      --fill-color: #1967D2;\n",
              "      --hover-bg-color: #E2EBFA;\n",
              "      --hover-fill-color: #174EA6;\n",
              "      --disabled-fill-color: #AAA;\n",
              "      --disabled-bg-color: #DDD;\n",
              "  }\n",
              "\n",
              "  [theme=dark] .colab-df-quickchart {\n",
              "      --bg-color: #3B4455;\n",
              "      --fill-color: #D2E3FC;\n",
              "      --hover-bg-color: #434B5C;\n",
              "      --hover-fill-color: #FFFFFF;\n",
              "      --disabled-bg-color: #3B4455;\n",
              "      --disabled-fill-color: #666;\n",
              "  }\n",
              "\n",
              "  .colab-df-quickchart {\n",
              "    background-color: var(--bg-color);\n",
              "    border: none;\n",
              "    border-radius: 50%;\n",
              "    cursor: pointer;\n",
              "    display: none;\n",
              "    fill: var(--fill-color);\n",
              "    height: 32px;\n",
              "    padding: 0;\n",
              "    width: 32px;\n",
              "  }\n",
              "\n",
              "  .colab-df-quickchart:hover {\n",
              "    background-color: var(--hover-bg-color);\n",
              "    box-shadow: 0 1px 2px rgba(60, 64, 67, 0.3), 0 1px 3px 1px rgba(60, 64, 67, 0.15);\n",
              "    fill: var(--button-hover-fill-color);\n",
              "  }\n",
              "\n",
              "  .colab-df-quickchart-complete:disabled,\n",
              "  .colab-df-quickchart-complete:disabled:hover {\n",
              "    background-color: var(--disabled-bg-color);\n",
              "    fill: var(--disabled-fill-color);\n",
              "    box-shadow: none;\n",
              "  }\n",
              "\n",
              "  .colab-df-spinner {\n",
              "    border: 2px solid var(--fill-color);\n",
              "    border-color: transparent;\n",
              "    border-bottom-color: var(--fill-color);\n",
              "    animation:\n",
              "      spin 1s steps(1) infinite;\n",
              "  }\n",
              "\n",
              "  @keyframes spin {\n",
              "    0% {\n",
              "      border-color: transparent;\n",
              "      border-bottom-color: var(--fill-color);\n",
              "      border-left-color: var(--fill-color);\n",
              "    }\n",
              "    20% {\n",
              "      border-color: transparent;\n",
              "      border-left-color: var(--fill-color);\n",
              "      border-top-color: var(--fill-color);\n",
              "    }\n",
              "    30% {\n",
              "      border-color: transparent;\n",
              "      border-left-color: var(--fill-color);\n",
              "      border-top-color: var(--fill-color);\n",
              "      border-right-color: var(--fill-color);\n",
              "    }\n",
              "    40% {\n",
              "      border-color: transparent;\n",
              "      border-right-color: var(--fill-color);\n",
              "      border-top-color: var(--fill-color);\n",
              "    }\n",
              "    60% {\n",
              "      border-color: transparent;\n",
              "      border-right-color: var(--fill-color);\n",
              "    }\n",
              "    80% {\n",
              "      border-color: transparent;\n",
              "      border-right-color: var(--fill-color);\n",
              "      border-bottom-color: var(--fill-color);\n",
              "    }\n",
              "    90% {\n",
              "      border-color: transparent;\n",
              "      border-bottom-color: var(--fill-color);\n",
              "    }\n",
              "  }\n",
              "</style>\n",
              "\n",
              "  <script>\n",
              "    async function quickchart(key) {\n",
              "      const quickchartButtonEl =\n",
              "        document.querySelector('#' + key + ' button');\n",
              "      quickchartButtonEl.disabled = true;  // To prevent multiple clicks.\n",
              "      quickchartButtonEl.classList.add('colab-df-spinner');\n",
              "      try {\n",
              "        const charts = await google.colab.kernel.invokeFunction(\n",
              "            'suggestCharts', [key], {});\n",
              "      } catch (error) {\n",
              "        console.error('Error during call to suggestCharts:', error);\n",
              "      }\n",
              "      quickchartButtonEl.classList.remove('colab-df-spinner');\n",
              "      quickchartButtonEl.classList.add('colab-df-quickchart-complete');\n",
              "    }\n",
              "    (() => {\n",
              "      let quickchartButtonEl =\n",
              "        document.querySelector('#df-cb20fe24-3211-49fc-bdc6-8142b13819c7 button');\n",
              "      quickchartButtonEl.style.display =\n",
              "        google.colab.kernel.accessAllowed ? 'block' : 'none';\n",
              "    })();\n",
              "  </script>\n",
              "</div>\n",
              "\n",
              "    </div>\n",
              "  </div>\n"
            ],
            "application/vnd.google.colaboratory.intrinsic+json": {
              "type": "dataframe",
              "variable_name": "total_data"
            }
          },
          "metadata": {},
          "execution_count": 8
        }
      ],
      "source": [
        "total_data.head()"
      ]
    },
    {
      "cell_type": "markdown",
      "metadata": {
        "id": "3k4x7PAAwdd_"
      },
      "source": [
        "## 2. hgtk 튜토리얼\n",
        "\n",
        "\n",
        "\n",
        "word embedding이 단어 단위의 임베딩이었다면, character embedding은 문자 단위의 임베딩입니다. 한국어를 character embedding할 수 있는 것이 바로 자음 모음 분리기 hgtk입니다.\n",
        "\n",
        " 영어는 하나의 알파벳(52자)를 기준으로 character embedding을 하지만, 한국어에서 하나의 음절별로 character embedding을 하면 11172개의 음절이 있기 때문에 계산량이 너무 많습니다. 따라서 그보다 작은 단위인 자음,모음으로 분리하는 것입니다.\n",
        "\n",
        " >참고 repo: https://github.com/bluedisk/hangul-toolkit"
      ]
    },
    {
      "cell_type": "code",
      "execution_count": null,
      "metadata": {
        "colab": {
          "base_uri": "https://localhost:8080/"
        },
        "id": "EFtjwDZ0wcOW",
        "outputId": "2f347ebd-f27b-4e02-d4de-eec6bb9f55e5"
      },
      "outputs": [
        {
          "output_type": "stream",
          "name": "stdout",
          "text": [
            "True\n",
            "False\n",
            "False\n"
          ]
        }
      ],
      "source": [
        "# 한글인지 체크\n",
        "print(hgtk.checker.is_hangul('ㄱ'))\n",
        "print(hgtk.checker.is_hangul('12'))\n",
        "print(hgtk.checker.is_hangul('a'))"
      ]
    },
    {
      "cell_type": "code",
      "execution_count": null,
      "metadata": {
        "colab": {
          "base_uri": "https://localhost:8080/"
        },
        "id": "dslUKt6rxXWb",
        "outputId": "faeeda94-c7e0-43c0-ed72-2b24d3baabf5"
      },
      "outputs": [
        {
          "output_type": "stream",
          "name": "stdout",
          "text": [
            "('ㄴ', 'ㅏ', 'ㅁ')\n",
            "남\n"
          ]
        }
      ],
      "source": [
        "# 음절을 초성, 중성, 종성으로 분해\n",
        "print(hgtk.letter.decompose('남'))\n",
        "# 초성, 중성, 종성을 하나의 음절로 결합\n",
        "print(hgtk.letter.compose('ㄴ', 'ㅏ', 'ㅁ'))"
      ]
    },
    {
      "cell_type": "code",
      "execution_count": null,
      "metadata": {
        "colab": {
          "base_uri": "https://localhost:8080/"
        },
        "id": "84dNK0oJxofR",
        "outputId": "ed5f1ca2-6f84-4168-bf4d-9058096a62bf"
      },
      "outputs": [
        {
          "output_type": "stream",
          "name": "stdout",
          "text": [
            "에러 발생\n"
          ]
        }
      ],
      "source": [
        "# 결합할 수 없는 상황에서는 에러 발생\n",
        "try:\n",
        "  hgtk.letter.compose('ㄴ', 'ㅁ', 'ㅁ') # 중성이 없는 경우\n",
        "except:\n",
        "  print('에러 발생')"
      ]
    },
    {
      "cell_type": "markdown",
      "metadata": {
        "id": "oLO0xL3czHaB"
      },
      "source": [
        "## 3. 데이터 전처리"
      ]
    },
    {
      "cell_type": "code",
      "execution_count": null,
      "metadata": {
        "id": "4dZQlvCIzBT7"
      },
      "outputs": [],
      "source": [
        "## 자음 모음 분리\n",
        "\n",
        "def word_to_jamo(token):\n",
        "  def to_special_token(jamo): # 경우에 따라 초, 중, 종성이 다 있는 게 아닌 경우도 있다. 이 경우 -를 반환해주는 함수\n",
        "    if not jamo:\n",
        "      return '-'\n",
        "    else:\n",
        "      return jamo\n",
        "\n",
        "  decomposed_token = ''\n",
        "  for char in token:\n",
        "    try:\n",
        "      # char(음절)을 초성, 중성, 종성으로 분리\n",
        "      cho, jung, jong = hgtk.letter.decompose(char)\n",
        "\n",
        "      # 자모가 빈 문자일 경우 특수문자 -로 대체\n",
        "      cho = to_special_token(cho)\n",
        "      jung = to_special_token(jung)\n",
        "      jong = to_special_token(jong)\n",
        "      decomposed_token = decomposed_token + cho + jung + jong\n",
        "\n",
        "    # 만약 char(음절)이 한글이 아닐 경우 자모를 나누지 않고 추가\n",
        "    except Exception as exception:\n",
        "      if type(exception).__name__ == 'NotHangulException':\n",
        "        decomposed_token += char\n",
        "\n",
        "  # 단어 토큰의 자모 단위 분리 결과를 추가\n",
        "  return decomposed_token"
      ]
    },
    {
      "cell_type": "code",
      "execution_count": null,
      "metadata": {
        "id": "Bc8TkvR13eIH",
        "colab": {
          "base_uri": "https://localhost:8080/"
        },
        "outputId": "f705f261-d94b-452d-d233-8336b4cc280c"
      },
      "outputs": [
        {
          "output_type": "stream",
          "name": "stdout",
          "text": [
            "ㄴㅏㅁㄷㅗㅇㅅㅐㅇ\n",
            "ㅇㅑ-ㄱㅜ-\n"
          ]
        }
      ],
      "source": [
        "print(word_to_jamo('남동생'))\n",
        "print(word_to_jamo('야구')) # 야구의 경우 종성이 없으므로 종성 부분을 -로 반환"
      ]
    },
    {
      "cell_type": "code",
      "execution_count": null,
      "metadata": {
        "id": "rec1IWDC3yIF",
        "colab": {
          "base_uri": "https://localhost:8080/"
        },
        "outputId": "74f5515a-2597-4299-f234-0d9cf747ffd4"
      },
      "outputs": [
        {
          "output_type": "stream",
          "name": "stdout",
          "text": [
            "['선물', '용', '으로', '빨리', '받', '아서', '전달', '했어야', '하', '는', '상품', '이', '었', '는데', '머그', '컵', '만', '와서', '당황', '했', '습니다', '.']\n"
          ]
        }
      ],
      "source": [
        "print(mecab.morphs('선물용으로 빨리 받아서 전달했어야 하는 상품이었는데 머그컵만 와서 당황했습니다.')) # 형태소 분해"
      ]
    },
    {
      "cell_type": "code",
      "execution_count": null,
      "metadata": {
        "id": "rAZkfbwa339B"
      },
      "outputs": [],
      "source": [
        "# mecab으로 형태소를 분리해주고 그 형태소마다 각각 자음모음을 분리해주는 함수\n",
        "def tokenize_by_jamo(s):\n",
        "    return [word_to_jamo(token) for token in mecab.morphs(s)]"
      ]
    },
    {
      "cell_type": "code",
      "execution_count": null,
      "metadata": {
        "id": "lg6P-Jeo3-7S",
        "colab": {
          "base_uri": "https://localhost:8080/"
        },
        "outputId": "8d330c51-6e90-4f09-8911-6ac9686de439"
      },
      "outputs": [
        {
          "output_type": "stream",
          "name": "stdout",
          "text": [
            "['ㅅㅓㄴㅁㅜㄹ', 'ㅇㅛㅇ', 'ㅇㅡ-ㄹㅗ-', 'ㅃㅏㄹㄹㅣ-', 'ㅂㅏㄷ', 'ㅇㅏ-ㅅㅓ-', 'ㅈㅓㄴㄷㅏㄹ', 'ㅎㅐㅆㅇㅓ-ㅇㅑ-', 'ㅎㅏ-', 'ㄴㅡㄴ', 'ㅅㅏㅇㅍㅜㅁ', 'ㅇㅣ-', 'ㅇㅓㅆ', 'ㄴㅡㄴㄷㅔ-', 'ㅁㅓ-ㄱㅡ-', 'ㅋㅓㅂ', 'ㅁㅏㄴ', 'ㅇㅘ-ㅅㅓ-', 'ㄷㅏㅇㅎㅘㅇ', 'ㅎㅐㅆ', 'ㅅㅡㅂㄴㅣ-ㄷㅏ-', '.']\n"
          ]
        }
      ],
      "source": [
        "print(tokenize_by_jamo('선물용으로 빨리 받아서 전달했어야 하는 상품이었는데 머그컵만 와서 당황했습니다.'))"
      ]
    },
    {
      "cell_type": "code",
      "execution_count": null,
      "metadata": {
        "id": "xsmpYSY24E_L",
        "colab": {
          "base_uri": "https://localhost:8080/"
        },
        "outputId": "ea96b546-dabd-42d6-ba2f-a05c28c7ea7d"
      },
      "outputs": [
        {
          "output_type": "stream",
          "name": "stderr",
          "text": [
            "100%|██████████| 200000/200000 [00:59<00:00, 3350.49it/s]\n"
          ]
        }
      ],
      "source": [
        "# 리뷰 데이터의 reviews 컬럼만을 가져와서 자모 분리\n",
        "tokenized_data = []\n",
        "\n",
        "for sample in tqdm(total_data['reviews'].to_numpy()):\n",
        "    tokenzied_sample = tokenize_by_jamo(sample) # 자소 단위 토큰화\n",
        "    tokenized_data.append(tokenzied_sample)"
      ]
    },
    {
      "cell_type": "code",
      "execution_count": null,
      "metadata": {
        "id": "_LWbx6vn4u7R",
        "colab": {
          "base_uri": "https://localhost:8080/"
        },
        "outputId": "ea8b3c12-f3a5-4043-d645-71b3178eb47e"
      },
      "outputs": [
        {
          "output_type": "stream",
          "name": "stdout",
          "text": [
            "200000\n",
            "전처리 전: 택배가 엉망이네용 저희집 밑에층에 말도없이 놔두고가고\n",
            "전처리 후: ['ㅌㅐㄱㅂㅐ-', 'ㄱㅏ-', 'ㅇㅓㅇㅁㅏㅇ', 'ㅇㅣ-', 'ㄴㅔ-', 'ㅇㅛㅇ', 'ㅈㅓ-ㅎㅢ-', 'ㅈㅣㅂ', 'ㅁㅣㅌ', 'ㅇㅔ-', 'ㅊㅡㅇ', 'ㅇㅔ-', 'ㅁㅏㄹ', 'ㄷㅗ-', 'ㅇㅓㅄㅇㅣ-', 'ㄴㅘ-ㄷㅜ-', 'ㄱㅗ-', 'ㄱㅏ-', 'ㄱㅗ-']\n"
          ]
        }
      ],
      "source": [
        "print(len(tokenized_data))\n",
        "print(\"전처리 전:\", total_data['reviews'][1])\n",
        "print(\"전처리 후:\", tokenized_data[1])"
      ]
    },
    {
      "cell_type": "markdown",
      "metadata": {
        "id": "E7xeSqF_5-jM"
      },
      "source": [
        "단어를 자모 분리한 것을 역으로 하여 자모 상태를 단어로 다시 결합시키는 함수도 정의해봅시다. 이는 단어의 코사인 유사도를 평가할 때 자모 분리가 된 상태가 아니라 단어 상태로 편리하게 보기 위함입니다."
      ]
    },
    {
      "cell_type": "code",
      "execution_count": null,
      "metadata": {
        "id": "dg2U2hoF5-21"
      },
      "outputs": [],
      "source": [
        "## 자음 모음 재결합\n",
        "\n",
        "def jamo_to_word(jamo_sequence):\n",
        "  tokenized_jamo = []\n",
        "  index = 0\n",
        "\n",
        "  # 1. 초기 입력\n",
        "  # jamo_sequence = 'ㄴㅏㅁㄷㅗㅇㅅㅐㅇ'\n",
        "\n",
        "  while index < len(jamo_sequence):\n",
        "    # 문자가 한글(정상적인 자모)이 아닐 경우\n",
        "    if not hgtk.checker.is_hangul(jamo_sequence[index]):\n",
        "      tokenized_jamo.append(jamo_sequence[index]) # 해당 문자 리스트에 추가하고 다음 문자 불러옴\n",
        "      index = index + 1\n",
        "\n",
        "    # 문자가 정상적인 자모라면 초성, 중성, 종성을 하나의 토큰으로 간주.\n",
        "    else:\n",
        "      tokenized_jamo.append(jamo_sequence[index:index + 3])\n",
        "      index = index + 3 # 해당 음절 리스트에 추가하고 음절 바로 다음 문자 불러옴\n",
        "\n",
        "  # 2. 자모 단위 토큰화 완료\n",
        "  # tokenized_jamo : ['ㄴㅏㅁ', 'ㄷㅗㅇ', 'ㅅㅐㅇ']\n",
        "\n",
        "  word = ''\n",
        "  try:\n",
        "    for jamo in tokenized_jamo:\n",
        "\n",
        "      # 초성, 중성, 종성의 묶음으로 추정되는 경우\n",
        "      if len(jamo) == 3:\n",
        "        if jamo[2] == \"-\":\n",
        "          # 종성이 존재하지 않는 경우\n",
        "          # 초성 중성만 결합 후 word에 추가\n",
        "          word = word + hgtk.letter.compose(jamo[0], jamo[1])\n",
        "        else:\n",
        "          # 종성이 존재하는 경우\n",
        "          # 초성 중성 종성 결합 후 word에 추가\n",
        "          word = word + hgtk.letter.compose(jamo[0], jamo[1], jamo[2])\n",
        "      # 한글이 아닌 경우\n",
        "      # word에 해당 문자 붙임\n",
        "      else:\n",
        "        word = word + jamo\n",
        "\n",
        "  # 복원 중(hgtk.letter.compose) 에러 발생 시 초기 입력 리턴.\n",
        "  # 복원이 불가능한 경우 예시) 'ㄴ!ㅁㄷㅗㅇㅅㅐㅇ'\n",
        "  except Exception as exception:\n",
        "    if type(exception).__name__ == 'NotHangulException':\n",
        "      return jamo_sequence\n",
        "\n",
        "  # 3. 단어로 복원 완료\n",
        "  # word : '남동생'\n",
        "\n",
        "  return word"
      ]
    },
    {
      "cell_type": "markdown",
      "metadata": {
        "id": "eyyqJpte8TWa"
      },
      "source": [
        "## 4. FastText"
      ]
    },
    {
      "cell_type": "code",
      "execution_count": null,
      "metadata": {
        "id": "vnQCv2mK6vw1"
      },
      "outputs": [],
      "source": [
        "import fasttext"
      ]
    },
    {
      "cell_type": "markdown",
      "metadata": {
        "id": "-27ntoZR8Si6"
      },
      "source": [
        "fasttext를 실행하기에 앞서 훈련 대상인 단어들을 txt 파일로 준비해둬야 합니다. 따라서 `tokenized_data.txt`라는 파일을 쓰기 모드(w)로 생성해주고 앞서 전처리한 `tokenized_data`를 입력해줍니다."
      ]
    },
    {
      "cell_type": "code",
      "execution_count": null,
      "metadata": {
        "id": "avmb1eqc6wwf",
        "colab": {
          "base_uri": "https://localhost:8080/"
        },
        "outputId": "be863b9d-732d-40be-cf9b-5dd961ebee76"
      },
      "outputs": [
        {
          "output_type": "stream",
          "name": "stderr",
          "text": [
            "100%|██████████| 200000/200000 [00:00<00:00, 300361.64 line/s]\n"
          ]
        }
      ],
      "source": [
        "# 새로운 텍스트 파일에 tokenized data 한 줄씩 추가\n",
        "with open('tokenized_data.txt', 'w') as out:\n",
        "  for line in tqdm(tokenized_data, unit=' line'):\n",
        "    out.write(' '.join(line) + '\\n')"
      ]
    },
    {
      "cell_type": "markdown",
      "metadata": {
        "id": "y4NkTSg580Ze"
      },
      "source": [
        "아래처럼 `train_unsupeviesd` 함수는 훈련을 시켜주는 함수입니다. 인자로 훈련할 단어가 담긴 txt 파일을 지정하고 model을 `cbow`나 `skipgram` 중에 하나를 고르면 됩니다."
      ]
    },
    {
      "cell_type": "code",
      "execution_count": null,
      "metadata": {
        "id": "aAbtngsx8xZ5"
      },
      "outputs": [],
      "source": [
        "model = fasttext.train_unsupervised('tokenized_data.txt', model='cbow') #모델생성"
      ]
    },
    {
      "cell_type": "code",
      "execution_count": null,
      "metadata": {
        "id": "FGlu2L8F9Rsk"
      },
      "outputs": [],
      "source": [
        "model.save_model(\"fasttext.bin\") #모델저장"
      ]
    },
    {
      "cell_type": "code",
      "execution_count": null,
      "metadata": {
        "id": "kjrJe6l997N9"
      },
      "outputs": [],
      "source": [
        "model = fasttext.load_model(\"fasttext.bin\") #모델로드"
      ]
    },
    {
      "cell_type": "code",
      "execution_count": null,
      "metadata": {
        "id": "0yY3vUqj9-ou",
        "colab": {
          "base_uri": "https://localhost:8080/"
        },
        "outputId": "092b80bf-c35a-449e-968e-674a4ed0422f"
      },
      "outputs": [
        {
          "output_type": "execute_result",
          "data": {
            "text/plain": [
              "array([-0.1783078 ,  0.790016  ,  0.77795655,  0.36818233,  0.46228698,\n",
              "       -0.3720079 ,  0.27041084, -0.3125775 ,  0.1700772 , -0.12752165,\n",
              "        0.2005062 ,  0.70349866, -0.32784566,  0.40647647,  0.8274091 ,\n",
              "       -0.2697191 ,  0.3788647 ,  0.13849564,  0.11105179, -0.17119847,\n",
              "        0.01293096, -0.7637373 , -0.05854314, -0.48128685, -0.47419748,\n",
              "       -0.49593917,  0.37822896,  0.4758871 ,  0.73222214,  0.14633812,\n",
              "       -0.04399045, -1.2377392 ,  0.3140675 ,  0.7687821 ,  0.6565598 ,\n",
              "       -0.33240208,  0.48727417, -0.5810977 ,  0.11862421,  0.9968714 ,\n",
              "        0.7153069 ,  0.57084846, -0.43699387,  1.2362758 ,  0.06930456,\n",
              "       -0.21719797,  0.8579173 ,  0.06309998,  0.04849518, -0.12291124,\n",
              "       -0.00943801, -0.01136472,  0.755355  , -0.01285179,  0.14335221,\n",
              "       -0.62276447,  0.10659599,  0.2786796 , -0.09709349,  0.34252763,\n",
              "       -0.68762666,  0.17060655,  0.5063953 ,  0.1175071 , -0.01823661,\n",
              "       -0.63972175, -0.45963728,  0.01354522, -0.14149809, -1.0383844 ,\n",
              "        0.8709675 , -0.95176476, -0.36085975, -1.2981186 ,  0.7473576 ,\n",
              "        0.26657295,  0.19573152,  0.44363055, -0.31334734,  0.7130223 ,\n",
              "        0.7670454 , -0.27511853,  0.25474676, -0.34483582,  1.1609186 ,\n",
              "        0.18967752, -0.20657803,  0.04428023,  0.6607822 , -0.29195395,\n",
              "        0.5192628 , -0.20015778,  0.24523157, -1.0849321 ,  0.27640542,\n",
              "        0.95304596,  0.0908317 , -0.76464814,  0.76518506,  0.65151656],\n",
              "      dtype=float32)"
            ]
          },
          "metadata": {},
          "execution_count": 25
        }
      ],
      "source": [
        "model[word_to_jamo('남동생')] # 'ㄴㅏㅁㄷㅗㅇㅅㅐㅇ' # 임베딩 완료"
      ]
    },
    {
      "cell_type": "markdown",
      "metadata": {
        "id": "_rdJZgey-B72"
      },
      "source": [
        "`get_nearest_neighbors` 함수를 사용하여 '남동생'이라는 단어와 가장 유사도가 높은 단어들(자모 분리된 상태)을 k개만큼 출력해줍니다."
      ]
    },
    {
      "cell_type": "code",
      "execution_count": null,
      "metadata": {
        "id": "edTwzcQL9_vd",
        "colab": {
          "base_uri": "https://localhost:8080/"
        },
        "outputId": "f0191a8b-b45f-40c4-faf5-558c217122d6"
      },
      "outputs": [
        {
          "output_type": "execute_result",
          "data": {
            "text/plain": [
              "[(0.8852669596672058, 'ㄷㅗㅇㅅㅐㅇ'),\n",
              " (0.8423430323600769, 'ㄴㅏㅁㅊㅣㄴ'),\n",
              " (0.7675397396087646, 'ㅅㅐㅇㅇㅣㄹ'),\n",
              " (0.7460188269615173, 'ㅊㅣㄴㄱㅜ-'),\n",
              " (0.743413507938385, 'ㄴㅏㅁㅍㅕㄴ'),\n",
              " (0.7353487014770508, 'ㅈㅗ-ㅋㅏ-'),\n",
              " (0.7348003387451172, 'ㄴㅏㅁㅇㅏ-'),\n",
              " (0.7188143730163574, 'ㄴㅏㄴㅅㅐㅇ'),\n",
              " (0.7105963826179504, 'ㅈㅜㅇㅎㅏㄱㅅㅐㅇ'),\n",
              " (0.6962770819664001, 'ㅎㅏㄱㅅㅐㅇ')]"
            ]
          },
          "metadata": {},
          "execution_count": 26
        }
      ],
      "source": [
        "model.get_nearest_neighbors(word_to_jamo('남동생'), k=10) # 0.8852669596672058, 'ㄷㅗㅇㅅㅐㅇ' 출력"
      ]
    },
    {
      "cell_type": "markdown",
      "metadata": {
        "id": "dAA_9Nz--Kuu"
      },
      "source": [
        "앞서 만든 `jamo_to_word`로 가독성이 좋게 출력해봅시다."
      ]
    },
    {
      "cell_type": "code",
      "execution_count": null,
      "metadata": {
        "id": "c7Um5Sgh-QC-"
      },
      "outputs": [],
      "source": [
        "def transform(word_sequence):\n",
        "  return [(jamo_to_word(word), similarity) for (similarity, word) in word_sequence]"
      ]
    },
    {
      "cell_type": "code",
      "execution_count": null,
      "metadata": {
        "colab": {
          "base_uri": "https://localhost:8080/"
        },
        "id": "5rvV7Sx--Q74",
        "outputId": "1574cfdd-d0f3-4cee-ea8a-9099ede91ddf"
      },
      "outputs": [
        {
          "output_type": "stream",
          "name": "stdout",
          "text": [
            "[('동생', 0.8852669596672058), ('남친', 0.8423430323600769), ('생일', 0.7675397396087646), ('친구', 0.7460188269615173), ('남편', 0.743413507938385), ('조카', 0.7353487014770508), ('남아', 0.7348003387451172), ('난생', 0.7188143730163574), ('중학생', 0.7105963826179504), ('학생', 0.6962770819664001)]\n",
            "[('구매처', 0.8410975337028503), ('구입', 0.7884979248046875), ('주문', 0.7431554794311523), ('주문건', 0.672484815120697), ('구명조끼', 0.6199132800102234), ('헤매', 0.616483211517334), ('주문서', 0.6153122782707214), ('구매자', 0.5983448028564453), ('구메', 0.5914770364761353), ('재', 0.5779432654380798)]\n",
            "[('배송지', 0.8157444596290588), ('깨달', 0.7954130172729492), ('매달', 0.7811452746391296), ('메달', 0.7469878196716309), ('택배', 0.7413893342018127), ('백배', 0.7330837845802307), ('운송장', 0.7324768900871277), ('배소', 0.7289184331893921), ('송장', 0.7288572788238525), ('배공', 0.7204813361167908)]\n"
          ]
        }
      ],
      "source": [
        "print(transform(model.get_nearest_neighbors(word_to_jamo('남동생'), k=10))) # good!\n",
        "print(transform(model.get_nearest_neighbors(word_to_jamo('구매'), k=10))) # good!\n",
        "print(transform(model.get_nearest_neighbors(word_to_jamo('배달'), k=10))) # 형태가 비슷한 것들이 출력"
      ]
    },
    {
      "cell_type": "markdown",
      "metadata": {
        "id": "KsHeruLf-o6A"
      },
      "source": [
        "## 5. Word2Vec\n",
        "\n",
        "이제 word2vec를 사용하여 자모 단위로 분리하는 것이 아닌 단어 단위로 분리하여 임베딩 벡터를 생성해볼 것입니다."
      ]
    },
    {
      "cell_type": "code",
      "execution_count": null,
      "metadata": {
        "id": "y6ZraaNk-0uZ",
        "colab": {
          "base_uri": "https://localhost:8080/"
        },
        "outputId": "5fecb47c-0e82-4878-a135-233a7423ae5c"
      },
      "outputs": [
        {
          "output_type": "stream",
          "name": "stderr",
          "text": [
            "100%|██████████| 200000/200000 [00:39<00:00, 5115.84it/s]\n"
          ]
        }
      ],
      "source": [
        "## 전처리 (토큰화-불용어제거-형태소리스트생성)\n",
        "# 간단하게 불용어 정의\n",
        "stopwords = ['의','가','이','은','들','는','좀','잘','걍','과','도','를','으로','자','에','와','한','하다']\n",
        "\n",
        "tokenized_data2 = []\n",
        "for sentence in tqdm(total_data['reviews'].to_list()):\n",
        "    tokenized_sentence = mecab.morphs(sentence) # 토큰화\n",
        "    stopwords_removed_sentence = [word for word in tokenized_sentence if not word in stopwords] # 불용어 제거\n",
        "    tokenized_data2.append(stopwords_removed_sentence)"
      ]
    },
    {
      "cell_type": "code",
      "execution_count": null,
      "metadata": {
        "id": "qSGnJMfd_YGc"
      },
      "outputs": [],
      "source": [
        "print(\"word2vec용 데이터:\", tokenized_data2[0])\n",
        "print(\"fasttext용 데이터:\", tokenized_data[0])"
      ]
    },
    {
      "cell_type": "code",
      "execution_count": null,
      "metadata": {
        "id": "OgfuDFLD_KTy"
      },
      "outputs": [],
      "source": [
        "from gensim.models import Word2Vec\n",
        "\n",
        "model2 = Word2Vec(sentences = tokenized_data2, vector_size = 1000, window = 5, min_count = 5, workers = 4, sg = 0)\n",
        "# vector_size : 단어 벡터의 차원 설정\n",
        "# window : 학습할 주변 단어 범위 (앞뒤로 5개)\n",
        "# min_count : 등장 빈도가 5보다 낮은 단어는 학습하지 않음\n",
        "# sg : 0 CBOW 1 Skipgram"
      ]
    },
    {
      "cell_type": "code",
      "execution_count": null,
      "metadata": {
        "id": "PccU_FKd_MpB",
        "colab": {
          "base_uri": "https://localhost:8080/"
        },
        "outputId": "9a506c30-830c-45c2-bbf6-20a924487cd5"
      },
      "outputs": [
        {
          "output_type": "execute_result",
          "data": {
            "text/plain": [
              "(15004, 1000)"
            ]
          },
          "metadata": {},
          "execution_count": 33
        }
      ],
      "source": [
        "# 완성된 임베딩 매트릭스의 크기 확인\n",
        "# 단어의 총 개수는 15005개이고 벡터 차원은 1000으로 축소되었다.\n",
        "model2.wv.vectors.shape"
      ]
    },
    {
      "cell_type": "markdown",
      "metadata": {
        "id": "S64jTHof_Ov3"
      },
      "source": [
        "## 6. FastText와 Word2Vec 결과 비교"
      ]
    },
    {
      "cell_type": "markdown",
      "metadata": {
        "id": "IxlPe5plBPoR"
      },
      "source": [
        "### **Q1) 남동생과 주문 두 단어를 input으로 넣고 결과를 비교한 뒤 해석해보세요**\n",
        "\n",
        "*(Hint: 유사도, 단어의 의미, 단어의 생김새 등을 고려해 볼 수 있습니다)*"
      ]
    },
    {
      "cell_type": "code",
      "execution_count": null,
      "metadata": {
        "id": "_VL9lr6BAi6t",
        "colab": {
          "base_uri": "https://localhost:8080/"
        },
        "outputId": "b447ad38-880e-410d-be19-6f68d2eda0b5"
      },
      "outputs": [
        {
          "output_type": "stream",
          "name": "stdout",
          "text": [
            "FastText 유사도: [('동생', 0.8852669596672058), ('남친', 0.8423430323600769), ('생일', 0.7675397396087646), ('친구', 0.7460188269615173), ('남편', 0.743413507938385), ('조카', 0.7353487014770508), ('남아', 0.7348003387451172), ('난생', 0.7188143730163574), ('중학생', 0.7105963826179504), ('학생', 0.6962770819664001)]\n",
            "Word2Vec 유사도: [('어머님께', 0.7461442351341248), ('양가', 0.7398806810379028), ('사촌', 0.7316786646842957), ('앞둔', 0.7216850519180298), ('시어머님', 0.7190600633621216), ('놀이터', 0.7094445824623108), ('개업', 0.704193115234375), ('셔셔', 0.7031276226043701), ('쪄요', 0.6976248621940613), ('설날', 0.696521520614624)]\n"
          ]
        }
      ],
      "source": [
        "print(\"FastText 유사도:\", transform(model.get_nearest_neighbors(word_to_jamo('남동생'), k=10)))\n",
        "print(\"Word2Vec 유사도:\", model2.wv.most_similar(\"남동생\"))"
      ]
    },
    {
      "cell_type": "markdown",
      "source": [
        "**Your Inference:** : fasttext는 친구/생일/조카 등 의미적으로 비슷한 단어뿐만 아니라 동생/남친/남편 등 형태적으로 비슷한 단어들에 높은 유사도를 부여함. 남친/남편/남동생 등등 남성의 의미를 담은 단어들을 거리적으로 가깝게 위치했을 것. 이에 반해 Word2Vec은 그러한 특성을 잘 잡아내지 못하는 것을 확인할 수 있음.\n"
      ],
      "metadata": {
        "id": "bYdzRHHC8hse"
      }
    },
    {
      "cell_type": "code",
      "execution_count": null,
      "metadata": {
        "id": "I3lAnif5BWay",
        "colab": {
          "base_uri": "https://localhost:8080/"
        },
        "outputId": "5944a40e-c876-4989-c299-72d9327d7899"
      },
      "outputs": [
        {
          "output_type": "stream",
          "name": "stdout",
          "text": [
            "FastText 유사도: [('주문건', 0.9121477603912354), ('주문서', 0.8553550839424133), ('주문자', 0.7449468374252319), ('구매', 0.7431555390357971), ('주무', 0.7370957136154175), ('주무시', 0.7262292504310608), ('구매처', 0.7238249182701111), ('구입', 0.7236705422401428), ('시킨', 0.6983362436294556), ('시켰었', 0.6900933384895325)]\n",
            "Word2Vec 유사도: [('구매', 0.827160656452179), ('구입', 0.8208982944488525), ('선택', 0.6476771235466003), ('결제', 0.5644811391830444), ('시켰', 0.5624099969863892), ('장만', 0.5334891676902771), ('신청', 0.5304086208343506), ('그런가보다', 0.5261387825012207), ('교체', 0.5257349610328674), ('시킨', 0.5197986364364624)]\n"
          ]
        }
      ],
      "source": [
        "print(\"FastText 유사도:\", transform(model.get_nearest_neighbors(word_to_jamo('주문'), k=10)))\n",
        "print(\"Word2Vec 유사도:\", model2.wv.most_similar(\"주문\"))"
      ]
    },
    {
      "cell_type": "markdown",
      "metadata": {
        "id": "cGJZGHcxA52j"
      },
      "source": [
        "**Your Inference:** fasttext는 주문이라는 단어에 대해서 나올 수 있는 다양한 파생어들을 잘 잡아내고 있음. 반면 word2vec은 주문과 함께 쓰이는 단어들을 위주로 높은 유사도를 보이고 있음.\n",
        "\n"
      ]
    },
    {
      "cell_type": "markdown",
      "metadata": {
        "id": "US6x_FiIryoM"
      },
      "source": [
        "### **Q2) Fasttext가 Word2Vec보다 항상 성능이 나은지 다양한 input을 넣어서 시도해보세요**"
      ]
    },
    {
      "cell_type": "code",
      "source": [
        "word_1 = '졸리다'\n",
        "# fasttext는 자모음 단위로 학습하기 때문에 학습 시 없었던 단어(OOV)에도 대응할 수 있음 단어 단위로 학습하는 word2Vec는 학습 시 없었던 단어에 대해 오류 생성\n",
        "# 졸/리/다 의 조합을 이용하여 벡터를 생성. 다만 새로운 단어가 잘 임베딩이 되었는지에 대해서는 데이터셋의 한계로 인해(추정) 그다지 신뢰성이 있어보이지는 않음.\n",
        "word_2 = '택배'\n",
        "# fasttext는 비슷한 단어로 송송 / 송지연 / 송사 등 (배송과) 형태가 비슷하지만 이상한 단어에 대해 높은 유사도를 보이고 있음. 즉 형태적인 분석이 항상 좋은 결과를 보이지는 않음\n",
        "# *송지연은 배송지연의 일부로 보임*\n",
        "word_3 = '가방'\n",
        "# fasttext는 무방 다방 사방 나방...등 의미적으로 어떠한 관계도 없는 단어에 대해 높은 유사도를 보임. 반면 word2vec은 꾸준히 괜찮은 성능을 보이고 있음."
      ],
      "metadata": {
        "id": "WXjxXjUx54nV"
      },
      "execution_count": null,
      "outputs": []
    },
    {
      "cell_type": "code",
      "execution_count": null,
      "metadata": {
        "id": "LLkz-ZalsB2v"
      },
      "outputs": [],
      "source": [
        "print(\"FastText 유사도:\", transform(model.get_nearest_neighbors(word_to_jamo(word_1), k=10)))\n",
        "print(\"Word2Vec 유사도:\", model2.wv.most_similar(word_1))"
      ]
    },
    {
      "cell_type": "code",
      "execution_count": null,
      "metadata": {
        "id": "A4VZ-I34sOXj",
        "colab": {
          "base_uri": "https://localhost:8080/"
        },
        "outputId": "114999bf-800d-4d28-9024-1a889330f76f"
      },
      "outputs": [
        {
          "output_type": "stream",
          "name": "stdout",
          "text": [
            "FastText 유사도: [('백배', 0.9067248106002808), ('배송지', 0.8098480105400085), ('배달', 0.7413896918296814), ('송송', 0.7175100445747375), ('운송', 0.7136814594268799), ('운송장', 0.7003076076507568), ('송장', 0.698600172996521), ('송지연', 0.6981036067008972), ('송사', 0.6926111578941345), ('담당자', 0.6875274777412415)]\n",
            "Word2Vec 유사도: [('배달', 0.6463664174079895), ('문자', 0.6065391302108765), ('배송', 0.584054172039032), ('업체', 0.5785526037216187), ('물건', 0.5688410997390747), ('전화', 0.568403959274292), ('연락', 0.565902590751648), ('판매자', 0.5637108087539673), ('발송', 0.5630566477775574), ('물품', 0.561723530292511)]\n"
          ]
        }
      ],
      "source": [
        "print(\"FastText 유사도:\", transform(model.get_nearest_neighbors(word_to_jamo(word_2), k=10)))\n",
        "print(\"Word2Vec 유사도:\", model2.wv.most_similar(word_2))"
      ]
    },
    {
      "cell_type": "code",
      "source": [
        "print(\"FastText 유사도:\", transform(model.get_nearest_neighbors(word_to_jamo(word_3), k=10)))\n",
        "print(\"Word2Vec 유사도:\", model2.wv.most_similar(word_3))"
      ],
      "metadata": {
        "colab": {
          "base_uri": "https://localhost:8080/"
        },
        "id": "4qkbhcmI6_j1",
        "outputId": "88a2a79c-4676-44ef-e64c-176aed1dfa59"
      },
      "execution_count": null,
      "outputs": [
        {
          "output_type": "stream",
          "name": "stdout",
          "text": [
            "FastText 유사도: [('가방끈', 0.8773491978645325), ('다방', 0.7887032628059387), ('가바', 0.7883415222167969), ('무방', 0.7141019701957703), ('사방', 0.7037726640701294), ('나방', 0.6997034549713135), ('옷장', 0.6950241923332214), ('책장', 0.6629279851913452), ('자취방', 0.6625896692276001), ('공부방', 0.6469552516937256)]\n",
            "Word2Vec 유사도: [('신발', 0.6899797916412354), ('지갑', 0.623313844203949), ('책', 0.5569254159927368), ('귀걸이', 0.5559129118919373), ('물병', 0.5404343008995056), ('주머니', 0.5400270819664001), ('이불', 0.5385650992393494), ('우산', 0.537278950214386), ('양말', 0.5244193077087402), ('모자', 0.519871711730957)]\n"
          ]
        }
      ]
    },
    {
      "cell_type": "code",
      "source": [
        "print(\"FastText 유사도:\", transform(model.get_nearest_neighbors(word_to_jamo(word_4), k=10)))\n",
        "print(\"Word2Vec 유사도:\", model2.wv.most_similar(word_4))"
      ],
      "metadata": {
        "id": "HAkg0bI47AAG"
      },
      "execution_count": null,
      "outputs": []
    },
    {
      "cell_type": "markdown",
      "metadata": {
        "id": "UUyyS7GfsSha"
      },
      "source": [
        "**Your Inference:**"
      ]
    }
  ],
  "metadata": {
    "colab": {
      "provenance": []
    },
    "kernelspec": {
      "display_name": "Python 3",
      "name": "python3"
    },
    "language_info": {
      "name": "python"
    }
  },
  "nbformat": 4,
  "nbformat_minor": 0
}