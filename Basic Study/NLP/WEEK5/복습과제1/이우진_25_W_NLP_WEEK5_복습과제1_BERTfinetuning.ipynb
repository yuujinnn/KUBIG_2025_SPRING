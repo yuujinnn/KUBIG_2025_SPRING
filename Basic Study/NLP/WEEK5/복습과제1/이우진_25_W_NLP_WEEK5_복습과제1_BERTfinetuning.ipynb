{
  "nbformat": 4,
  "nbformat_minor": 0,
  "metadata": {
    "colab": {
      "provenance": []
    },
    "kernelspec": {
      "name": "python3",
      "display_name": "Python 3"
    },
    "accelerator": "GPU",
    "widgets": {
      "application/vnd.jupyter.widget-state+json": {
        "e66dfe1a7cc840b6a916c3f4edac7a5a": {
          "model_module": "@jupyter-widgets/controls",
          "model_name": "HBoxModel",
          "model_module_version": "1.5.0",
          "state": {
            "_dom_classes": [],
            "_model_module": "@jupyter-widgets/controls",
            "_model_module_version": "1.5.0",
            "_model_name": "HBoxModel",
            "_view_count": null,
            "_view_module": "@jupyter-widgets/controls",
            "_view_module_version": "1.5.0",
            "_view_name": "HBoxView",
            "box_style": "",
            "children": [
              "IPY_MODEL_67fb10f882bc4fb1ab1f5e22bd58ebc6",
              "IPY_MODEL_cb5280c6762a4a94a8d09178de1b1cbd",
              "IPY_MODEL_ddc16631d6fe41bbb14a62e19bce3e16"
            ],
            "layout": "IPY_MODEL_b227f69f31a24bcc97391a57c10404ab"
          }
        },
        "67fb10f882bc4fb1ab1f5e22bd58ebc6": {
          "model_module": "@jupyter-widgets/controls",
          "model_name": "HTMLModel",
          "model_module_version": "1.5.0",
          "state": {
            "_dom_classes": [],
            "_model_module": "@jupyter-widgets/controls",
            "_model_module_version": "1.5.0",
            "_model_name": "HTMLModel",
            "_view_count": null,
            "_view_module": "@jupyter-widgets/controls",
            "_view_module_version": "1.5.0",
            "_view_name": "HTMLView",
            "description": "",
            "description_tooltip": null,
            "layout": "IPY_MODEL_03abb3f760b341dc9105cceead28121e",
            "placeholder": "​",
            "style": "IPY_MODEL_6c19a5753b2049259426a0c3ac7e525b",
            "value": "tokenizer_config.json: 100%"
          }
        },
        "cb5280c6762a4a94a8d09178de1b1cbd": {
          "model_module": "@jupyter-widgets/controls",
          "model_name": "FloatProgressModel",
          "model_module_version": "1.5.0",
          "state": {
            "_dom_classes": [],
            "_model_module": "@jupyter-widgets/controls",
            "_model_module_version": "1.5.0",
            "_model_name": "FloatProgressModel",
            "_view_count": null,
            "_view_module": "@jupyter-widgets/controls",
            "_view_module_version": "1.5.0",
            "_view_name": "ProgressView",
            "bar_style": "success",
            "description": "",
            "description_tooltip": null,
            "layout": "IPY_MODEL_7bb22ee211af4cc4a33b417d8947d33c",
            "max": 48,
            "min": 0,
            "orientation": "horizontal",
            "style": "IPY_MODEL_ec252044a331404ca43d64027641c432",
            "value": 48
          }
        },
        "ddc16631d6fe41bbb14a62e19bce3e16": {
          "model_module": "@jupyter-widgets/controls",
          "model_name": "HTMLModel",
          "model_module_version": "1.5.0",
          "state": {
            "_dom_classes": [],
            "_model_module": "@jupyter-widgets/controls",
            "_model_module_version": "1.5.0",
            "_model_name": "HTMLModel",
            "_view_count": null,
            "_view_module": "@jupyter-widgets/controls",
            "_view_module_version": "1.5.0",
            "_view_name": "HTMLView",
            "description": "",
            "description_tooltip": null,
            "layout": "IPY_MODEL_2f313bf31bda48d1b835935e773d5f33",
            "placeholder": "​",
            "style": "IPY_MODEL_a7e7d1a46124433f8849de4618edf22e",
            "value": " 48.0/48.0 [00:00&lt;00:00, 1.69kB/s]"
          }
        },
        "b227f69f31a24bcc97391a57c10404ab": {
          "model_module": "@jupyter-widgets/base",
          "model_name": "LayoutModel",
          "model_module_version": "1.2.0",
          "state": {
            "_model_module": "@jupyter-widgets/base",
            "_model_module_version": "1.2.0",
            "_model_name": "LayoutModel",
            "_view_count": null,
            "_view_module": "@jupyter-widgets/base",
            "_view_module_version": "1.2.0",
            "_view_name": "LayoutView",
            "align_content": null,
            "align_items": null,
            "align_self": null,
            "border": null,
            "bottom": null,
            "display": null,
            "flex": null,
            "flex_flow": null,
            "grid_area": null,
            "grid_auto_columns": null,
            "grid_auto_flow": null,
            "grid_auto_rows": null,
            "grid_column": null,
            "grid_gap": null,
            "grid_row": null,
            "grid_template_areas": null,
            "grid_template_columns": null,
            "grid_template_rows": null,
            "height": null,
            "justify_content": null,
            "justify_items": null,
            "left": null,
            "margin": null,
            "max_height": null,
            "max_width": null,
            "min_height": null,
            "min_width": null,
            "object_fit": null,
            "object_position": null,
            "order": null,
            "overflow": null,
            "overflow_x": null,
            "overflow_y": null,
            "padding": null,
            "right": null,
            "top": null,
            "visibility": null,
            "width": null
          }
        },
        "03abb3f760b341dc9105cceead28121e": {
          "model_module": "@jupyter-widgets/base",
          "model_name": "LayoutModel",
          "model_module_version": "1.2.0",
          "state": {
            "_model_module": "@jupyter-widgets/base",
            "_model_module_version": "1.2.0",
            "_model_name": "LayoutModel",
            "_view_count": null,
            "_view_module": "@jupyter-widgets/base",
            "_view_module_version": "1.2.0",
            "_view_name": "LayoutView",
            "align_content": null,
            "align_items": null,
            "align_self": null,
            "border": null,
            "bottom": null,
            "display": null,
            "flex": null,
            "flex_flow": null,
            "grid_area": null,
            "grid_auto_columns": null,
            "grid_auto_flow": null,
            "grid_auto_rows": null,
            "grid_column": null,
            "grid_gap": null,
            "grid_row": null,
            "grid_template_areas": null,
            "grid_template_columns": null,
            "grid_template_rows": null,
            "height": null,
            "justify_content": null,
            "justify_items": null,
            "left": null,
            "margin": null,
            "max_height": null,
            "max_width": null,
            "min_height": null,
            "min_width": null,
            "object_fit": null,
            "object_position": null,
            "order": null,
            "overflow": null,
            "overflow_x": null,
            "overflow_y": null,
            "padding": null,
            "right": null,
            "top": null,
            "visibility": null,
            "width": null
          }
        },
        "6c19a5753b2049259426a0c3ac7e525b": {
          "model_module": "@jupyter-widgets/controls",
          "model_name": "DescriptionStyleModel",
          "model_module_version": "1.5.0",
          "state": {
            "_model_module": "@jupyter-widgets/controls",
            "_model_module_version": "1.5.0",
            "_model_name": "DescriptionStyleModel",
            "_view_count": null,
            "_view_module": "@jupyter-widgets/base",
            "_view_module_version": "1.2.0",
            "_view_name": "StyleView",
            "description_width": ""
          }
        },
        "7bb22ee211af4cc4a33b417d8947d33c": {
          "model_module": "@jupyter-widgets/base",
          "model_name": "LayoutModel",
          "model_module_version": "1.2.0",
          "state": {
            "_model_module": "@jupyter-widgets/base",
            "_model_module_version": "1.2.0",
            "_model_name": "LayoutModel",
            "_view_count": null,
            "_view_module": "@jupyter-widgets/base",
            "_view_module_version": "1.2.0",
            "_view_name": "LayoutView",
            "align_content": null,
            "align_items": null,
            "align_self": null,
            "border": null,
            "bottom": null,
            "display": null,
            "flex": null,
            "flex_flow": null,
            "grid_area": null,
            "grid_auto_columns": null,
            "grid_auto_flow": null,
            "grid_auto_rows": null,
            "grid_column": null,
            "grid_gap": null,
            "grid_row": null,
            "grid_template_areas": null,
            "grid_template_columns": null,
            "grid_template_rows": null,
            "height": null,
            "justify_content": null,
            "justify_items": null,
            "left": null,
            "margin": null,
            "max_height": null,
            "max_width": null,
            "min_height": null,
            "min_width": null,
            "object_fit": null,
            "object_position": null,
            "order": null,
            "overflow": null,
            "overflow_x": null,
            "overflow_y": null,
            "padding": null,
            "right": null,
            "top": null,
            "visibility": null,
            "width": null
          }
        },
        "ec252044a331404ca43d64027641c432": {
          "model_module": "@jupyter-widgets/controls",
          "model_name": "ProgressStyleModel",
          "model_module_version": "1.5.0",
          "state": {
            "_model_module": "@jupyter-widgets/controls",
            "_model_module_version": "1.5.0",
            "_model_name": "ProgressStyleModel",
            "_view_count": null,
            "_view_module": "@jupyter-widgets/base",
            "_view_module_version": "1.2.0",
            "_view_name": "StyleView",
            "bar_color": null,
            "description_width": ""
          }
        },
        "2f313bf31bda48d1b835935e773d5f33": {
          "model_module": "@jupyter-widgets/base",
          "model_name": "LayoutModel",
          "model_module_version": "1.2.0",
          "state": {
            "_model_module": "@jupyter-widgets/base",
            "_model_module_version": "1.2.0",
            "_model_name": "LayoutModel",
            "_view_count": null,
            "_view_module": "@jupyter-widgets/base",
            "_view_module_version": "1.2.0",
            "_view_name": "LayoutView",
            "align_content": null,
            "align_items": null,
            "align_self": null,
            "border": null,
            "bottom": null,
            "display": null,
            "flex": null,
            "flex_flow": null,
            "grid_area": null,
            "grid_auto_columns": null,
            "grid_auto_flow": null,
            "grid_auto_rows": null,
            "grid_column": null,
            "grid_gap": null,
            "grid_row": null,
            "grid_template_areas": null,
            "grid_template_columns": null,
            "grid_template_rows": null,
            "height": null,
            "justify_content": null,
            "justify_items": null,
            "left": null,
            "margin": null,
            "max_height": null,
            "max_width": null,
            "min_height": null,
            "min_width": null,
            "object_fit": null,
            "object_position": null,
            "order": null,
            "overflow": null,
            "overflow_x": null,
            "overflow_y": null,
            "padding": null,
            "right": null,
            "top": null,
            "visibility": null,
            "width": null
          }
        },
        "a7e7d1a46124433f8849de4618edf22e": {
          "model_module": "@jupyter-widgets/controls",
          "model_name": "DescriptionStyleModel",
          "model_module_version": "1.5.0",
          "state": {
            "_model_module": "@jupyter-widgets/controls",
            "_model_module_version": "1.5.0",
            "_model_name": "DescriptionStyleModel",
            "_view_count": null,
            "_view_module": "@jupyter-widgets/base",
            "_view_module_version": "1.2.0",
            "_view_name": "StyleView",
            "description_width": ""
          }
        },
        "8c65e246c2a94ef58f95d260a7e38126": {
          "model_module": "@jupyter-widgets/controls",
          "model_name": "HBoxModel",
          "model_module_version": "1.5.0",
          "state": {
            "_dom_classes": [],
            "_model_module": "@jupyter-widgets/controls",
            "_model_module_version": "1.5.0",
            "_model_name": "HBoxModel",
            "_view_count": null,
            "_view_module": "@jupyter-widgets/controls",
            "_view_module_version": "1.5.0",
            "_view_name": "HBoxView",
            "box_style": "",
            "children": [
              "IPY_MODEL_f135dfe99dd440e389a927b498301c6d",
              "IPY_MODEL_15d8e9ef2f084350ba18693051347a23",
              "IPY_MODEL_5c26c2a54eae46049254989da7cb24d8"
            ],
            "layout": "IPY_MODEL_ca8b6e97e94e4e418aac18929fcc1f9b"
          }
        },
        "f135dfe99dd440e389a927b498301c6d": {
          "model_module": "@jupyter-widgets/controls",
          "model_name": "HTMLModel",
          "model_module_version": "1.5.0",
          "state": {
            "_dom_classes": [],
            "_model_module": "@jupyter-widgets/controls",
            "_model_module_version": "1.5.0",
            "_model_name": "HTMLModel",
            "_view_count": null,
            "_view_module": "@jupyter-widgets/controls",
            "_view_module_version": "1.5.0",
            "_view_name": "HTMLView",
            "description": "",
            "description_tooltip": null,
            "layout": "IPY_MODEL_d2c6fec0e6d14256a6d13f2925a57fc7",
            "placeholder": "​",
            "style": "IPY_MODEL_678509ca021344f394c4e0f282f7364e",
            "value": "vocab.txt: 100%"
          }
        },
        "15d8e9ef2f084350ba18693051347a23": {
          "model_module": "@jupyter-widgets/controls",
          "model_name": "FloatProgressModel",
          "model_module_version": "1.5.0",
          "state": {
            "_dom_classes": [],
            "_model_module": "@jupyter-widgets/controls",
            "_model_module_version": "1.5.0",
            "_model_name": "FloatProgressModel",
            "_view_count": null,
            "_view_module": "@jupyter-widgets/controls",
            "_view_module_version": "1.5.0",
            "_view_name": "ProgressView",
            "bar_style": "success",
            "description": "",
            "description_tooltip": null,
            "layout": "IPY_MODEL_f7b42a7e99574643b5df1c980ddefcb2",
            "max": 231508,
            "min": 0,
            "orientation": "horizontal",
            "style": "IPY_MODEL_b22584ede2d34a78ae957d9120e0b876",
            "value": 231508
          }
        },
        "5c26c2a54eae46049254989da7cb24d8": {
          "model_module": "@jupyter-widgets/controls",
          "model_name": "HTMLModel",
          "model_module_version": "1.5.0",
          "state": {
            "_dom_classes": [],
            "_model_module": "@jupyter-widgets/controls",
            "_model_module_version": "1.5.0",
            "_model_name": "HTMLModel",
            "_view_count": null,
            "_view_module": "@jupyter-widgets/controls",
            "_view_module_version": "1.5.0",
            "_view_name": "HTMLView",
            "description": "",
            "description_tooltip": null,
            "layout": "IPY_MODEL_531bdd6b5d7e4117a6ebf34652a78dfc",
            "placeholder": "​",
            "style": "IPY_MODEL_0bc74023582e481191bff77b22d37da3",
            "value": " 232k/232k [00:00&lt;00:00, 5.22MB/s]"
          }
        },
        "ca8b6e97e94e4e418aac18929fcc1f9b": {
          "model_module": "@jupyter-widgets/base",
          "model_name": "LayoutModel",
          "model_module_version": "1.2.0",
          "state": {
            "_model_module": "@jupyter-widgets/base",
            "_model_module_version": "1.2.0",
            "_model_name": "LayoutModel",
            "_view_count": null,
            "_view_module": "@jupyter-widgets/base",
            "_view_module_version": "1.2.0",
            "_view_name": "LayoutView",
            "align_content": null,
            "align_items": null,
            "align_self": null,
            "border": null,
            "bottom": null,
            "display": null,
            "flex": null,
            "flex_flow": null,
            "grid_area": null,
            "grid_auto_columns": null,
            "grid_auto_flow": null,
            "grid_auto_rows": null,
            "grid_column": null,
            "grid_gap": null,
            "grid_row": null,
            "grid_template_areas": null,
            "grid_template_columns": null,
            "grid_template_rows": null,
            "height": null,
            "justify_content": null,
            "justify_items": null,
            "left": null,
            "margin": null,
            "max_height": null,
            "max_width": null,
            "min_height": null,
            "min_width": null,
            "object_fit": null,
            "object_position": null,
            "order": null,
            "overflow": null,
            "overflow_x": null,
            "overflow_y": null,
            "padding": null,
            "right": null,
            "top": null,
            "visibility": null,
            "width": null
          }
        },
        "d2c6fec0e6d14256a6d13f2925a57fc7": {
          "model_module": "@jupyter-widgets/base",
          "model_name": "LayoutModel",
          "model_module_version": "1.2.0",
          "state": {
            "_model_module": "@jupyter-widgets/base",
            "_model_module_version": "1.2.0",
            "_model_name": "LayoutModel",
            "_view_count": null,
            "_view_module": "@jupyter-widgets/base",
            "_view_module_version": "1.2.0",
            "_view_name": "LayoutView",
            "align_content": null,
            "align_items": null,
            "align_self": null,
            "border": null,
            "bottom": null,
            "display": null,
            "flex": null,
            "flex_flow": null,
            "grid_area": null,
            "grid_auto_columns": null,
            "grid_auto_flow": null,
            "grid_auto_rows": null,
            "grid_column": null,
            "grid_gap": null,
            "grid_row": null,
            "grid_template_areas": null,
            "grid_template_columns": null,
            "grid_template_rows": null,
            "height": null,
            "justify_content": null,
            "justify_items": null,
            "left": null,
            "margin": null,
            "max_height": null,
            "max_width": null,
            "min_height": null,
            "min_width": null,
            "object_fit": null,
            "object_position": null,
            "order": null,
            "overflow": null,
            "overflow_x": null,
            "overflow_y": null,
            "padding": null,
            "right": null,
            "top": null,
            "visibility": null,
            "width": null
          }
        },
        "678509ca021344f394c4e0f282f7364e": {
          "model_module": "@jupyter-widgets/controls",
          "model_name": "DescriptionStyleModel",
          "model_module_version": "1.5.0",
          "state": {
            "_model_module": "@jupyter-widgets/controls",
            "_model_module_version": "1.5.0",
            "_model_name": "DescriptionStyleModel",
            "_view_count": null,
            "_view_module": "@jupyter-widgets/base",
            "_view_module_version": "1.2.0",
            "_view_name": "StyleView",
            "description_width": ""
          }
        },
        "f7b42a7e99574643b5df1c980ddefcb2": {
          "model_module": "@jupyter-widgets/base",
          "model_name": "LayoutModel",
          "model_module_version": "1.2.0",
          "state": {
            "_model_module": "@jupyter-widgets/base",
            "_model_module_version": "1.2.0",
            "_model_name": "LayoutModel",
            "_view_count": null,
            "_view_module": "@jupyter-widgets/base",
            "_view_module_version": "1.2.0",
            "_view_name": "LayoutView",
            "align_content": null,
            "align_items": null,
            "align_self": null,
            "border": null,
            "bottom": null,
            "display": null,
            "flex": null,
            "flex_flow": null,
            "grid_area": null,
            "grid_auto_columns": null,
            "grid_auto_flow": null,
            "grid_auto_rows": null,
            "grid_column": null,
            "grid_gap": null,
            "grid_row": null,
            "grid_template_areas": null,
            "grid_template_columns": null,
            "grid_template_rows": null,
            "height": null,
            "justify_content": null,
            "justify_items": null,
            "left": null,
            "margin": null,
            "max_height": null,
            "max_width": null,
            "min_height": null,
            "min_width": null,
            "object_fit": null,
            "object_position": null,
            "order": null,
            "overflow": null,
            "overflow_x": null,
            "overflow_y": null,
            "padding": null,
            "right": null,
            "top": null,
            "visibility": null,
            "width": null
          }
        },
        "b22584ede2d34a78ae957d9120e0b876": {
          "model_module": "@jupyter-widgets/controls",
          "model_name": "ProgressStyleModel",
          "model_module_version": "1.5.0",
          "state": {
            "_model_module": "@jupyter-widgets/controls",
            "_model_module_version": "1.5.0",
            "_model_name": "ProgressStyleModel",
            "_view_count": null,
            "_view_module": "@jupyter-widgets/base",
            "_view_module_version": "1.2.0",
            "_view_name": "StyleView",
            "bar_color": null,
            "description_width": ""
          }
        },
        "531bdd6b5d7e4117a6ebf34652a78dfc": {
          "model_module": "@jupyter-widgets/base",
          "model_name": "LayoutModel",
          "model_module_version": "1.2.0",
          "state": {
            "_model_module": "@jupyter-widgets/base",
            "_model_module_version": "1.2.0",
            "_model_name": "LayoutModel",
            "_view_count": null,
            "_view_module": "@jupyter-widgets/base",
            "_view_module_version": "1.2.0",
            "_view_name": "LayoutView",
            "align_content": null,
            "align_items": null,
            "align_self": null,
            "border": null,
            "bottom": null,
            "display": null,
            "flex": null,
            "flex_flow": null,
            "grid_area": null,
            "grid_auto_columns": null,
            "grid_auto_flow": null,
            "grid_auto_rows": null,
            "grid_column": null,
            "grid_gap": null,
            "grid_row": null,
            "grid_template_areas": null,
            "grid_template_columns": null,
            "grid_template_rows": null,
            "height": null,
            "justify_content": null,
            "justify_items": null,
            "left": null,
            "margin": null,
            "max_height": null,
            "max_width": null,
            "min_height": null,
            "min_width": null,
            "object_fit": null,
            "object_position": null,
            "order": null,
            "overflow": null,
            "overflow_x": null,
            "overflow_y": null,
            "padding": null,
            "right": null,
            "top": null,
            "visibility": null,
            "width": null
          }
        },
        "0bc74023582e481191bff77b22d37da3": {
          "model_module": "@jupyter-widgets/controls",
          "model_name": "DescriptionStyleModel",
          "model_module_version": "1.5.0",
          "state": {
            "_model_module": "@jupyter-widgets/controls",
            "_model_module_version": "1.5.0",
            "_model_name": "DescriptionStyleModel",
            "_view_count": null,
            "_view_module": "@jupyter-widgets/base",
            "_view_module_version": "1.2.0",
            "_view_name": "StyleView",
            "description_width": ""
          }
        },
        "bbd195c1c2f94a5682875b95a7c8d48a": {
          "model_module": "@jupyter-widgets/controls",
          "model_name": "HBoxModel",
          "model_module_version": "1.5.0",
          "state": {
            "_dom_classes": [],
            "_model_module": "@jupyter-widgets/controls",
            "_model_module_version": "1.5.0",
            "_model_name": "HBoxModel",
            "_view_count": null,
            "_view_module": "@jupyter-widgets/controls",
            "_view_module_version": "1.5.0",
            "_view_name": "HBoxView",
            "box_style": "",
            "children": [
              "IPY_MODEL_ef7c3f5b0a874f64a4ae7a11d549b410",
              "IPY_MODEL_9b04d310ada24da482ed0e315c28c78e",
              "IPY_MODEL_2199e3a7590044b796f58d5f7ebc57bf"
            ],
            "layout": "IPY_MODEL_a83df2fdc55d4be8a123a89597f7cb99"
          }
        },
        "ef7c3f5b0a874f64a4ae7a11d549b410": {
          "model_module": "@jupyter-widgets/controls",
          "model_name": "HTMLModel",
          "model_module_version": "1.5.0",
          "state": {
            "_dom_classes": [],
            "_model_module": "@jupyter-widgets/controls",
            "_model_module_version": "1.5.0",
            "_model_name": "HTMLModel",
            "_view_count": null,
            "_view_module": "@jupyter-widgets/controls",
            "_view_module_version": "1.5.0",
            "_view_name": "HTMLView",
            "description": "",
            "description_tooltip": null,
            "layout": "IPY_MODEL_fd1c2cb0abbc4c95814791138dbceee9",
            "placeholder": "​",
            "style": "IPY_MODEL_e5f2df2881514300bd3a85deb156bba4",
            "value": "tokenizer.json: 100%"
          }
        },
        "9b04d310ada24da482ed0e315c28c78e": {
          "model_module": "@jupyter-widgets/controls",
          "model_name": "FloatProgressModel",
          "model_module_version": "1.5.0",
          "state": {
            "_dom_classes": [],
            "_model_module": "@jupyter-widgets/controls",
            "_model_module_version": "1.5.0",
            "_model_name": "FloatProgressModel",
            "_view_count": null,
            "_view_module": "@jupyter-widgets/controls",
            "_view_module_version": "1.5.0",
            "_view_name": "ProgressView",
            "bar_style": "success",
            "description": "",
            "description_tooltip": null,
            "layout": "IPY_MODEL_70ce68d9a62e4cde8e96a2d62bfddd95",
            "max": 466062,
            "min": 0,
            "orientation": "horizontal",
            "style": "IPY_MODEL_dca456f0ffb14f05a68f3b6db232798c",
            "value": 466062
          }
        },
        "2199e3a7590044b796f58d5f7ebc57bf": {
          "model_module": "@jupyter-widgets/controls",
          "model_name": "HTMLModel",
          "model_module_version": "1.5.0",
          "state": {
            "_dom_classes": [],
            "_model_module": "@jupyter-widgets/controls",
            "_model_module_version": "1.5.0",
            "_model_name": "HTMLModel",
            "_view_count": null,
            "_view_module": "@jupyter-widgets/controls",
            "_view_module_version": "1.5.0",
            "_view_name": "HTMLView",
            "description": "",
            "description_tooltip": null,
            "layout": "IPY_MODEL_e7618dfcd20443898c8b1d310957b072",
            "placeholder": "​",
            "style": "IPY_MODEL_5adec058dfc44d61b15b4e7a53d64e9a",
            "value": " 466k/466k [00:00&lt;00:00, 6.25MB/s]"
          }
        },
        "a83df2fdc55d4be8a123a89597f7cb99": {
          "model_module": "@jupyter-widgets/base",
          "model_name": "LayoutModel",
          "model_module_version": "1.2.0",
          "state": {
            "_model_module": "@jupyter-widgets/base",
            "_model_module_version": "1.2.0",
            "_model_name": "LayoutModel",
            "_view_count": null,
            "_view_module": "@jupyter-widgets/base",
            "_view_module_version": "1.2.0",
            "_view_name": "LayoutView",
            "align_content": null,
            "align_items": null,
            "align_self": null,
            "border": null,
            "bottom": null,
            "display": null,
            "flex": null,
            "flex_flow": null,
            "grid_area": null,
            "grid_auto_columns": null,
            "grid_auto_flow": null,
            "grid_auto_rows": null,
            "grid_column": null,
            "grid_gap": null,
            "grid_row": null,
            "grid_template_areas": null,
            "grid_template_columns": null,
            "grid_template_rows": null,
            "height": null,
            "justify_content": null,
            "justify_items": null,
            "left": null,
            "margin": null,
            "max_height": null,
            "max_width": null,
            "min_height": null,
            "min_width": null,
            "object_fit": null,
            "object_position": null,
            "order": null,
            "overflow": null,
            "overflow_x": null,
            "overflow_y": null,
            "padding": null,
            "right": null,
            "top": null,
            "visibility": null,
            "width": null
          }
        },
        "fd1c2cb0abbc4c95814791138dbceee9": {
          "model_module": "@jupyter-widgets/base",
          "model_name": "LayoutModel",
          "model_module_version": "1.2.0",
          "state": {
            "_model_module": "@jupyter-widgets/base",
            "_model_module_version": "1.2.0",
            "_model_name": "LayoutModel",
            "_view_count": null,
            "_view_module": "@jupyter-widgets/base",
            "_view_module_version": "1.2.0",
            "_view_name": "LayoutView",
            "align_content": null,
            "align_items": null,
            "align_self": null,
            "border": null,
            "bottom": null,
            "display": null,
            "flex": null,
            "flex_flow": null,
            "grid_area": null,
            "grid_auto_columns": null,
            "grid_auto_flow": null,
            "grid_auto_rows": null,
            "grid_column": null,
            "grid_gap": null,
            "grid_row": null,
            "grid_template_areas": null,
            "grid_template_columns": null,
            "grid_template_rows": null,
            "height": null,
            "justify_content": null,
            "justify_items": null,
            "left": null,
            "margin": null,
            "max_height": null,
            "max_width": null,
            "min_height": null,
            "min_width": null,
            "object_fit": null,
            "object_position": null,
            "order": null,
            "overflow": null,
            "overflow_x": null,
            "overflow_y": null,
            "padding": null,
            "right": null,
            "top": null,
            "visibility": null,
            "width": null
          }
        },
        "e5f2df2881514300bd3a85deb156bba4": {
          "model_module": "@jupyter-widgets/controls",
          "model_name": "DescriptionStyleModel",
          "model_module_version": "1.5.0",
          "state": {
            "_model_module": "@jupyter-widgets/controls",
            "_model_module_version": "1.5.0",
            "_model_name": "DescriptionStyleModel",
            "_view_count": null,
            "_view_module": "@jupyter-widgets/base",
            "_view_module_version": "1.2.0",
            "_view_name": "StyleView",
            "description_width": ""
          }
        },
        "70ce68d9a62e4cde8e96a2d62bfddd95": {
          "model_module": "@jupyter-widgets/base",
          "model_name": "LayoutModel",
          "model_module_version": "1.2.0",
          "state": {
            "_model_module": "@jupyter-widgets/base",
            "_model_module_version": "1.2.0",
            "_model_name": "LayoutModel",
            "_view_count": null,
            "_view_module": "@jupyter-widgets/base",
            "_view_module_version": "1.2.0",
            "_view_name": "LayoutView",
            "align_content": null,
            "align_items": null,
            "align_self": null,
            "border": null,
            "bottom": null,
            "display": null,
            "flex": null,
            "flex_flow": null,
            "grid_area": null,
            "grid_auto_columns": null,
            "grid_auto_flow": null,
            "grid_auto_rows": null,
            "grid_column": null,
            "grid_gap": null,
            "grid_row": null,
            "grid_template_areas": null,
            "grid_template_columns": null,
            "grid_template_rows": null,
            "height": null,
            "justify_content": null,
            "justify_items": null,
            "left": null,
            "margin": null,
            "max_height": null,
            "max_width": null,
            "min_height": null,
            "min_width": null,
            "object_fit": null,
            "object_position": null,
            "order": null,
            "overflow": null,
            "overflow_x": null,
            "overflow_y": null,
            "padding": null,
            "right": null,
            "top": null,
            "visibility": null,
            "width": null
          }
        },
        "dca456f0ffb14f05a68f3b6db232798c": {
          "model_module": "@jupyter-widgets/controls",
          "model_name": "ProgressStyleModel",
          "model_module_version": "1.5.0",
          "state": {
            "_model_module": "@jupyter-widgets/controls",
            "_model_module_version": "1.5.0",
            "_model_name": "ProgressStyleModel",
            "_view_count": null,
            "_view_module": "@jupyter-widgets/base",
            "_view_module_version": "1.2.0",
            "_view_name": "StyleView",
            "bar_color": null,
            "description_width": ""
          }
        },
        "e7618dfcd20443898c8b1d310957b072": {
          "model_module": "@jupyter-widgets/base",
          "model_name": "LayoutModel",
          "model_module_version": "1.2.0",
          "state": {
            "_model_module": "@jupyter-widgets/base",
            "_model_module_version": "1.2.0",
            "_model_name": "LayoutModel",
            "_view_count": null,
            "_view_module": "@jupyter-widgets/base",
            "_view_module_version": "1.2.0",
            "_view_name": "LayoutView",
            "align_content": null,
            "align_items": null,
            "align_self": null,
            "border": null,
            "bottom": null,
            "display": null,
            "flex": null,
            "flex_flow": null,
            "grid_area": null,
            "grid_auto_columns": null,
            "grid_auto_flow": null,
            "grid_auto_rows": null,
            "grid_column": null,
            "grid_gap": null,
            "grid_row": null,
            "grid_template_areas": null,
            "grid_template_columns": null,
            "grid_template_rows": null,
            "height": null,
            "justify_content": null,
            "justify_items": null,
            "left": null,
            "margin": null,
            "max_height": null,
            "max_width": null,
            "min_height": null,
            "min_width": null,
            "object_fit": null,
            "object_position": null,
            "order": null,
            "overflow": null,
            "overflow_x": null,
            "overflow_y": null,
            "padding": null,
            "right": null,
            "top": null,
            "visibility": null,
            "width": null
          }
        },
        "5adec058dfc44d61b15b4e7a53d64e9a": {
          "model_module": "@jupyter-widgets/controls",
          "model_name": "DescriptionStyleModel",
          "model_module_version": "1.5.0",
          "state": {
            "_model_module": "@jupyter-widgets/controls",
            "_model_module_version": "1.5.0",
            "_model_name": "DescriptionStyleModel",
            "_view_count": null,
            "_view_module": "@jupyter-widgets/base",
            "_view_module_version": "1.2.0",
            "_view_name": "StyleView",
            "description_width": ""
          }
        },
        "a5ebb85e3bb243edbbe1814254a7e849": {
          "model_module": "@jupyter-widgets/controls",
          "model_name": "HBoxModel",
          "model_module_version": "1.5.0",
          "state": {
            "_dom_classes": [],
            "_model_module": "@jupyter-widgets/controls",
            "_model_module_version": "1.5.0",
            "_model_name": "HBoxModel",
            "_view_count": null,
            "_view_module": "@jupyter-widgets/controls",
            "_view_module_version": "1.5.0",
            "_view_name": "HBoxView",
            "box_style": "",
            "children": [
              "IPY_MODEL_c3efc0d78a6b411c9b83a5d7a3329071",
              "IPY_MODEL_49b768854550460d890aa975db45c1b1",
              "IPY_MODEL_0f0cc348362a4395b1d906c12208ba0c"
            ],
            "layout": "IPY_MODEL_81738654730444818ec2ecf3df8d29a6"
          }
        },
        "c3efc0d78a6b411c9b83a5d7a3329071": {
          "model_module": "@jupyter-widgets/controls",
          "model_name": "HTMLModel",
          "model_module_version": "1.5.0",
          "state": {
            "_dom_classes": [],
            "_model_module": "@jupyter-widgets/controls",
            "_model_module_version": "1.5.0",
            "_model_name": "HTMLModel",
            "_view_count": null,
            "_view_module": "@jupyter-widgets/controls",
            "_view_module_version": "1.5.0",
            "_view_name": "HTMLView",
            "description": "",
            "description_tooltip": null,
            "layout": "IPY_MODEL_d09c2805d6484d5c90199a4b51df9be1",
            "placeholder": "​",
            "style": "IPY_MODEL_3025369e2bae43a5a0ffb83bd750aa23",
            "value": "config.json: 100%"
          }
        },
        "49b768854550460d890aa975db45c1b1": {
          "model_module": "@jupyter-widgets/controls",
          "model_name": "FloatProgressModel",
          "model_module_version": "1.5.0",
          "state": {
            "_dom_classes": [],
            "_model_module": "@jupyter-widgets/controls",
            "_model_module_version": "1.5.0",
            "_model_name": "FloatProgressModel",
            "_view_count": null,
            "_view_module": "@jupyter-widgets/controls",
            "_view_module_version": "1.5.0",
            "_view_name": "ProgressView",
            "bar_style": "success",
            "description": "",
            "description_tooltip": null,
            "layout": "IPY_MODEL_ccf12bc1db8042bd89dd68bf6ff7aa81",
            "max": 570,
            "min": 0,
            "orientation": "horizontal",
            "style": "IPY_MODEL_e9ecf425da3045d1a6f21795acb88ff3",
            "value": 570
          }
        },
        "0f0cc348362a4395b1d906c12208ba0c": {
          "model_module": "@jupyter-widgets/controls",
          "model_name": "HTMLModel",
          "model_module_version": "1.5.0",
          "state": {
            "_dom_classes": [],
            "_model_module": "@jupyter-widgets/controls",
            "_model_module_version": "1.5.0",
            "_model_name": "HTMLModel",
            "_view_count": null,
            "_view_module": "@jupyter-widgets/controls",
            "_view_module_version": "1.5.0",
            "_view_name": "HTMLView",
            "description": "",
            "description_tooltip": null,
            "layout": "IPY_MODEL_22814da86a7743f488aee17176ef9774",
            "placeholder": "​",
            "style": "IPY_MODEL_6ac8def140f94f13a6c6e4c6e02c4524",
            "value": " 570/570 [00:00&lt;00:00, 24.5kB/s]"
          }
        },
        "81738654730444818ec2ecf3df8d29a6": {
          "model_module": "@jupyter-widgets/base",
          "model_name": "LayoutModel",
          "model_module_version": "1.2.0",
          "state": {
            "_model_module": "@jupyter-widgets/base",
            "_model_module_version": "1.2.0",
            "_model_name": "LayoutModel",
            "_view_count": null,
            "_view_module": "@jupyter-widgets/base",
            "_view_module_version": "1.2.0",
            "_view_name": "LayoutView",
            "align_content": null,
            "align_items": null,
            "align_self": null,
            "border": null,
            "bottom": null,
            "display": null,
            "flex": null,
            "flex_flow": null,
            "grid_area": null,
            "grid_auto_columns": null,
            "grid_auto_flow": null,
            "grid_auto_rows": null,
            "grid_column": null,
            "grid_gap": null,
            "grid_row": null,
            "grid_template_areas": null,
            "grid_template_columns": null,
            "grid_template_rows": null,
            "height": null,
            "justify_content": null,
            "justify_items": null,
            "left": null,
            "margin": null,
            "max_height": null,
            "max_width": null,
            "min_height": null,
            "min_width": null,
            "object_fit": null,
            "object_position": null,
            "order": null,
            "overflow": null,
            "overflow_x": null,
            "overflow_y": null,
            "padding": null,
            "right": null,
            "top": null,
            "visibility": null,
            "width": null
          }
        },
        "d09c2805d6484d5c90199a4b51df9be1": {
          "model_module": "@jupyter-widgets/base",
          "model_name": "LayoutModel",
          "model_module_version": "1.2.0",
          "state": {
            "_model_module": "@jupyter-widgets/base",
            "_model_module_version": "1.2.0",
            "_model_name": "LayoutModel",
            "_view_count": null,
            "_view_module": "@jupyter-widgets/base",
            "_view_module_version": "1.2.0",
            "_view_name": "LayoutView",
            "align_content": null,
            "align_items": null,
            "align_self": null,
            "border": null,
            "bottom": null,
            "display": null,
            "flex": null,
            "flex_flow": null,
            "grid_area": null,
            "grid_auto_columns": null,
            "grid_auto_flow": null,
            "grid_auto_rows": null,
            "grid_column": null,
            "grid_gap": null,
            "grid_row": null,
            "grid_template_areas": null,
            "grid_template_columns": null,
            "grid_template_rows": null,
            "height": null,
            "justify_content": null,
            "justify_items": null,
            "left": null,
            "margin": null,
            "max_height": null,
            "max_width": null,
            "min_height": null,
            "min_width": null,
            "object_fit": null,
            "object_position": null,
            "order": null,
            "overflow": null,
            "overflow_x": null,
            "overflow_y": null,
            "padding": null,
            "right": null,
            "top": null,
            "visibility": null,
            "width": null
          }
        },
        "3025369e2bae43a5a0ffb83bd750aa23": {
          "model_module": "@jupyter-widgets/controls",
          "model_name": "DescriptionStyleModel",
          "model_module_version": "1.5.0",
          "state": {
            "_model_module": "@jupyter-widgets/controls",
            "_model_module_version": "1.5.0",
            "_model_name": "DescriptionStyleModel",
            "_view_count": null,
            "_view_module": "@jupyter-widgets/base",
            "_view_module_version": "1.2.0",
            "_view_name": "StyleView",
            "description_width": ""
          }
        },
        "ccf12bc1db8042bd89dd68bf6ff7aa81": {
          "model_module": "@jupyter-widgets/base",
          "model_name": "LayoutModel",
          "model_module_version": "1.2.0",
          "state": {
            "_model_module": "@jupyter-widgets/base",
            "_model_module_version": "1.2.0",
            "_model_name": "LayoutModel",
            "_view_count": null,
            "_view_module": "@jupyter-widgets/base",
            "_view_module_version": "1.2.0",
            "_view_name": "LayoutView",
            "align_content": null,
            "align_items": null,
            "align_self": null,
            "border": null,
            "bottom": null,
            "display": null,
            "flex": null,
            "flex_flow": null,
            "grid_area": null,
            "grid_auto_columns": null,
            "grid_auto_flow": null,
            "grid_auto_rows": null,
            "grid_column": null,
            "grid_gap": null,
            "grid_row": null,
            "grid_template_areas": null,
            "grid_template_columns": null,
            "grid_template_rows": null,
            "height": null,
            "justify_content": null,
            "justify_items": null,
            "left": null,
            "margin": null,
            "max_height": null,
            "max_width": null,
            "min_height": null,
            "min_width": null,
            "object_fit": null,
            "object_position": null,
            "order": null,
            "overflow": null,
            "overflow_x": null,
            "overflow_y": null,
            "padding": null,
            "right": null,
            "top": null,
            "visibility": null,
            "width": null
          }
        },
        "e9ecf425da3045d1a6f21795acb88ff3": {
          "model_module": "@jupyter-widgets/controls",
          "model_name": "ProgressStyleModel",
          "model_module_version": "1.5.0",
          "state": {
            "_model_module": "@jupyter-widgets/controls",
            "_model_module_version": "1.5.0",
            "_model_name": "ProgressStyleModel",
            "_view_count": null,
            "_view_module": "@jupyter-widgets/base",
            "_view_module_version": "1.2.0",
            "_view_name": "StyleView",
            "bar_color": null,
            "description_width": ""
          }
        },
        "22814da86a7743f488aee17176ef9774": {
          "model_module": "@jupyter-widgets/base",
          "model_name": "LayoutModel",
          "model_module_version": "1.2.0",
          "state": {
            "_model_module": "@jupyter-widgets/base",
            "_model_module_version": "1.2.0",
            "_model_name": "LayoutModel",
            "_view_count": null,
            "_view_module": "@jupyter-widgets/base",
            "_view_module_version": "1.2.0",
            "_view_name": "LayoutView",
            "align_content": null,
            "align_items": null,
            "align_self": null,
            "border": null,
            "bottom": null,
            "display": null,
            "flex": null,
            "flex_flow": null,
            "grid_area": null,
            "grid_auto_columns": null,
            "grid_auto_flow": null,
            "grid_auto_rows": null,
            "grid_column": null,
            "grid_gap": null,
            "grid_row": null,
            "grid_template_areas": null,
            "grid_template_columns": null,
            "grid_template_rows": null,
            "height": null,
            "justify_content": null,
            "justify_items": null,
            "left": null,
            "margin": null,
            "max_height": null,
            "max_width": null,
            "min_height": null,
            "min_width": null,
            "object_fit": null,
            "object_position": null,
            "order": null,
            "overflow": null,
            "overflow_x": null,
            "overflow_y": null,
            "padding": null,
            "right": null,
            "top": null,
            "visibility": null,
            "width": null
          }
        },
        "6ac8def140f94f13a6c6e4c6e02c4524": {
          "model_module": "@jupyter-widgets/controls",
          "model_name": "DescriptionStyleModel",
          "model_module_version": "1.5.0",
          "state": {
            "_model_module": "@jupyter-widgets/controls",
            "_model_module_version": "1.5.0",
            "_model_name": "DescriptionStyleModel",
            "_view_count": null,
            "_view_module": "@jupyter-widgets/base",
            "_view_module_version": "1.2.0",
            "_view_name": "StyleView",
            "description_width": ""
          }
        },
        "c02d72f477c94ac8b30d8aaa0147fbee": {
          "model_module": "@jupyter-widgets/controls",
          "model_name": "HBoxModel",
          "model_module_version": "1.5.0",
          "state": {
            "_dom_classes": [],
            "_model_module": "@jupyter-widgets/controls",
            "_model_module_version": "1.5.0",
            "_model_name": "HBoxModel",
            "_view_count": null,
            "_view_module": "@jupyter-widgets/controls",
            "_view_module_version": "1.5.0",
            "_view_name": "HBoxView",
            "box_style": "",
            "children": [
              "IPY_MODEL_d31a7c7386db418bb5d2010f4b62dd03",
              "IPY_MODEL_2443621ed8cf4943b6d575cbef26d0cf",
              "IPY_MODEL_8fb525fd2bd947c38ed229ded940e019"
            ],
            "layout": "IPY_MODEL_f3360efcda984ad09e013be79a3d61ea"
          }
        },
        "d31a7c7386db418bb5d2010f4b62dd03": {
          "model_module": "@jupyter-widgets/controls",
          "model_name": "HTMLModel",
          "model_module_version": "1.5.0",
          "state": {
            "_dom_classes": [],
            "_model_module": "@jupyter-widgets/controls",
            "_model_module_version": "1.5.0",
            "_model_name": "HTMLModel",
            "_view_count": null,
            "_view_module": "@jupyter-widgets/controls",
            "_view_module_version": "1.5.0",
            "_view_name": "HTMLView",
            "description": "",
            "description_tooltip": null,
            "layout": "IPY_MODEL_de352abf78f7492d9f2be037ee437a0b",
            "placeholder": "​",
            "style": "IPY_MODEL_aa0a4c2f98bf44798b77ef8237653319",
            "value": "model.safetensors: 100%"
          }
        },
        "2443621ed8cf4943b6d575cbef26d0cf": {
          "model_module": "@jupyter-widgets/controls",
          "model_name": "FloatProgressModel",
          "model_module_version": "1.5.0",
          "state": {
            "_dom_classes": [],
            "_model_module": "@jupyter-widgets/controls",
            "_model_module_version": "1.5.0",
            "_model_name": "FloatProgressModel",
            "_view_count": null,
            "_view_module": "@jupyter-widgets/controls",
            "_view_module_version": "1.5.0",
            "_view_name": "ProgressView",
            "bar_style": "success",
            "description": "",
            "description_tooltip": null,
            "layout": "IPY_MODEL_611fab9dec4947f88572d27d5fecfd22",
            "max": 440449768,
            "min": 0,
            "orientation": "horizontal",
            "style": "IPY_MODEL_30486322e6704ee1a98a7c639affe686",
            "value": 440449768
          }
        },
        "8fb525fd2bd947c38ed229ded940e019": {
          "model_module": "@jupyter-widgets/controls",
          "model_name": "HTMLModel",
          "model_module_version": "1.5.0",
          "state": {
            "_dom_classes": [],
            "_model_module": "@jupyter-widgets/controls",
            "_model_module_version": "1.5.0",
            "_model_name": "HTMLModel",
            "_view_count": null,
            "_view_module": "@jupyter-widgets/controls",
            "_view_module_version": "1.5.0",
            "_view_name": "HTMLView",
            "description": "",
            "description_tooltip": null,
            "layout": "IPY_MODEL_138dd628cdb0459d87911a033110e54b",
            "placeholder": "​",
            "style": "IPY_MODEL_e4e5fe80e5e14437ad47c7627305c038",
            "value": " 440M/440M [00:01&lt;00:00, 245MB/s]"
          }
        },
        "f3360efcda984ad09e013be79a3d61ea": {
          "model_module": "@jupyter-widgets/base",
          "model_name": "LayoutModel",
          "model_module_version": "1.2.0",
          "state": {
            "_model_module": "@jupyter-widgets/base",
            "_model_module_version": "1.2.0",
            "_model_name": "LayoutModel",
            "_view_count": null,
            "_view_module": "@jupyter-widgets/base",
            "_view_module_version": "1.2.0",
            "_view_name": "LayoutView",
            "align_content": null,
            "align_items": null,
            "align_self": null,
            "border": null,
            "bottom": null,
            "display": null,
            "flex": null,
            "flex_flow": null,
            "grid_area": null,
            "grid_auto_columns": null,
            "grid_auto_flow": null,
            "grid_auto_rows": null,
            "grid_column": null,
            "grid_gap": null,
            "grid_row": null,
            "grid_template_areas": null,
            "grid_template_columns": null,
            "grid_template_rows": null,
            "height": null,
            "justify_content": null,
            "justify_items": null,
            "left": null,
            "margin": null,
            "max_height": null,
            "max_width": null,
            "min_height": null,
            "min_width": null,
            "object_fit": null,
            "object_position": null,
            "order": null,
            "overflow": null,
            "overflow_x": null,
            "overflow_y": null,
            "padding": null,
            "right": null,
            "top": null,
            "visibility": null,
            "width": null
          }
        },
        "de352abf78f7492d9f2be037ee437a0b": {
          "model_module": "@jupyter-widgets/base",
          "model_name": "LayoutModel",
          "model_module_version": "1.2.0",
          "state": {
            "_model_module": "@jupyter-widgets/base",
            "_model_module_version": "1.2.0",
            "_model_name": "LayoutModel",
            "_view_count": null,
            "_view_module": "@jupyter-widgets/base",
            "_view_module_version": "1.2.0",
            "_view_name": "LayoutView",
            "align_content": null,
            "align_items": null,
            "align_self": null,
            "border": null,
            "bottom": null,
            "display": null,
            "flex": null,
            "flex_flow": null,
            "grid_area": null,
            "grid_auto_columns": null,
            "grid_auto_flow": null,
            "grid_auto_rows": null,
            "grid_column": null,
            "grid_gap": null,
            "grid_row": null,
            "grid_template_areas": null,
            "grid_template_columns": null,
            "grid_template_rows": null,
            "height": null,
            "justify_content": null,
            "justify_items": null,
            "left": null,
            "margin": null,
            "max_height": null,
            "max_width": null,
            "min_height": null,
            "min_width": null,
            "object_fit": null,
            "object_position": null,
            "order": null,
            "overflow": null,
            "overflow_x": null,
            "overflow_y": null,
            "padding": null,
            "right": null,
            "top": null,
            "visibility": null,
            "width": null
          }
        },
        "aa0a4c2f98bf44798b77ef8237653319": {
          "model_module": "@jupyter-widgets/controls",
          "model_name": "DescriptionStyleModel",
          "model_module_version": "1.5.0",
          "state": {
            "_model_module": "@jupyter-widgets/controls",
            "_model_module_version": "1.5.0",
            "_model_name": "DescriptionStyleModel",
            "_view_count": null,
            "_view_module": "@jupyter-widgets/base",
            "_view_module_version": "1.2.0",
            "_view_name": "StyleView",
            "description_width": ""
          }
        },
        "611fab9dec4947f88572d27d5fecfd22": {
          "model_module": "@jupyter-widgets/base",
          "model_name": "LayoutModel",
          "model_module_version": "1.2.0",
          "state": {
            "_model_module": "@jupyter-widgets/base",
            "_model_module_version": "1.2.0",
            "_model_name": "LayoutModel",
            "_view_count": null,
            "_view_module": "@jupyter-widgets/base",
            "_view_module_version": "1.2.0",
            "_view_name": "LayoutView",
            "align_content": null,
            "align_items": null,
            "align_self": null,
            "border": null,
            "bottom": null,
            "display": null,
            "flex": null,
            "flex_flow": null,
            "grid_area": null,
            "grid_auto_columns": null,
            "grid_auto_flow": null,
            "grid_auto_rows": null,
            "grid_column": null,
            "grid_gap": null,
            "grid_row": null,
            "grid_template_areas": null,
            "grid_template_columns": null,
            "grid_template_rows": null,
            "height": null,
            "justify_content": null,
            "justify_items": null,
            "left": null,
            "margin": null,
            "max_height": null,
            "max_width": null,
            "min_height": null,
            "min_width": null,
            "object_fit": null,
            "object_position": null,
            "order": null,
            "overflow": null,
            "overflow_x": null,
            "overflow_y": null,
            "padding": null,
            "right": null,
            "top": null,
            "visibility": null,
            "width": null
          }
        },
        "30486322e6704ee1a98a7c639affe686": {
          "model_module": "@jupyter-widgets/controls",
          "model_name": "ProgressStyleModel",
          "model_module_version": "1.5.0",
          "state": {
            "_model_module": "@jupyter-widgets/controls",
            "_model_module_version": "1.5.0",
            "_model_name": "ProgressStyleModel",
            "_view_count": null,
            "_view_module": "@jupyter-widgets/base",
            "_view_module_version": "1.2.0",
            "_view_name": "StyleView",
            "bar_color": null,
            "description_width": ""
          }
        },
        "138dd628cdb0459d87911a033110e54b": {
          "model_module": "@jupyter-widgets/base",
          "model_name": "LayoutModel",
          "model_module_version": "1.2.0",
          "state": {
            "_model_module": "@jupyter-widgets/base",
            "_model_module_version": "1.2.0",
            "_model_name": "LayoutModel",
            "_view_count": null,
            "_view_module": "@jupyter-widgets/base",
            "_view_module_version": "1.2.0",
            "_view_name": "LayoutView",
            "align_content": null,
            "align_items": null,
            "align_self": null,
            "border": null,
            "bottom": null,
            "display": null,
            "flex": null,
            "flex_flow": null,
            "grid_area": null,
            "grid_auto_columns": null,
            "grid_auto_flow": null,
            "grid_auto_rows": null,
            "grid_column": null,
            "grid_gap": null,
            "grid_row": null,
            "grid_template_areas": null,
            "grid_template_columns": null,
            "grid_template_rows": null,
            "height": null,
            "justify_content": null,
            "justify_items": null,
            "left": null,
            "margin": null,
            "max_height": null,
            "max_width": null,
            "min_height": null,
            "min_width": null,
            "object_fit": null,
            "object_position": null,
            "order": null,
            "overflow": null,
            "overflow_x": null,
            "overflow_y": null,
            "padding": null,
            "right": null,
            "top": null,
            "visibility": null,
            "width": null
          }
        },
        "e4e5fe80e5e14437ad47c7627305c038": {
          "model_module": "@jupyter-widgets/controls",
          "model_name": "DescriptionStyleModel",
          "model_module_version": "1.5.0",
          "state": {
            "_model_module": "@jupyter-widgets/controls",
            "_model_module_version": "1.5.0",
            "_model_name": "DescriptionStyleModel",
            "_view_count": null,
            "_view_module": "@jupyter-widgets/base",
            "_view_module_version": "1.2.0",
            "_view_name": "StyleView",
            "description_width": ""
          }
        }
      }
    }
  },
  "cells": [
    {
      "cell_type": "markdown",
      "metadata": {
        "id": "ADkUGTqixRWo"
      },
      "source": [
        "# Introduction"
      ]
    },
    {
      "cell_type": "markdown",
      "metadata": {
        "id": "RX_ZDhicpHkV"
      },
      "source": [
        "# 1. Setup"
      ]
    },
    {
      "cell_type": "markdown",
      "metadata": {
        "id": "nSU7yERLP_66"
      },
      "source": [
        "## 1.1. Using Colab GPU for Training\n"
      ]
    },
    {
      "cell_type": "markdown",
      "metadata": {
        "id": "cqG7FzRVFEIv"
      },
      "source": [
        "GPU 사용 가능 여부 확인"
      ]
    },
    {
      "cell_type": "code",
      "metadata": {
        "id": "oYsV4H8fCpZ-",
        "colab": {
          "base_uri": "https://localhost:8080/"
        },
        "outputId": "f46bd5c8-145b-4d97-e2dd-73ff415e3176"
      },
      "source": [
        "import torch\n",
        "\n",
        "if torch.cuda.is_available():\n",
        "\n",
        "    device = torch.device(\"cuda\")\n",
        "\n",
        "    print('There are %d GPU(s) available.' % torch.cuda.device_count())\n",
        "\n",
        "    print('We will use the GPU:', torch.cuda.get_device_name(0))\n",
        "\n",
        "else:\n",
        "    print('No GPU available, using the CPU instead.')\n",
        "    device = torch.device(\"cpu\")"
      ],
      "execution_count": null,
      "outputs": [
        {
          "output_type": "stream",
          "name": "stdout",
          "text": [
            "There are 1 GPU(s) available.\n",
            "We will use the GPU: Tesla T4\n"
          ]
        }
      ]
    },
    {
      "cell_type": "markdown",
      "metadata": {
        "id": "2ElsnSNUridI"
      },
      "source": [
        "## 1.2. Installing the Hugging Face Library\n"
      ]
    },
    {
      "cell_type": "markdown",
      "metadata": {
        "id": "G_N2UDLevYWn"
      },
      "source": [
        "현재 Hugging Face 라이브러리는 BERT 작업을 위한 가장 널리 사용되는 인터페이스입니다. 사전 훈련된 다양한 transformer 모델을 지원하는 것 외에도 라이브러리에는 특정 작업에 적합한 이러한 모델의 사전 구축된 수정 사항도 포함되어 있습니다. 예를 들어, 본 과제에서는 `BertForSequenceClassification`을 사용합니다.\n",
        "\n",
        "라이브러리에는 토큰 분류, 질문 답변, 다음 문장 예측 등을 위한 작업별 클래스도 포함되어 있습니다. 이러한 사전 구축된 클래스를 사용하면 목적에 맞게 BERT를 수정하는 프로세스가 단순화됩니다."
      ]
    },
    {
      "cell_type": "code",
      "metadata": {
        "id": "0NmMdkZO8R6q",
        "colab": {
          "base_uri": "https://localhost:8080/"
        },
        "outputId": "0a955e82-e88e-4655-e6d1-7de7a0c3cdb7"
      },
      "source": [
        "!pip install transformers"
      ],
      "execution_count": null,
      "outputs": [
        {
          "output_type": "stream",
          "name": "stdout",
          "text": [
            "Requirement already satisfied: transformers in /usr/local/lib/python3.11/dist-packages (4.48.2)\n",
            "Requirement already satisfied: filelock in /usr/local/lib/python3.11/dist-packages (from transformers) (3.17.0)\n",
            "Requirement already satisfied: huggingface-hub<1.0,>=0.24.0 in /usr/local/lib/python3.11/dist-packages (from transformers) (0.28.1)\n",
            "Requirement already satisfied: numpy>=1.17 in /usr/local/lib/python3.11/dist-packages (from transformers) (1.26.4)\n",
            "Requirement already satisfied: packaging>=20.0 in /usr/local/lib/python3.11/dist-packages (from transformers) (24.2)\n",
            "Requirement already satisfied: pyyaml>=5.1 in /usr/local/lib/python3.11/dist-packages (from transformers) (6.0.2)\n",
            "Requirement already satisfied: regex!=2019.12.17 in /usr/local/lib/python3.11/dist-packages (from transformers) (2024.11.6)\n",
            "Requirement already satisfied: requests in /usr/local/lib/python3.11/dist-packages (from transformers) (2.32.3)\n",
            "Requirement already satisfied: tokenizers<0.22,>=0.21 in /usr/local/lib/python3.11/dist-packages (from transformers) (0.21.0)\n",
            "Requirement already satisfied: safetensors>=0.4.1 in /usr/local/lib/python3.11/dist-packages (from transformers) (0.5.2)\n",
            "Requirement already satisfied: tqdm>=4.27 in /usr/local/lib/python3.11/dist-packages (from transformers) (4.67.1)\n",
            "Requirement already satisfied: fsspec>=2023.5.0 in /usr/local/lib/python3.11/dist-packages (from huggingface-hub<1.0,>=0.24.0->transformers) (2024.10.0)\n",
            "Requirement already satisfied: typing-extensions>=3.7.4.3 in /usr/local/lib/python3.11/dist-packages (from huggingface-hub<1.0,>=0.24.0->transformers) (4.12.2)\n",
            "Requirement already satisfied: charset-normalizer<4,>=2 in /usr/local/lib/python3.11/dist-packages (from requests->transformers) (3.4.1)\n",
            "Requirement already satisfied: idna<4,>=2.5 in /usr/local/lib/python3.11/dist-packages (from requests->transformers) (3.10)\n",
            "Requirement already satisfied: urllib3<3,>=1.21.1 in /usr/local/lib/python3.11/dist-packages (from requests->transformers) (2.3.0)\n",
            "Requirement already satisfied: certifi>=2017.4.17 in /usr/local/lib/python3.11/dist-packages (from requests->transformers) (2025.1.31)\n"
          ]
        }
      ]
    },
    {
      "cell_type": "markdown",
      "metadata": {
        "id": "guw6ZNtaswKc"
      },
      "source": [
        "# 2. Loading CoLA Dataset\n"
      ]
    },
    {
      "cell_type": "markdown",
      "metadata": {
        "id": "_9ZKxKc04Btk"
      },
      "source": [
        "단일 문장 분류에는 [CoLA(The Corpus of Linguistic Acceptability)](https://nyu-mll.github.io/CoLA/) 데이터세트를 사용하겠습니다. 문법적으로 정확하거나 틀린 것으로 표시된 문장 데이터셋입니다. 2018년 5월에 처음 공개되었으며 BERT와 같은 모델이 평가되는 \"GLUE 벤치마크\"에 포함된 테스트 중 하나입니다."
      ]
    },
    {
      "cell_type": "markdown",
      "metadata": {
        "id": "4JrUHXms16cn"
      },
      "source": [
        "## 2.1. Download & Extract"
      ]
    },
    {
      "cell_type": "markdown",
      "metadata": {
        "id": "3ZNVW6xd0T0X"
      },
      "source": [
        "`wget` 패키지로 데이터를 다운로드합니다."
      ]
    },
    {
      "cell_type": "code",
      "metadata": {
        "id": "5m6AnuFv0QXQ",
        "colab": {
          "base_uri": "https://localhost:8080/"
        },
        "outputId": "30ab8418-660e-43d5-eab3-44f1ce8e8293"
      },
      "source": [
        "!pip install wget"
      ],
      "execution_count": null,
      "outputs": [
        {
          "output_type": "stream",
          "name": "stdout",
          "text": [
            "Collecting wget\n",
            "  Downloading wget-3.2.zip (10 kB)\n",
            "  Preparing metadata (setup.py) ... \u001b[?25l\u001b[?25hdone\n",
            "Building wheels for collected packages: wget\n",
            "  Building wheel for wget (setup.py) ... \u001b[?25l\u001b[?25hdone\n",
            "  Created wheel for wget: filename=wget-3.2-py3-none-any.whl size=9656 sha256=f01370f6d369f4155e3520685d210df14b840ef78bf83d7674b8bc6ed1b1dbb8\n",
            "  Stored in directory: /root/.cache/pip/wheels/40/b3/0f/a40dbd1c6861731779f62cc4babcb234387e11d697df70ee97\n",
            "Successfully built wget\n",
            "Installing collected packages: wget\n",
            "Successfully installed wget-3.2\n"
          ]
        }
      ]
    },
    {
      "cell_type": "code",
      "metadata": {
        "id": "pMtmPMkBzrvs",
        "colab": {
          "base_uri": "https://localhost:8080/"
        },
        "outputId": "376e99d1-e286-4df8-9dbe-2422382b9cdc"
      },
      "source": [
        "import wget\n",
        "import os\n",
        "\n",
        "print('Downloading dataset...')\n",
        "\n",
        "url = 'https://nyu-mll.github.io/CoLA/cola_public_1.1.zip'\n",
        "\n",
        "if not os.path.exists('./cola_public_1.1.zip'):\n",
        "    wget.download(url, './cola_public_1.1.zip')"
      ],
      "execution_count": null,
      "outputs": [
        {
          "output_type": "stream",
          "name": "stdout",
          "text": [
            "Downloading dataset...\n"
          ]
        }
      ]
    },
    {
      "cell_type": "code",
      "metadata": {
        "id": "0Yv-tNv20dnH",
        "colab": {
          "base_uri": "https://localhost:8080/"
        },
        "outputId": "50d1e566-833e-4fab-e503-3eb7859e9971"
      },
      "source": [
        "# Unzip\n",
        "if not os.path.exists('./cola_public/'):\n",
        "    !unzip cola_public_1.1.zip"
      ],
      "execution_count": null,
      "outputs": [
        {
          "output_type": "stream",
          "name": "stdout",
          "text": [
            "Archive:  cola_public_1.1.zip\n",
            "   creating: cola_public/\n",
            "  inflating: cola_public/README      \n",
            "   creating: cola_public/tokenized/\n",
            "  inflating: cola_public/tokenized/in_domain_dev.tsv  \n",
            "  inflating: cola_public/tokenized/in_domain_train.tsv  \n",
            "  inflating: cola_public/tokenized/out_of_domain_dev.tsv  \n",
            "   creating: cola_public/raw/\n",
            "  inflating: cola_public/raw/in_domain_dev.tsv  \n",
            "  inflating: cola_public/raw/in_domain_train.tsv  \n",
            "  inflating: cola_public/raw/out_of_domain_dev.tsv  \n"
          ]
        }
      ]
    },
    {
      "cell_type": "markdown",
      "metadata": {
        "id": "oQUy9Tat2EF_"
      },
      "source": [
        "## 2.2. Parse"
      ]
    },
    {
      "cell_type": "code",
      "metadata": {
        "id": "_UkeC7SG2krJ",
        "colab": {
          "base_uri": "https://localhost:8080/",
          "height": 400
        },
        "outputId": "6a5e4b34-b35d-483c-b9ea-1d645b51551d"
      },
      "source": [
        "import pandas as pd\n",
        "\n",
        "# delimiter='\\t' : 구분자가 탭(\\t)임을 지정\n",
        "# header=None : 파일에 헤더(컬럼 이름)가 없음을 지정\n",
        "# names=['sentence_source', 'label', 'label_notes', 'sentence'] : 데이터프레임의 컬럼 이름을 지정 <- 해당 파일에는 4개의 컬럼 존재\n",
        "df = pd.read_csv(\"./cola_public/raw/in_domain_train.tsv\", delimiter='\\t', header=None, names=['sentence_source', 'label', 'label_notes', 'sentence'])\n",
        "\n",
        "print('Number of training sentences: {:,}\\n'.format(df.shape[0]))\n",
        "\n",
        "df.sample(10)"
      ],
      "execution_count": null,
      "outputs": [
        {
          "output_type": "stream",
          "name": "stdout",
          "text": [
            "Number of training sentences: 8,551\n",
            "\n"
          ]
        },
        {
          "output_type": "execute_result",
          "data": {
            "text/plain": [
              "     sentence_source  label label_notes  \\\n",
              "7983            ad03      0           *   \n",
              "602             bc01      1         NaN   \n",
              "6839            m_02      0           *   \n",
              "3828            ks08      1         NaN   \n",
              "7221           sks13      1         NaN   \n",
              "6098            c_13      0           *   \n",
              "3174            l-93      0           *   \n",
              "8164            ad03      1         NaN   \n",
              "7797            ad03      1         NaN   \n",
              "6959            m_02      0           *   \n",
              "\n",
              "                                             sentence  \n",
              "7983  What Medea wondered if was the potion was ready  \n",
              "602                    The tub leaked empty of water.  \n",
              "6839     The experts attributed Raphael this picture.  \n",
              "3828              John wiped the window with a towel.  \n",
              "7221  Henri wants the book which is on the top shelf.  \n",
              "6098                        I want Bradley that left.  \n",
              "3174                        The horse groomed itself.  \n",
              "8164                         Which goddess helped us?  \n",
              "7797        Gilgamesh may have quickly cast the spell  \n",
              "6959                   The volcano erupts on Tuesday.  "
            ],
            "text/html": [
              "\n",
              "  <div id=\"df-090b9b6b-5c74-4399-b1bc-e486f42cc7fa\" class=\"colab-df-container\">\n",
              "    <div>\n",
              "<style scoped>\n",
              "    .dataframe tbody tr th:only-of-type {\n",
              "        vertical-align: middle;\n",
              "    }\n",
              "\n",
              "    .dataframe tbody tr th {\n",
              "        vertical-align: top;\n",
              "    }\n",
              "\n",
              "    .dataframe thead th {\n",
              "        text-align: right;\n",
              "    }\n",
              "</style>\n",
              "<table border=\"1\" class=\"dataframe\">\n",
              "  <thead>\n",
              "    <tr style=\"text-align: right;\">\n",
              "      <th></th>\n",
              "      <th>sentence_source</th>\n",
              "      <th>label</th>\n",
              "      <th>label_notes</th>\n",
              "      <th>sentence</th>\n",
              "    </tr>\n",
              "  </thead>\n",
              "  <tbody>\n",
              "    <tr>\n",
              "      <th>7983</th>\n",
              "      <td>ad03</td>\n",
              "      <td>0</td>\n",
              "      <td>*</td>\n",
              "      <td>What Medea wondered if was the potion was ready</td>\n",
              "    </tr>\n",
              "    <tr>\n",
              "      <th>602</th>\n",
              "      <td>bc01</td>\n",
              "      <td>1</td>\n",
              "      <td>NaN</td>\n",
              "      <td>The tub leaked empty of water.</td>\n",
              "    </tr>\n",
              "    <tr>\n",
              "      <th>6839</th>\n",
              "      <td>m_02</td>\n",
              "      <td>0</td>\n",
              "      <td>*</td>\n",
              "      <td>The experts attributed Raphael this picture.</td>\n",
              "    </tr>\n",
              "    <tr>\n",
              "      <th>3828</th>\n",
              "      <td>ks08</td>\n",
              "      <td>1</td>\n",
              "      <td>NaN</td>\n",
              "      <td>John wiped the window with a towel.</td>\n",
              "    </tr>\n",
              "    <tr>\n",
              "      <th>7221</th>\n",
              "      <td>sks13</td>\n",
              "      <td>1</td>\n",
              "      <td>NaN</td>\n",
              "      <td>Henri wants the book which is on the top shelf.</td>\n",
              "    </tr>\n",
              "    <tr>\n",
              "      <th>6098</th>\n",
              "      <td>c_13</td>\n",
              "      <td>0</td>\n",
              "      <td>*</td>\n",
              "      <td>I want Bradley that left.</td>\n",
              "    </tr>\n",
              "    <tr>\n",
              "      <th>3174</th>\n",
              "      <td>l-93</td>\n",
              "      <td>0</td>\n",
              "      <td>*</td>\n",
              "      <td>The horse groomed itself.</td>\n",
              "    </tr>\n",
              "    <tr>\n",
              "      <th>8164</th>\n",
              "      <td>ad03</td>\n",
              "      <td>1</td>\n",
              "      <td>NaN</td>\n",
              "      <td>Which goddess helped us?</td>\n",
              "    </tr>\n",
              "    <tr>\n",
              "      <th>7797</th>\n",
              "      <td>ad03</td>\n",
              "      <td>1</td>\n",
              "      <td>NaN</td>\n",
              "      <td>Gilgamesh may have quickly cast the spell</td>\n",
              "    </tr>\n",
              "    <tr>\n",
              "      <th>6959</th>\n",
              "      <td>m_02</td>\n",
              "      <td>0</td>\n",
              "      <td>*</td>\n",
              "      <td>The volcano erupts on Tuesday.</td>\n",
              "    </tr>\n",
              "  </tbody>\n",
              "</table>\n",
              "</div>\n",
              "    <div class=\"colab-df-buttons\">\n",
              "\n",
              "  <div class=\"colab-df-container\">\n",
              "    <button class=\"colab-df-convert\" onclick=\"convertToInteractive('df-090b9b6b-5c74-4399-b1bc-e486f42cc7fa')\"\n",
              "            title=\"Convert this dataframe to an interactive table.\"\n",
              "            style=\"display:none;\">\n",
              "\n",
              "  <svg xmlns=\"http://www.w3.org/2000/svg\" height=\"24px\" viewBox=\"0 -960 960 960\">\n",
              "    <path d=\"M120-120v-720h720v720H120Zm60-500h600v-160H180v160Zm220 220h160v-160H400v160Zm0 220h160v-160H400v160ZM180-400h160v-160H180v160Zm440 0h160v-160H620v160ZM180-180h160v-160H180v160Zm440 0h160v-160H620v160Z\"/>\n",
              "  </svg>\n",
              "    </button>\n",
              "\n",
              "  <style>\n",
              "    .colab-df-container {\n",
              "      display:flex;\n",
              "      gap: 12px;\n",
              "    }\n",
              "\n",
              "    .colab-df-convert {\n",
              "      background-color: #E8F0FE;\n",
              "      border: none;\n",
              "      border-radius: 50%;\n",
              "      cursor: pointer;\n",
              "      display: none;\n",
              "      fill: #1967D2;\n",
              "      height: 32px;\n",
              "      padding: 0 0 0 0;\n",
              "      width: 32px;\n",
              "    }\n",
              "\n",
              "    .colab-df-convert:hover {\n",
              "      background-color: #E2EBFA;\n",
              "      box-shadow: 0px 1px 2px rgba(60, 64, 67, 0.3), 0px 1px 3px 1px rgba(60, 64, 67, 0.15);\n",
              "      fill: #174EA6;\n",
              "    }\n",
              "\n",
              "    .colab-df-buttons div {\n",
              "      margin-bottom: 4px;\n",
              "    }\n",
              "\n",
              "    [theme=dark] .colab-df-convert {\n",
              "      background-color: #3B4455;\n",
              "      fill: #D2E3FC;\n",
              "    }\n",
              "\n",
              "    [theme=dark] .colab-df-convert:hover {\n",
              "      background-color: #434B5C;\n",
              "      box-shadow: 0px 1px 3px 1px rgba(0, 0, 0, 0.15);\n",
              "      filter: drop-shadow(0px 1px 2px rgba(0, 0, 0, 0.3));\n",
              "      fill: #FFFFFF;\n",
              "    }\n",
              "  </style>\n",
              "\n",
              "    <script>\n",
              "      const buttonEl =\n",
              "        document.querySelector('#df-090b9b6b-5c74-4399-b1bc-e486f42cc7fa button.colab-df-convert');\n",
              "      buttonEl.style.display =\n",
              "        google.colab.kernel.accessAllowed ? 'block' : 'none';\n",
              "\n",
              "      async function convertToInteractive(key) {\n",
              "        const element = document.querySelector('#df-090b9b6b-5c74-4399-b1bc-e486f42cc7fa');\n",
              "        const dataTable =\n",
              "          await google.colab.kernel.invokeFunction('convertToInteractive',\n",
              "                                                    [key], {});\n",
              "        if (!dataTable) return;\n",
              "\n",
              "        const docLinkHtml = 'Like what you see? Visit the ' +\n",
              "          '<a target=\"_blank\" href=https://colab.research.google.com/notebooks/data_table.ipynb>data table notebook</a>'\n",
              "          + ' to learn more about interactive tables.';\n",
              "        element.innerHTML = '';\n",
              "        dataTable['output_type'] = 'display_data';\n",
              "        await google.colab.output.renderOutput(dataTable, element);\n",
              "        const docLink = document.createElement('div');\n",
              "        docLink.innerHTML = docLinkHtml;\n",
              "        element.appendChild(docLink);\n",
              "      }\n",
              "    </script>\n",
              "  </div>\n",
              "\n",
              "\n",
              "<div id=\"df-9debdd64-1549-4959-a71e-3b88f0688c29\">\n",
              "  <button class=\"colab-df-quickchart\" onclick=\"quickchart('df-9debdd64-1549-4959-a71e-3b88f0688c29')\"\n",
              "            title=\"Suggest charts\"\n",
              "            style=\"display:none;\">\n",
              "\n",
              "<svg xmlns=\"http://www.w3.org/2000/svg\" height=\"24px\"viewBox=\"0 0 24 24\"\n",
              "     width=\"24px\">\n",
              "    <g>\n",
              "        <path d=\"M19 3H5c-1.1 0-2 .9-2 2v14c0 1.1.9 2 2 2h14c1.1 0 2-.9 2-2V5c0-1.1-.9-2-2-2zM9 17H7v-7h2v7zm4 0h-2V7h2v10zm4 0h-2v-4h2v4z\"/>\n",
              "    </g>\n",
              "</svg>\n",
              "  </button>\n",
              "\n",
              "<style>\n",
              "  .colab-df-quickchart {\n",
              "      --bg-color: #E8F0FE;\n",
              "      --fill-color: #1967D2;\n",
              "      --hover-bg-color: #E2EBFA;\n",
              "      --hover-fill-color: #174EA6;\n",
              "      --disabled-fill-color: #AAA;\n",
              "      --disabled-bg-color: #DDD;\n",
              "  }\n",
              "\n",
              "  [theme=dark] .colab-df-quickchart {\n",
              "      --bg-color: #3B4455;\n",
              "      --fill-color: #D2E3FC;\n",
              "      --hover-bg-color: #434B5C;\n",
              "      --hover-fill-color: #FFFFFF;\n",
              "      --disabled-bg-color: #3B4455;\n",
              "      --disabled-fill-color: #666;\n",
              "  }\n",
              "\n",
              "  .colab-df-quickchart {\n",
              "    background-color: var(--bg-color);\n",
              "    border: none;\n",
              "    border-radius: 50%;\n",
              "    cursor: pointer;\n",
              "    display: none;\n",
              "    fill: var(--fill-color);\n",
              "    height: 32px;\n",
              "    padding: 0;\n",
              "    width: 32px;\n",
              "  }\n",
              "\n",
              "  .colab-df-quickchart:hover {\n",
              "    background-color: var(--hover-bg-color);\n",
              "    box-shadow: 0 1px 2px rgba(60, 64, 67, 0.3), 0 1px 3px 1px rgba(60, 64, 67, 0.15);\n",
              "    fill: var(--button-hover-fill-color);\n",
              "  }\n",
              "\n",
              "  .colab-df-quickchart-complete:disabled,\n",
              "  .colab-df-quickchart-complete:disabled:hover {\n",
              "    background-color: var(--disabled-bg-color);\n",
              "    fill: var(--disabled-fill-color);\n",
              "    box-shadow: none;\n",
              "  }\n",
              "\n",
              "  .colab-df-spinner {\n",
              "    border: 2px solid var(--fill-color);\n",
              "    border-color: transparent;\n",
              "    border-bottom-color: var(--fill-color);\n",
              "    animation:\n",
              "      spin 1s steps(1) infinite;\n",
              "  }\n",
              "\n",
              "  @keyframes spin {\n",
              "    0% {\n",
              "      border-color: transparent;\n",
              "      border-bottom-color: var(--fill-color);\n",
              "      border-left-color: var(--fill-color);\n",
              "    }\n",
              "    20% {\n",
              "      border-color: transparent;\n",
              "      border-left-color: var(--fill-color);\n",
              "      border-top-color: var(--fill-color);\n",
              "    }\n",
              "    30% {\n",
              "      border-color: transparent;\n",
              "      border-left-color: var(--fill-color);\n",
              "      border-top-color: var(--fill-color);\n",
              "      border-right-color: var(--fill-color);\n",
              "    }\n",
              "    40% {\n",
              "      border-color: transparent;\n",
              "      border-right-color: var(--fill-color);\n",
              "      border-top-color: var(--fill-color);\n",
              "    }\n",
              "    60% {\n",
              "      border-color: transparent;\n",
              "      border-right-color: var(--fill-color);\n",
              "    }\n",
              "    80% {\n",
              "      border-color: transparent;\n",
              "      border-right-color: var(--fill-color);\n",
              "      border-bottom-color: var(--fill-color);\n",
              "    }\n",
              "    90% {\n",
              "      border-color: transparent;\n",
              "      border-bottom-color: var(--fill-color);\n",
              "    }\n",
              "  }\n",
              "</style>\n",
              "\n",
              "  <script>\n",
              "    async function quickchart(key) {\n",
              "      const quickchartButtonEl =\n",
              "        document.querySelector('#' + key + ' button');\n",
              "      quickchartButtonEl.disabled = true;  // To prevent multiple clicks.\n",
              "      quickchartButtonEl.classList.add('colab-df-spinner');\n",
              "      try {\n",
              "        const charts = await google.colab.kernel.invokeFunction(\n",
              "            'suggestCharts', [key], {});\n",
              "      } catch (error) {\n",
              "        console.error('Error during call to suggestCharts:', error);\n",
              "      }\n",
              "      quickchartButtonEl.classList.remove('colab-df-spinner');\n",
              "      quickchartButtonEl.classList.add('colab-df-quickchart-complete');\n",
              "    }\n",
              "    (() => {\n",
              "      let quickchartButtonEl =\n",
              "        document.querySelector('#df-9debdd64-1549-4959-a71e-3b88f0688c29 button');\n",
              "      quickchartButtonEl.style.display =\n",
              "        google.colab.kernel.accessAllowed ? 'block' : 'none';\n",
              "    })();\n",
              "  </script>\n",
              "</div>\n",
              "\n",
              "    </div>\n",
              "  </div>\n"
            ],
            "application/vnd.google.colaboratory.intrinsic+json": {
              "type": "dataframe",
              "summary": "{\n  \"name\": \"df\",\n  \"rows\": 10,\n  \"fields\": [\n    {\n      \"column\": \"sentence_source\",\n      \"properties\": {\n        \"dtype\": \"string\",\n        \"num_unique_values\": 7,\n        \"samples\": [\n          \"ad03\",\n          \"bc01\",\n          \"c_13\"\n        ],\n        \"semantic_type\": \"\",\n        \"description\": \"\"\n      }\n    },\n    {\n      \"column\": \"label\",\n      \"properties\": {\n        \"dtype\": \"number\",\n        \"std\": 0,\n        \"min\": 0,\n        \"max\": 1,\n        \"num_unique_values\": 2,\n        \"samples\": [\n          1,\n          0\n        ],\n        \"semantic_type\": \"\",\n        \"description\": \"\"\n      }\n    },\n    {\n      \"column\": \"label_notes\",\n      \"properties\": {\n        \"dtype\": \"category\",\n        \"num_unique_values\": 1,\n        \"samples\": [\n          \"*\"\n        ],\n        \"semantic_type\": \"\",\n        \"description\": \"\"\n      }\n    },\n    {\n      \"column\": \"sentence\",\n      \"properties\": {\n        \"dtype\": \"string\",\n        \"num_unique_values\": 10,\n        \"samples\": [\n          \"Gilgamesh may have quickly cast the spell\"\n        ],\n        \"semantic_type\": \"\",\n        \"description\": \"\"\n      }\n    }\n  ]\n}"
            }
          },
          "metadata": {},
          "execution_count": 6
        }
      ]
    },
    {
      "cell_type": "markdown",
      "metadata": {
        "id": "kfWzpPi92UAH"
      },
      "source": [
        "`sentence` 와 `label`\b만 남기겠습니다."
      ]
    },
    {
      "cell_type": "code",
      "metadata": {
        "id": "blqIvQaQncdJ",
        "colab": {
          "base_uri": "https://localhost:8080/",
          "height": 206
        },
        "outputId": "abf9a63e-3c05-4f0f-e151-081cca018a3c"
      },
      "source": [
        "# df 데이터프레임에서 label 컬럼의 값이 0인 행들만 필터링 -> sentence와 label 두 개의 컬럼만 선택\n",
        "# 라벨이 0인 경우: 비문법적(grammatically incorrect)인 문장\n",
        "df.loc[df.label == 0].sample(5)[['sentence', 'label']]"
      ],
      "execution_count": null,
      "outputs": [
        {
          "output_type": "execute_result",
          "data": {
            "text/plain": [
              "                                      sentence  label\n",
              "8439         Readings Shakespeare satisfied me      0\n",
              "6932  What happened was they knew his parents.      0\n",
              "4011       John made Mary to cook Korean food.      0\n",
              "4722         Six inches were grown by the boy.      0\n",
              "525      The box gradually contained the ball.      0"
            ],
            "text/html": [
              "\n",
              "  <div id=\"df-8e7c6229-2d3d-4ddf-ba6b-62817c2780b4\" class=\"colab-df-container\">\n",
              "    <div>\n",
              "<style scoped>\n",
              "    .dataframe tbody tr th:only-of-type {\n",
              "        vertical-align: middle;\n",
              "    }\n",
              "\n",
              "    .dataframe tbody tr th {\n",
              "        vertical-align: top;\n",
              "    }\n",
              "\n",
              "    .dataframe thead th {\n",
              "        text-align: right;\n",
              "    }\n",
              "</style>\n",
              "<table border=\"1\" class=\"dataframe\">\n",
              "  <thead>\n",
              "    <tr style=\"text-align: right;\">\n",
              "      <th></th>\n",
              "      <th>sentence</th>\n",
              "      <th>label</th>\n",
              "    </tr>\n",
              "  </thead>\n",
              "  <tbody>\n",
              "    <tr>\n",
              "      <th>8439</th>\n",
              "      <td>Readings Shakespeare satisfied me</td>\n",
              "      <td>0</td>\n",
              "    </tr>\n",
              "    <tr>\n",
              "      <th>6932</th>\n",
              "      <td>What happened was they knew his parents.</td>\n",
              "      <td>0</td>\n",
              "    </tr>\n",
              "    <tr>\n",
              "      <th>4011</th>\n",
              "      <td>John made Mary to cook Korean food.</td>\n",
              "      <td>0</td>\n",
              "    </tr>\n",
              "    <tr>\n",
              "      <th>4722</th>\n",
              "      <td>Six inches were grown by the boy.</td>\n",
              "      <td>0</td>\n",
              "    </tr>\n",
              "    <tr>\n",
              "      <th>525</th>\n",
              "      <td>The box gradually contained the ball.</td>\n",
              "      <td>0</td>\n",
              "    </tr>\n",
              "  </tbody>\n",
              "</table>\n",
              "</div>\n",
              "    <div class=\"colab-df-buttons\">\n",
              "\n",
              "  <div class=\"colab-df-container\">\n",
              "    <button class=\"colab-df-convert\" onclick=\"convertToInteractive('df-8e7c6229-2d3d-4ddf-ba6b-62817c2780b4')\"\n",
              "            title=\"Convert this dataframe to an interactive table.\"\n",
              "            style=\"display:none;\">\n",
              "\n",
              "  <svg xmlns=\"http://www.w3.org/2000/svg\" height=\"24px\" viewBox=\"0 -960 960 960\">\n",
              "    <path d=\"M120-120v-720h720v720H120Zm60-500h600v-160H180v160Zm220 220h160v-160H400v160Zm0 220h160v-160H400v160ZM180-400h160v-160H180v160Zm440 0h160v-160H620v160ZM180-180h160v-160H180v160Zm440 0h160v-160H620v160Z\"/>\n",
              "  </svg>\n",
              "    </button>\n",
              "\n",
              "  <style>\n",
              "    .colab-df-container {\n",
              "      display:flex;\n",
              "      gap: 12px;\n",
              "    }\n",
              "\n",
              "    .colab-df-convert {\n",
              "      background-color: #E8F0FE;\n",
              "      border: none;\n",
              "      border-radius: 50%;\n",
              "      cursor: pointer;\n",
              "      display: none;\n",
              "      fill: #1967D2;\n",
              "      height: 32px;\n",
              "      padding: 0 0 0 0;\n",
              "      width: 32px;\n",
              "    }\n",
              "\n",
              "    .colab-df-convert:hover {\n",
              "      background-color: #E2EBFA;\n",
              "      box-shadow: 0px 1px 2px rgba(60, 64, 67, 0.3), 0px 1px 3px 1px rgba(60, 64, 67, 0.15);\n",
              "      fill: #174EA6;\n",
              "    }\n",
              "\n",
              "    .colab-df-buttons div {\n",
              "      margin-bottom: 4px;\n",
              "    }\n",
              "\n",
              "    [theme=dark] .colab-df-convert {\n",
              "      background-color: #3B4455;\n",
              "      fill: #D2E3FC;\n",
              "    }\n",
              "\n",
              "    [theme=dark] .colab-df-convert:hover {\n",
              "      background-color: #434B5C;\n",
              "      box-shadow: 0px 1px 3px 1px rgba(0, 0, 0, 0.15);\n",
              "      filter: drop-shadow(0px 1px 2px rgba(0, 0, 0, 0.3));\n",
              "      fill: #FFFFFF;\n",
              "    }\n",
              "  </style>\n",
              "\n",
              "    <script>\n",
              "      const buttonEl =\n",
              "        document.querySelector('#df-8e7c6229-2d3d-4ddf-ba6b-62817c2780b4 button.colab-df-convert');\n",
              "      buttonEl.style.display =\n",
              "        google.colab.kernel.accessAllowed ? 'block' : 'none';\n",
              "\n",
              "      async function convertToInteractive(key) {\n",
              "        const element = document.querySelector('#df-8e7c6229-2d3d-4ddf-ba6b-62817c2780b4');\n",
              "        const dataTable =\n",
              "          await google.colab.kernel.invokeFunction('convertToInteractive',\n",
              "                                                    [key], {});\n",
              "        if (!dataTable) return;\n",
              "\n",
              "        const docLinkHtml = 'Like what you see? Visit the ' +\n",
              "          '<a target=\"_blank\" href=https://colab.research.google.com/notebooks/data_table.ipynb>data table notebook</a>'\n",
              "          + ' to learn more about interactive tables.';\n",
              "        element.innerHTML = '';\n",
              "        dataTable['output_type'] = 'display_data';\n",
              "        await google.colab.output.renderOutput(dataTable, element);\n",
              "        const docLink = document.createElement('div');\n",
              "        docLink.innerHTML = docLinkHtml;\n",
              "        element.appendChild(docLink);\n",
              "      }\n",
              "    </script>\n",
              "  </div>\n",
              "\n",
              "\n",
              "<div id=\"df-a34dba1d-1887-44f1-b4d0-2ecce55ddaa2\">\n",
              "  <button class=\"colab-df-quickchart\" onclick=\"quickchart('df-a34dba1d-1887-44f1-b4d0-2ecce55ddaa2')\"\n",
              "            title=\"Suggest charts\"\n",
              "            style=\"display:none;\">\n",
              "\n",
              "<svg xmlns=\"http://www.w3.org/2000/svg\" height=\"24px\"viewBox=\"0 0 24 24\"\n",
              "     width=\"24px\">\n",
              "    <g>\n",
              "        <path d=\"M19 3H5c-1.1 0-2 .9-2 2v14c0 1.1.9 2 2 2h14c1.1 0 2-.9 2-2V5c0-1.1-.9-2-2-2zM9 17H7v-7h2v7zm4 0h-2V7h2v10zm4 0h-2v-4h2v4z\"/>\n",
              "    </g>\n",
              "</svg>\n",
              "  </button>\n",
              "\n",
              "<style>\n",
              "  .colab-df-quickchart {\n",
              "      --bg-color: #E8F0FE;\n",
              "      --fill-color: #1967D2;\n",
              "      --hover-bg-color: #E2EBFA;\n",
              "      --hover-fill-color: #174EA6;\n",
              "      --disabled-fill-color: #AAA;\n",
              "      --disabled-bg-color: #DDD;\n",
              "  }\n",
              "\n",
              "  [theme=dark] .colab-df-quickchart {\n",
              "      --bg-color: #3B4455;\n",
              "      --fill-color: #D2E3FC;\n",
              "      --hover-bg-color: #434B5C;\n",
              "      --hover-fill-color: #FFFFFF;\n",
              "      --disabled-bg-color: #3B4455;\n",
              "      --disabled-fill-color: #666;\n",
              "  }\n",
              "\n",
              "  .colab-df-quickchart {\n",
              "    background-color: var(--bg-color);\n",
              "    border: none;\n",
              "    border-radius: 50%;\n",
              "    cursor: pointer;\n",
              "    display: none;\n",
              "    fill: var(--fill-color);\n",
              "    height: 32px;\n",
              "    padding: 0;\n",
              "    width: 32px;\n",
              "  }\n",
              "\n",
              "  .colab-df-quickchart:hover {\n",
              "    background-color: var(--hover-bg-color);\n",
              "    box-shadow: 0 1px 2px rgba(60, 64, 67, 0.3), 0 1px 3px 1px rgba(60, 64, 67, 0.15);\n",
              "    fill: var(--button-hover-fill-color);\n",
              "  }\n",
              "\n",
              "  .colab-df-quickchart-complete:disabled,\n",
              "  .colab-df-quickchart-complete:disabled:hover {\n",
              "    background-color: var(--disabled-bg-color);\n",
              "    fill: var(--disabled-fill-color);\n",
              "    box-shadow: none;\n",
              "  }\n",
              "\n",
              "  .colab-df-spinner {\n",
              "    border: 2px solid var(--fill-color);\n",
              "    border-color: transparent;\n",
              "    border-bottom-color: var(--fill-color);\n",
              "    animation:\n",
              "      spin 1s steps(1) infinite;\n",
              "  }\n",
              "\n",
              "  @keyframes spin {\n",
              "    0% {\n",
              "      border-color: transparent;\n",
              "      border-bottom-color: var(--fill-color);\n",
              "      border-left-color: var(--fill-color);\n",
              "    }\n",
              "    20% {\n",
              "      border-color: transparent;\n",
              "      border-left-color: var(--fill-color);\n",
              "      border-top-color: var(--fill-color);\n",
              "    }\n",
              "    30% {\n",
              "      border-color: transparent;\n",
              "      border-left-color: var(--fill-color);\n",
              "      border-top-color: var(--fill-color);\n",
              "      border-right-color: var(--fill-color);\n",
              "    }\n",
              "    40% {\n",
              "      border-color: transparent;\n",
              "      border-right-color: var(--fill-color);\n",
              "      border-top-color: var(--fill-color);\n",
              "    }\n",
              "    60% {\n",
              "      border-color: transparent;\n",
              "      border-right-color: var(--fill-color);\n",
              "    }\n",
              "    80% {\n",
              "      border-color: transparent;\n",
              "      border-right-color: var(--fill-color);\n",
              "      border-bottom-color: var(--fill-color);\n",
              "    }\n",
              "    90% {\n",
              "      border-color: transparent;\n",
              "      border-bottom-color: var(--fill-color);\n",
              "    }\n",
              "  }\n",
              "</style>\n",
              "\n",
              "  <script>\n",
              "    async function quickchart(key) {\n",
              "      const quickchartButtonEl =\n",
              "        document.querySelector('#' + key + ' button');\n",
              "      quickchartButtonEl.disabled = true;  // To prevent multiple clicks.\n",
              "      quickchartButtonEl.classList.add('colab-df-spinner');\n",
              "      try {\n",
              "        const charts = await google.colab.kernel.invokeFunction(\n",
              "            'suggestCharts', [key], {});\n",
              "      } catch (error) {\n",
              "        console.error('Error during call to suggestCharts:', error);\n",
              "      }\n",
              "      quickchartButtonEl.classList.remove('colab-df-spinner');\n",
              "      quickchartButtonEl.classList.add('colab-df-quickchart-complete');\n",
              "    }\n",
              "    (() => {\n",
              "      let quickchartButtonEl =\n",
              "        document.querySelector('#df-a34dba1d-1887-44f1-b4d0-2ecce55ddaa2 button');\n",
              "      quickchartButtonEl.style.display =\n",
              "        google.colab.kernel.accessAllowed ? 'block' : 'none';\n",
              "    })();\n",
              "  </script>\n",
              "</div>\n",
              "\n",
              "    </div>\n",
              "  </div>\n"
            ],
            "application/vnd.google.colaboratory.intrinsic+json": {
              "type": "dataframe",
              "summary": "{\n  \"name\": \"df\",\n  \"rows\": 5,\n  \"fields\": [\n    {\n      \"column\": \"sentence\",\n      \"properties\": {\n        \"dtype\": \"string\",\n        \"num_unique_values\": 5,\n        \"samples\": [\n          \"What happened was they knew his parents.\",\n          \"The box gradually contained the ball.\",\n          \"John made Mary to cook Korean food.\"\n        ],\n        \"semantic_type\": \"\",\n        \"description\": \"\"\n      }\n    },\n    {\n      \"column\": \"label\",\n      \"properties\": {\n        \"dtype\": \"number\",\n        \"std\": 0,\n        \"min\": 0,\n        \"max\": 0,\n        \"num_unique_values\": 1,\n        \"samples\": [\n          0\n        ],\n        \"semantic_type\": \"\",\n        \"description\": \"\"\n      }\n    }\n  ]\n}"
            }
          },
          "metadata": {},
          "execution_count": 7
        }
      ]
    },
    {
      "cell_type": "code",
      "metadata": {
        "id": "GuE5BqICAne2"
      },
      "source": [
        "sentences = df.sentence.values\n",
        "labels = df.label.values"
      ],
      "execution_count": null,
      "outputs": []
    },
    {
      "cell_type": "markdown",
      "metadata": {
        "id": "ex5O1eV-Pfct"
      },
      "source": [
        "# 3. Tokenization & Input Formatting\n",
        "\n",
        "이 섹션에서는 데이터 세트를 BERT가 학습할 수 있는 형식으로 변환합니다."
      ]
    },
    {
      "cell_type": "markdown",
      "metadata": {
        "id": "-8kEDRvShcU5"
      },
      "source": [
        "## 3.1. BERT Tokenizer"
      ]
    },
    {
      "cell_type": "markdown",
      "metadata": {
        "id": "bWOPOyWghJp2"
      },
      "source": [
        "텍스트를 BERT에 공급하려면 텍스트를 토큰으로 분할한 다음 이러한 토큰을 토크나이저 어휘의 인덱스에 매핑해야 합니다.\n",
        "\n",
        "토큰화는 BERT에 포함된 토크나이저에 의해 수행되어야 합니다."
      ]
    },
    {
      "cell_type": "code",
      "metadata": {
        "id": "Z474sSC6oe7A",
        "colab": {
          "base_uri": "https://localhost:8080/",
          "height": 294,
          "referenced_widgets": [
            "e66dfe1a7cc840b6a916c3f4edac7a5a",
            "67fb10f882bc4fb1ab1f5e22bd58ebc6",
            "cb5280c6762a4a94a8d09178de1b1cbd",
            "ddc16631d6fe41bbb14a62e19bce3e16",
            "b227f69f31a24bcc97391a57c10404ab",
            "03abb3f760b341dc9105cceead28121e",
            "6c19a5753b2049259426a0c3ac7e525b",
            "7bb22ee211af4cc4a33b417d8947d33c",
            "ec252044a331404ca43d64027641c432",
            "2f313bf31bda48d1b835935e773d5f33",
            "a7e7d1a46124433f8849de4618edf22e",
            "8c65e246c2a94ef58f95d260a7e38126",
            "f135dfe99dd440e389a927b498301c6d",
            "15d8e9ef2f084350ba18693051347a23",
            "5c26c2a54eae46049254989da7cb24d8",
            "ca8b6e97e94e4e418aac18929fcc1f9b",
            "d2c6fec0e6d14256a6d13f2925a57fc7",
            "678509ca021344f394c4e0f282f7364e",
            "f7b42a7e99574643b5df1c980ddefcb2",
            "b22584ede2d34a78ae957d9120e0b876",
            "531bdd6b5d7e4117a6ebf34652a78dfc",
            "0bc74023582e481191bff77b22d37da3",
            "bbd195c1c2f94a5682875b95a7c8d48a",
            "ef7c3f5b0a874f64a4ae7a11d549b410",
            "9b04d310ada24da482ed0e315c28c78e",
            "2199e3a7590044b796f58d5f7ebc57bf",
            "a83df2fdc55d4be8a123a89597f7cb99",
            "fd1c2cb0abbc4c95814791138dbceee9",
            "e5f2df2881514300bd3a85deb156bba4",
            "70ce68d9a62e4cde8e96a2d62bfddd95",
            "dca456f0ffb14f05a68f3b6db232798c",
            "e7618dfcd20443898c8b1d310957b072",
            "5adec058dfc44d61b15b4e7a53d64e9a",
            "a5ebb85e3bb243edbbe1814254a7e849",
            "c3efc0d78a6b411c9b83a5d7a3329071",
            "49b768854550460d890aa975db45c1b1",
            "0f0cc348362a4395b1d906c12208ba0c",
            "81738654730444818ec2ecf3df8d29a6",
            "d09c2805d6484d5c90199a4b51df9be1",
            "3025369e2bae43a5a0ffb83bd750aa23",
            "ccf12bc1db8042bd89dd68bf6ff7aa81",
            "e9ecf425da3045d1a6f21795acb88ff3",
            "22814da86a7743f488aee17176ef9774",
            "6ac8def140f94f13a6c6e4c6e02c4524"
          ]
        },
        "outputId": "6c64decb-9b9f-4fc7-f97f-2f25214a4f71"
      },
      "source": [
        "from transformers import BertTokenizer\n",
        "\n",
        "print('Loading BERT tokenizer...')\n",
        "\n",
        "# 'bert-base-uncased'라는 미리 학습된 BERT 모델의 토크나이저를 로드. uncased는 대소문자를 구분하지 않도록 설정된 모델\n",
        "# do_lower_case=True : 입력 텍스트를 모두 소문자로 변환하도록 설정\n",
        "tokenizer = BertTokenizer.from_pretrained('bert-base-uncased', do_lower_case=True)"
      ],
      "execution_count": null,
      "outputs": [
        {
          "output_type": "stream",
          "name": "stdout",
          "text": [
            "Loading BERT tokenizer...\n"
          ]
        },
        {
          "output_type": "stream",
          "name": "stderr",
          "text": [
            "/usr/local/lib/python3.11/dist-packages/huggingface_hub/utils/_auth.py:94: UserWarning: \n",
            "The secret `HF_TOKEN` does not exist in your Colab secrets.\n",
            "To authenticate with the Hugging Face Hub, create a token in your settings tab (https://huggingface.co/settings/tokens), set it as secret in your Google Colab and restart your session.\n",
            "You will be able to reuse this secret in all of your notebooks.\n",
            "Please note that authentication is recommended but still optional to access public models or datasets.\n",
            "  warnings.warn(\n"
          ]
        },
        {
          "output_type": "display_data",
          "data": {
            "text/plain": [
              "tokenizer_config.json:   0%|          | 0.00/48.0 [00:00<?, ?B/s]"
            ],
            "application/vnd.jupyter.widget-view+json": {
              "version_major": 2,
              "version_minor": 0,
              "model_id": "e66dfe1a7cc840b6a916c3f4edac7a5a"
            }
          },
          "metadata": {}
        },
        {
          "output_type": "display_data",
          "data": {
            "text/plain": [
              "vocab.txt:   0%|          | 0.00/232k [00:00<?, ?B/s]"
            ],
            "application/vnd.jupyter.widget-view+json": {
              "version_major": 2,
              "version_minor": 0,
              "model_id": "8c65e246c2a94ef58f95d260a7e38126"
            }
          },
          "metadata": {}
        },
        {
          "output_type": "display_data",
          "data": {
            "text/plain": [
              "tokenizer.json:   0%|          | 0.00/466k [00:00<?, ?B/s]"
            ],
            "application/vnd.jupyter.widget-view+json": {
              "version_major": 2,
              "version_minor": 0,
              "model_id": "bbd195c1c2f94a5682875b95a7c8d48a"
            }
          },
          "metadata": {}
        },
        {
          "output_type": "display_data",
          "data": {
            "text/plain": [
              "config.json:   0%|          | 0.00/570 [00:00<?, ?B/s]"
            ],
            "application/vnd.jupyter.widget-view+json": {
              "version_major": 2,
              "version_minor": 0,
              "model_id": "a5ebb85e3bb243edbbe1814254a7e849"
            }
          },
          "metadata": {}
        }
      ]
    },
    {
      "cell_type": "code",
      "metadata": {
        "id": "dLIbudgfh6F0",
        "colab": {
          "base_uri": "https://localhost:8080/"
        },
        "outputId": "ad28281a-16a9-47f4-f1dc-6fd9c352d0c2"
      },
      "source": [
        "# Print the original sentence.\n",
        "print(' Original: ', sentences[0])\n",
        "\n",
        "# Print the sentence split into tokens. / BERT 토크나이저로 토큰화한 결과 출력\n",
        "print('Tokenized: ', tokenizer.tokenize(sentences[0]))\n",
        "\n",
        "# Print the sentence mapped to token ids. / 각 토큰을 BERT 모델이 이해할 수 있는 고유한 토큰 ID로 변환하여 출력. 이때, BERT 모델은 토큰을 ID로 매핑하여 처리\n",
        "print('Token IDs: ', tokenizer.convert_tokens_to_ids(tokenizer.tokenize(sentences[0])))"
      ],
      "execution_count": null,
      "outputs": [
        {
          "output_type": "stream",
          "name": "stdout",
          "text": [
            " Original:  Our friends won't buy this analysis, let alone the next one we propose.\n",
            "Tokenized:  ['our', 'friends', 'won', \"'\", 't', 'buy', 'this', 'analysis', ',', 'let', 'alone', 'the', 'next', 'one', 'we', 'propose', '.']\n",
            "Token IDs:  [2256, 2814, 2180, 1005, 1056, 4965, 2023, 4106, 1010, 2292, 2894, 1996, 2279, 2028, 2057, 16599, 1012]\n"
          ]
        }
      ]
    },
    {
      "cell_type": "markdown",
      "metadata": {
        "id": "WeNIc4auFUdF"
      },
      "source": [
        "실제로 모든 문장을 변환할 때 `tokenize`와 `convert_tokens_to_ids`를 별도로 호출하는 대신 `tokenize.encode` 함수를 사용하여 두 단계를 모두 처리합니다.\n",
        "\n",
        "하지만 그렇게 하기 전에 BERT의 형식 요구 사항 중 일부에 대해 살펴보겠습니다다."
      ]
    },
    {
      "cell_type": "markdown",
      "metadata": {
        "id": "viKGCCh8izww"
      },
      "source": [
        "## 3.2. Required Formatting"
      ]
    },
    {
      "cell_type": "markdown",
      "metadata": {
        "id": "yDcqNlvVhL5W"
      },
      "source": [
        "위의 코드에는 여기서 살펴볼 몇 가지 필수 형식 지정 단계가 생략되었습니다.\n",
        "\n",
        "\n",
        "우리는 다음을 수행해야 합니다.\n",
        "1. 각 문장의 시작과 끝 부분에 특수 토큰을 추가.\n",
        "2. 모든 문장을 하나의 일정한 길이로 채우고 자릅니다.\n",
        "3. \"attention mask\"를 사용하여 실제 토큰과 패딩 토큰을 명시적으로 구별합니다."
      ]
    },
    {
      "cell_type": "markdown",
      "metadata": {
        "id": "V6mceWWOjZnw"
      },
      "source": [
        "### Special Tokens\n"
      ]
    },
    {
      "cell_type": "markdown",
      "metadata": {
        "id": "Ykk0P9JiKtVe"
      },
      "source": [
        "**`[SEP]`**\n",
        "\n",
        "모든 문장 끝에 특수 `[SEP]` 토큰을 추가해야 합니다.\n",
        "\n",
        "이 토큰은 BERT에 두 개의 별도 문장이 제공됨을 알립니다."
      ]
    },
    {
      "cell_type": "markdown",
      "source": [
        "![image.png](data:image/png;base64,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)"
      ],
      "metadata": {
        "id": "R33Yt51LR5zI"
      }
    },
    {
      "cell_type": "markdown",
      "metadata": {
        "id": "86C9objaKu8f"
      },
      "source": [
        "**`[CLS]`**\n",
        "\n",
        "분류 작업을 위해서는 모든 문장의 시작 부분에 특수 `[CLS]` 토큰을 추가해야 합니다.\n",
        "\n",
        "이 토큰은 특별한 의미를 갖습니다. BERT는 12개의 Transformer 레이어로 구성됩니다. 각 transformer는 토큰 임베딩 목록을 가져와 출력에 동일한 수의 임베딩을 생성합니다.\n",
        "\n",
        "![Illustration of CLS token purpose](http://www.mccormickml.com/assets/BERT/CLS_token_500x606.png)\n",
        "\n",
        "최종(12번째) transformer의 출력에서 *classifier는 *첫 번째 임베딩([CLS] 토큰에 해당)만 사용합니다*.\n",
        "\n",
        "또한 BERT는 분류를 위해 이 [CLS] 토큰만 사용하도록 훈련되었기 때문에 모델이 분류 단계에 필요한 모든 것을 단일 768 값 임베딩 벡터로 인코딩하도록 되었습니다.\n",
        "\n"
      ]
    },
    {
      "cell_type": "markdown",
      "metadata": {
        "id": "u51v0kFxeteu"
      },
      "source": [
        "### Sentence Length & Attention Mask\n",
        "\n"
      ]
    },
    {
      "cell_type": "markdown",
      "metadata": {
        "id": "qPNuwqZVK3T6"
      },
      "source": [
        "BERT에는 두 가지 제약 조건이 있습니다.\n",
        "1. 모든 문장은 고정된 단일 길이로 채워지거나 잘려야 합니다.\n",
        "2. 최대 문장 길이는 512 토큰입니다.\n",
        "\n",
        "패딩은 BERT 어휘의 인덱스 0에 있는 특수 `[PAD]` 토큰을 사용하여 수행됩니다. 아래 그림은 8개 토큰의 \"MAX_LEN\"에 대한 패딩을 보여줍니다.\n",
        "\n",
        "<img src=\"http://www.mccormickml.com/assets/BERT/padding_and_mask.png\" width=\"600\">\n",
        "\n",
        "\"attention mask\"는 단순히 패딩되는 토큰과 패딩되지 않는 토큰을 나타내는 1과 0의 배열입니다.\n"
      ]
    },
    {
      "cell_type": "markdown",
      "source": [
        "![image.png](data:image/png;base64,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)"
      ],
      "metadata": {
        "id": "P7ZYqvE3Xd5m"
      }
    },
    {
      "cell_type": "markdown",
      "metadata": {
        "id": "l6w8elb-58GJ"
      },
      "source": [
        "## 3.2. Sentences to IDs"
      ]
    },
    {
      "cell_type": "markdown",
      "metadata": {
        "id": "1M296yz577fV"
      },
      "source": [
        "`tokenizer.encode` 함수는 여러 단계를 결합합니다:\n",
        "1. 문장을 토큰으로 나눕니다.\n",
        "2. 특수 `[CLS]` 및 `[SEP]` 토큰을 추가합니다.\n",
        "3. 토큰을 해당 ID에 매핑합니다.\n"
      ]
    },
    {
      "cell_type": "code",
      "metadata": {
        "id": "2bBdb3pt8LuQ",
        "colab": {
          "base_uri": "https://localhost:8080/"
        },
        "outputId": "f7e6f16a-0142-4095-d299-71d82f522cbf"
      },
      "source": [
        "# Tokenize all of the sentences and map the tokens to thier word IDs. / 문장을 토큰화하고 해당 토큰을 고유한 ID로 변환\n",
        "input_ids = []\n",
        "\n",
        "# For every sentence...\n",
        "for sent in sentences:\n",
        "    # `encode` will:\n",
        "    #   (1) Tokenize the sentence.\n",
        "    #   (2) Prepend the `[CLS]` token to the start.\n",
        "    #   (3) Append the `[SEP]` token to the end.\n",
        "    #   (4) Map tokens to their IDs.\n",
        "    encoded_sent = tokenizer.encode(\n",
        "                        sent,                      # Sentence to encode.\n",
        "                        add_special_tokens = True, # Add '[CLS]' and '[SEP]'\n",
        "\n",
        "                        # This function also supports truncation and conversion\n",
        "                        # to pytorch tensors, but we need to do padding, so we\n",
        "                        # can't use these features :( .\n",
        "                        #max_length = 128,          # Truncate all sentences.\n",
        "                        #return_tensors = 'pt',     # Return pytorch tensors.\n",
        "                   )\n",
        "\n",
        "    # Add the encoded sentence to the list.\n",
        "    input_ids.append(encoded_sent)\n",
        "\n",
        "# Print sentence 0, now as a list of IDs.\n",
        "print('Original: ', sentences[0])\n",
        "print('Token IDs:', input_ids[0])"
      ],
      "execution_count": null,
      "outputs": [
        {
          "output_type": "stream",
          "name": "stdout",
          "text": [
            "Original:  Our friends won't buy this analysis, let alone the next one we propose.\n",
            "Token IDs: [101, 2256, 2814, 2180, 1005, 1056, 4965, 2023, 4106, 1010, 2292, 2894, 1996, 2279, 2028, 2057, 16599, 1012, 102]\n"
          ]
        }
      ]
    },
    {
      "cell_type": "markdown",
      "source": [
        "![image.png](data:image/png;base64,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)"
      ],
      "metadata": {
        "id": "USs1vJ5sSII1"
      }
    },
    {
      "cell_type": "markdown",
      "source": [
        "MLM 학습 시 사용되는 [MASK] 토큰 -> MLM 이란?"
      ],
      "metadata": {
        "id": "HqJCpiXMSZIA"
      }
    },
    {
      "cell_type": "markdown",
      "source": [
        "![image.png](data:image/png;base64,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)"
      ],
      "metadata": {
        "id": "WPI9EzJYSWCm"
      }
    },
    {
      "cell_type": "markdown",
      "metadata": {
        "id": "WhwCKszh6ych"
      },
      "source": [
        "## 3.3. Padding & Truncating"
      ]
    },
    {
      "cell_type": "markdown",
      "metadata": {
        "id": "xytsw1oIfnX0"
      },
      "source": [
        "시퀀스를 모두 채우고 잘라서 길이가 모두 'MAX_LEN'이 되도록 합니다."
      ]
    },
    {
      "cell_type": "markdown",
      "metadata": {
        "id": "zqiWTDrn_nGB"
      },
      "source": [
        "First, what's the maximum sentence length in our dataset?"
      ]
    },
    {
      "cell_type": "code",
      "metadata": {
        "id": "JhUZO9vc_l6T",
        "colab": {
          "base_uri": "https://localhost:8080/"
        },
        "outputId": "d0101db0-e9c5-4c01-bc32-5f16e3a7ca8a"
      },
      "source": [
        "# input_ids에서 가장 긴 문장의 토큰 개수를 찾아 출력하는 코드\n",
        "print('Max sentence length: ', max([len(sen) for sen in input_ids]))"
      ],
      "execution_count": null,
      "outputs": [
        {
          "output_type": "stream",
          "name": "stdout",
          "text": [
            "Max sentence length:  47\n"
          ]
        }
      ]
    },
    {
      "cell_type": "code",
      "metadata": {
        "id": "Cp9BPRd1tMIo",
        "colab": {
          "base_uri": "https://localhost:8080/"
        },
        "outputId": "52977e75-5d7d-4b0e-c1fe-e79c090062f1"
      },
      "source": [
        "# We'll borrow the `pad_sequences` utility function to do this.\n",
        "from keras.preprocessing.sequence import pad_sequences\n",
        "\n",
        "# Set the maximum sequence length.\n",
        "# I've chosen 64 somewhat arbitrarily. It's slightly larger than the\n",
        "# maximum training sentence length of 47...\n",
        "MAX_LEN = 64\n",
        "\n",
        "print('\\nPadding/truncating all sentences to %d values...' % MAX_LEN)\n",
        "\n",
        "print('\\nPadding token: \"{:}\", ID: {:}'.format(tokenizer.pad_token, tokenizer.pad_token_id))\n",
        "\n",
        "# Pad our input tokens with value 0.\n",
        "# \"post\" indicates that we want to pad and truncate at the end of the sequence,\n",
        "# as opposed to the beginning.\n",
        "# truncating=\"post\": 문장이 MAX_LEN보다 길면 뒤쪽(post)부터 잘라냄.\n",
        "# padding=\"post\": 문장이 짧으면 뒤쪽(post)에 0을 추가하여 패딩.\n",
        "input_ids = pad_sequences(input_ids, maxlen=MAX_LEN, dtype=\"long\",\n",
        "                          value=0, truncating=\"post\", padding=\"post\")\n",
        "\n",
        "print('\\nDone.')"
      ],
      "execution_count": null,
      "outputs": [
        {
          "output_type": "stream",
          "name": "stdout",
          "text": [
            "\n",
            "Padding/truncating all sentences to 64 values...\n",
            "\n",
            "Padding token: \"[PAD]\", ID: 0\n",
            "\n",
            "Done.\n"
          ]
        }
      ]
    },
    {
      "cell_type": "markdown",
      "metadata": {
        "id": "kDs-MYtYH8sL"
      },
      "source": [
        "## 3.4. Attention Masks"
      ]
    },
    {
      "cell_type": "markdown",
      "metadata": {
        "id": "KhGulL1pExCT"
      },
      "source": [
        "어텐션 마스크는 어떤 토큰이 실제 단어인지, 어떤 토큰이 패딩인지를 명확하게 보여줍니다.\n",
        "\n",
        "BERT 어휘는 ID 0을 사용하지 않으므로 토큰 ID가 0이면 패딩이고 그렇지 않으면 실제 토큰입니다."
      ]
    },
    {
      "cell_type": "code",
      "metadata": {
        "id": "cDoC24LeEv3N"
      },
      "source": [
        "# Create attention masks\n",
        "attention_masks = []\n",
        "\n",
        "# For each sentence...\n",
        "for sent in input_ids:\n",
        "\n",
        "    # Create the attention mask.\n",
        "    #   - If a token ID is 0, then it's padding, set the mask to 0.\n",
        "    #   - If a token ID is > 0, then it's a real token, set the mask to 1.\n",
        "    att_mask = [int(token_id > 0) for token_id in sent]\n",
        "\n",
        "    # Store the attention mask for this sentence.\n",
        "    attention_masks.append(att_mask)"
      ],
      "execution_count": null,
      "outputs": []
    },
    {
      "cell_type": "markdown",
      "metadata": {
        "id": "aRp4O7D295d_"
      },
      "source": [
        "## 3.5. Training & Validation Split\n"
      ]
    },
    {
      "cell_type": "markdown",
      "metadata": {
        "id": "qu0ao7p8rb06"
      },
      "source": [
        "train/test를 분리합니다."
      ]
    },
    {
      "cell_type": "code",
      "metadata": {
        "id": "aFbE-UHvsb7-"
      },
      "source": [
        "# Use train_test_split to split our data into train and validation sets for\n",
        "# training\n",
        "from sklearn.model_selection import train_test_split\n",
        "\n",
        "# Use 90% for training and 10% for validation.\n",
        "train_inputs, validation_inputs, train_labels, validation_labels = train_test_split(input_ids, labels,\n",
        "                                                            random_state=2018, test_size=0.1)\n",
        "# Do the same for the masks.\n",
        "train_masks, validation_masks, _, _ = train_test_split(attention_masks, labels,\n",
        "                                             random_state=2018, test_size=0.1)"
      ],
      "execution_count": null,
      "outputs": []
    },
    {
      "cell_type": "markdown",
      "metadata": {
        "id": "7LzSbTqW9_BR"
      },
      "source": [
        "## 3.6. Converting to PyTorch Data Types"
      ]
    },
    {
      "cell_type": "markdown",
      "metadata": {
        "id": "6p1uXczp-Je4"
      },
      "source": [
        "우리 모델은 numpy.ndarrays 대신 PyTorch 텐서를 사용합니다."
      ]
    },
    {
      "cell_type": "code",
      "metadata": {
        "id": "jw5K2A5Ko1RF"
      },
      "source": [
        "# Convert all inputs and labels into torch tensors, the required datatype\n",
        "# for our model.\n",
        "train_inputs = torch.tensor(train_inputs)\n",
        "validation_inputs = torch.tensor(validation_inputs)\n",
        "\n",
        "train_labels = torch.tensor(train_labels)\n",
        "validation_labels = torch.tensor(validation_labels)\n",
        "\n",
        "train_masks = torch.tensor(train_masks)\n",
        "validation_masks = torch.tensor(validation_masks)"
      ],
      "execution_count": null,
      "outputs": []
    },
    {
      "cell_type": "markdown",
      "metadata": {
        "id": "dD9i6Z2pG-sN"
      },
      "source": [
        "또한 토치 DataLoader 클래스를 사용하여 데이터세트에 대한 반복자를 생성합니다. 이는 for 루프와 달리 반복자를 사용하면 전체 데이터세트를 메모리에 로드할 필요가 없기 때문에 훈련 중에 메모리를 절약하는 데 도움이 됩니다."
      ]
    },
    {
      "cell_type": "markdown",
      "source": [
        "DataLoader를 사용하면 **전체 데이터셋을 한 번에 메모리에 로드하지 않고, 필요한 만큼만 로드(batch 단위로 로드)**하기 때문"
      ],
      "metadata": {
        "id": "JaJIbVLKmhMN"
      }
    },
    {
      "cell_type": "code",
      "metadata": {
        "id": "GEgLpFVlo1Z-"
      },
      "source": [
        "from torch.utils.data import TensorDataset, DataLoader, RandomSampler, SequentialSampler\n",
        "\n",
        "# The DataLoader needs to know our batch size for training, so we specify it\n",
        "# here.\n",
        "# For fine-tuning BERT on a specific task, the authors recommend a batch size of\n",
        "# 16 or 32.\n",
        "\n",
        "batch_size = 32\n",
        "\n",
        "# Create the DataLoader for our training set.\n",
        "train_data = TensorDataset(train_inputs, train_masks, train_labels) # (토큰 ID, 어텐션 마스크, 레이블) 형태\n",
        "train_sampler = RandomSampler(train_data)   # 무작위 샘플링(Random Sampling)을 적용\n",
        "train_dataloader = DataLoader(train_data, sampler=train_sampler, batch_size=batch_size) # 배치 크기(batch_size=32)로 데이터를 나누어 로드\n",
        "\n",
        "# Create the DataLoader for our validation set.\n",
        "validation_data = TensorDataset(validation_inputs, validation_masks, validation_labels)\n",
        "validation_sampler = SequentialSampler(validation_data)\n",
        "validation_dataloader = DataLoader(validation_data, sampler=validation_sampler, batch_size=batch_size)"
      ],
      "execution_count": null,
      "outputs": []
    },
    {
      "cell_type": "markdown",
      "metadata": {
        "id": "8bwa6Rts-02-"
      },
      "source": [
        "# 4. Train Our Classification Model"
      ]
    },
    {
      "cell_type": "markdown",
      "metadata": {
        "id": "D6TKgyUzPIQc"
      },
      "source": [
        "## 4.1. BertForSequenceClassification"
      ]
    },
    {
      "cell_type": "markdown",
      "metadata": {
        "id": "1sjzRT1V0zwm"
      },
      "source": [
        "이 작업을 위해 먼저 사전 훈련된 BERT 모델을 수정하여 분류를 위한 출력을 제공한 다음 전체 모델이 엔드투엔드에 적합할 때까지 데이터 세트에서 모델을 계속 훈련하려고 합니다.\n",
        "\n",
        "현재 미세 조정을 위해 Huggingface에서 제공되는 클래스 목록은 다음과 같습니다.\n",
        "* BertModel\n",
        "* BertForPreTraining\n",
        "* BertForMaskedLM\n",
        "* BertForNextSentence예측\n",
        "* **BertForSequenceClassification** -> 우리가 사용할 것입니다.\n",
        "* BertForTokenClassification\n",
        "* BertForQuestionAnswering\n",
        "\n",
        "이에 대한 문서는 [여기](https://huggingface.co/transformers/v2.2.0/model_doc/bert.html)에서 찾을 수 있습니다."
      ]
    },
    {
      "cell_type": "markdown",
      "metadata": {
        "id": "BXYitPoE-cjH"
      },
      "source": [
        "우리는 [BertForSequenceClassification](https://huggingface.co/transformers/v2.2.0/model_doc/bert.html#bertforsequenceclassification)을 사용할 것입니다. 이것은 문장 분류기로 사용할 분류를 위해 상단에 단일 선형 레이어가 추가된 일반 BERT 모델입니다. 입력 데이터를 제공하면 사전 훈련된 전체 BERT 모델과 훈련되지 않은 추가 분류 계층이 특정 작업에 대해 훈련됩니다."
      ]
    },
    {
      "cell_type": "markdown",
      "metadata": {
        "id": "WnQW9E-bBCRt"
      },
      "source": [
        "`from_pretrained` 에 대한 문서는 [여기](https://huggingface.co/transformers/v2.2.0/main_classes/model.html#transformers.PreTrainedModel.from_pretrained)에 있습니다.\n",
        "추가적인 parameter는 [여기](https://huggingface.co/transformers/v2.2.0/main_classes/configuration.html#transformers.PretrainedConfig)에 있습니다."
      ]
    },
    {
      "cell_type": "code",
      "metadata": {
        "id": "gFsCTp_mporB",
        "colab": {
          "base_uri": "https://localhost:8080/",
          "height": 932,
          "referenced_widgets": [
            "c02d72f477c94ac8b30d8aaa0147fbee",
            "d31a7c7386db418bb5d2010f4b62dd03",
            "2443621ed8cf4943b6d575cbef26d0cf",
            "8fb525fd2bd947c38ed229ded940e019",
            "f3360efcda984ad09e013be79a3d61ea",
            "de352abf78f7492d9f2be037ee437a0b",
            "aa0a4c2f98bf44798b77ef8237653319",
            "611fab9dec4947f88572d27d5fecfd22",
            "30486322e6704ee1a98a7c639affe686",
            "138dd628cdb0459d87911a033110e54b",
            "e4e5fe80e5e14437ad47c7627305c038"
          ]
        },
        "outputId": "23889bfa-27f9-4ecc-bbf0-36f68bb628d6"
      },
      "source": [
        "from transformers import BertForSequenceClassification, AdamW, BertConfig\n",
        "\n",
        "# Load BertForSequenceClassification, the pretrained BERT model with a single\n",
        "# linear classification layer on top. -> BERT 모델의 마지막에 선형 분류 레이어 추가\n",
        "# BertForSequenceClassification: BERT 모델의 최종 출력층에 선형 분류 레이어가 추가된 모델을 불러옴 -> 즉, BERT의 마지막 은닉 상태(hidden state)를 선형 레이어를 거쳐 분류 가능하도록 변환\n",
        "\n",
        "# BERT는 내부적으로 BertForSequenceClassification에서 CrossEntropyLoss를 사용해 예측된 클래스와 실제 레이블 간의 차이를 계산\n",
        "model = BertForSequenceClassification.from_pretrained(\n",
        "    \"bert-base-uncased\", # Use the 12-layer BERT model, with an uncased vocab. # BERT-base 모델(12-layer, 768-hidden, 12-heads, 110M parameters)\n",
        "    num_labels = 2, # The number of output labels--2 for binary classification.\n",
        "                    # You can increase this for multi-class tasks.\n",
        "    output_attentions = False, # Whether the model returns attentions weights. # 어텐션 가중치 반환 여부 (훈련 시에는 필요 없으므로 False)\n",
        "    output_hidden_states = False, # Whether the model returns all hidden-states.\n",
        ")\n",
        "\n",
        "# Tell pytorch to run this model on the GPU.\n",
        "model.cuda()"
      ],
      "execution_count": null,
      "outputs": [
        {
          "output_type": "display_data",
          "data": {
            "text/plain": [
              "model.safetensors:   0%|          | 0.00/440M [00:00<?, ?B/s]"
            ],
            "application/vnd.jupyter.widget-view+json": {
              "version_major": 2,
              "version_minor": 0,
              "model_id": "c02d72f477c94ac8b30d8aaa0147fbee"
            }
          },
          "metadata": {}
        },
        {
          "output_type": "stream",
          "name": "stderr",
          "text": [
            "Some weights of BertForSequenceClassification were not initialized from the model checkpoint at bert-base-uncased and are newly initialized: ['classifier.bias', 'classifier.weight']\n",
            "You should probably TRAIN this model on a down-stream task to be able to use it for predictions and inference.\n"
          ]
        },
        {
          "output_type": "execute_result",
          "data": {
            "text/plain": [
              "BertForSequenceClassification(\n",
              "  (bert): BertModel(\n",
              "    (embeddings): BertEmbeddings(\n",
              "      (word_embeddings): Embedding(30522, 768, padding_idx=0)\n",
              "      (position_embeddings): Embedding(512, 768)\n",
              "      (token_type_embeddings): Embedding(2, 768)\n",
              "      (LayerNorm): LayerNorm((768,), eps=1e-12, elementwise_affine=True)\n",
              "      (dropout): Dropout(p=0.1, inplace=False)\n",
              "    )\n",
              "    (encoder): BertEncoder(\n",
              "      (layer): ModuleList(\n",
              "        (0-11): 12 x BertLayer(\n",
              "          (attention): BertAttention(\n",
              "            (self): BertSdpaSelfAttention(\n",
              "              (query): Linear(in_features=768, out_features=768, bias=True)\n",
              "              (key): Linear(in_features=768, out_features=768, bias=True)\n",
              "              (value): Linear(in_features=768, out_features=768, bias=True)\n",
              "              (dropout): Dropout(p=0.1, inplace=False)\n",
              "            )\n",
              "            (output): BertSelfOutput(\n",
              "              (dense): Linear(in_features=768, out_features=768, bias=True)\n",
              "              (LayerNorm): LayerNorm((768,), eps=1e-12, elementwise_affine=True)\n",
              "              (dropout): Dropout(p=0.1, inplace=False)\n",
              "            )\n",
              "          )\n",
              "          (intermediate): BertIntermediate(\n",
              "            (dense): Linear(in_features=768, out_features=3072, bias=True)\n",
              "            (intermediate_act_fn): GELUActivation()\n",
              "          )\n",
              "          (output): BertOutput(\n",
              "            (dense): Linear(in_features=3072, out_features=768, bias=True)\n",
              "            (LayerNorm): LayerNorm((768,), eps=1e-12, elementwise_affine=True)\n",
              "            (dropout): Dropout(p=0.1, inplace=False)\n",
              "          )\n",
              "        )\n",
              "      )\n",
              "    )\n",
              "    (pooler): BertPooler(\n",
              "      (dense): Linear(in_features=768, out_features=768, bias=True)\n",
              "      (activation): Tanh()\n",
              "    )\n",
              "  )\n",
              "  (dropout): Dropout(p=0.1, inplace=False)\n",
              "  (classifier): Linear(in_features=768, out_features=2, bias=True)\n",
              ")"
            ]
          },
          "metadata": {},
          "execution_count": 18
        }
      ]
    },
    {
      "cell_type": "code",
      "metadata": {
        "id": "8PIiVlDYCtSq",
        "colab": {
          "base_uri": "https://localhost:8080/"
        },
        "outputId": "364c8efd-0801-4f5e-9d96-b488e25b822c"
      },
      "source": [
        "# Get all of the model's parameters as a list of tuples.\n",
        "# BERT 모델의 파라미터들을 출력하여 각 층의 파라미터들이 가지는 크기를 확인하는 데 사용\n",
        "params = list(model.named_parameters())\n",
        "\n",
        "print('The BERT model has {:} different named parameters.\\n'.format(len(params)))\n",
        "\n",
        "print('==== Embedding Layer ====\\n')\n",
        "\n",
        "for p in params[0:5]:\n",
        "    print(\"{:<55} {:>12}\".format(p[0], str(tuple(p[1].size()))))\n",
        "\n",
        "print('\\n==== First Transformer ====\\n')\n",
        "\n",
        "for p in params[5:21]:\n",
        "    print(\"{:<55} {:>12}\".format(p[0], str(tuple(p[1].size()))))\n",
        "\n",
        "print('\\n==== Output Layer ====\\n')\n",
        "\n",
        "for p in params[-4:]:\n",
        "    print(\"{:<55} {:>12}\".format(p[0], str(tuple(p[1].size()))))"
      ],
      "execution_count": null,
      "outputs": [
        {
          "output_type": "stream",
          "name": "stdout",
          "text": [
            "The BERT model has 201 different named parameters.\n",
            "\n",
            "==== Embedding Layer ====\n",
            "\n",
            "bert.embeddings.word_embeddings.weight                  (30522, 768)\n",
            "bert.embeddings.position_embeddings.weight                (512, 768)\n",
            "bert.embeddings.token_type_embeddings.weight                (2, 768)\n",
            "bert.embeddings.LayerNorm.weight                              (768,)\n",
            "bert.embeddings.LayerNorm.bias                                (768,)\n",
            "\n",
            "==== First Transformer ====\n",
            "\n",
            "bert.encoder.layer.0.attention.self.query.weight          (768, 768)\n",
            "bert.encoder.layer.0.attention.self.query.bias                (768,)\n",
            "bert.encoder.layer.0.attention.self.key.weight            (768, 768)\n",
            "bert.encoder.layer.0.attention.self.key.bias                  (768,)\n",
            "bert.encoder.layer.0.attention.self.value.weight          (768, 768)\n",
            "bert.encoder.layer.0.attention.self.value.bias                (768,)\n",
            "bert.encoder.layer.0.attention.output.dense.weight        (768, 768)\n",
            "bert.encoder.layer.0.attention.output.dense.bias              (768,)\n",
            "bert.encoder.layer.0.attention.output.LayerNorm.weight        (768,)\n",
            "bert.encoder.layer.0.attention.output.LayerNorm.bias          (768,)\n",
            "bert.encoder.layer.0.intermediate.dense.weight           (3072, 768)\n",
            "bert.encoder.layer.0.intermediate.dense.bias                 (3072,)\n",
            "bert.encoder.layer.0.output.dense.weight                 (768, 3072)\n",
            "bert.encoder.layer.0.output.dense.bias                        (768,)\n",
            "bert.encoder.layer.0.output.LayerNorm.weight                  (768,)\n",
            "bert.encoder.layer.0.output.LayerNorm.bias                    (768,)\n",
            "\n",
            "==== Output Layer ====\n",
            "\n",
            "bert.pooler.dense.weight                                  (768, 768)\n",
            "bert.pooler.dense.bias                                        (768,)\n",
            "classifier.weight                                           (2, 768)\n",
            "classifier.bias                                                 (2,)\n"
          ]
        }
      ]
    },
    {
      "cell_type": "markdown",
      "source": [
        "![image.png](data:image/png;base64,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)"
      ],
      "metadata": {
        "id": "B69GV7-UoOGB"
      }
    },
    {
      "cell_type": "markdown",
      "metadata": {
        "id": "qRWT-D4U_Pvx"
      },
      "source": [
        "## 4.2. Optimizer & Learning Rate Scheduler"
      ]
    },
    {
      "cell_type": "markdown",
      "metadata": {
        "id": "8o-VEBobKwHk"
      },
      "source": [
        "이제 모델을 로드했으므로 저장된 모델 내에서 훈련 하이퍼파라미터를 가져와야 합니다.\n",
        "\n",
        "미세 조정을 위해 저자는 다음 값 중에서 선택할 것을 권장합니다.\n",
        "- batch size: 16, 32(DataLoader를 생성할 때 32를 선택했습니다).\n",
        "- learning rate(Adam): 5e-5, 3e-5, 2e-5(여기에서는 2e-5를 사용하겠습니다).\n",
        "- epochs: 2, 3, 4(여기에서는 4를 사용합니다).\n",
        "\n",
        "엡실론 매개변수 `eps = 1e-8`은 \"구현 시 0으로 나누는 것을 방지하기 위한 매우 작은 숫자\"입니다([여기](https://machinelearningmastery.com/adam-optimization-algorithm-for-deep-learning/)).\n",
        "\n",
        "'run_glue.py' [여기](https://github.com/huggingface/transformers/blob/5bfcd0485ece086ebcbed2d008813037968a9e58/examples/run_glue.py#L109)에서 AdamW 최적화 프로그램 생성을 찾을 수 있습니다."
      ]
    },
    {
      "cell_type": "code",
      "metadata": {
        "id": "GLs72DuMODJO",
        "colab": {
          "base_uri": "https://localhost:8080/"
        },
        "outputId": "b96b7538-0c0b-47ab-e49c-beedac72aec5"
      },
      "source": [
        "# Note: AdamW is a class from the huggingface library (as opposed to pytorch)\n",
        "# I believe the 'W' stands for 'Weight Decay fix\"\n",
        "optimizer = AdamW(model.parameters(),\n",
        "                  lr = 2e-5, # args.learning_rate - default is 5e-5, our notebook had 2e-5\n",
        "                  eps = 1e-8 # args.adam_epsilon  - default is 1e-8.\n",
        "                )\n"
      ],
      "execution_count": null,
      "outputs": [
        {
          "output_type": "stream",
          "name": "stderr",
          "text": [
            "/usr/local/lib/python3.11/dist-packages/transformers/optimization.py:591: FutureWarning: This implementation of AdamW is deprecated and will be removed in a future version. Use the PyTorch implementation torch.optim.AdamW instead, or set `no_deprecation_warning=True` to disable this warning\n",
            "  warnings.warn(\n"
          ]
        }
      ]
    },
    {
      "cell_type": "code",
      "metadata": {
        "id": "-p0upAhhRiIx"
      },
      "source": [
        "from transformers import get_linear_schedule_with_warmup\n",
        "\n",
        "# Number of training epochs (authors recommend between 2 and 4)\n",
        "epochs = 4\n",
        "\n",
        "# Total number of training steps is number of batches * number of epochs.\n",
        "# len(train_dataloader)는 배치의 수를 출력\n",
        "total_steps = len(train_dataloader) * epochs\n",
        "\n",
        "# Create the learning rate scheduler.\n",
        "# get_linear_schedule_with_warmup는 학습률을 점진적으로 증가시켰다가 감소시키는 방식으로 학습을 진행\n",
        "# num_warmup_steps: 학습률을 warm-up할 스텝 수. 즉, 처음에는 작은 학습률로 시작하여 서서히 증가시킴. 여기서는 0으로 설정 -> warm-up을 하지 않음\n",
        "# warmup: 훈련할 때 초기에 폭발적인 그래디언트 문제(Gradient Explosion)가 발생하는 경우가 많아, warmup을 적용하여 안정적으로 학습하는 방법이 도입\n",
        "scheduler = get_linear_schedule_with_warmup(optimizer,\n",
        "                                            num_warmup_steps = 0, # Default value in run_glue.py\n",
        "                                            num_training_steps = total_steps)"
      ],
      "execution_count": null,
      "outputs": []
    },
    {
      "cell_type": "markdown",
      "metadata": {
        "id": "RqfmWwUR_Sox"
      },
      "source": [
        "## 4.3. Training Loop"
      ]
    },
    {
      "cell_type": "markdown",
      "metadata": {
        "id": "_QXZhFb4LnV5"
      },
      "source": [
        "다음은 훈련 루프입니다. 많은 일이 진행되고 있지만 기본적으로 루프의 각 패스에는 트라이닝 단계와 검증 단계가 있습니다. 각 패스에서 우리는 다음을 수행해야 합니다.\n",
        "\n",
        "훈련 루프:\n",
        "- 데이터 입력 및 라벨 압축 풀기\n",
        "- 가속을 위해 GPU에 데이터 로드\n",
        "- 이전 단계에서 계산된 그래디언트를 지웁니다.\n",
        "     - pytorch에서는 명시적으로 지우지 않는 한 기본적으로 그래디언트가 누적됩니다(RNN과 같은 작업에 유용함).\n",
        "- 순방향 패스(네트워크를 통해 입력 데이터 공급)\n",
        "- 역방향 전달(역전파)\n",
        "- 네트워크에 Optimizer.step()을 사용하여 매개변수를 업데이트하도록 지시합니다.\n",
        "- 진행상황 모니터링을 위한 변수 추적\n",
        "\n",
        "평가 루프:\n",
        "- 데이터 입력 및 라벨 압축 풀기\n",
        "- 가속을 위해 GPU에 데이터 로드\n",
        "- 순방향 패스(네트워크를 통해 입력 데이터 공급)\n",
        "- 검증 데이터의 손실을 계산하고 진행 상황을 모니터링하기 위한 변수를 추적합니다.\n"
      ]
    },
    {
      "cell_type": "code",
      "metadata": {
        "id": "9cQNvaZ9bnyy"
      },
      "source": [
        "import numpy as np\n",
        "\n",
        "# Function to calculate the accuracy of our predictions vs labels\n",
        "def flat_accuracy(preds, labels):\n",
        "    # np.argmax(preds, axis=1): preds는 모델의 로짓 출력값. 이 함수는 각 샘플에 대해 가장 큰 값을 가지는 인덱스를 찾는다. 즉, 각 샘플에 대해 가장 높은 확률을 가진 클래스의 인덱스를 선택\n",
        "    pred_flat = np.argmax(preds, axis=1).flatten()\n",
        "    labels_flat = labels.flatten()\n",
        "    return np.sum(pred_flat == labels_flat) / len(labels_flat)"
      ],
      "execution_count": null,
      "outputs": []
    },
    {
      "cell_type": "code",
      "metadata": {
        "id": "gpt6tR83keZD"
      },
      "source": [
        "import time\n",
        "import datetime\n",
        "\n",
        "def format_time(elapsed):\n",
        "    '''\n",
        "    Takes a time in seconds and returns a string hh:mm:ss\n",
        "    '''\n",
        "    # Round to the nearest second.\n",
        "    elapsed_rounded = int(round((elapsed)))\n",
        "\n",
        "    # Format as hh:mm:ss\n",
        "    return str(datetime.timedelta(seconds=elapsed_rounded))\n"
      ],
      "execution_count": null,
      "outputs": []
    },
    {
      "cell_type": "code",
      "metadata": {
        "id": "6J-FYdx6nFE_",
        "colab": {
          "base_uri": "https://localhost:8080/"
        },
        "outputId": "5df5f694-9695-4453-d685-46e7dc20be16"
      },
      "source": [
        "import random\n",
        "\n",
        "# This training code is based on the `run_glue.py` script here:\n",
        "# https://github.com/huggingface/transformers/blob/5bfcd0485ece086ebcbed2d008813037968a9e58/examples/run_glue.py#L128\n",
        "\n",
        "\n",
        "# Set the seed value all over the place to make this reproducible.\n",
        "seed_val = 42\n",
        "\n",
        "random.seed(seed_val)\n",
        "np.random.seed(seed_val)\n",
        "torch.manual_seed(seed_val)\n",
        "torch.cuda.manual_seed_all(seed_val)\n",
        "\n",
        "# Store the average loss after each epoch so we can plot them.\n",
        "loss_values = []\n",
        "\n",
        "# For each epoch...\n",
        "for epoch_i in range(0, epochs):\n",
        "\n",
        "    # ========================================\n",
        "    #               Training\n",
        "    # ========================================\n",
        "\n",
        "    # Perform one full pass over the training set.\n",
        "\n",
        "    print(\"\")\n",
        "    print('======== Epoch {:} / {:} ========'.format(epoch_i + 1, epochs))\n",
        "    print('Training...')\n",
        "\n",
        "    # Measure how long the training epoch takes.\n",
        "    t0 = time.time()\n",
        "\n",
        "    # Reset the total loss for this epoch.\n",
        "    total_loss = 0\n",
        "\n",
        "    # Put the model into training mode. Don't be mislead--the call to\n",
        "    # `train` just changes the *mode*, it doesn't *perform* the training.\n",
        "    # `dropout` and `batchnorm` layers behave differently during training\n",
        "    # vs. test (source: https://stackoverflow.com/questions/51433378/what-does-model-train-do-in-pytorch)\n",
        "    model.train()\n",
        "\n",
        "    # For each batch of training data...\n",
        "    for step, batch in enumerate(train_dataloader):\n",
        "\n",
        "        # Progress update every 40 batches.\n",
        "        if step % 40 == 0 and not step == 0:\n",
        "            # Calculate elapsed time in minutes.\n",
        "            elapsed = format_time(time.time() - t0)\n",
        "\n",
        "            # Report progress.\n",
        "            print('  Batch {:>5,}  of  {:>5,}.    Elapsed: {:}.'.format(step, len(train_dataloader), elapsed))\n",
        "\n",
        "        # Unpack this training batch from our dataloader.\n",
        "        #\n",
        "        # As we unpack the batch, we'll also copy each tensor to the GPU using the\n",
        "        # `to` method.\n",
        "        #\n",
        "        # `batch` contains three pytorch tensors:\n",
        "        #   [0]: input ids\n",
        "        #   [1]: attention masks\n",
        "        #   [2]: labels\n",
        "        b_input_ids = batch[0].to(device)\n",
        "        b_input_mask = batch[1].to(device)\n",
        "        b_labels = batch[2].to(device)\n",
        "\n",
        "        # Always clear any previously calculated gradients before performing a\n",
        "        # backward pass. PyTorch doesn't do this automatically because\n",
        "        # accumulating the gradients is \"convenient while training RNNs\".\n",
        "        # (source: https://stackoverflow.com/questions/48001598/why-do-we-need-to-call-zero-grad-in-pytorch)\n",
        "        model.zero_grad()\n",
        "\n",
        "        # Perform a forward pass (evaluate the model on this training batch).\n",
        "        # This will return the loss (rather than the model output) because we\n",
        "        # have provided the `labels`.\n",
        "        # The documentation for this `model` function is here:\n",
        "        # https://huggingface.co/transformers/v2.2.0/model_doc/bert.html#transformers.BertForSequenceClassification\n",
        "        outputs = model(b_input_ids,\n",
        "                    token_type_ids=None,\n",
        "                    attention_mask=b_input_mask,\n",
        "                    labels=b_labels)\n",
        "\n",
        "        # The call to `model` always returns a tuple, so we need to pull the\n",
        "        # loss value out of the tuple.\n",
        "        loss = outputs[0]\n",
        "\n",
        "        # Accumulate the training loss over all of the batches so that we can\n",
        "        # calculate the average loss at the end. `loss` is a Tensor containing a\n",
        "        # single value; the `.item()` function just returns the Python value\n",
        "        # from the tensor.\n",
        "        total_loss += loss.item()\n",
        "\n",
        "        # Perform a backward pass to calculate the gradients.\n",
        "        loss.backward()\n",
        "\n",
        "        # Clip the norm of the gradients to 1.0.\n",
        "        # This is to help prevent the \"exploding gradients\" problem.\n",
        "        # clip_grad_norm_ 함수는 L2 norm(기울기의 제곱합의 제곱근)을 계산하여, 그 값이 설정된 임계값(여기서는 1.0)을 초과하면 기울기의 크기를 임계값에 맞춰서 스케일링\n",
        "        torch.nn.utils.clip_grad_norm_(model.parameters(), 1.0)\n",
        "\n",
        "        # Update parameters and take a step using the computed gradient.\n",
        "        # The optimizer dictates the \"update rule\"--how the parameters are\n",
        "        # modified based on their gradients, the learning rate, etc.\n",
        "        optimizer.step()\n",
        "\n",
        "        # Update the learning rate.\n",
        "        scheduler.step()\n",
        "\n",
        "    # Calculate the average loss over the training data.\n",
        "    avg_train_loss = total_loss / len(train_dataloader)\n",
        "\n",
        "    # Store the loss value for plotting the learning curve.\n",
        "    loss_values.append(avg_train_loss)\n",
        "\n",
        "    print(\"\")\n",
        "    print(\"  Average training loss: {0:.2f}\".format(avg_train_loss))\n",
        "    print(\"  Training epcoh took: {:}\".format(format_time(time.time() - t0)))\n",
        "\n",
        "    # ========================================\n",
        "    #               Validation\n",
        "    # ========================================\n",
        "    # After the completion of each training epoch, measure our performance on\n",
        "    # our validation set.\n",
        "\n",
        "    print(\"\")\n",
        "    print(\"Running Validation...\")\n",
        "\n",
        "    t0 = time.time()\n",
        "\n",
        "    # Put the model in evaluation mode--the dropout layers behave differently\n",
        "    # during evaluation.\n",
        "    model.eval()\n",
        "\n",
        "    # Tracking variables\n",
        "    eval_loss, eval_accuracy = 0, 0\n",
        "    nb_eval_steps, nb_eval_examples = 0, 0\n",
        "\n",
        "    # Evaluate data for one epoch\n",
        "    for batch in validation_dataloader:\n",
        "\n",
        "        # Add batch to GPU\n",
        "        batch = tuple(t.to(device) for t in batch)\n",
        "\n",
        "        # Unpack the inputs from our dataloader\n",
        "        b_input_ids, b_input_mask, b_labels = batch\n",
        "\n",
        "        # Telling the model not to compute or store gradients, saving memory and\n",
        "        # speeding up validation\n",
        "        with torch.no_grad():\n",
        "\n",
        "            # Forward pass, calculate logit predictions.\n",
        "            # This will return the logits rather than the loss because we have\n",
        "            # not provided labels.\n",
        "            # token_type_ids is the same as the \"segment ids\", which\n",
        "            # differentiates sentence 1 and 2 in 2-sentence tasks.\n",
        "            # The documentation for this `model` function is here:\n",
        "            # https://huggingface.co/transformers/v2.2.0/model_doc/bert.html#transformers.BertForSequenceClassification\n",
        "            outputs = model(b_input_ids,\n",
        "                            token_type_ids=None,\n",
        "                            attention_mask=b_input_mask)\n",
        "\n",
        "        # Get the \"logits\" output by the model. The \"logits\" are the output\n",
        "        # values prior to applying an activation function like the softmax.\n",
        "        logits = outputs[0]\n",
        "\n",
        "        # Move logits and labels to CPU\n",
        "        logits = logits.detach().cpu().numpy()\n",
        "        label_ids = b_labels.to('cpu').numpy()\n",
        "\n",
        "        # Calculate the accuracy for this batch of test sentences.\n",
        "        tmp_eval_accuracy = flat_accuracy(logits, label_ids)\n",
        "\n",
        "        # Accumulate the total accuracy.\n",
        "        eval_accuracy += tmp_eval_accuracy\n",
        "\n",
        "        # Track the number of batches\n",
        "        nb_eval_steps += 1\n",
        "\n",
        "    # Report the final accuracy for this validation run.\n",
        "    print(\"  Accuracy: {0:.2f}\".format(eval_accuracy/nb_eval_steps))\n",
        "    print(\"  Validation took: {:}\".format(format_time(time.time() - t0)))\n",
        "\n",
        "print(\"\")\n",
        "print(\"Training complete!\")"
      ],
      "execution_count": null,
      "outputs": [
        {
          "output_type": "stream",
          "name": "stdout",
          "text": [
            "\n",
            "======== Epoch 1 / 4 ========\n",
            "Training...\n",
            "  Batch    40  of    241.    Elapsed: 0:00:13.\n",
            "  Batch    80  of    241.    Elapsed: 0:00:25.\n",
            "  Batch   120  of    241.    Elapsed: 0:00:37.\n",
            "  Batch   160  of    241.    Elapsed: 0:00:50.\n",
            "  Batch   200  of    241.    Elapsed: 0:01:02.\n",
            "  Batch   240  of    241.    Elapsed: 0:01:15.\n",
            "\n",
            "  Average training loss: 0.53\n",
            "  Training epcoh took: 0:01:15\n",
            "\n",
            "Running Validation...\n",
            "  Accuracy: 0.79\n",
            "  Validation took: 0:00:03\n",
            "\n",
            "======== Epoch 2 / 4 ========\n",
            "Training...\n",
            "  Batch    40  of    241.    Elapsed: 0:00:13.\n",
            "  Batch    80  of    241.    Elapsed: 0:00:26.\n",
            "  Batch   120  of    241.    Elapsed: 0:00:40.\n",
            "  Batch   160  of    241.    Elapsed: 0:00:53.\n",
            "  Batch   200  of    241.    Elapsed: 0:01:06.\n",
            "  Batch   240  of    241.    Elapsed: 0:01:19.\n",
            "\n",
            "  Average training loss: 0.33\n",
            "  Training epcoh took: 0:01:19\n",
            "\n",
            "Running Validation...\n",
            "  Accuracy: 0.82\n",
            "  Validation took: 0:00:03\n",
            "\n",
            "======== Epoch 3 / 4 ========\n",
            "Training...\n",
            "  Batch    40  of    241.    Elapsed: 0:00:13.\n",
            "  Batch    80  of    241.    Elapsed: 0:00:26.\n",
            "  Batch   120  of    241.    Elapsed: 0:00:40.\n",
            "  Batch   160  of    241.    Elapsed: 0:00:53.\n",
            "  Batch   200  of    241.    Elapsed: 0:01:06.\n",
            "  Batch   240  of    241.    Elapsed: 0:01:19.\n",
            "\n",
            "  Average training loss: 0.20\n",
            "  Training epcoh took: 0:01:19\n",
            "\n",
            "Running Validation...\n",
            "  Accuracy: 0.83\n",
            "  Validation took: 0:00:03\n",
            "\n",
            "======== Epoch 4 / 4 ========\n",
            "Training...\n",
            "  Batch    40  of    241.    Elapsed: 0:00:13.\n",
            "  Batch    80  of    241.    Elapsed: 0:00:26.\n",
            "  Batch   120  of    241.    Elapsed: 0:00:39.\n",
            "  Batch   160  of    241.    Elapsed: 0:00:53.\n",
            "  Batch   200  of    241.    Elapsed: 0:01:06.\n",
            "  Batch   240  of    241.    Elapsed: 0:01:19.\n",
            "\n",
            "  Average training loss: 0.14\n",
            "  Training epcoh took: 0:01:19\n",
            "\n",
            "Running Validation...\n",
            "  Accuracy: 0.83\n",
            "  Validation took: 0:00:03\n",
            "\n",
            "Training complete!\n"
          ]
        }
      ]
    },
    {
      "cell_type": "code",
      "metadata": {
        "id": "68xreA9JAmG5",
        "colab": {
          "base_uri": "https://localhost:8080/",
          "height": 592
        },
        "outputId": "1856d1c2-cd7f-4f0d-c2d8-f6f7333826c1"
      },
      "source": [
        "import matplotlib.pyplot as plt\n",
        "%matplotlib inline\n",
        "\n",
        "import seaborn as sns\n",
        "\n",
        "# Use plot styling from seaborn.\n",
        "sns.set(style='darkgrid')\n",
        "\n",
        "# Increase the plot size and font size.\n",
        "sns.set(font_scale=1.5)\n",
        "plt.rcParams[\"figure.figsize\"] = (12,6)\n",
        "\n",
        "# Plot the learning curve.\n",
        "plt.plot(loss_values, 'b-o')\n",
        "\n",
        "# Label the plot.\n",
        "plt.title(\"Training loss\")\n",
        "plt.xlabel(\"Epoch\")\n",
        "plt.ylabel(\"Loss\")\n",
        "\n",
        "plt.show()"
      ],
      "execution_count": null,
      "outputs": [
        {
          "output_type": "display_data",
          "data": {
            "text/plain": [
              "<Figure size 1200x600 with 1 Axes>"
            ],
            "image/png": "[encoded data removed]"
          },
          "metadata": {}
        }
      ]
    },
    {
      "cell_type": "markdown",
      "metadata": {
        "id": "mkyubuJSOzg3"
      },
      "source": [
        "# 5. Performance On Test Set"
      ]
    },
    {
      "cell_type": "markdown",
      "metadata": {
        "id": "DosV94BYIYxg"
      },
      "source": [
        "test 용 데이터세트를 로드하고 [Matthew의 상관 계수](https://scikit-learn.org/stable/modules/generated/sklearn.metrics.matthews_corrcoef.html)를 사용하여 예측을 평가합니다.\n",
        "\n",
        "이 지표를 사용하면 +1이 최고 점수이고 -1이 최저 점수입니다. 이런 식으로 우리는 이 특정 작업에 대한 최신 모델에 비해 우리가 얼마나 잘 수행하는지 확인할 수 있습니다."
      ]
    },
    {
      "cell_type": "markdown",
      "source": [
        "![image.png](data:image/png;base64,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)"
      ],
      "metadata": {
        "id": "v_j5w_6EXEmy"
      }
    },
    {
      "cell_type": "markdown",
      "metadata": {
        "id": "Tg42jJqqM68F"
      },
      "source": [
        "### 5.1. Data Preparation\n"
      ]
    },
    {
      "cell_type": "code",
      "metadata": {
        "id": "mAN0LZBOOPVh",
        "colab": {
          "base_uri": "https://localhost:8080/"
        },
        "outputId": "78f82c68-bf42-4ed3-818d-f0a7fd4351d9"
      },
      "source": [
        "# BERT 모델을 사용하여 주어진 데이터를 전처리하고, DataLoader를 생성하는 과정 <- 위에서 train데이터셋의 DataLoader를 생성하는 과정과 동일\n",
        "import pandas as pd\n",
        "\n",
        "# Load the dataset into a pandas dataframe.\n",
        "df = pd.read_csv(\"./cola_public/raw/out_of_domain_dev.tsv\", delimiter='\\t', header=None, names=['sentence_source', 'label', 'label_notes', 'sentence'])\n",
        "\n",
        "# Report the number of sentences.\n",
        "print('Number of test sentences: {:,}\\n'.format(df.shape[0]))\n",
        "\n",
        "# Create sentence and label lists\n",
        "sentences = df.sentence.values\n",
        "labels = df.label.values\n",
        "\n",
        "# Tokenize all of the sentences and map the tokens to thier word IDs.\n",
        "input_ids = []\n",
        "\n",
        "# For every sentence...\n",
        "for sent in sentences:\n",
        "    # `encode` will:\n",
        "    #   (1) Tokenize the sentence.\n",
        "    #   (2) Prepend the `[CLS]` token to the start.\n",
        "    #   (3) Append the `[SEP]` token to the end.\n",
        "    #   (4) Map tokens to their IDs.\n",
        "    encoded_sent = tokenizer.encode(\n",
        "                        sent,                      # Sentence to encode.\n",
        "                        add_special_tokens = True, # Add '[CLS]' and '[SEP]'\n",
        "                   )\n",
        "\n",
        "    input_ids.append(encoded_sent)\n",
        "\n",
        "# Pad our input tokens\n",
        "input_ids = pad_sequences(input_ids, maxlen=MAX_LEN,\n",
        "                          dtype=\"long\", truncating=\"post\", padding=\"post\")\n",
        "\n",
        "# Create attention masks\n",
        "attention_masks = []\n",
        "\n",
        "# Create a mask of 1s for each token followed by 0s for padding\n",
        "for seq in input_ids:\n",
        "  seq_mask = [float(i>0) for i in seq]\n",
        "  attention_masks.append(seq_mask)\n",
        "\n",
        "# Convert to tensors.\n",
        "prediction_inputs = torch.tensor(input_ids)\n",
        "prediction_masks = torch.tensor(attention_masks)\n",
        "prediction_labels = torch.tensor(labels)\n",
        "\n",
        "# Set the batch size.\n",
        "batch_size = 32\n",
        "\n",
        "# Create the DataLoader.\n",
        "prediction_data = TensorDataset(prediction_inputs, prediction_masks, prediction_labels)\n",
        "prediction_sampler = SequentialSampler(prediction_data)\n",
        "prediction_dataloader = DataLoader(prediction_data, sampler=prediction_sampler, batch_size=batch_size)"
      ],
      "execution_count": null,
      "outputs": [
        {
          "output_type": "stream",
          "name": "stdout",
          "text": [
            "Number of test sentences: 516\n",
            "\n"
          ]
        }
      ]
    },
    {
      "cell_type": "markdown",
      "metadata": {
        "id": "16lctEOyNFik"
      },
      "source": [
        "## 5.2. Evaluate on Test Set\n"
      ]
    },
    {
      "cell_type": "markdown",
      "source": [
        "![image.png](data:image/png;base64,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)"
      ],
      "metadata": {
        "id": "7-aKafeArF1G"
      }
    },
    {
      "cell_type": "code",
      "metadata": {
        "id": "Hba10sXR7Xi6",
        "colab": {
          "base_uri": "https://localhost:8080/"
        },
        "outputId": "12bed7a3-3d6c-45ea-a8f9-bacd891e3159"
      },
      "source": [
        "# Prediction on test set\n",
        "\n",
        "print('Predicting labels for {:,} test sentences...'.format(len(prediction_inputs)))\n",
        "\n",
        "# Put model in evaluation mode\n",
        "model.eval()\n",
        "\n",
        "# Tracking variables\n",
        "predictions , true_labels = [], []\n",
        "\n",
        "# Predict\n",
        "for batch in prediction_dataloader:\n",
        "  # Add batch to GPU\n",
        "  batch = tuple(t.to(device) for t in batch)\n",
        "\n",
        "  # Unpack the inputs from our dataloader\n",
        "  b_input_ids, b_input_mask, b_labels = batch\n",
        "\n",
        "  # Telling the model not to compute or store gradients, saving memory and\n",
        "  # speeding up prediction\n",
        "  with torch.no_grad():\n",
        "      # Forward pass, calculate logit predictions\n",
        "      # 입력 데이터를 모델에 통과시키고, 로짓(logit) 예측값을 얻는다.\n",
        "\n",
        "      outputs = model(b_input_ids, token_type_ids=None,\n",
        "                      attention_mask=b_input_mask)\n",
        "  # logits.shape는 (batch_size, num_labels) -> (32, 2)\n",
        "  logits = outputs[0]\n",
        "\n",
        "  # Move logits and labels to CPU\n",
        "  logits = logits.detach().cpu().numpy()\n",
        "  label_ids = b_labels.to('cpu').numpy()\n",
        "\n",
        "  # Store predictions and true labels\n",
        "  predictions.append(logits)\n",
        "  true_labels.append(label_ids)\n",
        "\n",
        "print('    DONE.')"
      ],
      "execution_count": null,
      "outputs": [
        {
          "output_type": "stream",
          "name": "stdout",
          "text": [
            "Predicting labels for 516 test sentences...\n",
            "    DONE.\n"
          ]
        }
      ]
    },
    {
      "cell_type": "code",
      "metadata": {
        "id": "hWcy0X1hirdx",
        "colab": {
          "base_uri": "https://localhost:8080/"
        },
        "outputId": "b49ac008-abf2-419b-b75d-ca11fe3c4abd"
      },
      "source": [
        "# 데이터셋에서 긍정적인 샘플(label이 1인 샘플)의 수와 비율을 출력하는 코드\n",
        "print('Positive samples: %d of %d (%.2f%%)' % (df.label.sum(), len(df.label), (df.label.sum() / len(df.label) * 100.0)))"
      ],
      "execution_count": null,
      "outputs": [
        {
          "output_type": "stream",
          "name": "stdout",
          "text": [
            "Positive samples: 354 of 516 (68.60%)\n"
          ]
        }
      ]
    },
    {
      "cell_type": "code",
      "metadata": {
        "id": "cRaZQ4XC7kLs",
        "colab": {
          "base_uri": "https://localhost:8080/"
        },
        "outputId": "425c1b6e-8fec-402a-b4fd-c213585935c2"
      },
      "source": [
        "from sklearn.metrics import matthews_corrcoef\n",
        "\n",
        "matthews_set = []\n",
        "\n",
        "# Evaluate each test batch using Matthew's correlation coefficient\n",
        "print('Calculating Matthews Corr. Coef. for each batch...')\n",
        "\n",
        "# For each input batch...\n",
        "for i in range(len(true_labels)):\n",
        "\n",
        "  # The predictions for this batch are a 2-column ndarray (one column for \"0\"\n",
        "  # and one column for \"1\"). Pick the label with the highest value and turn this\n",
        "  # in to a list of 0s and 1s.\n",
        "  pred_labels_i = np.argmax(predictions[i], axis=1).flatten()\n",
        "\n",
        "  # Calculate and store the coef for this batch.\n",
        "  # true_labels[i]와 pred_labels_i를 사용하여 각 배치의 MCC를 계산\n",
        "  matthews = matthews_corrcoef(true_labels[i], pred_labels_i)\n",
        "  matthews_set.append(matthews)"
      ],
      "execution_count": null,
      "outputs": [
        {
          "output_type": "stream",
          "name": "stdout",
          "text": [
            "Calculating Matthews Corr. Coef. for each batch...\n"
          ]
        }
      ]
    },
    {
      "cell_type": "code",
      "metadata": {
        "id": "xytAr_C48wnu",
        "colab": {
          "base_uri": "https://localhost:8080/"
        },
        "outputId": "2a87fed1-5678-4095-c4ec-71223f8e7479"
      },
      "source": [
        "matthews_set"
      ],
      "execution_count": null,
      "outputs": [
        {
          "output_type": "execute_result",
          "data": {
            "text/plain": [
              "[-0.14856415213808927,\n",
              " -0.21684543705982773,\n",
              " 0.4732058754737091,\n",
              " 0.23372319715296222,\n",
              " 0.3567530340063379,\n",
              " 0.6777932975034471,\n",
              " 0.4152273992686999,\n",
              " 0.0,\n",
              " 0.8320502943378436,\n",
              " 0.7530836820370708,\n",
              " 0.7679476477883045,\n",
              " 0.647150228929434,\n",
              " 0.8749672939989046,\n",
              " 0.7141684885491869,\n",
              " 0.1794871794871795,\n",
              " 0.41281272698065485,\n",
              " 0.0]"
            ]
          },
          "metadata": {},
          "execution_count": 30
        }
      ]
    },
    {
      "cell_type": "code",
      "metadata": {
        "id": "oCYZa1lQ8Jn8",
        "colab": {
          "base_uri": "https://localhost:8080/"
        },
        "outputId": "0c0c3c6e-44d6-46c8-83da-675073eba541"
      },
      "source": [
        "# Combine the predictions for each batch into a single list of 0s and 1s.\n",
        "# predictions의 차원은 (batch_num, batch_size, 2)\n",
        "# sublist는 하나의 batch_size 크기의 logit들을 담고 있고, item은 그 중 하나의 로짓을 뽑아냄.\n",
        "# flat_predictions = [[2.5, -1.2], [-0.5, 3.3], [1.2, 0.3]] -> 이후, [0, 1, 0]으로 변환\n",
        "flat_predictions = [item for sublist in predictions for item in sublist]\n",
        "flat_predictions = np.argmax(flat_predictions, axis=1).flatten()\n",
        "\n",
        "# Combine the correct labels for each batch into a single list.\n",
        "flat_true_labels = [item for sublist in true_labels for item in sublist]\n",
        "\n",
        "# Calculate the MCC\n",
        "mcc = matthews_corrcoef(flat_true_labels, flat_predictions)\n",
        "\n",
        "print('MCC: %.3f' % mcc)"
      ],
      "execution_count": null,
      "outputs": [
        {
          "output_type": "stream",
          "name": "stdout",
          "text": [
            "MCC: 0.492\n"
          ]
        }
      ]
    },
    {
      "cell_type": "markdown",
      "source": [
        "MCC 값이 0.492라면, 모델은 어느 정도 분류 성능을 보이지만, 여전히 개선의 여지가 있다.\n",
        "\n",
        "또 코드를 돌려봤을 땐, 0.5 이상인 경우도 있었음."
      ],
      "metadata": {
        "id": "Drd7kZTLwAcs"
      }
    },
    {
      "cell_type": "code",
      "source": [],
      "metadata": {
        "id": "J1VTpT4VwKk-"
      },
      "execution_count": null,
      "outputs": []
    }
  ]
}