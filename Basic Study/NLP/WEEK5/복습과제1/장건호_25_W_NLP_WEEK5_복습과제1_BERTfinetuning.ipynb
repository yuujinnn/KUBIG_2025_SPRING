{
  "cells": [
    {
      "cell_type": "markdown",
      "metadata": {
        "id": "ADkUGTqixRWo"
      },
      "source": [
        "# Introduction"
      ]
    },
    {
      "cell_type": "markdown",
      "metadata": {
        "id": "RX_ZDhicpHkV"
      },
      "source": [
        "# 1. Setup"
      ]
    },
    {
      "cell_type": "markdown",
      "metadata": {
        "id": "nSU7yERLP_66"
      },
      "source": [
        "## 1.1. Using Colab GPU for Training\n"
      ]
    },
    {
      "cell_type": "markdown",
      "metadata": {
        "id": "cqG7FzRVFEIv"
      },
      "source": [
        "GPU 사용 가능 여부 확인"
      ]
    },
    {
      "cell_type": "code",
      "execution_count": null,
      "metadata": {
        "id": "oYsV4H8fCpZ-",
        "outputId": "a416693a-558a-408f-f646-e93816d204c9"
      },
      "outputs": [
        {
          "name": "stdout",
          "output_type": "stream",
          "text": [
            "There are 1 GPU(s) available.\n",
            "We will use the GPU: NVIDIA GeForce RTX 4060 Ti\n"
          ]
        }
      ],
      "source": [
        "import torch\n",
        "\n",
        "if torch.cuda.is_available():\n",
        "\n",
        "    device = torch.device(\"cuda\")\n",
        "\n",
        "    print('There are %d GPU(s) available.' % torch.cuda.device_count())\n",
        "\n",
        "    print('We will use the GPU:', torch.cuda.get_device_name(0))\n",
        "\n",
        "else:\n",
        "    print('No GPU available, using the CPU instead.')\n",
        "    device = torch.device(\"cpu\")"
      ]
    },
    {
      "cell_type": "markdown",
      "metadata": {
        "id": "2ElsnSNUridI"
      },
      "source": [
        "## 1.2. Installing the Hugging Face Library\n"
      ]
    },
    {
      "cell_type": "markdown",
      "metadata": {
        "id": "G_N2UDLevYWn"
      },
      "source": [
        "현재 Hugging Face 라이브러리는 BERT 작업을 위한 가장 널리 사용되는 인터페이스입니다. 사전 훈련된 다양한 transformer 모델을 지원하는 것 외에도 라이브러리에는 특정 작업에 적합한 이러한 모델의 사전 구축된 수정 사항도 포함되어 있습니다. 예를 들어, 본 과제에서는 `BertForSequenceClassification`을 사용합니다.\n",
        "\n",
        "라이브러리에는 토큰 분류, 질문 답변, 다음 문장 예측 등을 위한 작업별 클래스도 포함되어 있습니다. 이러한 사전 구축된 클래스를 사용하면 목적에 맞게 BERT를 수정하는 프로세스가 단순화됩니다."
      ]
    },
    {
      "cell_type": "code",
      "execution_count": null,
      "metadata": {
        "id": "0NmMdkZO8R6q"
      },
      "outputs": [],
      "source": [
        "!pip install transformers"
      ]
    },
    {
      "cell_type": "markdown",
      "metadata": {
        "id": "guw6ZNtaswKc"
      },
      "source": [
        "# 2. Loading CoLA Dataset\n"
      ]
    },
    {
      "cell_type": "markdown",
      "metadata": {
        "id": "_9ZKxKc04Btk"
      },
      "source": [
        "단일 문장 분류에는 [CoLA(The Corpus of Linguistic Acceptability)](https://nyu-mll.github.io/CoLA/) 데이터세트를 사용하겠습니다. 문법적으로 정확하거나 틀린 것으로 표시된 문장 데이터셋입니다. 2018년 5월에 처음 공개되었으며 BERT와 같은 모델이 평가되는 \"GLUE 벤치마크\"에 포함된 테스트 중 하나입니다."
      ]
    },
    {
      "cell_type": "markdown",
      "metadata": {
        "id": "4JrUHXms16cn"
      },
      "source": [
        "## 2.1. Download & Extract"
      ]
    },
    {
      "cell_type": "markdown",
      "metadata": {
        "id": "3ZNVW6xd0T0X"
      },
      "source": [
        "`wget` 패키지로 데이터를 다운로드합니다."
      ]
    },
    {
      "cell_type": "code",
      "execution_count": null,
      "metadata": {
        "id": "5m6AnuFv0QXQ",
        "outputId": "375ebf04-4b06-4de2-b8f1-a01e50282e4a"
      },
      "outputs": [
        {
          "name": "stdout",
          "output_type": "stream",
          "text": [
            "Requirement already satisfied: wget in c:\\users\\user\\anaconda3\\lib\\site-packages (3.2)\n"
          ]
        }
      ],
      "source": [
        "!pip install wget"
      ]
    },
    {
      "cell_type": "code",
      "execution_count": null,
      "metadata": {
        "id": "pMtmPMkBzrvs",
        "outputId": "9aaae2ae-ae2d-4bf6-f6a0-142f6f10206d"
      },
      "outputs": [
        {
          "name": "stdout",
          "output_type": "stream",
          "text": [
            "Downloading dataset...\n"
          ]
        }
      ],
      "source": [
        "import wget\n",
        "import os\n",
        "\n",
        "print('Downloading dataset...')\n",
        "\n",
        "url = 'https://nyu-mll.github.io/CoLA/cola_public_1.1.zip'\n",
        "\n",
        "if not os.path.exists('./cola_public_1.1.zip'):\n",
        "    wget.download(url, './cola_public_1.1.zip')"
      ]
    },
    {
      "cell_type": "code",
      "execution_count": null,
      "metadata": {
        "id": "0Yv-tNv20dnH",
        "outputId": "829fb6ce-af5f-4e97-9544-342fa51e8b38"
      },
      "outputs": [
        {
          "name": "stderr",
          "output_type": "stream",
          "text": [
            "'unzip'��(��) ���� �Ǵ� �ܺ� ����, ������ �� �ִ� ���α׷�, �Ǵ�\n",
            "��ġ ������ �ƴմϴ�.\n"
          ]
        }
      ],
      "source": [
        "# Unzip\n",
        "if not os.path.exists('./cola_public/'):\n",
        "    !unzip cola_public_1.1.zip"
      ]
    },
    {
      "cell_type": "markdown",
      "metadata": {
        "id": "oQUy9Tat2EF_"
      },
      "source": [
        "## 2.2. Parse"
      ]
    },
    {
      "cell_type": "code",
      "execution_count": null,
      "metadata": {
        "id": "_UkeC7SG2krJ",
        "outputId": "fe1216c4-6633-4c8e-99ab-b78464236722"
      },
      "outputs": [
        {
          "name": "stdout",
          "output_type": "stream",
          "text": [
            "Number of training sentences: 8,551\n",
            "\n"
          ]
        },
        {
          "data": {
            "text/html": [
              "<div>\n",
              "<style scoped>\n",
              "    .dataframe tbody tr th:only-of-type {\n",
              "        vertical-align: middle;\n",
              "    }\n",
              "\n",
              "    .dataframe tbody tr th {\n",
              "        vertical-align: top;\n",
              "    }\n",
              "\n",
              "    .dataframe thead th {\n",
              "        text-align: right;\n",
              "    }\n",
              "</style>\n",
              "<table border=\"1\" class=\"dataframe\">\n",
              "  <thead>\n",
              "    <tr style=\"text-align: right;\">\n",
              "      <th></th>\n",
              "      <th>sentence_source</th>\n",
              "      <th>label</th>\n",
              "      <th>label_notes</th>\n",
              "      <th>sentence</th>\n",
              "    </tr>\n",
              "  </thead>\n",
              "  <tbody>\n",
              "    <tr>\n",
              "      <th>3180</th>\n",
              "      <td>l-93</td>\n",
              "      <td>1</td>\n",
              "      <td>NaN</td>\n",
              "      <td>She always wore purple dresses.</td>\n",
              "    </tr>\n",
              "    <tr>\n",
              "      <th>4821</th>\n",
              "      <td>ks08</td>\n",
              "      <td>0</td>\n",
              "      <td>*</td>\n",
              "      <td>I don't know that to agree with him or not.</td>\n",
              "    </tr>\n",
              "    <tr>\n",
              "      <th>2840</th>\n",
              "      <td>l-93</td>\n",
              "      <td>0</td>\n",
              "      <td>*</td>\n",
              "      <td>Carrie touched the stick against the cat.</td>\n",
              "    </tr>\n",
              "    <tr>\n",
              "      <th>1891</th>\n",
              "      <td>r-67</td>\n",
              "      <td>0</td>\n",
              "      <td>??</td>\n",
              "      <td>John has a hole in his quilt's upper right-han...</td>\n",
              "    </tr>\n",
              "    <tr>\n",
              "      <th>7750</th>\n",
              "      <td>ad03</td>\n",
              "      <td>0</td>\n",
              "      <td>*</td>\n",
              "      <td>Which god the statue?</td>\n",
              "    </tr>\n",
              "    <tr>\n",
              "      <th>6</th>\n",
              "      <td>gj04</td>\n",
              "      <td>1</td>\n",
              "      <td>NaN</td>\n",
              "      <td>Fred watered the plants flat.</td>\n",
              "    </tr>\n",
              "    <tr>\n",
              "      <th>6976</th>\n",
              "      <td>m_02</td>\n",
              "      <td>1</td>\n",
              "      <td>NaN</td>\n",
              "      <td>I saw and he chops.</td>\n",
              "    </tr>\n",
              "    <tr>\n",
              "      <th>8069</th>\n",
              "      <td>ad03</td>\n",
              "      <td>1</td>\n",
              "      <td>NaN</td>\n",
              "      <td>I asked if Medea poisoned Jason.</td>\n",
              "    </tr>\n",
              "    <tr>\n",
              "      <th>6768</th>\n",
              "      <td>m_02</td>\n",
              "      <td>0</td>\n",
              "      <td>*</td>\n",
              "      <td>When never had Sir Thomas been so offended, Mr...</td>\n",
              "    </tr>\n",
              "    <tr>\n",
              "      <th>735</th>\n",
              "      <td>bc01</td>\n",
              "      <td>0</td>\n",
              "      <td>*</td>\n",
              "      <td>The boys were made a good mother.</td>\n",
              "    </tr>\n",
              "  </tbody>\n",
              "</table>\n",
              "</div>"
            ],
            "text/plain": [
              "     sentence_source  label label_notes  \\\n",
              "3180            l-93      1         NaN   \n",
              "4821            ks08      0           *   \n",
              "2840            l-93      0           *   \n",
              "1891            r-67      0          ??   \n",
              "7750            ad03      0           *   \n",
              "6               gj04      1         NaN   \n",
              "6976            m_02      1         NaN   \n",
              "8069            ad03      1         NaN   \n",
              "6768            m_02      0           *   \n",
              "735             bc01      0           *   \n",
              "\n",
              "                                               sentence  \n",
              "3180                    She always wore purple dresses.  \n",
              "4821        I don't know that to agree with him or not.  \n",
              "2840          Carrie touched the stick against the cat.  \n",
              "1891  John has a hole in his quilt's upper right-han...  \n",
              "7750                              Which god the statue?  \n",
              "6                         Fred watered the plants flat.  \n",
              "6976                                I saw and he chops.  \n",
              "8069                   I asked if Medea poisoned Jason.  \n",
              "6768  When never had Sir Thomas been so offended, Mr...  \n",
              "735                   The boys were made a good mother.  "
            ]
          },
          "execution_count": 11,
          "metadata": {},
          "output_type": "execute_result"
        }
      ],
      "source": [
        "import pandas as pd\n",
        "\n",
        "df = pd.read_csv(\"C:/Users/User/Desktop/cola_public/raw/in_domain_train.tsv\", delimiter='\\t', header=None, names=['sentence_source', 'label', 'label_notes', 'sentence'])\n",
        "\n",
        "print('Number of training sentences: {:,}\\n'.format(df.shape[0]))\n",
        "\n",
        "df.sample(10)"
      ]
    },
    {
      "cell_type": "markdown",
      "metadata": {
        "id": "kfWzpPi92UAH"
      },
      "source": [
        "`sentence` 와 `label`\b만 남기겠습니다."
      ]
    },
    {
      "cell_type": "code",
      "execution_count": null,
      "metadata": {
        "id": "blqIvQaQncdJ",
        "outputId": "5a651244-602b-438f-da0c-86d0fab1a34c"
      },
      "outputs": [
        {
          "data": {
            "text/html": [
              "<div>\n",
              "<style scoped>\n",
              "    .dataframe tbody tr th:only-of-type {\n",
              "        vertical-align: middle;\n",
              "    }\n",
              "\n",
              "    .dataframe tbody tr th {\n",
              "        vertical-align: top;\n",
              "    }\n",
              "\n",
              "    .dataframe thead th {\n",
              "        text-align: right;\n",
              "    }\n",
              "</style>\n",
              "<table border=\"1\" class=\"dataframe\">\n",
              "  <thead>\n",
              "    <tr style=\"text-align: right;\">\n",
              "      <th></th>\n",
              "      <th>sentence</th>\n",
              "      <th>label</th>\n",
              "    </tr>\n",
              "  </thead>\n",
              "  <tbody>\n",
              "    <tr>\n",
              "      <th>3660</th>\n",
              "      <td>John seems know about the bananas.</td>\n",
              "      <td>0</td>\n",
              "    </tr>\n",
              "    <tr>\n",
              "      <th>4417</th>\n",
              "      <td>Kim must bakes a cake.</td>\n",
              "      <td>0</td>\n",
              "    </tr>\n",
              "    <tr>\n",
              "      <th>8160</th>\n",
              "      <td>I persuaded there to be a problem.</td>\n",
              "      <td>0</td>\n",
              "    </tr>\n",
              "    <tr>\n",
              "      <th>2479</th>\n",
              "      <td>Kelly buttered the bread with butter.</td>\n",
              "      <td>0</td>\n",
              "    </tr>\n",
              "    <tr>\n",
              "      <th>8511</th>\n",
              "      <td>Peter is those pigs.</td>\n",
              "      <td>0</td>\n",
              "    </tr>\n",
              "  </tbody>\n",
              "</table>\n",
              "</div>"
            ],
            "text/plain": [
              "                                   sentence  label\n",
              "3660     John seems know about the bananas.      0\n",
              "4417                 Kim must bakes a cake.      0\n",
              "8160     I persuaded there to be a problem.      0\n",
              "2479  Kelly buttered the bread with butter.      0\n",
              "8511                   Peter is those pigs.      0"
            ]
          },
          "execution_count": 12,
          "metadata": {},
          "output_type": "execute_result"
        }
      ],
      "source": [
        "df.loc[df.label == 0].sample(5)[['sentence', 'label']]"
      ]
    },
    {
      "cell_type": "code",
      "execution_count": null,
      "metadata": {
        "id": "GuE5BqICAne2"
      },
      "outputs": [],
      "source": [
        "sentences = df.sentence.values\n",
        "labels = df.label.values"
      ]
    },
    {
      "cell_type": "markdown",
      "metadata": {
        "id": "ex5O1eV-Pfct"
      },
      "source": [
        "# 3. Tokenization & Input Formatting\n",
        "\n",
        "이 섹션에서는 데이터 세트를 BERT가 학습할 수 있는 형식으로 변환합니다."
      ]
    },
    {
      "cell_type": "markdown",
      "metadata": {
        "id": "-8kEDRvShcU5"
      },
      "source": [
        "## 3.1. BERT Tokenizer"
      ]
    },
    {
      "cell_type": "markdown",
      "metadata": {
        "id": "bWOPOyWghJp2"
      },
      "source": [
        "텍스트를 BERT에 공급하려면 텍스트를 토큰으로 분할한 다음 이러한 토큰을 토크나이저 어휘의 인덱스에 매핑해야 합니다.\n",
        "\n",
        "토큰화는 BERT에 포함된 토크나이저에 의해 수행되어야 합니다."
      ]
    },
    {
      "cell_type": "code",
      "execution_count": null,
      "metadata": {
        "id": "Z474sSC6oe7A",
        "outputId": "1bdd65ba-a73e-4ac5-b984-f47a21ec4f88",
        "colab": {
          "referenced_widgets": [
            "9386ea8f91484da09f9efe500115d9f9",
            "53a0f84f9a5b44ed8603301a2f7c0149",
            "debd4753f1f74ba484a93d8afddcca28",
            "3456b6ba9f7440febff1f3deccf8ecda"
          ]
        }
      },
      "outputs": [
        {
          "name": "stdout",
          "output_type": "stream",
          "text": [
            "Loading BERT tokenizer...\n"
          ]
        },
        {
          "data": {
            "application/vnd.jupyter.widget-view+json": {
              "model_id": "9386ea8f91484da09f9efe500115d9f9",
              "version_major": 2,
              "version_minor": 0
            },
            "text/plain": [
              "tokenizer_config.json:   0%|          | 0.00/48.0 [00:00<?, ?B/s]"
            ]
          },
          "metadata": {},
          "output_type": "display_data"
        },
        {
          "name": "stderr",
          "output_type": "stream",
          "text": [
            "c:\\Users\\User\\anaconda3\\Lib\\site-packages\\huggingface_hub\\file_download.py:140: UserWarning: `huggingface_hub` cache-system uses symlinks by default to efficiently store duplicated files but your machine does not support them in C:\\Users\\User\\.cache\\huggingface\\hub\\models--bert-base-uncased. Caching files will still work but in a degraded version that might require more space on your disk. This warning can be disabled by setting the `HF_HUB_DISABLE_SYMLINKS_WARNING` environment variable. For more details, see https://huggingface.co/docs/huggingface_hub/how-to-cache#limitations.\n",
            "To support symlinks on Windows, you either need to activate Developer Mode or to run Python as an administrator. In order to activate developer mode, see this article: https://docs.microsoft.com/en-us/windows/apps/get-started/enable-your-device-for-development\n",
            "  warnings.warn(message)\n"
          ]
        },
        {
          "data": {
            "application/vnd.jupyter.widget-view+json": {
              "model_id": "53a0f84f9a5b44ed8603301a2f7c0149",
              "version_major": 2,
              "version_minor": 0
            },
            "text/plain": [
              "vocab.txt:   0%|          | 0.00/232k [00:00<?, ?B/s]"
            ]
          },
          "metadata": {},
          "output_type": "display_data"
        },
        {
          "data": {
            "application/vnd.jupyter.widget-view+json": {
              "model_id": "debd4753f1f74ba484a93d8afddcca28",
              "version_major": 2,
              "version_minor": 0
            },
            "text/plain": [
              "tokenizer.json:   0%|          | 0.00/466k [00:00<?, ?B/s]"
            ]
          },
          "metadata": {},
          "output_type": "display_data"
        },
        {
          "data": {
            "application/vnd.jupyter.widget-view+json": {
              "model_id": "3456b6ba9f7440febff1f3deccf8ecda",
              "version_major": 2,
              "version_minor": 0
            },
            "text/plain": [
              "config.json:   0%|          | 0.00/570 [00:00<?, ?B/s]"
            ]
          },
          "metadata": {},
          "output_type": "display_data"
        }
      ],
      "source": [
        "from transformers import BertTokenizer\n",
        "\n",
        "print('Loading BERT tokenizer...')\n",
        "tokenizer = BertTokenizer.from_pretrained('bert-base-uncased', do_lower_case=True)"
      ]
    },
    {
      "cell_type": "code",
      "execution_count": null,
      "metadata": {
        "id": "dLIbudgfh6F0",
        "outputId": "54703608-d3d5-41f6-9551-56410cbc71c4"
      },
      "outputs": [
        {
          "name": "stdout",
          "output_type": "stream",
          "text": [
            " Original:  Our friends won't buy this analysis, let alone the next one we propose.\n",
            "Tokenized:  ['our', 'friends', 'won', \"'\", 't', 'buy', 'this', 'analysis', ',', 'let', 'alone', 'the', 'next', 'one', 'we', 'propose', '.']\n",
            "Token IDs:  [2256, 2814, 2180, 1005, 1056, 4965, 2023, 4106, 1010, 2292, 2894, 1996, 2279, 2028, 2057, 16599, 1012]\n"
          ]
        }
      ],
      "source": [
        "# Print the original sentence.\n",
        "print(' Original: ', sentences[0])\n",
        "\n",
        "# Print the sentence split into tokens.\n",
        "print('Tokenized: ', tokenizer.tokenize(sentences[0]))\n",
        "\n",
        "# Print the sentence mapped to token ids.\n",
        "print('Token IDs: ', tokenizer.convert_tokens_to_ids(tokenizer.tokenize(sentences[0])))"
      ]
    },
    {
      "cell_type": "markdown",
      "metadata": {
        "id": "WeNIc4auFUdF"
      },
      "source": [
        "실제로 모든 문장을 변환할 때 `tokenize`와 `convert_tokens_to_ids`를 별도로 호출하는 대신 `tokenize.encode` 함수를 사용하여 두 단계를 모두 처리합니다.\n",
        "\n",
        "하지만 그렇게 하기 전에 BERT의 형식 요구 사항 중 일부에 대해 살펴보겠습니다다."
      ]
    },
    {
      "cell_type": "markdown",
      "metadata": {
        "id": "viKGCCh8izww"
      },
      "source": [
        "## 3.2. Required Formatting"
      ]
    },
    {
      "cell_type": "markdown",
      "metadata": {
        "id": "yDcqNlvVhL5W"
      },
      "source": [
        "위의 코드에는 여기서 살펴볼 몇 가지 필수 형식 지정 단계가 생략되었습니다.\n",
        "\n",
        "\n",
        "우리는 다음을 수행해야 합니다.\n",
        "1. 각 문장의 시작과 끝 부분에 특수 토큰을 추가.\n",
        "2. 모든 문장을 하나의 일정한 길이로 채우고 자릅니다.\n",
        "3. \"attention mask\"를 사용하여 실제 토큰과 패딩 토큰을 명시적으로 구별합니다."
      ]
    },
    {
      "cell_type": "markdown",
      "metadata": {
        "id": "V6mceWWOjZnw"
      },
      "source": [
        "### Special Tokens\n"
      ]
    },
    {
      "cell_type": "markdown",
      "metadata": {
        "id": "Ykk0P9JiKtVe"
      },
      "source": [
        "**`[SEP]`**\n",
        "\n",
        "모든 문장 끝에 특수 `[SEP]` 토큰을 추가해야 합니다.\n",
        "\n",
        "이 토큰은 BERT에 두 개의 별도 문장이 제공됨을 알립니다."
      ]
    },
    {
      "cell_type": "markdown",
      "metadata": {
        "id": "86C9objaKu8f"
      },
      "source": [
        "**`[CLS]`**\n",
        "\n",
        "분류 작업을 위해서는 모든 문장의 시작 부분에 특수 `[CLS]` 토큰을 추가해야 합니다.\n",
        "\n",
        "이 토큰은 특별한 의미를 갖습니다. BERT는 12개의 Transformer 레이어로 구성됩니다. 각 transformer는 토큰 임베딩 목록을 가져와 출력에 동일한 수의 임베딩을 생성합니다.\n",
        "\n",
        "![Illustration of CLS token purpose](http://www.mccormickml.com/assets/BERT/CLS_token_500x606.png)\n",
        "\n",
        "최종(12번째) transformer의 출력에서 *classifier는 *첫 번째 임베딩([CLS] 토큰에 해당)만 사용합니다*.\n",
        "\n",
        "또한 BERT는 분류를 위해 이 [CLS] 토큰만 사용하도록 훈련되었기 때문에 모델이 분류 단계에 필요한 모든 것을 단일 768 값 임베딩 벡터로 인코딩하도록 되었습니다.\n",
        "\n"
      ]
    },
    {
      "cell_type": "markdown",
      "metadata": {
        "id": "u51v0kFxeteu"
      },
      "source": [
        "### Sentence Length & Attention Mask\n",
        "\n"
      ]
    },
    {
      "cell_type": "markdown",
      "metadata": {
        "id": "qPNuwqZVK3T6"
      },
      "source": [
        "BERT에는 두 가지 제약 조건이 있습니다.\n",
        "1. 모든 문장은 고정된 단일 길이로 채워지거나 잘려야 합니다.\n",
        "2. 최대 문장 길이는 512 토큰입니다.\n",
        "\n",
        "패딩은 BERT 어휘의 인덱스 0에 있는 특수 `[PAD]` 토큰을 사용하여 수행됩니다. 아래 그림은 8개 토큰의 \"MAX_LEN\"에 대한 패딩을 보여줍니다.\n",
        "\n",
        "<img src=\"http://www.mccormickml.com/assets/BERT/padding_and_mask.png\" width=\"600\">\n",
        "\n",
        "\"attention mask\"는 단순히 패딩되는 토큰과 패딩되지 않는 토큰을 나타내는 1과 0의 배열입니다.\n"
      ]
    },
    {
      "cell_type": "markdown",
      "metadata": {
        "id": "l6w8elb-58GJ"
      },
      "source": [
        "## 3.2. Sentences to IDs"
      ]
    },
    {
      "cell_type": "markdown",
      "metadata": {
        "id": "1M296yz577fV"
      },
      "source": [
        "`tokenizer.encode` 함수는 여러 단계를 결합합니다:\n",
        "1. 문장을 토큰으로 나눕니다.\n",
        "2. 특수 `[CLS]` 및 `[SEP]` 토큰을 추가합니다.\n",
        "3. 토큰을 해당 ID에 매핑합니다.\n"
      ]
    },
    {
      "cell_type": "code",
      "execution_count": null,
      "metadata": {
        "id": "2bBdb3pt8LuQ",
        "outputId": "42cb79b3-cc57-4ea5-cfe2-e01b9afa9bf9"
      },
      "outputs": [
        {
          "name": "stdout",
          "output_type": "stream",
          "text": [
            "Original:  Our friends won't buy this analysis, let alone the next one we propose.\n",
            "Token IDs: [101, 2256, 2814, 2180, 1005, 1056, 4965, 2023, 4106, 1010, 2292, 2894, 1996, 2279, 2028, 2057, 16599, 1012, 102]\n"
          ]
        }
      ],
      "source": [
        "# Tokenize all of the sentences and map the tokens to thier word IDs.\n",
        "input_ids = []\n",
        "\n",
        "# For every sentence...\n",
        "for sent in sentences:\n",
        "    # `encode` will:\n",
        "    #   (1) Tokenize the sentence.\n",
        "    #   (2) Prepend the `[CLS]` token to the start.\n",
        "    #   (3) Append the `[SEP]` token to the end.\n",
        "    #   (4) Map tokens to their IDs.\n",
        "    encoded_sent = tokenizer.encode(\n",
        "                        sent,                      # Sentence to encode.\n",
        "                        add_special_tokens = True, # Add '[CLS]' and '[SEP]'\n",
        "\n",
        "                        # This function also supports truncation and conversion\n",
        "                        # to pytorch tensors, but we need to do padding, so we\n",
        "                        # can't use these features :( .\n",
        "                        #max_length = 128,          # Truncate all sentences.\n",
        "                        #return_tensors = 'pt',     # Return pytorch tensors.\n",
        "                   )\n",
        "\n",
        "    # Add the encoded sentence to the list.\n",
        "    input_ids.append(encoded_sent)\n",
        "\n",
        "# Print sentence 0, now as a list of IDs.\n",
        "print('Original: ', sentences[0])\n",
        "print('Token IDs:', input_ids[0])"
      ]
    },
    {
      "cell_type": "markdown",
      "metadata": {
        "id": "WhwCKszh6ych"
      },
      "source": [
        "## 3.3. Padding & Truncating"
      ]
    },
    {
      "cell_type": "markdown",
      "metadata": {
        "id": "xytsw1oIfnX0"
      },
      "source": [
        "시퀀스를 모두 채우고 잘라서 길이가 모두 'MAX_LEN'이 되도록 합니다."
      ]
    },
    {
      "cell_type": "markdown",
      "metadata": {
        "id": "zqiWTDrn_nGB"
      },
      "source": [
        "First, what's the maximum sentence length in our dataset?"
      ]
    },
    {
      "cell_type": "code",
      "execution_count": null,
      "metadata": {
        "id": "JhUZO9vc_l6T",
        "outputId": "fd930b5d-e75e-48e4-95b6-8e3cd3cfc25b"
      },
      "outputs": [
        {
          "name": "stdout",
          "output_type": "stream",
          "text": [
            "Max sentence length:  47\n"
          ]
        }
      ],
      "source": [
        "print('Max sentence length: ', max([len(sen) for sen in input_ids]))"
      ]
    },
    {
      "cell_type": "code",
      "execution_count": null,
      "metadata": {
        "id": "4YvIyRyJRXBY",
        "outputId": "fde59b52-4447-425e-bce5-6eb00b5ed110"
      },
      "outputs": [
        {
          "name": "stdout",
          "output_type": "stream",
          "text": [
            "Collecting keras\n",
            "  Downloading keras-3.8.0-py3-none-any.whl.metadata (5.8 kB)\n",
            "Collecting absl-py (from keras)\n",
            "  Downloading absl_py-2.1.0-py3-none-any.whl.metadata (2.3 kB)\n",
            "Requirement already satisfied: numpy in c:\\users\\user\\anaconda3\\lib\\site-packages (from keras) (1.26.4)\n",
            "Requirement already satisfied: rich in c:\\users\\user\\anaconda3\\lib\\site-packages (from keras) (13.3.5)\n",
            "Collecting namex (from keras)\n",
            "  Downloading namex-0.0.8-py3-none-any.whl.metadata (246 bytes)\n",
            "Requirement already satisfied: h5py in c:\\users\\user\\anaconda3\\lib\\site-packages (from keras) (3.11.0)\n",
            "Collecting optree (from keras)\n",
            "  Downloading optree-0.14.0-cp312-cp312-win_amd64.whl.metadata (48 kB)\n",
            "     ---------------------------------------- 0.0/48.6 kB ? eta -:--:--\n",
            "     ---------------------------------------- 48.6/48.6 kB 2.6 MB/s eta 0:00:00\n",
            "Collecting ml-dtypes (from keras)\n",
            "  Downloading ml_dtypes-0.5.1-cp312-cp312-win_amd64.whl.metadata (22 kB)\n",
            "Requirement already satisfied: packaging in c:\\users\\user\\anaconda3\\lib\\site-packages (from keras) (23.2)\n",
            "Requirement already satisfied: typing-extensions>=4.5.0 in c:\\users\\user\\anaconda3\\lib\\site-packages (from optree->keras) (4.11.0)\n",
            "Requirement already satisfied: markdown-it-py<3.0.0,>=2.2.0 in c:\\users\\user\\anaconda3\\lib\\site-packages (from rich->keras) (2.2.0)\n",
            "Requirement already satisfied: pygments<3.0.0,>=2.13.0 in c:\\users\\user\\anaconda3\\lib\\site-packages (from rich->keras) (2.15.1)\n",
            "Requirement already satisfied: mdurl~=0.1 in c:\\users\\user\\anaconda3\\lib\\site-packages (from markdown-it-py<3.0.0,>=2.2.0->rich->keras) (0.1.0)\n",
            "Downloading keras-3.8.0-py3-none-any.whl (1.3 MB)\n",
            "   ---------------------------------------- 0.0/1.3 MB ? eta -:--:--\n",
            "   ---------------- ----------------------- 0.5/1.3 MB 11.1 MB/s eta 0:00:01\n",
            "   -------------------------------- ------- 1.1/1.3 MB 11.1 MB/s eta 0:00:01\n",
            "   ---------------------------------------- 1.3/1.3 MB 10.3 MB/s eta 0:00:00\n",
            "Downloading absl_py-2.1.0-py3-none-any.whl (133 kB)\n",
            "   ---------------------------------------- 0.0/133.7 kB ? eta -:--:--\n",
            "   ---------------------------------------- 133.7/133.7 kB 7.7 MB/s eta 0:00:00\n",
            "Downloading ml_dtypes-0.5.1-cp312-cp312-win_amd64.whl (210 kB)\n",
            "   ---------------------------------------- 0.0/210.9 kB ? eta -:--:--\n",
            "   ---------------------------------------- 210.9/210.9 kB 6.5 MB/s eta 0:00:00\n",
            "Downloading namex-0.0.8-py3-none-any.whl (5.8 kB)\n",
            "Downloading optree-0.14.0-cp312-cp312-win_amd64.whl (299 kB)\n",
            "   ---------------------------------------- 0.0/299.6 kB ? eta -:--:--\n",
            "   ---------------------------------------- 299.6/299.6 kB 9.0 MB/s eta 0:00:00\n",
            "Installing collected packages: namex, optree, ml-dtypes, absl-py, keras\n",
            "Successfully installed absl-py-2.1.0 keras-3.8.0 ml-dtypes-0.5.1 namex-0.0.8 optree-0.14.0\n"
          ]
        }
      ],
      "source": [
        "!pip install keras"
      ]
    },
    {
      "cell_type": "code",
      "execution_count": null,
      "metadata": {
        "id": "aT35zg1oRXBY",
        "outputId": "1b0c0397-9412-4775-aee8-d5eeb8d371fb"
      },
      "outputs": [
        {
          "name": "stdout",
          "output_type": "stream",
          "text": [
            "Collecting tensorflow\n",
            "  Downloading tensorflow-2.18.0-cp312-cp312-win_amd64.whl.metadata (3.3 kB)\n",
            "Collecting tensorflow-intel==2.18.0 (from tensorflow)\n",
            "  Downloading tensorflow_intel-2.18.0-cp312-cp312-win_amd64.whl.metadata (4.9 kB)\n",
            "Requirement already satisfied: absl-py>=1.0.0 in c:\\users\\user\\anaconda3\\lib\\site-packages (from tensorflow-intel==2.18.0->tensorflow) (2.1.0)\n",
            "Collecting astunparse>=1.6.0 (from tensorflow-intel==2.18.0->tensorflow)\n",
            "  Downloading astunparse-1.6.3-py2.py3-none-any.whl.metadata (4.4 kB)\n",
            "Collecting flatbuffers>=24.3.25 (from tensorflow-intel==2.18.0->tensorflow)\n",
            "  Downloading flatbuffers-25.1.24-py2.py3-none-any.whl.metadata (875 bytes)\n",
            "Collecting gast!=0.5.0,!=0.5.1,!=0.5.2,>=0.2.1 (from tensorflow-intel==2.18.0->tensorflow)\n",
            "  Downloading gast-0.6.0-py3-none-any.whl.metadata (1.3 kB)\n",
            "Collecting google-pasta>=0.1.1 (from tensorflow-intel==2.18.0->tensorflow)\n",
            "  Downloading google_pasta-0.2.0-py3-none-any.whl.metadata (814 bytes)\n",
            "Collecting libclang>=13.0.0 (from tensorflow-intel==2.18.0->tensorflow)\n",
            "  Downloading libclang-18.1.1-py2.py3-none-win_amd64.whl.metadata (5.3 kB)\n",
            "Collecting opt-einsum>=2.3.2 (from tensorflow-intel==2.18.0->tensorflow)\n",
            "  Downloading opt_einsum-3.4.0-py3-none-any.whl.metadata (6.3 kB)\n",
            "Requirement already satisfied: packaging in c:\\users\\user\\anaconda3\\lib\\site-packages (from tensorflow-intel==2.18.0->tensorflow) (23.2)\n",
            "Requirement already satisfied: protobuf!=4.21.0,!=4.21.1,!=4.21.2,!=4.21.3,!=4.21.4,!=4.21.5,<6.0.0dev,>=3.20.3 in c:\\users\\user\\anaconda3\\lib\\site-packages (from tensorflow-intel==2.18.0->tensorflow) (3.20.3)\n",
            "Requirement already satisfied: requests<3,>=2.21.0 in c:\\users\\user\\anaconda3\\lib\\site-packages (from tensorflow-intel==2.18.0->tensorflow) (2.32.2)\n",
            "Requirement already satisfied: setuptools in c:\\users\\user\\anaconda3\\lib\\site-packages (from tensorflow-intel==2.18.0->tensorflow) (69.5.1)\n",
            "Requirement already satisfied: six>=1.12.0 in c:\\users\\user\\anaconda3\\lib\\site-packages (from tensorflow-intel==2.18.0->tensorflow) (1.16.0)\n",
            "Requirement already satisfied: termcolor>=1.1.0 in c:\\users\\user\\anaconda3\\lib\\site-packages (from tensorflow-intel==2.18.0->tensorflow) (2.5.0)\n",
            "Requirement already satisfied: typing-extensions>=3.6.6 in c:\\users\\user\\anaconda3\\lib\\site-packages (from tensorflow-intel==2.18.0->tensorflow) (4.11.0)\n",
            "Requirement already satisfied: wrapt>=1.11.0 in c:\\users\\user\\anaconda3\\lib\\site-packages (from tensorflow-intel==2.18.0->tensorflow) (1.14.1)\n",
            "Collecting grpcio<2.0,>=1.24.3 (from tensorflow-intel==2.18.0->tensorflow)\n",
            "  Downloading grpcio-1.70.0-cp312-cp312-win_amd64.whl.metadata (4.0 kB)\n",
            "Collecting tensorboard<2.19,>=2.18 (from tensorflow-intel==2.18.0->tensorflow)\n",
            "  Downloading tensorboard-2.18.0-py3-none-any.whl.metadata (1.6 kB)\n",
            "Requirement already satisfied: keras>=3.5.0 in c:\\users\\user\\anaconda3\\lib\\site-packages (from tensorflow-intel==2.18.0->tensorflow) (3.8.0)\n",
            "Requirement already satisfied: numpy<2.1.0,>=1.26.0 in c:\\users\\user\\anaconda3\\lib\\site-packages (from tensorflow-intel==2.18.0->tensorflow) (1.26.4)\n",
            "Requirement already satisfied: h5py>=3.11.0 in c:\\users\\user\\anaconda3\\lib\\site-packages (from tensorflow-intel==2.18.0->tensorflow) (3.11.0)\n",
            "Collecting ml-dtypes<0.5.0,>=0.4.0 (from tensorflow-intel==2.18.0->tensorflow)\n",
            "  Downloading ml_dtypes-0.4.1-cp312-cp312-win_amd64.whl.metadata (20 kB)\n",
            "Requirement already satisfied: wheel<1.0,>=0.23.0 in c:\\users\\user\\anaconda3\\lib\\site-packages (from astunparse>=1.6.0->tensorflow-intel==2.18.0->tensorflow) (0.43.0)\n",
            "Requirement already satisfied: rich in c:\\users\\user\\anaconda3\\lib\\site-packages (from keras>=3.5.0->tensorflow-intel==2.18.0->tensorflow) (13.3.5)\n",
            "Requirement already satisfied: namex in c:\\users\\user\\anaconda3\\lib\\site-packages (from keras>=3.5.0->tensorflow-intel==2.18.0->tensorflow) (0.0.8)\n",
            "Requirement already satisfied: optree in c:\\users\\user\\anaconda3\\lib\\site-packages (from keras>=3.5.0->tensorflow-intel==2.18.0->tensorflow) (0.14.0)\n",
            "Requirement already satisfied: charset-normalizer<4,>=2 in c:\\users\\user\\anaconda3\\lib\\site-packages (from requests<3,>=2.21.0->tensorflow-intel==2.18.0->tensorflow) (2.0.4)\n",
            "Requirement already satisfied: idna<4,>=2.5 in c:\\users\\user\\anaconda3\\lib\\site-packages (from requests<3,>=2.21.0->tensorflow-intel==2.18.0->tensorflow) (3.7)\n",
            "Requirement already satisfied: urllib3<3,>=1.21.1 in c:\\users\\user\\anaconda3\\lib\\site-packages (from requests<3,>=2.21.0->tensorflow-intel==2.18.0->tensorflow) (2.2.2)\n",
            "Requirement already satisfied: certifi>=2017.4.17 in c:\\users\\user\\anaconda3\\lib\\site-packages (from requests<3,>=2.21.0->tensorflow-intel==2.18.0->tensorflow) (2024.7.4)\n",
            "Requirement already satisfied: markdown>=2.6.8 in c:\\users\\user\\anaconda3\\lib\\site-packages (from tensorboard<2.19,>=2.18->tensorflow-intel==2.18.0->tensorflow) (3.4.1)\n",
            "Collecting tensorboard-data-server<0.8.0,>=0.7.0 (from tensorboard<2.19,>=2.18->tensorflow-intel==2.18.0->tensorflow)\n",
            "  Downloading tensorboard_data_server-0.7.2-py3-none-any.whl.metadata (1.1 kB)\n",
            "Requirement already satisfied: werkzeug>=1.0.1 in c:\\users\\user\\anaconda3\\lib\\site-packages (from tensorboard<2.19,>=2.18->tensorflow-intel==2.18.0->tensorflow) (3.0.3)\n",
            "Requirement already satisfied: MarkupSafe>=2.1.1 in c:\\users\\user\\anaconda3\\lib\\site-packages (from werkzeug>=1.0.1->tensorboard<2.19,>=2.18->tensorflow-intel==2.18.0->tensorflow) (2.1.3)\n",
            "Requirement already satisfied: markdown-it-py<3.0.0,>=2.2.0 in c:\\users\\user\\anaconda3\\lib\\site-packages (from rich->keras>=3.5.0->tensorflow-intel==2.18.0->tensorflow) (2.2.0)\n",
            "Requirement already satisfied: pygments<3.0.0,>=2.13.0 in c:\\users\\user\\anaconda3\\lib\\site-packages (from rich->keras>=3.5.0->tensorflow-intel==2.18.0->tensorflow) (2.15.1)\n",
            "Requirement already satisfied: mdurl~=0.1 in c:\\users\\user\\anaconda3\\lib\\site-packages (from markdown-it-py<3.0.0,>=2.2.0->rich->keras>=3.5.0->tensorflow-intel==2.18.0->tensorflow) (0.1.0)\n",
            "Downloading tensorflow-2.18.0-cp312-cp312-win_amd64.whl (7.5 kB)\n",
            "Downloading tensorflow_intel-2.18.0-cp312-cp312-win_amd64.whl (390.3 MB)\n",
            "   ---------------------------------------- 0.0/390.3 MB ? eta -:--:--\n",
            "   ---------------------------------------- 0.5/390.3 MB 11.1 MB/s eta 0:00:36\n",
            "   ---------------------------------------- 1.1/390.3 MB 11.5 MB/s eta 0:00:34\n",
            "   ---------------------------------------- 1.6/390.3 MB 11.5 MB/s eta 0:00:34\n",
            "   ---------------------------------------- 2.2/390.3 MB 11.6 MB/s eta 0:00:34\n",
            "   ---------------------------------------- 2.7/390.3 MB 11.6 MB/s eta 0:00:34\n",
            "   ---------------------------------------- 3.3/390.3 MB 11.6 MB/s eta 0:00:34\n",
            "   ---------------------------------------- 3.8/390.3 MB 11.6 MB/s eta 0:00:34\n",
            "   ---------------------------------------- 4.3/390.3 MB 11.6 MB/s eta 0:00:34\n",
            "   ---------------------------------------- 4.9/390.3 MB 11.5 MB/s eta 0:00:34\n",
            "    --------------------------------------- 5.4/390.3 MB 11.6 MB/s eta 0:00:34\n",
            "    --------------------------------------- 6.0/390.3 MB 11.6 MB/s eta 0:00:34\n",
            "    --------------------------------------- 6.5/390.3 MB 11.6 MB/s eta 0:00:34\n",
            "    --------------------------------------- 7.1/390.3 MB 11.6 MB/s eta 0:00:34\n",
            "    --------------------------------------- 7.6/390.3 MB 11.6 MB/s eta 0:00:33\n",
            "    --------------------------------------- 8.2/390.3 MB 11.6 MB/s eta 0:00:33\n",
            "    --------------------------------------- 8.5/390.3 MB 11.8 MB/s eta 0:00:33\n",
            "    --------------------------------------- 8.6/390.3 MB 11.0 MB/s eta 0:00:35\n",
            "    --------------------------------------- 8.8/390.3 MB 10.6 MB/s eta 0:00:36\n",
            "    --------------------------------------- 9.2/390.3 MB 10.3 MB/s eta 0:00:38\n",
            "    --------------------------------------- 9.6/390.3 MB 10.4 MB/s eta 0:00:37\n",
            "   - -------------------------------------- 10.2/390.3 MB 10.5 MB/s eta 0:00:37\n",
            "   - -------------------------------------- 10.7/390.3 MB 10.6 MB/s eta 0:00:36\n",
            "   - -------------------------------------- 11.3/390.3 MB 10.6 MB/s eta 0:00:36\n",
            "   - -------------------------------------- 11.8/390.3 MB 10.6 MB/s eta 0:00:36\n",
            "   - -------------------------------------- 12.4/390.3 MB 10.6 MB/s eta 0:00:36\n",
            "   - -------------------------------------- 13.0/390.3 MB 10.6 MB/s eta 0:00:36\n",
            "   - -------------------------------------- 13.5/390.3 MB 10.6 MB/s eta 0:00:36\n",
            "   - -------------------------------------- 14.1/390.3 MB 10.6 MB/s eta 0:00:36\n",
            "   - -------------------------------------- 14.6/390.3 MB 10.6 MB/s eta 0:00:36\n",
            "   - -------------------------------------- 15.2/390.3 MB 10.6 MB/s eta 0:00:36\n",
            "   - -------------------------------------- 15.7/390.3 MB 10.6 MB/s eta 0:00:36\n",
            "   - -------------------------------------- 16.3/390.3 MB 10.6 MB/s eta 0:00:36\n",
            "   - -------------------------------------- 16.8/390.3 MB 10.6 MB/s eta 0:00:36\n",
            "   - -------------------------------------- 17.0/390.3 MB 10.2 MB/s eta 0:00:37\n",
            "   - -------------------------------------- 17.0/390.3 MB 9.9 MB/s eta 0:00:38\n",
            "   - -------------------------------------- 17.1/390.3 MB 9.5 MB/s eta 0:00:40\n",
            "   - -------------------------------------- 17.2/390.3 MB 9.1 MB/s eta 0:00:42\n",
            "   - -------------------------------------- 17.3/390.3 MB 8.8 MB/s eta 0:00:43\n",
            "   - -------------------------------------- 17.4/390.3 MB 8.7 MB/s eta 0:00:43\n",
            "   - -------------------------------------- 17.5/390.3 MB 8.4 MB/s eta 0:00:45\n",
            "   - -------------------------------------- 17.6/390.3 MB 8.0 MB/s eta 0:00:47\n",
            "   - -------------------------------------- 17.7/390.3 MB 7.8 MB/s eta 0:00:48\n",
            "   - -------------------------------------- 17.7/390.3 MB 7.5 MB/s eta 0:00:50\n",
            "   - -------------------------------------- 17.8/390.3 MB 7.4 MB/s eta 0:00:51\n",
            "   - -------------------------------------- 17.9/390.3 MB 7.1 MB/s eta 0:00:53\n",
            "   - -------------------------------------- 18.0/390.3 MB 6.9 MB/s eta 0:00:55\n",
            "   - -------------------------------------- 18.0/390.3 MB 6.8 MB/s eta 0:00:55\n",
            "   - -------------------------------------- 18.1/390.3 MB 6.5 MB/s eta 0:00:57\n",
            "   - -------------------------------------- 18.2/390.3 MB 6.4 MB/s eta 0:00:58\n",
            "   - -------------------------------------- 18.2/390.3 MB 6.2 MB/s eta 0:01:00\n",
            "   - -------------------------------------- 18.4/390.3 MB 6.1 MB/s eta 0:01:02\n",
            "   - -------------------------------------- 18.4/390.3 MB 6.0 MB/s eta 0:01:03\n",
            "   - -------------------------------------- 18.5/390.3 MB 5.8 MB/s eta 0:01:05\n",
            "   - -------------------------------------- 18.6/390.3 MB 5.7 MB/s eta 0:01:05\n",
            "   - -------------------------------------- 18.7/390.3 MB 5.6 MB/s eta 0:01:07\n",
            "   - -------------------------------------- 18.8/390.3 MB 5.5 MB/s eta 0:01:08\n",
            "   - -------------------------------------- 18.9/390.3 MB 5.5 MB/s eta 0:01:09\n",
            "   - -------------------------------------- 19.0/390.3 MB 5.5 MB/s eta 0:01:09\n",
            "   - -------------------------------------- 19.3/390.3 MB 5.5 MB/s eta 0:01:09\n",
            "   -- ------------------------------------- 19.7/390.3 MB 5.4 MB/s eta 0:01:09\n",
            "   -- ------------------------------------- 20.1/390.3 MB 5.4 MB/s eta 0:01:10\n",
            "   -- ------------------------------------- 20.6/390.3 MB 5.4 MB/s eta 0:01:09\n",
            "   -- ------------------------------------- 21.1/390.3 MB 5.4 MB/s eta 0:01:09\n",
            "   -- ------------------------------------- 21.7/390.3 MB 5.4 MB/s eta 0:01:09\n",
            "   -- ------------------------------------- 22.3/390.3 MB 5.4 MB/s eta 0:01:09\n",
            "   -- ------------------------------------- 22.8/390.3 MB 5.4 MB/s eta 0:01:09\n",
            "   -- ------------------------------------- 23.4/390.3 MB 5.4 MB/s eta 0:01:09\n",
            "   -- ------------------------------------- 23.9/390.3 MB 5.4 MB/s eta 0:01:09\n",
            "   -- ------------------------------------- 24.5/390.3 MB 5.4 MB/s eta 0:01:09\n",
            "   -- ------------------------------------- 25.0/390.3 MB 5.4 MB/s eta 0:01:09\n",
            "   -- ------------------------------------- 25.6/390.3 MB 5.4 MB/s eta 0:01:08\n",
            "   -- ------------------------------------- 26.1/390.3 MB 5.4 MB/s eta 0:01:08\n",
            "   -- ------------------------------------- 26.7/390.3 MB 5.4 MB/s eta 0:01:08\n",
            "   -- ------------------------------------- 27.2/390.3 MB 5.5 MB/s eta 0:01:07\n",
            "   -- ------------------------------------- 27.7/390.3 MB 6.4 MB/s eta 0:00:58\n",
            "   -- ------------------------------------- 28.3/390.3 MB 7.5 MB/s eta 0:00:49\n",
            "   -- ------------------------------------- 28.8/390.3 MB 9.2 MB/s eta 0:00:40\n",
            "   --- ------------------------------------ 29.3/390.3 MB 11.3 MB/s eta 0:00:32\n",
            "   --- ------------------------------------ 29.8/390.3 MB 11.5 MB/s eta 0:00:32\n",
            "   --- ------------------------------------ 30.4/390.3 MB 11.7 MB/s eta 0:00:31\n",
            "   --- ------------------------------------ 30.9/390.3 MB 11.7 MB/s eta 0:00:31\n",
            "   --- ------------------------------------ 31.5/390.3 MB 11.7 MB/s eta 0:00:31\n",
            "   --- ------------------------------------ 32.0/390.3 MB 11.7 MB/s eta 0:00:31\n",
            "   --- ------------------------------------ 32.6/390.3 MB 11.7 MB/s eta 0:00:31\n",
            "   --- ------------------------------------ 33.1/390.3 MB 11.7 MB/s eta 0:00:31\n",
            "   --- ------------------------------------ 33.7/390.3 MB 11.7 MB/s eta 0:00:31\n",
            "   --- ------------------------------------ 34.2/390.3 MB 11.7 MB/s eta 0:00:31\n",
            "   --- ------------------------------------ 34.7/390.3 MB 11.7 MB/s eta 0:00:31\n",
            "   --- ------------------------------------ 35.3/390.3 MB 11.7 MB/s eta 0:00:31\n",
            "   --- ------------------------------------ 35.9/390.3 MB 11.7 MB/s eta 0:00:31\n",
            "   --- ------------------------------------ 36.4/390.3 MB 11.7 MB/s eta 0:00:31\n",
            "   --- ------------------------------------ 36.9/390.3 MB 11.7 MB/s eta 0:00:31\n",
            "   --- ------------------------------------ 37.5/390.3 MB 11.7 MB/s eta 0:00:31\n",
            "   --- ------------------------------------ 38.0/390.3 MB 11.7 MB/s eta 0:00:31\n",
            "   --- ------------------------------------ 38.6/390.3 MB 11.7 MB/s eta 0:00:31\n",
            "   ---- ----------------------------------- 39.2/390.3 MB 11.7 MB/s eta 0:00:31\n",
            "   ---- ----------------------------------- 39.7/390.3 MB 11.7 MB/s eta 0:00:30\n",
            "   ---- ----------------------------------- 40.3/390.3 MB 11.7 MB/s eta 0:00:30\n",
            "   ---- ----------------------------------- 40.8/390.3 MB 11.7 MB/s eta 0:00:30\n",
            "   ---- ----------------------------------- 41.4/390.3 MB 11.7 MB/s eta 0:00:30\n",
            "   ---- ----------------------------------- 41.9/390.3 MB 11.7 MB/s eta 0:00:30\n",
            "   ---- ----------------------------------- 42.4/390.3 MB 11.7 MB/s eta 0:00:30\n",
            "   ---- ----------------------------------- 43.0/390.3 MB 11.7 MB/s eta 0:00:30\n",
            "   ---- ----------------------------------- 43.6/390.3 MB 11.7 MB/s eta 0:00:30\n",
            "   ---- ----------------------------------- 44.1/390.3 MB 11.7 MB/s eta 0:00:30\n",
            "   ---- ----------------------------------- 44.7/390.3 MB 11.7 MB/s eta 0:00:30\n",
            "   ---- ----------------------------------- 45.2/390.3 MB 11.7 MB/s eta 0:00:30\n",
            "   ---- ----------------------------------- 45.8/390.3 MB 11.7 MB/s eta 0:00:30\n",
            "   ---- ----------------------------------- 46.3/390.3 MB 11.7 MB/s eta 0:00:30\n",
            "   ---- ----------------------------------- 46.9/390.3 MB 11.7 MB/s eta 0:00:30\n",
            "   ---- ----------------------------------- 47.4/390.3 MB 11.7 MB/s eta 0:00:30\n",
            "   ---- ----------------------------------- 48.0/390.3 MB 11.9 MB/s eta 0:00:29\n",
            "   ---- ----------------------------------- 48.5/390.3 MB 11.7 MB/s eta 0:00:30\n",
            "   ----- ---------------------------------- 49.0/390.3 MB 11.7 MB/s eta 0:00:30\n",
            "   ----- ---------------------------------- 49.6/390.3 MB 11.7 MB/s eta 0:00:30\n",
            "   ----- ---------------------------------- 50.2/390.3 MB 11.7 MB/s eta 0:00:30\n",
            "   ----- ---------------------------------- 50.7/390.3 MB 11.7 MB/s eta 0:00:30\n",
            "   ----- ---------------------------------- 51.3/390.3 MB 11.7 MB/s eta 0:00:29\n",
            "   ----- ---------------------------------- 51.8/390.3 MB 11.7 MB/s eta 0:00:29\n",
            "   ----- ---------------------------------- 52.4/390.3 MB 11.9 MB/s eta 0:00:29\n",
            "   ----- ---------------------------------- 52.9/390.3 MB 11.9 MB/s eta 0:00:29\n",
            "   ----- ---------------------------------- 53.5/390.3 MB 11.9 MB/s eta 0:00:29\n",
            "   ----- ---------------------------------- 54.0/390.3 MB 11.9 MB/s eta 0:00:29\n",
            "   ----- ---------------------------------- 54.6/390.3 MB 11.9 MB/s eta 0:00:29\n",
            "   ----- ---------------------------------- 55.1/390.3 MB 11.9 MB/s eta 0:00:29\n",
            "   ----- ---------------------------------- 55.7/390.3 MB 11.9 MB/s eta 0:00:29\n",
            "   ----- ---------------------------------- 56.2/390.3 MB 11.9 MB/s eta 0:00:29\n",
            "   ----- ---------------------------------- 56.8/390.3 MB 11.7 MB/s eta 0:00:29\n",
            "   ----- ---------------------------------- 57.3/390.3 MB 11.7 MB/s eta 0:00:29\n",
            "   ----- ---------------------------------- 57.8/390.3 MB 11.7 MB/s eta 0:00:29\n",
            "   ----- ---------------------------------- 58.3/390.3 MB 11.7 MB/s eta 0:00:29\n",
            "   ------ --------------------------------- 58.9/390.3 MB 11.7 MB/s eta 0:00:29\n",
            "   ------ --------------------------------- 59.4/390.3 MB 11.7 MB/s eta 0:00:29\n",
            "   ------ --------------------------------- 60.0/390.3 MB 11.7 MB/s eta 0:00:29\n",
            "   ------ --------------------------------- 60.5/390.3 MB 11.7 MB/s eta 0:00:29\n",
            "   ------ --------------------------------- 61.1/390.3 MB 11.7 MB/s eta 0:00:29\n",
            "   ------ --------------------------------- 61.6/390.3 MB 11.7 MB/s eta 0:00:29\n",
            "   ------ --------------------------------- 62.2/390.3 MB 11.7 MB/s eta 0:00:29\n",
            "   ------ --------------------------------- 62.7/390.3 MB 11.7 MB/s eta 0:00:29\n",
            "   ------ --------------------------------- 63.2/390.3 MB 11.7 MB/s eta 0:00:28\n",
            "   ------ --------------------------------- 63.8/390.3 MB 11.7 MB/s eta 0:00:28\n",
            "   ------ --------------------------------- 64.3/390.3 MB 11.7 MB/s eta 0:00:28\n",
            "   ------ --------------------------------- 64.9/390.3 MB 11.7 MB/s eta 0:00:28\n",
            "   ------ --------------------------------- 65.5/390.3 MB 11.7 MB/s eta 0:00:28\n",
            "   ------ --------------------------------- 66.0/390.3 MB 11.7 MB/s eta 0:00:28\n",
            "   ------ --------------------------------- 66.5/390.3 MB 11.9 MB/s eta 0:00:28\n",
            "   ------ --------------------------------- 67.0/390.3 MB 11.7 MB/s eta 0:00:28\n",
            "   ------ --------------------------------- 67.6/390.3 MB 11.5 MB/s eta 0:00:29\n",
            "   ------ --------------------------------- 68.2/390.3 MB 11.7 MB/s eta 0:00:28\n",
            "   ------- -------------------------------- 68.7/390.3 MB 11.7 MB/s eta 0:00:28\n",
            "   ------- -------------------------------- 69.3/390.3 MB 11.9 MB/s eta 0:00:27\n",
            "   ------- -------------------------------- 69.8/390.3 MB 11.9 MB/s eta 0:00:27\n",
            "   ------- -------------------------------- 70.4/390.3 MB 11.7 MB/s eta 0:00:28\n",
            "   ------- -------------------------------- 70.9/390.3 MB 11.9 MB/s eta 0:00:27\n",
            "   ------- -------------------------------- 71.5/390.3 MB 11.9 MB/s eta 0:00:27\n",
            "   ------- -------------------------------- 72.0/390.3 MB 11.9 MB/s eta 0:00:27\n",
            "   ------- -------------------------------- 72.5/390.3 MB 11.9 MB/s eta 0:00:27\n",
            "   ------- -------------------------------- 73.1/390.3 MB 11.9 MB/s eta 0:00:27\n",
            "   ------- -------------------------------- 73.7/390.3 MB 11.9 MB/s eta 0:00:27\n",
            "   ------- -------------------------------- 74.2/390.3 MB 11.9 MB/s eta 0:00:27\n",
            "   ------- -------------------------------- 74.8/390.3 MB 11.9 MB/s eta 0:00:27\n",
            "   ------- -------------------------------- 75.3/390.3 MB 11.9 MB/s eta 0:00:27\n",
            "   ------- -------------------------------- 75.9/390.3 MB 11.9 MB/s eta 0:00:27\n",
            "   ------- -------------------------------- 76.4/390.3 MB 11.9 MB/s eta 0:00:27\n",
            "   ------- -------------------------------- 77.0/390.3 MB 11.9 MB/s eta 0:00:27\n",
            "   ------- -------------------------------- 77.5/390.3 MB 11.9 MB/s eta 0:00:27\n",
            "   ------- -------------------------------- 78.0/390.3 MB 11.9 MB/s eta 0:00:27\n",
            "   -------- ------------------------------- 78.6/390.3 MB 11.9 MB/s eta 0:00:27\n",
            "   -------- ------------------------------- 79.1/390.3 MB 11.9 MB/s eta 0:00:27\n",
            "   -------- ------------------------------- 79.7/390.3 MB 11.9 MB/s eta 0:00:27\n",
            "   -------- ------------------------------- 80.2/390.3 MB 11.9 MB/s eta 0:00:27\n",
            "   -------- ------------------------------- 80.8/390.3 MB 11.9 MB/s eta 0:00:27\n",
            "   -------- ------------------------------- 81.3/390.3 MB 11.9 MB/s eta 0:00:26\n",
            "   -------- ------------------------------- 81.9/390.3 MB 11.7 MB/s eta 0:00:27\n",
            "   -------- ------------------------------- 82.4/390.3 MB 11.7 MB/s eta 0:00:27\n",
            "   -------- ------------------------------- 82.9/390.3 MB 11.7 MB/s eta 0:00:27\n",
            "   -------- ------------------------------- 83.5/390.3 MB 11.7 MB/s eta 0:00:27\n",
            "   -------- ------------------------------- 84.0/390.3 MB 11.7 MB/s eta 0:00:27\n",
            "   -------- ------------------------------- 84.6/390.3 MB 11.7 MB/s eta 0:00:27\n",
            "   -------- ------------------------------- 85.1/390.3 MB 11.7 MB/s eta 0:00:27\n",
            "   -------- ------------------------------- 85.7/390.3 MB 11.7 MB/s eta 0:00:27\n",
            "   -------- ------------------------------- 86.2/390.3 MB 11.7 MB/s eta 0:00:27\n",
            "   -------- ------------------------------- 86.8/390.3 MB 11.7 MB/s eta 0:00:26\n",
            "   -------- ------------------------------- 87.2/390.3 MB 11.5 MB/s eta 0:00:27\n",
            "   -------- ------------------------------- 87.2/390.3 MB 11.3 MB/s eta 0:00:27\n",
            "   -------- ------------------------------- 87.4/390.3 MB 10.9 MB/s eta 0:00:28\n",
            "   -------- ------------------------------- 87.5/390.3 MB 10.4 MB/s eta 0:00:30\n",
            "   --------- ------------------------------ 87.8/390.3 MB 10.2 MB/s eta 0:00:30\n",
            "   --------- ------------------------------ 88.4/390.3 MB 10.2 MB/s eta 0:00:30\n",
            "   --------- ------------------------------ 88.9/390.3 MB 10.2 MB/s eta 0:00:30\n",
            "   --------- ------------------------------ 89.5/390.3 MB 10.2 MB/s eta 0:00:30\n",
            "   --------- ------------------------------ 89.9/390.3 MB 10.2 MB/s eta 0:00:30\n",
            "   --------- ------------------------------ 90.4/390.3 MB 10.2 MB/s eta 0:00:30\n",
            "   --------- ------------------------------ 91.0/390.3 MB 10.2 MB/s eta 0:00:30\n",
            "   --------- ------------------------------ 91.5/390.3 MB 10.2 MB/s eta 0:00:30\n",
            "   --------- ------------------------------ 92.1/390.3 MB 10.2 MB/s eta 0:00:30\n",
            "   --------- ------------------------------ 92.6/390.3 MB 10.2 MB/s eta 0:00:30\n",
            "   --------- ------------------------------ 93.2/390.3 MB 10.2 MB/s eta 0:00:30\n",
            "   --------- ------------------------------ 93.7/390.3 MB 10.2 MB/s eta 0:00:29\n",
            "   --------- ------------------------------ 94.3/390.3 MB 10.2 MB/s eta 0:00:29\n",
            "   --------- ------------------------------ 94.8/390.3 MB 10.2 MB/s eta 0:00:29\n",
            "   --------- ------------------------------ 95.4/390.3 MB 10.2 MB/s eta 0:00:29\n",
            "   --------- ------------------------------ 95.9/390.3 MB 10.2 MB/s eta 0:00:29\n",
            "   --------- ------------------------------ 96.5/390.3 MB 10.2 MB/s eta 0:00:29\n",
            "   --------- ------------------------------ 97.0/390.3 MB 10.2 MB/s eta 0:00:29\n",
            "   --------- ------------------------------ 97.5/390.3 MB 10.9 MB/s eta 0:00:27\n",
            "   ---------- ----------------------------- 98.1/390.3 MB 11.7 MB/s eta 0:00:25\n",
            "   ---------- ----------------------------- 98.6/390.3 MB 11.7 MB/s eta 0:00:25\n",
            "   ---------- ----------------------------- 99.2/390.3 MB 11.7 MB/s eta 0:00:25\n",
            "   ---------- ----------------------------- 99.7/390.3 MB 11.7 MB/s eta 0:00:25\n",
            "   ---------- ---------------------------- 100.2/390.3 MB 11.7 MB/s eta 0:00:25\n",
            "   ---------- ---------------------------- 100.7/390.3 MB 11.9 MB/s eta 0:00:25\n",
            "   ---------- ---------------------------- 101.3/390.3 MB 11.9 MB/s eta 0:00:25\n",
            "   ---------- ---------------------------- 101.8/390.3 MB 11.7 MB/s eta 0:00:25\n",
            "   ---------- ---------------------------- 102.4/390.3 MB 11.9 MB/s eta 0:00:25\n",
            "   ---------- ---------------------------- 102.9/390.3 MB 11.9 MB/s eta 0:00:25\n",
            "   ---------- ---------------------------- 103.5/390.3 MB 11.7 MB/s eta 0:00:25\n",
            "   ---------- ---------------------------- 104.0/390.3 MB 11.7 MB/s eta 0:00:25\n",
            "   ---------- ---------------------------- 104.5/390.3 MB 11.7 MB/s eta 0:00:25\n",
            "   ---------- ---------------------------- 105.1/390.3 MB 11.7 MB/s eta 0:00:25\n",
            "   ---------- ---------------------------- 105.6/390.3 MB 11.7 MB/s eta 0:00:25\n",
            "   ---------- ---------------------------- 106.2/390.3 MB 11.7 MB/s eta 0:00:25\n",
            "   ---------- ---------------------------- 106.7/390.3 MB 11.7 MB/s eta 0:00:25\n",
            "   ---------- ---------------------------- 107.2/390.3 MB 11.7 MB/s eta 0:00:25\n",
            "   ---------- ---------------------------- 107.8/390.3 MB 11.7 MB/s eta 0:00:25\n",
            "   ---------- ---------------------------- 108.3/390.3 MB 11.7 MB/s eta 0:00:25\n",
            "   ---------- ---------------------------- 108.9/390.3 MB 11.7 MB/s eta 0:00:25\n",
            "   ---------- ---------------------------- 109.4/390.3 MB 11.7 MB/s eta 0:00:25\n",
            "   ---------- ---------------------------- 109.9/390.3 MB 11.7 MB/s eta 0:00:24\n",
            "   ----------- --------------------------- 110.5/390.3 MB 11.7 MB/s eta 0:00:24\n",
            "   ----------- --------------------------- 111.0/390.3 MB 11.7 MB/s eta 0:00:24\n",
            "   ----------- --------------------------- 111.6/390.3 MB 11.7 MB/s eta 0:00:24\n",
            "   ----------- --------------------------- 112.1/390.3 MB 11.7 MB/s eta 0:00:24\n",
            "   ----------- --------------------------- 112.7/390.3 MB 11.7 MB/s eta 0:00:24\n",
            "   ----------- --------------------------- 113.2/390.3 MB 11.7 MB/s eta 0:00:24\n",
            "   ----------- --------------------------- 113.8/390.3 MB 11.7 MB/s eta 0:00:24\n",
            "   ----------- --------------------------- 114.3/390.3 MB 11.7 MB/s eta 0:00:24\n",
            "   ----------- --------------------------- 114.9/390.3 MB 11.7 MB/s eta 0:00:24\n",
            "   ----------- --------------------------- 115.4/390.3 MB 11.7 MB/s eta 0:00:24\n",
            "   ----------- --------------------------- 116.0/390.3 MB 11.7 MB/s eta 0:00:24\n",
            "   ----------- --------------------------- 116.4/390.3 MB 11.5 MB/s eta 0:00:24\n",
            "   ----------- --------------------------- 117.0/390.3 MB 11.5 MB/s eta 0:00:24\n",
            "   ----------- --------------------------- 117.5/390.3 MB 11.5 MB/s eta 0:00:24\n",
            "   ----------- --------------------------- 118.1/390.3 MB 11.5 MB/s eta 0:00:24\n",
            "   ----------- --------------------------- 118.6/390.3 MB 11.7 MB/s eta 0:00:24\n",
            "   ----------- --------------------------- 119.2/390.3 MB 11.7 MB/s eta 0:00:24\n",
            "   ----------- --------------------------- 119.7/390.3 MB 11.9 MB/s eta 0:00:23\n",
            "   ------------ -------------------------- 120.2/390.3 MB 11.7 MB/s eta 0:00:24\n",
            "   ------------ -------------------------- 120.8/390.3 MB 11.7 MB/s eta 0:00:24\n",
            "   ------------ -------------------------- 121.4/390.3 MB 11.9 MB/s eta 0:00:23\n",
            "   ------------ -------------------------- 121.8/390.3 MB 11.7 MB/s eta 0:00:23\n",
            "   ------------ -------------------------- 122.4/390.3 MB 11.7 MB/s eta 0:00:23\n",
            "   ------------ -------------------------- 123.0/390.3 MB 11.7 MB/s eta 0:00:23\n",
            "   ------------ -------------------------- 123.5/390.3 MB 11.7 MB/s eta 0:00:23\n",
            "   ------------ -------------------------- 124.1/390.3 MB 11.7 MB/s eta 0:00:23\n",
            "   ------------ -------------------------- 124.6/390.3 MB 11.7 MB/s eta 0:00:23\n",
            "   ------------ -------------------------- 125.2/390.3 MB 11.7 MB/s eta 0:00:23\n",
            "   ------------ -------------------------- 125.8/390.3 MB 11.9 MB/s eta 0:00:23\n",
            "   ------------ -------------------------- 126.3/390.3 MB 11.7 MB/s eta 0:00:23\n",
            "   ------------ -------------------------- 126.9/390.3 MB 11.9 MB/s eta 0:00:23\n",
            "   ------------ -------------------------- 127.4/390.3 MB 11.9 MB/s eta 0:00:23\n",
            "   ------------ -------------------------- 128.0/390.3 MB 11.9 MB/s eta 0:00:23\n",
            "   ------------ -------------------------- 128.5/390.3 MB 11.9 MB/s eta 0:00:23\n",
            "   ------------ -------------------------- 129.1/390.3 MB 11.9 MB/s eta 0:00:22\n",
            "   ------------ -------------------------- 129.6/390.3 MB 11.9 MB/s eta 0:00:22\n",
            "   ------------- ------------------------- 130.2/390.3 MB 11.9 MB/s eta 0:00:22\n",
            "   ------------- ------------------------- 130.7/390.3 MB 11.9 MB/s eta 0:00:22\n",
            "   ------------- ------------------------- 131.2/390.3 MB 11.9 MB/s eta 0:00:22\n",
            "   ------------- ------------------------- 131.8/390.3 MB 11.9 MB/s eta 0:00:22\n",
            "   ------------- ------------------------- 132.3/390.3 MB 11.9 MB/s eta 0:00:22\n",
            "   ------------- ------------------------- 132.9/390.3 MB 11.9 MB/s eta 0:00:22\n",
            "   ------------- ------------------------- 133.4/390.3 MB 11.9 MB/s eta 0:00:22\n",
            "   ------------- ------------------------- 134.0/390.3 MB 11.9 MB/s eta 0:00:22\n",
            "   ------------- ------------------------- 134.6/390.3 MB 11.9 MB/s eta 0:00:22\n",
            "   ------------- ------------------------- 135.1/390.3 MB 11.9 MB/s eta 0:00:22\n",
            "   ------------- ------------------------- 135.7/390.3 MB 11.9 MB/s eta 0:00:22\n",
            "   ------------- ------------------------- 136.2/390.3 MB 11.7 MB/s eta 0:00:22\n",
            "   ------------- ------------------------- 136.7/390.3 MB 11.7 MB/s eta 0:00:22\n",
            "   ------------- ------------------------- 137.3/390.3 MB 11.7 MB/s eta 0:00:22\n",
            "   ------------- ------------------------- 137.8/390.3 MB 11.7 MB/s eta 0:00:22\n",
            "   ------------- ------------------------- 138.4/390.3 MB 11.7 MB/s eta 0:00:22\n",
            "   ------------- ------------------------- 138.9/390.3 MB 11.7 MB/s eta 0:00:22\n",
            "   ------------- ------------------------- 139.5/390.3 MB 11.7 MB/s eta 0:00:22\n",
            "   ------------- ------------------------- 140.0/390.3 MB 11.7 MB/s eta 0:00:22\n",
            "   -------------- ------------------------ 140.6/390.3 MB 11.7 MB/s eta 0:00:22\n",
            "   -------------- ------------------------ 141.1/390.3 MB 11.7 MB/s eta 0:00:22\n",
            "   -------------- ------------------------ 141.7/390.3 MB 11.7 MB/s eta 0:00:22\n",
            "   -------------- ------------------------ 142.2/390.3 MB 11.7 MB/s eta 0:00:22\n",
            "   -------------- ------------------------ 142.8/390.3 MB 11.7 MB/s eta 0:00:22\n",
            "   -------------- ------------------------ 143.3/390.3 MB 11.7 MB/s eta 0:00:22\n",
            "   -------------- ------------------------ 143.9/390.3 MB 11.7 MB/s eta 0:00:22\n",
            "   -------------- ------------------------ 144.4/390.3 MB 11.7 MB/s eta 0:00:22\n",
            "   -------------- ------------------------ 145.0/390.3 MB 11.7 MB/s eta 0:00:21\n",
            "   -------------- ------------------------ 145.6/390.3 MB 11.7 MB/s eta 0:00:21\n",
            "   -------------- ------------------------ 146.1/390.3 MB 11.7 MB/s eta 0:00:21\n",
            "   -------------- ------------------------ 146.6/390.3 MB 11.7 MB/s eta 0:00:21\n",
            "   -------------- ------------------------ 147.2/390.3 MB 11.7 MB/s eta 0:00:21\n",
            "   -------------- ------------------------ 147.7/390.3 MB 11.7 MB/s eta 0:00:21\n",
            "   -------------- ------------------------ 148.3/390.3 MB 11.7 MB/s eta 0:00:21\n",
            "   -------------- ------------------------ 148.8/390.3 MB 11.7 MB/s eta 0:00:21\n",
            "   -------------- ------------------------ 149.4/390.3 MB 11.7 MB/s eta 0:00:21\n",
            "   -------------- ------------------------ 149.9/390.3 MB 11.7 MB/s eta 0:00:21\n",
            "   --------------- ----------------------- 150.5/390.3 MB 11.9 MB/s eta 0:00:21\n",
            "   --------------- ----------------------- 151.1/390.3 MB 11.7 MB/s eta 0:00:21\n",
            "   --------------- ----------------------- 151.6/390.3 MB 11.7 MB/s eta 0:00:21\n",
            "   --------------- ----------------------- 152.1/390.3 MB 11.7 MB/s eta 0:00:21\n",
            "   --------------- ----------------------- 152.7/390.3 MB 11.7 MB/s eta 0:00:21\n",
            "   --------------- ----------------------- 153.2/390.3 MB 11.7 MB/s eta 0:00:21\n",
            "   --------------- ----------------------- 153.8/390.3 MB 11.9 MB/s eta 0:00:20\n",
            "   --------------- ----------------------- 154.3/390.3 MB 11.9 MB/s eta 0:00:20\n",
            "   --------------- ----------------------- 154.9/390.3 MB 11.9 MB/s eta 0:00:20\n",
            "   --------------- ----------------------- 155.4/390.3 MB 11.9 MB/s eta 0:00:20\n",
            "   --------------- ----------------------- 156.0/390.3 MB 11.9 MB/s eta 0:00:20\n",
            "   --------------- ----------------------- 156.5/390.3 MB 11.9 MB/s eta 0:00:20\n",
            "   --------------- ----------------------- 157.1/390.3 MB 11.9 MB/s eta 0:00:20\n",
            "   --------------- ----------------------- 157.6/390.3 MB 11.9 MB/s eta 0:00:20\n",
            "   --------------- ----------------------- 158.1/390.3 MB 11.7 MB/s eta 0:00:20\n",
            "   --------------- ----------------------- 158.6/390.3 MB 11.7 MB/s eta 0:00:20\n",
            "   --------------- ----------------------- 159.2/390.3 MB 11.7 MB/s eta 0:00:20\n",
            "   --------------- ----------------------- 159.7/390.3 MB 11.7 MB/s eta 0:00:20\n",
            "   ---------------- ---------------------- 160.3/390.3 MB 11.7 MB/s eta 0:00:20\n",
            "   ---------------- ---------------------- 160.8/390.3 MB 11.7 MB/s eta 0:00:20\n",
            "   ---------------- ---------------------- 161.4/390.3 MB 11.9 MB/s eta 0:00:20\n",
            "   ---------------- ---------------------- 161.9/390.3 MB 11.7 MB/s eta 0:00:20\n",
            "   ---------------- ---------------------- 162.5/390.3 MB 11.7 MB/s eta 0:00:20\n",
            "   ---------------- ---------------------- 163.0/390.3 MB 11.7 MB/s eta 0:00:20\n",
            "   ---------------- ---------------------- 163.5/390.3 MB 11.7 MB/s eta 0:00:20\n",
            "   ---------------- ---------------------- 164.0/390.3 MB 11.7 MB/s eta 0:00:20\n",
            "   ---------------- ---------------------- 164.6/390.3 MB 11.7 MB/s eta 0:00:20\n",
            "   ---------------- ---------------------- 165.1/390.3 MB 11.9 MB/s eta 0:00:19\n",
            "   ---------------- ---------------------- 165.7/390.3 MB 11.7 MB/s eta 0:00:20\n",
            "   ---------------- ---------------------- 166.2/390.3 MB 11.7 MB/s eta 0:00:20\n",
            "   ---------------- ---------------------- 166.7/390.3 MB 11.7 MB/s eta 0:00:20\n",
            "   ---------------- ---------------------- 167.3/390.3 MB 11.7 MB/s eta 0:00:20\n",
            "   ---------------- ---------------------- 167.8/390.3 MB 11.7 MB/s eta 0:00:20\n",
            "   ---------------- ---------------------- 168.3/390.3 MB 11.7 MB/s eta 0:00:19\n",
            "   ---------------- ---------------------- 168.9/390.3 MB 11.7 MB/s eta 0:00:19\n",
            "   ---------------- ---------------------- 169.4/390.3 MB 11.7 MB/s eta 0:00:19\n",
            "   ---------------- ---------------------- 169.9/390.3 MB 11.5 MB/s eta 0:00:20\n",
            "   ----------------- --------------------- 170.4/390.3 MB 11.5 MB/s eta 0:00:20\n",
            "   ----------------- --------------------- 170.9/390.3 MB 11.5 MB/s eta 0:00:20\n",
            "   ----------------- --------------------- 171.4/390.3 MB 11.5 MB/s eta 0:00:20\n",
            "   ----------------- --------------------- 172.0/390.3 MB 11.5 MB/s eta 0:00:19\n",
            "   ----------------- --------------------- 172.5/390.3 MB 11.5 MB/s eta 0:00:19\n",
            "   ----------------- --------------------- 172.7/390.3 MB 11.5 MB/s eta 0:00:19\n",
            "   ----------------- --------------------- 173.3/390.3 MB 11.1 MB/s eta 0:00:20\n",
            "   ----------------- --------------------- 173.8/390.3 MB 11.1 MB/s eta 0:00:20\n",
            "   ----------------- --------------------- 174.4/390.3 MB 11.1 MB/s eta 0:00:20\n",
            "   ----------------- --------------------- 174.8/390.3 MB 11.1 MB/s eta 0:00:20\n",
            "   ----------------- --------------------- 175.3/390.3 MB 10.9 MB/s eta 0:00:20\n",
            "   ----------------- --------------------- 175.8/390.3 MB 10.9 MB/s eta 0:00:20\n",
            "   ----------------- --------------------- 176.1/390.3 MB 10.9 MB/s eta 0:00:20\n",
            "   ----------------- --------------------- 176.6/390.3 MB 10.7 MB/s eta 0:00:20\n",
            "   ----------------- --------------------- 177.0/390.3 MB 10.6 MB/s eta 0:00:21\n",
            "   ----------------- --------------------- 177.0/390.3 MB 10.2 MB/s eta 0:00:21\n",
            "   ----------------- --------------------- 177.0/390.3 MB 10.1 MB/s eta 0:00:22\n",
            "   ------------------ --------------------- 177.3/390.3 MB 9.5 MB/s eta 0:00:23\n",
            "   ------------------ --------------------- 177.4/390.3 MB 9.2 MB/s eta 0:00:24\n",
            "   ------------------ --------------------- 177.5/390.3 MB 8.8 MB/s eta 0:00:25\n",
            "   ------------------ --------------------- 177.5/390.3 MB 8.7 MB/s eta 0:00:25\n",
            "   ------------------ --------------------- 177.5/390.3 MB 8.3 MB/s eta 0:00:26\n",
            "   ------------------ --------------------- 177.6/390.3 MB 8.2 MB/s eta 0:00:26\n",
            "   ------------------ --------------------- 177.6/390.3 MB 7.7 MB/s eta 0:00:28\n",
            "   ------------------ --------------------- 177.7/390.3 MB 7.4 MB/s eta 0:00:29\n",
            "   ------------------ --------------------- 177.8/390.3 MB 7.4 MB/s eta 0:00:29\n",
            "   ------------------ --------------------- 177.9/390.3 MB 7.1 MB/s eta 0:00:30\n",
            "   ------------------ --------------------- 178.0/390.3 MB 7.0 MB/s eta 0:00:31\n",
            "   ------------------ --------------------- 178.2/390.3 MB 6.7 MB/s eta 0:00:32\n",
            "   ------------------ --------------------- 178.3/390.3 MB 6.7 MB/s eta 0:00:32\n",
            "   ------------------ --------------------- 178.4/390.3 MB 6.5 MB/s eta 0:00:33\n",
            "   ------------------ --------------------- 178.5/390.3 MB 6.4 MB/s eta 0:00:34\n",
            "   ------------------ --------------------- 178.6/390.3 MB 6.2 MB/s eta 0:00:34\n",
            "   ------------------ --------------------- 178.7/390.3 MB 6.0 MB/s eta 0:00:36\n",
            "   ------------------ --------------------- 178.8/390.3 MB 5.9 MB/s eta 0:00:36\n",
            "   ------------------ --------------------- 178.9/390.3 MB 5.8 MB/s eta 0:00:37\n",
            "   ------------------ --------------------- 179.0/390.3 MB 5.7 MB/s eta 0:00:38\n",
            "   ------------------ --------------------- 179.3/390.3 MB 5.5 MB/s eta 0:00:39\n",
            "   ------------------ --------------------- 179.8/390.3 MB 5.6 MB/s eta 0:00:38\n",
            "   ------------------ --------------------- 180.3/390.3 MB 5.6 MB/s eta 0:00:38\n",
            "   ------------------ --------------------- 180.8/390.3 MB 5.5 MB/s eta 0:00:38\n",
            "   ------------------ --------------------- 181.3/390.3 MB 5.6 MB/s eta 0:00:38\n",
            "   ------------------ --------------------- 181.8/390.3 MB 5.6 MB/s eta 0:00:38\n",
            "   ------------------ --------------------- 182.3/390.3 MB 5.5 MB/s eta 0:00:38\n",
            "   ------------------ --------------------- 182.9/390.3 MB 5.6 MB/s eta 0:00:38\n",
            "   ------------------ --------------------- 183.4/390.3 MB 5.6 MB/s eta 0:00:37\n",
            "   ------------------ --------------------- 184.0/390.3 MB 5.6 MB/s eta 0:00:37\n",
            "   ------------------ --------------------- 184.5/390.3 MB 5.6 MB/s eta 0:00:37\n",
            "   ------------------ --------------------- 185.1/390.3 MB 5.7 MB/s eta 0:00:37\n",
            "   ------------------- -------------------- 185.6/390.3 MB 5.7 MB/s eta 0:00:36\n",
            "   ------------------- -------------------- 186.2/390.3 MB 5.7 MB/s eta 0:00:36\n",
            "   ------------------- -------------------- 186.7/390.3 MB 5.8 MB/s eta 0:00:36\n",
            "   ------------------- -------------------- 187.3/390.3 MB 6.2 MB/s eta 0:00:33\n",
            "   ------------------- -------------------- 187.8/390.3 MB 7.3 MB/s eta 0:00:28\n",
            "   ------------------- -------------------- 188.4/390.3 MB 8.4 MB/s eta 0:00:25\n",
            "   ------------------ -------------------- 188.9/390.3 MB 10.1 MB/s eta 0:00:20\n",
            "   ------------------ -------------------- 189.5/390.3 MB 11.5 MB/s eta 0:00:18\n",
            "   ------------------ -------------------- 190.1/390.3 MB 11.7 MB/s eta 0:00:18\n",
            "   ------------------- ------------------- 190.6/390.3 MB 11.7 MB/s eta 0:00:18\n",
            "   ------------------- ------------------- 191.2/390.3 MB 11.9 MB/s eta 0:00:17\n",
            "   ------------------- ------------------- 191.7/390.3 MB 11.9 MB/s eta 0:00:17\n",
            "   ------------------- ------------------- 192.3/390.3 MB 11.9 MB/s eta 0:00:17\n",
            "   ------------------- ------------------- 192.8/390.3 MB 11.9 MB/s eta 0:00:17\n",
            "   ------------------- ------------------- 193.4/390.3 MB 11.9 MB/s eta 0:00:17\n",
            "   ------------------- ------------------- 193.8/390.3 MB 11.7 MB/s eta 0:00:17\n",
            "   ------------------- ------------------- 194.3/390.3 MB 11.7 MB/s eta 0:00:17\n",
            "   ------------------- ------------------- 194.9/390.3 MB 11.7 MB/s eta 0:00:17\n",
            "   ------------------- ------------------- 195.4/390.3 MB 11.7 MB/s eta 0:00:17\n",
            "   ------------------- ------------------- 196.0/390.3 MB 11.7 MB/s eta 0:00:17\n",
            "   ------------------- ------------------- 196.5/390.3 MB 11.9 MB/s eta 0:00:17\n",
            "   ------------------- ------------------- 197.0/390.3 MB 11.9 MB/s eta 0:00:17\n",
            "   ------------------- ------------------- 197.6/390.3 MB 11.9 MB/s eta 0:00:17\n",
            "   ------------------- ------------------- 198.1/390.3 MB 11.7 MB/s eta 0:00:17\n",
            "   ------------------- ------------------- 198.7/390.3 MB 11.9 MB/s eta 0:00:17\n",
            "   ------------------- ------------------- 199.2/390.3 MB 11.9 MB/s eta 0:00:17\n",
            "   ------------------- ------------------- 199.8/390.3 MB 11.7 MB/s eta 0:00:17\n",
            "   -------------------- ------------------ 200.3/390.3 MB 11.7 MB/s eta 0:00:17\n",
            "   -------------------- ------------------ 200.9/390.3 MB 11.7 MB/s eta 0:00:17\n",
            "   -------------------- ------------------ 201.4/390.3 MB 11.7 MB/s eta 0:00:17\n",
            "   -------------------- ------------------ 201.9/390.3 MB 11.7 MB/s eta 0:00:17\n",
            "   -------------------- ------------------ 202.5/390.3 MB 11.7 MB/s eta 0:00:17\n",
            "   -------------------- ------------------ 203.1/390.3 MB 11.7 MB/s eta 0:00:17\n",
            "   -------------------- ------------------ 203.6/390.3 MB 11.9 MB/s eta 0:00:16\n",
            "   -------------------- ------------------ 204.2/390.3 MB 11.9 MB/s eta 0:00:16\n",
            "   -------------------- ------------------ 204.7/390.3 MB 11.7 MB/s eta 0:00:16\n",
            "   -------------------- ------------------ 205.3/390.3 MB 11.9 MB/s eta 0:00:16\n",
            "   -------------------- ------------------ 205.8/390.3 MB 11.9 MB/s eta 0:00:16\n",
            "   -------------------- ------------------ 206.3/390.3 MB 11.7 MB/s eta 0:00:16\n",
            "   -------------------- ------------------ 206.8/390.3 MB 11.7 MB/s eta 0:00:16\n",
            "   -------------------- ------------------ 207.4/390.3 MB 11.7 MB/s eta 0:00:16\n",
            "   -------------------- ------------------ 207.9/390.3 MB 11.7 MB/s eta 0:00:16\n",
            "   -------------------- ------------------ 208.5/390.3 MB 11.7 MB/s eta 0:00:16\n",
            "   -------------------- ------------------ 209.0/390.3 MB 11.7 MB/s eta 0:00:16\n",
            "   -------------------- ------------------ 209.6/390.3 MB 11.7 MB/s eta 0:00:16\n",
            "   -------------------- ------------------ 210.1/390.3 MB 11.7 MB/s eta 0:00:16\n",
            "   --------------------- ----------------- 210.7/390.3 MB 11.7 MB/s eta 0:00:16\n",
            "   --------------------- ----------------- 211.2/390.3 MB 11.7 MB/s eta 0:00:16\n",
            "   --------------------- ----------------- 211.8/390.3 MB 11.7 MB/s eta 0:00:16\n",
            "   --------------------- ----------------- 212.3/390.3 MB 11.7 MB/s eta 0:00:16\n",
            "   --------------------- ----------------- 212.8/390.3 MB 11.7 MB/s eta 0:00:16\n",
            "   --------------------- ----------------- 213.4/390.3 MB 11.7 MB/s eta 0:00:16\n",
            "   --------------------- ----------------- 213.9/390.3 MB 11.5 MB/s eta 0:00:16\n",
            "   --------------------- ----------------- 214.5/390.3 MB 11.5 MB/s eta 0:00:16\n",
            "   --------------------- ----------------- 215.0/390.3 MB 11.5 MB/s eta 0:00:16\n",
            "   --------------------- ----------------- 215.5/390.3 MB 11.5 MB/s eta 0:00:16\n",
            "   --------------------- ----------------- 216.1/390.3 MB 11.5 MB/s eta 0:00:16\n",
            "   --------------------- ----------------- 216.6/390.3 MB 11.7 MB/s eta 0:00:15\n",
            "   --------------------- ----------------- 217.1/390.3 MB 11.7 MB/s eta 0:00:15\n",
            "   --------------------- ----------------- 217.7/390.3 MB 11.7 MB/s eta 0:00:15\n",
            "   --------------------- ----------------- 218.2/390.3 MB 11.7 MB/s eta 0:00:15\n",
            "   --------------------- ----------------- 218.8/390.3 MB 11.7 MB/s eta 0:00:15\n",
            "   --------------------- ----------------- 219.3/390.3 MB 11.7 MB/s eta 0:00:15\n",
            "   --------------------- ----------------- 219.9/390.3 MB 11.7 MB/s eta 0:00:15\n",
            "   ---------------------- ---------------- 220.4/390.3 MB 11.7 MB/s eta 0:00:15\n",
            "   ---------------------- ---------------- 220.9/390.3 MB 11.7 MB/s eta 0:00:15\n",
            "   ---------------------- ---------------- 221.5/390.3 MB 11.9 MB/s eta 0:00:15\n",
            "   ---------------------- ---------------- 222.0/390.3 MB 11.7 MB/s eta 0:00:15\n",
            "   ---------------------- ---------------- 222.6/390.3 MB 11.7 MB/s eta 0:00:15\n",
            "   ---------------------- ---------------- 223.1/390.3 MB 11.7 MB/s eta 0:00:15\n",
            "   ---------------------- ---------------- 223.6/390.3 MB 11.7 MB/s eta 0:00:15\n",
            "   ---------------------- ---------------- 224.2/390.3 MB 11.7 MB/s eta 0:00:15\n",
            "   ---------------------- ---------------- 224.7/390.3 MB 11.7 MB/s eta 0:00:15\n",
            "   ---------------------- ---------------- 225.3/390.3 MB 11.7 MB/s eta 0:00:15\n",
            "   ---------------------- ---------------- 225.9/390.3 MB 11.7 MB/s eta 0:00:15\n",
            "   ---------------------- ---------------- 226.4/390.3 MB 11.7 MB/s eta 0:00:15\n",
            "   ---------------------- ---------------- 227.0/390.3 MB 11.7 MB/s eta 0:00:14\n",
            "   ---------------------- ---------------- 227.5/390.3 MB 11.7 MB/s eta 0:00:14\n",
            "   ---------------------- ---------------- 228.1/390.3 MB 11.7 MB/s eta 0:00:14\n",
            "   ---------------------- ---------------- 228.6/390.3 MB 11.7 MB/s eta 0:00:14\n",
            "   ---------------------- ---------------- 229.1/390.3 MB 11.7 MB/s eta 0:00:14\n",
            "   ---------------------- ---------------- 229.7/390.3 MB 11.7 MB/s eta 0:00:14\n",
            "   ----------------------- --------------- 230.2/390.3 MB 11.7 MB/s eta 0:00:14\n",
            "   ----------------------- --------------- 230.8/390.3 MB 11.7 MB/s eta 0:00:14\n",
            "   ----------------------- --------------- 231.3/390.3 MB 11.7 MB/s eta 0:00:14\n",
            "   ----------------------- --------------- 231.9/390.3 MB 11.7 MB/s eta 0:00:14\n",
            "   ----------------------- --------------- 232.4/390.3 MB 11.7 MB/s eta 0:00:14\n",
            "   ----------------------- --------------- 233.0/390.3 MB 11.7 MB/s eta 0:00:14\n",
            "   ----------------------- --------------- 233.6/390.3 MB 11.7 MB/s eta 0:00:14\n",
            "   ----------------------- --------------- 234.1/390.3 MB 11.7 MB/s eta 0:00:14\n",
            "   ----------------------- --------------- 234.6/390.3 MB 11.7 MB/s eta 0:00:14\n",
            "   ----------------------- --------------- 235.2/390.3 MB 11.7 MB/s eta 0:00:14\n",
            "   ----------------------- --------------- 235.7/390.3 MB 11.7 MB/s eta 0:00:14\n",
            "   ----------------------- --------------- 236.3/390.3 MB 11.7 MB/s eta 0:00:14\n",
            "   ----------------------- --------------- 236.8/390.3 MB 11.7 MB/s eta 0:00:14\n",
            "   ----------------------- --------------- 237.4/390.3 MB 11.7 MB/s eta 0:00:14\n",
            "   ----------------------- --------------- 237.9/390.3 MB 11.7 MB/s eta 0:00:14\n",
            "   ----------------------- --------------- 238.5/390.3 MB 11.7 MB/s eta 0:00:13\n",
            "   ----------------------- --------------- 239.1/390.3 MB 11.7 MB/s eta 0:00:13\n",
            "   ----------------------- --------------- 239.6/390.3 MB 11.7 MB/s eta 0:00:13\n",
            "   ------------------------ -------------- 240.2/390.3 MB 11.7 MB/s eta 0:00:13\n",
            "   ------------------------ -------------- 240.8/390.3 MB 11.9 MB/s eta 0:00:13\n",
            "   ------------------------ -------------- 241.3/390.3 MB 11.7 MB/s eta 0:00:13\n",
            "   ------------------------ -------------- 241.8/390.3 MB 11.7 MB/s eta 0:00:13\n",
            "   ------------------------ -------------- 242.4/390.3 MB 11.7 MB/s eta 0:00:13\n",
            "   ------------------------ -------------- 242.9/390.3 MB 11.7 MB/s eta 0:00:13\n",
            "   ------------------------ -------------- 243.5/390.3 MB 11.7 MB/s eta 0:00:13\n",
            "   ------------------------ -------------- 244.0/390.3 MB 11.7 MB/s eta 0:00:13\n",
            "   ------------------------ -------------- 244.6/390.3 MB 11.7 MB/s eta 0:00:13\n",
            "   ------------------------ -------------- 245.1/390.3 MB 11.7 MB/s eta 0:00:13\n",
            "   ------------------------ -------------- 245.7/390.3 MB 11.7 MB/s eta 0:00:13\n",
            "   ------------------------ -------------- 246.2/390.3 MB 11.7 MB/s eta 0:00:13\n",
            "   ------------------------ -------------- 246.7/390.3 MB 11.9 MB/s eta 0:00:13\n",
            "   ------------------------ -------------- 247.2/390.3 MB 11.9 MB/s eta 0:00:13\n",
            "   ------------------------ -------------- 247.8/390.3 MB 11.9 MB/s eta 0:00:12\n",
            "   ------------------------ -------------- 248.3/390.3 MB 11.9 MB/s eta 0:00:12\n",
            "   ------------------------ -------------- 248.9/390.3 MB 11.9 MB/s eta 0:00:12\n",
            "   ------------------------ -------------- 249.4/390.3 MB 11.9 MB/s eta 0:00:12\n",
            "   ------------------------ -------------- 250.0/390.3 MB 11.9 MB/s eta 0:00:12\n",
            "   ------------------------- ------------- 250.5/390.3 MB 11.7 MB/s eta 0:00:12\n",
            "   ------------------------- ------------- 251.1/390.3 MB 11.7 MB/s eta 0:00:12\n",
            "   ------------------------- ------------- 251.6/390.3 MB 11.9 MB/s eta 0:00:12\n",
            "   ------------------------- ------------- 252.0/390.3 MB 11.7 MB/s eta 0:00:12\n",
            "   ------------------------- ------------- 252.6/390.3 MB 11.7 MB/s eta 0:00:12\n",
            "   ------------------------- ------------- 253.1/390.3 MB 11.7 MB/s eta 0:00:12\n",
            "   ------------------------- ------------- 253.7/390.3 MB 11.7 MB/s eta 0:00:12\n",
            "   ------------------------- ------------- 254.2/390.3 MB 11.7 MB/s eta 0:00:12\n",
            "   ------------------------- ------------- 254.8/390.3 MB 11.7 MB/s eta 0:00:12\n",
            "   ------------------------- ------------- 255.3/390.3 MB 11.7 MB/s eta 0:00:12\n",
            "   ------------------------- ------------- 255.9/390.3 MB 11.7 MB/s eta 0:00:12\n",
            "   ------------------------- ------------- 256.4/390.3 MB 11.7 MB/s eta 0:00:12\n",
            "   ------------------------- ------------- 256.9/390.3 MB 11.5 MB/s eta 0:00:12\n",
            "   ------------------------- ------------- 257.5/390.3 MB 11.7 MB/s eta 0:00:12\n",
            "   ------------------------- ------------- 258.1/390.3 MB 11.7 MB/s eta 0:00:12\n",
            "   ------------------------- ------------- 258.7/390.3 MB 11.7 MB/s eta 0:00:12\n",
            "   ------------------------- ------------- 259.1/390.3 MB 11.7 MB/s eta 0:00:12\n",
            "   ------------------------- ------------- 259.7/390.3 MB 11.7 MB/s eta 0:00:12\n",
            "   -------------------------- ------------ 260.2/390.3 MB 11.7 MB/s eta 0:00:12\n",
            "   -------------------------- ------------ 260.8/390.3 MB 11.5 MB/s eta 0:00:12\n",
            "   -------------------------- ------------ 261.3/390.3 MB 11.7 MB/s eta 0:00:12\n",
            "   -------------------------- ------------ 261.9/390.3 MB 11.7 MB/s eta 0:00:11\n",
            "   -------------------------- ------------ 262.4/390.3 MB 11.7 MB/s eta 0:00:11\n",
            "   -------------------------- ------------ 263.0/390.3 MB 11.7 MB/s eta 0:00:11\n",
            "   -------------------------- ------------ 263.5/390.3 MB 11.9 MB/s eta 0:00:11\n",
            "   -------------------------- ------------ 264.0/390.3 MB 11.9 MB/s eta 0:00:11\n",
            "   -------------------------- ------------ 264.6/390.3 MB 11.9 MB/s eta 0:00:11\n",
            "   -------------------------- ------------ 265.1/390.3 MB 11.9 MB/s eta 0:00:11\n",
            "   -------------------------- ------------ 265.7/390.3 MB 11.7 MB/s eta 0:00:11\n",
            "   -------------------------- ------------ 266.2/390.3 MB 11.7 MB/s eta 0:00:11\n",
            "   -------------------------- ------------ 266.8/390.3 MB 11.9 MB/s eta 0:00:11\n",
            "   -------------------------- ------------ 267.3/390.3 MB 11.7 MB/s eta 0:00:11\n",
            "   -------------------------- ------------ 267.9/390.3 MB 11.9 MB/s eta 0:00:11\n",
            "   -------------------------- ------------ 268.3/390.3 MB 11.7 MB/s eta 0:00:11\n",
            "   -------------------------- ------------ 268.9/390.3 MB 11.7 MB/s eta 0:00:11\n",
            "   -------------------------- ------------ 269.4/390.3 MB 11.7 MB/s eta 0:00:11\n",
            "   -------------------------- ------------ 270.0/390.3 MB 11.7 MB/s eta 0:00:11\n",
            "   --------------------------- ----------- 270.5/390.3 MB 11.7 MB/s eta 0:00:11\n",
            "   --------------------------- ----------- 271.1/390.3 MB 11.7 MB/s eta 0:00:11\n",
            "   --------------------------- ----------- 271.6/390.3 MB 11.7 MB/s eta 0:00:11\n",
            "   --------------------------- ----------- 272.2/390.3 MB 11.7 MB/s eta 0:00:11\n",
            "   --------------------------- ----------- 272.8/390.3 MB 11.7 MB/s eta 0:00:11\n",
            "   --------------------------- ----------- 273.3/390.3 MB 11.7 MB/s eta 0:00:11\n",
            "   --------------------------- ----------- 273.9/390.3 MB 11.7 MB/s eta 0:00:10\n",
            "   --------------------------- ----------- 274.4/390.3 MB 11.7 MB/s eta 0:00:10\n",
            "   --------------------------- ----------- 274.9/390.3 MB 11.7 MB/s eta 0:00:10\n",
            "   --------------------------- ----------- 275.5/390.3 MB 11.7 MB/s eta 0:00:10\n",
            "   --------------------------- ----------- 276.0/390.3 MB 11.7 MB/s eta 0:00:10\n",
            "   --------------------------- ----------- 276.6/390.3 MB 11.7 MB/s eta 0:00:10\n",
            "   --------------------------- ----------- 277.1/390.3 MB 11.7 MB/s eta 0:00:10\n",
            "   --------------------------- ----------- 277.7/390.3 MB 11.9 MB/s eta 0:00:10\n",
            "   --------------------------- ----------- 278.2/390.3 MB 11.7 MB/s eta 0:00:10\n",
            "   --------------------------- ----------- 278.8/390.3 MB 11.7 MB/s eta 0:00:10\n",
            "   --------------------------- ----------- 279.3/390.3 MB 11.7 MB/s eta 0:00:10\n",
            "   --------------------------- ----------- 279.8/390.3 MB 11.7 MB/s eta 0:00:10\n",
            "   ---------------------------- ---------- 280.4/390.3 MB 11.7 MB/s eta 0:00:10\n",
            "   ---------------------------- ---------- 280.9/390.3 MB 11.7 MB/s eta 0:00:10\n",
            "   ---------------------------- ---------- 281.5/390.3 MB 11.7 MB/s eta 0:00:10\n",
            "   ---------------------------- ---------- 282.0/390.3 MB 11.7 MB/s eta 0:00:10\n",
            "   ---------------------------- ---------- 282.6/390.3 MB 11.7 MB/s eta 0:00:10\n",
            "   ---------------------------- ---------- 283.1/390.3 MB 11.7 MB/s eta 0:00:10\n",
            "   ---------------------------- ---------- 283.7/390.3 MB 11.7 MB/s eta 0:00:10\n",
            "   ---------------------------- ---------- 284.2/390.3 MB 11.7 MB/s eta 0:00:10\n",
            "   ---------------------------- ---------- 284.8/390.3 MB 11.7 MB/s eta 0:00:10\n",
            "   ---------------------------- ---------- 285.3/390.3 MB 11.7 MB/s eta 0:00:09\n",
            "   ---------------------------- ---------- 285.9/390.3 MB 11.7 MB/s eta 0:00:09\n",
            "   ---------------------------- ---------- 286.4/390.3 MB 11.7 MB/s eta 0:00:09\n",
            "   ---------------------------- ---------- 286.9/390.3 MB 11.7 MB/s eta 0:00:09\n",
            "   ---------------------------- ---------- 287.4/390.3 MB 11.7 MB/s eta 0:00:09\n",
            "   ---------------------------- ---------- 288.0/390.3 MB 11.7 MB/s eta 0:00:09\n",
            "   ---------------------------- ---------- 288.5/390.3 MB 11.7 MB/s eta 0:00:09\n",
            "   ---------------------------- ---------- 289.1/390.3 MB 11.7 MB/s eta 0:00:09\n",
            "   ---------------------------- ---------- 289.5/390.3 MB 11.7 MB/s eta 0:00:09\n",
            "   ---------------------------- ---------- 290.1/390.3 MB 11.7 MB/s eta 0:00:09\n",
            "   ----------------------------- --------- 290.6/390.3 MB 11.7 MB/s eta 0:00:09\n",
            "   ----------------------------- --------- 291.2/390.3 MB 11.7 MB/s eta 0:00:09\n",
            "   ----------------------------- --------- 291.7/390.3 MB 11.7 MB/s eta 0:00:09\n",
            "   ----------------------------- --------- 292.3/390.3 MB 11.7 MB/s eta 0:00:09\n",
            "   ----------------------------- --------- 292.8/390.3 MB 11.7 MB/s eta 0:00:09\n",
            "   ----------------------------- --------- 293.4/390.3 MB 11.7 MB/s eta 0:00:09\n",
            "   ----------------------------- --------- 293.9/390.3 MB 11.7 MB/s eta 0:00:09\n",
            "   ----------------------------- --------- 294.5/390.3 MB 11.7 MB/s eta 0:00:09\n",
            "   ----------------------------- --------- 295.0/390.3 MB 11.7 MB/s eta 0:00:09\n",
            "   ----------------------------- --------- 295.5/390.3 MB 11.7 MB/s eta 0:00:09\n",
            "   ----------------------------- --------- 296.1/390.3 MB 11.7 MB/s eta 0:00:09\n",
            "   ----------------------------- --------- 296.6/390.3 MB 11.7 MB/s eta 0:00:09\n",
            "   ----------------------------- --------- 297.2/390.3 MB 11.7 MB/s eta 0:00:08\n",
            "   ----------------------------- --------- 297.7/390.3 MB 11.7 MB/s eta 0:00:08\n",
            "   ----------------------------- --------- 298.2/390.3 MB 11.9 MB/s eta 0:00:08\n",
            "   ----------------------------- --------- 298.8/390.3 MB 11.7 MB/s eta 0:00:08\n",
            "   ----------------------------- --------- 299.4/390.3 MB 11.9 MB/s eta 0:00:08\n",
            "   ----------------------------- --------- 299.9/390.3 MB 11.9 MB/s eta 0:00:08\n",
            "   ------------------------------ -------- 300.5/390.3 MB 11.9 MB/s eta 0:00:08\n",
            "   ------------------------------ -------- 301.0/390.3 MB 11.9 MB/s eta 0:00:08\n",
            "   ------------------------------ -------- 301.6/390.3 MB 11.9 MB/s eta 0:00:08\n",
            "   ------------------------------ -------- 302.1/390.3 MB 11.9 MB/s eta 0:00:08\n",
            "   ------------------------------ -------- 302.7/390.3 MB 11.9 MB/s eta 0:00:08\n",
            "   ------------------------------ -------- 303.2/390.3 MB 11.9 MB/s eta 0:00:08\n",
            "   ------------------------------ -------- 303.7/390.3 MB 11.7 MB/s eta 0:00:08\n",
            "   ------------------------------ -------- 304.3/390.3 MB 11.9 MB/s eta 0:00:08\n",
            "   ------------------------------ -------- 304.8/390.3 MB 11.7 MB/s eta 0:00:08\n",
            "   ------------------------------ -------- 305.3/390.3 MB 11.7 MB/s eta 0:00:08\n",
            "   ------------------------------ -------- 305.9/390.3 MB 11.7 MB/s eta 0:00:08\n",
            "   ------------------------------ -------- 306.4/390.3 MB 11.7 MB/s eta 0:00:08\n",
            "   ------------------------------ -------- 307.0/390.3 MB 11.7 MB/s eta 0:00:08\n",
            "   ------------------------------ -------- 307.5/390.3 MB 11.7 MB/s eta 0:00:08\n",
            "   ------------------------------ -------- 308.1/390.3 MB 11.7 MB/s eta 0:00:08\n",
            "   ------------------------------ -------- 308.6/390.3 MB 11.7 MB/s eta 0:00:07\n",
            "   ------------------------------ -------- 309.2/390.3 MB 11.7 MB/s eta 0:00:07\n",
            "   ------------------------------ -------- 309.7/390.3 MB 11.7 MB/s eta 0:00:07\n",
            "   ------------------------------- ------- 310.3/390.3 MB 11.7 MB/s eta 0:00:07\n",
            "   ------------------------------- ------- 310.8/390.3 MB 11.7 MB/s eta 0:00:07\n",
            "   ------------------------------- ------- 311.4/390.3 MB 11.7 MB/s eta 0:00:07\n",
            "   ------------------------------- ------- 311.9/390.3 MB 11.7 MB/s eta 0:00:07\n",
            "   ------------------------------- ------- 312.5/390.3 MB 11.7 MB/s eta 0:00:07\n",
            "   ------------------------------- ------- 313.0/390.3 MB 11.7 MB/s eta 0:00:07\n",
            "   ------------------------------- ------- 313.5/390.3 MB 11.7 MB/s eta 0:00:07\n",
            "   ------------------------------- ------- 314.1/390.3 MB 11.7 MB/s eta 0:00:07\n",
            "   ------------------------------- ------- 314.7/390.3 MB 11.7 MB/s eta 0:00:07\n",
            "   ------------------------------- ------- 315.2/390.3 MB 11.7 MB/s eta 0:00:07\n",
            "   ------------------------------- ------- 315.8/390.3 MB 11.7 MB/s eta 0:00:07\n",
            "   ------------------------------- ------- 316.3/390.3 MB 11.7 MB/s eta 0:00:07\n",
            "   ------------------------------- ------- 316.8/390.3 MB 11.7 MB/s eta 0:00:07\n",
            "   ------------------------------- ------- 317.4/390.3 MB 11.7 MB/s eta 0:00:07\n",
            "   ------------------------------- ------- 317.9/390.3 MB 11.7 MB/s eta 0:00:07\n",
            "   ------------------------------- ------- 318.5/390.3 MB 11.7 MB/s eta 0:00:07\n",
            "   ------------------------------- ------- 319.0/390.3 MB 11.7 MB/s eta 0:00:07\n",
            "   ------------------------------- ------- 319.6/390.3 MB 11.7 MB/s eta 0:00:07\n",
            "   ------------------------------- ------- 320.1/390.3 MB 11.9 MB/s eta 0:00:06\n",
            "   -------------------------------- ------ 320.6/390.3 MB 11.9 MB/s eta 0:00:06\n",
            "   -------------------------------- ------ 321.2/390.3 MB 11.9 MB/s eta 0:00:06\n",
            "   -------------------------------- ------ 321.7/390.3 MB 11.9 MB/s eta 0:00:06\n",
            "   -------------------------------- ------ 322.2/390.3 MB 11.7 MB/s eta 0:00:06\n",
            "   -------------------------------- ------ 322.8/390.3 MB 11.7 MB/s eta 0:00:06\n",
            "   -------------------------------- ------ 323.3/390.3 MB 11.7 MB/s eta 0:00:06\n",
            "   -------------------------------- ------ 323.9/390.3 MB 11.7 MB/s eta 0:00:06\n",
            "   -------------------------------- ------ 324.4/390.3 MB 11.7 MB/s eta 0:00:06\n",
            "   -------------------------------- ------ 325.0/390.3 MB 11.7 MB/s eta 0:00:06\n",
            "   -------------------------------- ------ 325.5/390.3 MB 11.7 MB/s eta 0:00:06\n",
            "   -------------------------------- ------ 326.0/390.3 MB 11.7 MB/s eta 0:00:06\n",
            "   -------------------------------- ------ 326.5/390.3 MB 11.7 MB/s eta 0:00:06\n",
            "   -------------------------------- ------ 327.1/390.3 MB 11.7 MB/s eta 0:00:06\n",
            "   -------------------------------- ------ 327.7/390.3 MB 11.7 MB/s eta 0:00:06\n",
            "   -------------------------------- ------ 328.2/390.3 MB 11.7 MB/s eta 0:00:06\n",
            "   -------------------------------- ------ 328.8/390.3 MB 11.7 MB/s eta 0:00:06\n",
            "   -------------------------------- ------ 329.3/390.3 MB 11.7 MB/s eta 0:00:06\n",
            "   -------------------------------- ------ 329.5/390.3 MB 11.3 MB/s eta 0:00:06\n",
            "   -------------------------------- ------ 329.7/390.3 MB 10.9 MB/s eta 0:00:06\n",
            "   -------------------------------- ------ 329.8/390.3 MB 10.6 MB/s eta 0:00:06\n",
            "   -------------------------------- ------ 329.9/390.3 MB 10.1 MB/s eta 0:00:06\n",
            "   --------------------------------- ------ 330.0/390.3 MB 9.8 MB/s eta 0:00:07\n",
            "   --------------------------------- ------ 330.1/390.3 MB 9.4 MB/s eta 0:00:07\n",
            "   --------------------------------- ------ 330.3/390.3 MB 9.1 MB/s eta 0:00:07\n",
            "   --------------------------------- ------ 330.3/390.3 MB 9.0 MB/s eta 0:00:07\n",
            "   --------------------------------- ------ 330.4/390.3 MB 8.6 MB/s eta 0:00:07\n",
            "   --------------------------------- ------ 330.5/390.3 MB 8.3 MB/s eta 0:00:08\n",
            "   --------------------------------- ------ 330.7/390.3 MB 8.0 MB/s eta 0:00:08\n",
            "   --------------------------------- ------ 330.8/390.3 MB 7.8 MB/s eta 0:00:08\n",
            "   --------------------------------- ------ 330.9/390.3 MB 7.6 MB/s eta 0:00:08\n",
            "   --------------------------------- ------ 331.0/390.3 MB 7.4 MB/s eta 0:00:09\n",
            "   --------------------------------- ------ 331.0/390.3 MB 7.1 MB/s eta 0:00:09\n",
            "   --------------------------------- ------ 331.1/390.3 MB 7.0 MB/s eta 0:00:09\n",
            "   --------------------------------- ------ 331.2/390.3 MB 6.8 MB/s eta 0:00:09\n",
            "   --------------------------------- ------ 331.2/390.3 MB 6.6 MB/s eta 0:00:09\n",
            "   --------------------------------- ------ 331.3/390.3 MB 6.4 MB/s eta 0:00:10\n",
            "   --------------------------------- ------ 331.3/390.3 MB 6.3 MB/s eta 0:00:10\n",
            "   --------------------------------- ------ 331.4/390.3 MB 6.1 MB/s eta 0:00:10\n",
            "   --------------------------------- ------ 331.5/390.3 MB 6.0 MB/s eta 0:00:10\n",
            "   ---------------------------------- ----- 331.7/390.3 MB 5.8 MB/s eta 0:00:11\n",
            "   ---------------------------------- ----- 332.1/390.3 MB 5.8 MB/s eta 0:00:11\n",
            "   ---------------------------------- ----- 332.5/390.3 MB 5.8 MB/s eta 0:00:10\n",
            "   ---------------------------------- ----- 333.0/390.3 MB 5.8 MB/s eta 0:00:10\n",
            "   ---------------------------------- ----- 333.6/390.3 MB 5.7 MB/s eta 0:00:10\n",
            "   ---------------------------------- ----- 334.1/390.3 MB 5.8 MB/s eta 0:00:10\n",
            "   ---------------------------------- ----- 334.6/390.3 MB 5.8 MB/s eta 0:00:10\n",
            "   ---------------------------------- ----- 335.1/390.3 MB 5.7 MB/s eta 0:00:10\n",
            "   ---------------------------------- ----- 335.6/390.3 MB 5.7 MB/s eta 0:00:10\n",
            "   ---------------------------------- ----- 336.1/390.3 MB 5.7 MB/s eta 0:00:10\n",
            "   ---------------------------------- ----- 336.7/390.3 MB 5.7 MB/s eta 0:00:10\n",
            "   ---------------------------------- ----- 337.2/390.3 MB 5.7 MB/s eta 0:00:10\n",
            "   ---------------------------------- ----- 337.8/390.3 MB 5.7 MB/s eta 0:00:10\n",
            "   ---------------------------------- ----- 338.3/390.3 MB 5.7 MB/s eta 0:00:10\n",
            "   ---------------------------------- ----- 338.9/390.3 MB 5.7 MB/s eta 0:00:09\n",
            "   ---------------------------------- ----- 339.4/390.3 MB 5.7 MB/s eta 0:00:09\n",
            "   ---------------------------------- ----- 340.0/390.3 MB 6.1 MB/s eta 0:00:09\n",
            "   ---------------------------------- ----- 340.5/390.3 MB 6.8 MB/s eta 0:00:08\n",
            "   ---------------------------------- ----- 341.0/390.3 MB 7.7 MB/s eta 0:00:07\n",
            "   ---------------------------------- ---- 341.6/390.3 MB 10.1 MB/s eta 0:00:05\n",
            "   ---------------------------------- ---- 342.1/390.3 MB 11.3 MB/s eta 0:00:05\n",
            "   ---------------------------------- ---- 342.6/390.3 MB 11.7 MB/s eta 0:00:05\n",
            "   ---------------------------------- ---- 343.1/390.3 MB 11.7 MB/s eta 0:00:05\n",
            "   ---------------------------------- ---- 343.7/390.3 MB 11.7 MB/s eta 0:00:04\n",
            "   ---------------------------------- ---- 344.2/390.3 MB 11.7 MB/s eta 0:00:04\n",
            "   ---------------------------------- ---- 344.8/390.3 MB 11.7 MB/s eta 0:00:04\n",
            "   ---------------------------------- ---- 345.3/390.3 MB 11.7 MB/s eta 0:00:04\n",
            "   ---------------------------------- ---- 345.8/390.3 MB 11.7 MB/s eta 0:00:04\n",
            "   ---------------------------------- ---- 346.4/390.3 MB 11.7 MB/s eta 0:00:04\n",
            "   ---------------------------------- ---- 346.9/390.3 MB 11.7 MB/s eta 0:00:04\n",
            "   ---------------------------------- ---- 347.5/390.3 MB 11.7 MB/s eta 0:00:04\n",
            "   ---------------------------------- ---- 348.0/390.3 MB 11.7 MB/s eta 0:00:04\n",
            "   ---------------------------------- ---- 348.5/390.3 MB 11.7 MB/s eta 0:00:04\n",
            "   ---------------------------------- ---- 349.1/390.3 MB 11.7 MB/s eta 0:00:04\n",
            "   ---------------------------------- ---- 349.6/390.3 MB 11.7 MB/s eta 0:00:04\n",
            "   ---------------------------------- ---- 350.2/390.3 MB 11.7 MB/s eta 0:00:04\n",
            "   ----------------------------------- --- 350.8/390.3 MB 11.7 MB/s eta 0:00:04\n",
            "   ----------------------------------- --- 351.3/390.3 MB 11.7 MB/s eta 0:00:04\n",
            "   ----------------------------------- --- 351.9/390.3 MB 11.7 MB/s eta 0:00:04\n",
            "   ----------------------------------- --- 352.4/390.3 MB 11.7 MB/s eta 0:00:04\n",
            "   ----------------------------------- --- 353.0/390.3 MB 11.7 MB/s eta 0:00:04\n",
            "   ----------------------------------- --- 353.5/390.3 MB 11.7 MB/s eta 0:00:04\n",
            "   ----------------------------------- --- 354.0/390.3 MB 11.7 MB/s eta 0:00:04\n",
            "   ----------------------------------- --- 354.6/390.3 MB 11.7 MB/s eta 0:00:04\n",
            "   ----------------------------------- --- 355.2/390.3 MB 11.9 MB/s eta 0:00:03\n",
            "   ----------------------------------- --- 355.7/390.3 MB 11.9 MB/s eta 0:00:03\n",
            "   ----------------------------------- --- 356.3/390.3 MB 11.9 MB/s eta 0:00:03\n",
            "   ----------------------------------- --- 356.9/390.3 MB 11.9 MB/s eta 0:00:03\n",
            "   ----------------------------------- --- 357.4/390.3 MB 11.9 MB/s eta 0:00:03\n",
            "   ----------------------------------- --- 357.9/390.3 MB 11.9 MB/s eta 0:00:03\n",
            "   ----------------------------------- --- 358.4/390.3 MB 11.7 MB/s eta 0:00:03\n",
            "   ----------------------------------- --- 358.9/390.3 MB 11.7 MB/s eta 0:00:03\n",
            "   ----------------------------------- --- 359.5/390.3 MB 11.7 MB/s eta 0:00:03\n",
            "   ----------------------------------- --- 360.0/390.3 MB 11.7 MB/s eta 0:00:03\n",
            "   ------------------------------------ -- 360.6/390.3 MB 11.7 MB/s eta 0:00:03\n",
            "   ------------------------------------ -- 361.1/390.3 MB 11.7 MB/s eta 0:00:03\n",
            "   ------------------------------------ -- 361.7/390.3 MB 11.9 MB/s eta 0:00:03\n",
            "   ------------------------------------ -- 362.2/390.3 MB 11.9 MB/s eta 0:00:03\n",
            "   ------------------------------------ -- 362.8/390.3 MB 11.9 MB/s eta 0:00:03\n",
            "   ------------------------------------ -- 363.3/390.3 MB 11.9 MB/s eta 0:00:03\n",
            "   ------------------------------------ -- 363.8/390.3 MB 11.9 MB/s eta 0:00:03\n",
            "   ------------------------------------ -- 364.4/390.3 MB 11.9 MB/s eta 0:00:03\n",
            "   ------------------------------------ -- 364.9/390.3 MB 11.9 MB/s eta 0:00:03\n",
            "   ------------------------------------ -- 365.5/390.3 MB 11.9 MB/s eta 0:00:03\n",
            "   ------------------------------------ -- 366.0/390.3 MB 11.9 MB/s eta 0:00:03\n",
            "   ------------------------------------ -- 366.6/390.3 MB 11.9 MB/s eta 0:00:02\n",
            "   ------------------------------------ -- 367.1/390.3 MB 11.9 MB/s eta 0:00:02\n",
            "   ------------------------------------ -- 367.7/390.3 MB 11.9 MB/s eta 0:00:02\n",
            "   ------------------------------------ -- 368.2/390.3 MB 11.9 MB/s eta 0:00:02\n",
            "   ------------------------------------ -- 368.8/390.3 MB 11.9 MB/s eta 0:00:02\n",
            "   ------------------------------------ -- 369.3/390.3 MB 11.7 MB/s eta 0:00:02\n",
            "   ------------------------------------ -- 369.9/390.3 MB 11.9 MB/s eta 0:00:02\n",
            "   ------------------------------------- - 370.4/390.3 MB 11.9 MB/s eta 0:00:02\n",
            "   ------------------------------------- - 371.0/390.3 MB 11.9 MB/s eta 0:00:02\n",
            "   ------------------------------------- - 371.5/390.3 MB 11.9 MB/s eta 0:00:02\n",
            "   ------------------------------------- - 372.1/390.3 MB 11.9 MB/s eta 0:00:02\n",
            "   ------------------------------------- - 372.6/390.3 MB 11.9 MB/s eta 0:00:02\n",
            "   ------------------------------------- - 373.2/390.3 MB 11.7 MB/s eta 0:00:02\n",
            "   ------------------------------------- - 373.7/390.3 MB 11.7 MB/s eta 0:00:02\n",
            "   ------------------------------------- - 374.2/390.3 MB 11.9 MB/s eta 0:00:02\n",
            "   ------------------------------------- - 374.8/390.3 MB 11.7 MB/s eta 0:00:02\n",
            "   ------------------------------------- - 375.3/390.3 MB 11.7 MB/s eta 0:00:02\n",
            "   ------------------------------------- - 375.9/390.3 MB 11.9 MB/s eta 0:00:02\n",
            "   ------------------------------------- - 376.5/390.3 MB 11.7 MB/s eta 0:00:02\n",
            "   ------------------------------------- - 377.0/390.3 MB 11.7 MB/s eta 0:00:02\n",
            "   ------------------------------------- - 377.6/390.3 MB 11.9 MB/s eta 0:00:02\n",
            "   ------------------------------------- - 378.1/390.3 MB 11.7 MB/s eta 0:00:02\n",
            "   ------------------------------------- - 378.7/390.3 MB 11.7 MB/s eta 0:00:01\n",
            "   ------------------------------------- - 379.2/390.3 MB 11.7 MB/s eta 0:00:01\n",
            "   ------------------------------------- - 379.8/390.3 MB 11.7 MB/s eta 0:00:01\n",
            "   --------------------------------------  380.3/390.3 MB 11.7 MB/s eta 0:00:01\n",
            "   --------------------------------------  380.8/390.3 MB 11.7 MB/s eta 0:00:01\n",
            "   --------------------------------------  381.4/390.3 MB 11.7 MB/s eta 0:00:01\n",
            "   --------------------------------------  381.8/390.3 MB 11.9 MB/s eta 0:00:01\n",
            "   --------------------------------------  382.4/390.3 MB 11.9 MB/s eta 0:00:01\n",
            "   --------------------------------------  383.0/390.3 MB 11.9 MB/s eta 0:00:01\n",
            "   --------------------------------------  383.5/390.3 MB 11.9 MB/s eta 0:00:01\n",
            "   --------------------------------------  384.1/390.3 MB 11.9 MB/s eta 0:00:01\n",
            "   --------------------------------------  384.6/390.3 MB 11.9 MB/s eta 0:00:01\n",
            "   --------------------------------------  385.1/390.3 MB 11.7 MB/s eta 0:00:01\n",
            "   --------------------------------------  385.6/390.3 MB 11.7 MB/s eta 0:00:01\n",
            "   --------------------------------------  386.2/390.3 MB 11.7 MB/s eta 0:00:01\n",
            "   --------------------------------------  386.8/390.3 MB 11.7 MB/s eta 0:00:01\n",
            "   --------------------------------------  387.3/390.3 MB 11.7 MB/s eta 0:00:01\n",
            "   --------------------------------------  387.9/390.3 MB 11.7 MB/s eta 0:00:01\n",
            "   --------------------------------------  388.4/390.3 MB 11.7 MB/s eta 0:00:01\n",
            "   --------------------------------------  389.0/390.3 MB 11.7 MB/s eta 0:00:01\n",
            "   --------------------------------------  389.5/390.3 MB 11.7 MB/s eta 0:00:01\n",
            "   --------------------------------------  390.1/390.3 MB 11.7 MB/s eta 0:00:01\n",
            "   --------------------------------------  390.3/390.3 MB 11.7 MB/s eta 0:00:01\n",
            "   --------------------------------------  390.3/390.3 MB 11.7 MB/s eta 0:00:01\n",
            "   --------------------------------------  390.3/390.3 MB 11.7 MB/s eta 0:00:01\n",
            "   --------------------------------------  390.3/390.3 MB 11.7 MB/s eta 0:00:01\n",
            "   --------------------------------------  390.3/390.3 MB 11.7 MB/s eta 0:00:01\n",
            "   --------------------------------------  390.3/390.3 MB 11.7 MB/s eta 0:00:01\n",
            "   --------------------------------------  390.3/390.3 MB 11.7 MB/s eta 0:00:01\n",
            "   --------------------------------------  390.3/390.3 MB 11.7 MB/s eta 0:00:01\n",
            "   --------------------------------------  390.3/390.3 MB 11.7 MB/s eta 0:00:01\n",
            "   --------------------------------------  390.3/390.3 MB 11.7 MB/s eta 0:00:01\n",
            "   ---------------------------------------- 390.3/390.3 MB 7.5 MB/s eta 0:00:00\n",
            "Downloading astunparse-1.6.3-py2.py3-none-any.whl (12 kB)\n",
            "Downloading flatbuffers-25.1.24-py2.py3-none-any.whl (30 kB)\n",
            "Downloading gast-0.6.0-py3-none-any.whl (21 kB)\n",
            "Downloading google_pasta-0.2.0-py3-none-any.whl (57 kB)\n",
            "   ---------------------------------------- 0.0/57.5 kB ? eta -:--:--\n",
            "   ---------------------------------------- 57.5/57.5 kB ? eta 0:00:00\n",
            "Downloading grpcio-1.70.0-cp312-cp312-win_amd64.whl (4.3 MB)\n",
            "   ---------------------------------------- 0.0/4.3 MB ? eta -:--:--\n",
            "   ---- ----------------------------------- 0.4/4.3 MB 13.5 MB/s eta 0:00:01\n",
            "   -------- ------------------------------- 1.0/4.3 MB 12.1 MB/s eta 0:00:01\n",
            "   ------------- -------------------------- 1.5/4.3 MB 11.9 MB/s eta 0:00:01\n",
            "   ------------------ --------------------- 2.0/4.3 MB 11.5 MB/s eta 0:00:01\n",
            "   ----------------------- ---------------- 2.5/4.3 MB 11.4 MB/s eta 0:00:01\n",
            "   ---------------------------- ----------- 3.0/4.3 MB 11.4 MB/s eta 0:00:01\n",
            "   --------------------------------- ------ 3.6/4.3 MB 11.5 MB/s eta 0:00:01\n",
            "   -------------------------------------- - 4.1/4.3 MB 11.5 MB/s eta 0:00:01\n",
            "   ---------------------------------------- 4.3/4.3 MB 11.4 MB/s eta 0:00:00\n",
            "Downloading libclang-18.1.1-py2.py3-none-win_amd64.whl (26.4 MB)\n",
            "   ---------------------------------------- 0.0/26.4 MB ? eta -:--:--\n",
            "    --------------------------------------- 0.6/26.4 MB 12.6 MB/s eta 0:00:03\n",
            "   - -------------------------------------- 1.1/26.4 MB 12.2 MB/s eta 0:00:03\n",
            "   -- ------------------------------------- 1.7/26.4 MB 11.9 MB/s eta 0:00:03\n",
            "   --- ------------------------------------ 2.2/26.4 MB 11.9 MB/s eta 0:00:03\n",
            "   ---- ----------------------------------- 2.8/26.4 MB 11.9 MB/s eta 0:00:02\n",
            "   ----- ---------------------------------- 3.3/26.4 MB 11.8 MB/s eta 0:00:02\n",
            "   ----- ---------------------------------- 3.9/26.4 MB 11.8 MB/s eta 0:00:02\n",
            "   ------ --------------------------------- 4.4/26.4 MB 11.8 MB/s eta 0:00:02\n",
            "   ------- -------------------------------- 4.9/26.4 MB 11.7 MB/s eta 0:00:02\n",
            "   -------- ------------------------------- 5.5/26.4 MB 11.7 MB/s eta 0:00:02\n",
            "   --------- ------------------------------ 6.0/26.4 MB 11.7 MB/s eta 0:00:02\n",
            "   --------- ------------------------------ 6.6/26.4 MB 11.7 MB/s eta 0:00:02\n",
            "   ---------- ----------------------------- 7.1/26.4 MB 11.7 MB/s eta 0:00:02\n",
            "   ----------- ---------------------------- 7.6/26.4 MB 11.6 MB/s eta 0:00:02\n",
            "   ------------ --------------------------- 8.2/26.4 MB 11.7 MB/s eta 0:00:02\n",
            "   ------------- -------------------------- 8.7/26.4 MB 11.9 MB/s eta 0:00:02\n",
            "   -------------- ------------------------- 9.3/26.4 MB 11.9 MB/s eta 0:00:02\n",
            "   -------------- ------------------------- 9.8/26.4 MB 11.9 MB/s eta 0:00:02\n",
            "   --------------- ------------------------ 10.4/26.4 MB 11.7 MB/s eta 0:00:02\n",
            "   ---------------- ----------------------- 10.9/26.4 MB 11.7 MB/s eta 0:00:02\n",
            "   ----------------- ---------------------- 11.5/26.4 MB 11.7 MB/s eta 0:00:02\n",
            "   ------------------ --------------------- 12.0/26.4 MB 11.7 MB/s eta 0:00:02\n",
            "   ------------------- -------------------- 12.6/26.4 MB 11.7 MB/s eta 0:00:02\n",
            "   ------------------- -------------------- 12.9/26.4 MB 11.5 MB/s eta 0:00:02\n",
            "   ------------------- -------------------- 13.0/26.4 MB 11.1 MB/s eta 0:00:02\n",
            "   -------------------- ------------------- 13.5/26.4 MB 10.9 MB/s eta 0:00:02\n",
            "   --------------------- ------------------ 14.0/26.4 MB 10.9 MB/s eta 0:00:02\n",
            "   ---------------------- ----------------- 14.6/26.4 MB 10.9 MB/s eta 0:00:02\n",
            "   ---------------------- ----------------- 15.1/26.4 MB 10.9 MB/s eta 0:00:02\n",
            "   ----------------------- ---------------- 15.7/26.4 MB 10.9 MB/s eta 0:00:01\n",
            "   ------------------------ --------------- 16.2/26.4 MB 10.9 MB/s eta 0:00:01\n",
            "   ------------------------- -------------- 16.8/26.4 MB 10.9 MB/s eta 0:00:01\n",
            "   -------------------------- ------------- 17.3/26.4 MB 10.9 MB/s eta 0:00:01\n",
            "   --------------------------- ------------ 17.8/26.4 MB 10.9 MB/s eta 0:00:01\n",
            "   --------------------------- ------------ 18.4/26.4 MB 10.9 MB/s eta 0:00:01\n",
            "   ---------------------------- ----------- 18.9/26.4 MB 10.9 MB/s eta 0:00:01\n",
            "   ----------------------------- ---------- 19.5/26.4 MB 10.9 MB/s eta 0:00:01\n",
            "   ------------------------------ --------- 20.0/26.4 MB 10.9 MB/s eta 0:00:01\n",
            "   ------------------------------- -------- 20.6/26.4 MB 10.9 MB/s eta 0:00:01\n",
            "   ------------------------------- -------- 21.0/26.4 MB 10.9 MB/s eta 0:00:01\n",
            "   -------------------------------- ------- 21.5/26.4 MB 10.9 MB/s eta 0:00:01\n",
            "   --------------------------------- ------ 22.1/26.4 MB 10.9 MB/s eta 0:00:01\n",
            "   ---------------------------------- ----- 22.6/26.4 MB 10.9 MB/s eta 0:00:01\n",
            "   ----------------------------------- ---- 23.2/26.4 MB 11.5 MB/s eta 0:00:01\n",
            "   ----------------------------------- ---- 23.7/26.4 MB 11.7 MB/s eta 0:00:01\n",
            "   ------------------------------------ --- 24.3/26.4 MB 11.7 MB/s eta 0:00:01\n",
            "   ------------------------------------- -- 24.8/26.4 MB 11.7 MB/s eta 0:00:01\n",
            "   -------------------------------------- - 25.4/26.4 MB 11.7 MB/s eta 0:00:01\n",
            "   ---------------------------------------  25.9/26.4 MB 11.7 MB/s eta 0:00:01\n",
            "   ---------------------------------------  26.4/26.4 MB 11.9 MB/s eta 0:00:01\n",
            "   ---------------------------------------- 26.4/26.4 MB 11.3 MB/s eta 0:00:00\n",
            "Downloading ml_dtypes-0.4.1-cp312-cp312-win_amd64.whl (127 kB)\n",
            "   ---------------------------------------- 0.0/127.5 kB ? eta -:--:--\n",
            "   ---------------------------------------- 127.5/127.5 kB 3.7 MB/s eta 0:00:00\n",
            "Downloading opt_einsum-3.4.0-py3-none-any.whl (71 kB)\n",
            "   ---------------------------------------- 0.0/71.9 kB ? eta -:--:--\n",
            "   ---------------------------------------- 71.9/71.9 kB 4.1 MB/s eta 0:00:00\n",
            "Downloading tensorboard-2.18.0-py3-none-any.whl (5.5 MB)\n",
            "   ---------------------------------------- 0.0/5.5 MB ? eta -:--:--\n",
            "   --- ------------------------------------ 0.5/5.5 MB 9.8 MB/s eta 0:00:01\n",
            "   ------- -------------------------------- 1.0/5.5 MB 10.7 MB/s eta 0:00:01\n",
            "   ----------- ---------------------------- 1.6/5.5 MB 11.0 MB/s eta 0:00:01\n",
            "   --------------- ------------------------ 2.1/5.5 MB 12.1 MB/s eta 0:00:01\n",
            "   ------------------- -------------------- 2.7/5.5 MB 11.2 MB/s eta 0:00:01\n",
            "   ----------------------- ---------------- 3.2/5.5 MB 12.0 MB/s eta 0:00:01\n",
            "   --------------------------- ------------ 3.7/5.5 MB 11.9 MB/s eta 0:00:01\n",
            "   ------------------------------- -------- 4.3/5.5 MB 11.9 MB/s eta 0:00:01\n",
            "   ----------------------------------- ---- 4.8/5.5 MB 11.9 MB/s eta 0:00:01\n",
            "   ---------------------------------------  5.4/5.5 MB 11.8 MB/s eta 0:00:01\n",
            "   ---------------------------------------- 5.5/5.5 MB 11.3 MB/s eta 0:00:00\n",
            "Downloading tensorboard_data_server-0.7.2-py3-none-any.whl (2.4 kB)\n",
            "Installing collected packages: libclang, flatbuffers, tensorboard-data-server, opt-einsum, ml-dtypes, grpcio, google-pasta, gast, astunparse, tensorboard, tensorflow-intel, tensorflow\n",
            "  Attempting uninstall: ml-dtypes\n",
            "    Found existing installation: ml_dtypes 0.5.1\n",
            "    Uninstalling ml_dtypes-0.5.1:\n",
            "      Successfully uninstalled ml_dtypes-0.5.1\n",
            "Successfully installed astunparse-1.6.3 flatbuffers-25.1.24 gast-0.6.0 google-pasta-0.2.0 grpcio-1.70.0 libclang-18.1.1 ml-dtypes-0.4.1 opt-einsum-3.4.0 tensorboard-2.18.0 tensorboard-data-server-0.7.2 tensorflow-2.18.0 tensorflow-intel-2.18.0\n"
          ]
        }
      ],
      "source": [
        "!pip install tensorflow"
      ]
    },
    {
      "cell_type": "code",
      "execution_count": null,
      "metadata": {
        "id": "Cp9BPRd1tMIo",
        "outputId": "d60def97-3839-4c8f-caed-24b63b0164ba"
      },
      "outputs": [
        {
          "name": "stdout",
          "output_type": "stream",
          "text": [
            "\n",
            "Padding/truncating all sentences to 64 values...\n",
            "\n",
            "Padding token: \"[PAD]\", ID: 0\n",
            "\n",
            "Done.\n"
          ]
        }
      ],
      "source": [
        "# We'll borrow the `pad_sequences` utility function to do this.\n",
        "from keras.preprocessing.sequence import pad_sequences\n",
        "\n",
        "# Set the maximum sequence length.\n",
        "# I've chosen 64 somewhat arbitrarily. It's slightly larger than the\n",
        "# maximum training sentence length of 47...\n",
        "MAX_LEN = 64\n",
        "\n",
        "print('\\nPadding/truncating all sentences to %d values...' % MAX_LEN)\n",
        "\n",
        "print('\\nPadding token: \"{:}\", ID: {:}'.format(tokenizer.pad_token, tokenizer.pad_token_id))\n",
        "\n",
        "# Pad our input tokens with value 0.\n",
        "# \"post\" indicates that we want to pad and truncate at the end of the sequence,\n",
        "# as opposed to the beginning.\n",
        "input_ids = pad_sequences(input_ids, maxlen=MAX_LEN, dtype=\"long\",\n",
        "                          value=0, truncating=\"post\", padding=\"post\")\n",
        "\n",
        "print('\\nDone.')"
      ]
    },
    {
      "cell_type": "markdown",
      "metadata": {
        "id": "kDs-MYtYH8sL"
      },
      "source": [
        "## 3.4. Attention Masks"
      ]
    },
    {
      "cell_type": "markdown",
      "metadata": {
        "id": "KhGulL1pExCT"
      },
      "source": [
        "어텐션 마스크는 어떤 토큰이 실제 단어인지, 어떤 토큰이 패딩인지를 명확하게 보여줍니다.\n",
        "\n",
        "BERT 어휘는 ID 0을 사용하지 않으므로 토큰 ID가 0이면 패딩이고 그렇지 않으면 실제 토큰입니다."
      ]
    },
    {
      "cell_type": "code",
      "execution_count": null,
      "metadata": {
        "id": "cDoC24LeEv3N"
      },
      "outputs": [],
      "source": [
        "# Create attention masks\n",
        "attention_masks = []\n",
        "\n",
        "# For each sentence...\n",
        "for sent in input_ids:\n",
        "\n",
        "    # Create the attention mask.\n",
        "    #   - If a token ID is 0, then it's padding, set the mask to 0.\n",
        "    #   - If a token ID is > 0, then it's a real token, set the mask to 1.\n",
        "    att_mask = [int(token_id > 0) for token_id in sent]\n",
        "\n",
        "    # Store the attention mask for this sentence.\n",
        "    attention_masks.append(att_mask)"
      ]
    },
    {
      "cell_type": "markdown",
      "metadata": {
        "id": "aRp4O7D295d_"
      },
      "source": [
        "## 3.5. Training & Validation Split\n"
      ]
    },
    {
      "cell_type": "markdown",
      "metadata": {
        "id": "qu0ao7p8rb06"
      },
      "source": [
        "train/test를 분리합니다."
      ]
    },
    {
      "cell_type": "code",
      "execution_count": null,
      "metadata": {
        "id": "aFbE-UHvsb7-"
      },
      "outputs": [],
      "source": [
        "# Use train_test_split to split our data into train and validation sets for\n",
        "# training\n",
        "from sklearn.model_selection import train_test_split\n",
        "\n",
        "# Use 90% for training and 10% for validation.\n",
        "train_inputs, validation_inputs, train_labels, validation_labels = train_test_split(input_ids, labels,\n",
        "                                                            random_state=2018, test_size=0.1)\n",
        "# Do the same for the masks.\n",
        "train_masks, validation_masks, _, _ = train_test_split(attention_masks, labels,\n",
        "                                             random_state=2018, test_size=0.1)"
      ]
    },
    {
      "cell_type": "markdown",
      "metadata": {
        "id": "7LzSbTqW9_BR"
      },
      "source": [
        "## 3.6. Converting to PyTorch Data Types"
      ]
    },
    {
      "cell_type": "markdown",
      "metadata": {
        "id": "6p1uXczp-Je4"
      },
      "source": [
        "우리 모델은 numpy.ndarrays 대신 PyTorch 텐서를 사용합니다."
      ]
    },
    {
      "cell_type": "code",
      "execution_count": null,
      "metadata": {
        "id": "jw5K2A5Ko1RF"
      },
      "outputs": [],
      "source": [
        "# Convert all inputs and labels into torch tensors, the required datatype\n",
        "# for our model.\n",
        "train_inputs = torch.tensor(train_inputs)\n",
        "validation_inputs = torch.tensor(validation_inputs)\n",
        "\n",
        "train_labels = torch.tensor(train_labels)\n",
        "validation_labels = torch.tensor(validation_labels)\n",
        "\n",
        "train_masks = torch.tensor(train_masks)\n",
        "validation_masks = torch.tensor(validation_masks)"
      ]
    },
    {
      "cell_type": "markdown",
      "metadata": {
        "id": "dD9i6Z2pG-sN"
      },
      "source": [
        "또한 토치 DataLoader 클래스를 사용하여 데이터세트에 대한 반복자를 생성합니다. 이는 for 루프와 달리 반복자를 사용하면 전체 데이터세트를 메모리에 로드할 필요가 없기 때문에 훈련 중에 메모리를 절약하는 데 도움이 됩니다."
      ]
    },
    {
      "cell_type": "code",
      "execution_count": null,
      "metadata": {
        "id": "GEgLpFVlo1Z-"
      },
      "outputs": [],
      "source": [
        "from torch.utils.data import TensorDataset, DataLoader, RandomSampler, SequentialSampler\n",
        "\n",
        "# The DataLoader needs to know our batch size for training, so we specify it\n",
        "# here.\n",
        "# For fine-tuning BERT on a specific task, the authors recommend a batch size of\n",
        "# 16 or 32.\n",
        "\n",
        "batch_size = 32\n",
        "\n",
        "# Create the DataLoader for our training set.\n",
        "train_data = TensorDataset(train_inputs, train_masks, train_labels)\n",
        "train_sampler = RandomSampler(train_data)\n",
        "train_dataloader = DataLoader(train_data, sampler=train_sampler, batch_size=batch_size)\n",
        "\n",
        "# Create the DataLoader for our validation set.\n",
        "validation_data = TensorDataset(validation_inputs, validation_masks, validation_labels)\n",
        "validation_sampler = SequentialSampler(validation_data)\n",
        "validation_dataloader = DataLoader(validation_data, sampler=validation_sampler, batch_size=batch_size)\n"
      ]
    },
    {
      "cell_type": "markdown",
      "metadata": {
        "id": "8bwa6Rts-02-"
      },
      "source": [
        "# 4. Train Our Classification Model"
      ]
    },
    {
      "cell_type": "markdown",
      "metadata": {
        "id": "D6TKgyUzPIQc"
      },
      "source": [
        "## 4.1. BertForSequenceClassification"
      ]
    },
    {
      "cell_type": "markdown",
      "metadata": {
        "id": "1sjzRT1V0zwm"
      },
      "source": [
        "이 작업을 위해 먼저 사전 훈련된 BERT 모델을 수정하여 분류를 위한 출력을 제공한 다음 전체 모델이 엔드투엔드에 적합할 때까지 데이터 세트에서 모델을 계속 훈련하려고 합니다.\n",
        "\n",
        "현재 미세 조정을 위해 Huggingface에서 제공되는 클래스 목록은 다음과 같습니다.\n",
        "* BertModel\n",
        "* BertForPreTraining\n",
        "* BertForMaskedLM\n",
        "* BertForNextSentence예측\n",
        "* **BertForSequenceClassification** -> 우리가 사용할 것입니다.\n",
        "* BertForTokenClassification\n",
        "* BertForQuestionAnswering\n",
        "\n",
        "이에 대한 문서는 [여기](https://huggingface.co/transformers/v2.2.0/model_doc/bert.html)에서 찾을 수 있습니다."
      ]
    },
    {
      "cell_type": "markdown",
      "metadata": {
        "id": "BXYitPoE-cjH"
      },
      "source": [
        "우리는 [BertForSequenceClassification](https://huggingface.co/transformers/v2.2.0/model_doc/bert.html#bertforsequenceclassification)을 사용할 것입니다. 이것은 문장 분류기로 사용할 분류를 위해 상단에 단일 선형 레이어가 추가된 일반 BERT 모델입니다. 입력 데이터를 제공하면 사전 훈련된 전체 BERT 모델과 훈련되지 않은 추가 분류 계층이 특정 작업에 대해 훈련됩니다."
      ]
    },
    {
      "cell_type": "markdown",
      "metadata": {
        "id": "WnQW9E-bBCRt"
      },
      "source": [
        "`from_pretrained` 에 대한 문서는 [여기](https://huggingface.co/transformers/v2.2.0/main_classes/model.html#transformers.PreTrainedModel.from_pretrained)에 있습니다.\n",
        "추가적인 parameter는 [여기](https://huggingface.co/transformers/v2.2.0/main_classes/configuration.html#transformers.PretrainedConfig)에 있습니다."
      ]
    },
    {
      "cell_type": "code",
      "execution_count": null,
      "metadata": {
        "id": "gFsCTp_mporB",
        "outputId": "67f2072a-dc75-45cf-f790-5f6e0b74597e",
        "colab": {
          "referenced_widgets": [
            "260cc06f97ec47719bb0c1b5e631b6b2"
          ]
        }
      },
      "outputs": [
        {
          "data": {
            "application/vnd.jupyter.widget-view+json": {
              "model_id": "260cc06f97ec47719bb0c1b5e631b6b2",
              "version_major": 2,
              "version_minor": 0
            },
            "text/plain": [
              "model.safetensors:   0%|          | 0.00/440M [00:00<?, ?B/s]"
            ]
          },
          "metadata": {},
          "output_type": "display_data"
        },
        {
          "name": "stderr",
          "output_type": "stream",
          "text": [
            "Some weights of BertForSequenceClassification were not initialized from the model checkpoint at bert-base-uncased and are newly initialized: ['classifier.bias', 'classifier.weight']\n",
            "You should probably TRAIN this model on a down-stream task to be able to use it for predictions and inference.\n"
          ]
        },
        {
          "data": {
            "text/plain": [
              "BertForSequenceClassification(\n",
              "  (bert): BertModel(\n",
              "    (embeddings): BertEmbeddings(\n",
              "      (word_embeddings): Embedding(30522, 768, padding_idx=0)\n",
              "      (position_embeddings): Embedding(512, 768)\n",
              "      (token_type_embeddings): Embedding(2, 768)\n",
              "      (LayerNorm): LayerNorm((768,), eps=1e-12, elementwise_affine=True)\n",
              "      (dropout): Dropout(p=0.1, inplace=False)\n",
              "    )\n",
              "    (encoder): BertEncoder(\n",
              "      (layer): ModuleList(\n",
              "        (0-11): 12 x BertLayer(\n",
              "          (attention): BertAttention(\n",
              "            (self): BertSdpaSelfAttention(\n",
              "              (query): Linear(in_features=768, out_features=768, bias=True)\n",
              "              (key): Linear(in_features=768, out_features=768, bias=True)\n",
              "              (value): Linear(in_features=768, out_features=768, bias=True)\n",
              "              (dropout): Dropout(p=0.1, inplace=False)\n",
              "            )\n",
              "            (output): BertSelfOutput(\n",
              "              (dense): Linear(in_features=768, out_features=768, bias=True)\n",
              "              (LayerNorm): LayerNorm((768,), eps=1e-12, elementwise_affine=True)\n",
              "              (dropout): Dropout(p=0.1, inplace=False)\n",
              "            )\n",
              "          )\n",
              "          (intermediate): BertIntermediate(\n",
              "            (dense): Linear(in_features=768, out_features=3072, bias=True)\n",
              "            (intermediate_act_fn): GELUActivation()\n",
              "          )\n",
              "          (output): BertOutput(\n",
              "            (dense): Linear(in_features=3072, out_features=768, bias=True)\n",
              "            (LayerNorm): LayerNorm((768,), eps=1e-12, elementwise_affine=True)\n",
              "            (dropout): Dropout(p=0.1, inplace=False)\n",
              "          )\n",
              "        )\n",
              "      )\n",
              "    )\n",
              "    (pooler): BertPooler(\n",
              "      (dense): Linear(in_features=768, out_features=768, bias=True)\n",
              "      (activation): Tanh()\n",
              "    )\n",
              "  )\n",
              "  (dropout): Dropout(p=0.1, inplace=False)\n",
              "  (classifier): Linear(in_features=768, out_features=2, bias=True)\n",
              ")"
            ]
          },
          "execution_count": 27,
          "metadata": {},
          "output_type": "execute_result"
        }
      ],
      "source": [
        "from transformers import BertForSequenceClassification, AdamW, BertConfig\n",
        "\n",
        "# Load BertForSequenceClassification, the pretrained BERT model with a single\n",
        "# linear classification layer on top.\n",
        "model = BertForSequenceClassification.from_pretrained(\n",
        "    \"bert-base-uncased\", # Use the 12-layer BERT model, with an uncased vocab.\n",
        "    num_labels = 2, # The number of output labels--2 for binary classification.\n",
        "                    # You can increase this for multi-class tasks.\n",
        "    output_attentions = False, # Whether the model returns attentions weights.\n",
        "    output_hidden_states = False, # Whether the model returns all hidden-states.\n",
        ")\n",
        "\n",
        "# Tell pytorch to run this model on the GPU.\n",
        "model.cuda()"
      ]
    },
    {
      "cell_type": "code",
      "execution_count": null,
      "metadata": {
        "id": "8PIiVlDYCtSq",
        "outputId": "bf92aef4-7ce0-4923-d744-8c38ba8217c8"
      },
      "outputs": [
        {
          "name": "stdout",
          "output_type": "stream",
          "text": [
            "The BERT model has 201 different named parameters.\n",
            "\n",
            "==== Embedding Layer ====\n",
            "\n",
            "bert.embeddings.word_embeddings.weight                  (30522, 768)\n",
            "bert.embeddings.position_embeddings.weight                (512, 768)\n",
            "bert.embeddings.token_type_embeddings.weight                (2, 768)\n",
            "bert.embeddings.LayerNorm.weight                              (768,)\n",
            "bert.embeddings.LayerNorm.bias                                (768,)\n",
            "\n",
            "==== First Transformer ====\n",
            "\n",
            "bert.encoder.layer.0.attention.self.query.weight          (768, 768)\n",
            "bert.encoder.layer.0.attention.self.query.bias                (768,)\n",
            "bert.encoder.layer.0.attention.self.key.weight            (768, 768)\n",
            "bert.encoder.layer.0.attention.self.key.bias                  (768,)\n",
            "bert.encoder.layer.0.attention.self.value.weight          (768, 768)\n",
            "bert.encoder.layer.0.attention.self.value.bias                (768,)\n",
            "bert.encoder.layer.0.attention.output.dense.weight        (768, 768)\n",
            "bert.encoder.layer.0.attention.output.dense.bias              (768,)\n",
            "bert.encoder.layer.0.attention.output.LayerNorm.weight        (768,)\n",
            "bert.encoder.layer.0.attention.output.LayerNorm.bias          (768,)\n",
            "bert.encoder.layer.0.intermediate.dense.weight           (3072, 768)\n",
            "bert.encoder.layer.0.intermediate.dense.bias                 (3072,)\n",
            "bert.encoder.layer.0.output.dense.weight                 (768, 3072)\n",
            "bert.encoder.layer.0.output.dense.bias                        (768,)\n",
            "bert.encoder.layer.0.output.LayerNorm.weight                  (768,)\n",
            "bert.encoder.layer.0.output.LayerNorm.bias                    (768,)\n",
            "\n",
            "==== Output Layer ====\n",
            "\n",
            "bert.pooler.dense.weight                                  (768, 768)\n",
            "bert.pooler.dense.bias                                        (768,)\n",
            "classifier.weight                                           (2, 768)\n",
            "classifier.bias                                                 (2,)\n"
          ]
        }
      ],
      "source": [
        "# Get all of the model's parameters as a list of tuples.\n",
        "params = list(model.named_parameters())\n",
        "\n",
        "print('The BERT model has {:} different named parameters.\\n'.format(len(params)))\n",
        "\n",
        "print('==== Embedding Layer ====\\n')\n",
        "\n",
        "for p in params[0:5]:\n",
        "    print(\"{:<55} {:>12}\".format(p[0], str(tuple(p[1].size()))))\n",
        "\n",
        "print('\\n==== First Transformer ====\\n')\n",
        "\n",
        "for p in params[5:21]:\n",
        "    print(\"{:<55} {:>12}\".format(p[0], str(tuple(p[1].size()))))\n",
        "\n",
        "print('\\n==== Output Layer ====\\n')\n",
        "\n",
        "for p in params[-4:]:\n",
        "    print(\"{:<55} {:>12}\".format(p[0], str(tuple(p[1].size()))))"
      ]
    },
    {
      "cell_type": "markdown",
      "metadata": {
        "id": "qRWT-D4U_Pvx"
      },
      "source": [
        "## 4.2. Optimizer & Learning Rate Scheduler"
      ]
    },
    {
      "cell_type": "markdown",
      "metadata": {
        "id": "8o-VEBobKwHk"
      },
      "source": [
        "이제 모델을 로드했으므로 저장된 모델 내에서 훈련 하이퍼파라미터를 가져와야 합니다.\n",
        "\n",
        "미세 조정을 위해 저자는 다음 값 중에서 선택할 것을 권장합니다.\n",
        "- batch size: 16, 32(DataLoader를 생성할 때 32를 선택했습니다).\n",
        "- learning rate(Adam): 5e-5, 3e-5, 2e-5(여기에서는 2e-5를 사용하겠습니다).\n",
        "- epochs: 2, 3, 4(여기에서는 4를 사용합니다).\n",
        "\n",
        "엡실론 매개변수 `eps = 1e-8`은 \"구현 시 0으로 나누는 것을 방지하기 위한 매우 작은 숫자\"입니다([여기](https://machinelearningmastery.com/adam-optimization-algorithm-for-deep-learning/)).\n",
        "\n",
        "'run_glue.py' [여기](https://github.com/huggingface/transformers/blob/5bfcd0485ece086ebcbed2d008813037968a9e58/examples/run_glue.py#L109)에서 AdamW 최적화 프로그램 생성을 찾을 수 있습니다."
      ]
    },
    {
      "cell_type": "code",
      "execution_count": null,
      "metadata": {
        "id": "GLs72DuMODJO",
        "outputId": "7d9f4469-38ed-4ce5-b808-24b90d0fa0ee"
      },
      "outputs": [
        {
          "name": "stderr",
          "output_type": "stream",
          "text": [
            "c:\\Users\\User\\anaconda3\\Lib\\site-packages\\transformers\\optimization.py:591: FutureWarning: This implementation of AdamW is deprecated and will be removed in a future version. Use the PyTorch implementation torch.optim.AdamW instead, or set `no_deprecation_warning=True` to disable this warning\n",
            "  warnings.warn(\n"
          ]
        }
      ],
      "source": [
        "# Note: AdamW is a class from the huggingface library (as opposed to pytorch)\n",
        "# I believe the 'W' stands for 'Weight Decay fix\"\n",
        "optimizer = AdamW(model.parameters(),\n",
        "                  lr = 2e-5, # args.learning_rate - default is 5e-5, our notebook had 2e-5\n",
        "                  eps = 1e-8 # args.adam_epsilon  - default is 1e-8.\n",
        "                )\n"
      ]
    },
    {
      "cell_type": "code",
      "execution_count": null,
      "metadata": {
        "id": "-p0upAhhRiIx"
      },
      "outputs": [],
      "source": [
        "from transformers import get_linear_schedule_with_warmup\n",
        "\n",
        "# Number of training epochs (authors recommend between 2 and 4)\n",
        "epochs = 4\n",
        "\n",
        "# Total number of training steps is number of batches * number of epochs.\n",
        "total_steps = len(train_dataloader) * epochs\n",
        "\n",
        "# Create the learning rate scheduler.\n",
        "scheduler = get_linear_schedule_with_warmup(optimizer,\n",
        "                                            num_warmup_steps = 0, # Default value in run_glue.py\n",
        "                                            num_training_steps = total_steps)"
      ]
    },
    {
      "cell_type": "markdown",
      "metadata": {
        "id": "RqfmWwUR_Sox"
      },
      "source": [
        "## 4.3. Training Loop"
      ]
    },
    {
      "cell_type": "markdown",
      "metadata": {
        "id": "_QXZhFb4LnV5"
      },
      "source": [
        "다음은 훈련 루프입니다. 많은 일이 진행되고 있지만 기본적으로 루프의 각 패스에는 트라이닝 단계와 검증 단계가 있습니다. 각 패스에서 우리는 다음을 수행해야 합니다.\n",
        "\n",
        "훈련 루프:\n",
        "- 데이터 입력 및 라벨 압축 풀기\n",
        "- 가속을 위해 GPU에 데이터 로드\n",
        "- 이전 단계에서 계산된 그래디언트를 지웁니다.\n",
        "     - pytorch에서는 명시적으로 지우지 않는 한 기본적으로 그래디언트가 누적됩니다(RNN과 같은 작업에 유용함).\n",
        "- 순방향 패스(네트워크를 통해 입력 데이터 공급)\n",
        "- 역방향 전달(역전파)\n",
        "- 네트워크에 Optimizer.step()을 사용하여 매개변수를 업데이트하도록 지시합니다.\n",
        "- 진행상황 모니터링을 위한 변수 추적\n",
        "\n",
        "평가 루프:\n",
        "- 데이터 입력 및 라벨 압축 풀기\n",
        "- 가속을 위해 GPU에 데이터 로드\n",
        "- 순방향 패스(네트워크를 통해 입력 데이터 공급)\n",
        "- 검증 데이터의 손실을 계산하고 진행 상황을 모니터링하기 위한 변수를 추적합니다.\n"
      ]
    },
    {
      "cell_type": "code",
      "execution_count": null,
      "metadata": {
        "id": "9cQNvaZ9bnyy"
      },
      "outputs": [],
      "source": [
        "import numpy as np\n",
        "\n",
        "# Function to calculate the accuracy of our predictions vs labels\n",
        "def flat_accuracy(preds, labels):\n",
        "    pred_flat = np.argmax(preds, axis=1).flatten()\n",
        "    labels_flat = labels.flatten()\n",
        "    return np.sum(pred_flat == labels_flat) / len(labels_flat)"
      ]
    },
    {
      "cell_type": "code",
      "execution_count": null,
      "metadata": {
        "id": "gpt6tR83keZD"
      },
      "outputs": [],
      "source": [
        "import time\n",
        "import datetime\n",
        "\n",
        "def format_time(elapsed):\n",
        "    '''\n",
        "    Takes a time in seconds and returns a string hh:mm:ss\n",
        "    '''\n",
        "    # Round to the nearest second.\n",
        "    elapsed_rounded = int(round((elapsed)))\n",
        "\n",
        "    # Format as hh:mm:ss\n",
        "    return str(datetime.timedelta(seconds=elapsed_rounded))\n"
      ]
    },
    {
      "cell_type": "code",
      "execution_count": null,
      "metadata": {
        "id": "6J-FYdx6nFE_",
        "outputId": "fbcee178-4a3e-44ee-ca70-61de0cb8ee4b"
      },
      "outputs": [
        {
          "name": "stdout",
          "output_type": "stream",
          "text": [
            "\n",
            "======== Epoch 1 / 4 ========\n",
            "Training...\n",
            "  Batch    40  of    241.    Elapsed: 0:00:06.\n",
            "  Batch    80  of    241.    Elapsed: 0:00:12.\n",
            "  Batch   120  of    241.    Elapsed: 0:00:17.\n",
            "  Batch   160  of    241.    Elapsed: 0:00:23.\n",
            "  Batch   200  of    241.    Elapsed: 0:00:29.\n",
            "  Batch   240  of    241.    Elapsed: 0:00:34.\n",
            "\n",
            "  Average training loss: 0.49\n",
            "  Training epcoh took: 0:00:34\n",
            "\n",
            "Running Validation...\n",
            "  Accuracy: 0.80\n",
            "  Validation took: 0:00:01\n",
            "\n",
            "======== Epoch 2 / 4 ========\n",
            "Training...\n",
            "  Batch    40  of    241.    Elapsed: 0:00:06.\n",
            "  Batch    80  of    241.    Elapsed: 0:00:11.\n",
            "  Batch   120  of    241.    Elapsed: 0:00:17.\n",
            "  Batch   160  of    241.    Elapsed: 0:00:22.\n",
            "  Batch   200  of    241.    Elapsed: 0:00:28.\n",
            "  Batch   240  of    241.    Elapsed: 0:00:34.\n",
            "\n",
            "  Average training loss: 0.29\n",
            "  Training epcoh took: 0:00:34\n",
            "\n",
            "Running Validation...\n",
            "  Accuracy: 0.83\n",
            "  Validation took: 0:00:01\n",
            "\n",
            "======== Epoch 3 / 4 ========\n",
            "Training...\n",
            "  Batch    40  of    241.    Elapsed: 0:00:06.\n",
            "  Batch    80  of    241.    Elapsed: 0:00:11.\n",
            "  Batch   120  of    241.    Elapsed: 0:00:17.\n",
            "  Batch   160  of    241.    Elapsed: 0:00:22.\n",
            "  Batch   200  of    241.    Elapsed: 0:00:28.\n",
            "  Batch   240  of    241.    Elapsed: 0:00:34.\n",
            "\n",
            "  Average training loss: 0.19\n",
            "  Training epcoh took: 0:00:34\n",
            "\n",
            "Running Validation...\n",
            "  Accuracy: 0.83\n",
            "  Validation took: 0:00:01\n",
            "\n",
            "======== Epoch 4 / 4 ========\n",
            "Training...\n",
            "  Batch    40  of    241.    Elapsed: 0:00:06.\n",
            "  Batch    80  of    241.    Elapsed: 0:00:11.\n",
            "  Batch   120  of    241.    Elapsed: 0:00:17.\n",
            "  Batch   160  of    241.    Elapsed: 0:00:22.\n",
            "  Batch   200  of    241.    Elapsed: 0:00:28.\n",
            "  Batch   240  of    241.    Elapsed: 0:00:34.\n",
            "\n",
            "  Average training loss: 0.13\n",
            "  Training epcoh took: 0:00:34\n",
            "\n",
            "Running Validation...\n",
            "  Accuracy: 0.83\n",
            "  Validation took: 0:00:01\n",
            "\n",
            "Training complete!\n"
          ]
        }
      ],
      "source": [
        "import random\n",
        "\n",
        "# This training code is based on the `run_glue.py` script here:\n",
        "# https://github.com/huggingface/transformers/blob/5bfcd0485ece086ebcbed2d008813037968a9e58/examples/run_glue.py#L128\n",
        "\n",
        "\n",
        "# Set the seed value all over the place to make this reproducible.\n",
        "seed_val = 42\n",
        "\n",
        "random.seed(seed_val)\n",
        "np.random.seed(seed_val)\n",
        "torch.manual_seed(seed_val)\n",
        "torch.cuda.manual_seed_all(seed_val)\n",
        "\n",
        "# Store the average loss after each epoch so we can plot them.\n",
        "loss_values = []\n",
        "\n",
        "# For each epoch...\n",
        "for epoch_i in range(0, epochs):\n",
        "\n",
        "    # ========================================\n",
        "    #               Training\n",
        "    # ========================================\n",
        "\n",
        "    # Perform one full pass over the training set.\n",
        "\n",
        "    print(\"\")\n",
        "    print('======== Epoch {:} / {:} ========'.format(epoch_i + 1, epochs))\n",
        "    print('Training...')\n",
        "\n",
        "    # Measure how long the training epoch takes.\n",
        "    t0 = time.time()\n",
        "\n",
        "    # Reset the total loss for this epoch.\n",
        "    total_loss = 0\n",
        "\n",
        "    # Put the model into training mode. Don't be mislead--the call to\n",
        "    # `train` just changes the *mode*, it doesn't *perform* the training.\n",
        "    # `dropout` and `batchnorm` layers behave differently during training\n",
        "    # vs. test (source: https://stackoverflow.com/questions/51433378/what-does-model-train-do-in-pytorch)\n",
        "    model.train()\n",
        "\n",
        "    # For each batch of training data...\n",
        "    for step, batch in enumerate(train_dataloader):\n",
        "\n",
        "        # Progress update every 40 batches.\n",
        "        if step % 40 == 0 and not step == 0:\n",
        "            # Calculate elapsed time in minutes.\n",
        "            elapsed = format_time(time.time() - t0)\n",
        "\n",
        "            # Report progress.\n",
        "            print('  Batch {:>5,}  of  {:>5,}.    Elapsed: {:}.'.format(step, len(train_dataloader), elapsed))\n",
        "\n",
        "        # Unpack this training batch from our dataloader.\n",
        "        #\n",
        "        # As we unpack the batch, we'll also copy each tensor to the GPU using the\n",
        "        # `to` method.\n",
        "        #\n",
        "        # `batch` contains three pytorch tensors:\n",
        "        #   [0]: input ids\n",
        "        #   [1]: attention masks\n",
        "        #   [2]: labels\n",
        "        b_input_ids = batch[0].to(device)\n",
        "        b_input_mask = batch[1].to(device)\n",
        "        b_labels = batch[2].to(device)\n",
        "\n",
        "        # Always clear any previously calculated gradients before performing a\n",
        "        # backward pass. PyTorch doesn't do this automatically because\n",
        "        # accumulating the gradients is \"convenient while training RNNs\".\n",
        "        # (source: https://stackoverflow.com/questions/48001598/why-do-we-need-to-call-zero-grad-in-pytorch)\n",
        "        model.zero_grad()\n",
        "\n",
        "        # Perform a forward pass (evaluate the model on this training batch).\n",
        "        # This will return the loss (rather than the model output) because we\n",
        "        # have provided the `labels`.\n",
        "        # The documentation for this `model` function is here:\n",
        "        # https://huggingface.co/transformers/v2.2.0/model_doc/bert.html#transformers.BertForSequenceClassification\n",
        "        outputs = model(b_input_ids,\n",
        "                    token_type_ids=None,\n",
        "                    attention_mask=b_input_mask,\n",
        "                    labels=b_labels)\n",
        "\n",
        "        # The call to `model` always returns a tuple, so we need to pull the\n",
        "        # loss value out of the tuple.\n",
        "        loss = outputs[0]\n",
        "\n",
        "        # Accumulate the training loss over all of the batches so that we can\n",
        "        # calculate the average loss at the end. `loss` is a Tensor containing a\n",
        "        # single value; the `.item()` function just returns the Python value\n",
        "        # from the tensor.\n",
        "        total_loss += loss.item()\n",
        "\n",
        "        # Perform a backward pass to calculate the gradients.\n",
        "        loss.backward()\n",
        "\n",
        "        # Clip the norm of the gradients to 1.0.\n",
        "        # This is to help prevent the \"exploding gradients\" problem.\n",
        "        torch.nn.utils.clip_grad_norm_(model.parameters(), 1.0)\n",
        "\n",
        "        # Update parameters and take a step using the computed gradient.\n",
        "        # The optimizer dictates the \"update rule\"--how the parameters are\n",
        "        # modified based on their gradients, the learning rate, etc.\n",
        "        optimizer.step()\n",
        "\n",
        "        # Update the learning rate.\n",
        "        scheduler.step()\n",
        "\n",
        "    # Calculate the average loss over the training data.\n",
        "    avg_train_loss = total_loss / len(train_dataloader)\n",
        "\n",
        "    # Store the loss value for plotting the learning curve.\n",
        "    loss_values.append(avg_train_loss)\n",
        "\n",
        "    print(\"\")\n",
        "    print(\"  Average training loss: {0:.2f}\".format(avg_train_loss))\n",
        "    print(\"  Training epcoh took: {:}\".format(format_time(time.time() - t0)))\n",
        "\n",
        "    # ========================================\n",
        "    #               Validation\n",
        "    # ========================================\n",
        "    # After the completion of each training epoch, measure our performance on\n",
        "    # our validation set.\n",
        "\n",
        "    print(\"\")\n",
        "    print(\"Running Validation...\")\n",
        "\n",
        "    t0 = time.time()\n",
        "\n",
        "    # Put the model in evaluation mode--the dropout layers behave differently\n",
        "    # during evaluation.\n",
        "    model.eval()\n",
        "\n",
        "    # Tracking variables\n",
        "    eval_loss, eval_accuracy = 0, 0\n",
        "    nb_eval_steps, nb_eval_examples = 0, 0\n",
        "\n",
        "    # Evaluate data for one epoch\n",
        "    for batch in validation_dataloader:\n",
        "\n",
        "        # Add batch to GPU\n",
        "        batch = tuple(t.to(device) for t in batch)\n",
        "\n",
        "        # Unpack the inputs from our dataloader\n",
        "        b_input_ids, b_input_mask, b_labels = batch\n",
        "\n",
        "        # Telling the model not to compute or store gradients, saving memory and\n",
        "        # speeding up validation\n",
        "        with torch.no_grad():\n",
        "\n",
        "            # Forward pass, calculate logit predictions.\n",
        "            # This will return the logits rather than the loss because we have\n",
        "            # not provided labels.\n",
        "            # token_type_ids is the same as the \"segment ids\", which\n",
        "            # differentiates sentence 1 and 2 in 2-sentence tasks.\n",
        "            # The documentation for this `model` function is here:\n",
        "            # https://huggingface.co/transformers/v2.2.0/model_doc/bert.html#transformers.BertForSequenceClassification\n",
        "            outputs = model(b_input_ids,\n",
        "                            token_type_ids=None,\n",
        "                            attention_mask=b_input_mask)\n",
        "\n",
        "        # Get the \"logits\" output by the model. The \"logits\" are the output\n",
        "        # values prior to applying an activation function like the softmax.\n",
        "        logits = outputs[0]\n",
        "\n",
        "        # Move logits and labels to CPU\n",
        "        logits = logits.detach().cpu().numpy()\n",
        "        label_ids = b_labels.to('cpu').numpy()\n",
        "\n",
        "        # Calculate the accuracy for this batch of test sentences.\n",
        "        tmp_eval_accuracy = flat_accuracy(logits, label_ids)\n",
        "\n",
        "        # Accumulate the total accuracy.\n",
        "        eval_accuracy += tmp_eval_accuracy\n",
        "\n",
        "        # Track the number of batches\n",
        "        nb_eval_steps += 1\n",
        "\n",
        "    # Report the final accuracy for this validation run.\n",
        "    print(\"  Accuracy: {0:.2f}\".format(eval_accuracy/nb_eval_steps))\n",
        "    print(\"  Validation took: {:}\".format(format_time(time.time() - t0)))\n",
        "\n",
        "print(\"\")\n",
        "print(\"Training complete!\")"
      ]
    },
    {
      "cell_type": "code",
      "execution_count": null,
      "metadata": {
        "id": "68xreA9JAmG5",
        "outputId": "fdb5ddb0-fc3f-4ba0-c811-34a082d75c88"
      },
      "outputs": [
        {
          "data": {
            "image/png": "[encoded data removed]",
            "text/plain": [
              "<Figure size 1200x600 with 1 Axes>"
            ]
          },
          "metadata": {},
          "output_type": "display_data"
        }
      ],
      "source": [
        "import matplotlib.pyplot as plt\n",
        "%matplotlib inline\n",
        "\n",
        "import seaborn as sns\n",
        "\n",
        "# Use plot styling from seaborn.\n",
        "sns.set(style='darkgrid')\n",
        "\n",
        "# Increase the plot size and font size.\n",
        "sns.set(font_scale=1.5)\n",
        "plt.rcParams[\"figure.figsize\"] = (12,6)\n",
        "\n",
        "# Plot the learning curve.\n",
        "plt.plot(loss_values, 'b-o')\n",
        "\n",
        "# Label the plot.\n",
        "plt.title(\"Training loss\")\n",
        "plt.xlabel(\"Epoch\")\n",
        "plt.ylabel(\"Loss\")\n",
        "\n",
        "plt.show()"
      ]
    },
    {
      "cell_type": "markdown",
      "metadata": {
        "id": "mkyubuJSOzg3"
      },
      "source": [
        "# 5. Performance On Test Set"
      ]
    },
    {
      "cell_type": "markdown",
      "metadata": {
        "id": "DosV94BYIYxg"
      },
      "source": [
        "test 용 데이터세트를 로드하고 [Matthew의 상관 계수](https://scikit-learn.org/stable/modules/generated/sklearn.metrics.matthews_corrcoef.html)를 사용하여 예측을 평가합니다.\n",
        "\n",
        "이 지표를 사용하면 +1이 최고 점수이고 -1이 최저 점수입니다. 이런 식으로 우리는 이 특정 작업에 대한 최신 모델에 비해 우리가 얼마나 잘 수행하는지 확인할 수 있습니다."
      ]
    },
    {
      "cell_type": "markdown",
      "metadata": {
        "id": "Tg42jJqqM68F"
      },
      "source": [
        "### 5.1. Data Preparation\n"
      ]
    },
    {
      "cell_type": "code",
      "execution_count": null,
      "metadata": {
        "id": "mAN0LZBOOPVh",
        "outputId": "0e5a9a92-97d2-4f92-c90e-76738f3c08dc"
      },
      "outputs": [
        {
          "name": "stdout",
          "output_type": "stream",
          "text": [
            "Number of test sentences: 516\n",
            "\n"
          ]
        }
      ],
      "source": [
        "import pandas as pd\n",
        "\n",
        "# Load the dataset into a pandas dataframe.\n",
        "df = pd.read_csv(\"C:/Users/User/Desktop/cola_public/raw/out_of_domain_dev.tsv\", delimiter='\\t', header=None, names=['sentence_source', 'label', 'label_notes', 'sentence'])\n",
        "\n",
        "# Report the number of sentences.\n",
        "print('Number of test sentences: {:,}\\n'.format(df.shape[0]))\n",
        "\n",
        "# Create sentence and label lists\n",
        "sentences = df.sentence.values\n",
        "labels = df.label.values\n",
        "\n",
        "# Tokenize all of the sentences and map the tokens to thier word IDs.\n",
        "input_ids = []\n",
        "\n",
        "# For every sentence...\n",
        "for sent in sentences:\n",
        "    # `encode` will:\n",
        "    #   (1) Tokenize the sentence.\n",
        "    #   (2) Prepend the `[CLS]` token to the start.\n",
        "    #   (3) Append the `[SEP]` token to the end.\n",
        "    #   (4) Map tokens to their IDs.\n",
        "    encoded_sent = tokenizer.encode(\n",
        "                        sent,                      # Sentence to encode.\n",
        "                        add_special_tokens = True, # Add '[CLS]' and '[SEP]'\n",
        "                   )\n",
        "\n",
        "    input_ids.append(encoded_sent)\n",
        "\n",
        "# Pad our input tokens\n",
        "input_ids = pad_sequences(input_ids, maxlen=MAX_LEN,\n",
        "                          dtype=\"long\", truncating=\"post\", padding=\"post\")\n",
        "\n",
        "# Create attention masks\n",
        "attention_masks = []\n",
        "\n",
        "# Create a mask of 1s for each token followed by 0s for padding\n",
        "for seq in input_ids:\n",
        "  seq_mask = [float(i>0) for i in seq]\n",
        "  attention_masks.append(seq_mask)\n",
        "\n",
        "# Convert to tensors.\n",
        "prediction_inputs = torch.tensor(input_ids)\n",
        "prediction_masks = torch.tensor(attention_masks)\n",
        "prediction_labels = torch.tensor(labels)\n",
        "\n",
        "# Set the batch size.\n",
        "batch_size = 32\n",
        "\n",
        "# Create the DataLoader.\n",
        "prediction_data = TensorDataset(prediction_inputs, prediction_masks, prediction_labels)\n",
        "prediction_sampler = SequentialSampler(prediction_data)\n",
        "prediction_dataloader = DataLoader(prediction_data, sampler=prediction_sampler, batch_size=batch_size)"
      ]
    },
    {
      "cell_type": "markdown",
      "metadata": {
        "id": "16lctEOyNFik"
      },
      "source": [
        "## 5.2. Evaluate on Test Set\n"
      ]
    },
    {
      "cell_type": "code",
      "execution_count": null,
      "metadata": {
        "id": "Hba10sXR7Xi6",
        "outputId": "1f382568-642c-488d-8eed-c87f2ea7da37"
      },
      "outputs": [
        {
          "name": "stdout",
          "output_type": "stream",
          "text": [
            "Predicting labels for 516 test sentences...\n",
            "    DONE.\n"
          ]
        }
      ],
      "source": [
        "# Prediction on test set\n",
        "\n",
        "print('Predicting labels for {:,} test sentences...'.format(len(prediction_inputs)))\n",
        "\n",
        "# Put model in evaluation mode\n",
        "model.eval()\n",
        "\n",
        "# Tracking variables\n",
        "predictions , true_labels = [], []\n",
        "\n",
        "# Predict\n",
        "for batch in prediction_dataloader:\n",
        "  # Add batch to GPU\n",
        "  batch = tuple(t.to(device) for t in batch)\n",
        "\n",
        "  # Unpack the inputs from our dataloader\n",
        "  b_input_ids, b_input_mask, b_labels = batch\n",
        "\n",
        "  # Telling the model not to compute or store gradients, saving memory and\n",
        "  # speeding up prediction\n",
        "  with torch.no_grad():\n",
        "      # Forward pass, calculate logit predictions\n",
        "      outputs = model(b_input_ids, token_type_ids=None,\n",
        "                      attention_mask=b_input_mask)\n",
        "\n",
        "  logits = outputs[0]\n",
        "\n",
        "  # Move logits and labels to CPU\n",
        "  logits = logits.detach().cpu().numpy()\n",
        "  label_ids = b_labels.to('cpu').numpy()\n",
        "\n",
        "  # Store predictions and true labels\n",
        "  predictions.append(logits)\n",
        "  true_labels.append(label_ids)\n",
        "\n",
        "print('    DONE.')"
      ]
    },
    {
      "cell_type": "code",
      "execution_count": null,
      "metadata": {
        "id": "hWcy0X1hirdx",
        "outputId": "21c5f6fd-dfd3-4b2f-eb43-11601fe630f8"
      },
      "outputs": [
        {
          "name": "stdout",
          "output_type": "stream",
          "text": [
            "Positive samples: 354 of 516 (68.60%)\n"
          ]
        }
      ],
      "source": [
        "print('Positive samples: %d of %d (%.2f%%)' % (df.label.sum(), len(df.label), (df.label.sum() / len(df.label) * 100.0)))"
      ]
    },
    {
      "cell_type": "code",
      "execution_count": null,
      "metadata": {
        "id": "cRaZQ4XC7kLs",
        "outputId": "2be15f07-8201-4c4c-a35f-3029e1bf56e4"
      },
      "outputs": [
        {
          "name": "stdout",
          "output_type": "stream",
          "text": [
            "Calculating Matthews Corr. Coef. for each batch...\n"
          ]
        }
      ],
      "source": [
        "from sklearn.metrics import matthews_corrcoef\n",
        "\n",
        "matthews_set = []\n",
        "\n",
        "# Evaluate each test batch using Matthew's correlation coefficient\n",
        "print('Calculating Matthews Corr. Coef. for each batch...')\n",
        "\n",
        "# For each input batch...\n",
        "for i in range(len(true_labels)):\n",
        "\n",
        "  # The predictions for this batch are a 2-column ndarray (one column for \"0\"\n",
        "  # and one column for \"1\"). Pick the label with the highest value and turn this\n",
        "  # in to a list of 0s and 1s.\n",
        "  pred_labels_i = np.argmax(predictions[i], axis=1).flatten()\n",
        "\n",
        "  # Calculate and store the coef for this batch.\n",
        "  matthews = matthews_corrcoef(true_labels[i], pred_labels_i)\n",
        "  matthews_set.append(matthews)"
      ]
    },
    {
      "cell_type": "code",
      "execution_count": null,
      "metadata": {
        "id": "xytAr_C48wnu",
        "outputId": "fafdfbde-7f7f-45d3-9f86-1b7db88fab70"
      },
      "outputs": [
        {
          "data": {
            "text/plain": [
              "[0.049286405809014416,\n",
              " -0.21684543705982773,\n",
              " 0.4040950971038548,\n",
              " 0.23372319715296222,\n",
              " 0.3567530340063379,\n",
              " 0.7410010097502685,\n",
              " 0.4547940268270977,\n",
              " 0.0,\n",
              " 0.9165151389911681,\n",
              " 0.6386392673039035,\n",
              " 0.8459051693633014,\n",
              " 0.647150228929434,\n",
              " 0.8749672939989046,\n",
              " 0.7141684885491869,\n",
              " 0.1794871794871795,\n",
              " 0.717973623597536,\n",
              " 0.0]"
            ]
          },
          "execution_count": 40,
          "metadata": {},
          "output_type": "execute_result"
        }
      ],
      "source": [
        "matthews_set"
      ]
    },
    {
      "cell_type": "code",
      "execution_count": null,
      "metadata": {
        "id": "oCYZa1lQ8Jn8",
        "outputId": "9b4c94a9-1516-439e-cadd-6e4e87f1b009"
      },
      "outputs": [
        {
          "name": "stdout",
          "output_type": "stream",
          "text": [
            "MCC: 0.524\n"
          ]
        }
      ],
      "source": [
        "# Combine the predictions for each batch into a single list of 0s and 1s.\n",
        "flat_predictions = [item for sublist in predictions for item in sublist]\n",
        "flat_predictions = np.argmax(flat_predictions, axis=1).flatten()\n",
        "\n",
        "# Combine the correct labels for each batch into a single list.\n",
        "flat_true_labels = [item for sublist in true_labels for item in sublist]\n",
        "\n",
        "# Calculate the MCC\n",
        "mcc = matthews_corrcoef(flat_true_labels, flat_predictions)\n",
        "\n",
        "print('MCC: %.3f' % mcc)"
      ]
    }
  ],
  "metadata": {
    "accelerator": "GPU",
    "colab": {
      "provenance": []
    },
    "kernelspec": {
      "display_name": "base",
      "language": "python",
      "name": "python3"
    },
    "language_info": {
      "codemirror_mode": {
        "name": "ipython",
        "version": 3
      },
      "file_extension": ".py",
      "mimetype": "text/x-python",
      "name": "python",
      "nbconvert_exporter": "python",
      "pygments_lexer": "ipython3",
      "version": "3.12.4"
    }
  },
  "nbformat": 4,
  "nbformat_minor": 0
}