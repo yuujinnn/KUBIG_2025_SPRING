{
  "nbformat": 4,
  "nbformat_minor": 0,
  "metadata": {
    "colab": {
      "provenance": []
    },
    "kernelspec": {
      "name": "python3",
      "display_name": "Python 3"
    },
    "accelerator": "GPU"
  },
  "cells": [
    {
      "cell_type": "markdown",
      "metadata": {
        "id": "hSfah6SLfhVG"
      },
      "source": [
        "# 텍스트 생성 방법 : Transformers를 이용한 언어생성에 서로 다른 디코딩 방법 사용"
      ]
    },
    {
      "cell_type": "markdown",
      "metadata": {
        "id": "9l31dGxwgTMZ"
      },
      "source": [
        "#소개\n",
        "최근 몇 년 동안, OpenAI의 유명한 모델 GPT2처럼 수백만 개의 웹 페이지에서 훈련된 Transformer 기반 대형 언어 모델의 등장으로 개방형 언어 생성에 대한 관심이 증가하고 있습니다. 개선된 Transformer 아키텍처와 대규모 unsupervised training data 외에도, 더 나은 Decoding 방법도 중요한 역할을 했습니다.\n",
        "\n",
        "이 실습 자료는 다양한 Decoding 전략에 대한 간략한 개요를 제공합니다.\n",
        "\n",
        "다음 모든 기능은 auto-regressive 언어 생성에 사용할 수 있습니다. 요약하자면, auto-regressive 언어 생성은 word sequence의 확률 분포가 다음 던어 분포에 관한 P식의 결과로 분해될 수 있고\n",
        "\n",
        "$$ P(w_{1:T} | W_0 ) = \\prod_{t=1}^T P(w_{t} | w_{1: t-1}, W_0) \\text{ ,with }  w_{1: 0} = \\emptyset, $$\n",
        "\n",
        "W0가 초기 Context word sequence의 결과로 분해될 수 있다는 가정에 기초합니다.\n",
        "\n",
        "Word sequence의 길이 T는 보통 즉시 결정되며, P식에서 EOS 토큰이 생성된 timestep t=T와 부합합니다.\n",
        "\n",
        "이번 실습에서는 가장 두드러진 decoding 방법으로 Greedy search, Beam search, Top-K sampling, Top-p sampling을 주로 둘러볼 것입니다.\n",
        "\n"
      ]
    },
    {
      "cell_type": "markdown",
      "source": [
        "Auto-regressive 언어 생성은 이전에 생성된 단어들을 기반으로 다음 단어를 예측하는 방식으로 텍스트를 생성하는 방법을 의미"
      ],
      "metadata": {
        "id": "2mqtaQddw4BK"
      }
    },
    {
      "cell_type": "markdown",
      "metadata": {
        "id": "sz0J-hPCoZEl"
      },
      "source": [
        "Transformers를 설치하고 Model을 load하겠습니다."
      ]
    },
    {
      "cell_type": "code",
      "metadata": {
        "id": "XbzZ_IVTtoQe",
        "colab": {
          "base_uri": "https://localhost:8080/"
        },
        "outputId": "5a438586-98f0-4f37-d655-9d4f9796efb6"
      },
      "source": [
        "!pip install transformers"
      ],
      "execution_count": null,
      "outputs": [
        {
          "output_type": "stream",
          "name": "stdout",
          "text": [
            "Requirement already satisfied: transformers in /usr/local/lib/python3.11/dist-packages (4.48.2)\n",
            "Requirement already satisfied: filelock in /usr/local/lib/python3.11/dist-packages (from transformers) (3.17.0)\n",
            "Requirement already satisfied: huggingface-hub<1.0,>=0.24.0 in /usr/local/lib/python3.11/dist-packages (from transformers) (0.28.1)\n",
            "Requirement already satisfied: numpy>=1.17 in /usr/local/lib/python3.11/dist-packages (from transformers) (1.26.4)\n",
            "Requirement already satisfied: packaging>=20.0 in /usr/local/lib/python3.11/dist-packages (from transformers) (24.2)\n",
            "Requirement already satisfied: pyyaml>=5.1 in /usr/local/lib/python3.11/dist-packages (from transformers) (6.0.2)\n",
            "Requirement already satisfied: regex!=2019.12.17 in /usr/local/lib/python3.11/dist-packages (from transformers) (2024.11.6)\n",
            "Requirement already satisfied: requests in /usr/local/lib/python3.11/dist-packages (from transformers) (2.32.3)\n",
            "Requirement already satisfied: tokenizers<0.22,>=0.21 in /usr/local/lib/python3.11/dist-packages (from transformers) (0.21.0)\n",
            "Requirement already satisfied: safetensors>=0.4.1 in /usr/local/lib/python3.11/dist-packages (from transformers) (0.5.2)\n",
            "Requirement already satisfied: tqdm>=4.27 in /usr/local/lib/python3.11/dist-packages (from transformers) (4.67.1)\n",
            "Requirement already satisfied: fsspec>=2023.5.0 in /usr/local/lib/python3.11/dist-packages (from huggingface-hub<1.0,>=0.24.0->transformers) (2024.10.0)\n",
            "Requirement already satisfied: typing-extensions>=3.7.4.3 in /usr/local/lib/python3.11/dist-packages (from huggingface-hub<1.0,>=0.24.0->transformers) (4.12.2)\n",
            "Requirement already satisfied: charset-normalizer<4,>=2 in /usr/local/lib/python3.11/dist-packages (from requests->transformers) (3.4.1)\n",
            "Requirement already satisfied: idna<4,>=2.5 in /usr/local/lib/python3.11/dist-packages (from requests->transformers) (3.10)\n",
            "Requirement already satisfied: urllib3<3,>=1.21.1 in /usr/local/lib/python3.11/dist-packages (from requests->transformers) (2.3.0)\n",
            "Requirement already satisfied: certifi>=2017.4.17 in /usr/local/lib/python3.11/dist-packages (from requests->transformers) (2025.1.31)\n"
          ]
        }
      ]
    },
    {
      "cell_type": "markdown",
      "metadata": {
        "id": "X4jS5zNKknHT"
      },
      "source": [
        "이번 실습을 위해 SKT에서 공개한 KoGPT-2 모델을 사용해보도록 하겠습니다 :-)"
      ]
    },
    {
      "cell_type": "code",
      "metadata": {
        "id": "b1eVsFQQgdBk",
        "colab": {
          "base_uri": "https://localhost:8080/"
        },
        "outputId": "d28a5162-b27b-4e47-859d-cea240e2e7ed"
      },
      "source": [
        "!curl -s https://packagecloud.io/install/repositories/github/git-lfs/script.deb.sh | sudo bash\n",
        "!apt-get install git-lfs\n",
        "!git lfs install\n",
        "!git clone https://huggingface.co/taeminlee/kogpt2"
      ],
      "execution_count": null,
      "outputs": [
        {
          "output_type": "stream",
          "name": "stdout",
          "text": [
            "Detected operating system as Ubuntu/jammy.\n",
            "Checking for curl...\n",
            "Detected curl...\n",
            "Checking for gpg...\n",
            "Detected gpg...\n",
            "Detected apt version as 2.4.13\n",
            "Running apt-get update... done.\n",
            "Installing apt-transport-https... done.\n",
            "Installing /etc/apt/sources.list.d/github_git-lfs.list...done.\n",
            "Importing packagecloud gpg key... Packagecloud gpg key imported to /etc/apt/keyrings/github_git-lfs-archive-keyring.gpg\n",
            "done.\n",
            "Running apt-get update... done.\n",
            "\n",
            "The repository is setup! You can now install packages.\n",
            "Reading package lists... Done\n",
            "Building dependency tree... Done\n",
            "Reading state information... Done\n",
            "The following packages will be upgraded:\n",
            "  git-lfs\n",
            "1 upgraded, 0 newly installed, 0 to remove and 24 not upgraded.\n",
            "Need to get 8,489 kB of archives.\n",
            "After this operation, 7,671 kB of additional disk space will be used.\n",
            "Get:1 https://packagecloud.io/github/git-lfs/ubuntu jammy/main amd64 git-lfs amd64 3.6.1 [8,489 kB]\n",
            "Fetched 8,489 kB in 0s (30.6 MB/s)\n",
            "(Reading database ... 124930 files and directories currently installed.)\n",
            "Preparing to unpack .../git-lfs_3.6.1_amd64.deb ...\n",
            "Unpacking git-lfs (3.6.1) over (3.0.2-1ubuntu0.3) ...\n",
            "Setting up git-lfs (3.6.1) ...\n",
            "Git LFS initialized.\n",
            "Processing triggers for man-db (2.10.2-1) ...\n",
            "Git LFS initialized.\n",
            "Cloning into 'kogpt2'...\n",
            "remote: Enumerating objects: 56, done.\u001b[K\n",
            "remote: Total 56 (delta 0), reused 0 (delta 0), pack-reused 56 (from 1)\u001b[K\n",
            "Unpacking objects: 100% (56/56), 1.53 MiB | 4.35 MiB/s, done.\n",
            "Filtering content: 100% (3/3), 1.41 GiB | 48.04 MiB/s, done.\n"
          ]
        }
      ]
    },
    {
      "cell_type": "markdown",
      "source": [
        "![image.png](data:image/png;base64,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)"
      ],
      "metadata": {
        "id": "Spg6NN0DxZ1o"
      }
    },
    {
      "cell_type": "code",
      "metadata": {
        "id": "ckGerDmxgjOb",
        "colab": {
          "base_uri": "https://localhost:8080/"
        },
        "outputId": "27515014-eff0-4bc1-aa96-098a22879731"
      },
      "source": [
        "import torch\n",
        "from tokenizers import SentencePieceBPETokenizer\n",
        "from transformers import GPT2Config, GPT2LMHeadModel\n",
        "\n",
        "# SentencePieceBPETokenizer는 vocab.json과 merges.txt 파일을 사용하여 BPE(Byte Pair Encoding) 방식의 토크나이저를 설정 (GPT-2 모델의 사전 학습에 사용된 토크나이저)\n",
        "# BPE(Byte Pair Encoding) 방식은 자연어 처리에서 단어를 서브워드(subword) 단위로 분할하는 방식 중 하나로, 주로 어휘 크기 축소와 미지의 단어 처리를 위해 사용\n",
        "# vocab.json은 어휘 집합을 담고 있고, merges.txt는 BPE 병합 규칙을 담고 있다.\n",
        "tokenizer = SentencePieceBPETokenizer(\"/content/kogpt2/vocab.json\", \"/content/kogpt2/merges.txt\")\n",
        "\n",
        "# GPT2Config를 사용하여 모델 설정을 초기화합니다. 여기서 vocab_size=50000은 어휘 집합의 크기를 50,000으로 설정\n",
        "config = GPT2Config(vocab_size=50000)\n",
        "config.pad_token_id = tokenizer.token_to_id('<pad>')\n",
        "model = GPT2LMHeadModel(config)\n",
        "\n",
        "# /content/kogpt2/pytorch_model.bin 경로에서 학습된 모델 가중치를 로드\n",
        "model_dir = '/content/kogpt2/pytorch_model.bin'\n",
        "\n",
        "model.load_state_dict(torch.load(model_dir, map_location='cuda'), strict=False)\n",
        "model.to('cuda')"
      ],
      "execution_count": null,
      "outputs": [
        {
          "output_type": "stream",
          "name": "stderr",
          "text": [
            "<ipython-input-3-82446dae5b71>:13: FutureWarning: You are using `torch.load` with `weights_only=False` (the current default value), which uses the default pickle module implicitly. It is possible to construct malicious pickle data which will execute arbitrary code during unpickling (See https://github.com/pytorch/pytorch/blob/main/SECURITY.md#untrusted-models for more details). In a future release, the default value for `weights_only` will be flipped to `True`. This limits the functions that could be executed during unpickling. Arbitrary objects will no longer be allowed to be loaded via this mode unless they are explicitly allowlisted by the user via `torch.serialization.add_safe_globals`. We recommend you start setting `weights_only=True` for any use case where you don't have full control of the loaded file. Please open an issue on GitHub for any issues related to this experimental feature.\n",
            "  model.load_state_dict(torch.load(model_dir, map_location='cuda'), strict=False)\n"
          ]
        },
        {
          "output_type": "execute_result",
          "data": {
            "text/plain": [
              "GPT2LMHeadModel(\n",
              "  (transformer): GPT2Model(\n",
              "    (wte): Embedding(50000, 768)\n",
              "    (wpe): Embedding(1024, 768)\n",
              "    (drop): Dropout(p=0.1, inplace=False)\n",
              "    (h): ModuleList(\n",
              "      (0-11): 12 x GPT2Block(\n",
              "        (ln_1): LayerNorm((768,), eps=1e-05, elementwise_affine=True)\n",
              "        (attn): GPT2Attention(\n",
              "          (c_attn): Conv1D(nf=2304, nx=768)\n",
              "          (c_proj): Conv1D(nf=768, nx=768)\n",
              "          (attn_dropout): Dropout(p=0.1, inplace=False)\n",
              "          (resid_dropout): Dropout(p=0.1, inplace=False)\n",
              "        )\n",
              "        (ln_2): LayerNorm((768,), eps=1e-05, elementwise_affine=True)\n",
              "        (mlp): GPT2MLP(\n",
              "          (c_fc): Conv1D(nf=3072, nx=768)\n",
              "          (c_proj): Conv1D(nf=768, nx=3072)\n",
              "          (act): NewGELUActivation()\n",
              "          (dropout): Dropout(p=0.1, inplace=False)\n",
              "        )\n",
              "      )\n",
              "    )\n",
              "    (ln_f): LayerNorm((768,), eps=1e-05, elementwise_affine=True)\n",
              "  )\n",
              "  (lm_head): Linear(in_features=768, out_features=50000, bias=False)\n",
              ")"
            ]
          },
          "metadata": {},
          "execution_count": 3
        }
      ]
    },
    {
      "cell_type": "markdown",
      "metadata": {
        "id": "BYdGXD4opfuk"
      },
      "source": [
        "### **Greedy Search**\n",
        "\n",
        "Greedy search는 단순히 가장 높은 확률을 가진 단어를 다음 단어로 선택합니다.   \n",
        "$w_t = argmax_{w}P(w | w_{1:t-1})$ 는 각각의 timestep $t$ 입니다. 아래 그림은 greedy search을 보여줍니다.   \n",
        "\n",
        "![Greedy Search](https://raw.githubusercontent.com/patrickvonplaten/scientific_images/master/greedy_search.png)\n",
        "\n",
        "알고리즘은 단어 \"The\"에서 시작하여 다음 단어로 가장 높은 확률의 단어인 \"nice\" 등을 선택하는 탐욕법입니다. 그러므로 최종적으로 생성된 Word sequence는 \"The\", \"nice\", \"woman\"이며 전반적인 확률은 0.5x0.4 = 0.2로 계산됩니다.\n",
        "\n",
        "다음 문맥 (\"I\", \"enjoy\", \"walking\", \"with\", \"my\", \"cute\", \"dog\")에서 GPT2를 사용하여 Word sequence를 생성할 수 있습니다.\n",
        "\n",
        "Transformers에서 다음과 같은 greedy search를 사용하는 방법을 살펴보겠습니다.\n",
        "\n",
        "\n",
        "\n"
      ]
    },
    {
      "cell_type": "code",
      "metadata": {
        "id": "OWLd_J6lXz_t",
        "colab": {
          "base_uri": "https://localhost:8080/"
        },
        "outputId": "0622ea55-a172-4943-8af6-5f3c0d14d37f"
      },
      "source": [
        "# encode context the generation is conditioned on\n",
        "# 입력된 텍스트를 토크나이저를 이용해 토큰화\n",
        "# tokenizer.encode를 사용하여 정수 인덱스 리스트로 변환. add_special_tokens=False는 텍스트에 [CLS], [SEP]와 같은 특별한 토큰을 추가하지 않겠다는 의미\n",
        "def tokenizing(text):\n",
        "    return torch.tensor(tokenizer.encode(text, add_special_tokens=False).ids).unsqueeze(0).to('cuda')\n",
        "\n",
        "\n",
        "input_ids = tokenizing(\"이순신은 조선 중기의 무신이다.\")\n",
        "\n",
        "# generate text until the output length (which includes the context length) reaches 100\n",
        "# 생성 모델은 generate 함수를 통해 다음 token을 생성해낼 수 있다.\n",
        "# 그리디 탐색 방식을 사용하여 다음 단어를 예측 -> 모델은 단어를 하나씩 생성하면서 그 이전에 생성된 단어들을 컨텍스트로 포함하여 다음 단어를 만든다.\n",
        "greedy_output = model.generate(input_ids, max_length=100)\n",
        "\n",
        "print(\"Output:\\n\" + 100 * '-')\n",
        "\n",
        "# tokenizer.decode(greedy_output.tolist()[0], skip_special_tokens=True)는 생성된 토큰을 다시 텍스트로 변환\n",
        "# skip_special_tokens=True는 [PAD], [CLS], [SEP]와 같은 특별한 토큰을 출력에서 제외\n",
        "print(tokenizer.decode(greedy_output.tolist()[0], skip_special_tokens=True))"
      ],
      "execution_count": null,
      "outputs": [
        {
          "output_type": "stream",
          "name": "stdout",
          "text": [
            "Output:\n",
            "----------------------------------------------------------------------------------------------------\n",
            "이순신은 조선 중기의 무신이다.</s><s> 이 때문에, 이 목록은 다음과 같다.</s><s> 이 목록은 다음과 같다.</s><s> 이 목록은 다음과 같다.</s><s> 이 목록은 다음과 같다.</s><s> 이 목록은 다음과 같다.</s><s> 이 목록은 다음과 같다.</s><s> 이 목록은 다음과 같다.</s><s> 이 목록은 다음과 같다.</s><s> 이 목록은 다음과 같다.</s><s> 이 목록은 다음과 같다.</s><s> 이 목록은 다음과 같다.</s><s> 이 목록은 다음과 같다.</s><s> 이 목록은 다음과 같다\n"
          ]
        }
      ]
    },
    {
      "cell_type": "markdown",
      "metadata": {
        "id": "ZNIDMgkds-VO"
      },
      "source": [
        "GPT2로 짧은 텍스트를 생성했습니다.   \n",
        "생성된 단어 문맥은 합리적이지만 모델은 비슷한 단어를 반복하는 수준입니다.   \n",
        "이러한 현상은 일반적인 언어생성 모델에서 나타나는 공통된 문제이며 특히 Greedy search와 Beam search에서 훨씬 더 그런 현상이 두드러져 보입니다. (Vijayakumar et al., 2016 and Shao et al., 2017에서 관련 내용을 확인 할 수 있습니다.)   \n",
        "\n",
        "Greedy search의 주요 단점은 그림에서 볼수 있듯이 낮은 확률 단어 이후에 나올수 있는 더 높은 확률의 단어를 놓친다는 점입니다.\n",
        "\n",
        "예를 들면 단어 \"has\"는 0.9의 높은 조건부 확률을 가지고 있지만, 첫 검색단어중 두번째로 높은 조건부 확률 단어인 \"dog\" 이후에  숨어있는 형태입니다. 따라서 Greedy search는 \"The\",\"dog\",\"has\"라는 Word sequence를 놓치게 됩니다.\n",
        "\n",
        "이러한 문제는 Beam search에서 완화할 수 있습니다."
      ]
    },
    {
      "cell_type": "markdown",
      "metadata": {
        "id": "Y73RcrRPn-Bn"
      },
      "source": [
        "### **Beam search**\n",
        "\n",
        "Beam search는 각 Time step에서 가장 확률이 높은 Hypotheses의 num_beams를 유지하고 결국 전체 확률이 가장 높은 hypothesis를 선택하는 것으로 숨겨진 높은 확률 Word sequence를 놓칠 위험을 줄입니다.\n",
        "\n",
        "`num_beams =2`라고 가정하고 Toy example을 설명하겠습니다.\n",
        "\n",
        "![Beam search](https://raw.githubusercontent.com/patrickvonplaten/scientific_images/master/beam_search.png)\n",
        "\n",
        "Time step=1일때, Beam search는 가장 가능성 높은 Hypothesis \"The\",\"nice\"외에도 두번째로 가능성 높은 Hypothesis인 \"The\",\"dog\"를 추적합니다.\n",
        "\n",
        "Time step=2일때, Beam search는 Word sequence 확률 0.2를 가진 (\"The\",\"nice\",\"woman\") 보다 확률 0.36을 가진 (\"The\", \"dog\", \"has\")가 높다는 것을 찾습니다. 이것으로 Toy example에서 가장 가능성 높은 Word sequence를 발견 할 수 있다는 것을 보였습니다.\n",
        "\n",
        "Beam search는 항상 Greedy search보다 높은 확률의 결과 Sequence를 찾는 것이 가능합니다. 그러나 이것이 가장 가능성 높은 결과를 찾은 것이라고는 보장할 수 없습니다.\n",
        "\n",
        "`transformers`에서 Beam search를 사용하는 방법을 살펴볼 것입니다. 모든 Beam Hypotheses가 EOS토큰에 닿으면 생성이 완료되도록 `num_beams > 1` 과 `eqrly_stopping=True`로 파라미터를 설정합니다.\n"
      ]
    },
    {
      "cell_type": "code",
      "metadata": {
        "id": "R1R5kx30Ynej",
        "colab": {
          "base_uri": "https://localhost:8080/"
        },
        "outputId": "90ff31a4-6971-482b-ce70-cfbbab92340e"
      },
      "source": [
        "# activate beam search and early_stopping\n",
        "beam_output = model.generate(\n",
        "    input_ids,\n",
        "    max_length=50,\n",
        "    num_beams=5,    # num_beams=5는 5개의 후보 텍스트를 동시에 고려하여 가장 확률이 높은 텍스트를 선택\n",
        "    early_stopping=True # 보통 모델이 생성한 텍스트가 일정 기준을 넘어서면 더 이상 생성할 필요가 없다고 판단하여 더 빠르게 텍스트 생성을 멈춤.\n",
        ")\n",
        "\n",
        "print(\"Output:\\n\" + 100 * '-')\n",
        "print(tokenizer.decode(beam_output.tolist()[0], skip_special_tokens=True))\n"
      ],
      "execution_count": null,
      "outputs": [
        {
          "output_type": "stream",
          "name": "stdout",
          "text": [
            "Output:\n",
            "----------------------------------------------------------------------------------------------------\n",
            "이순신은 조선 중기의 무신이다.</s><s> 그 후, 이조참의(吏曹參議)가 되었다.</s><s> 이조참의(吏曹參議)가 되었다.</s><s> 이조참의(吏曹參議)가\n"
          ]
        }
      ]
    },
    {
      "cell_type": "markdown",
      "metadata": {
        "id": "UCeY_atbBMr7"
      },
      "source": [
        "결과는 틀림없이 더 유창하게 보이지만 여전히 동일한 Word sequence를 반복하는 문제를 포함합니다.\n",
        "\n",
        "단순한 해결법은 Paulus et al. (2017)과 Klein et al. (2017)의 논문에서 제안된 n-grams 패널티를 도입하는 것입니다. 가장 일반적인 n-grams 패널티는 이미 나타난 n-gram에 대해 다음 단어로 생성될 확률을 0으로 설정하여 두번 나타나지 않도록 하는 방법입니다.\n",
        "\n",
        "`no_repeat_ngram_size=2`을 설정한다면 2-gram이 두번 나타나는 것을 막을 수 있습니다."
      ]
    },
    {
      "cell_type": "code",
      "metadata": {
        "id": "jy3iVJgfnkMi",
        "colab": {
          "base_uri": "https://localhost:8080/"
        },
        "outputId": "0b100d0a-e3f5-4d1d-bac9-d77b61de5458"
      },
      "source": [
        "# set no_repeat_ngram_size to 2\n",
        "beam_output = model.generate(\n",
        "    input_ids,\n",
        "    max_length=50,\n",
        "    num_beams=5,    # num_beams=5는 5개의 후보 텍스트를 동시에 고려하여 가장 확률이 높은 텍스트를 선택\n",
        "    no_repeat_ngram_size=2, # n-gram 패널티 설정, 2-gram을 설정하여 생성된 텍스트에서 같은 2-gram (연속된 두 단어)이 반복되지 않도록 함.\n",
        "                            # 예를 들어, \"조선\"과 \"중기\"가 반복되지 않도록 패널티를 적용\n",
        "    early_stopping=True\n",
        ")\n",
        "\n",
        "print(\"Output:\\n\" + 100 * '-')\n",
        "print(tokenizer.decode(beam_output.tolist()[0], skip_special_tokens=True))\n"
      ],
      "execution_count": null,
      "outputs": [
        {
          "output_type": "stream",
          "name": "stdout",
          "text": [
            "Output:\n",
            "----------------------------------------------------------------------------------------------------\n",
            "이순신은 조선 중기의 무신이다.</s><s> 이 목록은 대한민국의 음악 목록에서 쓰이는 모든 곡들을 나열한 것이다.<ref name=\"font\"></a></ref></td> </tr></table> <p><a href=\"\n"
          ]
        }
      ]
    },
    {
      "cell_type": "markdown",
      "metadata": {
        "id": "qXTJqkIlFR4L"
      },
      "source": [
        "더이상 반복이 나타나지 않는 다는 것을 볼 수 있습니다. 하지만 n-gram 패널티는 신중하게 사용되어야 합니다. 예를 들면 city New York에 대해 생성된 기사는 n-gram을 사용하지 않는 것이 좋습니다. 2-gram을 사용하게 될 경우 시의 이름이 전체 텍스트에서 한 번만 나타나기 때문입니다.\n",
        "\n",
        "Beam search의 또 다른 중요한 특징은 생성된 Top beam을 비교하여 목적에 가장 적합한 Beam을 선택할 수 있다는 것입니다.\n",
        "\n",
        "Transformer에서 num_return_sequences 파라미터를 return 해야 하는 최대 num_beams 보다 작거나 같도록 설정합니다. `num_return_sequences <= num_beams`로 설정된 코드를 확인할 수 있습니다."
      ]
    },
    {
      "cell_type": "code",
      "metadata": {
        "id": "5ClO3VphqGp6",
        "colab": {
          "base_uri": "https://localhost:8080/"
        },
        "outputId": "83b7fc8a-3ef6-4e12-c861-cdd2e3322e93"
      },
      "source": [
        "# set return_num_sequences > 1\n",
        "beam_outputs = model.generate(\n",
        "    input_ids,\n",
        "    max_length=50,\n",
        "    num_beams=5,\n",
        "    no_repeat_ngram_size=2,\n",
        "    num_return_sequences=5, # 생성할 시퀀스의 개수를 5개로 설정. 즉, 모델은 5개의 다른 텍스트 시퀀스를 생성하여 반환\n",
        "    early_stopping=True\n",
        ")\n",
        "\n",
        "# now we have 5 output sequences\n",
        "print(\"Output:\\n\" + 100 * '-')\n",
        "for i, beam_output in enumerate(beam_outputs):\n",
        "  print(\"{}: {}\".format(i, tokenizer.decode(beam_output.tolist(), skip_special_tokens=True)))"
      ],
      "execution_count": null,
      "outputs": [
        {
          "output_type": "stream",
          "name": "stdout",
          "text": [
            "Output:\n",
            "----------------------------------------------------------------------------------------------------\n",
            "0: 이순신은 조선 중기의 무신이다.</s><s> 그 후, 그 해 12월 16일(음력 4월 15일)에 향년 60세를 일기로 타계하였다. &lt;삼국사기&gt;(三國史記)에는\n",
            "1: 이순신은 조선 중기의 무신이다.</s><s> 그 후, 그 해 12월 16일(음력 4월 15일)에 향년 60세를 일기로 타계하였다. &lt;삼국사기&gt;(三國史記)의\n",
            "2: 이순신은 조선 중기의 무신이다.</s><s> 그 후, 그 해 12월 16일(음력 4월 15일)에 향년 60세를 일기로 타계하였다. &lt;삼국사기&gt;(三國史記)는\n",
            "3: 이순신은 조선 중기의 무신이다.</s><s> 그 후, 그 해 12월 16일(음력 4월 15일)에 향년 60세를 일기로 타계하였다. &lt;삼국사기&gt;(三國史記)에서\n",
            "4: 이순신은 조선 중기의 무신이다.</s><s> 그 후, 그 해 12월 16일(음력 4월 15일)에 향년 60세를 일기로 타계하였다. &lt;삼국사기&gt;(三國史記)에서는\n"
          ]
        }
      ]
    },
    {
      "cell_type": "markdown",
      "metadata": {
        "id": "FyRYm1OUI0zN"
      },
      "source": [
        "코드 결과를 통해 볼수 있듯이 5개의 Beam hypotheses는 서로 약간 다를 뿐이며 5개만 사용했을 경우 놀랄만한 결과는 아닙니다.\n",
        "\n",
        "개방형 생성에서는 Beam search가 최선의 선택사항이 아닐수 있는 몇 가지 이유가 최근에 제시되었습니다.\n",
        "\n",
        "- Beam search는 Machine translation 또는 Text summarization처럼 원하는 문장 생성 길이가 예측 가능한 Task에서는 잘 작동할 수 있습니다. 하지만 Dialog 또는 Story Generation Task처럼 출력길이가 크게 달라질 수 있는 개방형 생성에서는 원활하게 작동하지 않습니다. (\n",
        "[Murray et al. (2018)](https://arxiv.org/abs/1808.10006), [Yang et al. (2018)](https://arxiv.org/abs/1808.09582))\n",
        "\n",
        "- Beam search은 반복 생성 문제에 취약합니다. 특히 Story Generation Task에서 n-gram또는 기타 패널티를 통해 문장을 제어하는 것이 어렵습니다. 왜냐하면 \"반복이 없는 구문\"과 \"n=gram반복 주기\" 사이에서 적당한 trade-off를 찾기 위해 많은 finetuning이 필요하기 때문입니다.\n",
        "\n",
        "- [Ari Holtzman et al. (2019)](https://arxiv.org/abs/1904.09751) 논문에 따르면 고품질 인간 언어는 높은 확률의 다음 단어 분포를 따르지 않는다고 주장합니다. 쉽게 말하자면 인간입장에서 우리는 지루하거나 예측 가능한 문장이 아니라 우리를 놀라게 할 수 있는 문장생성을 원한다고 합니다. 저자는 모델이 인간 텍스트 대비 beam search text를 그래프로 보여주면서 beam search text가 그다지 놀랍지 않은 문장이라는 것을 보여줬습니다.\n",
        "\n",
        "\n",
        "![alt text](https://blog.fastforwardlabs.com/images/2019/05/Screen_Shot_2019_05_08_at_3_06_36_PM-1557342561886.png)"
      ]
    },
    {
      "cell_type": "markdown",
      "metadata": {
        "id": "hWQ2EWfYRFJZ"
      },
      "source": [
        "### **Sampling**\n",
        "\n",
        "가장 기본적인 형태의 Sampling은 조건부 확률 분포에 따라 다음 단어 $w_t$를 무작위로 선택하는 것을 의미합니다.\n",
        "\n",
        "\n",
        "$$w_t \\sim P(w|w_{1:t-1})$$\n",
        "\n",
        "위의 예를 들어, 아래 사진은 Sampling할 때 언어 생성을 시각화한 형태입니다.\n",
        "\n",
        "\n",
        "![vanilla_sampling](https://raw.githubusercontent.com/patrickvonplaten/scientific_images/master/sampling_search.png)\n",
        "\n",
        "\n",
        "Sampling을 이용한 언어생성은 더이상 결정론적이지 않습니다. 단어\n",
        "$\\text{\"car\"}$ 는 조건부확률 $P(w | \\text{\"The\"})$에서 샘플링 된 후, $P(w | \\text{\"The\"}, \\text{\"car\"})$에서 $\\text{\"drives\"}$를 샘플링 합니다.\n",
        "\n",
        "\n",
        "\n",
        "`transformers`에서 `do_sample=True`를 설정하고 `top_k=0`을 통해 *Top-K* sampling을 비활성화 합니다."
      ]
    },
    {
      "cell_type": "code",
      "metadata": {
        "id": "aRAz4D-Ks0_4",
        "colab": {
          "base_uri": "https://localhost:8080/"
        },
        "outputId": "1d9167e2-d913-4805-b04f-8e4b80d0e3c9"
      },
      "source": [
        "# activate sampling and deactivate top_k by setting top_k sampling to 0\n",
        "# Sampling 기법을 사용하여 텍스트를 생성하는 방법 -> Top-k sampling을 비활성화하고 완전 무작위 샘플링을 사용하여 텍스트를 생성하도록 설정\n",
        "sample_output = model.generate(\n",
        "    input_ids,\n",
        "    do_sample=True, # 완전 random sampling\n",
        "    max_length=50,\n",
        "    top_k=0 # w/o top_k 추출 / top_k=0: top_k는 후보 단어들 중 상위 k개만 선택하는 방법으로, 0으로 설정하면 모든 단어가 선택될 수 있도록 해줌. (top_k 샘플링 비활성화)\n",
        ")\n",
        "\n",
        "print(\"Output:\\n\" + 100 * '-')\n",
        "print(tokenizer.decode(sample_output.tolist()[0], skip_special_tokens=True))"
      ],
      "execution_count": null,
      "outputs": [
        {
          "output_type": "stream",
          "name": "stdout",
          "text": [
            "Output:\n",
            "----------------------------------------------------------------------------------------------------\n",
            "이순신은 조선 중기의 무신이다.</s><s> 이밖에 '메달리스트 온라인 시스템'도 도입된다.</s><s> 선정된 올림픽 우수메달리스트 수상자는 메달메달 로비 및 스타 선수의 인터뷰 기회도 제공하고, 각종 경기 관련 이벤트도 부여될 예정이다.</s><s> 이와 함께\n"
          ]
        }
      ]
    },
    {
      "cell_type": "markdown",
      "metadata": {
        "id": "WWjxm9otWZgY"
      },
      "source": [
        "흥미롭게도 본문은 괜찮은 것 같지만 자세히 보면 매우 일관성 없는 문장입니다. *3-grams*의 *new hand sense* 와*local batte harness* 라는 문장은 이상하고 사람이 쓴것처럼 보이지 않습니다. 이것은 sampling word sequences를 할때 모델이 일관성없이 횡설수설하는 문장을 발생시키는 큰 문제입니다. ([Ari Holtzman et al. (2019)](https://arxiv.org/abs/1904.09751)).\n",
        "\n",
        "한가지 트릭은 [softmax](https://en.wikipedia.org/wiki/Softmax_function#Smooth_arg_max). 의 이른바 `temperature`를 낮추어 분포 $P(w|w_{1:t-1})$를 더 선명하게 만드는 것입니다. 높은 확률의 단어의 가능성은 증가시키고 낮은 확률의 단어 가능성은 감소시키는 효과가 있습니다.\n",
        "\n",
        "temperature를 적용한다면 다음과 같은 그림을 보일 수 있습니다.\n",
        "\n",
        "![top_p_sampling](https://github.com/patrickvonplaten/scientific_images/blob/master/sampling_search_with_temp.png?raw=true)\n",
        "\n",
        "step=1의 다음 단어 분포는 더욱 선명해졌기 때문에 단어 $\\text{\"car\"}$를 선택할 확률이 거의 없습니다.\n",
        "\n",
        "\n",
        "`temperature=0.7`를 설정하여 라이브러리에서 분포를 어떻게 변화시키는지 알아보겠습니다."
      ]
    },
    {
      "cell_type": "markdown",
      "source": [
        "![image.png](data:image/png;base64,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)"
      ],
      "metadata": {
        "id": "9RTUIk2513JA"
      }
    },
    {
      "cell_type": "code",
      "metadata": {
        "id": "WgJredc-0j0Z",
        "colab": {
          "base_uri": "https://localhost:8080/"
        },
        "outputId": "4a581e3e-a89f-429c-ff18-8fff7a46fca7"
      },
      "source": [
        "# use temperature to decrease the sensitivity to low probability candidates\n",
        "sample_output = model.generate(\n",
        "    input_ids,\n",
        "    do_sample=True,\n",
        "    max_length=50,\n",
        "    top_k=0,\n",
        "    temperature=0.7 # temperature 설정\n",
        ")\n",
        "\n",
        "print(\"Output:\\n\" + 100 * '-')\n",
        "print(tokenizer.decode(sample_output.tolist()[0], skip_special_tokens=True))"
      ],
      "execution_count": null,
      "outputs": [
        {
          "output_type": "stream",
          "name": "stdout",
          "text": [
            "Output:\n",
            "----------------------------------------------------------------------------------------------------\n",
            "이순신은 조선 중기의 무신이다.</s><s> 로베르토 벅스칼 역</s><s> 로베르토 벅스칼 역()은 일본 오사카부 오사카 시에 있는 철도역이다.</s><s> 특급은 2면 2선 구조의 지상역이다.</s><s> 시부야 역\n"
          ]
        }
      ]
    },
    {
      "cell_type": "markdown",
      "metadata": {
        "id": "wn_k6Bykf_vg"
      },
      "source": [
        "이제 이상한 n-gram이 적고 출력 문장이 조금 더 일관성 있게 생성됩니다. temperature를 적용하면 분포가 덜 랜덤하지만 `temperature` $ \\to 0$,을 설정한다면 temperature가 적용된 sampling은 greedy decoding과 같아지며 이전과 동일한 문제를 겪습니다."
      ]
    },
    {
      "cell_type": "markdown",
      "metadata": {
        "id": "KDhbxGrehxlz"
      },
      "source": [
        "### **Top-K Sampling**\n",
        "\n",
        "[Fan et. al (2018)](https://arxiv.org/pdf/1805.04833.pdf)\n",
        "\n",
        "***Top-K*** sampling은 간단하지만 매우 강력한 생플링 방식을 도입했습니다. . *Top-K* sampling에서 가장 가능성 높은 다음 단어는 필터링 되고 확률 질량은 K 다음 단어에만 재분배됩니다. GPT2는 Top-K Sampling방식을 채택했는데, 이것이 Story Gerneration Task에 성공한 이유중 하나입니다.\n",
        "\n",
        "Top-K Sampling을 더 잘 설명하기 위해 위의 예제에서 두 Sampling step에 사용되는 범위를 3단어에서 10단어로 확장합니다.\n",
        "\n",
        "![top_k_sampling](https://raw.githubusercontent.com/patrickvonplaten/scientific_images/master/top_k_sampling.png)\n",
        "\n",
        "\n",
        "K=6을 설정하면 두 Sampling steps에서 Sampling pool을 6개의 단어로 제한합니다. $V_{\\text{top-K}}$로 정의되는 가장 높은 6개의 단어로  sampling pool을 제한합니다.\n",
        "\n",
        "첫 step에서 전체 확률 질량의 2/3인 0.68정도에 해당하는 단어에서 디코딩되지만, 두번째 step에서 거의 모든 확률질량인 0.99에서 디코딩합니다.\n",
        "\n",
        "그럼에도 불구하고 그것이 두번째 sampling step에서 $\\text{\"not\", \"the\", \"small\", \"told\"}$ 와 같은 다소 이상한 후보들을 성공적으로 제거가 가능했습니다."
      ]
    },
    {
      "cell_type": "code",
      "metadata": {
        "id": "HBtDOdD0wx3l",
        "colab": {
          "base_uri": "https://localhost:8080/"
        },
        "outputId": "939191e9-1ba7-40e0-e66e-a9474b9689cd"
      },
      "source": [
        "# set top_k to 50\n",
        "# 확률 재조정: 선택된 K개의 단어들의 확률이 정규화(normalized) <- softmax를 통해 확률을 정규화\n",
        "sample_output = model.generate(\n",
        "    input_ids,\n",
        "    do_sample=True,\n",
        "    max_length=50,\n",
        "    top_k=50    # top_k=50은 Top-K 샘플링을 활성화. 모델이 예측한 단어들 중에서 가장 확률이 높은 상위 50개의 단어들만 선택하고, 그 중에서 하나를 샘플링하여 다음 단어를 생성\n",
        ")\n",
        "\n",
        "print(\"Output:\\n\" + 100 * '-')\n",
        "print(tokenizer.decode(sample_output.tolist()[0], skip_special_tokens=True))"
      ],
      "execution_count": null,
      "outputs": [
        {
          "output_type": "stream",
          "name": "stdout",
          "text": [
            "Output:\n",
            "----------------------------------------------------------------------------------------------------\n",
            "이순신은 조선 중기의 무신이다.</s><s> (예시) 1세.</s><s> 2세 = 2세.</s><s> (예시)</s><s> (예시)</s><s> (예시)</s><s> (예시)</s><s>\n"
          ]
        }
      ]
    },
    {
      "cell_type": "markdown",
      "source": [
        "나의 경우에는, 이상한 결과가 나옴."
      ],
      "metadata": {
        "id": "KfabQkLJ3SCI"
      }
    },
    {
      "cell_type": "markdown",
      "metadata": {
        "id": "dzeNQJNhr3EH"
      },
      "source": [
        "지금까지 기법중 가장 인간적으로 보이는 텍스트를 생성했습니다. Top-K Sampling의 한 가지 우려되는 점은 다음 단어 확률 분포 $P(w|w_{1:t-1})$에서 필터링된 단어 수를 동적으로 조정하지 않는 점입니다. 예를들면 위 그림에서 첫번째 step의 단어들은 전반적으로 평평한 분포에서 Sampling 되지만, 두번째 step의 어떤 단어들은 매우 Sharp한 분포에서 Sampling 될 수 있기 때문에 문제가 될 수 있습니다.\n",
        "\n",
        "\n",
        "Step $t=1$에서 Top-K은 꽤 합리적인 후보처럼 보이는 $\\text{\"people\", \"big\", \"house\", \"cat\"}$을 샘플링하는 가능성을 배제합니다. 반면에 Step $t=2$에서 단어 Sample pool에 단어 $\\text{\"down\", \"a\"}$와 같은 부적절한 단어를 포함합니다. 그러므로 Sample pool이 고정크기 K로 제한되면 모형이 Sharp한 분포에서 횡설수설한 단어를 고를 위험이있고 평평한 분포에서는 문장의 창의성이 제한될 수 있습니다. ([Ari Holtzman et al. (2019)](https://arxiv.org/abs/1904.09751))"
      ]
    },
    {
      "cell_type": "markdown",
      "metadata": {
        "id": "wV6AHjet0Slr"
      },
      "source": [
        "### **Top-p (nucleus) sampling**\n",
        "\n",
        "Top-p sampling은 가장 가능성 높은 단어 K 개에서만 Sample을 추출하는 방법이 아니라 누적확률이 확률 p를 초과하는 최소한의 단어 집합에서 Sample을 추출합니다.\n",
        "\n",
        "그 후 확률 질량이 단어 집합 사이에 재분배 됩니다. 이 방법은 다음 단어의 확률 분포에 따라 단어 집합의 크기가 동적으로 증가하거나 감소할 수 있습니다.\n",
        "\n",
        "![top_p_sampling](https://github.com/patrickvonplaten/scientific_images/blob/master/top_p_sampling.png?raw=true)\n",
        "\n",
        "\n",
        "\n",
        "$p=0.92$을 설정할 경우, 상위 p Sample 추출은 $V_{\\text{top-p}}$로 정의된 확률 질량의 $p=92\\%$를 초과할 최소 단어 수를 선택합니다.\n",
        "첫번째 예에서 가장 가능성 높은 9개의 단어 (\"nice\", \"dog\", \"car\" ...  house)가 포함된 반면, 두번째 예에서는 상위 3개의 단어(\"drives\", \"is\", \"turns\")만 선택해도 92%를 초과하게 됩니다. 즉 높은 확률의 단어에만 Sampling 하고 그렇지 않은 단어는 Sampling할 확률이 매우 적습니다."
      ]
    },
    {
      "cell_type": "code",
      "metadata": {
        "id": "EvwIc7YAx77F",
        "colab": {
          "base_uri": "https://localhost:8080/"
        },
        "outputId": "ea21bb5d-8033-4860-ca61-0f5450281b35"
      },
      "source": [
        "# deactivate top_k sampling and sample only from 92% most likely words\n",
        "sample_output = model.generate(\n",
        "    input_ids,\n",
        "    do_sample=True,\n",
        "    max_length=50,\n",
        "    top_p=0.92, # 모델이 확률 분포에서 상위 92%에 해당하는 단어들만 고려하도록 설정. 즉, 각 확률 값이 큰 단어들을 순서대로 정렬한 후, 그들의 누적 확률이 92%에 도달할 때까지 단어들을 선택\n",
        "    top_k=0\n",
        ")\n",
        "\n",
        "print(\"Output:\\n\" + 100 * '-')\n",
        "print(tokenizer.decode(sample_output.tolist()[0], skip_special_tokens=True))"
      ],
      "execution_count": null,
      "outputs": [
        {
          "output_type": "stream",
          "name": "stdout",
          "text": [
            "Output:\n",
            "----------------------------------------------------------------------------------------------------\n",
            "이순신은 조선 중기의 무신이다.</s><s> 놀란 눈을 가진 해피아는 사고를 터득하고 위기관리능력으로 남자들을 사로잡는다.</s><s> 8일 중구 대광고에서 열린 영화 '아이언맨3'(감독 셰인 로먼)제작\n"
          ]
        }
      ]
    },
    {
      "cell_type": "markdown",
      "metadata": {
        "id": "894AH8E03pv7"
      },
      "source": [
        "이론적으로는 Top-p가 Top-K보다 더 성능이 좋아 보이지만, 두 방법 모두 실제로 잘 작동합니다. Top-p는 또한 Top-K와 함께 사용될 수 있는데, 이것은 매우 낮은 순위의 단어를 피하면서도 일부 동적 선택을 허용할 수 있습니다.\n",
        "\n",
        "독립적으로 샘플링된 다중 출력을 얻기 위하여 파라미터를 다시 설정하도록 코드를 구성 할 수도 있습니다. `num_return_sequences > 1`:"
      ]
    },
    {
      "cell_type": "code",
      "metadata": {
        "id": "3kY8P9VG8Gi9",
        "colab": {
          "base_uri": "https://localhost:8080/"
        },
        "outputId": "b23ed599-e5c3-4f2b-9b1d-1d1029278f77"
      },
      "source": [
        "# set top_k = 50 and set top_p = 0.95 and num_return_sequences = 3\n",
        "sample_outputs = model.generate(\n",
        "    input_ids,\n",
        "    do_sample=True,\n",
        "    max_length=50,\n",
        "    top_k=20,\n",
        "    top_p=0.90,\n",
        "    num_return_sequences=3  # 주어진 입력에 대해 3개의 서로 다른 텍스트를 생성\n",
        ")\n",
        "\n",
        "print(\"Output:\\n\" + 100 * '-')\n",
        "for i, sample_output in enumerate(sample_outputs):\n",
        "  print(\"{}: {}\".format(i, tokenizer.decode(sample_output.tolist(), skip_special_tokens=True)))"
      ],
      "execution_count": null,
      "outputs": [
        {
          "output_type": "stream",
          "name": "stdout",
          "text": [
            "Output:\n",
            "----------------------------------------------------------------------------------------------------\n",
            "0: 이순신은 조선 중기의 무신이다.</s><s> \"나는 한없이 작은 사람\"이라고 밝힌 그는 \"그에 대한 나의 감정과는 별개로 나는 다른 사람들과 함께 있을 수 있다는 것 자체에 대해 나는 감사하고 있다\"고 덧붙였다.</s><s> 또한 그는 \"\n",
            "1: 이순신은 조선 중기의 무신이다.</s><s> 그러나 이 같은 상황은 10년 만에 찾아온 '마이너스 위기'에 가깝다.</s><s> 이 와중에 지난 10년 간 미국 경제의 '잃어버린 10년'과 '재정절벽'이 미국을 더\n",
            "2: 이순신은 조선 중기의 무신이다.</s><s> 그러나 이 또한 ‘귀하신 몸’이라는 것을 잘 설명해주지는 않는다.</s><s> 다만 그 존재는 ‘자신과 다른 것’이라는 것을 이해해주면 좋다.</s><s> 즉 자신의 몸을 ‘\n"
          ]
        }
      ]
    },
    {
      "cell_type": "markdown",
      "source": [
        "### **Analysis**\n"
      ],
      "metadata": {
        "id": "8sX8RzLHRrc2"
      }
    },
    {
      "cell_type": "markdown",
      "source": [
        "모델을 돌리고 분석한 점을 자유롭게 적어주세요!\n",
        "\n",
        "Your Opinion: 생각보다 한국어에서의 성능이 좋지 않다는 것을 알았고, 확률을 기반한 단어 생성으로 인해, 문법적으로 문장은 자연스러울 수 있으나, 실제 사실을 얘기하지 못한다는 것을 알 수 있다. 즉, 할루시네이션(Hallucination) 문제에 자유롭지 못하다고 할 수 있다."
      ],
      "metadata": {
        "id": "1PYW5ejORuMj"
      }
    },
    {
      "cell_type": "markdown",
      "metadata": {
        "id": "etg-3zdz4jQK"
      },
      "source": [
        "### **Conclusion**\n",
        "\n",
        "GPT를 포함한 생성형 언어모델을 활용하면서 중요하다 느낀 점들을 자유롭게 적어주세요!\n",
        "\n",
        "Your Opinion: 단순 확률이 높은 단어를 생성하는 것이 항상 좋은 것이 아님을 알 수 있었다. 또한, Beamsearch의 설명과 같이, 모델은 확률 기반으로 문장을 만들어내기에 예측 가능한 문장만을 생성하지만, 인간은 예측할 수 없는 놀라운 문장들도 만들어낸다는 점에서, 아직 NLP 분야는 발전해나갈 부분이 많다고 생각한다.\n",
        "\n",
        "해당 부분을 보완하기 위해, 강화학습 기법 및 RAG와 같은 여러 기술들이 반드시 필요하다고 생각한다.\n"
      ]
    },
    {
      "cell_type": "markdown",
      "source": [
        "### **References**\n",
        "\n",
        "*   ([Welleck et al. (2020)](https://arxiv.org/abs/2002.02492))\n",
        "*   ([Welleck et al. (2019)](https://arxiv.org/pdf/1908.04319.pdf))"
      ],
      "metadata": {
        "id": "U9GVxh6USEU1"
      }
    },
    {
      "cell_type": "code",
      "source": [],
      "metadata": {
        "id": "J9fgqODOBvPr"
      },
      "execution_count": null,
      "outputs": []
    }
  ]
}