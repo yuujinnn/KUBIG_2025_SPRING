{
  "cells": [
    {
      "cell_type": "code",
      "execution_count": null,
      "metadata": {
        "colab": {
          "base_uri": "https://localhost:8080/"
        },
        "id": "788bIp6LhF0U",
        "outputId": "bc3381dd-0bde-411f-8373-7804978a7c7b"
      },
      "outputs": [
        {
          "output_type": "stream",
          "name": "stderr",
          "text": [
            "/usr/local/lib/python3.11/dist-packages/dask/dataframe/__init__.py:42: FutureWarning: \n",
            "Dask dataframe query planning is disabled because dask-expr is not installed.\n",
            "\n",
            "You can install it with `pip install dask[dataframe]` or `conda install dask`.\n",
            "This will raise in a future version.\n",
            "\n",
            "  warnings.warn(msg, FutureWarning)\n"
          ]
        }
      ],
      "source": [
        "import pandas as pd\n",
        "import numpy as np\n",
        "import os\n",
        "import seaborn as sns\n",
        "import matplotlib.pyplot as plt\n",
        "import matplotlib.font_manager as fm\n",
        "from sklearn.preprocessing import LabelEncoder, StandardScaler\n",
        "from lightgbm import LGBMRegressor\n",
        "from sklearn.metrics import mean_squared_error\n",
        "from sklearn.model_selection import GridSearchCV\n",
        "import tempfile"
      ]
    },
    {
      "cell_type": "code",
      "execution_count": null,
      "metadata": {
        "colab": {
          "base_uri": "https://localhost:8080/"
        },
        "id": "wLaaOA6ahgZf",
        "outputId": "6bdb4ce4-3783-44fa-80fa-2f32680b20c0"
      },
      "outputs": [
        {
          "output_type": "stream",
          "name": "stdout",
          "text": [
            "Mounted at /content/drive\n"
          ]
        }
      ],
      "source": [
        "# 코랩 환경: 구글 드라이브를 코랩에 연동\n",
        "from google.colab import drive\n",
        "drive.mount('/content/drive')"
      ]
    },
    {
      "cell_type": "code",
      "execution_count": null,
      "metadata": {
        "id": "0xKHri_PhHHE",
        "colab": {
          "base_uri": "https://localhost:8080/"
        },
        "outputId": "251c8a6e-2ead-468b-847d-a9cfc16df0ee"
      },
      "outputs": [
        {
          "output_type": "stream",
          "name": "stdout",
          "text": [
            "Selecting previously unselected package fonts-nanum.\n",
            "(Reading database ... 124926 files and directories currently installed.)\n",
            "Preparing to unpack .../fonts-nanum_20200506-1_all.deb ...\n",
            "Unpacking fonts-nanum (20200506-1) ...\n",
            "Selecting previously unselected package fonts-nanum-coding.\n",
            "Preparing to unpack .../fonts-nanum-coding_2.5-3_all.deb ...\n",
            "Unpacking fonts-nanum-coding (2.5-3) ...\n",
            "Selecting previously unselected package fonts-nanum-eco.\n",
            "Preparing to unpack .../fonts-nanum-eco_1.000-7_all.deb ...\n",
            "Unpacking fonts-nanum-eco (1.000-7) ...\n",
            "Selecting previously unselected package fonts-nanum-extra.\n",
            "Preparing to unpack .../fonts-nanum-extra_20200506-1_all.deb ...\n",
            "Unpacking fonts-nanum-extra (20200506-1) ...\n",
            "Setting up fonts-nanum-extra (20200506-1) ...\n",
            "Setting up fonts-nanum (20200506-1) ...\n",
            "Setting up fonts-nanum-coding (2.5-3) ...\n",
            "Setting up fonts-nanum-eco (1.000-7) ...\n",
            "Processing triggers for fontconfig (2.13.1-4.2ubuntu5) ...\n"
          ]
        }
      ],
      "source": [
        "# 한글 폰트 설정하기\n",
        "!apt-get -qq install fonts-nanum*\n",
        "\n",
        "import matplotlib.font_manager as fm\n",
        "font_path = '/usr/share/fonts/truetype/nanum/NanumGothic.ttf'\n",
        "fm.fontManager.addfont(font_path)\n",
        "plt.rc('font', family='NanumGothic')"
      ]
    },
    {
      "cell_type": "code",
      "execution_count": null,
      "metadata": {
        "id": "xNfW-EeuhewC"
      },
      "outputs": [],
      "source": [
        "# 데이터 불러오기\n",
        "train = pd.read_csv('/content/drive/MyDrive/KUBIG_2025_WINTER_ML/train.csv')\n",
        "test = pd.read_csv('/content/drive/MyDrive/KUBIG_2025_WINTER_ML/test.csv')"
      ]
    },
    {
      "cell_type": "markdown",
      "metadata": {
        "id": "UUNen9-AhKRx"
      },
      "source": [
        "## 결측치 처리 - 배터리용량 mean"
      ]
    },
    {
      "cell_type": "code",
      "execution_count": null,
      "metadata": {
        "id": "9fGFkHbWhIKM"
      },
      "outputs": [],
      "source": [
        "# 결측치 처리\n",
        "train = train.assign(배터리용량=train['배터리용량'].fillna(train['배터리용량'].mean()))\n",
        "test = test.assign(배터리용량=test['배터리용량'].fillna(train['배터리용량'].mean()))"
      ]
    },
    {
      "cell_type": "code",
      "execution_count": null,
      "metadata": {
        "id": "0biPobTPhOCP"
      },
      "outputs": [],
      "source": [
        "x_train = train.drop(columns=['가격(백만원)'])\n",
        "y_train = train['가격(백만원)']\n",
        "x_test = test.copy()"
      ]
    },
    {
      "cell_type": "markdown",
      "metadata": {
        "id": "vObi5bKWhvBu"
      },
      "source": [
        "### 범주형 데이터 인코딩 - LabelEncoder"
      ]
    },
    {
      "cell_type": "code",
      "execution_count": null,
      "metadata": {
        "id": "BpYBISLdhw0v"
      },
      "outputs": [],
      "source": [
        "# 범주형 변수 레이블 인코딩\n",
        "categorical_features = [col for col in x_train.columns if x_train[col].dtype == 'object']\n",
        "\n",
        "for col in categorical_features:\n",
        "    le = LabelEncoder()\n",
        "    x_train[col] = le.fit_transform(x_train[col])\n",
        "    for case in np.unique(x_test[col]):\n",
        "        if case not in le.classes_:\n",
        "            le.classes_ = np.append(le.classes_, case)\n",
        "    x_test[col] = le.transform(x_test[col])"
      ]
    },
    {
      "cell_type": "markdown",
      "metadata": {
        "id": "FOG-01aTh2oZ"
      },
      "source": [
        "### scaling"
      ]
    },
    {
      "cell_type": "code",
      "execution_count": null,
      "metadata": {
        "id": "AJAbnkL9h4D-"
      },
      "outputs": [],
      "source": [
        "scaler = StandardScaler()\n",
        "x_train_scaled = scaler.fit_transform(x_train)\n",
        "x_test_scaled = scaler.transform(x_test)"
      ]
    },
    {
      "cell_type": "markdown",
      "metadata": {
        "id": "7qpKGIWgiAgd"
      },
      "source": []
    },
    {
      "cell_type": "code",
      "execution_count": null,
      "metadata": {
        "colab": {
          "base_uri": "https://localhost:8080/"
        },
        "id": "Qz45axw0iAp8",
        "outputId": "f9d313ba-beb0-46af-db89-fe31f5be3821"
      },
      "outputs": [
        {
          "output_type": "stream",
          "name": "stdout",
          "text": [
            "Fitting 5 folds for each of 54 candidates, totalling 270 fits\n"
          ]
        }
      ],
      "source": [
        "from sklearn.ensemble import RandomForestRegressor\n",
        "\n",
        "param_grid = {\n",
        "    'n_estimators': [100, 200],\n",
        "    'max_depth': [None, 10, 20],\n",
        "    'min_samples_split': [2, 5, 10],\n",
        "    'min_samples_leaf': [1, 2, 4]\n",
        "}\n",
        "\n",
        "rf_model = RandomForestRegressor(random_state=42)\n",
        "grid_search = GridSearchCV(rf_model, param_grid, cv=5, scoring='neg_mean_squared_error', n_jobs=-1, verbose=2)\n",
        "\n",
        "# 학습\n",
        "grid_search.fit(x_train_scaled, y_train)\n",
        "best_model = grid_search.best_estimator_"
      ]
    },
    {
      "cell_type": "markdown",
      "metadata": {
        "id": "xd0v88S3iDW9"
      },
      "source": []
    },
    {
      "cell_type": "code",
      "execution_count": null,
      "metadata": {
        "colab": {
          "base_uri": "https://localhost:8080/"
        },
        "id": "KW3phdG_iDfx",
        "outputId": "f03d2e3d-1739-424f-b91c-760c1219eb2e"
      },
      "outputs": [
        {
          "output_type": "stream",
          "name": "stdout",
          "text": [
            "훈련 데이터 RMSE: 1.0674\n"
          ]
        }
      ],
      "source": [
        "y_pred_train = best_model.predict(x_train_scaled)\n",
        "rmse_train = np.sqrt(mean_squared_error(y_train, y_pred_train))\n",
        "print(f\"훈련 데이터 RMSE: {rmse_train:.4f}\")"
      ]
    },
    {
      "cell_type": "markdown",
      "metadata": {
        "id": "egW11eJJiEOo"
      },
      "source": []
    },
    {
      "cell_type": "code",
      "execution_count": null,
      "metadata": {
        "colab": {
          "base_uri": "https://localhost:8080/"
        },
        "id": "lypzO8LWiEVx",
        "outputId": "4ee6effa-f961-4fee-ab4a-0eaa0554bccf"
      },
      "outputs": [
        {
          "output_type": "stream",
          "name": "stdout",
          "text": [
            "제출 파일이 성공적으로 저장되었습니다.\n"
          ]
        }
      ],
      "source": [
        "# 테스트 데이터 예측 수행\n",
        "pred = best_model.predict(x_test_scaled)\n",
        "\n",
        "# 결과 저장\n",
        "submit = pd.read_csv('/content/drive/MyDrive/KUBIG_2025_WINTER_ML/sample_submission.csv')\n",
        "submit['가격(백만원)'] = pred\n",
        "submit.to_csv('/content/drive/MyDrive/KUBIG_2025_WINTER_ML/submission_rf_0219.csv', index=False)\n",
        "\n",
        "print(\"제출 파일이 성공적으로 저장되었습니다.\")"
      ]
    }
  ],
  "metadata": {
    "colab": {
      "provenance": []
    },
    "kernelspec": {
      "display_name": "Python 3",
      "name": "python3"
    },
    "language_info": {
      "name": "python"
    }
  },
  "nbformat": 4,
  "nbformat_minor": 0
}